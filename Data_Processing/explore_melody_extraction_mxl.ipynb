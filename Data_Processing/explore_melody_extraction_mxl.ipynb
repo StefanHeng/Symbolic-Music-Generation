{
 "cells": [
  {
   "cell_type": "markdown",
   "source": [
    "# Explore extracting melody\n",
    "Since Fri. Nov. 23rd, 2021\n",
    "\n",
    "\n",
    "`music21` has better support on extracting melody, given low-level music note support,\n",
    "and it seems to work better with Music XML files.\n",
    "\n",
    "\n",
    "\n",
    "## Setup\n",
    "\n"
   ],
   "metadata": {
    "collapsed": false
   }
  },
  {
   "cell_type": "code",
   "execution_count": 1,
   "metadata": {
    "collapsed": true,
    "pycharm": {
     "name": "#%%\n"
    }
   },
   "outputs": [
    {
     "name": "stderr",
     "output_type": "stream",
     "text": [
      "ic| eg_songs(fmt='MXL'): ['/Users/stefanh/Documents/UMich/Research/Music with NLP/datasets/MXL-eg/Joe '\n",
      "                          'Hisaishi - Merry Go Round of Life (bitmidi).mxl']\n"
     ]
    },
    {
     "data": {
      "text/plain": "['/Users/stefanh/Documents/UMich/Research/Music with NLP/datasets/MXL-eg/Joe Hisaishi - Merry Go Round of Life (bitmidi).mxl']"
     },
     "execution_count": 1,
     "metadata": {},
     "output_type": "execute_result"
    }
   ],
   "source": [
    "from icecream import ic\n",
    "\n",
    "from util import *\n",
    "from util import MidoUtil as Mu, PrettyMidiUtil as Pmu\n",
    "from melody_extractor import MelodyExtractor\n",
    "\n",
    "\n",
    "songs = eg_songs(fmt='MXL')\n",
    "ic(songs)\n",
    "\n"
   ]
  },
  {
   "cell_type": "markdown",
   "source": [
    "## Get the bar with maximum average pitch\n",
    "\n",
    "\n",
    "### Merry Go Round of Life\n"
   ],
   "metadata": {
    "collapsed": false
   }
  },
  {
   "cell_type": "code",
   "execution_count": 2,
   "outputs": [
    {
     "name": "stderr",
     "output_type": "stream",
     "text": [
      "ic| fnm: ('/Users/stefanh/Documents/UMich/Research/Music with NLP/datasets/MXL-eg/Joe '\n",
      "          'Hisaishi - Merry Go Round of Life (bitmidi).mxl')\n"
     ]
    },
    {
     "data": {
      "text/plain": "'/Users/stefanh/Documents/UMich/Research/Music with NLP/datasets/MXL-eg/Joe Hisaishi - Merry Go Round of Life (bitmidi).mxl'"
     },
     "execution_count": 2,
     "metadata": {},
     "output_type": "execute_result"
    }
   ],
   "source": [
    "fnm = eg_songs(k='Merry Go Round', fmt='MXL')\n",
    "ic(fnm)\n",
    "\n",
    "\n"
   ],
   "metadata": {
    "collapsed": false,
    "pycharm": {
     "name": "#%%\n"
    }
   }
  }
 ],
 "metadata": {
  "kernelspec": {
   "display_name": "Python 3",
   "language": "python",
   "name": "python3"
  },
  "language_info": {
   "codemirror_mode": {
    "name": "ipython",
    "version": 2
   },
   "file_extension": ".py",
   "mimetype": "text/x-python",
   "name": "python",
   "nbconvert_exporter": "python",
   "pygments_lexer": "ipython2",
   "version": "2.7.6"
  }
 },
 "nbformat": 4,
 "nbformat_minor": 0
}