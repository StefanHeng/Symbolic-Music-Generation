{
 "cells": [
  {
   "cell_type": "markdown",
   "source": [
    "# Play MIDI files\n",
    "Since Tues. Nov. 9th, 2021\n",
    "\n",
    "\n",
    "Sampling random midi files to check quality, e.g. from the dataset, would be more convenient if we can play all in python\n",
    "\n",
    "\n",
    "## Set up"
   ],
   "metadata": {
    "collapsed": false
   }
  },
  {
   "cell_type": "code",
   "execution_count": 1,
   "outputs": [
    {
     "name": "stderr",
     "output_type": "stream",
     "text": [
      "ic| paths[:3]: ['/Users/stefanh/Documents/UMich/Research/Music with '\n",
      "                'NLP/datasets/Lakh-MIDI-Dataset/LMD-Matched/A/A/A/TRAAAGR128F425B14B/1d9d16a9da90c090809c153754823c2b.mid',\n",
      "                '/Users/stefanh/Documents/UMich/Research/Music with '\n",
      "                'NLP/datasets/Lakh-MIDI-Dataset/LMD-Matched/A/A/A/TRAAAGR128F425B14B/5dd29e99ed7bd3cc0c5177a6e9de22ea.mid',\n",
      "                '/Users/stefanh/Documents/UMich/Research/Music with '\n",
      "                'NLP/datasets/Lakh-MIDI-Dataset/LMD-Matched/A/A/A/TRAAAGR128F425B14B/b97c529ab9ef783a849b896816001748.mid']\n"
     ]
    },
    {
     "data": {
      "text/plain": "['/Users/stefanh/Documents/UMich/Research/Music with NLP/datasets/Lakh-MIDI-Dataset/LMD-Matched/A/A/A/TRAAAGR128F425B14B/1d9d16a9da90c090809c153754823c2b.mid',\n '/Users/stefanh/Documents/UMich/Research/Music with NLP/datasets/Lakh-MIDI-Dataset/LMD-Matched/A/A/A/TRAAAGR128F425B14B/5dd29e99ed7bd3cc0c5177a6e9de22ea.mid',\n '/Users/stefanh/Documents/UMich/Research/Music with NLP/datasets/Lakh-MIDI-Dataset/LMD-Matched/A/A/A/TRAAAGR128F425B14B/b97c529ab9ef783a849b896816001748.mid']"
     },
     "execution_count": 1,
     "metadata": {},
     "output_type": "execute_result"
    }
   ],
   "source": [
    "from icecream import ic\n",
    "\n",
    "from util import *\n",
    "\n",
    "\n",
    "paths = get_midi_paths('LMD_matched')\n",
    "ic(paths[:3])\n",
    "\n"
   ],
   "metadata": {
    "collapsed": false,
    "pycharm": {
     "name": "#%%\n"
    }
   }
  },
  {
   "cell_type": "markdown",
   "source": [
    "## pygame\n",
    "See `play_midi.py`\n",
    "\n"
   ],
   "metadata": {
    "collapsed": false,
    "pycharm": {
     "name": "#%% md\n"
    }
   }
  }
 ],
 "metadata": {
  "kernelspec": {
   "display_name": "Python 3",
   "language": "python",
   "name": "python3"
  },
  "language_info": {
   "codemirror_mode": {
    "name": "ipython",
    "version": 2
   },
   "file_extension": ".py",
   "mimetype": "text/x-python",
   "name": "python",
   "nbconvert_exporter": "python",
   "pygments_lexer": "ipython2",
   "version": "2.7.6"
  }
 },
 "nbformat": 4,
 "nbformat_minor": 0
}