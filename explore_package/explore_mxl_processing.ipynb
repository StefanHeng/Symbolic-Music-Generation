{
 "cells": [
  {
   "cell_type": "markdown",
   "source": [
    "# Parse Music XML files instead\n",
    "Sine Sat. Nov. 13th, 2021\n",
    "\n",
    "\n",
    "\n",
    "`From Merry Go Round of Life` MIDI file is a challenging one if just to process the raw MIDI file,\n",
    "due to quality of transcription, where there's slight times where time signature changes, and that comes with many tempos\n",
    "\n",
    "Hopefully there's some way to process the symbolic representation in Music XML format,\n",
    "as we need to get the bar separations,\n",
    "i.e. each bar contains the corresponding notes\n",
    "\n",
    "\n",
    "## Setup\n",
    "\n"
   ],
   "metadata": {
    "collapsed": false,
    "pycharm": {
     "name": "#%% md\n"
    }
   }
  },
  {
   "cell_type": "code",
   "execution_count": 1,
   "outputs": [],
   "source": [
    "import os\n",
    "\n",
    "import pandas as pd\n",
    "import music21\n",
    "from icecream import ic\n",
    "\n",
    "from util import *\n",
    "\n"
   ],
   "metadata": {
    "collapsed": false,
    "pycharm": {
     "name": "#%%\n"
    }
   }
  },
  {
   "cell_type": "markdown",
   "source": [
    "## music21\n",
    "\n",
    "`From Merry Go Round of Life` MIDI file, exported using `MuseScore`\n",
    "\n"
   ],
   "metadata": {
    "collapsed": false
   }
  },
  {
   "cell_type": "code",
   "execution_count": 2,
   "metadata": {
    "collapsed": true,
    "pycharm": {
     "name": "#%%\n"
    }
   },
   "outputs": [
    {
     "name": "stderr",
     "output_type": "stream",
     "text": [
      "ic| fnm: ('/Users/stefanh/Documents/UMich/Research/Music with NLP/datasets/MIDI-eg/Joe '\n",
      "          'Hisaishi - Merry Go Round of Life (bitmidi).mxl')\n",
      "ic| df.head(6):   start duration  pitch  velocity instrument\n",
      "                0   6.0      0.5   70.0       1.0      Piano\n",
      "                1   6.0      0.5   74.0       1.0      Piano\n",
      "                2   6.5      0.5   72.0       1.0      Piano\n",
      "                3   6.5      0.5   75.0       1.0      Piano\n",
      "                4   7.0      0.5   70.0       1.0      Piano\n",
      "                5   7.0      0.5   74.0       1.0      Piano\n"
     ]
    },
    {
     "data": {
      "text/plain": "  start duration  pitch  velocity instrument\n0   6.0      0.5   70.0       1.0      Piano\n1   6.0      0.5   74.0       1.0      Piano\n2   6.5      0.5   72.0       1.0      Piano\n3   6.5      0.5   75.0       1.0      Piano\n4   7.0      0.5   70.0       1.0      Piano\n5   7.0      0.5   74.0       1.0      Piano",
      "text/html": "<div>\n<style scoped>\n    .dataframe tbody tr th:only-of-type {\n        vertical-align: middle;\n    }\n\n    .dataframe tbody tr th {\n        vertical-align: top;\n    }\n\n    .dataframe thead th {\n        text-align: right;\n    }\n</style>\n<table border=\"1\" class=\"dataframe\">\n  <thead>\n    <tr style=\"text-align: right;\">\n      <th></th>\n      <th>start</th>\n      <th>duration</th>\n      <th>pitch</th>\n      <th>velocity</th>\n      <th>instrument</th>\n    </tr>\n  </thead>\n  <tbody>\n    <tr>\n      <th>0</th>\n      <td>6.0</td>\n      <td>0.5</td>\n      <td>70.0</td>\n      <td>1.0</td>\n      <td>Piano</td>\n    </tr>\n    <tr>\n      <th>1</th>\n      <td>6.0</td>\n      <td>0.5</td>\n      <td>74.0</td>\n      <td>1.0</td>\n      <td>Piano</td>\n    </tr>\n    <tr>\n      <th>2</th>\n      <td>6.5</td>\n      <td>0.5</td>\n      <td>72.0</td>\n      <td>1.0</td>\n      <td>Piano</td>\n    </tr>\n    <tr>\n      <th>3</th>\n      <td>6.5</td>\n      <td>0.5</td>\n      <td>75.0</td>\n      <td>1.0</td>\n      <td>Piano</td>\n    </tr>\n    <tr>\n      <th>4</th>\n      <td>7.0</td>\n      <td>0.5</td>\n      <td>70.0</td>\n      <td>1.0</td>\n      <td>Piano</td>\n    </tr>\n    <tr>\n      <th>5</th>\n      <td>7.0</td>\n      <td>0.5</td>\n      <td>74.0</td>\n      <td>1.0</td>\n      <td>Piano</td>\n    </tr>\n  </tbody>\n</table>\n</div>"
     },
     "execution_count": 2,
     "metadata": {},
     "output_type": "execute_result"
    }
   ],
   "source": [
    "dset = 'MIDI_EG'\n",
    "dir_nm = config(f'{DIR_DSET}.{dset}.dir_nm')\n",
    "fnm = os.path.join(\n",
    "    PATH_BASE,\n",
    "    DIR_DSET,\n",
    "    dir_nm,\n",
    "    'Joe Hisaishi - Merry Go Round of Life (bitmidi).mxl'\n",
    ")\n",
    "ic(fnm)\n",
    "\n",
    "\n",
    "def get_notes(fl):\n",
    "    # Modified from https://www.audiolabs-erlangen.de/resources/MIR/FMP/C1/C1S2_MusicXML.html\n",
    "    \"\"\"\n",
    "    Convert a music xml file to a list of note events\n",
    "\n",
    "    :param fl: MusicXML file path or `music21.stream.Score`\n",
    "    :returns: score: List of `[start, duration, pitch, velocity, instrument]`\n",
    "    \"\"\"\n",
    "    if isinstance(fl, str):\n",
    "        fl = music21.converter.parse(fl)\n",
    "\n",
    "    def _get_part(p_):\n",
    "        instr = p_.getInstrument().instrumentName\n",
    "\n",
    "        def _get(note_):\n",
    "            strt = note_.offset\n",
    "            dur_ = note_.quarterLength\n",
    "            vol = note_.volume.realized\n",
    "            def _one(pitch):\n",
    "                return strt, dur_, pitch, vol, instr\n",
    "\n",
    "            return [_one(p__.ps) for p__ in note_.pitches] if note_.isChord else [_one(note_.pitch.ps)]\n",
    "        return flatten([_get(n_) for n_ in p_.flat.notes])\n",
    "    notes = flatten([_get_part(p_) for p_ in fl.parts])\n",
    "    return sorted(notes, key=lambda x: (x[0], x[2]))\n",
    "\n",
    "\n",
    "lst_notes = get_notes(fnm)\n",
    "df = pd.DataFrame(lst_notes, columns=['start', 'duration', 'pitch', 'velocity', 'instrument'])\n",
    "ic(df.head(6))\n",
    "\n"
   ]
  },
  {
   "cell_type": "markdown",
   "source": [
    "### Parse an MXL\n",
    "Following [User’s Guide, Chapter 6: Streams (II): Hierarchies, Recursion, and Flattening]\n",
    "(https://web.mit.edu/music21/doc/usersGuide/usersGuide_06_stream2.html#accessing-scores-parts-measures-and-notes)\n",
    "\n"
   ],
   "metadata": {
    "collapsed": false
   }
  },
  {
   "cell_type": "code",
   "execution_count": 12,
   "outputs": [
    {
     "name": "stderr",
     "output_type": "stream",
     "text": [
      "ic| s: <music21.stream.Score 0x16bab9730>\n",
      "    type(s): <class 'music21.stream.base.Score'>\n",
      "    len(s): 6\n",
      "ic| idx: 0, e: <music21.metadata.Metadata object at 0x16bfeee80>\n",
      "ic| idx: 1, e: <music21.stream.Part Violin, CH #1>\n",
      "ic| idx: 2, e: <music21.stream.Part Piano, CH #2>\n",
      "ic| idx: 3, e: <music21.stream.Part Piano, CH #3>\n",
      "ic| idx: 4, e: <music21.stream.Part Piano, CH #4>\n",
      "ic| idx: 5, e: <music21.layout.ScoreLayout>\n",
      "ic| '\\n': '\n",
      "           '\n",
      "ic| p: <music21.stream.Part Violin, CH #1>\n",
      "ic| p: <music21.stream.Part Piano, CH #2>\n",
      "ic| p: <music21.stream.Part Piano, CH #3>\n",
      "ic| p: <music21.stream.Part Piano, CH #4>\n",
      "ic| '\\n': '\n",
      "           '\n",
      "ic| e: <music21.metadata.Metadata object at 0x16bfeee80>\n",
      "ic| e: <music21.stream.Part Violin, CH #1>\n",
      "ic| e: <music21.instrument.Violin 'P1: Violin, CH #1: Violin'>\n",
      "ic| e: <music21.stream.Measure 0 offset=0.0>\n",
      "ic| e: <music21.layout.SystemLayout>\n",
      "ic| e: <music21.clef.TrebleClef>\n",
      "ic| e: <music21.tempo.MetronomeMark Quarter=240.0>\n",
      "ic| e: <music21.key.KeySignature of 1 flat>\n",
      "ic| e: <music21.meter.TimeSignature 3/4>\n",
      "ic| e: <music21.note.Rest dotted-half>\n",
      "ic| e: <music21.stream.Measure 1 offset=3.0>\n",
      "ic| e: <music21.tempo.MetronomeMark Quarter=104.0>\n",
      "ic| e: <music21.note.Rest dotted-half>\n",
      "ic| e: <music21.stream.Measure 2 offset=6.0>\n",
      "ic| e: <music21.note.Rest dotted-half>\n",
      "ic| e: <music21.stream.Measure 3 offset=9.0>\n",
      "ic| e: <music21.note.Rest dotted-half>\n",
      "ic| e: <music21.stream.Measure 4 offset=12.0>\n",
      "ic| e: <music21.note.Rest dotted-half>\n",
      "ic| e: <music21.tempo.MetronomeMark maestoso Quarter=88.0>\n",
      "ic| e: <music21.stream.Measure 5 offset=15.0>\n",
      "ic| e: <music21.tempo.MetronomeMark Quarter=172.0>\n",
      "ic| e: <music21.note.Rest dotted-half>\n",
      "ic| e: <music21.tempo.MetronomeMark vivacissimo Quarter=166.0>\n",
      "ic| e: <music21.tempo.MetronomeMark Quarter=163.0>\n",
      "ic| e: <music21.tempo.MetronomeMark vivace Quarter=159.0>\n",
      "ic| e: <music21.tempo.MetronomeMark Quarter=152.0>\n",
      "ic| e: <music21.tempo.MetronomeMark molto allegro Quarter=145.0>\n",
      "ic| e: <music21.tempo.MetronomeMark allegrissimo Quarter=141.0>\n",
      "ic| e: <music21.tempo.MetronomeMark Quarter=123.0>\n"
     ]
    }
   ],
   "source": [
    "s = music21.converter.parse(fnm)\n",
    "ic(s, type(s), len(s))\n",
    "# ic(vars(s))\n",
    "\n",
    "for idx, e in enumerate(s):\n",
    "    ic(idx, e)\n",
    "ic('\\n')\n",
    "\n",
    "for p in s.parts:\n",
    "    ic(p)\n",
    "ic('\\n')\n",
    "\n",
    "for e in list(s.recurse())[:30]:\n",
    "    ic(e)\n",
    "\n"
   ],
   "metadata": {
    "collapsed": false,
    "pycharm": {
     "name": "#%%\n"
    }
   }
  },
  {
   "cell_type": "markdown",
   "source": [
    "### How do I get the bars?\n",
    "The **Accessing Scores, Parts, Measures, and Notes** section\n",
    "\n"
   ],
   "metadata": {
    "collapsed": false
   }
  },
  {
   "cell_type": "code",
   "execution_count": 4,
   "outputs": [
    {
     "name": "stderr",
     "output_type": "stream",
     "text": [
      "ic| part_ch2: <music21.stream.Part Piano, CH #2>\n",
      "ic| part_ch2.measure(1): <music21.stream.Measure 1 offset=3.0>\n",
      "ic| m: <music21.instrument.Piano 'P2: Piano, CH #2: Piano'>\n",
      "    type(m): <class 'music21.instrument.Piano'>\n",
      "ic| m: <music21.stream.Measure 0 offset=0.0>\n",
      "    type(m): <class 'music21.stream.base.Measure'>\n",
      "ic| m: <music21.stream.Measure 1 offset=3.0>\n",
      "    type(m): <class 'music21.stream.base.Measure'>\n",
      "ic| m: <music21.stream.Measure 2 offset=6.0>\n",
      "    type(m): <class 'music21.stream.base.Measure'>\n",
      "ic| m: <music21.stream.Measure 3 offset=9.0>\n",
      "    type(m): <class 'music21.stream.base.Measure'>\n",
      "ic| len(measures): 167\n",
      "    type(measures): <class 'music21.stream.base.Part'>\n",
      "    type(measures[0]): <class 'music21.instrument.Piano'>\n",
      "    type(part_ch2.measure(0)): <class 'music21.stream.base.Measure'>\n"
     ]
    },
    {
     "data": {
      "image/png": "[encoded data removed]",
      "text/plain": "<IPython.core.display.Image object>"
     },
     "metadata": {
      "image/png": {
       "width": 727,
       "height": 302
      }
     },
     "output_type": "display_data"
    },
    {
     "name": "stderr",
     "output_type": "stream",
     "text": [
      "ic| measures.show(): None\n"
     ]
    }
   ],
   "source": [
    "part_ch2: music21.stream.Part = s[2]\n",
    "ic(part_ch2)\n",
    "ic(part_ch2.measure(1))\n",
    "measures = part_ch2.measures(numberStart=0, numberEnd=None)  # Get all measures\n",
    "for m in list(measures)[:5]:\n",
    "    ic(m, type(m))\n",
    "\n",
    "ic(len(measures), type(measures), type(measures[0]), type(part_ch2.measure(0)))\n",
    "ic(measures.show())\n",
    "\n"
   ],
   "metadata": {
    "collapsed": false,
    "pycharm": {
     "name": "#%%\n"
    }
   }
  },
  {
   "cell_type": "markdown",
   "source": [
    "# Does all channels have the same number of measures?\n",
    "Looks like the first/0-th measure of any part is always a special instrument measure\n",
    "\n"
   ],
   "metadata": {
    "collapsed": false
   }
  },
  {
   "cell_type": "code",
   "execution_count": 5,
   "outputs": [
    {
     "name": "stderr",
     "output_type": "stream",
     "text": [
      "ic| len(p.measures(numberStart=0, numberEnd=None)): 167\n",
      "ic| len(p.measures(numberStart=0, numberEnd=None)): 167\n",
      "ic| len(p.measures(numberStart=0, numberEnd=None)): 167\n",
      "ic| len(p.measures(numberStart=0, numberEnd=None)): 167\n",
      "ic| m: <music21.instrument.Violin 'P1: Violin, CH #1: Violin'>\n",
      "ic| m: <music21.stream.Measure 0 offset=0.0>\n",
      "ic| m: <music21.stream.Measure 1 offset=3.0>\n",
      "ic| m: <music21.stream.Measure 2 offset=6.0>\n",
      "ic| m: <music21.stream.Measure 3 offset=9.0>\n",
      "ic| m: <music21.stream.Measure 4 offset=12.0>\n",
      "ic| m: <music21.stream.Measure 5 offset=15.0>\n",
      "ic| m: <music21.stream.Measure 6 offset=18.0>\n",
      "ic| m: <music21.stream.Measure 7 offset=21.0>\n",
      "ic| m: <music21.stream.Measure 8 offset=24.0>\n",
      "ic| m: <music21.stream.Measure 9 offset=26.0>\n",
      "ic| m: <music21.stream.Measure 10 offset=29.0>\n"
     ]
    }
   ],
   "source": [
    "for p in s.parts:\n",
    "    ic(len(p.measures(numberStart=0, numberEnd=None)))\n",
    "\n",
    "\n",
    "part_ch1 = s.parts[0]\n",
    "for m in part_ch1.measures(numberStart=0, numberEnd=10):\n",
    "    ic(m)\n",
    "\n"
   ],
   "metadata": {
    "collapsed": false,
    "pycharm": {
     "name": "#%%\n"
    }
   }
  },
  {
   "cell_type": "markdown",
   "source": [
    "### Get the notes in a measure\n",
    "#### A chord\n",
    "We have the duration of each notes\n",
    "\n"
   ],
   "metadata": {
    "collapsed": false
   }
  },
  {
   "cell_type": "code",
   "execution_count": 6,
   "outputs": [
    {
     "data": {
      "image/png": "[encoded data removed]",
      "text/plain": "<IPython.core.display.Image object>"
     },
     "metadata": {
      "image/png": {
       "width": 727,
       "height": 156
      }
     },
     "output_type": "display_data"
    },
    {
     "name": "stderr",
     "output_type": "stream",
     "text": [
      "ic| len(m.notes): 6\n",
      "ic| chd: <music21.chord.Chord B-4 D5>\n",
      "ic| chd: <music21.chord.Chord C5 E-5>\n",
      "ic| chd: <music21.chord.Chord B-4 D5>\n",
      "ic| chd: <music21.chord.Chord C5 E-5>\n",
      "ic| chd: <music21.chord.Chord B-4 D5>\n",
      "ic| chd: <music21.chord.Chord C5 E-5>\n",
      "ic| chd.notes: (<music21.note.Note B->, <music21.note.Note D>)\n",
      "ic| chd.fullName: 'Chord {B-flat in octave 4 | D in octave 5} Eighth'\n",
      "ic| type(chd.duration): <class 'music21.duration.Duration'>\n",
      "ic| dur: <music21.duration.Duration 0.5>\n"
     ]
    },
    {
     "data": {
      "text/plain": "<music21.duration.Duration 0.5>"
     },
     "execution_count": 6,
     "metadata": {},
     "output_type": "execute_result"
    }
   ],
   "source": [
    "m = part_ch2.measure(2)\n",
    "m.show()\n",
    "ic(len(m.notes)) # The 1st non-empty measure\n",
    "for chd in m.notes:\n",
    "    ic(chd)\n",
    "\n",
    "chd: music21.chord.Chord = m.notes[0]  # A Chord, which contains multiple notes\n",
    "ic(chd.notes)\n",
    "ic(chd.fullName)\n",
    "# ic(vars(chd))\n",
    "ic(type(chd.duration))\n",
    "dur: music21.duration.Duration = chd.duration\n",
    "ic(dur)  # 0.5 means half of time span of a quarter note\n",
    "\n"
   ],
   "metadata": {
    "collapsed": false,
    "pycharm": {
     "name": "#%%\n"
    }
   }
  },
  {
   "cell_type": "markdown",
   "source": [
    "#### Notes in a chord\n",
    "\n"
   ],
   "metadata": {
    "collapsed": false
   }
  },
  {
   "cell_type": "code",
   "execution_count": 7,
   "outputs": [
    {
     "name": "stderr",
     "output_type": "stream",
     "text": [
      "ic| note: <music21.note.Note B->\n",
      "ic| vars(note): {'_activeSite': None,\n",
      "                 '_activeSiteStoredOffset': None,\n",
      "                 '_cache': {},\n",
      "                 '_chordAttached': <music21.chord.Chord B-4 D5>,\n",
      "                 '_derivation': <Derivation of <music21.note.Note B-> from None>,\n",
      "                 '_duration': <music21.duration.Duration 0.5>,\n",
      "                 '_editorial': None,\n",
      "                 '_naiveOffset': 0.0,\n",
      "                 '_notehead': 'normal',\n",
      "                 '_noteheadFill': None,\n",
      "                 '_noteheadParenthesis': False,\n",
      "                 '_priority': 0,\n",
      "                 '_stemDirection': 'down',\n",
      "                 '_storedInstrument': None,\n",
      "                 '_style': <music21.style.NoteStyle object at 0x16b917580>,\n",
      "                 '_volume': <music21.volume.Volume realized=1.0>,\n",
      "                 'articulations': [],\n",
      "                 'beams': <music21.beam.Beams>,\n",
      "                 'expressions': [],\n",
      "                 'groups': [],\n",
      "                 'id': 6189679328,\n",
      "                 'linkage': 'tie',\n",
      "                 'lyrics': [],\n",
      "                 'pitch': <music21.pitch.Pitch B-4>,\n",
      "                 'sites': <music21.sites.Sites object at 0x16b925680>,\n",
      "                 'tie': None}\n"
     ]
    },
    {
     "data": {
      "text/plain": "{'_activeSite': None,\n '_naiveOffset': 0.0,\n '_activeSiteStoredOffset': None,\n '_derivation': <Derivation of <music21.note.Note B-> from None>,\n '_style': <music21.style.NoteStyle object at 0x16b917580>,\n '_editorial': None,\n '_duration': <music21.duration.Duration 0.5>,\n '_priority': 0,\n '_cache': {},\n 'id': 6189679328,\n 'groups': [],\n 'sites': <music21.sites.Sites at 0x16b925680>,\n 'lyrics': [],\n 'expressions': [],\n 'articulations': [],\n 'tie': None,\n '_notehead': 'normal',\n '_noteheadFill': None,\n '_noteheadParenthesis': False,\n '_stemDirection': 'down',\n '_volume': <music21.volume.Volume realized=1.0>,\n 'linkage': 'tie',\n 'beams': <music21.beam.Beams>,\n '_storedInstrument': None,\n '_chordAttached': <music21.chord.Chord B-4 D5>,\n 'pitch': <music21.pitch.Pitch B-4>}"
     },
     "execution_count": 7,
     "metadata": {},
     "output_type": "execute_result"
    }
   ],
   "source": [
    "note: music21.note.Note = chd.notes[0]\n",
    "ic(note)\n",
    "ic(vars(note))\n",
    "\n"
   ],
   "metadata": {
    "collapsed": false,
    "pycharm": {
     "name": "#%%\n"
    }
   }
  },
  {
   "cell_type": "markdown",
   "source": [
    "#### Get notes start time relative to a measure?\n",
    "Doesn't seem to be part of the `Note` object, is it inferred instead, based on the sequential ordering of `.notes`\n",
    "\n"
   ],
   "metadata": {
    "collapsed": false
   }
  },
  {
   "cell_type": "code",
   "execution_count": 8,
   "outputs": [
    {
     "name": "stderr",
     "output_type": "stream",
     "text": [
      "ic| note.offset: 0.0\n",
      "ic| m.notes[3].notes[1].offset: 0.0\n"
     ]
    },
    {
     "data": {
      "text/plain": "0.0"
     },
     "execution_count": 8,
     "metadata": {},
     "output_type": "execute_result"
    }
   ],
   "source": [
    "# ic(note._naiveOffset)\n",
    "ic(note.offset)\n",
    "\n",
    "ic(m.notes[3].notes[1].offset)\n",
    "\n"
   ],
   "metadata": {
    "collapsed": false,
    "pycharm": {
     "name": "#%%\n"
    }
   }
  },
  {
   "cell_type": "markdown",
   "source": [
    "##### Confirm assumption with another measure\n",
    "Confirmed, seems like concurrent notes in the same time slot is clusted into a whole chord\n",
    "\n"
   ],
   "metadata": {
    "collapsed": false
   }
  },
  {
   "cell_type": "code",
   "execution_count": 9,
   "outputs": [
    {
     "name": "stderr",
     "output_type": "stream",
     "text": [
      "ic| len(m.notes): 3\n",
      "ic| n: <music21.chord.Chord F#4 A4>\n",
      "    n.duration: <music21.duration.Duration 0.5>\n",
      "    len(n.notes): 2\n",
      "ic| n: <music21.chord.Chord E4 G4>\n",
      "    n.duration: <music21.duration.Duration 0.5>\n",
      "    len(n.notes): 2\n",
      "ic| n: <music21.chord.Chord E-4 F#4>\n",
      "    n.duration: <music21.duration.Duration 2.0>\n",
      "    len(n.notes): 2\n"
     ]
    }
   ],
   "source": [
    "m = part_ch2.measure(5)\n",
    "# m.show()\n",
    "\n",
    "ic(len(m.notes))\n",
    "for n in m.notes:\n",
    "    ic(n, n.duration, len(n.notes))\n",
    "\n"
   ],
   "metadata": {
    "collapsed": false,
    "pycharm": {
     "name": "#%%\n"
    }
   }
  },
  {
   "cell_type": "markdown",
   "source": [
    "#### A chord has an offset instead\n",
    "Looks like the correct `offset` is stored one level below the measure object, which makes sense\n",
    "\n"
   ],
   "metadata": {
    "collapsed": false
   }
  },
  {
   "cell_type": "code",
   "execution_count": 10,
   "outputs": [
    {
     "name": "stderr",
     "output_type": "stream",
     "text": [
      "ic| n: <music21.chord.Chord F#4 A4>, n.offset: 0.0\n",
      "ic| n: <music21.chord.Chord E4 G4>, n.offset: 0.5\n",
      "ic| n: <music21.chord.Chord E-4 F#4>, n.offset: 1.0\n"
     ]
    }
   ],
   "source": [
    "for n in m.notes:\n",
    "    ic(n, n.offset)\n",
    "\n"
   ],
   "metadata": {
    "collapsed": false,
    "pycharm": {
     "name": "#%%\n"
    }
   }
  },
  {
   "cell_type": "markdown",
   "source": [
    "### Get pitch for a note\n",
    "The numeric representation\n"
   ],
   "metadata": {
    "collapsed": false
   }
  },
  {
   "cell_type": "code",
   "execution_count": 11,
   "outputs": [
    {
     "name": "stderr",
     "output_type": "stream",
     "text": [
      "ic| note: <music21.note.Note B->, p: <music21.pitch.Pitch B-4>\n",
      "ic| vars(p): {'_accidental': <music21.pitch.Accidental flat>,\n",
      "              '_client': <music21.note.Note B->,\n",
      "              '_groups': None,\n",
      "              '_microtone': None,\n",
      "              '_octave': 4,\n",
      "              '_overridden_freq440': None,\n",
      "              '_step': 'B',\n",
      "              'defaultOctave': 4,\n",
      "              'fundamental': None,\n",
      "              'spellingIsInferred': False}\n",
      "    dir(p): ['_DOC_ATTR',\n",
      "             '_DOC_ORDER',\n",
      "             '__annotations__',\n",
      "             '__class__',\n",
      "             '__deepcopy__',\n",
      "             '__delattr__',\n",
      "             '__dict__',\n",
      "             '__dir__',\n",
      "             '__doc__',\n",
      "             '__eq__',\n",
      "             '__format__',\n",
      "             '__ge__',\n",
      "             '__getattribute__',\n",
      "             '__gt__',\n",
      "             '__hash__',\n",
      "             '__init__',\n",
      "             '__init_subclass__',\n",
      "             '__le__',\n",
      "             '__lt__',\n",
      "             '__module__',\n",
      "             '__ne__',\n",
      "             '__new__',\n",
      "             '__reduce__',\n",
      "             '__reduce_ex__',\n",
      "             '__repr__',\n",
      "             '__setattr__',\n",
      "             '__sizeof__',\n",
      "             '__slots__',\n",
      "             '__str__',\n",
      "             '__subclasshook__',\n",
      "             '__weakref__',\n",
      "             '_accidental',\n",
      "             '_classListFullyQualifiedCacheDict',\n",
      "             '_classSetCacheDict',\n",
      "             '_classTupleCacheDict',\n",
      "             '_client',\n",
      "             '_getEnharmonicHelper',\n",
      "             '_getSpanishCardinal',\n",
      "             '_getSpanishSolfege',\n",
      "             '_groups',\n",
      "             '_microtone',\n",
      "             '_nameInKeySignature',\n",
      "             '_octave',\n",
      "             '_overridden_freq440',\n",
      "             '_reprInternal',\n",
      "             '_step',\n",
      "             '_stepInKeySignature',\n",
      "             '_transpositionIntervals',\n",
      "             '_twelfth_root_of_two',\n",
      "             'accidental',\n",
      "             'alter',\n",
      "             'classSet',\n",
      "             'classes',\n",
      "             'convertMicrotonesToQuarterTones',\n",
      "             'convertQuarterTonesToMicrotones',\n",
      "             'defaultOctave',\n",
      "             'diatonicNoteNum',\n",
      "             'french',\n",
      "             'freq440',\n",
      "             'frequency',\n",
      "             'fullName',\n",
      "             'fundamental',\n",
      "             'german',\n",
      "             'getAllCommonEnharmonics',\n",
      "             'getCentShiftFromMidi',\n",
      "             'getEnharmonic',\n",
      "             'getHarmonic',\n",
      "             'getHigherEnharmonic',\n",
      "             'getLowerEnharmonic',\n",
      "             'getStringHarmonic',\n",
      "             'groups',\n",
      "             'harmonicAndFundamentalFromPitch',\n",
      "             'harmonicAndFundamentalStringFromPitch',\n",
      "             'harmonicFromFundamental',\n",
      "             'harmonicString',\n",
      "             'implicitOctave',\n",
      "             'informClient',\n",
      "             'isClassOrSubclass',\n",
      "             'isEnharmonic',\n",
      "             'isTwelveTone',\n",
      "             'italian',\n",
      "             'microtone',\n",
      "             'midi',\n",
      "             'name',\n",
      "             'nameWithOctave',\n",
      "             'octave',\n",
      "             'pitchClass',\n",
      "             'pitchClassString',\n",
      "             'ps',\n",
      "             'simplifyEnharmonic',\n",
      "             'spanish',\n",
      "             'spellingIsInferred',\n",
      "             'step',\n",
      "             'transpose',\n",
      "             'transposeAboveTarget',\n",
      "             'transposeBelowTarget',\n",
      "             'unicodeName',\n",
      "             'unicodeNameWithOctave',\n",
      "             'updateAccidentalDisplay']\n",
      "ic| p.midi: 70\n"
     ]
    },
    {
     "data": {
      "text/plain": "70"
     },
     "execution_count": 11,
     "metadata": {},
     "output_type": "execute_result"
    }
   ],
   "source": [
    "p = note.pitch\n",
    "# ic(vars(note))\n",
    "ic(note, p)\n",
    "ic(vars(p), dir(p))\n",
    "ic(p.midi)\n",
    "\n"
   ],
   "metadata": {
    "collapsed": false,
    "pycharm": {
     "name": "#%%\n"
    }
   }
  }
 ],
 "metadata": {
  "kernelspec": {
   "display_name": "Python 3",
   "language": "python",
   "name": "python3"
  },
  "language_info": {
   "codemirror_mode": {
    "name": "ipython",
    "version": 2
   },
   "file_extension": ".py",
   "mimetype": "text/x-python",
   "name": "python",
   "nbconvert_exporter": "python",
   "pygments_lexer": "ipython2",
   "version": "2.7.6"
  }
 },
 "nbformat": 4,
 "nbformat_minor": 0
}