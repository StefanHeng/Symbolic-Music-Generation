{
 "cells": [
  {
   "cell_type": "markdown",
   "source": [
    "# Parse Music XML files instead\n",
    "Sine Sat. Nov. 13th, 2021\n",
    "\n",
    "\n",
    "\n",
    "`From Merry Go Round of Life` MIDI file is a challenging one if just to process the raw MIDI file,\n",
    "due to quality of transcription, where there's slight times where time signature changes, and that comes with many tempos\n",
    "\n",
    "Hopefully there's some way to process the symbolic representation in Music XML format,\n",
    "as we need to get the bar separations,\n",
    "i.e. each bar contains the corresponding notes\n",
    "\n",
    "\n",
    "## Setup\n",
    "\n"
   ],
   "metadata": {
    "collapsed": false,
    "pycharm": {
     "name": "#%% md\n"
    }
   }
  },
  {
   "cell_type": "code",
   "execution_count": 1,
   "outputs": [],
   "source": [
    "import os\n",
    "\n",
    "import pandas as pd\n",
    "import music21\n",
    "from icecream import ic\n",
    "\n",
    "from util import *\n",
    "\n",
    "\n",
    "m2u = Music21Util()\n",
    "\n"
   ],
   "metadata": {
    "collapsed": false,
    "pycharm": {
     "name": "#%%\n"
    }
   }
  },
  {
   "cell_type": "markdown",
   "source": [
    "## music21\n",
    "\n",
    "`From Merry Go Round of Life` MIDI file, exported using `MuseScore`\n",
    "\n",
    "\n",
    "### Extract some note info example\n",
    "From [Symbolic Format: MIDI](https://www.audiolabs-erlangen.de/resources/MIR/FMP/C1/C1S2_MIDI.html)\n",
    "\n"
   ],
   "metadata": {
    "collapsed": false
   }
  },
  {
   "cell_type": "code",
   "execution_count": 2,
   "metadata": {
    "collapsed": true,
    "pycharm": {
     "name": "#%%\n"
    }
   },
   "outputs": [
    {
     "name": "stderr",
     "output_type": "stream",
     "text": [
      "ic| fnm: ('/Users/stefanh/Documents/UMich/Research/Music with NLP/datasets/MXL-eg/Joe '\n",
      "          'Hisaishi - Merry Go Round of Life (bitmidi).mxl')\n",
      "ic| df.head(6):   start duration  pitch  velocity instrument\n",
      "                0   6.0      0.5   70.0       1.0      Piano\n",
      "                1   6.0      0.5   74.0       1.0      Piano\n",
      "                2   6.5      0.5   72.0       1.0      Piano\n",
      "                3   6.5      0.5   75.0       1.0      Piano\n",
      "                4   7.0      0.5   70.0       1.0      Piano\n",
      "                5   7.0      0.5   74.0       1.0      Piano\n"
     ]
    },
    {
     "data": {
      "text/plain": "  start duration  pitch  velocity instrument\n0   6.0      0.5   70.0       1.0      Piano\n1   6.0      0.5   74.0       1.0      Piano\n2   6.5      0.5   72.0       1.0      Piano\n3   6.5      0.5   75.0       1.0      Piano\n4   7.0      0.5   70.0       1.0      Piano\n5   7.0      0.5   74.0       1.0      Piano",
      "text/html": "<div>\n<style scoped>\n    .dataframe tbody tr th:only-of-type {\n        vertical-align: middle;\n    }\n\n    .dataframe tbody tr th {\n        vertical-align: top;\n    }\n\n    .dataframe thead th {\n        text-align: right;\n    }\n</style>\n<table border=\"1\" class=\"dataframe\">\n  <thead>\n    <tr style=\"text-align: right;\">\n      <th></th>\n      <th>start</th>\n      <th>duration</th>\n      <th>pitch</th>\n      <th>velocity</th>\n      <th>instrument</th>\n    </tr>\n  </thead>\n  <tbody>\n    <tr>\n      <th>0</th>\n      <td>6.0</td>\n      <td>0.5</td>\n      <td>70.0</td>\n      <td>1.0</td>\n      <td>Piano</td>\n    </tr>\n    <tr>\n      <th>1</th>\n      <td>6.0</td>\n      <td>0.5</td>\n      <td>74.0</td>\n      <td>1.0</td>\n      <td>Piano</td>\n    </tr>\n    <tr>\n      <th>2</th>\n      <td>6.5</td>\n      <td>0.5</td>\n      <td>72.0</td>\n      <td>1.0</td>\n      <td>Piano</td>\n    </tr>\n    <tr>\n      <th>3</th>\n      <td>6.5</td>\n      <td>0.5</td>\n      <td>75.0</td>\n      <td>1.0</td>\n      <td>Piano</td>\n    </tr>\n    <tr>\n      <th>4</th>\n      <td>7.0</td>\n      <td>0.5</td>\n      <td>70.0</td>\n      <td>1.0</td>\n      <td>Piano</td>\n    </tr>\n    <tr>\n      <th>5</th>\n      <td>7.0</td>\n      <td>0.5</td>\n      <td>74.0</td>\n      <td>1.0</td>\n      <td>Piano</td>\n    </tr>\n  </tbody>\n</table>\n</div>"
     },
     "execution_count": 2,
     "metadata": {},
     "output_type": "execute_result"
    }
   ],
   "source": [
    "# dset = 'MXL_EG'\n",
    "# dir_nm = config(f'{DIR_DSET}.{dset}.dir_nm')\n",
    "# dir_nm = os.path.join(PATH_BASE, DIR_DSET, dir_nm)\n",
    "# fnm = os.path.join(dir_nm, 'Joe Hisaishi - Merry Go Round of Life (bitmidi).mxl')\n",
    "fnm = eg_songs(k='Merry Go Round', fmt='MXL')\n",
    "ic(fnm)\n",
    "\n",
    "\n",
    "def get_notes(fl):\n",
    "    # Modified from https://www.audiolabs-erlangen.de/resources/MIR/FMP/C1/C1S2_MusicXML.html\n",
    "    \"\"\"\n",
    "    Convert a music xml file to a list of note events\n",
    "\n",
    "    :param fl: MusicXML file path or `music21.stream.Score`\n",
    "    :returns: score: List of `[start, duration, pitch, velocity, instrument]`\n",
    "    \"\"\"\n",
    "    if isinstance(fl, str):\n",
    "        fl = music21.converter.parse(fl)\n",
    "\n",
    "    def _get_part(p_):\n",
    "        instr = p_.getInstrument().instrumentName\n",
    "\n",
    "        def _get(note_):\n",
    "            strt = note_.offset\n",
    "            dur_ = note_.quarterLength\n",
    "            vol = note_.volume.realized\n",
    "            def _one(pitch):\n",
    "                return strt, dur_, pitch, vol, instr\n",
    "\n",
    "            return [_one(p__.ps) for p__ in note_.pitches] if note_.isChord else [_one(note_.pitch.ps)]\n",
    "        return flatten([_get(n_) for n_ in p_.flat.notes])\n",
    "    notes = flatten([_get_part(p_) for p_ in fl.parts])\n",
    "    return sorted(notes, key=lambda x: (x[0], x[2]))\n",
    "\n",
    "\n",
    "lst_notes = get_notes(fnm)\n",
    "df = pd.DataFrame(lst_notes, columns=['start', 'duration', 'pitch', 'velocity', 'instrument'])\n",
    "ic(df.head(6))\n",
    "\n"
   ]
  },
  {
   "cell_type": "markdown",
   "source": [
    "### Parse an MXL\n",
    "Following [User’s Guide, Chapter 6: Streams (II): Hierarchies, Recursion, and Flattening]\n",
    "(https://web.mit.edu/music21/doc/usersGuide/usersGuide_06_stream2.html#accessing-scores-parts-measures-and-notes)\n",
    "\n"
   ],
   "metadata": {
    "collapsed": false
   }
  },
  {
   "cell_type": "code",
   "execution_count": 3,
   "outputs": [
    {
     "name": "stderr",
     "output_type": "stream",
     "text": [
      "ic| scr: <music21.stream.Score 0x140a67f10>\n",
      "    type(scr): <class 'music21.stream.base.Score'>\n",
      "    len(scr): 6\n",
      "ic| '\\n': '\n",
      "           '\n",
      "ic| idx: 0, elm: <music21.metadata.Metadata object at 0x140a67d00>\n",
      "ic| idx: 1, elm: <music21.stream.Part Violin, CH #1>\n",
      "ic| idx: 2, elm: <music21.stream.Part Piano, CH #2>\n",
      "ic| idx: 3, elm: <music21.stream.Part Piano, CH #3>\n",
      "ic| idx: 4, elm: <music21.stream.Part Piano, CH #4>\n",
      "ic| idx: 5, elm: <music21.layout.ScoreLayout>\n",
      "ic| '\\n': '\n",
      "           '\n",
      "ic| part: <music21.stream.Part Violin, CH #1>\n",
      "ic| part: <music21.stream.Part Piano, CH #2>\n",
      "ic| part: <music21.stream.Part Piano, CH #3>\n",
      "ic| part: <music21.stream.Part Piano, CH #4>\n",
      "ic| '\\n': '\n",
      "           '\n",
      "ic| elm: <music21.metadata.Metadata object at 0x140a67d00>\n",
      "ic| elm: <music21.stream.Part Violin, CH #1>\n",
      "ic| elm: <music21.instrument.Violin 'P1: Violin, CH #1: Violin'>\n",
      "ic| elm: <music21.stream.Measure 0 offset=0.0>\n",
      "ic| elm: <music21.layout.SystemLayout>\n",
      "ic| elm: <music21.clef.TrebleClef>\n",
      "ic| elm: <music21.tempo.MetronomeMark Quarter=240.0>\n",
      "ic| elm: <music21.key.KeySignature of 1 flat>\n",
      "ic| elm: <music21.meter.TimeSignature 3/4>\n",
      "ic| elm: <music21.note.Rest dotted-half>\n",
      "ic| elm: <music21.stream.Measure 1 offset=3.0>\n",
      "ic| elm: <music21.tempo.MetronomeMark Quarter=104.0>\n",
      "ic| elm: <music21.note.Rest dotted-half>\n",
      "ic| elm: <music21.stream.Measure 2 offset=6.0>\n",
      "ic| elm: <music21.note.Rest dotted-half>\n",
      "ic| elm: <music21.stream.Measure 3 offset=9.0>\n",
      "ic| elm: <music21.note.Rest dotted-half>\n",
      "ic| elm: <music21.stream.Measure 4 offset=12.0>\n",
      "ic| elm: <music21.note.Rest dotted-half>\n",
      "ic| elm: <music21.tempo.MetronomeMark maestoso Quarter=88.0>\n",
      "ic| elm: <music21.stream.Measure 5 offset=15.0>\n",
      "ic| elm: <music21.tempo.MetronomeMark Quarter=172.0>\n",
      "ic| elm: <music21.note.Rest dotted-half>\n",
      "ic| elm: <music21.tempo.MetronomeMark vivacissimo Quarter=166.0>\n",
      "ic| elm: <music21.tempo.MetronomeMark Quarter=163.0>\n",
      "ic| elm: <music21.tempo.MetronomeMark vivace Quarter=159.0>\n",
      "ic| elm: <music21.tempo.MetronomeMark Quarter=152.0>\n",
      "ic| elm: <music21.tempo.MetronomeMark molto allegro Quarter=145.0>\n",
      "ic| elm: <music21.tempo.MetronomeMark allegrissimo Quarter=141.0>\n",
      "ic| elm: <music21.tempo.MetronomeMark Quarter=123.0>\n"
     ]
    }
   ],
   "source": [
    "scr = music21.converter.parse(fnm)\n",
    "ic(scr, type(scr), len(scr))\n",
    "# ic(vars(s))\n",
    "ic('\\n')\n",
    "\n",
    "for idx, elm in enumerate(scr):\n",
    "    ic(idx, elm)\n",
    "ic('\\n')\n",
    "\n",
    "for part in scr.parts:\n",
    "    ic(part)\n",
    "ic('\\n')\n",
    "\n",
    "for elm in list(scr.recurse())[:30]:\n",
    "    ic(elm)\n",
    "\n"
   ],
   "metadata": {
    "collapsed": false,
    "pycharm": {
     "name": "#%%\n"
    }
   }
  },
  {
   "cell_type": "markdown",
   "source": [
    "### How do I get the bars?\n",
    "The **Accessing Scores, Parts, Measures, and Notes** section\n",
    "\n"
   ],
   "metadata": {
    "collapsed": false
   }
  },
  {
   "cell_type": "code",
   "execution_count": 4,
   "outputs": [
    {
     "name": "stderr",
     "output_type": "stream",
     "text": [
      "ic| part_ch2: <music21.stream.Part Piano, CH #2>\n",
      "ic| part_ch2.measure(1): <music21.stream.Measure 1 offset=3.0>\n",
      "ic| bar: <music21.instrument.Piano 'P2: Piano, CH #2: Piano'>\n",
      "    type(bar): <class 'music21.instrument.Piano'>\n",
      "ic| bar: <music21.stream.Measure 0 offset=0.0>\n",
      "    type(bar): <class 'music21.stream.base.Measure'>\n",
      "ic| bar: <music21.stream.Measure 1 offset=3.0>\n",
      "    type(bar): <class 'music21.stream.base.Measure'>\n",
      "ic| bar: <music21.stream.Measure 2 offset=6.0>\n",
      "    type(bar): <class 'music21.stream.base.Measure'>\n",
      "ic| bar: <music21.stream.Measure 3 offset=9.0>\n",
      "    type(bar): <class 'music21.stream.base.Measure'>\n",
      "ic| len(bar): 6\n",
      "    type(bar): <class 'music21.stream.base.Measure'>\n",
      "    type(bar[0]): <class 'music21.chord.Chord'>\n",
      "    type(part_ch2.measure(0)): <class 'music21.stream.base.Measure'>\n"
     ]
    },
    {
     "data": {
      "image/png": "[encoded data removed]",
      "text/plain": "<IPython.core.display.Image object>"
     },
     "metadata": {
      "image/png": {
       "width": 727,
       "height": 156
      }
     },
     "output_type": "display_data"
    },
    {
     "name": "stderr",
     "output_type": "stream",
     "text": [
      "ic| bar.show(): None\n"
     ]
    }
   ],
   "source": [
    "part_ch2: music21.stream.Part = scr[2]\n",
    "ic(part_ch2)\n",
    "ic(part_ch2.measure(1))\n",
    "bar = part_ch2.measures(numberStart=0, numberEnd=None)  # Get all measures\n",
    "for bar in list(bar)[:5]:\n",
    "    ic(bar, type(bar))\n",
    "\n",
    "ic(len(bar), type(bar), type(bar[0]), type(part_ch2.measure(0)))\n",
    "ic(bar.show())\n",
    "\n"
   ],
   "metadata": {
    "collapsed": false,
    "pycharm": {
     "name": "#%%\n"
    }
   }
  },
  {
   "cell_type": "markdown",
   "source": [
    "# Does all channels have the same number of measures?\n",
    "Looks like the first/0-th measure of any part is always a special instrument measure\n",
    "\n"
   ],
   "metadata": {
    "collapsed": false
   }
  },
  {
   "cell_type": "code",
   "execution_count": 5,
   "outputs": [
    {
     "name": "stderr",
     "output_type": "stream",
     "text": [
      "ic| len(part.measures(numberStart=0, numberEnd=None)): 167\n",
      "ic| len(part.measures(numberStart=0, numberEnd=None)): 167\n",
      "ic| len(part.measures(numberStart=0, numberEnd=None)): 167\n",
      "ic| len(part.measures(numberStart=0, numberEnd=None)): 167\n",
      "ic| bar: <music21.instrument.Violin 'P1: Violin, CH #1: Violin'>\n",
      "ic| bar: <music21.stream.Measure 0 offset=0.0>\n",
      "ic| bar: <music21.stream.Measure 1 offset=3.0>\n",
      "ic| bar: <music21.stream.Measure 2 offset=6.0>\n",
      "ic| bar: <music21.stream.Measure 3 offset=9.0>\n",
      "ic| bar: <music21.stream.Measure 4 offset=12.0>\n",
      "ic| bar: <music21.stream.Measure 5 offset=15.0>\n",
      "ic| bar: <music21.stream.Measure 6 offset=18.0>\n",
      "ic| bar: <music21.stream.Measure 7 offset=21.0>\n",
      "ic| bar: <music21.stream.Measure 8 offset=24.0>\n",
      "ic| bar: <music21.stream.Measure 9 offset=26.0>\n",
      "ic| bar: <music21.stream.Measure 10 offset=29.0>\n"
     ]
    }
   ],
   "source": [
    "for part in scr.parts:\n",
    "    ic(len(part.measures(numberStart=0, numberEnd=None)))\n",
    "\n",
    "\n",
    "part_ch1 = scr.parts[0]\n",
    "for bar in part_ch1.measures(numberStart=0, numberEnd=10):\n",
    "    ic(bar)\n",
    "\n"
   ],
   "metadata": {
    "collapsed": false,
    "pycharm": {
     "name": "#%%\n"
    }
   }
  },
  {
   "cell_type": "markdown",
   "source": [
    "### Get the notes in a measure\n",
    "#### A chord\n",
    "We have the duration of each notes\n",
    "\n"
   ],
   "metadata": {
    "collapsed": false
   }
  },
  {
   "cell_type": "code",
   "execution_count": 6,
   "outputs": [
    {
     "name": "stderr",
     "output_type": "stream",
     "text": [
      "ic| vars(bar): {'_activeSite': <weakref at 0x141625e50; to 'Part' at 0x14178bc40>,\n",
      "                '_activeSiteStoredOffset': 6.0,\n",
      "                '_atSoundingPitch': 'unknown',\n",
      "                '_cache': {'Duration': <music21.duration.Duration 3.0>,\n",
      "                           'HighestTime': 3.0,\n",
      "                           'elementTree-1660146515803662822': <ElementTree {0} (-inf to inf) <music21.stream.Measure 2 offset=6.0>>,\n",
      "                           'elementTree-3560468672769709333': <ElementTree {0} (-inf to inf) <music21.stream.Measure 2 offset=6.0>>,\n",
      "                           'elementTree-4759930920499913495': <ElementTree {0} (-inf to inf) <music21.stream.Measure 2 offset=6.0>>,\n",
      "                           'elementTree-5648164873522904116': <ElementTree {0} (-inf to inf) <music21.stream.Measure 2 offset=6.0>>,\n",
      "                           'elementTree-7208978228042804821': <ElementTree {0} (-inf to inf) <music21.stream.Measure 2 offset=6.0>>,\n",
      "                           'elementTree3664069640903597098': <ElementTree {0} (-inf to inf) <music21.stream.Measure 2 offset=6.0>>,\n",
      "                           'elementTree5006009247258627631': <ElementTree {0} (-inf to inf) <music21.stream.Measure 2 offset=6.0>>,\n",
      "                           'elementTree8235044673657740664': <ElementTree {0} (-inf to inf) <music21.stream.Measure 2 offset=6.0>>,\n",
      "                           'elements': [<music21.chord.Chord B-4 D5>,\n",
      "                                        <music21.chord.Chord C5 E-5>,\n",
      "                                        <music21.chord.Chord B-4 D5>,\n",
      "                                        <music21.chord.Chord C5 E-5>,\n",
      "                                        <music21.chord.Chord B-4 D5>,\n",
      "                                        <music21.chord.Chord C5 E-5>]},\n",
      "                '_derivation': None,\n",
      "                '_duration': None,\n",
      "                '_editorial': None,\n",
      "                '_elements': [<music21.chord.Chord B-4 D5>,\n",
      "                              <music21.chord.Chord C5 E-5>,\n",
      "                              <music21.chord.Chord B-4 D5>,\n",
      "                              <music21.chord.Chord C5 E-5>,\n",
      "                              <music21.chord.Chord B-4 D5>,\n",
      "                              <music21.chord.Chord C5 E-5>],\n",
      "                '_endElements': [],\n",
      "                '_mutable': True,\n",
      "                '_naiveOffset': 0.0,\n",
      "                '_offsetDict': {5393399568: (0.0, <music21.chord.Chord B-4 D5>),\n",
      "                                5393494176: (0.5, <music21.chord.Chord C5 E-5>),\n",
      "                                5393494512: (1.0, <music21.chord.Chord B-4 D5>),\n",
      "                                5393494848: (1.5, <music21.chord.Chord C5 E-5>),\n",
      "                                5393495184: (2.0, <music21.chord.Chord B-4 D5>),\n",
      "                                5393495520: (2.5, <music21.chord.Chord C5 E-5>)},\n",
      "                '_priority': 0,\n",
      "                '_style': None,\n",
      "                '_unlinkedDuration': None,\n",
      "                'autoSort': True,\n",
      "                'clefIsNew': False,\n",
      "                'definesExplicitPageBreaks': False,\n",
      "                'definesExplicitSystemBreaks': False,\n",
      "                'filled': False,\n",
      "                'groups': ['P2'],\n",
      "                'id': 5393399520,\n",
      "                'isFlat': True,\n",
      "                'isSorted': True,\n",
      "                'keyIsNew': False,\n",
      "                'layoutWidth': 163.94,\n",
      "                'number': 2,\n",
      "                'numberSuffix': None,\n",
      "                'paddingLeft': 0,\n",
      "                'paddingRight': 0,\n",
      "                'sites': <music21.sites.Sites object at 0x1417a1c00>,\n",
      "                'streamStatus': <music21.stream.streamStatus.StreamStatus object at 0x1417a0640>,\n",
      "                'timeSignatureIsNew': False}\n",
      "    dir(bar): ['_DOC_ATTR',\n",
      "               '_DOC_ORDER',\n",
      "               '__add__',\n",
      "               '__annotations__',\n",
      "               '__bool__',\n",
      "               '__class__',\n",
      "               '__contains__',\n",
      "               '__deepcopy__',\n",
      "               '__delattr__',\n",
      "               '__delitem__',\n",
      "               '__dict__',\n",
      "               '__dir__',\n",
      "               '__doc__',\n",
      "               '__eq__',\n",
      "               '__format__',\n",
      "               '__ge__',\n",
      "               '__getattribute__',\n",
      "               '__getitem__',\n",
      "               '__getstate__',\n",
      "               '__gt__',\n",
      "               '__hash__',\n",
      "               '__init__',\n",
      "               '__init_subclass__',\n",
      "               '__iter__',\n",
      "               '__le__',\n",
      "               '__len__',\n",
      "               '__lt__',\n",
      "               '__module__',\n",
      "               '__ne__',\n",
      "               '__new__',\n",
      "               '__reduce__',\n",
      "               '__reduce_ex__',\n",
      "               '__repr__',\n",
      "               '__setattr__',\n",
      "               '__setitem__',\n",
      "               '__setstate__',\n",
      "               '__sizeof__',\n",
      "               '__slots__',\n",
      "               '__str__',\n",
      "               '__subclasshook__',\n",
      "               '__weakref__',\n",
      "               '_accumulatedSeconds',\n",
      "               '_activeSite',\n",
      "               '_activeSiteStoredOffset',\n",
      "               '_atSoundingPitch',\n",
      "               '_cache',\n",
      "               '_classListFullyQualifiedCacheDict',\n",
      "               '_classSetCacheDict',\n",
      "               '_classTupleCacheDict',\n",
      "               '_consolidateLayering',\n",
      "               '_deepcopySubclassable',\n",
      "               '_derivation',\n",
      "               '_durSpanOverlap',\n",
      "               '_duration',\n",
      "               '_editorial',\n",
      "               '_elements',\n",
      "               '_endElements',\n",
      "               '_findLayering',\n",
      "               '_fixMeasureNumbers',\n",
      "               '_getActiveSite',\n",
      "               '_getDurSpan',\n",
      "               '_getDuration',\n",
      "               '_getFinalBarline',\n",
      "               '_getLeftBarline',\n",
      "               '_getMeasureOffset',\n",
      "               '_getMetadata',\n",
      "               '_getOffset',\n",
      "               '_getPriority',\n",
      "               '_getRightBarline',\n",
      "               '_getSeconds',\n",
      "               '_getSecondsMap',\n",
      "               '_getTimeSignatureForBeat',\n",
      "               '_insertDeletionVariant',\n",
      "               '_insertInsertionVariant',\n",
      "               '_insertReplacementVariant',\n",
      "               '_maxVoiceCount',\n",
      "               '_mutable',\n",
      "               '_naiveOffset',\n",
      "               '_offsetDict',\n",
      "               '_priority',\n",
      "               '_removeIteration',\n",
      "               '_removeOrExpandGaps',\n",
      "               '_replaceSpannerBundleForDeepcopy',\n",
      "               '_reprInternal',\n",
      "               '_reprText',\n",
      "               '_reprTextLine',\n",
      "               '_setActiveSite',\n",
      "               '_setDuration',\n",
      "               '_setFinalBarline',\n",
      "               '_setHighestTime',\n",
      "               '_setLeftBarline',\n",
      "               '_setMetadata',\n",
      "               '_setOffset',\n",
      "               '_setPriority',\n",
      "               '_setRightBarline',\n",
      "               '_setSeconds',\n",
      "               '_style',\n",
      "               '_styleClass',\n",
      "               '_transposeByInstrument',\n",
      "               '_treatAtSoundingPitch',\n",
      "               '_uniqueOffsetsAndEndTimes',\n",
      "               '_unlinkedDuration',\n",
      "               'activateVariants',\n",
      "               'activeSite',\n",
      "               'addGroupForElements',\n",
      "               'allPlayingWhileSounding',\n",
      "               'analyze',\n",
      "               'append',\n",
      "               'asTimespans',\n",
      "               'asTree',\n",
      "               'atSoundingPitch',\n",
      "               'attachIntervalsBetweenStreams',\n",
      "               'attachMelodicIntervals',\n",
      "               'augmentOrDiminish',\n",
      "               'autoSort',\n",
      "               'barDuration',\n",
      "               'barDurationProportion',\n",
      "               'beat',\n",
      "               'beatAndMeasureFromOffset',\n",
      "               'beatDuration',\n",
      "               'beatStr',\n",
      "               'beatStrength',\n",
      "               'bestTimeSignature',\n",
      "               'chordify',\n",
      "               'classSet',\n",
      "               'classSortOrder',\n",
      "               'classes',\n",
      "               'clear',\n",
      "               'clearCache',\n",
      "               'clef',\n",
      "               'clefIsNew',\n",
      "               'cloneEmpty',\n",
      "               'containerHierarchy',\n",
      "               'containerInHierarchy',\n",
      "               'contextSites',\n",
      "               'coreAppend',\n",
      "               'coreCopyAsDerivation',\n",
      "               'coreElementsChanged',\n",
      "               'coreGatherMissingSpanners',\n",
      "               'coreGetElementByMemoryLocation',\n",
      "               'coreGuardBeforeAddElement',\n",
      "               'coreHasElementByMemoryLocation',\n",
      "               'coreInsert',\n",
      "               'coreSelfActiveSite',\n",
      "               'coreSetElementOffset',\n",
      "               'coreStoreAtEnd',\n",
      "               'definesExplicitPageBreaks',\n",
      "               'definesExplicitSystemBreaks',\n",
      "               'derivation',\n",
      "               'duration',\n",
      "               'editorial',\n",
      "               'elementOffset',\n",
      "               'elements',\n",
      "               'expandRepeats',\n",
      "               'explode',\n",
      "               'extendDuration',\n",
      "               'extendDurationAndGetBoundaries',\n",
      "               'extendTies',\n",
      "               'extractContext',\n",
      "               'filled',\n",
      "               'finalBarline',\n",
      "               'findConsecutiveNotes',\n",
      "               'findGaps',\n",
      "               'first',\n",
      "               'flat',\n",
      "               'flatten',\n",
      "               'flattenUnnecessaryVoices',\n",
      "               'getAllContextsByClass',\n",
      "               'getClefs',\n",
      "               'getContextByClass',\n",
      "               'getElementAfterElement',\n",
      "               'getElementAtOrBefore',\n",
      "               'getElementBeforeOffset',\n",
      "               'getElementById',\n",
      "               'getElementsByClass',\n",
      "               'getElementsByGroup',\n",
      "               'getElementsByOffset',\n",
      "               'getElementsNotOfClass',\n",
      "               'getInstrument',\n",
      "               'getInstruments',\n",
      "               'getKeySignatures',\n",
      "               'getOffsetBySite',\n",
      "               'getOffsetInHierarchy',\n",
      "               'getOverlaps',\n",
      "               'getSpannerSites',\n",
      "               'getTimeSignatures',\n",
      "               'groups',\n",
      "               'hasEditorialInformation',\n",
      "               'hasElement',\n",
      "               'hasElementOfClass',\n",
      "               'hasMeasures',\n",
      "               'hasPartLikeStreams',\n",
      "               'hasStyleInformation',\n",
      "               'hasVoices',\n",
      "               'haveAccidentalsBeenMade',\n",
      "               'highestOffset',\n",
      "               'highestTime',\n",
      "               'id',\n",
      "               'index',\n",
      "               'informSites',\n",
      "               'insert',\n",
      "               'insertAndShift',\n",
      "               'insertIntoNoteOrChord',\n",
      "               'invertDiatonic',\n",
      "               'isClassOrSubclass',\n",
      "               'isFlat',\n",
      "               'isGapless',\n",
      "               'isMeasure',\n",
      "               'isSequence',\n",
      "               'isSorted',\n",
      "               'isStream',\n",
      "               'isTwelveTone',\n",
      "               'isWellFormedNotation',\n",
      "               'iter',\n",
      "               'keyIsNew',\n",
      "               'keySignature',\n",
      "               'last',\n",
      "               'layoutWidth',\n",
      "               'leftBarline',\n",
      "               'lowestOffset',\n",
      "               'lyrics',\n",
      "               'makeAccidentals',\n",
      "               'makeBeams',\n",
      "               'makeChords',\n",
      "               'makeImmutable',\n",
      "               'makeMeasures',\n",
      "               'makeMutable',\n",
      "               'makeNotation',\n",
      "               'makeRests',\n",
      "               'makeTies',\n",
      "               'makeVariantBlocks',\n",
      "               'makeVoices',\n",
      "               'measure',\n",
      "               'measureNumber',\n",
      "               'measureNumberWithSuffix',\n",
      "               'measureOffsetMap',\n",
      "               'measures',\n",
      "               'melodicIntervals',\n",
      "               'mergeAttributes',\n",
      "               'mergeElements',\n",
      "               'metadata',\n",
      "               'metronomeMarkBoundaries',\n",
      "               'next',\n",
      "               'notes',\n",
      "               'notesAndRests',\n",
      "               'number',\n",
      "               'numberSuffix',\n",
      "               'offset',\n",
      "               'offsetMap',\n",
      "               'padAsAnacrusis',\n",
      "               'paddingLeft',\n",
      "               'paddingRight',\n",
      "               'pitches',\n",
      "               'playingWhenAttacked',\n",
      "               'plot',\n",
      "               'pop',\n",
      "               'previous',\n",
      "               'priority',\n",
      "               'purgeLocations',\n",
      "               'purgeOrphans',\n",
      "               'quantize',\n",
      "               'quarterLength',\n",
      "               'recurse',\n",
      "               'recurseRepr',\n",
      "               'recursionType',\n",
      "               'remove',\n",
      "               'removeByClass',\n",
      "               'removeByNotOfClass',\n",
      "               'repeatAppend',\n",
      "               'repeatInsert',\n",
      "               'replace',\n",
      "               'rightBarline',\n",
      "               'scaleDurations',\n",
      "               'scaleOffsets',\n",
      "               'seconds',\n",
      "               'secondsMap',\n",
      "               'semiFlat',\n",
      "               'setDerivationMethod',\n",
      "               'setElementOffset',\n",
      "               'setOffsetBySite',\n",
      "               'shiftElements',\n",
      "               'show',\n",
      "               'showVariantAsOssialikePart',\n",
      "               'simultaneousAttacks',\n",
      "               'sites',\n",
      "               'sliceAtOffsets',\n",
      "               'sliceByBeat',\n",
      "               'sliceByGreatestDivisor',\n",
      "               'sliceByQuarterLengths',\n",
      "               'sort',\n",
      "               'sortTuple',\n",
      "               'sorted',\n",
      "               'spannerBundle',\n",
      "               'spanners',\n",
      "               'splitAtDurations',\n",
      "               'splitAtQuarterLength',\n",
      "               'splitByClass',\n",
      "               'splitByQuarterLengths',\n",
      "               'staffLines',\n",
      "               'storeAtEnd',\n",
      "               'streamStatus',\n",
      "               'stripTies',\n",
      "               'style',\n",
      "               'template',\n",
      "               'timeSignature',\n",
      "               'timeSignatureIsNew',\n",
      "               'toSoundingPitch',\n",
      "               'toWrittenPitch',\n",
      "               'transferOffsetToElements',\n",
      "               'transpose',\n",
      "               'variants',\n",
      "               'voices',\n",
      "               'voicesToParts',\n",
      "               'write']\n"
     ]
    },
    {
     "data": {
      "image/png": "[encoded data removed]",
      "text/plain": "<IPython.core.display.Image object>"
     },
     "metadata": {
      "image/png": {
       "width": 727,
       "height": 156
      }
     },
     "output_type": "display_data"
    },
    {
     "name": "stderr",
     "output_type": "stream",
     "text": [
      "ic| len(bar.notes): 6\n",
      "ic| chd: <music21.chord.Chord B-4 D5>\n",
      "ic| chd: <music21.chord.Chord C5 E-5>\n",
      "ic| chd: <music21.chord.Chord B-4 D5>\n",
      "ic| chd: <music21.chord.Chord C5 E-5>\n",
      "ic| chd: <music21.chord.Chord B-4 D5>\n",
      "ic| chd: <music21.chord.Chord C5 E-5>\n",
      "ic| chd.notes: (<music21.note.Note B->, <music21.note.Note D>)\n",
      "ic| chd.fullName: 'Chord {B-flat in octave 4 | D in octave 5} Eighth'\n",
      "ic| type(chd.duration): <class 'music21.duration.Duration'>\n",
      "ic| dur: <music21.duration.Duration 0.5>\n"
     ]
    },
    {
     "data": {
      "text/plain": "<music21.duration.Duration 0.5>"
     },
     "execution_count": 6,
     "metadata": {},
     "output_type": "execute_result"
    }
   ],
   "source": [
    "bar = part_ch2.measure(2)\n",
    "ic(vars(bar), dir(bar))\n",
    "\n",
    "bar.show()\n",
    "ic(len(bar.notes)) # The 1st non-empty measure\n",
    "for chd in bar.notes:\n",
    "    ic(chd)\n",
    "\n",
    "chd: music21.chord.Chord = bar.notes[0]  # A Chord, which contains multiple note\n",
    "ic(chd.notes)\n",
    "ic(chd.fullName)\n",
    "# ic(vars(chd))\n",
    "ic(type(chd.duration))\n",
    "dur: music21.duration.Duration = chd.duration\n",
    "ic(dur)  # 0.5 means half of time span of a quarter note\n",
    "\n"
   ],
   "metadata": {
    "collapsed": false,
    "pycharm": {
     "name": "#%%\n"
    }
   }
  },
  {
   "cell_type": "markdown",
   "source": [
    "#### Notes in a chord\n",
    "\n"
   ],
   "metadata": {
    "collapsed": false
   }
  },
  {
   "cell_type": "code",
   "execution_count": 7,
   "outputs": [
    {
     "name": "stderr",
     "output_type": "stream",
     "text": [
      "ic| note: <music21.note.Note B->\n",
      "ic| vars(note): {'_activeSite': None,\n",
      "                 '_activeSiteStoredOffset': None,\n",
      "                 '_cache': {},\n",
      "                 '_chordAttached': <music21.chord.Chord B-4 D5>,\n",
      "                 '_derivation': <Derivation of <music21.note.Note B-> from None>,\n",
      "                 '_duration': <music21.duration.Duration 0.5>,\n",
      "                 '_editorial': None,\n",
      "                 '_naiveOffset': 0.0,\n",
      "                 '_notehead': 'normal',\n",
      "                 '_noteheadFill': None,\n",
      "                 '_noteheadParenthesis': False,\n",
      "                 '_priority': 0,\n",
      "                 '_stemDirection': 'down',\n",
      "                 '_storedInstrument': None,\n",
      "                 '_style': <music21.style.NoteStyle object at 0x14178bf70>,\n",
      "                 '_volume': <music21.volume.Volume realized=1.0>,\n",
      "                 'articulations': [],\n",
      "                 'beams': <music21.beam.Beams>,\n",
      "                 'expressions': [],\n",
      "                 'groups': [],\n",
      "                 'id': 6120621344,\n",
      "                 'linkage': 'tie',\n",
      "                 'lyrics': [],\n",
      "                 'pitch': <music21.pitch.Pitch B-4>,\n",
      "                 'sites': <music21.sites.Sites object at 0x1417a2140>,\n",
      "                 'tie': None}\n"
     ]
    },
    {
     "data": {
      "text/plain": "{'_activeSite': None,\n '_naiveOffset': 0.0,\n '_activeSiteStoredOffset': None,\n '_derivation': <Derivation of <music21.note.Note B-> from None>,\n '_style': <music21.style.NoteStyle object at 0x14178bf70>,\n '_editorial': None,\n '_duration': <music21.duration.Duration 0.5>,\n '_priority': 0,\n '_cache': {},\n 'id': 6120621344,\n 'groups': [],\n 'sites': <music21.sites.Sites at 0x1417a2140>,\n 'lyrics': [],\n 'expressions': [],\n 'articulations': [],\n 'tie': None,\n '_notehead': 'normal',\n '_noteheadFill': None,\n '_noteheadParenthesis': False,\n '_stemDirection': 'down',\n '_volume': <music21.volume.Volume realized=1.0>,\n 'linkage': 'tie',\n 'beams': <music21.beam.Beams>,\n '_storedInstrument': None,\n '_chordAttached': <music21.chord.Chord B-4 D5>,\n 'pitch': <music21.pitch.Pitch B-4>}"
     },
     "execution_count": 7,
     "metadata": {},
     "output_type": "execute_result"
    }
   ],
   "source": [
    "note: music21.note.Note = chd.notes[0]\n",
    "ic(note)\n",
    "ic(vars(note))\n",
    "\n"
   ],
   "metadata": {
    "collapsed": false,
    "pycharm": {
     "name": "#%%\n"
    }
   }
  },
  {
   "cell_type": "markdown",
   "source": [
    "#### Get notes start time relative to a measure?\n",
    "Doesn't seem to be part of the `Note` object, is it inferred instead, based on the sequential ordering of `.notes`\n",
    "\n"
   ],
   "metadata": {
    "collapsed": false
   }
  },
  {
   "cell_type": "code",
   "execution_count": 8,
   "outputs": [
    {
     "name": "stderr",
     "output_type": "stream",
     "text": [
      "ic| chd.offset: 0.0\n",
      "ic| bar.notes[3].notes[1].offset: 0.0\n"
     ]
    },
    {
     "data": {
      "text/plain": "0.0"
     },
     "execution_count": 8,
     "metadata": {},
     "output_type": "execute_result"
    }
   ],
   "source": [
    "# ic(note._naiveOffset)\n",
    "ic(chd.offset)\n",
    "\n",
    "ic(bar.notes[3].notes[1].offset)\n",
    "\n"
   ],
   "metadata": {
    "collapsed": false,
    "pycharm": {
     "name": "#%%\n"
    }
   }
  },
  {
   "cell_type": "markdown",
   "source": [
    "##### Confirm assumption with another measure\n",
    "Confirmed, seems like concurrent notes in the same time slot is clusted into a whole chord\n",
    "\n"
   ],
   "metadata": {
    "collapsed": false
   }
  },
  {
   "cell_type": "code",
   "execution_count": 9,
   "outputs": [
    {
     "name": "stderr",
     "output_type": "stream",
     "text": [
      "ic| len(bar.notes): 3\n",
      "ic| chd: <music21.chord.Chord F#4 A4>\n",
      "    chd.duration: <music21.duration.Duration 0.5>\n",
      "    len(chd.notes): 2\n",
      "ic| chd: <music21.chord.Chord E4 G4>\n",
      "    chd.duration: <music21.duration.Duration 0.5>\n",
      "    len(chd.notes): 2\n",
      "ic| chd: <music21.chord.Chord E-4 F#4>\n",
      "    chd.duration: <music21.duration.Duration 2.0>\n",
      "    len(chd.notes): 2\n"
     ]
    }
   ],
   "source": [
    "bar = part_ch2.measure(5)\n",
    "# m.show()\n",
    "\n",
    "ic(len(bar.notes))\n",
    "for chd in bar.notes:\n",
    "    ic(chd, chd.duration, len(chd.notes))\n",
    "\n"
   ],
   "metadata": {
    "collapsed": false,
    "pycharm": {
     "name": "#%%\n"
    }
   }
  },
  {
   "cell_type": "markdown",
   "source": [
    "#### A chord has an offset instead\n",
    "Looks like the correct `offset` is stored one level below the measure object, which makes sense\n",
    "\n"
   ],
   "metadata": {
    "collapsed": false
   }
  },
  {
   "cell_type": "code",
   "execution_count": 10,
   "outputs": [
    {
     "name": "stderr",
     "output_type": "stream",
     "text": [
      "ic| chd: <music21.chord.Chord F#4 A4>, chd.offset: 0.0\n",
      "ic| chd: <music21.chord.Chord E4 G4>, chd.offset: 0.5\n",
      "ic| chd: <music21.chord.Chord E-4 F#4>, chd.offset: 1.0\n"
     ]
    }
   ],
   "source": [
    "for chd in bar.notes:\n",
    "    ic(chd, chd.offset)\n",
    "\n"
   ],
   "metadata": {
    "collapsed": false,
    "pycharm": {
     "name": "#%%\n"
    }
   }
  },
  {
   "cell_type": "markdown",
   "source": [
    "### Get pitch for a note\n",
    "The numeric representation\n"
   ],
   "metadata": {
    "collapsed": false
   }
  },
  {
   "cell_type": "code",
   "execution_count": 11,
   "outputs": [
    {
     "name": "stderr",
     "output_type": "stream",
     "text": [
      "ic| note: <music21.note.Note B->, part: <music21.pitch.Pitch B-4>\n",
      "ic| vars(part): {'_accidental': <music21.pitch.Accidental flat>,\n",
      "                 '_client': <music21.note.Note B->,\n",
      "                 '_groups': None,\n",
      "                 '_microtone': None,\n",
      "                 '_octave': 4,\n",
      "                 '_overridden_freq440': None,\n",
      "                 '_step': 'B',\n",
      "                 'defaultOctave': 4,\n",
      "                 'fundamental': None,\n",
      "                 'spellingIsInferred': False}\n",
      "    dir(part): ['_DOC_ATTR',\n",
      "                '_DOC_ORDER',\n",
      "                '__annotations__',\n",
      "                '__class__',\n",
      "                '__deepcopy__',\n",
      "                '__delattr__',\n",
      "                '__dict__',\n",
      "                '__dir__',\n",
      "                '__doc__',\n",
      "                '__eq__',\n",
      "                '__format__',\n",
      "                '__ge__',\n",
      "                '__getattribute__',\n",
      "                '__gt__',\n",
      "                '__hash__',\n",
      "                '__init__',\n",
      "                '__init_subclass__',\n",
      "                '__le__',\n",
      "                '__lt__',\n",
      "                '__module__',\n",
      "                '__ne__',\n",
      "                '__new__',\n",
      "                '__reduce__',\n",
      "                '__reduce_ex__',\n",
      "                '__repr__',\n",
      "                '__setattr__',\n",
      "                '__sizeof__',\n",
      "                '__slots__',\n",
      "                '__str__',\n",
      "                '__subclasshook__',\n",
      "                '__weakref__',\n",
      "                '_accidental',\n",
      "                '_classListFullyQualifiedCacheDict',\n",
      "                '_classSetCacheDict',\n",
      "                '_classTupleCacheDict',\n",
      "                '_client',\n",
      "                '_getEnharmonicHelper',\n",
      "                '_getSpanishCardinal',\n",
      "                '_getSpanishSolfege',\n",
      "                '_groups',\n",
      "                '_microtone',\n",
      "                '_nameInKeySignature',\n",
      "                '_octave',\n",
      "                '_overridden_freq440',\n",
      "                '_reprInternal',\n",
      "                '_step',\n",
      "                '_stepInKeySignature',\n",
      "                '_transpositionIntervals',\n",
      "                '_twelfth_root_of_two',\n",
      "                'accidental',\n",
      "                'alter',\n",
      "                'classSet',\n",
      "                'classes',\n",
      "                'convertMicrotonesToQuarterTones',\n",
      "                'convertQuarterTonesToMicrotones',\n",
      "                'defaultOctave',\n",
      "                'diatonicNoteNum',\n",
      "                'french',\n",
      "                'freq440',\n",
      "                'frequency',\n",
      "                'fullName',\n",
      "                'fundamental',\n",
      "                'german',\n",
      "                'getAllCommonEnharmonics',\n",
      "                'getCentShiftFromMidi',\n",
      "                'getEnharmonic',\n",
      "                'getHarmonic',\n",
      "                'getHigherEnharmonic',\n",
      "                'getLowerEnharmonic',\n",
      "                'getStringHarmonic',\n",
      "                'groups',\n",
      "                'harmonicAndFundamentalFromPitch',\n",
      "                'harmonicAndFundamentalStringFromPitch',\n",
      "                'harmonicFromFundamental',\n",
      "                'harmonicString',\n",
      "                'implicitOctave',\n",
      "                'informClient',\n",
      "                'isClassOrSubclass',\n",
      "                'isEnharmonic',\n",
      "                'isTwelveTone',\n",
      "                'italian',\n",
      "                'microtone',\n",
      "                'midi',\n",
      "                'name',\n",
      "                'nameWithOctave',\n",
      "                'octave',\n",
      "                'pitchClass',\n",
      "                'pitchClassString',\n",
      "                'ps',\n",
      "                'simplifyEnharmonic',\n",
      "                'spanish',\n",
      "                'spellingIsInferred',\n",
      "                'step',\n",
      "                'transpose',\n",
      "                'transposeAboveTarget',\n",
      "                'transposeBelowTarget',\n",
      "                'unicodeName',\n",
      "                'unicodeNameWithOctave',\n",
      "                'updateAccidentalDisplay']\n",
      "ic| part.midi: 70\n"
     ]
    },
    {
     "data": {
      "text/plain": "70"
     },
     "execution_count": 11,
     "metadata": {},
     "output_type": "execute_result"
    }
   ],
   "source": [
    "part = note.pitch\n",
    "# ic(vars(note))\n",
    "ic(note, part)\n",
    "ic(vars(part), dir(part))\n",
    "ic(part.midi)\n"
   ],
   "metadata": {
    "collapsed": false,
    "pycharm": {
     "name": "#%%\n"
    }
   }
  },
  {
   "cell_type": "markdown",
   "source": [
    "### Convert MIDI to MXL?\n",
    "Not sure if there's any MXL datasets, but ideally, we can take advantage of the MIDI dataset\n",
    "\n",
    "\n",
    "#### Can `music21` read in MIDI and process just like MXLs above?\n",
    "Doesn't look great\n"
   ],
   "metadata": {
    "collapsed": false,
    "pycharm": {
     "name": "#%% md\n"
    }
   }
  },
  {
   "cell_type": "code",
   "execution_count": 12,
   "outputs": [
    {
     "name": "stderr",
     "output_type": "stream",
     "text": [
      "ic| fnm: ('/Users/stefanh/Documents/UMich/Research/Music with NLP/datasets/MIDI-eg/Joe '\n",
      "          'Hisaishi - Merry Go Round of Life (bitmidi).mid')\n",
      "ic| scr: <music21.stream.Score 0x1410d47f0>\n",
      "ic| len(scr.parts): 4\n",
      "ic| len(ms): 8\n"
     ]
    },
    {
     "data": {
      "image/png": "[encoded data removed]",
      "text/plain": "<IPython.core.display.Image object>"
     },
     "metadata": {
      "image/png": {
       "width": 695,
       "height": 234
      }
     },
     "output_type": "display_data"
    }
   ],
   "source": [
    "fnm = eg_songs(k='Merry Go Round', fmt='MIDI')\n",
    "ic(fnm)\n",
    "\n",
    "scr = music21.converter.parse(fnm)\n",
    "ic(scr)\n",
    "ic(len(scr.parts))\n",
    "ms = scr.parts[0].measures(numberStart=0, numberEnd=8)\n",
    "ic(len(ms))  # End exclusive\n",
    "ms.show()\n",
    "\n"
   ],
   "metadata": {
    "collapsed": false,
    "pycharm": {
     "name": "#%%\n"
    }
   }
  },
  {
   "cell_type": "markdown",
   "source": [
    "MuseScore-converted alternative above is better, so\n",
    "#### Is there batch `MuseScore` MIDI=>MXL conversion interface in python?\n",
    "Don't see one, but don't have to do it in python,\n",
    "found a [batch processing plugin](https://musescore.org/en/project/batch-convert) for `MuseScore`\n"
   ],
   "metadata": {
    "collapsed": false
   }
  },
  {
   "cell_type": "markdown",
   "source": [
    "### Visualizing MXL with piano roll\n",
    "#### How to show as in GUI, instead of an image?\n",
    "Test the library, looks like `doneAction` is the answer\n"
   ],
   "metadata": {
    "collapsed": false
   }
  },
  {
   "cell_type": "code",
   "execution_count": 13,
   "outputs": [
    {
     "name": "stderr",
     "output_type": "stream",
     "text": [
      "/usr/local/lib/python3.9/site-packages/music21/graph/primitives.py:932: UserWarning: This figure was using constrained_layout, but that is incompatible with subplots_adjust and/or tight_layout; disabling constrained_layout.\n",
      "  self.figure.subplots_adjust(left=0.15)\n"
     ]
    },
    {
     "data": {
      "text/plain": "<Figure size 720x288 with 1 Axes>",
      "image/png": "[encoded data removed]"
     },
     "metadata": {
      "image/png": {
       "width": 602,
       "height": 259
      }
     },
     "output_type": "display_data"
    }
   ],
   "source": [
    "data = [('Chopin', [(1810, 1849 - 1810)]),\n",
    "        ('Schumanns', [(1810, 1856 - 1810), (1819, 1896 - 1819)]),\n",
    "        ('Brahms', [(1833, 1897 - 1833)])]\n",
    "xTicks = [(1810, '1810'),\n",
    "          (1848, '1848'),\n",
    "          (1897, '1897')]\n",
    "ghb = music21.graph.primitives.GraphHorizontalBar()\n",
    "ghb.title = 'Romantics live long and not so long'\n",
    "ghb.data = data\n",
    "ghb.setTicks('x', xTicks)\n",
    "\n",
    "ghb.doneAction = None  # The `show` action calls figure.show() which doesn't seem to work in Pycharm\n",
    "ghb.process()\n",
    "# ghb.callDoneAction()\n",
    "plt.show()\n",
    "\n",
    "\n"
   ],
   "metadata": {
    "collapsed": false,
    "pycharm": {
     "name": "#%%\n"
    }
   }
  },
  {
   "cell_type": "markdown",
   "source": [],
   "metadata": {
    "collapsed": false
   }
  },
  {
   "cell_type": "code",
   "execution_count": 14,
   "outputs": [
    {
     "data": {
      "text/plain": "<Figure size 1152x576 with 1 Axes>",
      "image/png": "[encoded data removed]"
     },
     "metadata": {
      "image/png": {
       "width": 1114,
       "height": 547
      }
     },
     "output_type": "display_data"
    },
    {
     "name": "stderr",
     "output_type": "stream",
     "text": [
      "ic| r: <music21.graph.plot.HorizontalBarPitchSpaceOffset for <music21.stream.Score 0x140a6b940>>\n"
     ]
    },
    {
     "data": {
      "text/plain": "<music21.graph.plot.HorizontalBarPitchSpaceOffset for <music21.stream.Score 0x140a6b940>>"
     },
     "execution_count": 14,
     "metadata": {},
     "output_type": "execute_result"
    }
   ],
   "source": [
    "r = m2u.plot_piano_roll(scr, title='Merry Go Round of Life', e=120)\n",
    "ic(r)\n",
    "\n",
    "\n"
   ],
   "metadata": {
    "collapsed": false,
    "pycharm": {
     "name": "#%%\n"
    }
   }
  }
 ],
 "metadata": {
  "kernelspec": {
   "display_name": "Python 3",
   "language": "python",
   "name": "python3"
  },
  "language_info": {
   "codemirror_mode": {
    "name": "ipython",
    "version": 2
   },
   "file_extension": ".py",
   "mimetype": "text/x-python",
   "name": "python",
   "nbconvert_exporter": "python",
   "pygments_lexer": "ipython2",
   "version": "2.7.6"
  }
 },
 "nbformat": 4,
 "nbformat_minor": 0
}