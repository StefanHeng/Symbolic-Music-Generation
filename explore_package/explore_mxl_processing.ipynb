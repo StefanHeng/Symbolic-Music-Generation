{
 "cells": [
  {
   "cell_type": "markdown",
   "source": [
    "# Parse Music XML files instead\n",
    "Sine Sat. Nov. 13th, 2021\n",
    "\n",
    "\n",
    "\n",
    "`From Merry Go Round of Life` MIDI file is a challenging one if just to process the raw MIDI file,\n",
    "due to quality of transcription, where there's slight times where time signature changes, and that comes with many tempos\n",
    "\n",
    "Hopefully there's some way to process the symbolic representation in Music XML format,\n",
    "as we need to get the bar separations\n",
    "\n",
    "\n",
    "## Setup\n",
    "\n"
   ],
   "metadata": {
    "collapsed": false
   }
  },
  {
   "cell_type": "code",
   "execution_count": null,
   "outputs": [],
   "source": [
    "import pandas as pd\n",
    "import music21\n",
    "\n"
   ],
   "metadata": {
    "collapsed": false,
    "pycharm": {
     "name": "#%%\n"
    }
   }
  },
  {
   "cell_type": "markdown",
   "source": [
    "## music21\n",
    "\n",
    "`From Merry Go Round of Life` MIDI file, exported using `MuseScore`\n",
    "\n"
   ],
   "metadata": {
    "collapsed": false
   }
  },
  {
   "cell_type": "code",
   "execution_count": null,
   "metadata": {
    "collapsed": true
   },
   "outputs": [],
   "source": [
    "fnm = 'Joe Hisaishi - Merry Go Round of Life (bitmidi).mxl'\n",
    "\n",
    "# Modified from https://www.audiolabs-erlangen.de/resources/MIR/FMP/C1/C1S2_MusicXML.html\n",
    "def xml_to_list(xml):\n",
    "    \"\"\"Convert a music xml file to a list of note events\n",
    "\n",
    "    Notebook: C1/C1S2_MusicXML.ipynb\n",
    "\n",
    "    Args:\n",
    "        xml (str or music21.stream.Score): Either a path to a music xml file or a music21.stream.Score\n",
    "\n",
    "    Returns:\n",
    "        score (list): A list of note events where each note is specified as\n",
    "            ``[start, duration, pitch, velocity, label]``\n",
    "    \"\"\"\n",
    "\n",
    "    if isinstance(xml, str):\n",
    "        xml_data = music21.converter.parse(xml)\n",
    "    elif isinstance(xml, music21.stream.Score):\n",
    "        xml_data = xml\n",
    "    else:\n",
    "        raise RuntimeError('midi must be a path to a midi file or music21.stream.Score')\n",
    "\n",
    "    score = []\n",
    "\n",
    "    for part in xml_data.parts:\n",
    "        instrument = part.getInstrument().instrumentName\n",
    "\n",
    "        for note in part.flat.notes:\n",
    "\n",
    "            if note.isChord:\n",
    "                start = note.offset\n",
    "                duration = note.quarterLength\n",
    "\n",
    "                for chord_note in note.pitches:\n",
    "                    pitch = chord_note.ps\n",
    "                    volume = note.volume.realized\n",
    "                    score.append([start, duration, pitch, volume, instrument])\n",
    "\n",
    "            else:\n",
    "                start = note.offset\n",
    "                duration = note.quarterLength\n",
    "                pitch = note.pitch.ps\n",
    "                volume = note.volume.realized\n",
    "                score.append([start, duration, pitch, volume, instrument])\n",
    "\n",
    "    score = sorted(score, key=lambda x: (x[0], x[2]))\n",
    "    return score\n",
    "\n",
    "xml_data = music21.converter.parse(fn)\n",
    "xml_list = xml_to_list(xml_data)\n",
    "\n",
    "df = pd.DataFrame(xml_list[:9], columns=['Start', 'End', 'Pitch', 'Velocity', 'Instrument'])\n",
    "\n",
    "\n"
   ]
  }
 ],
 "metadata": {
  "kernelspec": {
   "display_name": "Python 3",
   "language": "python",
   "name": "python3"
  },
  "language_info": {
   "codemirror_mode": {
    "name": "ipython",
    "version": 2
   },
   "file_extension": ".py",
   "mimetype": "text/x-python",
   "name": "python",
   "nbconvert_exporter": "python",
   "pygments_lexer": "ipython2",
   "version": "2.7.6"
  }
 },
 "nbformat": 4,
 "nbformat_minor": 0
}