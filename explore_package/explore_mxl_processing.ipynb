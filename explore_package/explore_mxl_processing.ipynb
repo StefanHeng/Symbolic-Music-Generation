{
 "cells": [
  {
   "cell_type": "markdown",
   "source": [
    "# Parse Music XML files instead\n",
    "Sine Sat. Nov. 13th, 2021\n",
    "\n",
    "\n",
    "\n",
    "`From Merry Go Round of Life` MIDI file is a challenging one if just to process the raw MIDI file,\n",
    "due to quality of transcription, where there's slight times where time signature changes, and that comes with many tempos\n",
    "\n",
    "Hopefully there's some way to process the symbolic representation in Music XML format,\n",
    "as we need to get the bar separations\n",
    "\n",
    "\n",
    "## Setup\n",
    "\n"
   ],
   "metadata": {
    "collapsed": false
   }
  },
  {
   "cell_type": "code",
   "execution_count": 1,
   "outputs": [],
   "source": [
    "import os\n",
    "\n",
    "import pandas as pd\n",
    "import music21\n",
    "from icecream import ic\n",
    "\n",
    "from util import *\n",
    "\n"
   ],
   "metadata": {
    "collapsed": false,
    "pycharm": {
     "name": "#%%\n"
    }
   }
  },
  {
   "cell_type": "markdown",
   "source": [
    "## music21\n",
    "\n",
    "`From Merry Go Round of Life` MIDI file, exported using `MuseScore`\n",
    "\n"
   ],
   "metadata": {
    "collapsed": false
   }
  },
  {
   "cell_type": "code",
   "execution_count": 3,
   "metadata": {
    "collapsed": true,
    "pycharm": {
     "name": "#%%\n"
    }
   },
   "outputs": [
    {
     "name": "stderr",
     "output_type": "stream",
     "text": [
      "ic| fnm: ('/Users/stefanh/Documents/UMich/Research/Music with NLP/datasets/MIDI-eg/Joe '\n",
      "          'Hisaishi - Merry Go Round of Life (bitmidi).mxl')\n"
     ]
    },
    {
     "data": {
      "text/plain": "    start  duration  pitch  velocity instrument\n0     6.0       0.5   70.0       1.0      Piano\n1     6.0       0.5   74.0       1.0      Piano\n2     6.5       0.5   72.0       1.0      Piano\n3     6.5       0.5   75.0       1.0      Piano\n4     7.0       0.5   70.0       1.0      Piano\n5     7.0       0.5   74.0       1.0      Piano\n6     7.5       0.5   72.0       1.0      Piano\n7     7.5       0.5   75.0       1.0      Piano\n8     8.0       0.5   70.0       1.0      Piano\n9     8.0       0.5   74.0       1.0      Piano\n10    8.5       0.5   72.0       1.0      Piano\n11    8.5       0.5   75.0       1.0      Piano\n12    9.0       0.5   69.0       1.0      Piano\n13    9.0       0.5   72.0       1.0      Piano\n14    9.5       0.5   70.0       1.0      Piano\n15    9.5       0.5   74.0       1.0      Piano\n16   10.0       0.5   69.0       1.0      Piano\n17   10.0       0.5   72.0       1.0      Piano\n18   10.5       0.5   70.0       1.0      Piano\n19   10.5       0.5   74.0       1.0      Piano",
      "text/html": "<div>\n<style scoped>\n    .dataframe tbody tr th:only-of-type {\n        vertical-align: middle;\n    }\n\n    .dataframe tbody tr th {\n        vertical-align: top;\n    }\n\n    .dataframe thead th {\n        text-align: right;\n    }\n</style>\n<table border=\"1\" class=\"dataframe\">\n  <thead>\n    <tr style=\"text-align: right;\">\n      <th></th>\n      <th>start</th>\n      <th>duration</th>\n      <th>pitch</th>\n      <th>velocity</th>\n      <th>instrument</th>\n    </tr>\n  </thead>\n  <tbody>\n    <tr>\n      <th>0</th>\n      <td>6.0</td>\n      <td>0.5</td>\n      <td>70.0</td>\n      <td>1.0</td>\n      <td>Piano</td>\n    </tr>\n    <tr>\n      <th>1</th>\n      <td>6.0</td>\n      <td>0.5</td>\n      <td>74.0</td>\n      <td>1.0</td>\n      <td>Piano</td>\n    </tr>\n    <tr>\n      <th>2</th>\n      <td>6.5</td>\n      <td>0.5</td>\n      <td>72.0</td>\n      <td>1.0</td>\n      <td>Piano</td>\n    </tr>\n    <tr>\n      <th>3</th>\n      <td>6.5</td>\n      <td>0.5</td>\n      <td>75.0</td>\n      <td>1.0</td>\n      <td>Piano</td>\n    </tr>\n    <tr>\n      <th>4</th>\n      <td>7.0</td>\n      <td>0.5</td>\n      <td>70.0</td>\n      <td>1.0</td>\n      <td>Piano</td>\n    </tr>\n    <tr>\n      <th>5</th>\n      <td>7.0</td>\n      <td>0.5</td>\n      <td>74.0</td>\n      <td>1.0</td>\n      <td>Piano</td>\n    </tr>\n    <tr>\n      <th>6</th>\n      <td>7.5</td>\n      <td>0.5</td>\n      <td>72.0</td>\n      <td>1.0</td>\n      <td>Piano</td>\n    </tr>\n    <tr>\n      <th>7</th>\n      <td>7.5</td>\n      <td>0.5</td>\n      <td>75.0</td>\n      <td>1.0</td>\n      <td>Piano</td>\n    </tr>\n    <tr>\n      <th>8</th>\n      <td>8.0</td>\n      <td>0.5</td>\n      <td>70.0</td>\n      <td>1.0</td>\n      <td>Piano</td>\n    </tr>\n    <tr>\n      <th>9</th>\n      <td>8.0</td>\n      <td>0.5</td>\n      <td>74.0</td>\n      <td>1.0</td>\n      <td>Piano</td>\n    </tr>\n    <tr>\n      <th>10</th>\n      <td>8.5</td>\n      <td>0.5</td>\n      <td>72.0</td>\n      <td>1.0</td>\n      <td>Piano</td>\n    </tr>\n    <tr>\n      <th>11</th>\n      <td>8.5</td>\n      <td>0.5</td>\n      <td>75.0</td>\n      <td>1.0</td>\n      <td>Piano</td>\n    </tr>\n    <tr>\n      <th>12</th>\n      <td>9.0</td>\n      <td>0.5</td>\n      <td>69.0</td>\n      <td>1.0</td>\n      <td>Piano</td>\n    </tr>\n    <tr>\n      <th>13</th>\n      <td>9.0</td>\n      <td>0.5</td>\n      <td>72.0</td>\n      <td>1.0</td>\n      <td>Piano</td>\n    </tr>\n    <tr>\n      <th>14</th>\n      <td>9.5</td>\n      <td>0.5</td>\n      <td>70.0</td>\n      <td>1.0</td>\n      <td>Piano</td>\n    </tr>\n    <tr>\n      <th>15</th>\n      <td>9.5</td>\n      <td>0.5</td>\n      <td>74.0</td>\n      <td>1.0</td>\n      <td>Piano</td>\n    </tr>\n    <tr>\n      <th>16</th>\n      <td>10.0</td>\n      <td>0.5</td>\n      <td>69.0</td>\n      <td>1.0</td>\n      <td>Piano</td>\n    </tr>\n    <tr>\n      <th>17</th>\n      <td>10.0</td>\n      <td>0.5</td>\n      <td>72.0</td>\n      <td>1.0</td>\n      <td>Piano</td>\n    </tr>\n    <tr>\n      <th>18</th>\n      <td>10.5</td>\n      <td>0.5</td>\n      <td>70.0</td>\n      <td>1.0</td>\n      <td>Piano</td>\n    </tr>\n    <tr>\n      <th>19</th>\n      <td>10.5</td>\n      <td>0.5</td>\n      <td>74.0</td>\n      <td>1.0</td>\n      <td>Piano</td>\n    </tr>\n  </tbody>\n</table>\n</div>"
     },
     "execution_count": 3,
     "metadata": {},
     "output_type": "execute_result"
    }
   ],
   "source": [
    "dset = 'MIDI_EG'\n",
    "dir_nm = config(f'{DIR_DSET}.{dset}.dir_nm')\n",
    "fnm = os.path.join(\n",
    "    PATH_BASE,\n",
    "    DIR_DSET,\n",
    "    dir_nm,\n",
    "    'Joe Hisaishi - Merry Go Round of Life (bitmidi).mxl'\n",
    ")\n",
    "ic(fnm)\n",
    "\n",
    "# Modified from https://www.audiolabs-erlangen.de/resources/MIR/FMP/C1/C1S2_MusicXML.html\n",
    "def get_notes(fl):\n",
    "    \"\"\"\n",
    "    Convert a music xml file to a list of note events\n",
    "\n",
    "    :param fl: MusicXML file path or `music21.stream.Score`\n",
    "    :returns: score: List of `[start, duration, pitch, velocity, instrument]`\n",
    "    \"\"\"\n",
    "    if isinstance(fl, str):\n",
    "        fl = music21.converter.parse(fl)\n",
    "\n",
    "    # score = []\n",
    "    # ic(len(fl.parts))\n",
    "    #\n",
    "    # for part in fl.parts:\n",
    "    #     instrument = part.getInstrument().instrumentName\n",
    "    #     ic(instrument)\n",
    "    #     ic(len(part.flat.notes))\n",
    "    #\n",
    "    #     for note in part.flat.notes:\n",
    "    #         # ic(note)\n",
    "    #\n",
    "    #         if note.isChord:\n",
    "    #             start = note.offset\n",
    "    #             duration = note.quarterLength\n",
    "    #\n",
    "    #             for chord_note in note.pitches:\n",
    "    #                 pitch = chord_note.ps\n",
    "    #                 volume = note.volume.realized\n",
    "    #                 score.append([start, duration, pitch, volume, instrument])\n",
    "    #\n",
    "    #         else:\n",
    "    #             start = note.offset\n",
    "    #             duration = note.quarterLength\n",
    "    #             pitch = note.pitch.ps\n",
    "    #             volume = note.volume.realized\n",
    "    #             score.append([start, duration, pitch, volume, instrument])\n",
    "    # ic(len(score))\n",
    "    # return sorted(score, key=lambda x: (x[0], x[2]))\n",
    "    def _get_part(p_):\n",
    "        instr = p_.getInstrument().instrumentName\n",
    "\n",
    "        def _get(note):\n",
    "            strt = note.offset\n",
    "            dur = note.quarterLength\n",
    "            vol = note.volume.realized\n",
    "            def _one(pitch):\n",
    "                return strt, dur, pitch, vol, instr\n",
    "\n",
    "            return [_one(p.ps) for p in note.pitches] if note.isChord else [_one(note.pitch.ps)]\n",
    "        # ic([_get(n) for n in p_.flat.notes][:10])\n",
    "        return flatten([_get(n) for n in p_.flat.notes])\n",
    "    notes = flatten([_get_part(p) for p in fl.parts])\n",
    "    return sorted(notes, key=lambda x: (x[0], x[2]))\n",
    "\n",
    "\n",
    "lst_notes = get_notes(fnm)\n",
    "df = pd.DataFrame(lst_notes[:20], columns=['start', 'duration', 'pitch', 'velocity', 'instrument'])\n",
    "df\n",
    "\n"
   ]
  }
 ],
 "metadata": {
  "kernelspec": {
   "display_name": "Python 3",
   "language": "python",
   "name": "python3"
  },
  "language_info": {
   "codemirror_mode": {
    "name": "ipython",
    "version": 2
   },
   "file_extension": ".py",
   "mimetype": "text/x-python",
   "name": "python",
   "nbconvert_exporter": "python",
   "pygments_lexer": "ipython2",
   "version": "2.7.6"
  }
 },
 "nbformat": 4,
 "nbformat_minor": 0
}