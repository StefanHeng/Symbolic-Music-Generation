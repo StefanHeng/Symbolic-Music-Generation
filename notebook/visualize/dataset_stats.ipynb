{
 "cells": [
  {
   "cell_type": "markdown",
   "source": [
    "# Dataset statistics\n",
    "\n",
    "Since Sat. Feb. 26th, 2022\n",
    "\n",
    "\n",
    "Understand the input representation to models, e.g. token size distribution, warnings in extraction\n",
    "\n",
    "\n",
    "## Setup\n",
    "\n"
   ],
   "metadata": {
    "collapsed": false
   }
  },
  {
   "cell_type": "code",
   "execution_count": 1,
   "metadata": {
    "collapsed": true
   },
   "outputs": [],
   "source": [
    "%load_ext autoreload\n",
    "%autoreload 2\n",
    "\n",
    "\n",
    "from icecream import ic\n",
    "\n",
    "from musicnlp.util import *\n",
    "from musicnlp.postprocess import MusicVisualize\n",
    "\n",
    "\n",
    "plt.rcParams['figure.dpi'] = 200\n",
    "\n",
    "\n"
   ]
  },
  {
   "cell_type": "markdown",
   "source": [
    "## POP909\n",
    "\n"
   ],
   "metadata": {
    "collapsed": false
   }
  },
  {
   "cell_type": "code",
   "execution_count": 2,
   "outputs": [
    {
     "ename": "KeyError",
     "evalue": "'precision'",
     "output_type": "error",
     "traceback": [
      "\u001B[0;31m---------------------------------------------------------------------------\u001B[0m",
      "\u001B[0;31mKeyError\u001B[0m                                  Traceback (most recent call last)",
      "\u001B[0;32m/var/folders/76/fm8fgr4n1p78whqg7x_bd5480000gn/T/ipykernel_2036/3978925165.py\u001B[0m in \u001B[0;36m<module>\u001B[0;34m\u001B[0m\n\u001B[1;32m      2\u001B[0m \u001B[0;34m\u001B[0m\u001B[0m\n\u001B[1;32m      3\u001B[0m \u001B[0mfnm\u001B[0m \u001B[0;34m=\u001B[0m \u001B[0mos\u001B[0m\u001B[0;34m.\u001B[0m\u001B[0mpath\u001B[0m\u001B[0;34m.\u001B[0m\u001B[0mjoin\u001B[0m\u001B[0;34m(\u001B[0m\u001B[0mget_processed_path\u001B[0m\u001B[0;34m(\u001B[0m\u001B[0;34m)\u001B[0m\u001B[0;34m,\u001B[0m \u001B[0mfnm\u001B[0m\u001B[0;34m)\u001B[0m\u001B[0;34m\u001B[0m\u001B[0;34m\u001B[0m\u001B[0m\n\u001B[0;32m----> 4\u001B[0;31m \u001B[0mmv\u001B[0m \u001B[0;34m=\u001B[0m \u001B[0mMusicVisualize\u001B[0m\u001B[0;34m(\u001B[0m\u001B[0mfnm\u001B[0m\u001B[0;34m)\u001B[0m\u001B[0;34m\u001B[0m\u001B[0;34m\u001B[0m\u001B[0m\n\u001B[0m\u001B[1;32m      5\u001B[0m \u001B[0;34m\u001B[0m\u001B[0m\n\u001B[1;32m      6\u001B[0m \u001B[0;34m\u001B[0m\u001B[0m\n",
      "\u001B[0;32m~/Documents/UMich/Research/Music with NLP/Symbolic-Music-Generation/musicnlp/postprocess/music_visualize.py\u001B[0m in \u001B[0;36m__init__\u001B[0;34m(self, fl_nm)\u001B[0m\n\u001B[1;32m     21\u001B[0m             \u001B[0mself\u001B[0m\u001B[0;34m.\u001B[0m\u001B[0mdset\u001B[0m\u001B[0;34m:\u001B[0m \u001B[0mDict\u001B[0m \u001B[0;34m=\u001B[0m \u001B[0mjson\u001B[0m\u001B[0;34m.\u001B[0m\u001B[0mload\u001B[0m\u001B[0;34m(\u001B[0m\u001B[0mf\u001B[0m\u001B[0;34m)\u001B[0m\u001B[0;34m\u001B[0m\u001B[0;34m\u001B[0m\u001B[0m\n\u001B[1;32m     22\u001B[0m \u001B[0;34m\u001B[0m\u001B[0m\n\u001B[0;32m---> 23\u001B[0;31m         \u001B[0mself\u001B[0m\u001B[0;34m.\u001B[0m\u001B[0mprec\u001B[0m \u001B[0;34m=\u001B[0m \u001B[0mself\u001B[0m\u001B[0;34m.\u001B[0m\u001B[0mdset\u001B[0m\u001B[0;34m[\u001B[0m\u001B[0;34m'precision'\u001B[0m\u001B[0;34m]\u001B[0m\u001B[0;34m\u001B[0m\u001B[0;34m\u001B[0m\u001B[0m\n\u001B[0m\u001B[1;32m     24\u001B[0m         \u001B[0;32massert\u001B[0m \u001B[0mself\u001B[0m\u001B[0;34m.\u001B[0m\u001B[0mprec\u001B[0m \u001B[0;34m>=\u001B[0m \u001B[0;36m2\u001B[0m\u001B[0;34m\u001B[0m\u001B[0;34m\u001B[0m\u001B[0m\n\u001B[1;32m     25\u001B[0m         \u001B[0mself\u001B[0m\u001B[0;34m.\u001B[0m\u001B[0mtokenizer\u001B[0m \u001B[0;34m=\u001B[0m \u001B[0mMusicTokenizer\u001B[0m\u001B[0;34m(\u001B[0m\u001B[0mprec\u001B[0m\u001B[0;34m=\u001B[0m\u001B[0mself\u001B[0m\u001B[0;34m.\u001B[0m\u001B[0mprec\u001B[0m\u001B[0;34m)\u001B[0m\u001B[0;34m\u001B[0m\u001B[0;34m\u001B[0m\u001B[0m\n",
      "\u001B[0;31mKeyError\u001B[0m: 'precision'"
     ]
    }
   ],
   "source": [
    "fnm = 'musicnlp music extraction, dnm=POP909, n=909, meta={mode=melody, prec=5, th=1}, 2022-04-10_12-51-01.json'\n",
    "\n",
    "fnm = os.path.join(get_processed_path(), fnm)\n",
    "mv = MusicVisualize(fnm)\n",
    "\n",
    "\n",
    "mv.token_length_dist()\n",
    "mv.bar_count_dist()\n",
    "mv.tuplet_count_dist()\n",
    "mv.song_duration_dist()\n",
    "mv.time_sig_dist()\n",
    "mv.tempo_dist()\n",
    "mv.note_pitch_dist()\n",
    "mv.note_duration_dist()\n",
    "mv.warning_type_dist()\n"
   ],
   "metadata": {
    "collapsed": false,
    "pycharm": {
     "name": "#%%\n"
    }
   }
  },
  {
   "cell_type": "markdown",
   "source": [
    "# LMD-cleaned, my unique-song subset\n",
    "\n"
   ],
   "metadata": {
    "collapsed": false
   }
  },
  {
   "cell_type": "code",
   "execution_count": null,
   "outputs": [],
   "source": [
    "fnm = 'musicnlp music extraction, dnm=LMD-cleaned-subset, n=10269, meta={mode=melody, prec=5, th=1}, 2022-04-10_12-52-41.json'\n",
    "\n",
    "fnm = os.path.join(get_processed_path(), fnm)\n",
    "mv = MusicVisualize(fnm)\n",
    "\n",
    "\n",
    "mv.token_length_dist()\n",
    "mv.bar_count_dist()\n",
    "mv.tuplet_count_dist()\n",
    "mv.song_duration_dist()\n",
    "mv.time_sig_dist()\n",
    "mv.tempo_dist()\n",
    "mv.note_pitch_dist()\n",
    "mv.note_duration_dist()\n",
    "mv.warning_type_dist()\n",
    "\n"
   ],
   "metadata": {
    "collapsed": false,
    "pycharm": {
     "name": "#%%\n"
    }
   }
  }
 ],
 "metadata": {
  "kernelspec": {
   "display_name": "Python 3",
   "language": "python",
   "name": "python3"
  },
  "language_info": {
   "codemirror_mode": {
    "name": "ipython",
    "version": 2
   },
   "file_extension": ".py",
   "mimetype": "text/x-python",
   "name": "python",
   "nbconvert_exporter": "python",
   "pygments_lexer": "ipython2",
   "version": "2.7.6"
  }
 },
 "nbformat": 4,
 "nbformat_minor": 0
}