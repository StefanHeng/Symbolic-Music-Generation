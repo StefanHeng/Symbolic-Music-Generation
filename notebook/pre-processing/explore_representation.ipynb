{
 "cells": [
  {
   "cell_type": "markdown",
   "source": [
    "# Explore Melody Representation\n",
    "Since Wed. Jan. 19th, 2021\n",
    "\n",
    "\n",
    "Consider melody adaptation to feed into NLP models.\n",
    "\n",
    "\n",
    "## A human-readable format\n",
    "To take advantage of `gensim.models.Word2Vec`, melody as pitch ids needs to be converted to text\n"
   ],
   "metadata": {
    "collapsed": false
   }
  },
  {
   "cell_type": "code",
   "execution_count": 1,
   "metadata": {
    "collapsed": true
   },
   "outputs": [
    {
     "name": "stderr",
     "output_type": "stream",
     "text": [
      "ic| vars(pch): {'_accidental': None,\n",
      "                '_client': None,\n",
      "                '_groups': None,\n",
      "                '_microtone': <music21.pitch.Microtone (+0c)>,\n",
      "                '_octave': 4,\n",
      "                '_overridden_freq440': None,\n",
      "                '_step': 'C',\n",
      "                'defaultOctave': 4,\n",
      "                'fundamental': None,\n",
      "                'spellingIsInferred': True}\n",
      "    pch: <music21.pitch.Pitch C4>\n",
      "    pch.nameWithOctave: 'C4'\n"
     ]
    }
   ],
   "source": [
    "import music21 as m21\n",
    "from icecream import ic\n",
    "\n",
    "\n",
    "pch = m21.pitch.Pitch(midi=60)\n",
    "ic(vars(pch), pch, pch.nameWithOctave)\n",
    "\n",
    "\n",
    "for i in range(128):  # Check creation available for all possible pitches\n",
    "    pch = m21.pitch.Pitch(midi=i)\n",
    "\n",
    "\n",
    "\n"
   ]
  }
 ],
 "metadata": {
  "kernelspec": {
   "display_name": "Python 3",
   "language": "python",
   "name": "python3"
  },
  "language_info": {
   "codemirror_mode": {
    "name": "ipython",
    "version": 2
   },
   "file_extension": ".py",
   "mimetype": "text/x-python",
   "name": "python",
   "nbconvert_exporter": "python",
   "pygments_lexer": "ipython2",
   "version": "2.7.6"
  }
 },
 "nbformat": 4,
 "nbformat_minor": 0
}