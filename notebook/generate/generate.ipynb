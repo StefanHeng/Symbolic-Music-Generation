{
 "cells": [
  {
   "cell_type": "markdown",
   "source": [
    "# Evaluate trained model\n",
    "Since Apr. 17th. 2022\n",
    "\n",
    "\n",
    "Generate some music samples from trained model\n",
    "Potentially run on colab as e.g. beam search is prohibitively slow on my local machine\n",
    "\n",
    "\n",
    "\n",
    "## Setup\n",
    "\n",
    "\n",
    "### Ipython\n",
    "\n"
   ],
   "metadata": {
    "collapsed": false
   }
  },
  {
   "cell_type": "code",
   "execution_count": null,
   "metadata": {
    "collapsed": true
   },
   "outputs": [],
   "source": [
    "%load_ext autoreload\n",
    "%autoreload 2\n"
   ]
  },
  {
   "cell_type": "markdown",
   "source": [
    "### colab\n"
   ],
   "metadata": {
    "collapsed": false
   }
  },
  {
   "cell_type": "code",
   "execution_count": null,
   "outputs": [],
   "source": [
    "import os\n",
    "import sys\n",
    "\n",
    "import torch\n",
    "\n",
    "\n",
    "if 'google.colab' in sys.modules:\n",
    "    from google.colab import drive\n",
    "    drive.mount('/content/drive')\n",
    "\n",
    "    ! pip3 install sty icecream music21 transformers datasets\n",
    "\n",
    "    path = os.path.join('drive', 'My Drive', 'Research', 'Music with NLP', 'Symbolic-Music-Generation')\n",
    "    sys.path.append(path)\n",
    "    ! ls \"{path}\"\n",
    "\n",
    "\n",
    "    import time, os\n",
    "    os.environ['TZ'] = 'US/Eastern'\n",
    "    time.tzset()\n",
    "\n",
    "    if torch.cuda.is_available():\n",
    "        %env PYTORCH_CUDA_ALLOC_CONF=max_split_size_mb:128\n",
    "\n",
    "if torch.cuda.is_available():\n",
    "    ! nvidia-smi\n",
    "\n",
    "\n",
    "from stefutil import mic\n",
    "from musicnlp.util import *\n",
    "\n",
    "mic(PATH_BASE, DIR_PROJ, PKG_NM)\n"
   ],
   "metadata": {
    "collapsed": false
   }
  },
  {
   "cell_type": "markdown",
   "source": [
    "### code"
   ],
   "metadata": {
    "collapsed": false
   }
  },
  {
   "cell_type": "code",
   "execution_count": null,
   "outputs": [],
   "source": [
    "import musicnlp.util.music as music_util\n",
    "from musicnlp.models.evaluate import load_trained, MusicGenerator\n",
    "\n",
    "\n",
    "deprec = True\n",
    "dir_nm = ['2022-04-16_16-08-03', 'checkpoint-4802']\n",
    "mdl = load_trained(model_name='reformer', directory_name=dir_nm)\n",
    "save_dir_ = 'reformer-base, 14/32ep'\n",
    "\n",
    "mg = MusicGenerator(mdl, deprecated=deprec)\n",
    "\n"
   ],
   "metadata": {
    "collapsed": false
   }
  },
  {
   "cell_type": "markdown",
   "source": [
    "## Generate\n"
   ],
   "metadata": {
    "collapsed": false
   }
  },
  {
   "cell_type": "code",
   "execution_count": null,
   "outputs": [],
   "source": [
    "fnm = 'Merry Go Round of Life'\n",
    "path = music_util.get_my_example_songs(k=fnm, extracted=True)\n",
    "# strat = 'greedy', None\n",
    "# strat, gen_args = 'sample', dict(top_k=32, top_p=0.9)\n",
    "strat, gen_args = 'beam', dict(num_beams=4, num_beam_groups=2)\n",
    "prompt_args = dict(path=path, n_bar=4, insert_key=not deprec)\n",
    "mg(\n",
    "    mode='conditional', strategy=strat, generate_args=gen_args, prompt_args=prompt_args, save=fnm,\n",
    "    save_dir=save_dir_\n",
    ")\n",
    "\n"
   ],
   "metadata": {
    "collapsed": false
   }
  }
 ],
 "metadata": {
  "kernelspec": {
   "display_name": "Python 3",
   "language": "python",
   "name": "python3"
  },
  "language_info": {
   "codemirror_mode": {
    "name": "ipython",
    "version": 2
   },
   "file_extension": ".py",
   "mimetype": "text/x-python",
   "name": "python",
   "nbconvert_exporter": "python",
   "pygments_lexer": "ipython2",
   "version": "2.7.6"
  }
 },
 "nbformat": 4,
 "nbformat_minor": 0
}
