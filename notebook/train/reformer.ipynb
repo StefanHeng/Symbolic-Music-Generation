{
 "cells": [
  {
   "cell_type": "markdown",
   "metadata": {
    "collapsed": false,
    "id": "duaTgec47o0k"
   },
   "source": [
    "# Train Music Transformer\n",
    "Since Fri. Feb. 25th, 2022\n",
    "\n",
    "Set up training in colab\n",
    "\n",
    "\n",
    "## Setup\n",
    "\n",
    "\n",
    "### Ipython\n",
    "\n"
   ]
  },
  {
   "cell_type": "code",
   "execution_count": null,
   "metadata": {
    "id": "UFt3o8uB7o0n"
   },
   "outputs": [],
   "source": [
    "%load_ext autoreload\n",
    "%autoreload 2\n",
    "\n"
   ]
  },
  {
   "cell_type": "markdown",
   "metadata": {
    "collapsed": false,
    "id": "zL4q50817o0o"
   },
   "source": [
    "### Colab\n",
    "\n"
   ]
  },
  {
   "cell_type": "code",
   "execution_count": null,
   "metadata": {
    "colab": {
     "base_uri": "https://localhost:8080/"
    },
    "executionInfo": {
     "elapsed": 59370,
     "status": "ok",
     "timestamp": 1659498866316,
     "user": {
      "displayName": "Stefan Heng",
      "userId": "11931699939643661721"
     },
     "user_tz": -480
    },
    "id": "5eDs7Grn7o0p",
    "outputId": "4a136e68-b898-47d2-ef2d-a5218bff56e3",
    "pycharm": {
     "name": "#%%\n"
    }
   },
   "outputs": [
    {
     "output_type": "stream",
     "name": "stdout",
     "text": [
      "Mounted at /content/drive\n",
      "Looking in indexes: https://pypi.org/simple, https://us-python.pkg.dev/colab-wheels/public/simple/\n",
      "Collecting sty\n",
      "  Downloading sty-1.0.4-py3-none-any.whl (11 kB)\n",
      "Collecting icecream\n",
      "  Downloading icecream-2.1.3-py2.py3-none-any.whl (8.4 kB)\n",
      "Requirement already satisfied: music21 in /usr/local/lib/python3.7/dist-packages (5.5.0)\n",
      "Collecting transformers\n",
      "  Downloading transformers-4.21.0-py3-none-any.whl (4.7 MB)\n",
      "\u001B[K     |████████████████████████████████| 4.7 MB 11.9 MB/s \n",
      "\u001B[?25hCollecting datasets\n",
      "  Downloading datasets-2.4.0-py3-none-any.whl (365 kB)\n",
      "\u001B[K     |████████████████████████████████| 365 kB 54.7 MB/s \n",
      "\u001B[?25hCollecting executing>=0.3.1\n",
      "  Downloading executing-0.9.1-py2.py3-none-any.whl (16 kB)\n",
      "Requirement already satisfied: pygments>=2.2.0 in /usr/local/lib/python3.7/dist-packages (from icecream) (2.6.1)\n",
      "Collecting asttokens>=2.0.1\n",
      "  Downloading asttokens-2.0.5-py2.py3-none-any.whl (20 kB)\n",
      "Collecting colorama>=0.3.9\n",
      "  Downloading colorama-0.4.5-py2.py3-none-any.whl (16 kB)\n",
      "Requirement already satisfied: six in /usr/local/lib/python3.7/dist-packages (from asttokens>=2.0.1->icecream) (1.15.0)\n",
      "Requirement already satisfied: regex!=2019.12.17 in /usr/local/lib/python3.7/dist-packages (from transformers) (2022.6.2)\n",
      "Collecting huggingface-hub<1.0,>=0.1.0\n",
      "  Downloading huggingface_hub-0.8.1-py3-none-any.whl (101 kB)\n",
      "\u001B[K     |████████████████████████████████| 101 kB 12.1 MB/s \n",
      "\u001B[?25hRequirement already satisfied: requests in /usr/local/lib/python3.7/dist-packages (from transformers) (2.23.0)\n",
      "Requirement already satisfied: tqdm>=4.27 in /usr/local/lib/python3.7/dist-packages (from transformers) (4.64.0)\n",
      "Requirement already satisfied: filelock in /usr/local/lib/python3.7/dist-packages (from transformers) (3.7.1)\n",
      "Requirement already satisfied: importlib-metadata in /usr/local/lib/python3.7/dist-packages (from transformers) (4.12.0)\n",
      "Collecting pyyaml>=5.1\n",
      "  Downloading PyYAML-6.0-cp37-cp37m-manylinux_2_5_x86_64.manylinux1_x86_64.manylinux_2_12_x86_64.manylinux2010_x86_64.whl (596 kB)\n",
      "\u001B[K     |████████████████████████████████| 596 kB 50.4 MB/s \n",
      "\u001B[?25hCollecting tokenizers!=0.11.3,<0.13,>=0.11.1\n",
      "  Downloading tokenizers-0.12.1-cp37-cp37m-manylinux_2_12_x86_64.manylinux2010_x86_64.whl (6.6 MB)\n",
      "\u001B[K     |████████████████████████████████| 6.6 MB 38.0 MB/s \n",
      "\u001B[?25hRequirement already satisfied: numpy>=1.17 in /usr/local/lib/python3.7/dist-packages (from transformers) (1.21.6)\n",
      "Requirement already satisfied: packaging>=20.0 in /usr/local/lib/python3.7/dist-packages (from transformers) (21.3)\n",
      "Requirement already satisfied: typing-extensions>=3.7.4.3 in /usr/local/lib/python3.7/dist-packages (from huggingface-hub<1.0,>=0.1.0->transformers) (4.1.1)\n",
      "Requirement already satisfied: pyparsing!=3.0.5,>=2.0.2 in /usr/local/lib/python3.7/dist-packages (from packaging>=20.0->transformers) (3.0.9)\n",
      "Collecting multiprocess\n",
      "  Downloading multiprocess-0.70.13-py37-none-any.whl (115 kB)\n",
      "\u001B[K     |████████████████████████████████| 115 kB 53.8 MB/s \n",
      "\u001B[?25hRequirement already satisfied: pandas in /usr/local/lib/python3.7/dist-packages (from datasets) (1.3.5)\n",
      "Requirement already satisfied: dill<0.3.6 in /usr/local/lib/python3.7/dist-packages (from datasets) (0.3.5.1)\n",
      "Collecting responses<0.19\n",
      "  Downloading responses-0.18.0-py3-none-any.whl (38 kB)\n",
      "Requirement already satisfied: pyarrow>=6.0.0 in /usr/local/lib/python3.7/dist-packages (from datasets) (6.0.1)\n",
      "Collecting xxhash\n",
      "  Downloading xxhash-3.0.0-cp37-cp37m-manylinux_2_17_x86_64.manylinux2014_x86_64.whl (212 kB)\n",
      "\u001B[K     |████████████████████████████████| 212 kB 55.4 MB/s \n",
      "\u001B[?25hCollecting fsspec[http]>=2021.11.1\n",
      "  Downloading fsspec-2022.7.1-py3-none-any.whl (141 kB)\n",
      "\u001B[K     |████████████████████████████████| 141 kB 36.0 MB/s \n",
      "\u001B[?25hRequirement already satisfied: aiohttp in /usr/local/lib/python3.7/dist-packages (from datasets) (3.8.1)\n",
      "Requirement already satisfied: urllib3!=1.25.0,!=1.25.1,<1.26,>=1.21.1 in /usr/local/lib/python3.7/dist-packages (from requests->transformers) (1.24.3)\n",
      "Requirement already satisfied: idna<3,>=2.5 in /usr/local/lib/python3.7/dist-packages (from requests->transformers) (2.10)\n",
      "Requirement already satisfied: certifi>=2017.4.17 in /usr/local/lib/python3.7/dist-packages (from requests->transformers) (2022.6.15)\n",
      "Requirement already satisfied: chardet<4,>=3.0.2 in /usr/local/lib/python3.7/dist-packages (from requests->transformers) (3.0.4)\n",
      "Collecting urllib3!=1.25.0,!=1.25.1,<1.26,>=1.21.1\n",
      "  Downloading urllib3-1.25.11-py2.py3-none-any.whl (127 kB)\n",
      "\u001B[K     |████████████████████████████████| 127 kB 52.6 MB/s \n",
      "\u001B[?25hRequirement already satisfied: charset-normalizer<3.0,>=2.0 in /usr/local/lib/python3.7/dist-packages (from aiohttp->datasets) (2.1.0)\n",
      "Requirement already satisfied: attrs>=17.3.0 in /usr/local/lib/python3.7/dist-packages (from aiohttp->datasets) (22.1.0)\n",
      "Requirement already satisfied: async-timeout<5.0,>=4.0.0a3 in /usr/local/lib/python3.7/dist-packages (from aiohttp->datasets) (4.0.2)\n",
      "Requirement already satisfied: multidict<7.0,>=4.5 in /usr/local/lib/python3.7/dist-packages (from aiohttp->datasets) (6.0.2)\n",
      "Requirement already satisfied: asynctest==0.13.0 in /usr/local/lib/python3.7/dist-packages (from aiohttp->datasets) (0.13.0)\n",
      "Requirement already satisfied: yarl<2.0,>=1.0 in /usr/local/lib/python3.7/dist-packages (from aiohttp->datasets) (1.7.2)\n",
      "Requirement already satisfied: aiosignal>=1.1.2 in /usr/local/lib/python3.7/dist-packages (from aiohttp->datasets) (1.2.0)\n",
      "Requirement already satisfied: frozenlist>=1.1.1 in /usr/local/lib/python3.7/dist-packages (from aiohttp->datasets) (1.3.0)\n",
      "Requirement already satisfied: zipp>=0.5 in /usr/local/lib/python3.7/dist-packages (from importlib-metadata->transformers) (3.8.1)\n",
      "Requirement already satisfied: python-dateutil>=2.7.3 in /usr/local/lib/python3.7/dist-packages (from pandas->datasets) (2.8.2)\n",
      "Requirement already satisfied: pytz>=2017.3 in /usr/local/lib/python3.7/dist-packages (from pandas->datasets) (2022.1)\n",
      "Installing collected packages: urllib3, pyyaml, fsspec, xxhash, tokenizers, responses, multiprocess, huggingface-hub, executing, colorama, asttokens, transformers, sty, icecream, datasets\n",
      "  Attempting uninstall: urllib3\n",
      "    Found existing installation: urllib3 1.24.3\n",
      "    Uninstalling urllib3-1.24.3:\n",
      "      Successfully uninstalled urllib3-1.24.3\n",
      "  Attempting uninstall: pyyaml\n",
      "    Found existing installation: PyYAML 3.13\n",
      "    Uninstalling PyYAML-3.13:\n",
      "      Successfully uninstalled PyYAML-3.13\n",
      "Successfully installed asttokens-2.0.5 colorama-0.4.5 datasets-2.4.0 executing-0.9.1 fsspec-2022.7.1 huggingface-hub-0.8.1 icecream-2.1.3 multiprocess-0.70.13 pyyaml-6.0 responses-0.18.0 sty-1.0.4 tokenizers-0.12.1 transformers-4.21.0 urllib3-1.25.11 xxhash-3.0.0\n",
      "Looking in indexes: https://pypi.org/simple, https://us-python.pkg.dev/colab-wheels/public/simple/\n",
      "Collecting stefutils\n",
      "  Downloading stefutils-0.11.0.tar.gz (16 kB)\n",
      "Requirement already satisfied: sty in /usr/local/lib/python3.7/dist-packages (from stefutils) (1.0.4)\n",
      "Requirement already satisfied: colorama in /usr/local/lib/python3.7/dist-packages (from stefutils) (0.4.5)\n",
      "Requirement already satisfied: pygments in /usr/local/lib/python3.7/dist-packages (from stefutils) (2.6.1)\n",
      "Requirement already satisfied: numpy in /usr/local/lib/python3.7/dist-packages (from stefutils) (1.21.6)\n",
      "Requirement already satisfied: pandas in /usr/local/lib/python3.7/dist-packages (from stefutils) (1.3.5)\n",
      "Requirement already satisfied: torch in /usr/local/lib/python3.7/dist-packages (from stefutils) (1.12.0+cu113)\n",
      "Requirement already satisfied: transformers in /usr/local/lib/python3.7/dist-packages (from stefutils) (4.21.0)\n",
      "Requirement already satisfied: matplotlib in /usr/local/lib/python3.7/dist-packages (from stefutils) (3.2.2)\n",
      "Requirement already satisfied: seaborn in /usr/local/lib/python3.7/dist-packages (from stefutils) (0.11.2)\n",
      "Requirement already satisfied: tqdm in /usr/local/lib/python3.7/dist-packages (from stefutils) (4.64.0)\n",
      "Requirement already satisfied: icecream in /usr/local/lib/python3.7/dist-packages (from stefutils) (2.1.3)\n",
      "Requirement already satisfied: executing>=0.3.1 in /usr/local/lib/python3.7/dist-packages (from icecream->stefutils) (0.9.1)\n",
      "Requirement already satisfied: asttokens>=2.0.1 in /usr/local/lib/python3.7/dist-packages (from icecream->stefutils) (2.0.5)\n",
      "Requirement already satisfied: six in /usr/local/lib/python3.7/dist-packages (from asttokens>=2.0.1->icecream->stefutils) (1.15.0)\n",
      "Requirement already satisfied: pyparsing!=2.0.4,!=2.1.2,!=2.1.6,>=2.0.1 in /usr/local/lib/python3.7/dist-packages (from matplotlib->stefutils) (3.0.9)\n",
      "Requirement already satisfied: python-dateutil>=2.1 in /usr/local/lib/python3.7/dist-packages (from matplotlib->stefutils) (2.8.2)\n",
      "Requirement already satisfied: kiwisolver>=1.0.1 in /usr/local/lib/python3.7/dist-packages (from matplotlib->stefutils) (1.4.4)\n",
      "Requirement already satisfied: cycler>=0.10 in /usr/local/lib/python3.7/dist-packages (from matplotlib->stefutils) (0.11.0)\n",
      "Requirement already satisfied: typing-extensions in /usr/local/lib/python3.7/dist-packages (from kiwisolver>=1.0.1->matplotlib->stefutils) (4.1.1)\n",
      "Requirement already satisfied: pytz>=2017.3 in /usr/local/lib/python3.7/dist-packages (from pandas->stefutils) (2022.1)\n",
      "Requirement already satisfied: scipy>=1.0 in /usr/local/lib/python3.7/dist-packages (from seaborn->stefutils) (1.7.3)\n",
      "Requirement already satisfied: tokenizers!=0.11.3,<0.13,>=0.11.1 in /usr/local/lib/python3.7/dist-packages (from transformers->stefutils) (0.12.1)\n",
      "Requirement already satisfied: requests in /usr/local/lib/python3.7/dist-packages (from transformers->stefutils) (2.23.0)\n",
      "Requirement already satisfied: packaging>=20.0 in /usr/local/lib/python3.7/dist-packages (from transformers->stefutils) (21.3)\n",
      "Requirement already satisfied: pyyaml>=5.1 in /usr/local/lib/python3.7/dist-packages (from transformers->stefutils) (6.0)\n",
      "Requirement already satisfied: importlib-metadata in /usr/local/lib/python3.7/dist-packages (from transformers->stefutils) (4.12.0)\n",
      "Requirement already satisfied: huggingface-hub<1.0,>=0.1.0 in /usr/local/lib/python3.7/dist-packages (from transformers->stefutils) (0.8.1)\n",
      "Requirement already satisfied: filelock in /usr/local/lib/python3.7/dist-packages (from transformers->stefutils) (3.7.1)\n",
      "Requirement already satisfied: regex!=2019.12.17 in /usr/local/lib/python3.7/dist-packages (from transformers->stefutils) (2022.6.2)\n",
      "Requirement already satisfied: zipp>=0.5 in /usr/local/lib/python3.7/dist-packages (from importlib-metadata->transformers->stefutils) (3.8.1)\n",
      "Requirement already satisfied: idna<3,>=2.5 in /usr/local/lib/python3.7/dist-packages (from requests->transformers->stefutils) (2.10)\n",
      "Requirement already satisfied: chardet<4,>=3.0.2 in /usr/local/lib/python3.7/dist-packages (from requests->transformers->stefutils) (3.0.4)\n",
      "Requirement already satisfied: certifi>=2017.4.17 in /usr/local/lib/python3.7/dist-packages (from requests->transformers->stefutils) (2022.6.15)\n",
      "Requirement already satisfied: urllib3!=1.25.0,!=1.25.1,<1.26,>=1.21.1 in /usr/local/lib/python3.7/dist-packages (from requests->transformers->stefutils) (1.25.11)\n",
      "Building wheels for collected packages: stefutils\n",
      "  Building wheel for stefutils (setup.py) ... \u001B[?25l\u001B[?25hdone\n",
      "  Created wheel for stefutils: filename=stefutils-0.11.0-py3-none-any.whl size=18905 sha256=f375c9587687b8d3b9f7ff35f622f55e020dc141cc287a2b6c70cf127a6ae852\n",
      "  Stored in directory: /root/.cache/pip/wheels/38/5d/78/2bbc4b9ca45151f27732e6b259b29a017d1266f0eb3a7211ae\n",
      "Successfully built stefutils\n",
      "Installing collected packages: stefutils\n",
      "Successfully installed stefutils-0.11.0\n",
      "eval  musicnlp\tnotebook  plot\ttokenizers\n",
      "Tue Aug  2 23:54:07 2022       \n",
      "+-----------------------------------------------------------------------------+\n",
      "| NVIDIA-SMI 460.32.03    Driver Version: 460.32.03    CUDA Version: 11.2     |\n",
      "|-------------------------------+----------------------+----------------------+\n",
      "| GPU  Name        Persistence-M| Bus-Id        Disp.A | Volatile Uncorr. ECC |\n",
      "| Fan  Temp  Perf  Pwr:Usage/Cap|         Memory-Usage | GPU-Util  Compute M. |\n",
      "|                               |                      |               MIG M. |\n",
      "|===============================+======================+======================|\n",
      "|   0  Tesla P100-PCIE...  Off  | 00000000:00:04.0 Off |                    0 |\n",
      "| N/A   41C    P0    27W / 250W |      2MiB / 16280MiB |      0%      Default |\n",
      "|                               |                      |                  N/A |\n",
      "+-------------------------------+----------------------+----------------------+\n",
      "                                                                               \n",
      "+-----------------------------------------------------------------------------+\n",
      "| Processes:                                                                  |\n",
      "|  GPU   GI   CI        PID   Type   Process name                  GPU Memory |\n",
      "|        ID   ID                                                   Usage      |\n",
      "|=============================================================================|\n",
      "|  No running processes found                                                 |\n",
      "+-----------------------------------------------------------------------------+\n"
     ]
    },
    {
     "output_type": "stream",
     "name": "stderr",
     "text": [
      "ic| u.proj_dir: 'Symbolic-Music-Generation', u.pkg_nm: 'musicnlp'\n"
     ]
    },
    {
     "output_type": "execute_result",
     "data": {
      "text/plain": [
       "('Symbolic-Music-Generation', 'musicnlp')"
      ]
     },
     "metadata": {},
     "execution_count": 2
    }
   ],
   "source": [
    "import os\n",
    "import sys\n",
    "\n",
    "import torch\n",
    "\n",
    "\n",
    "if 'google.colab' in sys.modules:\n",
    "    from google.colab import drive\n",
    "    drive.mount('/content/drive')\n",
    "\n",
    "    ! pip3 install sty icecream music21 transformers datasets\n",
    "    ! pip3 install stefutils\n",
    "\n",
    "    path = os.path.join('drive', 'My Drive', 'Research', 'Music with NLP', 'Symbolic-Music-Generation')\n",
    "    sys.path.append(path)\n",
    "    ! ls \"{path}\"\n",
    "\n",
    "\n",
    "    import time, os\n",
    "    os.environ['TZ'] = 'US/Eastern'\n",
    "    time.tzset()\n",
    "\n",
    "    # if torch.cuda.is_available():\n",
    "    #     %env PYTORCH_CUDA_ALLOC_CONF=max_split_size_mb:128\n",
    "\n",
    "if torch.cuda.is_available():\n",
    "    ! nvidia-smi\n",
    "\n",
    "\n",
    "from stefutil import *\n",
    "from musicnlp.util import *\n",
    "\n",
    "mic(u.proj_dir, u.pkg_nm)\n",
    "\n"
   ]
  },
  {
   "cell_type": "markdown",
   "metadata": {
    "collapsed": false,
    "id": "UbrzCORh7o0q",
    "pycharm": {
     "name": "#%% md\n"
    }
   },
   "source": [
    "### code"
   ]
  },
  {
   "cell_type": "code",
   "execution_count": null,
   "metadata": {
    "collapsed": true,
    "id": "_-JUzdbX7o0q",
    "pycharm": {
     "name": "#%%\n"
    }
   },
   "outputs": [],
   "source": [
    "from musicnlp.trainer import train\n",
    "\n",
    "\n",
    "seed = sconfig('random-seed')\n",
    "\n"
   ]
  },
  {
   "cell_type": "markdown",
   "metadata": {
    "collapsed": false,
    "id": "TlHnNRf77o0q",
    "pycharm": {
     "name": "#%% md\n"
    }
   },
   "source": [
    "## Prep for training\n"
   ]
  },
  {
   "cell_type": "code",
   "execution_count": null,
   "metadata": {
    "colab": {
     "base_uri": "https://localhost:8080/",
     "height": 972,
     "referenced_widgets": [
      "606470fe86d34ab1b9a43d8891e9adad",
      "3a2af66c35c64e38a56b4d84af88f583",
      "23adb0ed50f0464eb4231d1e60cb8ff2",
      "1a37a55101444919b8afc7a016f87db5",
      "30650d54fe3c4bbaa2615e5145ddfb58",
      "dd3d7eae532944638b5479a9725ae1f4",
      "55d8fcb7513f4e848ba60ca84459d369",
      "acacdf28c28d4ea9a0393c47da8d1814",
      "9130a1cc5bdc430a8ff90413843d5afd",
      "ede54ced6ea84f09a02483313c0bc6c9",
      "f85f50dbd5264f008266174586c5ba79",
      "e14e3d51a4f045a88f81bc8db27bd9d0",
      "bd17772696844d039f5368d53fffaf35",
      "accec9eb14a743aa9dddfc107a8bd849",
      "f173b63c7b2343b29f6f049d6e2cbca1",
      "d79ea6b5e33d421288dd2734058e128c",
      "6f8ba660b8c24acda0bf24d5782ffeec",
      "12b6b1bb07b3430c8c39b1058cc75e99",
      "2817f127c9bd40d19600648c24b93de3",
      "1b92397ff7c24736b6ce1657bb54a13a",
      "329a5711a233424c851f401f6968e7ca",
      "4106d1036174492b9d4068a2a7dd9bac",
      "1541b73b75d842a19e7c403d61c4fe83",
      "6059da5818f84674b134a1c2492736ad",
      "8bee61d85de04df19c01b12c43891678",
      "22c000feff1342d7b3281968fec6b2c6",
      "b917230d9de44ff99f0306f35078ee7b",
      "68c480078861403a95c5651d40105e40",
      "5e075bd6130941899d1a15bb2db793b7",
      "b41d5c62e7ae4b43951d6033f482f607",
      "0a2d56ef5c314a4caf2383aa0ef8ae4d",
      "1d247af0e06a48668b45c7145b09b773",
      "8cc7a71e3f6f4ce1b63ae3bad9cb114e",
      "f362868271e142689079a12abde91d83",
      "06c42c2417a649ef913604816b1c768a",
      "259fcca264fe487286d2c11dda26b9e7",
      "ac2bd11418df49208d9414941d030b10",
      "1dbd278beac9482b84cb5c6d8816cbbe",
      "82bfffa806024e9183e82345ef15933c",
      "315e06ccf59e4dae9dff71b5336acd5f",
      "65e63df1e7e54cc2b296cdac307b6fb4",
      "8b4e9b9bebf04ac5b580ded534bcf811",
      "59431c2395964dd0a5f9b7bb69c0466c",
      "a03327c14dd74fe7b4a97c5c695cec1e",
      "9c9e3c31a8f34722b6be3b94c38a063a",
      "3197033aa9584fd2b357598e97061260",
      "db7d7dd797cb4d8ba141663434c706bc",
      "1def1889134d44f5811edc06b1efbacd",
      "8511dd3ac66d4b2d8d66e63898f9b3d0",
      "041af0bc47004b62a48c40d5d0717b28",
      "06c548ee529a42a3998e5a75b916c20d",
      "67229b2b757246c6a8a08a21ea5205dd",
      "d1125adcf8ca49e6aaae0107f528199f",
      "c0fb95d9bee34b658438400159affb35",
      "34a7a3d948e848cfab4cc9defe8ff7fa"
     ]
    },
    "executionInfo": {
     "elapsed": 87561,
     "status": "ok",
     "timestamp": 1659498953853,
     "user": {
      "displayName": "Stefan Heng",
      "userId": "11931699939643661721"
     },
     "user_tz": -480
    },
    "id": "5CZbWArH3KV3",
    "outputId": "ccb40cad-fba7-4f21-e351-fff59cb63500",
    "pycharm": {
     "name": "#%%\n"
    }
   },
   "outputs": [
    {
     "output_type": "stream",
     "name": "stderr",
     "text": [
      "ic| md_nm: 'reformer', md_sz: 'base'\n"
     ]
    },
    {
     "output_type": "stream",
     "name": "stdout",
     "text": [
      "\u001B[38;2;0;186;142m2022-08-02 23:54:26\u001B[38;2;97;175;239m|\u001B[39m\u001B[49m\u001B[22m\u001B[23m\u001B[24m\u001B[25m\u001B[27m\u001B[28m\u001B[29m\u001B[38;2;198;120;221m[Get Setup]\u001B[38;2;97;175;239m::\u001B[38;2;198;120;221mget_all_setup\u001B[38;2;97;175;239m::\u001B[38;2;198;120;221mtrain.py\u001B[38;2;97;175;239m:\u001B[38;2;198;120;221m273\u001B[38;2;97;175;239m:\u001B[39m\u001B[49m\u001B[22m\u001B[23m\u001B[24m\u001B[25m\u001B[27m\u001B[28m\u001B[29mINFO\u001B[39m\u001B[49m\u001B[22m\u001B[23m\u001B[24m\u001B[25m\u001B[27m\u001B[28m\u001B[29m\u001B[38;2;97;175;239m: \u001B[39m\u001B[49m\u001B[22m\u001B[23m\u001B[24m\u001B[25m\u001B[27m\u001B[28m\u001B[29mInitializing training with {\n",
      "    \u001B[94m\"model_name\"\u001B[39;49;00m: \u001B[33m\"reformer\"\u001B[39;49;00m,\n",
      "    \u001B[94m\"model_size\"\u001B[39;49;00m: \u001B[33m\"base\"\u001B[39;49;00m,\n",
      "    \u001B[94m\"model_config\"\u001B[39;49;00m: {\n",
      "        \u001B[94m\"max_position_embeddings\"\u001B[39;49;00m: \u001B[34m1024\u001B[39;49;00m,\n",
      "        \u001B[94m\"axial_pos_shape\"\u001B[39;49;00m: [\n",
      "            \u001B[34m32\u001B[39;49;00m,\n",
      "            \u001B[34m32\u001B[39;49;00m\n",
      "        ]\n",
      "    },\n",
      "    \u001B[94m\"dataset_names\"\u001B[39;49;00m: [\n",
      "        \u001B[33m\"musicnlp music extraction, dnm=POP909, n=909, meta={mode=full, prec=5, th=1}, 2022-08-02_20-11-17\"\u001B[39;49;00m,\n",
      "        \u001B[33m\"musicnlp music extraction, dnm=MAESTRO, n=1276, meta={mode=full, prec=5, th=1}, 2022-08-02_20-12-23\"\u001B[39;49;00m\n",
      "    ],\n",
      "    \u001B[94m\"prec\"\u001B[39;49;00m: \u001B[34m5\u001B[39;49;00m,\n",
      "    \u001B[94m\"dataset_args\"\u001B[39;49;00m: {\n",
      "        \u001B[94m\"n_sample\"\u001B[39;49;00m: \u001B[34mnull\u001B[39;49;00m,\n",
      "        \u001B[94m\"shuffle_seed\"\u001B[39;49;00m: \u001B[34m77\u001B[39;49;00m,\n",
      "        \u001B[94m\"pbar\"\u001B[39;49;00m: \u001B[34mtrue\u001B[39;49;00m\n",
      "    },\n",
      "    \u001B[94m\"train_args\"\u001B[39;49;00m: {\n",
      "        \u001B[94m\"save_strategy\"\u001B[39;49;00m: \u001B[33m\"epoch\"\u001B[39;49;00m,\n",
      "        \u001B[94m\"num_train_epochs\"\u001B[39;49;00m: \u001B[34m128\u001B[39;49;00m,\n",
      "        \u001B[94m\"learning_rate\"\u001B[39;49;00m: \u001B[34m1e-05\u001B[39;49;00m,\n",
      "        \u001B[94m\"fp16\"\u001B[39;49;00m: \u001B[34mtrue\u001B[39;49;00m,\n",
      "        \u001B[94m\"per_device_train_batch_size\"\u001B[39;49;00m: \u001B[34m64\u001B[39;49;00m\n",
      "    },\n",
      "    \u001B[94m\"my_train_args\"\u001B[39;49;00m: {\n",
      "        \u001B[94m\"tqdm\"\u001B[39;49;00m: \u001B[34mtrue\u001B[39;49;00m,\n",
      "        \u001B[94m\"logging_strategy\"\u001B[39;49;00m: \u001B[33m\"epoch\"\u001B[39;49;00m,\n",
      "        \u001B[94m\"save_epochs\"\u001B[39;49;00m: \u001B[34m16\u001B[39;49;00m,\n",
      "        \u001B[94m\"augment_key\"\u001B[39;49;00m: \u001B[34mfalse\u001B[39;49;00m,\n",
      "        \u001B[94m\"wordpiece_tokenize\"\u001B[39;49;00m: \u001B[34mfalse\u001B[39;49;00m\n",
      "    }\n",
      "}\n",
      "... \u001B[39m\u001B[49m\u001B[22m\u001B[23m\u001B[24m\u001B[25m\u001B[27m\u001B[28m\u001B[29m\n",
      "\u001B[38;2;0;186;142m2022-08-02 23:54:26\u001B[38;2;97;175;239m|\u001B[39m\u001B[49m\u001B[22m\u001B[23m\u001B[24m\u001B[25m\u001B[27m\u001B[28m\u001B[29m\u001B[38;2;198;120;221m[Get Setup]\u001B[38;2;97;175;239m::\u001B[38;2;198;120;221mget_all_setup\u001B[38;2;97;175;239m::\u001B[38;2;198;120;221mtrain.py\u001B[38;2;97;175;239m:\u001B[38;2;198;120;221m276\u001B[38;2;97;175;239m:\u001B[39m\u001B[49m\u001B[22m\u001B[23m\u001B[24m\u001B[25m\u001B[27m\u001B[28m\u001B[29mINFO\u001B[39m\u001B[49m\u001B[22m\u001B[23m\u001B[24m\u001B[25m\u001B[27m\u001B[28m\u001B[29m\u001B[38;2;97;175;239m: \u001B[39m\u001B[49m\u001B[22m\u001B[23m\u001B[24m\u001B[25m\u001B[27m\u001B[28m\u001B[29mLoading model & tokenizer... \u001B[39m\u001B[49m\u001B[22m\u001B[23m\u001B[24m\u001B[25m\u001B[27m\u001B[28m\u001B[29m\n",
      "\u001B[38;2;0;186;142m2022-08-02 23:54:28\u001B[38;2;97;175;239m|\u001B[39m\u001B[49m\u001B[22m\u001B[23m\u001B[24m\u001B[25m\u001B[27m\u001B[28m\u001B[29m\u001B[38;2;198;120;221m[Get Setup]\u001B[38;2;97;175;239m::\u001B[38;2;198;120;221mget_all_setup\u001B[38;2;97;175;239m::\u001B[38;2;198;120;221mtrain.py\u001B[38;2;97;175;239m:\u001B[38;2;198;120;221m281\u001B[38;2;97;175;239m:\u001B[39m\u001B[49m\u001B[22m\u001B[23m\u001B[24m\u001B[25m\u001B[27m\u001B[28m\u001B[29mINFO\u001B[39m\u001B[49m\u001B[22m\u001B[23m\u001B[24m\u001B[25m\u001B[27m\u001B[28m\u001B[29m\u001B[38;2;97;175;239m: \u001B[39m\u001B[49m\u001B[22m\u001B[23m\u001B[24m\u001B[25m\u001B[27m\u001B[28m\u001B[29mLoading datasets... \u001B[39m\u001B[49m\u001B[22m\u001B[23m\u001B[24m\u001B[25m\u001B[27m\u001B[28m\u001B[29m\n",
      "\u001B[38;2;0;186;142m2022-08-02 23:54:28\u001B[38;2;97;175;239m|\u001B[39m\u001B[49m\u001B[22m\u001B[23m\u001B[24m\u001B[25m\u001B[27m\u001B[28m\u001B[29m\u001B[38;2;198;120;221m[Get Dataset]\u001B[38;2;97;175;239m::\u001B[38;2;198;120;221mget_dataset\u001B[38;2;97;175;239m::\u001B[38;2;198;120;221mdataset.py\u001B[38;2;97;175;239m:\u001B[38;2;198;120;221m43\u001B[38;2;97;175;239m:\u001B[39m\u001B[49m\u001B[22m\u001B[23m\u001B[24m\u001B[25m\u001B[27m\u001B[28m\u001B[29mINFO\u001B[39m\u001B[49m\u001B[22m\u001B[23m\u001B[24m\u001B[25m\u001B[27m\u001B[28m\u001B[29m\u001B[38;2;97;175;239m: \u001B[39m\u001B[49m\u001B[22m\u001B[23m\u001B[24m\u001B[25m\u001B[27m\u001B[28m\u001B[29mLoading dataset from disk... \u001B[39m\u001B[49m\u001B[22m\u001B[23m\u001B[24m\u001B[25m\u001B[27m\u001B[28m\u001B[29m\n",
      "\u001B[38;2;0;186;142m2022-08-02 23:54:35\u001B[38;2;97;175;239m|\u001B[39m\u001B[49m\u001B[22m\u001B[23m\u001B[24m\u001B[25m\u001B[27m\u001B[28m\u001B[29m\u001B[38;2;198;120;221m[Get Dataset]\u001B[38;2;97;175;239m::\u001B[38;2;198;120;221mget_dataset\u001B[38;2;97;175;239m::\u001B[38;2;198;120;221mdataset.py\u001B[38;2;97;175;239m:\u001B[38;2;198;120;221m68\u001B[38;2;97;175;239m:\u001B[39m\u001B[49m\u001B[22m\u001B[23m\u001B[24m\u001B[25m\u001B[27m\u001B[28m\u001B[29mINFO\u001B[39m\u001B[49m\u001B[22m\u001B[23m\u001B[24m\u001B[25m\u001B[27m\u001B[28m\u001B[29m\u001B[38;2;97;175;239m: \u001B[39m\u001B[49m\u001B[22m\u001B[23m\u001B[24m\u001B[25m\u001B[27m\u001B[28m\u001B[29mMapping... \u001B[39m\u001B[49m\u001B[22m\u001B[23m\u001B[24m\u001B[25m\u001B[27m\u001B[28m\u001B[29m\n",
      "    "
     ]
    },
    {
     "output_type": "display_data",
     "data": {
      "text/plain": [
       "#0:   0%|          | 0/2 [00:00<?, ?ba/s]"
      ],
      "application/vnd.jupyter.widget-view+json": {
       "version_major": 2,
       "version_minor": 0,
       "model_id": "606470fe86d34ab1b9a43d8891e9adad"
      }
     },
     "metadata": {}
    },
    {
     "output_type": "display_data",
     "data": {
      "text/plain": [
       "#1:   0%|          | 0/2 [00:00<?, ?ba/s]"
      ],
      "application/vnd.jupyter.widget-view+json": {
       "version_major": 2,
       "version_minor": 0,
       "model_id": "e14e3d51a4f045a88f81bc8db27bd9d0"
      }
     },
     "metadata": {}
    },
    {
     "output_type": "stream",
     "name": "stdout",
     "text": [
      "    "
     ]
    },
    {
     "output_type": "display_data",
     "data": {
      "text/plain": [
       "#0:   0%|          | 0/1 [00:00<?, ?ba/s]"
      ],
      "application/vnd.jupyter.widget-view+json": {
       "version_major": 2,
       "version_minor": 0,
       "model_id": "1541b73b75d842a19e7c403d61c4fe83"
      }
     },
     "metadata": {}
    },
    {
     "output_type": "display_data",
     "data": {
      "text/plain": [
       "#1:   0%|          | 0/1 [00:00<?, ?ba/s]"
      ],
      "application/vnd.jupyter.widget-view+json": {
       "version_major": 2,
       "version_minor": 0,
       "model_id": "f362868271e142689079a12abde91d83"
      }
     },
     "metadata": {}
    },
    {
     "output_type": "stream",
     "name": "stdout",
     "text": [
      "\u001B[38;2;0;186;142m2022-08-02 23:55:45\u001B[38;2;97;175;239m|\u001B[39m\u001B[49m\u001B[22m\u001B[23m\u001B[24m\u001B[25m\u001B[27m\u001B[28m\u001B[29m\u001B[38;2;198;120;221m[Get Dataset]\u001B[38;2;97;175;239m::\u001B[38;2;198;120;221mget_dataset\u001B[38;2;97;175;239m::\u001B[38;2;198;120;221mdataset.py\u001B[38;2;97;175;239m:\u001B[38;2;198;120;221m77\u001B[38;2;97;175;239m:\u001B[39m\u001B[49m\u001B[22m\u001B[23m\u001B[24m\u001B[25m\u001B[27m\u001B[28m\u001B[29mINFO\u001B[39m\u001B[49m\u001B[22m\u001B[23m\u001B[24m\u001B[25m\u001B[27m\u001B[28m\u001B[29m\u001B[38;2;97;175;239m: \u001B[39m\u001B[49m\u001B[22m\u001B[23m\u001B[24m\u001B[25m\u001B[27m\u001B[28m\u001B[29mShuffling with seed \u001B[34m77\u001B[39m\u001B[49m\u001B[0m... \u001B[39m\u001B[49m\u001B[22m\u001B[23m\u001B[24m\u001B[25m\u001B[27m\u001B[28m\u001B[29m\n"
     ]
    },
    {
     "output_type": "display_data",
     "data": {
      "text/plain": [
       "Downloading builder script:   0%|          | 0.00/1.65k [00:00<?, ?B/s]"
      ],
      "application/vnd.jupyter.widget-view+json": {
       "version_major": 2,
       "version_minor": 0,
       "model_id": "9c9e3c31a8f34722b6be3b94c38a063a"
      }
     },
     "metadata": {}
    }
   ],
   "source": [
    "md_nm = 'reformer'\n",
    "# md_sz = 'debug'\n",
    "# md_sz = 'tiny'\n",
    "md_sz = 'base'\n",
    "mic(md_nm, md_sz)\n",
    "\n",
    "# TODO: smaller seq-len for now, until it shows longer dependency\n",
    "model_config = dict(max_position_embeddings=1024, axial_pos_shape=(32, 32))\n",
    "\n",
    "n_ep = 128\n",
    "train_args = dict(save_strategy='epoch', num_train_epochs=n_ep)\n",
    "\n",
    "augment_key = False\n",
    "wordpiece_tokenize = False\n",
    "my_train_args = dict(\n",
    "    tqdm=True, logging_strategy='epoch', save_epochs=1,\n",
    "    augment_key=augment_key,\n",
    "    wordpiece_tokenize=wordpiece_tokenize,\n",
    ")\n",
    "\n",
    "if 'debug' in md_sz or md_sz == 'tiny':\n",
    "    train_args.update(dict(\n",
    "        per_device_train_batch_size=4,\n",
    "        num_train_epochs=64,\n",
    "    ))\n",
    "    my_train_args['save_epochs'] = 16\n",
    "else:\n",
    "    train_args.update(dict(\n",
    "        learning_rate=1e-5,\n",
    "        fp16=torch.cuda.is_available(),\n",
    "        per_device_train_batch_size=64,\n",
    "    ))\n",
    "    my_train_args['save_epochs'] = 16\n",
    "\n",
    "# mode = 'melody'\n",
    "mode = 'full'\n",
    "if mode == 'melody':\n",
    "    pop = 'musicnlp music extraction, dnm=POP909, n=909, meta={mode=melody, prec=5, th=1}, 2022-05-20_14-52-04'\n",
    "    mst = 'musicnlp music extraction, dnm=MAESTRO, n=1276, meta={mode=melody, prec=5, th=1}, 2022-05-20_14-52-28'\n",
    "    lmd = 'musicnlp music extraction, dnm=LMD, n=176640, meta={mode=melody, prec=5, th=1}, 2022-05-27_15-23-20'\n",
    "    dnms = [pop, mst, lmd]\n",
    "else:\n",
    "    pop = 'musicnlp music extraction, dnm=POP909, n=909, meta={mode=full, prec=5, th=1}, 2022-08-02_20-11-17'\n",
    "    mst = 'musicnlp music extraction, dnm=MAESTRO, n=1276, meta={mode=full, prec=5, th=1}, 2022-08-02_20-12-23'\n",
    "    dnms = [pop, mst]\n",
    "\n",
    "# n = 64\n",
    "n = None\n",
    "\n",
    "# checkpoint_path = os.path.join(u.model_path, '2022-07-12_00-09-14_reformer', 'checkpoint-16434')\n",
    "# mic(os.listdir(checkpoint_path))\n",
    "\n",
    "mdl, tokenizer, trainer = train.get_all_setup(\n",
    "    model_name=md_nm, model_size=md_sz, model_config=model_config,\n",
    "    dataset_names=dnms, dataset_args=dict(n_sample=n, shuffle_seed=seed, pbar=True),\n",
    "    train_args=train_args, my_train_args=my_train_args, trainer_args=dict(\n",
    "        disable_train_metrics=True\n",
    "    )\n",
    ")\n",
    "\n"
   ]
  },
  {
   "cell_type": "markdown",
   "metadata": {
    "collapsed": false,
    "id": "yX0y0jAN3KV3",
    "pycharm": {
     "name": "#%% md\n"
    }
   },
   "source": [
    "## Train\n"
   ]
  },
  {
   "cell_type": "markdown",
   "metadata": {
    "collapsed": false,
    "id": "2pfeb5zp3KV4",
    "pycharm": {
     "name": "#%% md\n"
    }
   },
   "source": [
    "Check log and tensorboard files written\n",
    "\n"
   ]
  },
  {
   "cell_type": "code",
   "execution_count": 5,
   "metadata": {
    "colab": {
     "base_uri": "https://localhost:8080/",
     "height": 1000,
     "referenced_widgets": [
      "8404509edf6640e99d69882518945920",
      "adc4763ddc0b425fbe40603a3a2ba8a8",
      "be4fa6cc4705457a868818a0630a42c4",
      "ecce10be34f6430190e0283f3573a5ca",
      "d2a5b6d4967948c7be00447ee9054299",
      "f194d1b02c7b459794a5aa69968ace3f",
      "76ccab36b13e4bc881478ee461874108",
      "c7b79d88291646f091039e3fd49b7bc7",
      "1afb174ebf6d4333a55f2bde7ab10b24",
      "6cfb87d391a34f8e8e9fe993ccbf0bf7",
      "2164fe499eed442fa8f23b23385e135c",
      "51280129358e4cd1a8643ef8f9b47f4c",
      "596d4820937b499b96ca648a67106feb",
      "3e759c40170442c8875af65b9469d977",
      "952cd625ba024595963b607663cee1f6",
      "2a6be767b60646a5bea558d3b74bd71f",
      "cfd57c71a13242488f57d24d551afa0e",
      "49da4e2e642446759ac94ee1541067d2",
      "a6200a7798aa4429aaa17c7a1e217b1b",
      "009f0bdae04045a6a6e77f84ad119651",
      "8ba43a02386a4ba0b6bc06edc5251282",
      "21a50139413240b097886cb15a55b4a4",
      "34878f8c9b6c408cb19f604523768bb9",
      "5c0bbcbdb2ee42e18f68a081f14fe67b",
      "aa64c6a732cd4effbc6149b8ecc3f053",
      "e9ad8ea60e1a4cb589257e397ab03d40",
      "6be59912ed9844bf9d06bbdeba029c7d",
      "ae72389893ba4cb6b037c82a93dc0e40",
      "8740f5cd4ef6436b91ae0e31f69a3ec8",
      "a4bb0e3489f24164bf708fd0968da8df",
      "9d1710fa1e584194bbc616111e4c2942",
      "ae86fed1d8f84651ac863f8f03c43a6d",
      "0c60b744509346f6a6950d30e23e40d4",
      "e6d29123c4464441a73df9e74b750058",
      "b560cc2383344ec3b39fa29426175df8",
      "f753a9be637846c7b6fc4c14d72ed37e",
      "0f31f4fc3d57429fa1bc7b1dcaa2cebf",
      "ceb280b65da840a8abc489d81afabfce",
      "0fb249236bd540d1b1134defa7460b99",
      "5634f46fff434f6aa976a0a7e30e0ac9",
      "242a2bd07e2a4544bf492784155a97b6",
      "420d06828f8140f4996af43bb25e81d2",
      "11271ea088b94e129a079b5734ca08e0",
      "42e5e265abb04512b85835dfa6ec51e5",
      "c3965108ba8f4df8b5e9fca553f21fa1",
      "bb40704b793240caa38873e634b7d013",
      "9376f217156b47f29506bb8330395aa3",
      "5a4c65b88e4546f0a16018adfa5d8047",
      "d859e1baa9934e28ab38232aa821674c",
      "0e121f2721f54c54a63109c2b980ae25",
      "74b9a416588243cbbaadd8644fe5b7a2",
      "b91ca64550f44c26bb7d9dfb5802cf25",
      "ed4c3af174a24ebeb3faf0c942590d93",
      "3666182452fc4317a8cf1b9479b9489d",
      "5dde9703d6c7499a861e4f21024808ed",
      "a86d3ca111fe4315a475a10dc9684cc7",
      "ba366c2dfa934e48bf12ec493e5c4bd3",
      "0e1497a79dc44aed9c17e89dca4d9afa",
      "2a4f0c8b4ff1489f88cb771d77a75a3d",
      "014357cdd7a34ae382aec39c1ae5f596",
      "1b0e405b55234fe58b03545e30431706",
      "3ee380301eed4827a96a446d34432867",
      "ca7ba86bf38f4c76a8b77e082764fd35",
      "aaa495a95b9c42af8d177491b1372121",
      "6b138eb10af04cb985fcd01d8ae9e065",
      "945e65eb1da345029a07d70fe6ca1fdd",
      "38f3d365d9ac412ba00008d428b54c8c",
      "c7603a14998f47a899068f942d93b63e",
      "cdd3fa0369fd419eb17163c944e0da3b",
      "888e2b53170d442d96b0e324ff80e24d",
      "00b0e531a934490c90585e8bc1ea00fd",
      "55948ddf005a4dedb97263e150cb3dcd",
      "367dd79a1269429390585cf5243530ff",
      "1777325b7386481fb8fa1fb3738baea8",
      "6074176628674abba9da32909bab0454",
      "933667826bca4ad695136d5d5a2511ec",
      "7efe3d949f9e4b8f84e99fc65c2bd4d2",
      "07108a7990754d34ba64d7a877511536",
      "d3f2c7c860b840d4a78f44c41f6248ca",
      "31cec050d73f43f58b622f43d82f0721",
      "1ca2d74636fa42129d3d83f800d29774",
      "130dd34998e049e2a657cef7449f37dc",
      "a939731906ed48cbbe51bd2c8ae1a1e0",
      "17abcb925fcf4316bea5c3eb8c250351",
      "d43d36123b6640eabfa13745b72cfd43",
      "72588b0dd09a49f5820c2770a838ac18",
      "447ce1a3581a4375808321dda432d3bd",
      "e0a186b88c3f4d1087f02d59ddcf830c",
      "33e0dc178f934b749d306c5caa92f27f",
      "fb7d5237821c4ad3b11025ddb6e305c0",
      "d1aae5d958eb4f0483c694fa8a29e9ca",
      "7414e3682c674d64a0641a2c3aa70fb4",
      "cde3e0f35f1d45b9959ccce3dcd9b72a",
      "cf5520a000b94a38a27923e75115113f",
      "440a2a61b9724426be6a6f3ac1935af3",
      "e23253f02bc3492cb1febf9785ccdb95",
      "241119a92c814281a86889c100b8a4ec",
      "c20bee55fe0e4917bef0e821dc8f1ac5",
      "1b0802ccb62e4ae2903fff555fe9a60e",
      "5c7f051d16764d1395aff380c6af7d00",
      "c6542ed514a149988b6fc0af875b3798",
      "77db928739e44059932f2e68b88cfcd6",
      "822acc8674f6490d99e7df25d9bd416c",
      "1db78f86fb2e443fb32c155daf803cb8",
      "db1abe853afb4bd298c96fc2645ada4d",
      "5816f5098d4142fabbcf2f17da4955f6",
      "b852ea8229c045539d53ea2cadedc8a4",
      "ba56d5b04a8f4f20b65ba6440c742ab3",
      "864d91cb6a354c5280d0ced9f762ffd0",
      "2c0ad2877abc4001bc9a09cb4d65d0df",
      "5743c53a34274ffa8d651dfa936ce520",
      "18292866460b47d4b3cc20871519f9d9",
      "a338e91dee0d4691b40d1744f8127f9f",
      "70cdc97281a74d90b717d388b602c261",
      "93e4cebc8a0845b998110a8a1a33bffc",
      "65cb379181c44f53b85b7950d10dc632",
      "102912ca7d1d4fdc8d143872826992c5",
      "73dca1fd446049ca90d1ba123a2f5431",
      "0b0e6d41f0b54a7cbb65578e9f7073eb",
      "b2f869512f0d4f3fa42212cca55ae694",
      "4eb23b10db20464d9c6ff2009e84a507",
      "2e9175565459423d88b10990a518228f",
      "3b86c66948084606b2de3aaea10a93c0",
      "9e89907e4e6949909339d45ebed9eba4",
      "971c466159644583b7cb5201983a867b",
      "ab0060fb952a48fba3bbd48f8b83698c",
      "657689a03cd64440906b59577b33e861",
      "2c23838ba06e4f62b99ed95c0e16c6f1",
      "e65de4687dff4a1a83d64feb44f10628",
      "e2e790489ea84475b362bbc1d237f454",
      "31d4c73d0da34317958c5af9396c2d04",
      "84a9aa4879314923a42930bd7a55a127",
      "2dd2a41cc4714d25bd651bc51b75b582",
      "66b064b777ef4b198cfbe02bee8845fd",
      "62f43029d5134cb8a73843509bc8dbea",
      "94d3cda22ec047dbad07cd913f491c93",
      "5c3917c5935c476496a37b27e9d4a472",
      "202cf5ec783b413186de4537f5027755",
      "c02ba3a894a34dd49848dc45383166d3",
      "2adc09e72d124561a62eb52d4c0f21d1",
      "5b4d19a480b14c348447644a4a189be7",
      "9f5d2fd44bf343719a475dc5c32ff843",
      "073d2687e7e840c6902163cc9bf13964",
      "948b758444934c9c9baa3eed072e13df",
      "6f6602fa2b56404391ae0205f504c979",
      "f85c877fc86e4dd6833c1fd30263b752",
      "2c1756fb24eb4816b4ae8a06237b74a2",
      "d989bc809158410e968ec1f499f55161",
      "be118fbcb53d47d1a3b9b880242872e2",
      "9cfb3a7232a9422e900786872a049db9",
      "fe3b228500f549788a62e601b2861325",
      "77dfc2fc91b24814862804751043e0f4",
      "bcf335ab1e48459e9406a3c1073b607f",
      "ff7fb5bbdfca49388a7d0d138899194f",
      "0e87e1b7f8f040f8bcc1f5a0f6c50351",
      "33d16602e009442ab38080deee860dfc",
      "d94b5d51163547cba122a92e89e17378",
      "ff946721caf1446a9a2a4d78c1f67bf7",
      "95db3e1c0e2a497f81770ee55b245bc3",
      "a9a7b597867f465a92853cf306a4d308",
      "317c2d27a02d47cb82c5dc6cb44790da",
      "90be9de5527241548da49138c754cb38",
      "42fe8450a0834f66b8e629c4fb80c222",
      "e7dfc260e9e444b9894d812d66705d63",
      "f47f408f9e204b5aaba639db249805d2",
      "8a781b45415b4738811f5b9794aa9631",
      "18b3500bea1d44b9a4e347de8667bf60",
      "02e78e4d54e14d9fa420eec8a47a1c93",
      "c20eb247675c4a92ab8a67519afaf7dc",
      "6ab8864874e940ad90aeaeda3d5a7f89",
      "770dcf32a18f42b2ad98e9856a014910",
      "13ab381fa9a945bcb4e39385dfb6bb3e",
      "696f034eee4d46669defcb739f0db3d6",
      "540294742e0e486b99f4894e019481a9",
      "4ee0eeaa1cb444a69c7ac74e64f84ac6",
      "f79c24f2c22d4e2e8246ee3a9eb99877",
      "a101c813ed66496b8e733cf0ba5aca0c",
      "e69701acf1d54131b79a7521dc0c87d2",
      "2aa4c279a7e748c68bd1465347774cfb",
      "01dc2ea0a5cd40e99dcb7934c53fb3d3",
      "566c2597f3674c8e8eb2830b6a45e213",
      "37b747b7c538474b9fb18bae1b86ebe3",
      "f437365631884712bd94929d7b03b27f",
      "4a8a89ccb34643b69c49bde39fe9a9bc",
      "2b9f87cb35324cf0b8d09e26d4b7a3fb",
      "6284a031bfc54767887f08366bc71fd8",
      "4cebddbe79194096832fed46eb88f611",
      "08ea1e3a14b942a6946355bf400287c8",
      "e92a80900dd04389a9b411bee76b4698",
      "eabda964f7ed4a23b4fc90b3cd50e0f5",
      "bd3c2290ba6c4ecc8a53300efc30271f",
      "33d1fe9e09d046e58dd65abf182d6f47",
      "de12a9bb95c140268c04fac258f8c0e8",
      "db27cb57293144518636ad24468aa536",
      "7e324147758049d4b0ca88067512a4ec",
      "a24f77b96e604782838ec90b6208231b",
      "35e482fe09b14118af98d0892e87f124",
      "7150d1c1874e475081baf78a7cb107e0",
      "a5e737eaa8034cf2804e2467aaec3e4f",
      "8df420ddfaf2400480763a6c372c3669",
      "d64f177a03324101ab0fe96027f1171b",
      "a18297ceb92a43a596978008b60b1810",
      "e555e6676a484bef8a1dd2aaf871f0bc",
      "5a616ce4d7014558b5640849d37a9242",
      "41a07ea8886249b48cb04671c7b38ccb",
      "734907974ae14d0c8479cfb79d9a402f",
      "de45569c93334f8c834a69fe351ec381",
      "2903ab23e7af4eaeba14f1c0fef5280c",
      "8f1fdd03779549b29573ad9b70793113",
      "d47db48445bf4998a185157654a74c95",
      "d5c571d8f4c7474bbae497ce5f084be7",
      "ac481f75bb2e445aadcc5f7ba8cea90f",
      "f48cf440d26440faaf293051db419c0f",
      "1e8ecacb5bfa4f149cd3aa99cb6e4c2e",
      "cdf2de13dc3a4fddac7fbdb19a317722",
      "99eb6841d729457aaaad89010dcb9501",
      "32a2be6050af49c89aecacb81fe51758",
      "06a32fe713814c689527ff55200d3853",
      "f5415865ecab42c984be185c6132a173",
      "6c16226357fc47a4acc5997c7ed06a8e",
      "8ecfcee380bb491f97a453dd137e665b",
      "da5bf26dd1ce4185bcdbcb82521a2a7e",
      "d152a179c6a14d25ae1023d19c9ae5b6",
      "26f17b49c1ce4937a911a0434ffc2424",
      "ba4c45284f154872b6cb3bf74ff2fbb1",
      "3736f4ac267c4f5e84157ac0ab30015c",
      "c634af50ae584594ad0db941a74155f7",
      "22311018cafa46249402e18606dbfe8b",
      "980929f0c00f441a8b4ffe4a1e360c6f",
      "46341ebe21d948b3acd84269d826003a",
      "cb95f2a9a5ec4838850aca5c727d5f90",
      "87e3211b6d644c58b61b8fa409fb26d5",
      "4c3070d022314ceeb29072fbf8ea84a9",
      "8b3edd33a3584e2b87dadd2dea25a36b",
      "959f206343fb4b55b1c8c08e6c827325",
      "bcc25cb219104be9a3e2e7722fd253bd",
      "42519c2e57a9413481fbebe0468d3ada",
      "f53f5945b1ba429598e2ab0515da446f",
      "cb8ce4d94e7749d588ef25d0caf57b7b",
      "1f9cabc80c4f4cc9828a6120fa8c7275",
      "632e385cabcd44ebae255c4bb38d5f4c",
      "d59d53068ac44ce491c3d8700d740e59",
      "5e50a26b8581432888643ddb8d587c0f",
      "3ba5412e61264cc88c92d323c6a47302",
      "2f14f43eebb54c15a9a761111f2352d0",
      "7574b30ec1004de7b9e19b4e1275b35d",
      "5cb4beac8ac846c3844920d7481960ff",
      "a478825b67fe4a73abdd736a00352d09",
      "f8f9c49b9511473baf9ee6de5d2305f6",
      "c66e9043320948a980dd6a92eff596db",
      "c8e3da6701e540bead872cbfcecce80d",
      "e97b965f2fd84a61b9ffd7511d9343e6",
      "a577e826a41c4c9f99220b045f7b2a93",
      "e817c4102cb44f839c4d92f024d6f7e4",
      "fee5965f092c4184ac12005de07028f7",
      "e482a6fdf6364f12bf42dcbca4667055",
      "38ec5af77f514951993d694c2c6c072a",
      "72a84ef386474ae7a537e41efd800f4a",
      "85a987760897467e84a34bdd69459207",
      "fd74bf162ca5483aad98f5a6398d3f60",
      "d7ef5536d2e84a41ad89b9806855cbf9",
      "262d742bce1e4b2faddde85dbe1029d6",
      "a8c19794d7f645ce9fc6ab89dd7c4329",
      "20899e70e28d436dab9e30b56920d5d4",
      "c6278a4e88dc4d02a535d01cd428eea5",
      "da365c679286458180dc2ad92fd242a5",
      "57267af927fb4341b931e4eba66a5be2",
      "9002f75c00df43289f7abd115c9d9f63",
      "fab86546684d4f4baad42ca9272ea75a",
      "8444d09df79844a98bbd03619ddf7df1",
      "af3efa58eb4d4cf684540fa6bc250907",
      "c8b60616f8544968a4dfdf225f9b4724",
      "bf2a96bea4d64a62a13ddb8a661d5635",
      "62efe1ba9cee4a15a1b04e3625042d7e",
      "e43313805e894f4ea67a0f3f590849da",
      "553cdeee5604419dac3a8508637be6e2",
      "679f355106e949499509c33d3645fe2e",
      "31a6b13ffc46490190d2ff7b3bf82e92",
      "5c70a5175fa049419223329e6d994a42",
      "1f591a2d2bba441084f5c006ca1d8569",
      "4c9152b42baa4841ae6ea113273b7fc6",
      "6598f5e732fc4a02b190a6c673b83c89",
      "97c4155c8f41424198461a028123da9b",
      "a4a02cd12a8f4363889f4057fd8b5440",
      "e3fd2099fc3845ca81ab04536953d023",
      "07ffe792329a4026a461d84da2bee891",
      "e07350c14b4241aeabb41fae173d6f9b",
      "7d1c983b52944534a7ea5e18241b1b4a",
      "652629ca637044098e877976a171b821",
      "6c97b826ae964e87a6aeb69b9a0a569f",
      "0e967e7cfbfd4920ac86bd283d330aad",
      "e8a0b0597efe4ec7b88d4b52d0b1d673",
      "ca247fee625d46289746020b7c684d09",
      "e2f85465ecef4659a99ec8d9952a9cf0",
      "efae6dae1ecf485780b6abab406df4df",
      "af5b39a5b2c94efebb48c9d5ab98fdc8",
      "817e9d71058245f5aaa9e118c27ecfe2",
      "983b851f67a44570a13a677ce97d4de6",
      "18374fa53b2548b7ae25223b92df9c31",
      "53a687b73df743f894269a0ed4b218e1",
      "79b24896977d466ea40b29cdb70ce340",
      "8cf1025e49504ec99b0790cdc94bad32",
      "00aedaf34b6b418cb4137f93d3c1bf18",
      "151010db5c354dd3afac41379a2f017a",
      "643500a84e7d4958a31c44064adc581b",
      "79114814fbd94bb289013b1ca9e759c2",
      "de710e49ef5740e28081de197ea07796",
      "45acc8bf3bb3446e8dc789612fe2b52e",
      "d3b6a65b8d03449baef0a55233189869",
      "f302e4d189734486854cb15694f9e5f9",
      "7cedb92546d7428591a300b1726b9bd9",
      "833e03551df3404aa409b8546d44f4ee",
      "ecf1daf48fb44aee84a9b10482a276c3",
      "72cfc705556e459fb20911d3ed7e85ac",
      "c784a5546716444693ab7e28b61414a2",
      "256a2110d4c7475a9b2c8962ae298396",
      "96675a9e8d104939823769b33d55170b",
      "01f348a6193c47cc873d4d907e0829a8",
      "0043dc9997774eb882fefd770d86b6cc",
      "5c9b639e6b804406bd852f2d3a367011",
      "8c1fbb1dade84d6780bc385caa01c45f",
      "6e43f761080947bebd1e1fcb9d28a94a",
      "aa8a5e35d06348b6b789b2100fba32e6",
      "67fddbcc97a84f158c7cf548e3e39186",
      "be20b17e1dba4c6bb40dbbd0b7ee487d",
      "dbf93797aad745fbba1268b7ac1316e1",
      "302906983f194655abedb4a6af34bb3f",
      "9747eeb823e840e29918e9e4fc414e06",
      "95d804752a914c7d88e52f099d56a43d",
      "b2399dfc9c5344c4b809cfadb2e78f95",
      "00f88e6779544fdb9212aff631a64418",
      "04e04faa0d5c4e2ab02bf3a1653d5983",
      "b7fcfae0ec26422b8798c825f77cb98a",
      "e40bbf50f15142c4b13501190edd9dd4",
      "f76350e4f6fa47bb8788c1de7349543e",
      "9473e6ae07e7456789bfc2a03a682121",
      "60838eb3605a440a862aedec2063781c",
      "7e4a660bd4424973b011711d7f55a2e2",
      "fa23d6fd83ef49eca26f7e1338752ff2",
      "dfc86ac97e2d456a8ed035dd52d249b8",
      "97efe363766e4b22944e10e67ed67214",
      "a0b86c7b4d4f44d79f8f213f1566bd08",
      "fe64467b008a451fa7d676db30a40a46",
      "bb2dd11e62114ca99afb76cbfd54e9fe",
      "a00f160492164cefbb61153d96b01c3e",
      "cc3987877a364de59999f4c6cd1b05a0",
      "047d95cf22654834855c0296972230b6",
      "5a35a80de6204e7aa64e201040e1b8e2",
      "f186120dd39145c6a4d4e79a532a2910",
      "7db4f1d8882d4f0eb808c80636982537",
      "8283175a2edb4a3d900eb700b1672c10",
      "2c881fa3a89745b08657643e55f85592",
      "156940839ee24f97b4a9a2448d4ebe63",
      "485defb4f143476abfd7a7e1483c3fe1",
      "02a1735fa15744dc9adff99e696d9c85",
      "07aee5deab314d379c61fc3c532a617d",
      "93a1c3ab65f143929ee2b24826f2afe6",
      "99c84d7e57994868aca0386660d88bd0",
      "0e3f31d0cb854896887890a7ada96f33",
      "d7817df3ca78476888d680d4188d0319",
      "f8eb3bd923ea4a7f959df7d13b1bf281",
      "637905a3d32a4948bd5ec9631fbe11b5",
      "3572f6ddffaa425b9840b7194c262eb1",
      "a777c5860fe44ec79d627a265337cb94",
      "d3021f615cd54109b56e966c10156345",
      "56ccd682243a43b59e27b2252b4d98a5",
      "223032ce02a14774be0098d5d5185cf8",
      "48c33447f5444381a0aa28a12dc8dc1f",
      "002345b38258438ab0a78397cafe0449",
      "d13696db9fbd4b84a3d79c1f893ee83a",
      "020e38257cab4b6a911d27ec97cac6d3",
      "2abe0e5c573b4a418dd12e9e9e7fa1ac",
      "9cd3fab323504c52ab3bb317e5b86fa5",
      "8a978063a3bd4068a24cbabcfa8f3b47",
      "f7581eeff02b4cec892ebac10027d9dd",
      "4fcdbda1d0b34181af23792f2e6c6c0d",
      "c527e418bd664ff58b94ffd9db44b760",
      "b459a007ff3e41f29da487d0e68794a1",
      "9eb9e82416214ab5abdfc476b5c80c8f",
      "0d877788df0443a78a0cb83f3cee3745",
      "28cf854700ae4bfc844960534e5f1dc5",
      "6ec51657e2a444f9b6aecb5c40b4b03f",
      "8cc13f640bd84d2893282507fc54df0f",
      "6224dc6a4a3d465fa8e5563449700ef3",
      "b5db8fff3a8f4002bd6f6695834f7fa3",
      "041cbef2764a4319874faf8fd7b4f933",
      "3a1536b55d804df09ce41bf7a143f524",
      "3b45c87d04a247949c8ee455a2e48e7d",
      "0e848e01cc0743d18d9cfbe4f59600d0",
      "414d4106dfb3484485691f24db02d100",
      "b19642acceb647d695797198f4369656",
      "3d82cee4f28a42f9973594089e2124d8",
      "3ff2b0eab4a6451ca09f6c76f6392405",
      "a15c7da9a90d45648d00737706b96083",
      "b8de7f82d99a4f879f56ebfe441d3c7e",
      "deb22712b7ea40329b76e4cfe4e78bb5",
      "5e0d43a48e324ff7bb00c2edebb5014f",
      "939259b0ada54901a1ba95615cb92d47",
      "263b9837942e4972b4abed83943abad5",
      "d8f6ead5198c49bc88eb13cfa207dcda",
      "cf59bee9e0b646ecbce56ed070e05c1c",
      "107ec8d5f34c4d8483e152bc1f98be45",
      "70306f8981ba4a859800bbf466d5a55a",
      "01b0a5a14566457e83c97d22b4f81e21",
      "0a42ff8af5c5466c8e99103e45dc2d67",
      "cbebe8c222d44eaaa6d973b0ef5fa4f7",
      "166827cf0003467d9dbff643e2439e3c",
      "8a47d68e899b475193cf918413e2e442",
      "3bc99f0a69784d5e83a6cbe7ca9c53f0",
      "2a52a0a52f2446ac83e258899ba13fb9",
      "a1b075c7c9c54b5e940cbf55c28bbfba",
      "ce956c2b180e4095baa61bf93a62efd9",
      "cb66535332dc447f8428f535b00c9c3b",
      "7b953005e29f46edb6b5ada0f0316878",
      "e06892058e734d42aeb5dcd0d76389ce",
      "d258103f1b7b424690cb27c0c897e5d2",
      "b3e8b658872447b39120d15c05e5887d",
      "34edc4b447cc4980af44b800dca3ea4f",
      "892eda2c74f64ae393eea74b74e181f2",
      "29729f69f03941a9a0b880060e5fb6fa",
      "505f101f5df04a1999343bd8600cc52a",
      "cfb03c5aedf24b8fb410ae5c2b87174e",
      "d20152703d16477f922b7886933e84d4",
      "715aa39b6c6b42d98000ae5982626a1a",
      "73aa10ee18254cea982044afe96b070f",
      "a66c2ed22dd047dc9adeb6dfbdbaff98",
      "f494590fcbdf48ca8e81ac486084d171",
      "fbc174b7cdf342be96a9fb6cab917cdb",
      "9c2a7818c7df4433a218c7d30682ba3c",
      "580d04903bf146efa922ffae4efb5a44",
      "e8851e22b4fa47f79c0883a3b77d5e6d",
      "bc7ee963c963424dbecdb77d59c6ea49",
      "0c905d7ebe7e442ab4dee0683605a334",
      "6d7f285abe7444dd8d0d6caed63989c9",
      "5c96510b4f76400c9daa1649988d733c",
      "4a249517596041cb8e45b38495d4c881",
      "22a1cee277724e0b8569b24f37f1d8ad",
      "4b4b99acdc8e49a5b908b51e77aa7572",
      "f86209dce67a4536a13d895f09d66a11",
      "40a4af63d66742a99418e9146030441d",
      "481e5df3dada4ed89b336f019c95df17",
      "f640cf5d4c204e5a848c11718dccfaa6",
      "e4104ccaf9db4c6cb2c6befd9f2554e4",
      "4d85011377d6448eaf1806dfa8b4cc90",
      "f79472ec94714345ae9a007b890d7108",
      "d5ea265ce9044124a17eac61ce40235a",
      "a7270870ee904db8a05cf3be3a65711c",
      "44570238501245659cae4f6dd4d76eab",
      "f228e0ddb23846eaa92eee73cfb2a176",
      "5682d9f60ed14200932077c7e4d94398",
      "c0c45dfbf6dd4da2b6fef93fc8fa3929",
      "8cafcffe95974a8780860f3f77518486",
      "92d05ace3b984ed5b43436acb6614686",
      "01516776ef7e4dde947deaebbd5b651f",
      "36daad6608634bf6a949e1a7b42a8f7a"
     ]
    },
    "id": "jpnJUlXN3KV4",
    "outputId": "59ebdf1b-c02d-429e-cd2d-298f876ed729",
    "executionInfo": {
     "status": "ok",
     "timestamp": 1659537481377,
     "user_tz": -480,
     "elapsed": 3167058,
     "user": {
      "displayName": "Stefan Heng",
      "userId": "11931699939643661721"
     }
    },
    "pycharm": {
     "name": "#%%\n"
    }
   },
   "outputs": [
    {
     "metadata": {
      "tags": null
     },
     "name": "stdout",
     "output_type": "stream",
     "text": [
      "\u001B[38;2;0;186;142m2022-08-02 23:55:53\u001B[38;2;97;175;239m|\u001B[39m\u001B[49m\u001B[22m\u001B[23m\u001B[24m\u001B[25m\u001B[27m\u001B[28m\u001B[29m\u001B[38;2;198;120;221m[MyReformerModelWithLMHead Train]\u001B[38;2;97;175;239m::\u001B[38;2;198;120;221mon_train_begin\u001B[38;2;97;175;239m::\u001B[38;2;198;120;221mtrain_util_wrap.py\u001B[38;2;97;175;239m:\u001B[38;2;198;120;221m173\u001B[38;2;97;175;239m:\u001B[39m\u001B[49m\u001B[22m\u001B[23m\u001B[24m\u001B[25m\u001B[27m\u001B[28m\u001B[29mINFO\u001B[39m\u001B[49m\u001B[22m\u001B[23m\u001B[24m\u001B[25m\u001B[27m\u001B[28m\u001B[29m\u001B[38;2;97;175;239m: \u001B[39m\u001B[49m\u001B[22m\u001B[23m\u001B[24m\u001B[25m\u001B[27m\u001B[28m\u001B[29mTraining started with model \u001B[35m{\u001B[39m\u001B[49m\u001B[0mmodel name\u001B[35m: \u001B[39m\u001B[49m\u001B[0m\u001B[34mMyReformerModelWithLMHead\u001B[39m\u001B[49m\u001B[0m, max length\u001B[35m: \u001B[39m\u001B[49m\u001B[0m\u001B[34m1024\u001B[39m\u001B[49m\u001B[0m, axial_pos_shape\u001B[35m: \u001B[39m\u001B[49m\u001B[0m\u001B[34m(32, 32)\u001B[39m\u001B[49m\u001B[0m, n_layer\u001B[35m: \u001B[39m\u001B[49m\u001B[0m\u001B[34m12\u001B[39m\u001B[49m\u001B[0m, hidden_size\u001B[35m: \u001B[39m\u001B[49m\u001B[0m\u001B[34m768\u001B[39m\u001B[49m\u001B[0m, ff_size\u001B[35m: \u001B[39m\u001B[49m\u001B[0m\u001B[34m3072\u001B[39m\u001B[49m\u001B[0m, attention_shape\u001B[35m: \u001B[39m\u001B[49m\u001B[0m\u001B[34m12x64\u001B[39m\u001B[49m\u001B[0m, parameter_count\u001B[35m: \u001B[39m\u001B[49m\u001B[0m\u001B[34m82.5M\u001B[39m\u001B[49m\u001B[0m\u001B[35m}\u001B[39m\u001B[49m\u001B[0m, {\n",
      "    \u001B[94m\"hash_seed\"\u001B[39;49;00m: \u001B[34mnull\u001B[39;49;00m,\n",
      "    \u001B[94m\"vocab_size\"\u001B[39;49;00m: \u001B[34m420\u001B[39;49;00m,\n",
      "    \u001B[94m\"attention_head_size\"\u001B[39;49;00m: \u001B[34m64\u001B[39;49;00m,\n",
      "    \u001B[94m\"hidden_size\"\u001B[39;49;00m: \u001B[34m768\u001B[39;49;00m,\n",
      "    \u001B[94m\"num_attention_heads\"\u001B[39;49;00m: \u001B[34m12\u001B[39;49;00m,\n",
      "    \u001B[94m\"num_hashes\"\u001B[39;49;00m: \u001B[34m2\u001B[39;49;00m,\n",
      "    \u001B[94m\"num_hidden_layers\"\u001B[39;49;00m: \u001B[34m12\u001B[39;49;00m,\n",
      "    \u001B[94m\"num_buckets\"\u001B[39;49;00m: \u001B[34mnull\u001B[39;49;00m,\n",
      "    \u001B[94m\"lsh_attn_chunk_length\"\u001B[39;49;00m: \u001B[34m64\u001B[39;49;00m,\n",
      "    \u001B[94m\"local_attn_chunk_length\"\u001B[39;49;00m: \u001B[34m64\u001B[39;49;00m,\n",
      "    \u001B[94m\"lsh_num_chunks_after\"\u001B[39;49;00m: \u001B[34m0\u001B[39;49;00m,\n",
      "    \u001B[94m\"lsh_num_chunks_before\"\u001B[39;49;00m: \u001B[34m1\u001B[39;49;00m,\n",
      "    \u001B[94m\"local_num_chunks_after\"\u001B[39;49;00m: \u001B[34m0\u001B[39;49;00m,\n",
      "    \u001B[94m\"local_num_chunks_before\"\u001B[39;49;00m: \u001B[34m1\u001B[39;49;00m,\n",
      "    \u001B[94m\"hidden_act\"\u001B[39;49;00m: \u001B[33m\"relu\"\u001B[39;49;00m,\n",
      "    \u001B[94m\"feed_forward_size\"\u001B[39;49;00m: \u001B[34m3072\u001B[39;49;00m,\n",
      "    \u001B[94m\"hidden_dropout_prob\"\u001B[39;49;00m: \u001B[34m0.05\u001B[39;49;00m,\n",
      "    \u001B[94m\"lsh_attention_probs_dropout_prob\"\u001B[39;49;00m: \u001B[34m0.0\u001B[39;49;00m,\n",
      "    \u001B[94m\"local_attention_probs_dropout_prob\"\u001B[39;49;00m: \u001B[34m0.05\u001B[39;49;00m,\n",
      "    \u001B[94m\"max_position_embeddings\"\u001B[39;49;00m: \u001B[34m1024\u001B[39;49;00m,\n",
      "    \u001B[94m\"initializer_range\"\u001B[39;49;00m: \u001B[34m0.02\u001B[39;49;00m,\n",
      "    \u001B[94m\"layer_norm_eps\"\u001B[39;49;00m: \u001B[34m1e-12\u001B[39;49;00m,\n",
      "    \u001B[94m\"axial_pos_embds\"\u001B[39;49;00m: \u001B[34mtrue\u001B[39;49;00m,\n",
      "    \u001B[94m\"axial_pos_shape\"\u001B[39;49;00m: [\n",
      "        \u001B[34m32\u001B[39;49;00m,\n",
      "        \u001B[34m32\u001B[39;49;00m\n",
      "    ],\n",
      "    \u001B[94m\"axial_pos_embds_dim\"\u001B[39;49;00m: [\n",
      "        \u001B[34m192\u001B[39;49;00m,\n",
      "        \u001B[34m576\u001B[39;49;00m\n",
      "    ],\n",
      "    \u001B[94m\"axial_norm_std\"\u001B[39;49;00m: \u001B[34m1.0\u001B[39;49;00m,\n",
      "    \u001B[94m\"chunk_size_lm_head\"\u001B[39;49;00m: \u001B[34m0\u001B[39;49;00m,\n",
      "    \u001B[94m\"attn_layers\"\u001B[39;49;00m: [\n",
      "        \u001B[33m\"local\"\u001B[39;49;00m,\n",
      "        \u001B[33m\"lsh\"\u001B[39;49;00m,\n",
      "        \u001B[33m\"local\"\u001B[39;49;00m,\n",
      "        \u001B[33m\"lsh\"\u001B[39;49;00m,\n",
      "        \u001B[33m\"local\"\u001B[39;49;00m,\n",
      "        \u001B[33m\"lsh\"\u001B[39;49;00m,\n",
      "        \u001B[33m\"local\"\u001B[39;49;00m,\n",
      "        \u001B[33m\"lsh\"\u001B[39;49;00m,\n",
      "        \u001B[33m\"local\"\u001B[39;49;00m,\n",
      "        \u001B[33m\"lsh\"\u001B[39;49;00m,\n",
      "        \u001B[33m\"local\"\u001B[39;49;00m,\n",
      "        \u001B[33m\"lsh\"\u001B[39;49;00m\n",
      "    ],\n",
      "    \u001B[94m\"use_cache\"\u001B[39;49;00m: \u001B[34mtrue\u001B[39;49;00m,\n",
      "    \u001B[94m\"classifier_dropout\"\u001B[39;49;00m: \u001B[34mnull\u001B[39;49;00m,\n",
      "    \u001B[94m\"return_dict\"\u001B[39;49;00m: \u001B[34mtrue\u001B[39;49;00m,\n",
      "    \u001B[94m\"output_hidden_states\"\u001B[39;49;00m: \u001B[34mfalse\u001B[39;49;00m,\n",
      "    \u001B[94m\"output_attentions\"\u001B[39;49;00m: \u001B[34mfalse\u001B[39;49;00m,\n",
      "    \u001B[94m\"torchscript\"\u001B[39;49;00m: \u001B[34mfalse\u001B[39;49;00m,\n",
      "    \u001B[94m\"torch_dtype\"\u001B[39;49;00m: \u001B[34mnull\u001B[39;49;00m,\n",
      "    \u001B[94m\"use_bfloat16\"\u001B[39;49;00m: \u001B[34mfalse\u001B[39;49;00m,\n",
      "    \u001B[94m\"tf_legacy_loss\"\u001B[39;49;00m: \u001B[34mfalse\u001B[39;49;00m,\n",
      "    \u001B[94m\"pruned_heads\"\u001B[39;49;00m: {},\n",
      "    \u001B[94m\"tie_word_embeddings\"\u001B[39;49;00m: \u001B[34mfalse\u001B[39;49;00m,\n",
      "    \u001B[94m\"is_encoder_decoder\"\u001B[39;49;00m: \u001B[34mfalse\u001B[39;49;00m,\n",
      "    \u001B[94m\"is_decoder\"\u001B[39;49;00m: \u001B[34mtrue\u001B[39;49;00m,\n",
      "    \u001B[94m\"cross_attention_hidden_size\"\u001B[39;49;00m: \u001B[34mnull\u001B[39;49;00m,\n",
      "    \u001B[94m\"add_cross_attention\"\u001B[39;49;00m: \u001B[34mfalse\u001B[39;49;00m,\n",
      "    \u001B[94m\"tie_encoder_decoder\"\u001B[39;49;00m: \u001B[34mfalse\u001B[39;49;00m,\n",
      "    \u001B[94m\"max_length\"\u001B[39;49;00m: \u001B[34m20\u001B[39;49;00m,\n",
      "    \u001B[94m\"min_length\"\u001B[39;49;00m: \u001B[34m0\u001B[39;49;00m,\n",
      "    \u001B[94m\"do_sample\"\u001B[39;49;00m: \u001B[34mfalse\u001B[39;49;00m,\n",
      "    \u001B[94m\"early_stopping\"\u001B[39;49;00m: \u001B[34mfalse\u001B[39;49;00m,\n",
      "    \u001B[94m\"num_beams\"\u001B[39;49;00m: \u001B[34m1\u001B[39;49;00m,\n",
      "    \u001B[94m\"num_beam_groups\"\u001B[39;49;00m: \u001B[34m1\u001B[39;49;00m,\n",
      "    \u001B[94m\"diversity_penalty\"\u001B[39;49;00m: \u001B[34m0.0\u001B[39;49;00m,\n",
      "    \u001B[94m\"temperature\"\u001B[39;49;00m: \u001B[34m1.0\u001B[39;49;00m,\n",
      "    \u001B[94m\"top_k\"\u001B[39;49;00m: \u001B[34m50\u001B[39;49;00m,\n",
      "    \u001B[94m\"top_p\"\u001B[39;49;00m: \u001B[34m1.0\u001B[39;49;00m,\n",
      "    \u001B[94m\"typical_p\"\u001B[39;49;00m: \u001B[34m1.0\u001B[39;49;00m,\n",
      "    \u001B[94m\"repetition_penalty\"\u001B[39;49;00m: \u001B[34m1.0\u001B[39;49;00m,\n",
      "    \u001B[94m\"length_penalty\"\u001B[39;49;00m: \u001B[34m1.0\u001B[39;49;00m,\n",
      "    \u001B[94m\"no_repeat_ngram_size\"\u001B[39;49;00m: \u001B[34m0\u001B[39;49;00m,\n",
      "    \u001B[94m\"encoder_no_repeat_ngram_size\"\u001B[39;49;00m: \u001B[34m0\u001B[39;49;00m,\n",
      "    \u001B[94m\"bad_words_ids\"\u001B[39;49;00m: \u001B[34mnull\u001B[39;49;00m,\n",
      "    \u001B[94m\"num_return_sequences\"\u001B[39;49;00m: \u001B[34m1\u001B[39;49;00m,\n",
      "    \u001B[94m\"chunk_size_feed_forward\"\u001B[39;49;00m: \u001B[34m0\u001B[39;49;00m,\n",
      "    \u001B[94m\"output_scores\"\u001B[39;49;00m: \u001B[34mfalse\u001B[39;49;00m,\n",
      "    \u001B[94m\"return_dict_in_generate\"\u001B[39;49;00m: \u001B[34mfalse\u001B[39;49;00m,\n",
      "    \u001B[94m\"forced_bos_token_id\"\u001B[39;49;00m: \u001B[34mnull\u001B[39;49;00m,\n",
      "    \u001B[94m\"forced_eos_token_id\"\u001B[39;49;00m: \u001B[34mnull\u001B[39;49;00m,\n",
      "    \u001B[94m\"remove_invalid_values\"\u001B[39;49;00m: \u001B[34mfalse\u001B[39;49;00m,\n",
      "    \u001B[94m\"exponential_decay_length_penalty\"\u001B[39;49;00m: \u001B[34mnull\u001B[39;49;00m,\n",
      "    \u001B[94m\"architectures\"\u001B[39;49;00m: \u001B[34mnull\u001B[39;49;00m,\n",
      "    \u001B[94m\"finetuning_task\"\u001B[39;49;00m: \u001B[34mnull\u001B[39;49;00m,\n",
      "    \u001B[94m\"id2label\"\u001B[39;49;00m: {\n",
      "        \u001B[94m\"0\"\u001B[39;49;00m: \u001B[33m\"LABEL_0\"\u001B[39;49;00m,\n",
      "        \u001B[94m\"1\"\u001B[39;49;00m: \u001B[33m\"LABEL_1\"\u001B[39;49;00m\n",
      "    },\n",
      "    \u001B[94m\"label2id\"\u001B[39;49;00m: {\n",
      "        \u001B[94m\"LABEL_0\"\u001B[39;49;00m: \u001B[34m0\u001B[39;49;00m,\n",
      "        \u001B[94m\"LABEL_1\"\u001B[39;49;00m: \u001B[34m1\u001B[39;49;00m\n",
      "    },\n",
      "    \u001B[94m\"tokenizer_class\"\u001B[39;49;00m: \u001B[34mnull\u001B[39;49;00m,\n",
      "    \u001B[94m\"prefix\"\u001B[39;49;00m: \u001B[34mnull\u001B[39;49;00m,\n",
      "    \u001B[94m\"bos_token_id\"\u001B[39;49;00m: \u001B[34mnull\u001B[39;49;00m,\n",
      "    \u001B[94m\"pad_token_id\"\u001B[39;49;00m: \u001B[34m6\u001B[39;49;00m,\n",
      "    \u001B[94m\"eos_token_id\"\u001B[39;49;00m: \u001B[34m1\u001B[39;49;00m,\n",
      "    \u001B[94m\"sep_token_id\"\u001B[39;49;00m: \u001B[34mnull\u001B[39;49;00m,\n",
      "    \u001B[94m\"decoder_start_token_id\"\u001B[39;49;00m: \u001B[34mnull\u001B[39;49;00m,\n",
      "    \u001B[94m\"task_specific_params\"\u001B[39;49;00m: \u001B[34mnull\u001B[39;49;00m,\n",
      "    \u001B[94m\"problem_type\"\u001B[39;49;00m: \u001B[34mnull\u001B[39;49;00m,\n",
      "    \u001B[94m\"_name_or_path\"\u001B[39;49;00m: \u001B[33m\"\"\u001B[39;49;00m,\n",
      "    \u001B[94m\"transformers_version\"\u001B[39;49;00m: \u001B[33m\"4.21.0\"\u001B[39;49;00m,\n",
      "    \u001B[94m\"model_type\"\u001B[39;49;00m: \u001B[33m\"reformer\"\u001B[39;49;00m\n",
      "}\n",
      " on \u001B[35m{\u001B[39m\u001B[49m\u001B[0m#data\u001B[35m: \u001B[39m\u001B[49m\u001B[0m\u001B[34m2140\u001B[39m\u001B[49m\u001B[0m, batch shape\u001B[35m: \u001B[39m\u001B[49m\u001B[0m\u001B[34m(64, 1024)\u001B[39m\u001B[49m\u001B[0m, #epochs\u001B[35m: \u001B[39m\u001B[49m\u001B[0m\u001B[34m128\u001B[39m\u001B[49m\u001B[0m, #steps\u001B[35m: \u001B[39m\u001B[49m\u001B[0m\u001B[34m4352\u001B[39m\u001B[49m\u001B[0m, learning rate\u001B[35m: \u001B[39m\u001B[49m\u001B[0m\u001B[34m1e-05\u001B[39m\u001B[49m\u001B[0m\u001B[35m}\u001B[39m\u001B[49m\u001B[0m with training args {\n",
      "    \u001B[94m\"output_dir\"\u001B[39;49;00m: \u001B[33m\"drive/My Drive/Research/Music with NLP/models/2022-08-02_23-55-45_reformer\"\u001B[39;49;00m,\n",
      "    \u001B[94m\"overwrite_output_dir\"\u001B[39;49;00m: \u001B[34mfalse\u001B[39;49;00m,\n",
      "    \u001B[94m\"do_train\"\u001B[39;49;00m: \u001B[34mtrue\u001B[39;49;00m,\n",
      "    \u001B[94m\"do_eval\"\u001B[39;49;00m: \u001B[34mtrue\u001B[39;49;00m,\n",
      "    \u001B[94m\"do_predict\"\u001B[39;49;00m: \u001B[34mfalse\u001B[39;49;00m,\n",
      "    \u001B[94m\"evaluation_strategy\"\u001B[39;49;00m: \u001B[33m\"epoch\"\u001B[39;49;00m,\n",
      "    \u001B[94m\"prediction_loss_only\"\u001B[39;49;00m: \u001B[34mfalse\u001B[39;49;00m,\n",
      "    \u001B[94m\"per_device_train_batch_size\"\u001B[39;49;00m: \u001B[34m64\u001B[39;49;00m,\n",
      "    \u001B[94m\"per_device_eval_batch_size\"\u001B[39;49;00m: \u001B[34m32\u001B[39;49;00m,\n",
      "    \u001B[94m\"per_gpu_train_batch_size\"\u001B[39;49;00m: \u001B[34mnull\u001B[39;49;00m,\n",
      "    \u001B[94m\"per_gpu_eval_batch_size\"\u001B[39;49;00m: \u001B[34mnull\u001B[39;49;00m,\n",
      "    \u001B[94m\"gradient_accumulation_steps\"\u001B[39;49;00m: \u001B[34m1\u001B[39;49;00m,\n",
      "    \u001B[94m\"eval_accumulation_steps\"\u001B[39;49;00m: \u001B[34m1\u001B[39;49;00m,\n",
      "    \u001B[94m\"eval_delay\"\u001B[39;49;00m: \u001B[34m0\u001B[39;49;00m,\n",
      "    \u001B[94m\"learning_rate\"\u001B[39;49;00m: \u001B[34m1e-05\u001B[39;49;00m,\n",
      "    \u001B[94m\"weight_decay\"\u001B[39;49;00m: \u001B[34m0.01\u001B[39;49;00m,\n",
      "    \u001B[94m\"adam_beta1\"\u001B[39;49;00m: \u001B[34m0.9\u001B[39;49;00m,\n",
      "    \u001B[94m\"adam_beta2\"\u001B[39;49;00m: \u001B[34m0.999\u001B[39;49;00m,\n",
      "    \u001B[94m\"adam_epsilon\"\u001B[39;49;00m: \u001B[34m1e-08\u001B[39;49;00m,\n",
      "    \u001B[94m\"max_grad_norm\"\u001B[39;49;00m: \u001B[34m1\u001B[39;49;00m,\n",
      "    \u001B[94m\"num_train_epochs\"\u001B[39;49;00m: \u001B[34m128\u001B[39;49;00m,\n",
      "    \u001B[94m\"max_steps\"\u001B[39;49;00m: \u001B[34m-1\u001B[39;49;00m,\n",
      "    \u001B[94m\"lr_scheduler_type\"\u001B[39;49;00m: \u001B[33m\"cosine\"\u001B[39;49;00m,\n",
      "    \u001B[94m\"warmup_ratio\"\u001B[39;49;00m: \u001B[34m0.1\u001B[39;49;00m,\n",
      "    \u001B[94m\"warmup_steps\"\u001B[39;49;00m: \u001B[34m0\u001B[39;49;00m,\n",
      "    \u001B[94m\"log_level\"\u001B[39;49;00m: \u001B[34m30\u001B[39;49;00m,\n",
      "    \u001B[94m\"log_level_replica\"\u001B[39;49;00m: \u001B[34m-1\u001B[39;49;00m,\n",
      "    \u001B[94m\"log_on_each_node\"\u001B[39;49;00m: \u001B[34mtrue\u001B[39;49;00m,\n",
      "    \u001B[94m\"logging_dir\"\u001B[39;49;00m: \u001B[33m\"drive/My Drive/Research/Music with NLP/models/2022-08-02_23-55-45_reformer/runs/Aug02_23-55-45_1e418d17aa3a\"\u001B[39;49;00m,\n",
      "    \u001B[94m\"logging_strategy\"\u001B[39;49;00m: \u001B[33m\"steps\"\u001B[39;49;00m,\n",
      "    \u001B[94m\"logging_first_step\"\u001B[39;49;00m: \u001B[34mfalse\u001B[39;49;00m,\n",
      "    \u001B[94m\"logging_steps\"\u001B[39;49;00m: \u001B[34m1\u001B[39;49;00m,\n",
      "    \u001B[94m\"logging_nan_inf_filter\"\u001B[39;49;00m: \u001B[34mtrue\u001B[39;49;00m,\n",
      "    \u001B[94m\"save_strategy\"\u001B[39;49;00m: \u001B[33m\"steps\"\u001B[39;49;00m,\n",
      "    \u001B[94m\"save_steps\"\u001B[39;49;00m: \u001B[34m544\u001B[39;49;00m,\n",
      "    \u001B[94m\"save_total_limit\"\u001B[39;49;00m: \u001B[34mnull\u001B[39;49;00m,\n",
      "    \u001B[94m\"save_on_each_node\"\u001B[39;49;00m: \u001B[34mfalse\u001B[39;49;00m,\n",
      "    \u001B[94m\"no_cuda\"\u001B[39;49;00m: \u001B[34mfalse\u001B[39;49;00m,\n",
      "    \u001B[94m\"seed\"\u001B[39;49;00m: \u001B[34m42\u001B[39;49;00m,\n",
      "    \u001B[94m\"data_seed\"\u001B[39;49;00m: \u001B[34mnull\u001B[39;49;00m,\n",
      "    \u001B[94m\"jit_mode_eval\"\u001B[39;49;00m: \u001B[34mfalse\u001B[39;49;00m,\n",
      "    \u001B[94m\"use_ipex\"\u001B[39;49;00m: \u001B[34mfalse\u001B[39;49;00m,\n",
      "    \u001B[94m\"bf16\"\u001B[39;49;00m: \u001B[34mfalse\u001B[39;49;00m,\n",
      "    \u001B[94m\"fp16\"\u001B[39;49;00m: \u001B[34mtrue\u001B[39;49;00m,\n",
      "    \u001B[94m\"fp16_opt_level\"\u001B[39;49;00m: \u001B[33m\"O1\"\u001B[39;49;00m,\n",
      "    \u001B[94m\"half_precision_backend\"\u001B[39;49;00m: \u001B[33m\"cuda_amp\"\u001B[39;49;00m,\n",
      "    \u001B[94m\"bf16_full_eval\"\u001B[39;49;00m: \u001B[34mfalse\u001B[39;49;00m,\n",
      "    \u001B[94m\"fp16_full_eval\"\u001B[39;49;00m: \u001B[34mfalse\u001B[39;49;00m,\n",
      "    \u001B[94m\"tf32\"\u001B[39;49;00m: \u001B[34mnull\u001B[39;49;00m,\n",
      "    \u001B[94m\"local_rank\"\u001B[39;49;00m: \u001B[34m-1\u001B[39;49;00m,\n",
      "    \u001B[94m\"xpu_backend\"\u001B[39;49;00m: \u001B[34mnull\u001B[39;49;00m,\n",
      "    \u001B[94m\"tpu_num_cores\"\u001B[39;49;00m: \u001B[34mnull\u001B[39;49;00m,\n",
      "    \u001B[94m\"tpu_metrics_debug\"\u001B[39;49;00m: \u001B[34mfalse\u001B[39;49;00m,\n",
      "    \u001B[94m\"debug\"\u001B[39;49;00m: [],\n",
      "    \u001B[94m\"dataloader_drop_last\"\u001B[39;49;00m: \u001B[34mfalse\u001B[39;49;00m,\n",
      "    \u001B[94m\"eval_steps\"\u001B[39;49;00m: \u001B[34mnull\u001B[39;49;00m,\n",
      "    \u001B[94m\"dataloader_num_workers\"\u001B[39;49;00m: \u001B[34m0\u001B[39;49;00m,\n",
      "    \u001B[94m\"past_index\"\u001B[39;49;00m: \u001B[34m-1\u001B[39;49;00m,\n",
      "    \u001B[94m\"run_name\"\u001B[39;49;00m: \u001B[33m\"drive/My Drive/Research/Music with NLP/models/2022-08-02_23-55-45_reformer\"\u001B[39;49;00m,\n",
      "    \u001B[94m\"disable_tqdm\"\u001B[39;49;00m: \u001B[34mtrue\u001B[39;49;00m,\n",
      "    \u001B[94m\"remove_unused_columns\"\u001B[39;49;00m: \u001B[34mtrue\u001B[39;49;00m,\n",
      "    \u001B[94m\"label_names\"\u001B[39;49;00m: \u001B[34mnull\u001B[39;49;00m,\n",
      "    \u001B[94m\"load_best_model_at_end\"\u001B[39;49;00m: \u001B[34mfalse\u001B[39;49;00m,\n",
      "    \u001B[94m\"metric_for_best_model\"\u001B[39;49;00m: \u001B[34mnull\u001B[39;49;00m,\n",
      "    \u001B[94m\"greater_is_better\"\u001B[39;49;00m: \u001B[34mnull\u001B[39;49;00m,\n",
      "    \u001B[94m\"ignore_data_skip\"\u001B[39;49;00m: \u001B[34mfalse\u001B[39;49;00m,\n",
      "    \u001B[94m\"sharded_ddp\"\u001B[39;49;00m: [],\n",
      "    \u001B[94m\"fsdp\"\u001B[39;49;00m: [],\n",
      "    \u001B[94m\"fsdp_min_num_params\"\u001B[39;49;00m: \u001B[34m0\u001B[39;49;00m,\n",
      "    \u001B[94m\"fsdp_transformer_layer_cls_to_wrap\"\u001B[39;49;00m: \u001B[34mnull\u001B[39;49;00m,\n",
      "    \u001B[94m\"deepspeed\"\u001B[39;49;00m: \u001B[34mnull\u001B[39;49;00m,\n",
      "    \u001B[94m\"label_smoothing_factor\"\u001B[39;49;00m: \u001B[34m0.0\u001B[39;49;00m,\n",
      "    \u001B[94m\"optim\"\u001B[39;49;00m: \u001B[33m\"adamw_torch\"\u001B[39;49;00m,\n",
      "    \u001B[94m\"adafactor\"\u001B[39;49;00m: \u001B[34mfalse\u001B[39;49;00m,\n",
      "    \u001B[94m\"group_by_length\"\u001B[39;49;00m: \u001B[34mfalse\u001B[39;49;00m,\n",
      "    \u001B[94m\"length_column_name\"\u001B[39;49;00m: \u001B[33m\"length\"\u001B[39;49;00m,\n",
      "    \u001B[94m\"report_to\"\u001B[39;49;00m: [],\n",
      "    \u001B[94m\"ddp_find_unused_parameters\"\u001B[39;49;00m: \u001B[34mnull\u001B[39;49;00m,\n",
      "    \u001B[94m\"ddp_bucket_cap_mb\"\u001B[39;49;00m: \u001B[34mnull\u001B[39;49;00m,\n",
      "    \u001B[94m\"dataloader_pin_memory\"\u001B[39;49;00m: \u001B[34mtrue\u001B[39;49;00m,\n",
      "    \u001B[94m\"skip_memory_metrics\"\u001B[39;49;00m: \u001B[34mtrue\u001B[39;49;00m,\n",
      "    \u001B[94m\"use_legacy_prediction_loop\"\u001B[39;49;00m: \u001B[34mfalse\u001B[39;49;00m,\n",
      "    \u001B[94m\"push_to_hub\"\u001B[39;49;00m: \u001B[34mfalse\u001B[39;49;00m,\n",
      "    \u001B[94m\"resume_from_checkpoint\"\u001B[39;49;00m: \u001B[34mnull\u001B[39;49;00m,\n",
      "    \u001B[94m\"hub_model_id\"\u001B[39;49;00m: \u001B[34mnull\u001B[39;49;00m,\n",
      "    \u001B[94m\"hub_strategy\"\u001B[39;49;00m: \u001B[33m\"every_save\"\u001B[39;49;00m,\n",
      "    \u001B[94m\"hub_token\"\u001B[39;49;00m: \u001B[33m\"<HUB_TOKEN>\"\u001B[39;49;00m,\n",
      "    \u001B[94m\"hub_private_repo\"\u001B[39;49;00m: \u001B[34mfalse\u001B[39;49;00m,\n",
      "    \u001B[94m\"gradient_checkpointing\"\u001B[39;49;00m: \u001B[34mfalse\u001B[39;49;00m,\n",
      "    \u001B[94m\"include_inputs_for_metrics\"\u001B[39;49;00m: \u001B[34mfalse\u001B[39;49;00m,\n",
      "    \u001B[94m\"fp16_backend\"\u001B[39;49;00m: \u001B[33m\"auto\"\u001B[39;49;00m,\n",
      "    \u001B[94m\"push_to_hub_model_id\"\u001B[39;49;00m: \u001B[34mnull\u001B[39;49;00m,\n",
      "    \u001B[94m\"push_to_hub_organization\"\u001B[39;49;00m: \u001B[34mnull\u001B[39;49;00m,\n",
      "    \u001B[94m\"push_to_hub_token\"\u001B[39;49;00m: \u001B[33m\"<PUSH_TO_HUB_TOKEN>\"\u001B[39;49;00m,\n",
      "    \u001B[94m\"_n_gpu\"\u001B[39;49;00m: \u001B[34m1\u001B[39;49;00m,\n",
      "    \u001B[94m\"mp_parameters\"\u001B[39;49;00m: \u001B[33m\"\"\u001B[39;49;00m,\n",
      "    \u001B[94m\"auto_find_batch_size\"\u001B[39;49;00m: \u001B[34mfalse\u001B[39;49;00m,\n",
      "    \u001B[94m\"full_determinism\"\u001B[39;49;00m: \u001B[34mfalse\u001B[39;49;00m,\n",
      "    \u001B[94m\"torchdynamo\"\u001B[39;49;00m: \u001B[34mnull\u001B[39;49;00m,\n",
      "    \u001B[94m\"ray_scope\"\u001B[39;49;00m: \u001B[33m\"last\"\u001B[39;49;00m\n",
      "}\n",
      " and my training args \u001B[35m{\u001B[39m\u001B[49m\u001B[0mlogging_strategy\u001B[35m: \u001B[39m\u001B[49m\u001B[0m\u001B[34mepoch\u001B[39m\u001B[49m\u001B[0m, tqdm\u001B[35m: \u001B[39m\u001B[49m\u001B[0m\u001B[34mTrue\u001B[39m\u001B[49m\u001B[0m, augment_key\u001B[35m: \u001B[39m\u001B[49m\u001B[0m\u001B[34mFalse\u001B[39m\u001B[49m\u001B[0m, save_epochs\u001B[35m: \u001B[39m\u001B[49m\u001B[0m\u001B[34m16\u001B[39m\u001B[49m\u001B[0m, steps_per_epoch\u001B[35m: \u001B[39m\u001B[49m\u001B[0m\u001B[34m34\u001B[39m\u001B[49m\u001B[0m, logging_steps\u001B[35m: \u001B[39m\u001B[49m\u001B[0m\u001B[34m34\u001B[39m\u001B[49m\u001B[0m\u001B[35m}\u001B[39m\u001B[49m\u001B[0m... \u001B[39m\u001B[49m\u001B[22m\u001B[23m\u001B[24m\u001B[25m\u001B[27m\u001B[28m\u001B[29m\n"
     ]
    },
    {
     "data": {
      "application/vnd.jupyter.widget-view+json": {
       "model_id": "8404509edf6640e99d69882518945920",
       "version_major": 2,
       "version_minor": 0
      },
      "text/plain": [
       "Train Epoch   1/128:   0%|          | 0/34 [00:00<?, ?ba/s]"
      ]
     },
     "metadata": {},
     "output_type": "display_data"
    },
    {
     "metadata": {
      "tags": null
     },
     "name": "stderr",
     "output_type": "stream",
     "text": [
      "config.num_buckets is not set. Setting config.num_buckets to 32...\n",
      "config.num_buckets is not set. Setting config.num_buckets to 32...\n",
      "config.num_buckets is not set. Setting config.num_buckets to 32...\n",
      "config.num_buckets is not set. Setting config.num_buckets to 32...\n",
      "config.num_buckets is not set. Setting config.num_buckets to 32...\n",
      "config.num_buckets is not set. Setting config.num_buckets to 32...\n"
     ]
    },
    {
     "metadata": {
      "tags": null
     },
     "name": "stdout",
     "output_type": "stream",
     "text": [
      "\u001B[38;2;0;186;142m2022-08-03 00:00:53\u001B[38;2;97;175;239m|\u001B[39m\u001B[49m\u001B[22m\u001B[23m\u001B[24m\u001B[25m\u001B[27m\u001B[28m\u001B[29m\u001B[38;2;198;120;221m[MyReformerModelWithLMHead Train]\u001B[38;2;97;175;239m::\u001B[38;2;198;120;221m_log\u001B[38;2;97;175;239m::\u001B[38;2;198;120;221mtrain_util_wrap.py\u001B[38;2;97;175;239m:\u001B[38;2;198;120;221m255\u001B[38;2;97;175;239m:\u001B[39m\u001B[49m\u001B[22m\u001B[23m\u001B[24m\u001B[25m\u001B[27m\u001B[28m\u001B[29mINFO\u001B[39m\u001B[49m\u001B[22m\u001B[23m\u001B[24m\u001B[25m\u001B[27m\u001B[28m\u001B[29m\u001B[38;2;97;175;239m: \u001B[39m\u001B[49m\u001B[22m\u001B[23m\u001B[24m\u001B[25m\u001B[27m\u001B[28m\u001B[29m\u001B[35m{\u001B[39m\u001B[49m\u001B[0mstep\u001B[35m: \u001B[39m\u001B[49m\u001B[0m\u001B[34m  34/4352\u001B[39m\u001B[49m\u001B[0m, epoch\u001B[35m: \u001B[39m\u001B[49m\u001B[0m\u001B[34m  1.000/128\u001B[39m\u001B[49m\u001B[0m, train/learning_rate\u001B[35m: \u001B[39m\u001B[49m\u001B[0m\u001B[34m8.000e-07\u001B[39m\u001B[49m\u001B[0m, train/loss\u001B[35m: \u001B[39m\u001B[49m\u001B[0m\u001B[34m6.0836\u001B[39m\u001B[49m\u001B[0m\u001B[35m}\u001B[39m\u001B[49m\u001B[0m\u001B[39m\u001B[49m\u001B[22m\u001B[23m\u001B[24m\u001B[25m\u001B[27m\u001B[28m\u001B[29m\n"
     ]
    },
    {
     "data": {
      "application/vnd.jupyter.widget-view+json": {
       "model_id": "adc4763ddc0b425fbe40603a3a2ba8a8",
       "version_major": 2,
       "version_minor": 0
      },
      "text/plain": [
       "Eval Epoch   1/128:   0%|          | 0/2 [00:00<?, ?ba/s]"
      ]
     },
     "metadata": {},
     "output_type": "display_data"
    },
    {
     "metadata": {
      "tags": null
     },
     "name": "stdout",
     "output_type": "stream",
     "text": [
      "\u001B[38;2;0;186;142m2022-08-03 00:00:56\u001B[38;2;97;175;239m|\u001B[39m\u001B[49m\u001B[22m\u001B[23m\u001B[24m\u001B[25m\u001B[27m\u001B[28m\u001B[29m\u001B[38;2;198;120;221m[MyReformerModelWithLMHead Train]\u001B[38;2;97;175;239m::\u001B[38;2;198;120;221m_log\u001B[38;2;97;175;239m::\u001B[38;2;198;120;221mtrain_util_wrap.py\u001B[38;2;97;175;239m:\u001B[38;2;198;120;221m255\u001B[38;2;97;175;239m:\u001B[39m\u001B[49m\u001B[22m\u001B[23m\u001B[24m\u001B[25m\u001B[27m\u001B[28m\u001B[29mINFO\u001B[39m\u001B[49m\u001B[22m\u001B[23m\u001B[24m\u001B[25m\u001B[27m\u001B[28m\u001B[29m\u001B[38;2;97;175;239m: \u001B[39m\u001B[49m\u001B[22m\u001B[23m\u001B[24m\u001B[25m\u001B[27m\u001B[28m\u001B[29m\u001B[35m{\u001B[39m\u001B[49m\u001B[0mstep\u001B[35m: \u001B[39m\u001B[49m\u001B[0m\u001B[34m  34/4352\u001B[39m\u001B[49m\u001B[0m, epoch\u001B[35m: \u001B[39m\u001B[49m\u001B[0m\u001B[34m  1/128\u001B[39m\u001B[49m\u001B[0m, eval/loss\u001B[35m: \u001B[39m\u001B[49m\u001B[0m\u001B[34m6.0454\u001B[39m\u001B[49m\u001B[0m, eval/ntp_acc\u001B[35m: \u001B[39m\u001B[49m\u001B[0m\u001B[34m  0.7\u001B[39m\u001B[49m\u001B[0m, eval/ikr\u001B[35m: \u001B[39m\u001B[49m\u001B[0m\u001B[34m55.46\u001B[39m\u001B[49m\u001B[0m\u001B[35m}\u001B[39m\u001B[49m\u001B[0m\u001B[39m\u001B[49m\u001B[22m\u001B[23m\u001B[24m\u001B[25m\u001B[27m\u001B[28m\u001B[29m\n"
     ]
    },
    {
     "data": {
      "application/vnd.jupyter.widget-view+json": {
       "model_id": "be4fa6cc4705457a868818a0630a42c4",
       "version_major": 2,
       "version_minor": 0
      },
      "text/plain": [
       "Train Epoch   2/128:   0%|          | 0/34 [00:00<?, ?ba/s]"
      ]
     },
     "metadata": {},
     "output_type": "display_data"
    },
    {
     "metadata": {
      "tags": null
     },
     "name": "stdout",
     "output_type": "stream",
     "text": [
      "\u001B[38;2;0;186;142m2022-08-03 00:05:53\u001B[38;2;97;175;239m|\u001B[39m\u001B[49m\u001B[22m\u001B[23m\u001B[24m\u001B[25m\u001B[27m\u001B[28m\u001B[29m\u001B[38;2;198;120;221m[MyReformerModelWithLMHead Train]\u001B[38;2;97;175;239m::\u001B[38;2;198;120;221m_log\u001B[38;2;97;175;239m::\u001B[38;2;198;120;221mtrain_util_wrap.py\u001B[38;2;97;175;239m:\u001B[38;2;198;120;221m255\u001B[38;2;97;175;239m:\u001B[39m\u001B[49m\u001B[22m\u001B[23m\u001B[24m\u001B[25m\u001B[27m\u001B[28m\u001B[29mINFO\u001B[39m\u001B[49m\u001B[22m\u001B[23m\u001B[24m\u001B[25m\u001B[27m\u001B[28m\u001B[29m\u001B[38;2;97;175;239m: \u001B[39m\u001B[49m\u001B[22m\u001B[23m\u001B[24m\u001B[25m\u001B[27m\u001B[28m\u001B[29m\u001B[35m{\u001B[39m\u001B[49m\u001B[0mstep\u001B[35m: \u001B[39m\u001B[49m\u001B[0m\u001B[34m  68/4352\u001B[39m\u001B[49m\u001B[0m, epoch\u001B[35m: \u001B[39m\u001B[49m\u001B[0m\u001B[34m  2.000/128\u001B[39m\u001B[49m\u001B[0m, train/learning_rate\u001B[35m: \u001B[39m\u001B[49m\u001B[0m\u001B[34m1.600e-06\u001B[39m\u001B[49m\u001B[0m, train/loss\u001B[35m: \u001B[39m\u001B[49m\u001B[0m\u001B[34m5.1148\u001B[39m\u001B[49m\u001B[0m\u001B[35m}\u001B[39m\u001B[49m\u001B[0m\u001B[39m\u001B[49m\u001B[22m\u001B[23m\u001B[24m\u001B[25m\u001B[27m\u001B[28m\u001B[29m\n"
     ]
    },
    {
     "data": {
      "application/vnd.jupyter.widget-view+json": {
       "model_id": "ecce10be34f6430190e0283f3573a5ca",
       "version_major": 2,
       "version_minor": 0
      },
      "text/plain": [
       "Eval Epoch   2/128:   0%|          | 0/2 [00:00<?, ?ba/s]"
      ]
     },
     "metadata": {},
     "output_type": "display_data"
    },
    {
     "metadata": {
      "tags": null
     },
     "name": "stdout",
     "output_type": "stream",
     "text": [
      "\u001B[38;2;0;186;142m2022-08-03 00:05:56\u001B[38;2;97;175;239m|\u001B[39m\u001B[49m\u001B[22m\u001B[23m\u001B[24m\u001B[25m\u001B[27m\u001B[28m\u001B[29m\u001B[38;2;198;120;221m[MyReformerModelWithLMHead Train]\u001B[38;2;97;175;239m::\u001B[38;2;198;120;221m_log\u001B[38;2;97;175;239m::\u001B[38;2;198;120;221mtrain_util_wrap.py\u001B[38;2;97;175;239m:\u001B[38;2;198;120;221m255\u001B[38;2;97;175;239m:\u001B[39m\u001B[49m\u001B[22m\u001B[23m\u001B[24m\u001B[25m\u001B[27m\u001B[28m\u001B[29mINFO\u001B[39m\u001B[49m\u001B[22m\u001B[23m\u001B[24m\u001B[25m\u001B[27m\u001B[28m\u001B[29m\u001B[38;2;97;175;239m: \u001B[39m\u001B[49m\u001B[22m\u001B[23m\u001B[24m\u001B[25m\u001B[27m\u001B[28m\u001B[29m\u001B[35m{\u001B[39m\u001B[49m\u001B[0mstep\u001B[35m: \u001B[39m\u001B[49m\u001B[0m\u001B[34m  68/4352\u001B[39m\u001B[49m\u001B[0m, epoch\u001B[35m: \u001B[39m\u001B[49m\u001B[0m\u001B[34m  2/128\u001B[39m\u001B[49m\u001B[0m, eval/loss\u001B[35m: \u001B[39m\u001B[49m\u001B[0m\u001B[34m5.0141\u001B[39m\u001B[49m\u001B[0m, eval/ntp_acc\u001B[35m: \u001B[39m\u001B[49m\u001B[0m\u001B[34m 9.54\u001B[39m\u001B[49m\u001B[0m, eval/ikr\u001B[35m: \u001B[39m\u001B[49m\u001B[0m\u001B[34m48.53\u001B[39m\u001B[49m\u001B[0m\u001B[35m}\u001B[39m\u001B[49m\u001B[0m\u001B[39m\u001B[49m\u001B[22m\u001B[23m\u001B[24m\u001B[25m\u001B[27m\u001B[28m\u001B[29m\n"
     ]
    },
    {
     "data": {
      "application/vnd.jupyter.widget-view+json": {
       "model_id": "d2a5b6d4967948c7be00447ee9054299",
       "version_major": 2,
       "version_minor": 0
      },
      "text/plain": [
       "Train Epoch   3/128:   0%|          | 0/34 [00:00<?, ?ba/s]"
      ]
     },
     "metadata": {},
     "output_type": "display_data"
    },
    {
     "metadata": {
      "tags": null
     },
     "name": "stdout",
     "output_type": "stream",
     "text": [
      "\u001B[38;2;0;186;142m2022-08-03 00:10:54\u001B[38;2;97;175;239m|\u001B[39m\u001B[49m\u001B[22m\u001B[23m\u001B[24m\u001B[25m\u001B[27m\u001B[28m\u001B[29m\u001B[38;2;198;120;221m[MyReformerModelWithLMHead Train]\u001B[38;2;97;175;239m::\u001B[38;2;198;120;221m_log\u001B[38;2;97;175;239m::\u001B[38;2;198;120;221mtrain_util_wrap.py\u001B[38;2;97;175;239m:\u001B[38;2;198;120;221m255\u001B[38;2;97;175;239m:\u001B[39m\u001B[49m\u001B[22m\u001B[23m\u001B[24m\u001B[25m\u001B[27m\u001B[28m\u001B[29mINFO\u001B[39m\u001B[49m\u001B[22m\u001B[23m\u001B[24m\u001B[25m\u001B[27m\u001B[28m\u001B[29m\u001B[38;2;97;175;239m: \u001B[39m\u001B[49m\u001B[22m\u001B[23m\u001B[24m\u001B[25m\u001B[27m\u001B[28m\u001B[29m\u001B[35m{\u001B[39m\u001B[49m\u001B[0mstep\u001B[35m: \u001B[39m\u001B[49m\u001B[0m\u001B[34m 102/4352\u001B[39m\u001B[49m\u001B[0m, epoch\u001B[35m: \u001B[39m\u001B[49m\u001B[0m\u001B[34m  3.000/128\u001B[39m\u001B[49m\u001B[0m, train/learning_rate\u001B[35m: \u001B[39m\u001B[49m\u001B[0m\u001B[34m2.300e-06\u001B[39m\u001B[49m\u001B[0m, train/loss\u001B[35m: \u001B[39m\u001B[49m\u001B[0m\u001B[34m4.2515\u001B[39m\u001B[49m\u001B[0m\u001B[35m}\u001B[39m\u001B[49m\u001B[0m\u001B[39m\u001B[49m\u001B[22m\u001B[23m\u001B[24m\u001B[25m\u001B[27m\u001B[28m\u001B[29m\n"
     ]
    },
    {
     "data": {
      "application/vnd.jupyter.widget-view+json": {
       "model_id": "f194d1b02c7b459794a5aa69968ace3f",
       "version_major": 2,
       "version_minor": 0
      },
      "text/plain": [
       "Eval Epoch   3/128:   0%|          | 0/2 [00:00<?, ?ba/s]"
      ]
     },
     "metadata": {},
     "output_type": "display_data"
    },
    {
     "metadata": {
      "tags": null
     },
     "name": "stdout",
     "output_type": "stream",
     "text": [
      "\u001B[38;2;0;186;142m2022-08-03 00:10:56\u001B[38;2;97;175;239m|\u001B[39m\u001B[49m\u001B[22m\u001B[23m\u001B[24m\u001B[25m\u001B[27m\u001B[28m\u001B[29m\u001B[38;2;198;120;221m[MyReformerModelWithLMHead Train]\u001B[38;2;97;175;239m::\u001B[38;2;198;120;221m_log\u001B[38;2;97;175;239m::\u001B[38;2;198;120;221mtrain_util_wrap.py\u001B[38;2;97;175;239m:\u001B[38;2;198;120;221m255\u001B[38;2;97;175;239m:\u001B[39m\u001B[49m\u001B[22m\u001B[23m\u001B[24m\u001B[25m\u001B[27m\u001B[28m\u001B[29mINFO\u001B[39m\u001B[49m\u001B[22m\u001B[23m\u001B[24m\u001B[25m\u001B[27m\u001B[28m\u001B[29m\u001B[38;2;97;175;239m: \u001B[39m\u001B[49m\u001B[22m\u001B[23m\u001B[24m\u001B[25m\u001B[27m\u001B[28m\u001B[29m\u001B[35m{\u001B[39m\u001B[49m\u001B[0mstep\u001B[35m: \u001B[39m\u001B[49m\u001B[0m\u001B[34m 102/4352\u001B[39m\u001B[49m\u001B[0m, epoch\u001B[35m: \u001B[39m\u001B[49m\u001B[0m\u001B[34m  3/128\u001B[39m\u001B[49m\u001B[0m, eval/loss\u001B[35m: \u001B[39m\u001B[49m\u001B[0m\u001B[34m4.168\u001B[39m\u001B[49m\u001B[0m, eval/ntp_acc\u001B[35m: \u001B[39m\u001B[49m\u001B[0m\u001B[34m10.04\u001B[39m\u001B[49m\u001B[0m, eval/ikr\u001B[35m: \u001B[39m\u001B[49m\u001B[0m\u001B[34m47.75\u001B[39m\u001B[49m\u001B[0m\u001B[35m}\u001B[39m\u001B[49m\u001B[0m\u001B[39m\u001B[49m\u001B[22m\u001B[23m\u001B[24m\u001B[25m\u001B[27m\u001B[28m\u001B[29m\n"
     ]
    },
    {
     "data": {
      "application/vnd.jupyter.widget-view+json": {
       "model_id": "76ccab36b13e4bc881478ee461874108",
       "version_major": 2,
       "version_minor": 0
      },
      "text/plain": [
       "Train Epoch   4/128:   0%|          | 0/34 [00:00<?, ?ba/s]"
      ]
     },
     "metadata": {},
     "output_type": "display_data"
    },
    {
     "metadata": {
      "tags": null
     },
     "name": "stdout",
     "output_type": "stream",
     "text": [
      "\u001B[38;2;0;186;142m2022-08-03 00:15:54\u001B[38;2;97;175;239m|\u001B[39m\u001B[49m\u001B[22m\u001B[23m\u001B[24m\u001B[25m\u001B[27m\u001B[28m\u001B[29m\u001B[38;2;198;120;221m[MyReformerModelWithLMHead Train]\u001B[38;2;97;175;239m::\u001B[38;2;198;120;221m_log\u001B[38;2;97;175;239m::\u001B[38;2;198;120;221mtrain_util_wrap.py\u001B[38;2;97;175;239m:\u001B[38;2;198;120;221m255\u001B[38;2;97;175;239m:\u001B[39m\u001B[49m\u001B[22m\u001B[23m\u001B[24m\u001B[25m\u001B[27m\u001B[28m\u001B[29mINFO\u001B[39m\u001B[49m\u001B[22m\u001B[23m\u001B[24m\u001B[25m\u001B[27m\u001B[28m\u001B[29m\u001B[38;2;97;175;239m: \u001B[39m\u001B[49m\u001B[22m\u001B[23m\u001B[24m\u001B[25m\u001B[27m\u001B[28m\u001B[29m\u001B[35m{\u001B[39m\u001B[49m\u001B[0mstep\u001B[35m: \u001B[39m\u001B[49m\u001B[0m\u001B[34m 136/4352\u001B[39m\u001B[49m\u001B[0m, epoch\u001B[35m: \u001B[39m\u001B[49m\u001B[0m\u001B[34m  4.000/128\u001B[39m\u001B[49m\u001B[0m, train/learning_rate\u001B[35m: \u001B[39m\u001B[49m\u001B[0m\u001B[34m3.100e-06\u001B[39m\u001B[49m\u001B[0m, train/loss\u001B[35m: \u001B[39m\u001B[49m\u001B[0m\u001B[34m3.8473\u001B[39m\u001B[49m\u001B[0m\u001B[35m}\u001B[39m\u001B[49m\u001B[0m\u001B[39m\u001B[49m\u001B[22m\u001B[23m\u001B[24m\u001B[25m\u001B[27m\u001B[28m\u001B[29m\n"
     ]
    },
    {
     "data": {
      "application/vnd.jupyter.widget-view+json": {
       "model_id": "c7b79d88291646f091039e3fd49b7bc7",
       "version_major": 2,
       "version_minor": 0
      },
      "text/plain": [
       "Eval Epoch   4/128:   0%|          | 0/2 [00:00<?, ?ba/s]"
      ]
     },
     "metadata": {},
     "output_type": "display_data"
    },
    {
     "metadata": {
      "tags": null
     },
     "name": "stdout",
     "output_type": "stream",
     "text": [
      "\u001B[38;2;0;186;142m2022-08-03 00:15:56\u001B[38;2;97;175;239m|\u001B[39m\u001B[49m\u001B[22m\u001B[23m\u001B[24m\u001B[25m\u001B[27m\u001B[28m\u001B[29m\u001B[38;2;198;120;221m[MyReformerModelWithLMHead Train]\u001B[38;2;97;175;239m::\u001B[38;2;198;120;221m_log\u001B[38;2;97;175;239m::\u001B[38;2;198;120;221mtrain_util_wrap.py\u001B[38;2;97;175;239m:\u001B[38;2;198;120;221m255\u001B[38;2;97;175;239m:\u001B[39m\u001B[49m\u001B[22m\u001B[23m\u001B[24m\u001B[25m\u001B[27m\u001B[28m\u001B[29mINFO\u001B[39m\u001B[49m\u001B[22m\u001B[23m\u001B[24m\u001B[25m\u001B[27m\u001B[28m\u001B[29m\u001B[38;2;97;175;239m: \u001B[39m\u001B[49m\u001B[22m\u001B[23m\u001B[24m\u001B[25m\u001B[27m\u001B[28m\u001B[29m\u001B[35m{\u001B[39m\u001B[49m\u001B[0mstep\u001B[35m: \u001B[39m\u001B[49m\u001B[0m\u001B[34m 136/4352\u001B[39m\u001B[49m\u001B[0m, epoch\u001B[35m: \u001B[39m\u001B[49m\u001B[0m\u001B[34m  4/128\u001B[39m\u001B[49m\u001B[0m, eval/loss\u001B[35m: \u001B[39m\u001B[49m\u001B[0m\u001B[34m3.8266\u001B[39m\u001B[49m\u001B[0m, eval/ntp_acc\u001B[35m: \u001B[39m\u001B[49m\u001B[0m\u001B[34m10.66\u001B[39m\u001B[49m\u001B[0m, eval/ikr\u001B[35m: \u001B[39m\u001B[49m\u001B[0m\u001B[34m47.75\u001B[39m\u001B[49m\u001B[0m\u001B[35m}\u001B[39m\u001B[49m\u001B[0m\u001B[39m\u001B[49m\u001B[22m\u001B[23m\u001B[24m\u001B[25m\u001B[27m\u001B[28m\u001B[29m\n"
     ]
    },
    {
     "data": {
      "application/vnd.jupyter.widget-view+json": {
       "model_id": "1afb174ebf6d4333a55f2bde7ab10b24",
       "version_major": 2,
       "version_minor": 0
      },
      "text/plain": [
       "Train Epoch   5/128:   0%|          | 0/34 [00:00<?, ?ba/s]"
      ]
     },
     "metadata": {},
     "output_type": "display_data"
    },
    {
     "metadata": {
      "tags": null
     },
     "name": "stdout",
     "output_type": "stream",
     "text": [
      "\u001B[38;2;0;186;142m2022-08-03 00:20:54\u001B[38;2;97;175;239m|\u001B[39m\u001B[49m\u001B[22m\u001B[23m\u001B[24m\u001B[25m\u001B[27m\u001B[28m\u001B[29m\u001B[38;2;198;120;221m[MyReformerModelWithLMHead Train]\u001B[38;2;97;175;239m::\u001B[38;2;198;120;221m_log\u001B[38;2;97;175;239m::\u001B[38;2;198;120;221mtrain_util_wrap.py\u001B[38;2;97;175;239m:\u001B[38;2;198;120;221m255\u001B[38;2;97;175;239m:\u001B[39m\u001B[49m\u001B[22m\u001B[23m\u001B[24m\u001B[25m\u001B[27m\u001B[28m\u001B[29mINFO\u001B[39m\u001B[49m\u001B[22m\u001B[23m\u001B[24m\u001B[25m\u001B[27m\u001B[28m\u001B[29m\u001B[38;2;97;175;239m: \u001B[39m\u001B[49m\u001B[22m\u001B[23m\u001B[24m\u001B[25m\u001B[27m\u001B[28m\u001B[29m\u001B[35m{\u001B[39m\u001B[49m\u001B[0mstep\u001B[35m: \u001B[39m\u001B[49m\u001B[0m\u001B[34m 170/4352\u001B[39m\u001B[49m\u001B[0m, epoch\u001B[35m: \u001B[39m\u001B[49m\u001B[0m\u001B[34m  5.000/128\u001B[39m\u001B[49m\u001B[0m, train/learning_rate\u001B[35m: \u001B[39m\u001B[49m\u001B[0m\u001B[34m3.900e-06\u001B[39m\u001B[49m\u001B[0m, train/loss\u001B[35m: \u001B[39m\u001B[49m\u001B[0m\u001B[34m3.769\u001B[39m\u001B[49m\u001B[0m\u001B[35m}\u001B[39m\u001B[49m\u001B[0m\u001B[39m\u001B[49m\u001B[22m\u001B[23m\u001B[24m\u001B[25m\u001B[27m\u001B[28m\u001B[29m\n"
     ]
    },
    {
     "data": {
      "application/vnd.jupyter.widget-view+json": {
       "model_id": "6cfb87d391a34f8e8e9fe993ccbf0bf7",
       "version_major": 2,
       "version_minor": 0
      },
      "text/plain": [
       "Eval Epoch   5/128:   0%|          | 0/2 [00:00<?, ?ba/s]"
      ]
     },
     "metadata": {},
     "output_type": "display_data"
    },
    {
     "metadata": {
      "tags": null
     },
     "name": "stdout",
     "output_type": "stream",
     "text": [
      "\u001B[38;2;0;186;142m2022-08-03 00:20:56\u001B[38;2;97;175;239m|\u001B[39m\u001B[49m\u001B[22m\u001B[23m\u001B[24m\u001B[25m\u001B[27m\u001B[28m\u001B[29m\u001B[38;2;198;120;221m[MyReformerModelWithLMHead Train]\u001B[38;2;97;175;239m::\u001B[38;2;198;120;221m_log\u001B[38;2;97;175;239m::\u001B[38;2;198;120;221mtrain_util_wrap.py\u001B[38;2;97;175;239m:\u001B[38;2;198;120;221m255\u001B[38;2;97;175;239m:\u001B[39m\u001B[49m\u001B[22m\u001B[23m\u001B[24m\u001B[25m\u001B[27m\u001B[28m\u001B[29mINFO\u001B[39m\u001B[49m\u001B[22m\u001B[23m\u001B[24m\u001B[25m\u001B[27m\u001B[28m\u001B[29m\u001B[38;2;97;175;239m: \u001B[39m\u001B[49m\u001B[22m\u001B[23m\u001B[24m\u001B[25m\u001B[27m\u001B[28m\u001B[29m\u001B[35m{\u001B[39m\u001B[49m\u001B[0mstep\u001B[35m: \u001B[39m\u001B[49m\u001B[0m\u001B[34m 170/4352\u001B[39m\u001B[49m\u001B[0m, epoch\u001B[35m: \u001B[39m\u001B[49m\u001B[0m\u001B[34m  5/128\u001B[39m\u001B[49m\u001B[0m, eval/loss\u001B[35m: \u001B[39m\u001B[49m\u001B[0m\u001B[34m3.7206\u001B[39m\u001B[49m\u001B[0m, eval/ntp_acc\u001B[35m: \u001B[39m\u001B[49m\u001B[0m\u001B[34m11.01\u001B[39m\u001B[49m\u001B[0m, eval/ikr\u001B[35m: \u001B[39m\u001B[49m\u001B[0m\u001B[34m47.75\u001B[39m\u001B[49m\u001B[0m\u001B[35m}\u001B[39m\u001B[49m\u001B[0m\u001B[39m\u001B[49m\u001B[22m\u001B[23m\u001B[24m\u001B[25m\u001B[27m\u001B[28m\u001B[29m\n"
     ]
    },
    {
     "data": {
      "application/vnd.jupyter.widget-view+json": {
       "model_id": "2164fe499eed442fa8f23b23385e135c",
       "version_major": 2,
       "version_minor": 0
      },
      "text/plain": [
       "Train Epoch   6/128:   0%|          | 0/34 [00:00<?, ?ba/s]"
      ]
     },
     "metadata": {},
     "output_type": "display_data"
    },
    {
     "metadata": {
      "tags": null
     },
     "name": "stdout",
     "output_type": "stream",
     "text": [
      "\u001B[38;2;0;186;142m2022-08-03 00:25:54\u001B[38;2;97;175;239m|\u001B[39m\u001B[49m\u001B[22m\u001B[23m\u001B[24m\u001B[25m\u001B[27m\u001B[28m\u001B[29m\u001B[38;2;198;120;221m[MyReformerModelWithLMHead Train]\u001B[38;2;97;175;239m::\u001B[38;2;198;120;221m_log\u001B[38;2;97;175;239m::\u001B[38;2;198;120;221mtrain_util_wrap.py\u001B[38;2;97;175;239m:\u001B[38;2;198;120;221m255\u001B[38;2;97;175;239m:\u001B[39m\u001B[49m\u001B[22m\u001B[23m\u001B[24m\u001B[25m\u001B[27m\u001B[28m\u001B[29mINFO\u001B[39m\u001B[49m\u001B[22m\u001B[23m\u001B[24m\u001B[25m\u001B[27m\u001B[28m\u001B[29m\u001B[38;2;97;175;239m: \u001B[39m\u001B[49m\u001B[22m\u001B[23m\u001B[24m\u001B[25m\u001B[27m\u001B[28m\u001B[29m\u001B[35m{\u001B[39m\u001B[49m\u001B[0mstep\u001B[35m: \u001B[39m\u001B[49m\u001B[0m\u001B[34m 204/4352\u001B[39m\u001B[49m\u001B[0m, epoch\u001B[35m: \u001B[39m\u001B[49m\u001B[0m\u001B[34m  6.000/128\u001B[39m\u001B[49m\u001B[0m, train/learning_rate\u001B[35m: \u001B[39m\u001B[49m\u001B[0m\u001B[34m4.700e-06\u001B[39m\u001B[49m\u001B[0m, train/loss\u001B[35m: \u001B[39m\u001B[49m\u001B[0m\u001B[34m3.7561\u001B[39m\u001B[49m\u001B[0m\u001B[35m}\u001B[39m\u001B[49m\u001B[0m\u001B[39m\u001B[49m\u001B[22m\u001B[23m\u001B[24m\u001B[25m\u001B[27m\u001B[28m\u001B[29m\n"
     ]
    },
    {
     "data": {
      "application/vnd.jupyter.widget-view+json": {
       "model_id": "51280129358e4cd1a8643ef8f9b47f4c",
       "version_major": 2,
       "version_minor": 0
      },
      "text/plain": [
       "Eval Epoch   6/128:   0%|          | 0/2 [00:00<?, ?ba/s]"
      ]
     },
     "metadata": {},
     "output_type": "display_data"
    },
    {
     "metadata": {
      "tags": null
     },
     "name": "stdout",
     "output_type": "stream",
     "text": [
      "\u001B[38;2;0;186;142m2022-08-03 00:25:57\u001B[38;2;97;175;239m|\u001B[39m\u001B[49m\u001B[22m\u001B[23m\u001B[24m\u001B[25m\u001B[27m\u001B[28m\u001B[29m\u001B[38;2;198;120;221m[MyReformerModelWithLMHead Train]\u001B[38;2;97;175;239m::\u001B[38;2;198;120;221m_log\u001B[38;2;97;175;239m::\u001B[38;2;198;120;221mtrain_util_wrap.py\u001B[38;2;97;175;239m:\u001B[38;2;198;120;221m255\u001B[38;2;97;175;239m:\u001B[39m\u001B[49m\u001B[22m\u001B[23m\u001B[24m\u001B[25m\u001B[27m\u001B[28m\u001B[29mINFO\u001B[39m\u001B[49m\u001B[22m\u001B[23m\u001B[24m\u001B[25m\u001B[27m\u001B[28m\u001B[29m\u001B[38;2;97;175;239m: \u001B[39m\u001B[49m\u001B[22m\u001B[23m\u001B[24m\u001B[25m\u001B[27m\u001B[28m\u001B[29m\u001B[35m{\u001B[39m\u001B[49m\u001B[0mstep\u001B[35m: \u001B[39m\u001B[49m\u001B[0m\u001B[34m 204/4352\u001B[39m\u001B[49m\u001B[0m, epoch\u001B[35m: \u001B[39m\u001B[49m\u001B[0m\u001B[34m  6/128\u001B[39m\u001B[49m\u001B[0m, eval/loss\u001B[35m: \u001B[39m\u001B[49m\u001B[0m\u001B[34m3.6805\u001B[39m\u001B[49m\u001B[0m, eval/ntp_acc\u001B[35m: \u001B[39m\u001B[49m\u001B[0m\u001B[34m11.07\u001B[39m\u001B[49m\u001B[0m, eval/ikr\u001B[35m: \u001B[39m\u001B[49m\u001B[0m\u001B[34m47.75\u001B[39m\u001B[49m\u001B[0m\u001B[35m}\u001B[39m\u001B[49m\u001B[0m\u001B[39m\u001B[49m\u001B[22m\u001B[23m\u001B[24m\u001B[25m\u001B[27m\u001B[28m\u001B[29m\n"
     ]
    },
    {
     "data": {
      "application/vnd.jupyter.widget-view+json": {
       "model_id": "596d4820937b499b96ca648a67106feb",
       "version_major": 2,
       "version_minor": 0
      },
      "text/plain": [
       "Train Epoch   7/128:   0%|          | 0/34 [00:00<?, ?ba/s]"
      ]
     },
     "metadata": {},
     "output_type": "display_data"
    },
    {
     "metadata": {
      "tags": null
     },
     "name": "stdout",
     "output_type": "stream",
     "text": [
      "\u001B[38;2;0;186;142m2022-08-03 00:30:55\u001B[38;2;97;175;239m|\u001B[39m\u001B[49m\u001B[22m\u001B[23m\u001B[24m\u001B[25m\u001B[27m\u001B[28m\u001B[29m\u001B[38;2;198;120;221m[MyReformerModelWithLMHead Train]\u001B[38;2;97;175;239m::\u001B[38;2;198;120;221m_log\u001B[38;2;97;175;239m::\u001B[38;2;198;120;221mtrain_util_wrap.py\u001B[38;2;97;175;239m:\u001B[38;2;198;120;221m255\u001B[38;2;97;175;239m:\u001B[39m\u001B[49m\u001B[22m\u001B[23m\u001B[24m\u001B[25m\u001B[27m\u001B[28m\u001B[29mINFO\u001B[39m\u001B[49m\u001B[22m\u001B[23m\u001B[24m\u001B[25m\u001B[27m\u001B[28m\u001B[29m\u001B[38;2;97;175;239m: \u001B[39m\u001B[49m\u001B[22m\u001B[23m\u001B[24m\u001B[25m\u001B[27m\u001B[28m\u001B[29m\u001B[35m{\u001B[39m\u001B[49m\u001B[0mstep\u001B[35m: \u001B[39m\u001B[49m\u001B[0m\u001B[34m 238/4352\u001B[39m\u001B[49m\u001B[0m, epoch\u001B[35m: \u001B[39m\u001B[49m\u001B[0m\u001B[34m  7.000/128\u001B[39m\u001B[49m\u001B[0m, train/learning_rate\u001B[35m: \u001B[39m\u001B[49m\u001B[0m\u001B[34m5.500e-06\u001B[39m\u001B[49m\u001B[0m, train/loss\u001B[35m: \u001B[39m\u001B[49m\u001B[0m\u001B[34m3.6977\u001B[39m\u001B[49m\u001B[0m\u001B[35m}\u001B[39m\u001B[49m\u001B[0m\u001B[39m\u001B[49m\u001B[22m\u001B[23m\u001B[24m\u001B[25m\u001B[27m\u001B[28m\u001B[29m\n"
     ]
    },
    {
     "data": {
      "application/vnd.jupyter.widget-view+json": {
       "model_id": "3e759c40170442c8875af65b9469d977",
       "version_major": 2,
       "version_minor": 0
      },
      "text/plain": [
       "Eval Epoch   7/128:   0%|          | 0/2 [00:00<?, ?ba/s]"
      ]
     },
     "metadata": {},
     "output_type": "display_data"
    },
    {
     "metadata": {
      "tags": null
     },
     "name": "stdout",
     "output_type": "stream",
     "text": [
      "\u001B[38;2;0;186;142m2022-08-03 00:30:57\u001B[38;2;97;175;239m|\u001B[39m\u001B[49m\u001B[22m\u001B[23m\u001B[24m\u001B[25m\u001B[27m\u001B[28m\u001B[29m\u001B[38;2;198;120;221m[MyReformerModelWithLMHead Train]\u001B[38;2;97;175;239m::\u001B[38;2;198;120;221m_log\u001B[38;2;97;175;239m::\u001B[38;2;198;120;221mtrain_util_wrap.py\u001B[38;2;97;175;239m:\u001B[38;2;198;120;221m255\u001B[38;2;97;175;239m:\u001B[39m\u001B[49m\u001B[22m\u001B[23m\u001B[24m\u001B[25m\u001B[27m\u001B[28m\u001B[29mINFO\u001B[39m\u001B[49m\u001B[22m\u001B[23m\u001B[24m\u001B[25m\u001B[27m\u001B[28m\u001B[29m\u001B[38;2;97;175;239m: \u001B[39m\u001B[49m\u001B[22m\u001B[23m\u001B[24m\u001B[25m\u001B[27m\u001B[28m\u001B[29m\u001B[35m{\u001B[39m\u001B[49m\u001B[0mstep\u001B[35m: \u001B[39m\u001B[49m\u001B[0m\u001B[34m 238/4352\u001B[39m\u001B[49m\u001B[0m, epoch\u001B[35m: \u001B[39m\u001B[49m\u001B[0m\u001B[34m  7/128\u001B[39m\u001B[49m\u001B[0m, eval/loss\u001B[35m: \u001B[39m\u001B[49m\u001B[0m\u001B[34m3.6579\u001B[39m\u001B[49m\u001B[0m, eval/ntp_acc\u001B[35m: \u001B[39m\u001B[49m\u001B[0m\u001B[34m10.97\u001B[39m\u001B[49m\u001B[0m, eval/ikr\u001B[35m: \u001B[39m\u001B[49m\u001B[0m\u001B[34m34.97\u001B[39m\u001B[49m\u001B[0m\u001B[35m}\u001B[39m\u001B[49m\u001B[0m\u001B[39m\u001B[49m\u001B[22m\u001B[23m\u001B[24m\u001B[25m\u001B[27m\u001B[28m\u001B[29m\n"
     ]
    },
    {
     "data": {
      "application/vnd.jupyter.widget-view+json": {
       "model_id": "952cd625ba024595963b607663cee1f6",
       "version_major": 2,
       "version_minor": 0
      },
      "text/plain": [
       "Train Epoch   8/128:   0%|          | 0/34 [00:00<?, ?ba/s]"
      ]
     },
     "metadata": {},
     "output_type": "display_data"
    },
    {
     "metadata": {
      "tags": null
     },
     "name": "stdout",
     "output_type": "stream",
     "text": [
      "\u001B[38;2;0;186;142m2022-08-03 00:35:55\u001B[38;2;97;175;239m|\u001B[39m\u001B[49m\u001B[22m\u001B[23m\u001B[24m\u001B[25m\u001B[27m\u001B[28m\u001B[29m\u001B[38;2;198;120;221m[MyReformerModelWithLMHead Train]\u001B[38;2;97;175;239m::\u001B[38;2;198;120;221m_log\u001B[38;2;97;175;239m::\u001B[38;2;198;120;221mtrain_util_wrap.py\u001B[38;2;97;175;239m:\u001B[38;2;198;120;221m255\u001B[38;2;97;175;239m:\u001B[39m\u001B[49m\u001B[22m\u001B[23m\u001B[24m\u001B[25m\u001B[27m\u001B[28m\u001B[29mINFO\u001B[39m\u001B[49m\u001B[22m\u001B[23m\u001B[24m\u001B[25m\u001B[27m\u001B[28m\u001B[29m\u001B[38;2;97;175;239m: \u001B[39m\u001B[49m\u001B[22m\u001B[23m\u001B[24m\u001B[25m\u001B[27m\u001B[28m\u001B[29m\u001B[35m{\u001B[39m\u001B[49m\u001B[0mstep\u001B[35m: \u001B[39m\u001B[49m\u001B[0m\u001B[34m 272/4352\u001B[39m\u001B[49m\u001B[0m, epoch\u001B[35m: \u001B[39m\u001B[49m\u001B[0m\u001B[34m  8.000/128\u001B[39m\u001B[49m\u001B[0m, train/learning_rate\u001B[35m: \u001B[39m\u001B[49m\u001B[0m\u001B[34m6.200e-06\u001B[39m\u001B[49m\u001B[0m, train/loss\u001B[35m: \u001B[39m\u001B[49m\u001B[0m\u001B[34m3.6613\u001B[39m\u001B[49m\u001B[0m\u001B[35m}\u001B[39m\u001B[49m\u001B[0m\u001B[39m\u001B[49m\u001B[22m\u001B[23m\u001B[24m\u001B[25m\u001B[27m\u001B[28m\u001B[29m\n"
     ]
    },
    {
     "data": {
      "application/vnd.jupyter.widget-view+json": {
       "model_id": "2a6be767b60646a5bea558d3b74bd71f",
       "version_major": 2,
       "version_minor": 0
      },
      "text/plain": [
       "Eval Epoch   8/128:   0%|          | 0/2 [00:00<?, ?ba/s]"
      ]
     },
     "metadata": {},
     "output_type": "display_data"
    },
    {
     "metadata": {
      "tags": null
     },
     "name": "stdout",
     "output_type": "stream",
     "text": [
      "\u001B[38;2;0;186;142m2022-08-03 00:35:57\u001B[38;2;97;175;239m|\u001B[39m\u001B[49m\u001B[22m\u001B[23m\u001B[24m\u001B[25m\u001B[27m\u001B[28m\u001B[29m\u001B[38;2;198;120;221m[MyReformerModelWithLMHead Train]\u001B[38;2;97;175;239m::\u001B[38;2;198;120;221m_log\u001B[38;2;97;175;239m::\u001B[38;2;198;120;221mtrain_util_wrap.py\u001B[38;2;97;175;239m:\u001B[38;2;198;120;221m255\u001B[38;2;97;175;239m:\u001B[39m\u001B[49m\u001B[22m\u001B[23m\u001B[24m\u001B[25m\u001B[27m\u001B[28m\u001B[29mINFO\u001B[39m\u001B[49m\u001B[22m\u001B[23m\u001B[24m\u001B[25m\u001B[27m\u001B[28m\u001B[29m\u001B[38;2;97;175;239m: \u001B[39m\u001B[49m\u001B[22m\u001B[23m\u001B[24m\u001B[25m\u001B[27m\u001B[28m\u001B[29m\u001B[35m{\u001B[39m\u001B[49m\u001B[0mstep\u001B[35m: \u001B[39m\u001B[49m\u001B[0m\u001B[34m 272/4352\u001B[39m\u001B[49m\u001B[0m, epoch\u001B[35m: \u001B[39m\u001B[49m\u001B[0m\u001B[34m  8/128\u001B[39m\u001B[49m\u001B[0m, eval/loss\u001B[35m: \u001B[39m\u001B[49m\u001B[0m\u001B[34m3.6462\u001B[39m\u001B[49m\u001B[0m, eval/ntp_acc\u001B[35m: \u001B[39m\u001B[49m\u001B[0m\u001B[34m10.94\u001B[39m\u001B[49m\u001B[0m, eval/ikr\u001B[35m: \u001B[39m\u001B[49m\u001B[0m\u001B[34m47.75\u001B[39m\u001B[49m\u001B[0m\u001B[35m}\u001B[39m\u001B[49m\u001B[0m\u001B[39m\u001B[49m\u001B[22m\u001B[23m\u001B[24m\u001B[25m\u001B[27m\u001B[28m\u001B[29m\n"
     ]
    },
    {
     "data": {
      "application/vnd.jupyter.widget-view+json": {
       "model_id": "cfd57c71a13242488f57d24d551afa0e",
       "version_major": 2,
       "version_minor": 0
      },
      "text/plain": [
       "Train Epoch   9/128:   0%|          | 0/34 [00:00<?, ?ba/s]"
      ]
     },
     "metadata": {},
     "output_type": "display_data"
    },
    {
     "metadata": {
      "tags": null
     },
     "name": "stdout",
     "output_type": "stream",
     "text": [
      "\u001B[38;2;0;186;142m2022-08-03 00:40:55\u001B[38;2;97;175;239m|\u001B[39m\u001B[49m\u001B[22m\u001B[23m\u001B[24m\u001B[25m\u001B[27m\u001B[28m\u001B[29m\u001B[38;2;198;120;221m[MyReformerModelWithLMHead Train]\u001B[38;2;97;175;239m::\u001B[38;2;198;120;221m_log\u001B[38;2;97;175;239m::\u001B[38;2;198;120;221mtrain_util_wrap.py\u001B[38;2;97;175;239m:\u001B[38;2;198;120;221m255\u001B[38;2;97;175;239m:\u001B[39m\u001B[49m\u001B[22m\u001B[23m\u001B[24m\u001B[25m\u001B[27m\u001B[28m\u001B[29mINFO\u001B[39m\u001B[49m\u001B[22m\u001B[23m\u001B[24m\u001B[25m\u001B[27m\u001B[28m\u001B[29m\u001B[38;2;97;175;239m: \u001B[39m\u001B[49m\u001B[22m\u001B[23m\u001B[24m\u001B[25m\u001B[27m\u001B[28m\u001B[29m\u001B[35m{\u001B[39m\u001B[49m\u001B[0mstep\u001B[35m: \u001B[39m\u001B[49m\u001B[0m\u001B[34m 306/4352\u001B[39m\u001B[49m\u001B[0m, epoch\u001B[35m: \u001B[39m\u001B[49m\u001B[0m\u001B[34m  9.000/128\u001B[39m\u001B[49m\u001B[0m, train/learning_rate\u001B[35m: \u001B[39m\u001B[49m\u001B[0m\u001B[34m7.000e-06\u001B[39m\u001B[49m\u001B[0m, train/loss\u001B[35m: \u001B[39m\u001B[49m\u001B[0m\u001B[34m3.6248\u001B[39m\u001B[49m\u001B[0m\u001B[35m}\u001B[39m\u001B[49m\u001B[0m\u001B[39m\u001B[49m\u001B[22m\u001B[23m\u001B[24m\u001B[25m\u001B[27m\u001B[28m\u001B[29m\n"
     ]
    },
    {
     "data": {
      "application/vnd.jupyter.widget-view+json": {
       "model_id": "49da4e2e642446759ac94ee1541067d2",
       "version_major": 2,
       "version_minor": 0
      },
      "text/plain": [
       "Eval Epoch   9/128:   0%|          | 0/2 [00:00<?, ?ba/s]"
      ]
     },
     "metadata": {},
     "output_type": "display_data"
    },
    {
     "metadata": {
      "tags": null
     },
     "name": "stdout",
     "output_type": "stream",
     "text": [
      "\u001B[38;2;0;186;142m2022-08-03 00:40:57\u001B[38;2;97;175;239m|\u001B[39m\u001B[49m\u001B[22m\u001B[23m\u001B[24m\u001B[25m\u001B[27m\u001B[28m\u001B[29m\u001B[38;2;198;120;221m[MyReformerModelWithLMHead Train]\u001B[38;2;97;175;239m::\u001B[38;2;198;120;221m_log\u001B[38;2;97;175;239m::\u001B[38;2;198;120;221mtrain_util_wrap.py\u001B[38;2;97;175;239m:\u001B[38;2;198;120;221m255\u001B[38;2;97;175;239m:\u001B[39m\u001B[49m\u001B[22m\u001B[23m\u001B[24m\u001B[25m\u001B[27m\u001B[28m\u001B[29mINFO\u001B[39m\u001B[49m\u001B[22m\u001B[23m\u001B[24m\u001B[25m\u001B[27m\u001B[28m\u001B[29m\u001B[38;2;97;175;239m: \u001B[39m\u001B[49m\u001B[22m\u001B[23m\u001B[24m\u001B[25m\u001B[27m\u001B[28m\u001B[29m\u001B[35m{\u001B[39m\u001B[49m\u001B[0mstep\u001B[35m: \u001B[39m\u001B[49m\u001B[0m\u001B[34m 306/4352\u001B[39m\u001B[49m\u001B[0m, epoch\u001B[35m: \u001B[39m\u001B[49m\u001B[0m\u001B[34m  9/128\u001B[39m\u001B[49m\u001B[0m, eval/loss\u001B[35m: \u001B[39m\u001B[49m\u001B[0m\u001B[34m3.6377\u001B[39m\u001B[49m\u001B[0m, eval/ntp_acc\u001B[35m: \u001B[39m\u001B[49m\u001B[0m\u001B[34m11.08\u001B[39m\u001B[49m\u001B[0m, eval/ikr\u001B[35m: \u001B[39m\u001B[49m\u001B[0m\u001B[34m17.79\u001B[39m\u001B[49m\u001B[0m\u001B[35m}\u001B[39m\u001B[49m\u001B[0m\u001B[39m\u001B[49m\u001B[22m\u001B[23m\u001B[24m\u001B[25m\u001B[27m\u001B[28m\u001B[29m\n"
     ]
    },
    {
     "data": {
      "application/vnd.jupyter.widget-view+json": {
       "model_id": "a6200a7798aa4429aaa17c7a1e217b1b",
       "version_major": 2,
       "version_minor": 0
      },
      "text/plain": [
       "Train Epoch  10/128:   0%|          | 0/34 [00:00<?, ?ba/s]"
      ]
     },
     "metadata": {},
     "output_type": "display_data"
    },
    {
     "metadata": {
      "tags": null
     },
     "name": "stdout",
     "output_type": "stream",
     "text": [
      "\u001B[38;2;0;186;142m2022-08-03 00:45:55\u001B[38;2;97;175;239m|\u001B[39m\u001B[49m\u001B[22m\u001B[23m\u001B[24m\u001B[25m\u001B[27m\u001B[28m\u001B[29m\u001B[38;2;198;120;221m[MyReformerModelWithLMHead Train]\u001B[38;2;97;175;239m::\u001B[38;2;198;120;221m_log\u001B[38;2;97;175;239m::\u001B[38;2;198;120;221mtrain_util_wrap.py\u001B[38;2;97;175;239m:\u001B[38;2;198;120;221m255\u001B[38;2;97;175;239m:\u001B[39m\u001B[49m\u001B[22m\u001B[23m\u001B[24m\u001B[25m\u001B[27m\u001B[28m\u001B[29mINFO\u001B[39m\u001B[49m\u001B[22m\u001B[23m\u001B[24m\u001B[25m\u001B[27m\u001B[28m\u001B[29m\u001B[38;2;97;175;239m: \u001B[39m\u001B[49m\u001B[22m\u001B[23m\u001B[24m\u001B[25m\u001B[27m\u001B[28m\u001B[29m\u001B[35m{\u001B[39m\u001B[49m\u001B[0mstep\u001B[35m: \u001B[39m\u001B[49m\u001B[0m\u001B[34m 340/4352\u001B[39m\u001B[49m\u001B[0m, epoch\u001B[35m: \u001B[39m\u001B[49m\u001B[0m\u001B[34m 10.000/128\u001B[39m\u001B[49m\u001B[0m, train/learning_rate\u001B[35m: \u001B[39m\u001B[49m\u001B[0m\u001B[34m7.800e-06\u001B[39m\u001B[49m\u001B[0m, train/loss\u001B[35m: \u001B[39m\u001B[49m\u001B[0m\u001B[34m3.6915\u001B[39m\u001B[49m\u001B[0m\u001B[35m}\u001B[39m\u001B[49m\u001B[0m\u001B[39m\u001B[49m\u001B[22m\u001B[23m\u001B[24m\u001B[25m\u001B[27m\u001B[28m\u001B[29m\n"
     ]
    },
    {
     "data": {
      "application/vnd.jupyter.widget-view+json": {
       "model_id": "009f0bdae04045a6a6e77f84ad119651",
       "version_major": 2,
       "version_minor": 0
      },
      "text/plain": [
       "Eval Epoch  10/128:   0%|          | 0/2 [00:00<?, ?ba/s]"
      ]
     },
     "metadata": {},
     "output_type": "display_data"
    },
    {
     "metadata": {
      "tags": null
     },
     "name": "stdout",
     "output_type": "stream",
     "text": [
      "\u001B[38;2;0;186;142m2022-08-03 00:45:57\u001B[38;2;97;175;239m|\u001B[39m\u001B[49m\u001B[22m\u001B[23m\u001B[24m\u001B[25m\u001B[27m\u001B[28m\u001B[29m\u001B[38;2;198;120;221m[MyReformerModelWithLMHead Train]\u001B[38;2;97;175;239m::\u001B[38;2;198;120;221m_log\u001B[38;2;97;175;239m::\u001B[38;2;198;120;221mtrain_util_wrap.py\u001B[38;2;97;175;239m:\u001B[38;2;198;120;221m255\u001B[38;2;97;175;239m:\u001B[39m\u001B[49m\u001B[22m\u001B[23m\u001B[24m\u001B[25m\u001B[27m\u001B[28m\u001B[29mINFO\u001B[39m\u001B[49m\u001B[22m\u001B[23m\u001B[24m\u001B[25m\u001B[27m\u001B[28m\u001B[29m\u001B[38;2;97;175;239m: \u001B[39m\u001B[49m\u001B[22m\u001B[23m\u001B[24m\u001B[25m\u001B[27m\u001B[28m\u001B[29m\u001B[35m{\u001B[39m\u001B[49m\u001B[0mstep\u001B[35m: \u001B[39m\u001B[49m\u001B[0m\u001B[34m 340/4352\u001B[39m\u001B[49m\u001B[0m, epoch\u001B[35m: \u001B[39m\u001B[49m\u001B[0m\u001B[34m 10/128\u001B[39m\u001B[49m\u001B[0m, eval/loss\u001B[35m: \u001B[39m\u001B[49m\u001B[0m\u001B[34m3.6239\u001B[39m\u001B[49m\u001B[0m, eval/ntp_acc\u001B[35m: \u001B[39m\u001B[49m\u001B[0m\u001B[34m10.97\u001B[39m\u001B[49m\u001B[0m, eval/ikr\u001B[35m: \u001B[39m\u001B[49m\u001B[0m\u001B[34m47.75\u001B[39m\u001B[49m\u001B[0m\u001B[35m}\u001B[39m\u001B[49m\u001B[0m\u001B[39m\u001B[49m\u001B[22m\u001B[23m\u001B[24m\u001B[25m\u001B[27m\u001B[28m\u001B[29m\n"
     ]
    },
    {
     "data": {
      "application/vnd.jupyter.widget-view+json": {
       "model_id": "8ba43a02386a4ba0b6bc06edc5251282",
       "version_major": 2,
       "version_minor": 0
      },
      "text/plain": [
       "Train Epoch  11/128:   0%|          | 0/34 [00:00<?, ?ba/s]"
      ]
     },
     "metadata": {},
     "output_type": "display_data"
    },
    {
     "metadata": {
      "tags": null
     },
     "name": "stdout",
     "output_type": "stream",
     "text": [
      "\u001B[38;2;0;186;142m2022-08-03 00:50:54\u001B[38;2;97;175;239m|\u001B[39m\u001B[49m\u001B[22m\u001B[23m\u001B[24m\u001B[25m\u001B[27m\u001B[28m\u001B[29m\u001B[38;2;198;120;221m[MyReformerModelWithLMHead Train]\u001B[38;2;97;175;239m::\u001B[38;2;198;120;221m_log\u001B[38;2;97;175;239m::\u001B[38;2;198;120;221mtrain_util_wrap.py\u001B[38;2;97;175;239m:\u001B[38;2;198;120;221m255\u001B[38;2;97;175;239m:\u001B[39m\u001B[49m\u001B[22m\u001B[23m\u001B[24m\u001B[25m\u001B[27m\u001B[28m\u001B[29mINFO\u001B[39m\u001B[49m\u001B[22m\u001B[23m\u001B[24m\u001B[25m\u001B[27m\u001B[28m\u001B[29m\u001B[38;2;97;175;239m: \u001B[39m\u001B[49m\u001B[22m\u001B[23m\u001B[24m\u001B[25m\u001B[27m\u001B[28m\u001B[29m\u001B[35m{\u001B[39m\u001B[49m\u001B[0mstep\u001B[35m: \u001B[39m\u001B[49m\u001B[0m\u001B[34m 374/4352\u001B[39m\u001B[49m\u001B[0m, epoch\u001B[35m: \u001B[39m\u001B[49m\u001B[0m\u001B[34m 11.000/128\u001B[39m\u001B[49m\u001B[0m, train/learning_rate\u001B[35m: \u001B[39m\u001B[49m\u001B[0m\u001B[34m8.600e-06\u001B[39m\u001B[49m\u001B[0m, train/loss\u001B[35m: \u001B[39m\u001B[49m\u001B[0m\u001B[34m3.6684\u001B[39m\u001B[49m\u001B[0m\u001B[35m}\u001B[39m\u001B[49m\u001B[0m\u001B[39m\u001B[49m\u001B[22m\u001B[23m\u001B[24m\u001B[25m\u001B[27m\u001B[28m\u001B[29m\n"
     ]
    },
    {
     "data": {
      "application/vnd.jupyter.widget-view+json": {
       "model_id": "21a50139413240b097886cb15a55b4a4",
       "version_major": 2,
       "version_minor": 0
      },
      "text/plain": [
       "Eval Epoch  11/128:   0%|          | 0/2 [00:00<?, ?ba/s]"
      ]
     },
     "metadata": {},
     "output_type": "display_data"
    },
    {
     "metadata": {
      "tags": null
     },
     "name": "stdout",
     "output_type": "stream",
     "text": [
      "\u001B[38;2;0;186;142m2022-08-03 00:50:57\u001B[38;2;97;175;239m|\u001B[39m\u001B[49m\u001B[22m\u001B[23m\u001B[24m\u001B[25m\u001B[27m\u001B[28m\u001B[29m\u001B[38;2;198;120;221m[MyReformerModelWithLMHead Train]\u001B[38;2;97;175;239m::\u001B[38;2;198;120;221m_log\u001B[38;2;97;175;239m::\u001B[38;2;198;120;221mtrain_util_wrap.py\u001B[38;2;97;175;239m:\u001B[38;2;198;120;221m255\u001B[38;2;97;175;239m:\u001B[39m\u001B[49m\u001B[22m\u001B[23m\u001B[24m\u001B[25m\u001B[27m\u001B[28m\u001B[29mINFO\u001B[39m\u001B[49m\u001B[22m\u001B[23m\u001B[24m\u001B[25m\u001B[27m\u001B[28m\u001B[29m\u001B[38;2;97;175;239m: \u001B[39m\u001B[49m\u001B[22m\u001B[23m\u001B[24m\u001B[25m\u001B[27m\u001B[28m\u001B[29m\u001B[35m{\u001B[39m\u001B[49m\u001B[0mstep\u001B[35m: \u001B[39m\u001B[49m\u001B[0m\u001B[34m 374/4352\u001B[39m\u001B[49m\u001B[0m, epoch\u001B[35m: \u001B[39m\u001B[49m\u001B[0m\u001B[34m 11/128\u001B[39m\u001B[49m\u001B[0m, eval/loss\u001B[35m: \u001B[39m\u001B[49m\u001B[0m\u001B[34m3.6194\u001B[39m\u001B[49m\u001B[0m, eval/ntp_acc\u001B[35m: \u001B[39m\u001B[49m\u001B[0m\u001B[34m 11.1\u001B[39m\u001B[49m\u001B[0m, eval/ikr\u001B[35m: \u001B[39m\u001B[49m\u001B[0m\u001B[34m47.75\u001B[39m\u001B[49m\u001B[0m\u001B[35m}\u001B[39m\u001B[49m\u001B[0m\u001B[39m\u001B[49m\u001B[22m\u001B[23m\u001B[24m\u001B[25m\u001B[27m\u001B[28m\u001B[29m\n"
     ]
    },
    {
     "data": {
      "application/vnd.jupyter.widget-view+json": {
       "model_id": "34878f8c9b6c408cb19f604523768bb9",
       "version_major": 2,
       "version_minor": 0
      },
      "text/plain": [
       "Train Epoch  12/128:   0%|          | 0/34 [00:00<?, ?ba/s]"
      ]
     },
     "metadata": {},
     "output_type": "display_data"
    },
    {
     "metadata": {
      "tags": null
     },
     "name": "stdout",
     "output_type": "stream",
     "text": [
      "\u001B[38;2;0;186;142m2022-08-03 00:55:55\u001B[38;2;97;175;239m|\u001B[39m\u001B[49m\u001B[22m\u001B[23m\u001B[24m\u001B[25m\u001B[27m\u001B[28m\u001B[29m\u001B[38;2;198;120;221m[MyReformerModelWithLMHead Train]\u001B[38;2;97;175;239m::\u001B[38;2;198;120;221m_log\u001B[38;2;97;175;239m::\u001B[38;2;198;120;221mtrain_util_wrap.py\u001B[38;2;97;175;239m:\u001B[38;2;198;120;221m255\u001B[38;2;97;175;239m:\u001B[39m\u001B[49m\u001B[22m\u001B[23m\u001B[24m\u001B[25m\u001B[27m\u001B[28m\u001B[29mINFO\u001B[39m\u001B[49m\u001B[22m\u001B[23m\u001B[24m\u001B[25m\u001B[27m\u001B[28m\u001B[29m\u001B[38;2;97;175;239m: \u001B[39m\u001B[49m\u001B[22m\u001B[23m\u001B[24m\u001B[25m\u001B[27m\u001B[28m\u001B[29m\u001B[35m{\u001B[39m\u001B[49m\u001B[0mstep\u001B[35m: \u001B[39m\u001B[49m\u001B[0m\u001B[34m 408/4352\u001B[39m\u001B[49m\u001B[0m, epoch\u001B[35m: \u001B[39m\u001B[49m\u001B[0m\u001B[34m 12.000/128\u001B[39m\u001B[49m\u001B[0m, train/learning_rate\u001B[35m: \u001B[39m\u001B[49m\u001B[0m\u001B[34m9.400e-06\u001B[39m\u001B[49m\u001B[0m, train/loss\u001B[35m: \u001B[39m\u001B[49m\u001B[0m\u001B[34m 3.64\u001B[39m\u001B[49m\u001B[0m\u001B[35m}\u001B[39m\u001B[49m\u001B[0m\u001B[39m\u001B[49m\u001B[22m\u001B[23m\u001B[24m\u001B[25m\u001B[27m\u001B[28m\u001B[29m\n"
     ]
    },
    {
     "data": {
      "application/vnd.jupyter.widget-view+json": {
       "model_id": "5c0bbcbdb2ee42e18f68a081f14fe67b",
       "version_major": 2,
       "version_minor": 0
      },
      "text/plain": [
       "Eval Epoch  12/128:   0%|          | 0/2 [00:00<?, ?ba/s]"
      ]
     },
     "metadata": {},
     "output_type": "display_data"
    },
    {
     "metadata": {
      "tags": null
     },
     "name": "stdout",
     "output_type": "stream",
     "text": [
      "\u001B[38;2;0;186;142m2022-08-03 00:55:57\u001B[38;2;97;175;239m|\u001B[39m\u001B[49m\u001B[22m\u001B[23m\u001B[24m\u001B[25m\u001B[27m\u001B[28m\u001B[29m\u001B[38;2;198;120;221m[MyReformerModelWithLMHead Train]\u001B[38;2;97;175;239m::\u001B[38;2;198;120;221m_log\u001B[38;2;97;175;239m::\u001B[38;2;198;120;221mtrain_util_wrap.py\u001B[38;2;97;175;239m:\u001B[38;2;198;120;221m255\u001B[38;2;97;175;239m:\u001B[39m\u001B[49m\u001B[22m\u001B[23m\u001B[24m\u001B[25m\u001B[27m\u001B[28m\u001B[29mINFO\u001B[39m\u001B[49m\u001B[22m\u001B[23m\u001B[24m\u001B[25m\u001B[27m\u001B[28m\u001B[29m\u001B[38;2;97;175;239m: \u001B[39m\u001B[49m\u001B[22m\u001B[23m\u001B[24m\u001B[25m\u001B[27m\u001B[28m\u001B[29m\u001B[35m{\u001B[39m\u001B[49m\u001B[0mstep\u001B[35m: \u001B[39m\u001B[49m\u001B[0m\u001B[34m 408/4352\u001B[39m\u001B[49m\u001B[0m, epoch\u001B[35m: \u001B[39m\u001B[49m\u001B[0m\u001B[34m 12/128\u001B[39m\u001B[49m\u001B[0m, eval/loss\u001B[35m: \u001B[39m\u001B[49m\u001B[0m\u001B[34m3.6096\u001B[39m\u001B[49m\u001B[0m, eval/ntp_acc\u001B[35m: \u001B[39m\u001B[49m\u001B[0m\u001B[34m11.29\u001B[39m\u001B[49m\u001B[0m, eval/ikr\u001B[35m: \u001B[39m\u001B[49m\u001B[0m\u001B[34m47.75\u001B[39m\u001B[49m\u001B[0m\u001B[35m}\u001B[39m\u001B[49m\u001B[0m\u001B[39m\u001B[49m\u001B[22m\u001B[23m\u001B[24m\u001B[25m\u001B[27m\u001B[28m\u001B[29m\n"
     ]
    },
    {
     "data": {
      "application/vnd.jupyter.widget-view+json": {
       "model_id": "aa64c6a732cd4effbc6149b8ecc3f053",
       "version_major": 2,
       "version_minor": 0
      },
      "text/plain": [
       "Train Epoch  13/128:   0%|          | 0/34 [00:00<?, ?ba/s]"
      ]
     },
     "metadata": {},
     "output_type": "display_data"
    },
    {
     "metadata": {
      "tags": null
     },
     "name": "stdout",
     "output_type": "stream",
     "text": [
      "\u001B[38;2;0;186;142m2022-08-03 01:00:55\u001B[38;2;97;175;239m|\u001B[39m\u001B[49m\u001B[22m\u001B[23m\u001B[24m\u001B[25m\u001B[27m\u001B[28m\u001B[29m\u001B[38;2;198;120;221m[MyReformerModelWithLMHead Train]\u001B[38;2;97;175;239m::\u001B[38;2;198;120;221m_log\u001B[38;2;97;175;239m::\u001B[38;2;198;120;221mtrain_util_wrap.py\u001B[38;2;97;175;239m:\u001B[38;2;198;120;221m255\u001B[38;2;97;175;239m:\u001B[39m\u001B[49m\u001B[22m\u001B[23m\u001B[24m\u001B[25m\u001B[27m\u001B[28m\u001B[29mINFO\u001B[39m\u001B[49m\u001B[22m\u001B[23m\u001B[24m\u001B[25m\u001B[27m\u001B[28m\u001B[29m\u001B[38;2;97;175;239m: \u001B[39m\u001B[49m\u001B[22m\u001B[23m\u001B[24m\u001B[25m\u001B[27m\u001B[28m\u001B[29m\u001B[35m{\u001B[39m\u001B[49m\u001B[0mstep\u001B[35m: \u001B[39m\u001B[49m\u001B[0m\u001B[34m 442/4352\u001B[39m\u001B[49m\u001B[0m, epoch\u001B[35m: \u001B[39m\u001B[49m\u001B[0m\u001B[34m 13.000/128\u001B[39m\u001B[49m\u001B[0m, train/learning_rate\u001B[35m: \u001B[39m\u001B[49m\u001B[0m\u001B[34m1.000e-05\u001B[39m\u001B[49m\u001B[0m, train/loss\u001B[35m: \u001B[39m\u001B[49m\u001B[0m\u001B[34m3.5983\u001B[39m\u001B[49m\u001B[0m\u001B[35m}\u001B[39m\u001B[49m\u001B[0m\u001B[39m\u001B[49m\u001B[22m\u001B[23m\u001B[24m\u001B[25m\u001B[27m\u001B[28m\u001B[29m\n"
     ]
    },
    {
     "data": {
      "application/vnd.jupyter.widget-view+json": {
       "model_id": "e9ad8ea60e1a4cb589257e397ab03d40",
       "version_major": 2,
       "version_minor": 0
      },
      "text/plain": [
       "Eval Epoch  13/128:   0%|          | 0/2 [00:00<?, ?ba/s]"
      ]
     },
     "metadata": {},
     "output_type": "display_data"
    },
    {
     "metadata": {
      "tags": null
     },
     "name": "stdout",
     "output_type": "stream",
     "text": [
      "\u001B[38;2;0;186;142m2022-08-03 01:00:57\u001B[38;2;97;175;239m|\u001B[39m\u001B[49m\u001B[22m\u001B[23m\u001B[24m\u001B[25m\u001B[27m\u001B[28m\u001B[29m\u001B[38;2;198;120;221m[MyReformerModelWithLMHead Train]\u001B[38;2;97;175;239m::\u001B[38;2;198;120;221m_log\u001B[38;2;97;175;239m::\u001B[38;2;198;120;221mtrain_util_wrap.py\u001B[38;2;97;175;239m:\u001B[38;2;198;120;221m255\u001B[38;2;97;175;239m:\u001B[39m\u001B[49m\u001B[22m\u001B[23m\u001B[24m\u001B[25m\u001B[27m\u001B[28m\u001B[29mINFO\u001B[39m\u001B[49m\u001B[22m\u001B[23m\u001B[24m\u001B[25m\u001B[27m\u001B[28m\u001B[29m\u001B[38;2;97;175;239m: \u001B[39m\u001B[49m\u001B[22m\u001B[23m\u001B[24m\u001B[25m\u001B[27m\u001B[28m\u001B[29m\u001B[35m{\u001B[39m\u001B[49m\u001B[0mstep\u001B[35m: \u001B[39m\u001B[49m\u001B[0m\u001B[34m 442/4352\u001B[39m\u001B[49m\u001B[0m, epoch\u001B[35m: \u001B[39m\u001B[49m\u001B[0m\u001B[34m 13/128\u001B[39m\u001B[49m\u001B[0m, eval/loss\u001B[35m: \u001B[39m\u001B[49m\u001B[0m\u001B[34m3.6035\u001B[39m\u001B[49m\u001B[0m, eval/ntp_acc\u001B[35m: \u001B[39m\u001B[49m\u001B[0m\u001B[34m11.13\u001B[39m\u001B[49m\u001B[0m, eval/ikr\u001B[35m: \u001B[39m\u001B[49m\u001B[0m\u001B[34m47.75\u001B[39m\u001B[49m\u001B[0m\u001B[35m}\u001B[39m\u001B[49m\u001B[0m\u001B[39m\u001B[49m\u001B[22m\u001B[23m\u001B[24m\u001B[25m\u001B[27m\u001B[28m\u001B[29m\n"
     ]
    },
    {
     "data": {
      "application/vnd.jupyter.widget-view+json": {
       "model_id": "6be59912ed9844bf9d06bbdeba029c7d",
       "version_major": 2,
       "version_minor": 0
      },
      "text/plain": [
       "Train Epoch  14/128:   0%|          | 0/34 [00:00<?, ?ba/s]"
      ]
     },
     "metadata": {},
     "output_type": "display_data"
    },
    {
     "metadata": {
      "tags": null
     },
     "name": "stdout",
     "output_type": "stream",
     "text": [
      "\u001B[38;2;0;186;142m2022-08-03 01:05:55\u001B[38;2;97;175;239m|\u001B[39m\u001B[49m\u001B[22m\u001B[23m\u001B[24m\u001B[25m\u001B[27m\u001B[28m\u001B[29m\u001B[38;2;198;120;221m[MyReformerModelWithLMHead Train]\u001B[38;2;97;175;239m::\u001B[38;2;198;120;221m_log\u001B[38;2;97;175;239m::\u001B[38;2;198;120;221mtrain_util_wrap.py\u001B[38;2;97;175;239m:\u001B[38;2;198;120;221m255\u001B[38;2;97;175;239m:\u001B[39m\u001B[49m\u001B[22m\u001B[23m\u001B[24m\u001B[25m\u001B[27m\u001B[28m\u001B[29mINFO\u001B[39m\u001B[49m\u001B[22m\u001B[23m\u001B[24m\u001B[25m\u001B[27m\u001B[28m\u001B[29m\u001B[38;2;97;175;239m: \u001B[39m\u001B[49m\u001B[22m\u001B[23m\u001B[24m\u001B[25m\u001B[27m\u001B[28m\u001B[29m\u001B[35m{\u001B[39m\u001B[49m\u001B[0mstep\u001B[35m: \u001B[39m\u001B[49m\u001B[0m\u001B[34m 476/4352\u001B[39m\u001B[49m\u001B[0m, epoch\u001B[35m: \u001B[39m\u001B[49m\u001B[0m\u001B[34m 14.000/128\u001B[39m\u001B[49m\u001B[0m, train/learning_rate\u001B[35m: \u001B[39m\u001B[49m\u001B[0m\u001B[34m1.000e-05\u001B[39m\u001B[49m\u001B[0m, train/loss\u001B[35m: \u001B[39m\u001B[49m\u001B[0m\u001B[34m3.5911\u001B[39m\u001B[49m\u001B[0m\u001B[35m}\u001B[39m\u001B[49m\u001B[0m\u001B[39m\u001B[49m\u001B[22m\u001B[23m\u001B[24m\u001B[25m\u001B[27m\u001B[28m\u001B[29m\n"
     ]
    },
    {
     "data": {
      "application/vnd.jupyter.widget-view+json": {
       "model_id": "ae72389893ba4cb6b037c82a93dc0e40",
       "version_major": 2,
       "version_minor": 0
      },
      "text/plain": [
       "Eval Epoch  14/128:   0%|          | 0/2 [00:00<?, ?ba/s]"
      ]
     },
     "metadata": {},
     "output_type": "display_data"
    },
    {
     "metadata": {
      "tags": null
     },
     "name": "stdout",
     "output_type": "stream",
     "text": [
      "\u001B[38;2;0;186;142m2022-08-03 01:05:57\u001B[38;2;97;175;239m|\u001B[39m\u001B[49m\u001B[22m\u001B[23m\u001B[24m\u001B[25m\u001B[27m\u001B[28m\u001B[29m\u001B[38;2;198;120;221m[MyReformerModelWithLMHead Train]\u001B[38;2;97;175;239m::\u001B[38;2;198;120;221m_log\u001B[38;2;97;175;239m::\u001B[38;2;198;120;221mtrain_util_wrap.py\u001B[38;2;97;175;239m:\u001B[38;2;198;120;221m255\u001B[38;2;97;175;239m:\u001B[39m\u001B[49m\u001B[22m\u001B[23m\u001B[24m\u001B[25m\u001B[27m\u001B[28m\u001B[29mINFO\u001B[39m\u001B[49m\u001B[22m\u001B[23m\u001B[24m\u001B[25m\u001B[27m\u001B[28m\u001B[29m\u001B[38;2;97;175;239m: \u001B[39m\u001B[49m\u001B[22m\u001B[23m\u001B[24m\u001B[25m\u001B[27m\u001B[28m\u001B[29m\u001B[35m{\u001B[39m\u001B[49m\u001B[0mstep\u001B[35m: \u001B[39m\u001B[49m\u001B[0m\u001B[34m 476/4352\u001B[39m\u001B[49m\u001B[0m, epoch\u001B[35m: \u001B[39m\u001B[49m\u001B[0m\u001B[34m 14/128\u001B[39m\u001B[49m\u001B[0m, eval/loss\u001B[35m: \u001B[39m\u001B[49m\u001B[0m\u001B[34m3.5936\u001B[39m\u001B[49m\u001B[0m, eval/ntp_acc\u001B[35m: \u001B[39m\u001B[49m\u001B[0m\u001B[34m11.07\u001B[39m\u001B[49m\u001B[0m, eval/ikr\u001B[35m: \u001B[39m\u001B[49m\u001B[0m\u001B[34m47.75\u001B[39m\u001B[49m\u001B[0m\u001B[35m}\u001B[39m\u001B[49m\u001B[0m\u001B[39m\u001B[49m\u001B[22m\u001B[23m\u001B[24m\u001B[25m\u001B[27m\u001B[28m\u001B[29m\n"
     ]
    },
    {
     "data": {
      "application/vnd.jupyter.widget-view+json": {
       "model_id": "8740f5cd4ef6436b91ae0e31f69a3ec8",
       "version_major": 2,
       "version_minor": 0
      },
      "text/plain": [
       "Train Epoch  15/128:   0%|          | 0/34 [00:00<?, ?ba/s]"
      ]
     },
     "metadata": {},
     "output_type": "display_data"
    },
    {
     "metadata": {
      "tags": null
     },
     "name": "stdout",
     "output_type": "stream",
     "text": [
      "\u001B[38;2;0;186;142m2022-08-03 01:10:56\u001B[38;2;97;175;239m|\u001B[39m\u001B[49m\u001B[22m\u001B[23m\u001B[24m\u001B[25m\u001B[27m\u001B[28m\u001B[29m\u001B[38;2;198;120;221m[MyReformerModelWithLMHead Train]\u001B[38;2;97;175;239m::\u001B[38;2;198;120;221m_log\u001B[38;2;97;175;239m::\u001B[38;2;198;120;221mtrain_util_wrap.py\u001B[38;2;97;175;239m:\u001B[38;2;198;120;221m255\u001B[38;2;97;175;239m:\u001B[39m\u001B[49m\u001B[22m\u001B[23m\u001B[24m\u001B[25m\u001B[27m\u001B[28m\u001B[29mINFO\u001B[39m\u001B[49m\u001B[22m\u001B[23m\u001B[24m\u001B[25m\u001B[27m\u001B[28m\u001B[29m\u001B[38;2;97;175;239m: \u001B[39m\u001B[49m\u001B[22m\u001B[23m\u001B[24m\u001B[25m\u001B[27m\u001B[28m\u001B[29m\u001B[35m{\u001B[39m\u001B[49m\u001B[0mstep\u001B[35m: \u001B[39m\u001B[49m\u001B[0m\u001B[34m 510/4352\u001B[39m\u001B[49m\u001B[0m, epoch\u001B[35m: \u001B[39m\u001B[49m\u001B[0m\u001B[34m 15.000/128\u001B[39m\u001B[49m\u001B[0m, train/learning_rate\u001B[35m: \u001B[39m\u001B[49m\u001B[0m\u001B[34m1.000e-05\u001B[39m\u001B[49m\u001B[0m, train/loss\u001B[35m: \u001B[39m\u001B[49m\u001B[0m\u001B[34m3.5828\u001B[39m\u001B[49m\u001B[0m\u001B[35m}\u001B[39m\u001B[49m\u001B[0m\u001B[39m\u001B[49m\u001B[22m\u001B[23m\u001B[24m\u001B[25m\u001B[27m\u001B[28m\u001B[29m\n"
     ]
    },
    {
     "data": {
      "application/vnd.jupyter.widget-view+json": {
       "model_id": "a4bb0e3489f24164bf708fd0968da8df",
       "version_major": 2,
       "version_minor": 0
      },
      "text/plain": [
       "Eval Epoch  15/128:   0%|          | 0/2 [00:00<?, ?ba/s]"
      ]
     },
     "metadata": {},
     "output_type": "display_data"
    },
    {
     "metadata": {
      "tags": null
     },
     "name": "stdout",
     "output_type": "stream",
     "text": [
      "\u001B[38;2;0;186;142m2022-08-03 01:10:58\u001B[38;2;97;175;239m|\u001B[39m\u001B[49m\u001B[22m\u001B[23m\u001B[24m\u001B[25m\u001B[27m\u001B[28m\u001B[29m\u001B[38;2;198;120;221m[MyReformerModelWithLMHead Train]\u001B[38;2;97;175;239m::\u001B[38;2;198;120;221m_log\u001B[38;2;97;175;239m::\u001B[38;2;198;120;221mtrain_util_wrap.py\u001B[38;2;97;175;239m:\u001B[38;2;198;120;221m255\u001B[38;2;97;175;239m:\u001B[39m\u001B[49m\u001B[22m\u001B[23m\u001B[24m\u001B[25m\u001B[27m\u001B[28m\u001B[29mINFO\u001B[39m\u001B[49m\u001B[22m\u001B[23m\u001B[24m\u001B[25m\u001B[27m\u001B[28m\u001B[29m\u001B[38;2;97;175;239m: \u001B[39m\u001B[49m\u001B[22m\u001B[23m\u001B[24m\u001B[25m\u001B[27m\u001B[28m\u001B[29m\u001B[35m{\u001B[39m\u001B[49m\u001B[0mstep\u001B[35m: \u001B[39m\u001B[49m\u001B[0m\u001B[34m 510/4352\u001B[39m\u001B[49m\u001B[0m, epoch\u001B[35m: \u001B[39m\u001B[49m\u001B[0m\u001B[34m 15/128\u001B[39m\u001B[49m\u001B[0m, eval/loss\u001B[35m: \u001B[39m\u001B[49m\u001B[0m\u001B[34m3.5821\u001B[39m\u001B[49m\u001B[0m, eval/ntp_acc\u001B[35m: \u001B[39m\u001B[49m\u001B[0m\u001B[34m11.33\u001B[39m\u001B[49m\u001B[0m, eval/ikr\u001B[35m: \u001B[39m\u001B[49m\u001B[0m\u001B[34m47.75\u001B[39m\u001B[49m\u001B[0m\u001B[35m}\u001B[39m\u001B[49m\u001B[0m\u001B[39m\u001B[49m\u001B[22m\u001B[23m\u001B[24m\u001B[25m\u001B[27m\u001B[28m\u001B[29m\n"
     ]
    },
    {
     "data": {
      "application/vnd.jupyter.widget-view+json": {
       "model_id": "9d1710fa1e584194bbc616111e4c2942",
       "version_major": 2,
       "version_minor": 0
      },
      "text/plain": [
       "Train Epoch  16/128:   0%|          | 0/34 [00:00<?, ?ba/s]"
      ]
     },
     "metadata": {},
     "output_type": "display_data"
    },
    {
     "metadata": {
      "tags": null
     },
     "name": "stdout",
     "output_type": "stream",
     "text": [
      "\u001B[38;2;0;186;142m2022-08-03 01:15:56\u001B[38;2;97;175;239m|\u001B[39m\u001B[49m\u001B[22m\u001B[23m\u001B[24m\u001B[25m\u001B[27m\u001B[28m\u001B[29m\u001B[38;2;198;120;221m[MyReformerModelWithLMHead Train]\u001B[38;2;97;175;239m::\u001B[38;2;198;120;221m_log\u001B[38;2;97;175;239m::\u001B[38;2;198;120;221mtrain_util_wrap.py\u001B[38;2;97;175;239m:\u001B[38;2;198;120;221m255\u001B[38;2;97;175;239m:\u001B[39m\u001B[49m\u001B[22m\u001B[23m\u001B[24m\u001B[25m\u001B[27m\u001B[28m\u001B[29mINFO\u001B[39m\u001B[49m\u001B[22m\u001B[23m\u001B[24m\u001B[25m\u001B[27m\u001B[28m\u001B[29m\u001B[38;2;97;175;239m: \u001B[39m\u001B[49m\u001B[22m\u001B[23m\u001B[24m\u001B[25m\u001B[27m\u001B[28m\u001B[29m\u001B[35m{\u001B[39m\u001B[49m\u001B[0mstep\u001B[35m: \u001B[39m\u001B[49m\u001B[0m\u001B[34m 544/4352\u001B[39m\u001B[49m\u001B[0m, epoch\u001B[35m: \u001B[39m\u001B[49m\u001B[0m\u001B[34m 16.000/128\u001B[39m\u001B[49m\u001B[0m, train/learning_rate\u001B[35m: \u001B[39m\u001B[49m\u001B[0m\u001B[34m1.000e-05\u001B[39m\u001B[49m\u001B[0m, train/loss\u001B[35m: \u001B[39m\u001B[49m\u001B[0m\u001B[34m3.5298\u001B[39m\u001B[49m\u001B[0m\u001B[35m}\u001B[39m\u001B[49m\u001B[0m\u001B[39m\u001B[49m\u001B[22m\u001B[23m\u001B[24m\u001B[25m\u001B[27m\u001B[28m\u001B[29m\n"
     ]
    },
    {
     "data": {
      "application/vnd.jupyter.widget-view+json": {
       "model_id": "ae86fed1d8f84651ac863f8f03c43a6d",
       "version_major": 2,
       "version_minor": 0
      },
      "text/plain": [
       "Eval Epoch  16/128:   0%|          | 0/2 [00:00<?, ?ba/s]"
      ]
     },
     "metadata": {},
     "output_type": "display_data"
    },
    {
     "metadata": {
      "tags": null
     },
     "name": "stdout",
     "output_type": "stream",
     "text": [
      "\u001B[38;2;0;186;142m2022-08-03 01:16:02\u001B[38;2;97;175;239m|\u001B[39m\u001B[49m\u001B[22m\u001B[23m\u001B[24m\u001B[25m\u001B[27m\u001B[28m\u001B[29m\u001B[38;2;198;120;221m[MyReformerModelWithLMHead Train]\u001B[38;2;97;175;239m::\u001B[38;2;198;120;221m_log\u001B[38;2;97;175;239m::\u001B[38;2;198;120;221mtrain_util_wrap.py\u001B[38;2;97;175;239m:\u001B[38;2;198;120;221m255\u001B[38;2;97;175;239m:\u001B[39m\u001B[49m\u001B[22m\u001B[23m\u001B[24m\u001B[25m\u001B[27m\u001B[28m\u001B[29mINFO\u001B[39m\u001B[49m\u001B[22m\u001B[23m\u001B[24m\u001B[25m\u001B[27m\u001B[28m\u001B[29m\u001B[38;2;97;175;239m: \u001B[39m\u001B[49m\u001B[22m\u001B[23m\u001B[24m\u001B[25m\u001B[27m\u001B[28m\u001B[29m\u001B[35m{\u001B[39m\u001B[49m\u001B[0mstep\u001B[35m: \u001B[39m\u001B[49m\u001B[0m\u001B[34m 544/4352\u001B[39m\u001B[49m\u001B[0m, epoch\u001B[35m: \u001B[39m\u001B[49m\u001B[0m\u001B[34m 16/128\u001B[39m\u001B[49m\u001B[0m, eval/loss\u001B[35m: \u001B[39m\u001B[49m\u001B[0m\u001B[34m3.5704\u001B[39m\u001B[49m\u001B[0m, eval/ntp_acc\u001B[35m: \u001B[39m\u001B[49m\u001B[0m\u001B[34m12.48\u001B[39m\u001B[49m\u001B[0m, eval/ikr\u001B[35m: \u001B[39m\u001B[49m\u001B[0m\u001B[34m47.75\u001B[39m\u001B[49m\u001B[0m\u001B[35m}\u001B[39m\u001B[49m\u001B[0m\u001B[39m\u001B[49m\u001B[22m\u001B[23m\u001B[24m\u001B[25m\u001B[27m\u001B[28m\u001B[29m\n"
     ]
    },
    {
     "data": {
      "application/vnd.jupyter.widget-view+json": {
       "model_id": "0c60b744509346f6a6950d30e23e40d4",
       "version_major": 2,
       "version_minor": 0
      },
      "text/plain": [
       "Train Epoch  17/128:   0%|          | 0/34 [00:00<?, ?ba/s]"
      ]
     },
     "metadata": {},
     "output_type": "display_data"
    },
    {
     "metadata": {
      "tags": null
     },
     "name": "stdout",
     "output_type": "stream",
     "text": [
      "\u001B[38;2;0;186;142m2022-08-03 01:21:00\u001B[38;2;97;175;239m|\u001B[39m\u001B[49m\u001B[22m\u001B[23m\u001B[24m\u001B[25m\u001B[27m\u001B[28m\u001B[29m\u001B[38;2;198;120;221m[MyReformerModelWithLMHead Train]\u001B[38;2;97;175;239m::\u001B[38;2;198;120;221m_log\u001B[38;2;97;175;239m::\u001B[38;2;198;120;221mtrain_util_wrap.py\u001B[38;2;97;175;239m:\u001B[38;2;198;120;221m255\u001B[38;2;97;175;239m:\u001B[39m\u001B[49m\u001B[22m\u001B[23m\u001B[24m\u001B[25m\u001B[27m\u001B[28m\u001B[29mINFO\u001B[39m\u001B[49m\u001B[22m\u001B[23m\u001B[24m\u001B[25m\u001B[27m\u001B[28m\u001B[29m\u001B[38;2;97;175;239m: \u001B[39m\u001B[49m\u001B[22m\u001B[23m\u001B[24m\u001B[25m\u001B[27m\u001B[28m\u001B[29m\u001B[35m{\u001B[39m\u001B[49m\u001B[0mstep\u001B[35m: \u001B[39m\u001B[49m\u001B[0m\u001B[34m 578/4352\u001B[39m\u001B[49m\u001B[0m, epoch\u001B[35m: \u001B[39m\u001B[49m\u001B[0m\u001B[34m 17.000/128\u001B[39m\u001B[49m\u001B[0m, train/learning_rate\u001B[35m: \u001B[39m\u001B[49m\u001B[0m\u001B[34m1.000e-05\u001B[39m\u001B[49m\u001B[0m, train/loss\u001B[35m: \u001B[39m\u001B[49m\u001B[0m\u001B[34m3.5517\u001B[39m\u001B[49m\u001B[0m\u001B[35m}\u001B[39m\u001B[49m\u001B[0m\u001B[39m\u001B[49m\u001B[22m\u001B[23m\u001B[24m\u001B[25m\u001B[27m\u001B[28m\u001B[29m\n"
     ]
    },
    {
     "data": {
      "application/vnd.jupyter.widget-view+json": {
       "model_id": "e6d29123c4464441a73df9e74b750058",
       "version_major": 2,
       "version_minor": 0
      },
      "text/plain": [
       "Eval Epoch  17/128:   0%|          | 0/2 [00:00<?, ?ba/s]"
      ]
     },
     "metadata": {},
     "output_type": "display_data"
    },
    {
     "metadata": {
      "tags": null
     },
     "name": "stdout",
     "output_type": "stream",
     "text": [
      "\u001B[38;2;0;186;142m2022-08-03 01:21:02\u001B[38;2;97;175;239m|\u001B[39m\u001B[49m\u001B[22m\u001B[23m\u001B[24m\u001B[25m\u001B[27m\u001B[28m\u001B[29m\u001B[38;2;198;120;221m[MyReformerModelWithLMHead Train]\u001B[38;2;97;175;239m::\u001B[38;2;198;120;221m_log\u001B[38;2;97;175;239m::\u001B[38;2;198;120;221mtrain_util_wrap.py\u001B[38;2;97;175;239m:\u001B[38;2;198;120;221m255\u001B[38;2;97;175;239m:\u001B[39m\u001B[49m\u001B[22m\u001B[23m\u001B[24m\u001B[25m\u001B[27m\u001B[28m\u001B[29mINFO\u001B[39m\u001B[49m\u001B[22m\u001B[23m\u001B[24m\u001B[25m\u001B[27m\u001B[28m\u001B[29m\u001B[38;2;97;175;239m: \u001B[39m\u001B[49m\u001B[22m\u001B[23m\u001B[24m\u001B[25m\u001B[27m\u001B[28m\u001B[29m\u001B[35m{\u001B[39m\u001B[49m\u001B[0mstep\u001B[35m: \u001B[39m\u001B[49m\u001B[0m\u001B[34m 578/4352\u001B[39m\u001B[49m\u001B[0m, epoch\u001B[35m: \u001B[39m\u001B[49m\u001B[0m\u001B[34m 17/128\u001B[39m\u001B[49m\u001B[0m, eval/loss\u001B[35m: \u001B[39m\u001B[49m\u001B[0m\u001B[34m3.5392\u001B[39m\u001B[49m\u001B[0m, eval/ntp_acc\u001B[35m: \u001B[39m\u001B[49m\u001B[0m\u001B[34m16.64\u001B[39m\u001B[49m\u001B[0m, eval/ikr\u001B[35m: \u001B[39m\u001B[49m\u001B[0m\u001B[34m47.75\u001B[39m\u001B[49m\u001B[0m\u001B[35m}\u001B[39m\u001B[49m\u001B[0m\u001B[39m\u001B[49m\u001B[22m\u001B[23m\u001B[24m\u001B[25m\u001B[27m\u001B[28m\u001B[29m\n"
     ]
    },
    {
     "data": {
      "application/vnd.jupyter.widget-view+json": {
       "model_id": "b560cc2383344ec3b39fa29426175df8",
       "version_major": 2,
       "version_minor": 0
      },
      "text/plain": [
       "Train Epoch  18/128:   0%|          | 0/34 [00:00<?, ?ba/s]"
      ]
     },
     "metadata": {},
     "output_type": "display_data"
    },
    {
     "metadata": {
      "tags": null
     },
     "name": "stdout",
     "output_type": "stream",
     "text": [
      "\u001B[38;2;0;186;142m2022-08-03 01:26:00\u001B[38;2;97;175;239m|\u001B[39m\u001B[49m\u001B[22m\u001B[23m\u001B[24m\u001B[25m\u001B[27m\u001B[28m\u001B[29m\u001B[38;2;198;120;221m[MyReformerModelWithLMHead Train]\u001B[38;2;97;175;239m::\u001B[38;2;198;120;221m_log\u001B[38;2;97;175;239m::\u001B[38;2;198;120;221mtrain_util_wrap.py\u001B[38;2;97;175;239m:\u001B[38;2;198;120;221m255\u001B[38;2;97;175;239m:\u001B[39m\u001B[49m\u001B[22m\u001B[23m\u001B[24m\u001B[25m\u001B[27m\u001B[28m\u001B[29mINFO\u001B[39m\u001B[49m\u001B[22m\u001B[23m\u001B[24m\u001B[25m\u001B[27m\u001B[28m\u001B[29m\u001B[38;2;97;175;239m: \u001B[39m\u001B[49m\u001B[22m\u001B[23m\u001B[24m\u001B[25m\u001B[27m\u001B[28m\u001B[29m\u001B[35m{\u001B[39m\u001B[49m\u001B[0mstep\u001B[35m: \u001B[39m\u001B[49m\u001B[0m\u001B[34m 612/4352\u001B[39m\u001B[49m\u001B[0m, epoch\u001B[35m: \u001B[39m\u001B[49m\u001B[0m\u001B[34m 18.000/128\u001B[39m\u001B[49m\u001B[0m, train/learning_rate\u001B[35m: \u001B[39m\u001B[49m\u001B[0m\u001B[34m1.000e-05\u001B[39m\u001B[49m\u001B[0m, train/loss\u001B[35m: \u001B[39m\u001B[49m\u001B[0m\u001B[34m3.4611\u001B[39m\u001B[49m\u001B[0m\u001B[35m}\u001B[39m\u001B[49m\u001B[0m\u001B[39m\u001B[49m\u001B[22m\u001B[23m\u001B[24m\u001B[25m\u001B[27m\u001B[28m\u001B[29m\n"
     ]
    },
    {
     "data": {
      "application/vnd.jupyter.widget-view+json": {
       "model_id": "f753a9be637846c7b6fc4c14d72ed37e",
       "version_major": 2,
       "version_minor": 0
      },
      "text/plain": [
       "Eval Epoch  18/128:   0%|          | 0/2 [00:00<?, ?ba/s]"
      ]
     },
     "metadata": {},
     "output_type": "display_data"
    },
    {
     "metadata": {
      "tags": null
     },
     "name": "stdout",
     "output_type": "stream",
     "text": [
      "\u001B[38;2;0;186;142m2022-08-03 01:26:03\u001B[38;2;97;175;239m|\u001B[39m\u001B[49m\u001B[22m\u001B[23m\u001B[24m\u001B[25m\u001B[27m\u001B[28m\u001B[29m\u001B[38;2;198;120;221m[MyReformerModelWithLMHead Train]\u001B[38;2;97;175;239m::\u001B[38;2;198;120;221m_log\u001B[38;2;97;175;239m::\u001B[38;2;198;120;221mtrain_util_wrap.py\u001B[38;2;97;175;239m:\u001B[38;2;198;120;221m255\u001B[38;2;97;175;239m:\u001B[39m\u001B[49m\u001B[22m\u001B[23m\u001B[24m\u001B[25m\u001B[27m\u001B[28m\u001B[29mINFO\u001B[39m\u001B[49m\u001B[22m\u001B[23m\u001B[24m\u001B[25m\u001B[27m\u001B[28m\u001B[29m\u001B[38;2;97;175;239m: \u001B[39m\u001B[49m\u001B[22m\u001B[23m\u001B[24m\u001B[25m\u001B[27m\u001B[28m\u001B[29m\u001B[35m{\u001B[39m\u001B[49m\u001B[0mstep\u001B[35m: \u001B[39m\u001B[49m\u001B[0m\u001B[34m 612/4352\u001B[39m\u001B[49m\u001B[0m, epoch\u001B[35m: \u001B[39m\u001B[49m\u001B[0m\u001B[34m 18/128\u001B[39m\u001B[49m\u001B[0m, eval/loss\u001B[35m: \u001B[39m\u001B[49m\u001B[0m\u001B[34m3.4493\u001B[39m\u001B[49m\u001B[0m, eval/ntp_acc\u001B[35m: \u001B[39m\u001B[49m\u001B[0m\u001B[34m17.49\u001B[39m\u001B[49m\u001B[0m, eval/ikr\u001B[35m: \u001B[39m\u001B[49m\u001B[0m\u001B[34m47.75\u001B[39m\u001B[49m\u001B[0m\u001B[35m}\u001B[39m\u001B[49m\u001B[0m\u001B[39m\u001B[49m\u001B[22m\u001B[23m\u001B[24m\u001B[25m\u001B[27m\u001B[28m\u001B[29m\n"
     ]
    },
    {
     "data": {
      "application/vnd.jupyter.widget-view+json": {
       "model_id": "0f31f4fc3d57429fa1bc7b1dcaa2cebf",
       "version_major": 2,
       "version_minor": 0
      },
      "text/plain": [
       "Train Epoch  19/128:   0%|          | 0/34 [00:00<?, ?ba/s]"
      ]
     },
     "metadata": {},
     "output_type": "display_data"
    },
    {
     "metadata": {
      "tags": null
     },
     "name": "stdout",
     "output_type": "stream",
     "text": [
      "\u001B[38;2;0;186;142m2022-08-03 01:31:01\u001B[38;2;97;175;239m|\u001B[39m\u001B[49m\u001B[22m\u001B[23m\u001B[24m\u001B[25m\u001B[27m\u001B[28m\u001B[29m\u001B[38;2;198;120;221m[MyReformerModelWithLMHead Train]\u001B[38;2;97;175;239m::\u001B[38;2;198;120;221m_log\u001B[38;2;97;175;239m::\u001B[38;2;198;120;221mtrain_util_wrap.py\u001B[38;2;97;175;239m:\u001B[38;2;198;120;221m255\u001B[38;2;97;175;239m:\u001B[39m\u001B[49m\u001B[22m\u001B[23m\u001B[24m\u001B[25m\u001B[27m\u001B[28m\u001B[29mINFO\u001B[39m\u001B[49m\u001B[22m\u001B[23m\u001B[24m\u001B[25m\u001B[27m\u001B[28m\u001B[29m\u001B[38;2;97;175;239m: \u001B[39m\u001B[49m\u001B[22m\u001B[23m\u001B[24m\u001B[25m\u001B[27m\u001B[28m\u001B[29m\u001B[35m{\u001B[39m\u001B[49m\u001B[0mstep\u001B[35m: \u001B[39m\u001B[49m\u001B[0m\u001B[34m 646/4352\u001B[39m\u001B[49m\u001B[0m, epoch\u001B[35m: \u001B[39m\u001B[49m\u001B[0m\u001B[34m 19.000/128\u001B[39m\u001B[49m\u001B[0m, train/learning_rate\u001B[35m: \u001B[39m\u001B[49m\u001B[0m\u001B[34m9.900e-06\u001B[39m\u001B[49m\u001B[0m, train/loss\u001B[35m: \u001B[39m\u001B[49m\u001B[0m\u001B[34m3.3938\u001B[39m\u001B[49m\u001B[0m\u001B[35m}\u001B[39m\u001B[49m\u001B[0m\u001B[39m\u001B[49m\u001B[22m\u001B[23m\u001B[24m\u001B[25m\u001B[27m\u001B[28m\u001B[29m\n"
     ]
    },
    {
     "data": {
      "application/vnd.jupyter.widget-view+json": {
       "model_id": "ceb280b65da840a8abc489d81afabfce",
       "version_major": 2,
       "version_minor": 0
      },
      "text/plain": [
       "Eval Epoch  19/128:   0%|          | 0/2 [00:00<?, ?ba/s]"
      ]
     },
     "metadata": {},
     "output_type": "display_data"
    },
    {
     "metadata": {
      "tags": null
     },
     "name": "stdout",
     "output_type": "stream",
     "text": [
      "\u001B[38;2;0;186;142m2022-08-03 01:31:03\u001B[38;2;97;175;239m|\u001B[39m\u001B[49m\u001B[22m\u001B[23m\u001B[24m\u001B[25m\u001B[27m\u001B[28m\u001B[29m\u001B[38;2;198;120;221m[MyReformerModelWithLMHead Train]\u001B[38;2;97;175;239m::\u001B[38;2;198;120;221m_log\u001B[38;2;97;175;239m::\u001B[38;2;198;120;221mtrain_util_wrap.py\u001B[38;2;97;175;239m:\u001B[38;2;198;120;221m255\u001B[38;2;97;175;239m:\u001B[39m\u001B[49m\u001B[22m\u001B[23m\u001B[24m\u001B[25m\u001B[27m\u001B[28m\u001B[29mINFO\u001B[39m\u001B[49m\u001B[22m\u001B[23m\u001B[24m\u001B[25m\u001B[27m\u001B[28m\u001B[29m\u001B[38;2;97;175;239m: \u001B[39m\u001B[49m\u001B[22m\u001B[23m\u001B[24m\u001B[25m\u001B[27m\u001B[28m\u001B[29m\u001B[35m{\u001B[39m\u001B[49m\u001B[0mstep\u001B[35m: \u001B[39m\u001B[49m\u001B[0m\u001B[34m 646/4352\u001B[39m\u001B[49m\u001B[0m, epoch\u001B[35m: \u001B[39m\u001B[49m\u001B[0m\u001B[34m 19/128\u001B[39m\u001B[49m\u001B[0m, eval/loss\u001B[35m: \u001B[39m\u001B[49m\u001B[0m\u001B[34m3.2764\u001B[39m\u001B[49m\u001B[0m, eval/ntp_acc\u001B[35m: \u001B[39m\u001B[49m\u001B[0m\u001B[34m18.59\u001B[39m\u001B[49m\u001B[0m, eval/ikr\u001B[35m: \u001B[39m\u001B[49m\u001B[0m\u001B[34m47.75\u001B[39m\u001B[49m\u001B[0m\u001B[35m}\u001B[39m\u001B[49m\u001B[0m\u001B[39m\u001B[49m\u001B[22m\u001B[23m\u001B[24m\u001B[25m\u001B[27m\u001B[28m\u001B[29m\n"
     ]
    },
    {
     "data": {
      "application/vnd.jupyter.widget-view+json": {
       "model_id": "0fb249236bd540d1b1134defa7460b99",
       "version_major": 2,
       "version_minor": 0
      },
      "text/plain": [
       "Train Epoch  20/128:   0%|          | 0/34 [00:00<?, ?ba/s]"
      ]
     },
     "metadata": {},
     "output_type": "display_data"
    },
    {
     "metadata": {
      "tags": null
     },
     "name": "stdout",
     "output_type": "stream",
     "text": [
      "\u001B[38;2;0;186;142m2022-08-03 01:36:01\u001B[38;2;97;175;239m|\u001B[39m\u001B[49m\u001B[22m\u001B[23m\u001B[24m\u001B[25m\u001B[27m\u001B[28m\u001B[29m\u001B[38;2;198;120;221m[MyReformerModelWithLMHead Train]\u001B[38;2;97;175;239m::\u001B[38;2;198;120;221m_log\u001B[38;2;97;175;239m::\u001B[38;2;198;120;221mtrain_util_wrap.py\u001B[38;2;97;175;239m:\u001B[38;2;198;120;221m255\u001B[38;2;97;175;239m:\u001B[39m\u001B[49m\u001B[22m\u001B[23m\u001B[24m\u001B[25m\u001B[27m\u001B[28m\u001B[29mINFO\u001B[39m\u001B[49m\u001B[22m\u001B[23m\u001B[24m\u001B[25m\u001B[27m\u001B[28m\u001B[29m\u001B[38;2;97;175;239m: \u001B[39m\u001B[49m\u001B[22m\u001B[23m\u001B[24m\u001B[25m\u001B[27m\u001B[28m\u001B[29m\u001B[35m{\u001B[39m\u001B[49m\u001B[0mstep\u001B[35m: \u001B[39m\u001B[49m\u001B[0m\u001B[34m 680/4352\u001B[39m\u001B[49m\u001B[0m, epoch\u001B[35m: \u001B[39m\u001B[49m\u001B[0m\u001B[34m 20.000/128\u001B[39m\u001B[49m\u001B[0m, train/learning_rate\u001B[35m: \u001B[39m\u001B[49m\u001B[0m\u001B[34m9.900e-06\u001B[39m\u001B[49m\u001B[0m, train/loss\u001B[35m: \u001B[39m\u001B[49m\u001B[0m\u001B[34m3.0587\u001B[39m\u001B[49m\u001B[0m\u001B[35m}\u001B[39m\u001B[49m\u001B[0m\u001B[39m\u001B[49m\u001B[22m\u001B[23m\u001B[24m\u001B[25m\u001B[27m\u001B[28m\u001B[29m\n"
     ]
    },
    {
     "data": {
      "application/vnd.jupyter.widget-view+json": {
       "model_id": "5634f46fff434f6aa976a0a7e30e0ac9",
       "version_major": 2,
       "version_minor": 0
      },
      "text/plain": [
       "Eval Epoch  20/128:   0%|          | 0/2 [00:00<?, ?ba/s]"
      ]
     },
     "metadata": {},
     "output_type": "display_data"
    },
    {
     "metadata": {
      "tags": null
     },
     "name": "stdout",
     "output_type": "stream",
     "text": [
      "\u001B[38;2;0;186;142m2022-08-03 01:36:04\u001B[38;2;97;175;239m|\u001B[39m\u001B[49m\u001B[22m\u001B[23m\u001B[24m\u001B[25m\u001B[27m\u001B[28m\u001B[29m\u001B[38;2;198;120;221m[MyReformerModelWithLMHead Train]\u001B[38;2;97;175;239m::\u001B[38;2;198;120;221m_log\u001B[38;2;97;175;239m::\u001B[38;2;198;120;221mtrain_util_wrap.py\u001B[38;2;97;175;239m:\u001B[38;2;198;120;221m255\u001B[38;2;97;175;239m:\u001B[39m\u001B[49m\u001B[22m\u001B[23m\u001B[24m\u001B[25m\u001B[27m\u001B[28m\u001B[29mINFO\u001B[39m\u001B[49m\u001B[22m\u001B[23m\u001B[24m\u001B[25m\u001B[27m\u001B[28m\u001B[29m\u001B[38;2;97;175;239m: \u001B[39m\u001B[49m\u001B[22m\u001B[23m\u001B[24m\u001B[25m\u001B[27m\u001B[28m\u001B[29m\u001B[35m{\u001B[39m\u001B[49m\u001B[0mstep\u001B[35m: \u001B[39m\u001B[49m\u001B[0m\u001B[34m 680/4352\u001B[39m\u001B[49m\u001B[0m, epoch\u001B[35m: \u001B[39m\u001B[49m\u001B[0m\u001B[34m 20/128\u001B[39m\u001B[49m\u001B[0m, eval/loss\u001B[35m: \u001B[39m\u001B[49m\u001B[0m\u001B[34m2.8884\u001B[39m\u001B[49m\u001B[0m, eval/ntp_acc\u001B[35m: \u001B[39m\u001B[49m\u001B[0m\u001B[34m25.91\u001B[39m\u001B[49m\u001B[0m, eval/ikr\u001B[35m: \u001B[39m\u001B[49m\u001B[0m\u001B[34m47.75\u001B[39m\u001B[49m\u001B[0m\u001B[35m}\u001B[39m\u001B[49m\u001B[0m\u001B[39m\u001B[49m\u001B[22m\u001B[23m\u001B[24m\u001B[25m\u001B[27m\u001B[28m\u001B[29m\n"
     ]
    },
    {
     "data": {
      "application/vnd.jupyter.widget-view+json": {
       "model_id": "242a2bd07e2a4544bf492784155a97b6",
       "version_major": 2,
       "version_minor": 0
      },
      "text/plain": [
       "Train Epoch  21/128:   0%|          | 0/34 [00:00<?, ?ba/s]"
      ]
     },
     "metadata": {},
     "output_type": "display_data"
    },
    {
     "metadata": {
      "tags": null
     },
     "name": "stdout",
     "output_type": "stream",
     "text": [
      "\u001B[38;2;0;186;142m2022-08-03 01:41:02\u001B[38;2;97;175;239m|\u001B[39m\u001B[49m\u001B[22m\u001B[23m\u001B[24m\u001B[25m\u001B[27m\u001B[28m\u001B[29m\u001B[38;2;198;120;221m[MyReformerModelWithLMHead Train]\u001B[38;2;97;175;239m::\u001B[38;2;198;120;221m_log\u001B[38;2;97;175;239m::\u001B[38;2;198;120;221mtrain_util_wrap.py\u001B[38;2;97;175;239m:\u001B[38;2;198;120;221m255\u001B[38;2;97;175;239m:\u001B[39m\u001B[49m\u001B[22m\u001B[23m\u001B[24m\u001B[25m\u001B[27m\u001B[28m\u001B[29mINFO\u001B[39m\u001B[49m\u001B[22m\u001B[23m\u001B[24m\u001B[25m\u001B[27m\u001B[28m\u001B[29m\u001B[38;2;97;175;239m: \u001B[39m\u001B[49m\u001B[22m\u001B[23m\u001B[24m\u001B[25m\u001B[27m\u001B[28m\u001B[29m\u001B[35m{\u001B[39m\u001B[49m\u001B[0mstep\u001B[35m: \u001B[39m\u001B[49m\u001B[0m\u001B[34m 714/4352\u001B[39m\u001B[49m\u001B[0m, epoch\u001B[35m: \u001B[39m\u001B[49m\u001B[0m\u001B[34m 21.000/128\u001B[39m\u001B[49m\u001B[0m, train/learning_rate\u001B[35m: \u001B[39m\u001B[49m\u001B[0m\u001B[34m9.900e-06\u001B[39m\u001B[49m\u001B[0m, train/loss\u001B[35m: \u001B[39m\u001B[49m\u001B[0m\u001B[34m2.7051\u001B[39m\u001B[49m\u001B[0m\u001B[35m}\u001B[39m\u001B[49m\u001B[0m\u001B[39m\u001B[49m\u001B[22m\u001B[23m\u001B[24m\u001B[25m\u001B[27m\u001B[28m\u001B[29m\n"
     ]
    },
    {
     "data": {
      "application/vnd.jupyter.widget-view+json": {
       "model_id": "420d06828f8140f4996af43bb25e81d2",
       "version_major": 2,
       "version_minor": 0
      },
      "text/plain": [
       "Eval Epoch  21/128:   0%|          | 0/2 [00:00<?, ?ba/s]"
      ]
     },
     "metadata": {},
     "output_type": "display_data"
    },
    {
     "metadata": {
      "tags": null
     },
     "name": "stdout",
     "output_type": "stream",
     "text": [
      "\u001B[38;2;0;186;142m2022-08-03 01:41:04\u001B[38;2;97;175;239m|\u001B[39m\u001B[49m\u001B[22m\u001B[23m\u001B[24m\u001B[25m\u001B[27m\u001B[28m\u001B[29m\u001B[38;2;198;120;221m[MyReformerModelWithLMHead Train]\u001B[38;2;97;175;239m::\u001B[38;2;198;120;221m_log\u001B[38;2;97;175;239m::\u001B[38;2;198;120;221mtrain_util_wrap.py\u001B[38;2;97;175;239m:\u001B[38;2;198;120;221m255\u001B[38;2;97;175;239m:\u001B[39m\u001B[49m\u001B[22m\u001B[23m\u001B[24m\u001B[25m\u001B[27m\u001B[28m\u001B[29mINFO\u001B[39m\u001B[49m\u001B[22m\u001B[23m\u001B[24m\u001B[25m\u001B[27m\u001B[28m\u001B[29m\u001B[38;2;97;175;239m: \u001B[39m\u001B[49m\u001B[22m\u001B[23m\u001B[24m\u001B[25m\u001B[27m\u001B[28m\u001B[29m\u001B[35m{\u001B[39m\u001B[49m\u001B[0mstep\u001B[35m: \u001B[39m\u001B[49m\u001B[0m\u001B[34m 714/4352\u001B[39m\u001B[49m\u001B[0m, epoch\u001B[35m: \u001B[39m\u001B[49m\u001B[0m\u001B[34m 21/128\u001B[39m\u001B[49m\u001B[0m, eval/loss\u001B[35m: \u001B[39m\u001B[49m\u001B[0m\u001B[34m2.729\u001B[39m\u001B[49m\u001B[0m, eval/ntp_acc\u001B[35m: \u001B[39m\u001B[49m\u001B[0m\u001B[34m25.23\u001B[39m\u001B[49m\u001B[0m, eval/ikr\u001B[35m: \u001B[39m\u001B[49m\u001B[0m\u001B[34m47.75\u001B[39m\u001B[49m\u001B[0m\u001B[35m}\u001B[39m\u001B[49m\u001B[0m\u001B[39m\u001B[49m\u001B[22m\u001B[23m\u001B[24m\u001B[25m\u001B[27m\u001B[28m\u001B[29m\n"
     ]
    },
    {
     "data": {
      "application/vnd.jupyter.widget-view+json": {
       "model_id": "11271ea088b94e129a079b5734ca08e0",
       "version_major": 2,
       "version_minor": 0
      },
      "text/plain": [
       "Train Epoch  22/128:   0%|          | 0/34 [00:00<?, ?ba/s]"
      ]
     },
     "metadata": {},
     "output_type": "display_data"
    },
    {
     "metadata": {
      "tags": null
     },
     "name": "stdout",
     "output_type": "stream",
     "text": [
      "\u001B[38;2;0;186;142m2022-08-03 01:46:02\u001B[38;2;97;175;239m|\u001B[39m\u001B[49m\u001B[22m\u001B[23m\u001B[24m\u001B[25m\u001B[27m\u001B[28m\u001B[29m\u001B[38;2;198;120;221m[MyReformerModelWithLMHead Train]\u001B[38;2;97;175;239m::\u001B[38;2;198;120;221m_log\u001B[38;2;97;175;239m::\u001B[38;2;198;120;221mtrain_util_wrap.py\u001B[38;2;97;175;239m:\u001B[38;2;198;120;221m255\u001B[38;2;97;175;239m:\u001B[39m\u001B[49m\u001B[22m\u001B[23m\u001B[24m\u001B[25m\u001B[27m\u001B[28m\u001B[29mINFO\u001B[39m\u001B[49m\u001B[22m\u001B[23m\u001B[24m\u001B[25m\u001B[27m\u001B[28m\u001B[29m\u001B[38;2;97;175;239m: \u001B[39m\u001B[49m\u001B[22m\u001B[23m\u001B[24m\u001B[25m\u001B[27m\u001B[28m\u001B[29m\u001B[35m{\u001B[39m\u001B[49m\u001B[0mstep\u001B[35m: \u001B[39m\u001B[49m\u001B[0m\u001B[34m 748/4352\u001B[39m\u001B[49m\u001B[0m, epoch\u001B[35m: \u001B[39m\u001B[49m\u001B[0m\u001B[34m 22.000/128\u001B[39m\u001B[49m\u001B[0m, train/learning_rate\u001B[35m: \u001B[39m\u001B[49m\u001B[0m\u001B[34m9.800e-06\u001B[39m\u001B[49m\u001B[0m, train/loss\u001B[35m: \u001B[39m\u001B[49m\u001B[0m\u001B[34m2.7258\u001B[39m\u001B[49m\u001B[0m\u001B[35m}\u001B[39m\u001B[49m\u001B[0m\u001B[39m\u001B[49m\u001B[22m\u001B[23m\u001B[24m\u001B[25m\u001B[27m\u001B[28m\u001B[29m\n"
     ]
    },
    {
     "data": {
      "application/vnd.jupyter.widget-view+json": {
       "model_id": "42e5e265abb04512b85835dfa6ec51e5",
       "version_major": 2,
       "version_minor": 0
      },
      "text/plain": [
       "Eval Epoch  22/128:   0%|          | 0/2 [00:00<?, ?ba/s]"
      ]
     },
     "metadata": {},
     "output_type": "display_data"
    },
    {
     "metadata": {
      "tags": null
     },
     "name": "stdout",
     "output_type": "stream",
     "text": [
      "\u001B[38;2;0;186;142m2022-08-03 01:46:04\u001B[38;2;97;175;239m|\u001B[39m\u001B[49m\u001B[22m\u001B[23m\u001B[24m\u001B[25m\u001B[27m\u001B[28m\u001B[29m\u001B[38;2;198;120;221m[MyReformerModelWithLMHead Train]\u001B[38;2;97;175;239m::\u001B[38;2;198;120;221m_log\u001B[38;2;97;175;239m::\u001B[38;2;198;120;221mtrain_util_wrap.py\u001B[38;2;97;175;239m:\u001B[38;2;198;120;221m255\u001B[38;2;97;175;239m:\u001B[39m\u001B[49m\u001B[22m\u001B[23m\u001B[24m\u001B[25m\u001B[27m\u001B[28m\u001B[29mINFO\u001B[39m\u001B[49m\u001B[22m\u001B[23m\u001B[24m\u001B[25m\u001B[27m\u001B[28m\u001B[29m\u001B[38;2;97;175;239m: \u001B[39m\u001B[49m\u001B[22m\u001B[23m\u001B[24m\u001B[25m\u001B[27m\u001B[28m\u001B[29m\u001B[35m{\u001B[39m\u001B[49m\u001B[0mstep\u001B[35m: \u001B[39m\u001B[49m\u001B[0m\u001B[34m 748/4352\u001B[39m\u001B[49m\u001B[0m, epoch\u001B[35m: \u001B[39m\u001B[49m\u001B[0m\u001B[34m 22/128\u001B[39m\u001B[49m\u001B[0m, eval/loss\u001B[35m: \u001B[39m\u001B[49m\u001B[0m\u001B[34m2.6903\u001B[39m\u001B[49m\u001B[0m, eval/ntp_acc\u001B[35m: \u001B[39m\u001B[49m\u001B[0m\u001B[34m26.35\u001B[39m\u001B[49m\u001B[0m, eval/ikr\u001B[35m: \u001B[39m\u001B[49m\u001B[0m\u001B[34m47.75\u001B[39m\u001B[49m\u001B[0m\u001B[35m}\u001B[39m\u001B[49m\u001B[0m\u001B[39m\u001B[49m\u001B[22m\u001B[23m\u001B[24m\u001B[25m\u001B[27m\u001B[28m\u001B[29m\n"
     ]
    },
    {
     "data": {
      "application/vnd.jupyter.widget-view+json": {
       "model_id": "c3965108ba8f4df8b5e9fca553f21fa1",
       "version_major": 2,
       "version_minor": 0
      },
      "text/plain": [
       "Train Epoch  23/128:   0%|          | 0/34 [00:00<?, ?ba/s]"
      ]
     },
     "metadata": {},
     "output_type": "display_data"
    },
    {
     "metadata": {
      "tags": null
     },
     "name": "stdout",
     "output_type": "stream",
     "text": [
      "\u001B[38;2;0;186;142m2022-08-03 01:51:03\u001B[38;2;97;175;239m|\u001B[39m\u001B[49m\u001B[22m\u001B[23m\u001B[24m\u001B[25m\u001B[27m\u001B[28m\u001B[29m\u001B[38;2;198;120;221m[MyReformerModelWithLMHead Train]\u001B[38;2;97;175;239m::\u001B[38;2;198;120;221m_log\u001B[38;2;97;175;239m::\u001B[38;2;198;120;221mtrain_util_wrap.py\u001B[38;2;97;175;239m:\u001B[38;2;198;120;221m255\u001B[38;2;97;175;239m:\u001B[39m\u001B[49m\u001B[22m\u001B[23m\u001B[24m\u001B[25m\u001B[27m\u001B[28m\u001B[29mINFO\u001B[39m\u001B[49m\u001B[22m\u001B[23m\u001B[24m\u001B[25m\u001B[27m\u001B[28m\u001B[29m\u001B[38;2;97;175;239m: \u001B[39m\u001B[49m\u001B[22m\u001B[23m\u001B[24m\u001B[25m\u001B[27m\u001B[28m\u001B[29m\u001B[35m{\u001B[39m\u001B[49m\u001B[0mstep\u001B[35m: \u001B[39m\u001B[49m\u001B[0m\u001B[34m 782/4352\u001B[39m\u001B[49m\u001B[0m, epoch\u001B[35m: \u001B[39m\u001B[49m\u001B[0m\u001B[34m 23.000/128\u001B[39m\u001B[49m\u001B[0m, train/learning_rate\u001B[35m: \u001B[39m\u001B[49m\u001B[0m\u001B[34m9.800e-06\u001B[39m\u001B[49m\u001B[0m, train/loss\u001B[35m: \u001B[39m\u001B[49m\u001B[0m\u001B[34m2.7364\u001B[39m\u001B[49m\u001B[0m\u001B[35m}\u001B[39m\u001B[49m\u001B[0m\u001B[39m\u001B[49m\u001B[22m\u001B[23m\u001B[24m\u001B[25m\u001B[27m\u001B[28m\u001B[29m\n"
     ]
    },
    {
     "data": {
      "application/vnd.jupyter.widget-view+json": {
       "model_id": "bb40704b793240caa38873e634b7d013",
       "version_major": 2,
       "version_minor": 0
      },
      "text/plain": [
       "Eval Epoch  23/128:   0%|          | 0/2 [00:00<?, ?ba/s]"
      ]
     },
     "metadata": {},
     "output_type": "display_data"
    },
    {
     "metadata": {
      "tags": null
     },
     "name": "stdout",
     "output_type": "stream",
     "text": [
      "\u001B[38;2;0;186;142m2022-08-03 01:51:05\u001B[38;2;97;175;239m|\u001B[39m\u001B[49m\u001B[22m\u001B[23m\u001B[24m\u001B[25m\u001B[27m\u001B[28m\u001B[29m\u001B[38;2;198;120;221m[MyReformerModelWithLMHead Train]\u001B[38;2;97;175;239m::\u001B[38;2;198;120;221m_log\u001B[38;2;97;175;239m::\u001B[38;2;198;120;221mtrain_util_wrap.py\u001B[38;2;97;175;239m:\u001B[38;2;198;120;221m255\u001B[38;2;97;175;239m:\u001B[39m\u001B[49m\u001B[22m\u001B[23m\u001B[24m\u001B[25m\u001B[27m\u001B[28m\u001B[29mINFO\u001B[39m\u001B[49m\u001B[22m\u001B[23m\u001B[24m\u001B[25m\u001B[27m\u001B[28m\u001B[29m\u001B[38;2;97;175;239m: \u001B[39m\u001B[49m\u001B[22m\u001B[23m\u001B[24m\u001B[25m\u001B[27m\u001B[28m\u001B[29m\u001B[35m{\u001B[39m\u001B[49m\u001B[0mstep\u001B[35m: \u001B[39m\u001B[49m\u001B[0m\u001B[34m 782/4352\u001B[39m\u001B[49m\u001B[0m, epoch\u001B[35m: \u001B[39m\u001B[49m\u001B[0m\u001B[34m 23/128\u001B[39m\u001B[49m\u001B[0m, eval/loss\u001B[35m: \u001B[39m\u001B[49m\u001B[0m\u001B[34m2.6673\u001B[39m\u001B[49m\u001B[0m, eval/ntp_acc\u001B[35m: \u001B[39m\u001B[49m\u001B[0m\u001B[34m27.13\u001B[39m\u001B[49m\u001B[0m, eval/ikr\u001B[35m: \u001B[39m\u001B[49m\u001B[0m\u001B[34m47.75\u001B[39m\u001B[49m\u001B[0m\u001B[35m}\u001B[39m\u001B[49m\u001B[0m\u001B[39m\u001B[49m\u001B[22m\u001B[23m\u001B[24m\u001B[25m\u001B[27m\u001B[28m\u001B[29m\n"
     ]
    },
    {
     "data": {
      "application/vnd.jupyter.widget-view+json": {
       "model_id": "9376f217156b47f29506bb8330395aa3",
       "version_major": 2,
       "version_minor": 0
      },
      "text/plain": [
       "Train Epoch  24/128:   0%|          | 0/34 [00:00<?, ?ba/s]"
      ]
     },
     "metadata": {},
     "output_type": "display_data"
    },
    {
     "metadata": {
      "tags": null
     },
     "name": "stdout",
     "output_type": "stream",
     "text": [
      "\u001B[38;2;0;186;142m2022-08-03 01:56:03\u001B[38;2;97;175;239m|\u001B[39m\u001B[49m\u001B[22m\u001B[23m\u001B[24m\u001B[25m\u001B[27m\u001B[28m\u001B[29m\u001B[38;2;198;120;221m[MyReformerModelWithLMHead Train]\u001B[38;2;97;175;239m::\u001B[38;2;198;120;221m_log\u001B[38;2;97;175;239m::\u001B[38;2;198;120;221mtrain_util_wrap.py\u001B[38;2;97;175;239m:\u001B[38;2;198;120;221m255\u001B[38;2;97;175;239m:\u001B[39m\u001B[49m\u001B[22m\u001B[23m\u001B[24m\u001B[25m\u001B[27m\u001B[28m\u001B[29mINFO\u001B[39m\u001B[49m\u001B[22m\u001B[23m\u001B[24m\u001B[25m\u001B[27m\u001B[28m\u001B[29m\u001B[38;2;97;175;239m: \u001B[39m\u001B[49m\u001B[22m\u001B[23m\u001B[24m\u001B[25m\u001B[27m\u001B[28m\u001B[29m\u001B[35m{\u001B[39m\u001B[49m\u001B[0mstep\u001B[35m: \u001B[39m\u001B[49m\u001B[0m\u001B[34m 816/4352\u001B[39m\u001B[49m\u001B[0m, epoch\u001B[35m: \u001B[39m\u001B[49m\u001B[0m\u001B[34m 24.000/128\u001B[39m\u001B[49m\u001B[0m, train/learning_rate\u001B[35m: \u001B[39m\u001B[49m\u001B[0m\u001B[34m9.800e-06\u001B[39m\u001B[49m\u001B[0m, train/loss\u001B[35m: \u001B[39m\u001B[49m\u001B[0m\u001B[34m2.764\u001B[39m\u001B[49m\u001B[0m\u001B[35m}\u001B[39m\u001B[49m\u001B[0m\u001B[39m\u001B[49m\u001B[22m\u001B[23m\u001B[24m\u001B[25m\u001B[27m\u001B[28m\u001B[29m\n"
     ]
    },
    {
     "data": {
      "application/vnd.jupyter.widget-view+json": {
       "model_id": "5a4c65b88e4546f0a16018adfa5d8047",
       "version_major": 2,
       "version_minor": 0
      },
      "text/plain": [
       "Eval Epoch  24/128:   0%|          | 0/2 [00:00<?, ?ba/s]"
      ]
     },
     "metadata": {},
     "output_type": "display_data"
    },
    {
     "metadata": {
      "tags": null
     },
     "name": "stdout",
     "output_type": "stream",
     "text": [
      "\u001B[38;2;0;186;142m2022-08-03 01:56:05\u001B[38;2;97;175;239m|\u001B[39m\u001B[49m\u001B[22m\u001B[23m\u001B[24m\u001B[25m\u001B[27m\u001B[28m\u001B[29m\u001B[38;2;198;120;221m[MyReformerModelWithLMHead Train]\u001B[38;2;97;175;239m::\u001B[38;2;198;120;221m_log\u001B[38;2;97;175;239m::\u001B[38;2;198;120;221mtrain_util_wrap.py\u001B[38;2;97;175;239m:\u001B[38;2;198;120;221m255\u001B[38;2;97;175;239m:\u001B[39m\u001B[49m\u001B[22m\u001B[23m\u001B[24m\u001B[25m\u001B[27m\u001B[28m\u001B[29mINFO\u001B[39m\u001B[49m\u001B[22m\u001B[23m\u001B[24m\u001B[25m\u001B[27m\u001B[28m\u001B[29m\u001B[38;2;97;175;239m: \u001B[39m\u001B[49m\u001B[22m\u001B[23m\u001B[24m\u001B[25m\u001B[27m\u001B[28m\u001B[29m\u001B[35m{\u001B[39m\u001B[49m\u001B[0mstep\u001B[35m: \u001B[39m\u001B[49m\u001B[0m\u001B[34m 816/4352\u001B[39m\u001B[49m\u001B[0m, epoch\u001B[35m: \u001B[39m\u001B[49m\u001B[0m\u001B[34m 24/128\u001B[39m\u001B[49m\u001B[0m, eval/loss\u001B[35m: \u001B[39m\u001B[49m\u001B[0m\u001B[34m2.6618\u001B[39m\u001B[49m\u001B[0m, eval/ntp_acc\u001B[35m: \u001B[39m\u001B[49m\u001B[0m\u001B[34m26.97\u001B[39m\u001B[49m\u001B[0m, eval/ikr\u001B[35m: \u001B[39m\u001B[49m\u001B[0m\u001B[34m47.75\u001B[39m\u001B[49m\u001B[0m\u001B[35m}\u001B[39m\u001B[49m\u001B[0m\u001B[39m\u001B[49m\u001B[22m\u001B[23m\u001B[24m\u001B[25m\u001B[27m\u001B[28m\u001B[29m\n"
     ]
    },
    {
     "data": {
      "application/vnd.jupyter.widget-view+json": {
       "model_id": "d859e1baa9934e28ab38232aa821674c",
       "version_major": 2,
       "version_minor": 0
      },
      "text/plain": [
       "Train Epoch  25/128:   0%|          | 0/34 [00:00<?, ?ba/s]"
      ]
     },
     "metadata": {},
     "output_type": "display_data"
    },
    {
     "metadata": {
      "tags": null
     },
     "name": "stdout",
     "output_type": "stream",
     "text": [
      "\u001B[38;2;0;186;142m2022-08-03 02:01:04\u001B[38;2;97;175;239m|\u001B[39m\u001B[49m\u001B[22m\u001B[23m\u001B[24m\u001B[25m\u001B[27m\u001B[28m\u001B[29m\u001B[38;2;198;120;221m[MyReformerModelWithLMHead Train]\u001B[38;2;97;175;239m::\u001B[38;2;198;120;221m_log\u001B[38;2;97;175;239m::\u001B[38;2;198;120;221mtrain_util_wrap.py\u001B[38;2;97;175;239m:\u001B[38;2;198;120;221m255\u001B[38;2;97;175;239m:\u001B[39m\u001B[49m\u001B[22m\u001B[23m\u001B[24m\u001B[25m\u001B[27m\u001B[28m\u001B[29mINFO\u001B[39m\u001B[49m\u001B[22m\u001B[23m\u001B[24m\u001B[25m\u001B[27m\u001B[28m\u001B[29m\u001B[38;2;97;175;239m: \u001B[39m\u001B[49m\u001B[22m\u001B[23m\u001B[24m\u001B[25m\u001B[27m\u001B[28m\u001B[29m\u001B[35m{\u001B[39m\u001B[49m\u001B[0mstep\u001B[35m: \u001B[39m\u001B[49m\u001B[0m\u001B[34m 850/4352\u001B[39m\u001B[49m\u001B[0m, epoch\u001B[35m: \u001B[39m\u001B[49m\u001B[0m\u001B[34m 25.000/128\u001B[39m\u001B[49m\u001B[0m, train/learning_rate\u001B[35m: \u001B[39m\u001B[49m\u001B[0m\u001B[34m9.700e-06\u001B[39m\u001B[49m\u001B[0m, train/loss\u001B[35m: \u001B[39m\u001B[49m\u001B[0m\u001B[34m2.7142\u001B[39m\u001B[49m\u001B[0m\u001B[35m}\u001B[39m\u001B[49m\u001B[0m\u001B[39m\u001B[49m\u001B[22m\u001B[23m\u001B[24m\u001B[25m\u001B[27m\u001B[28m\u001B[29m\n"
     ]
    },
    {
     "data": {
      "application/vnd.jupyter.widget-view+json": {
       "model_id": "0e121f2721f54c54a63109c2b980ae25",
       "version_major": 2,
       "version_minor": 0
      },
      "text/plain": [
       "Eval Epoch  25/128:   0%|          | 0/2 [00:00<?, ?ba/s]"
      ]
     },
     "metadata": {},
     "output_type": "display_data"
    },
    {
     "metadata": {
      "tags": null
     },
     "name": "stdout",
     "output_type": "stream",
     "text": [
      "\u001B[38;2;0;186;142m2022-08-03 02:01:06\u001B[38;2;97;175;239m|\u001B[39m\u001B[49m\u001B[22m\u001B[23m\u001B[24m\u001B[25m\u001B[27m\u001B[28m\u001B[29m\u001B[38;2;198;120;221m[MyReformerModelWithLMHead Train]\u001B[38;2;97;175;239m::\u001B[38;2;198;120;221m_log\u001B[38;2;97;175;239m::\u001B[38;2;198;120;221mtrain_util_wrap.py\u001B[38;2;97;175;239m:\u001B[38;2;198;120;221m255\u001B[38;2;97;175;239m:\u001B[39m\u001B[49m\u001B[22m\u001B[23m\u001B[24m\u001B[25m\u001B[27m\u001B[28m\u001B[29mINFO\u001B[39m\u001B[49m\u001B[22m\u001B[23m\u001B[24m\u001B[25m\u001B[27m\u001B[28m\u001B[29m\u001B[38;2;97;175;239m: \u001B[39m\u001B[49m\u001B[22m\u001B[23m\u001B[24m\u001B[25m\u001B[27m\u001B[28m\u001B[29m\u001B[35m{\u001B[39m\u001B[49m\u001B[0mstep\u001B[35m: \u001B[39m\u001B[49m\u001B[0m\u001B[34m 850/4352\u001B[39m\u001B[49m\u001B[0m, epoch\u001B[35m: \u001B[39m\u001B[49m\u001B[0m\u001B[34m 25/128\u001B[39m\u001B[49m\u001B[0m, eval/loss\u001B[35m: \u001B[39m\u001B[49m\u001B[0m\u001B[34m2.6471\u001B[39m\u001B[49m\u001B[0m, eval/ntp_acc\u001B[35m: \u001B[39m\u001B[49m\u001B[0m\u001B[34m27.35\u001B[39m\u001B[49m\u001B[0m, eval/ikr\u001B[35m: \u001B[39m\u001B[49m\u001B[0m\u001B[34m47.75\u001B[39m\u001B[49m\u001B[0m\u001B[35m}\u001B[39m\u001B[49m\u001B[0m\u001B[39m\u001B[49m\u001B[22m\u001B[23m\u001B[24m\u001B[25m\u001B[27m\u001B[28m\u001B[29m\n"
     ]
    },
    {
     "data": {
      "application/vnd.jupyter.widget-view+json": {
       "model_id": "74b9a416588243cbbaadd8644fe5b7a2",
       "version_major": 2,
       "version_minor": 0
      },
      "text/plain": [
       "Train Epoch  26/128:   0%|          | 0/34 [00:00<?, ?ba/s]"
      ]
     },
     "metadata": {},
     "output_type": "display_data"
    },
    {
     "metadata": {
      "tags": null
     },
     "name": "stdout",
     "output_type": "stream",
     "text": [
      "\u001B[38;2;0;186;142m2022-08-03 02:06:04\u001B[38;2;97;175;239m|\u001B[39m\u001B[49m\u001B[22m\u001B[23m\u001B[24m\u001B[25m\u001B[27m\u001B[28m\u001B[29m\u001B[38;2;198;120;221m[MyReformerModelWithLMHead Train]\u001B[38;2;97;175;239m::\u001B[38;2;198;120;221m_log\u001B[38;2;97;175;239m::\u001B[38;2;198;120;221mtrain_util_wrap.py\u001B[38;2;97;175;239m:\u001B[38;2;198;120;221m255\u001B[38;2;97;175;239m:\u001B[39m\u001B[49m\u001B[22m\u001B[23m\u001B[24m\u001B[25m\u001B[27m\u001B[28m\u001B[29mINFO\u001B[39m\u001B[49m\u001B[22m\u001B[23m\u001B[24m\u001B[25m\u001B[27m\u001B[28m\u001B[29m\u001B[38;2;97;175;239m: \u001B[39m\u001B[49m\u001B[22m\u001B[23m\u001B[24m\u001B[25m\u001B[27m\u001B[28m\u001B[29m\u001B[35m{\u001B[39m\u001B[49m\u001B[0mstep\u001B[35m: \u001B[39m\u001B[49m\u001B[0m\u001B[34m 884/4352\u001B[39m\u001B[49m\u001B[0m, epoch\u001B[35m: \u001B[39m\u001B[49m\u001B[0m\u001B[34m 26.000/128\u001B[39m\u001B[49m\u001B[0m, train/learning_rate\u001B[35m: \u001B[39m\u001B[49m\u001B[0m\u001B[34m9.700e-06\u001B[39m\u001B[49m\u001B[0m, train/loss\u001B[35m: \u001B[39m\u001B[49m\u001B[0m\u001B[34m2.6776\u001B[39m\u001B[49m\u001B[0m\u001B[35m}\u001B[39m\u001B[49m\u001B[0m\u001B[39m\u001B[49m\u001B[22m\u001B[23m\u001B[24m\u001B[25m\u001B[27m\u001B[28m\u001B[29m\n"
     ]
    },
    {
     "data": {
      "application/vnd.jupyter.widget-view+json": {
       "model_id": "b91ca64550f44c26bb7d9dfb5802cf25",
       "version_major": 2,
       "version_minor": 0
      },
      "text/plain": [
       "Eval Epoch  26/128:   0%|          | 0/2 [00:00<?, ?ba/s]"
      ]
     },
     "metadata": {},
     "output_type": "display_data"
    },
    {
     "metadata": {
      "tags": null
     },
     "name": "stdout",
     "output_type": "stream",
     "text": [
      "\u001B[38;2;0;186;142m2022-08-03 02:06:07\u001B[38;2;97;175;239m|\u001B[39m\u001B[49m\u001B[22m\u001B[23m\u001B[24m\u001B[25m\u001B[27m\u001B[28m\u001B[29m\u001B[38;2;198;120;221m[MyReformerModelWithLMHead Train]\u001B[38;2;97;175;239m::\u001B[38;2;198;120;221m_log\u001B[38;2;97;175;239m::\u001B[38;2;198;120;221mtrain_util_wrap.py\u001B[38;2;97;175;239m:\u001B[38;2;198;120;221m255\u001B[38;2;97;175;239m:\u001B[39m\u001B[49m\u001B[22m\u001B[23m\u001B[24m\u001B[25m\u001B[27m\u001B[28m\u001B[29mINFO\u001B[39m\u001B[49m\u001B[22m\u001B[23m\u001B[24m\u001B[25m\u001B[27m\u001B[28m\u001B[29m\u001B[38;2;97;175;239m: \u001B[39m\u001B[49m\u001B[22m\u001B[23m\u001B[24m\u001B[25m\u001B[27m\u001B[28m\u001B[29m\u001B[35m{\u001B[39m\u001B[49m\u001B[0mstep\u001B[35m: \u001B[39m\u001B[49m\u001B[0m\u001B[34m 884/4352\u001B[39m\u001B[49m\u001B[0m, epoch\u001B[35m: \u001B[39m\u001B[49m\u001B[0m\u001B[34m 26/128\u001B[39m\u001B[49m\u001B[0m, eval/loss\u001B[35m: \u001B[39m\u001B[49m\u001B[0m\u001B[34m2.6347\u001B[39m\u001B[49m\u001B[0m, eval/ntp_acc\u001B[35m: \u001B[39m\u001B[49m\u001B[0m\u001B[34m 27.9\u001B[39m\u001B[49m\u001B[0m, eval/ikr\u001B[35m: \u001B[39m\u001B[49m\u001B[0m\u001B[34m47.68\u001B[39m\u001B[49m\u001B[0m\u001B[35m}\u001B[39m\u001B[49m\u001B[0m\u001B[39m\u001B[49m\u001B[22m\u001B[23m\u001B[24m\u001B[25m\u001B[27m\u001B[28m\u001B[29m\n"
     ]
    },
    {
     "data": {
      "application/vnd.jupyter.widget-view+json": {
       "model_id": "ed4c3af174a24ebeb3faf0c942590d93",
       "version_major": 2,
       "version_minor": 0
      },
      "text/plain": [
       "Train Epoch  27/128:   0%|          | 0/34 [00:00<?, ?ba/s]"
      ]
     },
     "metadata": {},
     "output_type": "display_data"
    },
    {
     "metadata": {
      "tags": null
     },
     "name": "stdout",
     "output_type": "stream",
     "text": [
      "\u001B[38;2;0;186;142m2022-08-03 02:11:05\u001B[38;2;97;175;239m|\u001B[39m\u001B[49m\u001B[22m\u001B[23m\u001B[24m\u001B[25m\u001B[27m\u001B[28m\u001B[29m\u001B[38;2;198;120;221m[MyReformerModelWithLMHead Train]\u001B[38;2;97;175;239m::\u001B[38;2;198;120;221m_log\u001B[38;2;97;175;239m::\u001B[38;2;198;120;221mtrain_util_wrap.py\u001B[38;2;97;175;239m:\u001B[38;2;198;120;221m255\u001B[38;2;97;175;239m:\u001B[39m\u001B[49m\u001B[22m\u001B[23m\u001B[24m\u001B[25m\u001B[27m\u001B[28m\u001B[29mINFO\u001B[39m\u001B[49m\u001B[22m\u001B[23m\u001B[24m\u001B[25m\u001B[27m\u001B[28m\u001B[29m\u001B[38;2;97;175;239m: \u001B[39m\u001B[49m\u001B[22m\u001B[23m\u001B[24m\u001B[25m\u001B[27m\u001B[28m\u001B[29m\u001B[35m{\u001B[39m\u001B[49m\u001B[0mstep\u001B[35m: \u001B[39m\u001B[49m\u001B[0m\u001B[34m 918/4352\u001B[39m\u001B[49m\u001B[0m, epoch\u001B[35m: \u001B[39m\u001B[49m\u001B[0m\u001B[34m 27.000/128\u001B[39m\u001B[49m\u001B[0m, train/learning_rate\u001B[35m: \u001B[39m\u001B[49m\u001B[0m\u001B[34m9.600e-06\u001B[39m\u001B[49m\u001B[0m, train/loss\u001B[35m: \u001B[39m\u001B[49m\u001B[0m\u001B[34m2.7322\u001B[39m\u001B[49m\u001B[0m\u001B[35m}\u001B[39m\u001B[49m\u001B[0m\u001B[39m\u001B[49m\u001B[22m\u001B[23m\u001B[24m\u001B[25m\u001B[27m\u001B[28m\u001B[29m\n"
     ]
    },
    {
     "data": {
      "application/vnd.jupyter.widget-view+json": {
       "model_id": "3666182452fc4317a8cf1b9479b9489d",
       "version_major": 2,
       "version_minor": 0
      },
      "text/plain": [
       "Eval Epoch  27/128:   0%|          | 0/2 [00:00<?, ?ba/s]"
      ]
     },
     "metadata": {},
     "output_type": "display_data"
    },
    {
     "metadata": {
      "tags": null
     },
     "name": "stdout",
     "output_type": "stream",
     "text": [
      "\u001B[38;2;0;186;142m2022-08-03 02:11:07\u001B[38;2;97;175;239m|\u001B[39m\u001B[49m\u001B[22m\u001B[23m\u001B[24m\u001B[25m\u001B[27m\u001B[28m\u001B[29m\u001B[38;2;198;120;221m[MyReformerModelWithLMHead Train]\u001B[38;2;97;175;239m::\u001B[38;2;198;120;221m_log\u001B[38;2;97;175;239m::\u001B[38;2;198;120;221mtrain_util_wrap.py\u001B[38;2;97;175;239m:\u001B[38;2;198;120;221m255\u001B[38;2;97;175;239m:\u001B[39m\u001B[49m\u001B[22m\u001B[23m\u001B[24m\u001B[25m\u001B[27m\u001B[28m\u001B[29mINFO\u001B[39m\u001B[49m\u001B[22m\u001B[23m\u001B[24m\u001B[25m\u001B[27m\u001B[28m\u001B[29m\u001B[38;2;97;175;239m: \u001B[39m\u001B[49m\u001B[22m\u001B[23m\u001B[24m\u001B[25m\u001B[27m\u001B[28m\u001B[29m\u001B[35m{\u001B[39m\u001B[49m\u001B[0mstep\u001B[35m: \u001B[39m\u001B[49m\u001B[0m\u001B[34m 918/4352\u001B[39m\u001B[49m\u001B[0m, epoch\u001B[35m: \u001B[39m\u001B[49m\u001B[0m\u001B[34m 27/128\u001B[39m\u001B[49m\u001B[0m, eval/loss\u001B[35m: \u001B[39m\u001B[49m\u001B[0m\u001B[34m2.6196\u001B[39m\u001B[49m\u001B[0m, eval/ntp_acc\u001B[35m: \u001B[39m\u001B[49m\u001B[0m\u001B[34m28.09\u001B[39m\u001B[49m\u001B[0m, eval/ikr\u001B[35m: \u001B[39m\u001B[49m\u001B[0m\u001B[34m48.04\u001B[39m\u001B[49m\u001B[0m\u001B[35m}\u001B[39m\u001B[49m\u001B[0m\u001B[39m\u001B[49m\u001B[22m\u001B[23m\u001B[24m\u001B[25m\u001B[27m\u001B[28m\u001B[29m\n"
     ]
    },
    {
     "data": {
      "application/vnd.jupyter.widget-view+json": {
       "model_id": "5dde9703d6c7499a861e4f21024808ed",
       "version_major": 2,
       "version_minor": 0
      },
      "text/plain": [
       "Train Epoch  28/128:   0%|          | 0/34 [00:00<?, ?ba/s]"
      ]
     },
     "metadata": {},
     "output_type": "display_data"
    },
    {
     "metadata": {
      "tags": null
     },
     "name": "stdout",
     "output_type": "stream",
     "text": [
      "\u001B[38;2;0;186;142m2022-08-03 02:16:05\u001B[38;2;97;175;239m|\u001B[39m\u001B[49m\u001B[22m\u001B[23m\u001B[24m\u001B[25m\u001B[27m\u001B[28m\u001B[29m\u001B[38;2;198;120;221m[MyReformerModelWithLMHead Train]\u001B[38;2;97;175;239m::\u001B[38;2;198;120;221m_log\u001B[38;2;97;175;239m::\u001B[38;2;198;120;221mtrain_util_wrap.py\u001B[38;2;97;175;239m:\u001B[38;2;198;120;221m255\u001B[38;2;97;175;239m:\u001B[39m\u001B[49m\u001B[22m\u001B[23m\u001B[24m\u001B[25m\u001B[27m\u001B[28m\u001B[29mINFO\u001B[39m\u001B[49m\u001B[22m\u001B[23m\u001B[24m\u001B[25m\u001B[27m\u001B[28m\u001B[29m\u001B[38;2;97;175;239m: \u001B[39m\u001B[49m\u001B[22m\u001B[23m\u001B[24m\u001B[25m\u001B[27m\u001B[28m\u001B[29m\u001B[35m{\u001B[39m\u001B[49m\u001B[0mstep\u001B[35m: \u001B[39m\u001B[49m\u001B[0m\u001B[34m 952/4352\u001B[39m\u001B[49m\u001B[0m, epoch\u001B[35m: \u001B[39m\u001B[49m\u001B[0m\u001B[34m 28.000/128\u001B[39m\u001B[49m\u001B[0m, train/learning_rate\u001B[35m: \u001B[39m\u001B[49m\u001B[0m\u001B[34m9.600e-06\u001B[39m\u001B[49m\u001B[0m, train/loss\u001B[35m: \u001B[39m\u001B[49m\u001B[0m\u001B[34m2.7154\u001B[39m\u001B[49m\u001B[0m\u001B[35m}\u001B[39m\u001B[49m\u001B[0m\u001B[39m\u001B[49m\u001B[22m\u001B[23m\u001B[24m\u001B[25m\u001B[27m\u001B[28m\u001B[29m\n"
     ]
    },
    {
     "data": {
      "application/vnd.jupyter.widget-view+json": {
       "model_id": "a86d3ca111fe4315a475a10dc9684cc7",
       "version_major": 2,
       "version_minor": 0
      },
      "text/plain": [
       "Eval Epoch  28/128:   0%|          | 0/2 [00:00<?, ?ba/s]"
      ]
     },
     "metadata": {},
     "output_type": "display_data"
    },
    {
     "metadata": {
      "tags": null
     },
     "name": "stdout",
     "output_type": "stream",
     "text": [
      "\u001B[38;2;0;186;142m2022-08-03 02:16:08\u001B[38;2;97;175;239m|\u001B[39m\u001B[49m\u001B[22m\u001B[23m\u001B[24m\u001B[25m\u001B[27m\u001B[28m\u001B[29m\u001B[38;2;198;120;221m[MyReformerModelWithLMHead Train]\u001B[38;2;97;175;239m::\u001B[38;2;198;120;221m_log\u001B[38;2;97;175;239m::\u001B[38;2;198;120;221mtrain_util_wrap.py\u001B[38;2;97;175;239m:\u001B[38;2;198;120;221m255\u001B[38;2;97;175;239m:\u001B[39m\u001B[49m\u001B[22m\u001B[23m\u001B[24m\u001B[25m\u001B[27m\u001B[28m\u001B[29mINFO\u001B[39m\u001B[49m\u001B[22m\u001B[23m\u001B[24m\u001B[25m\u001B[27m\u001B[28m\u001B[29m\u001B[38;2;97;175;239m: \u001B[39m\u001B[49m\u001B[22m\u001B[23m\u001B[24m\u001B[25m\u001B[27m\u001B[28m\u001B[29m\u001B[35m{\u001B[39m\u001B[49m\u001B[0mstep\u001B[35m: \u001B[39m\u001B[49m\u001B[0m\u001B[34m 952/4352\u001B[39m\u001B[49m\u001B[0m, epoch\u001B[35m: \u001B[39m\u001B[49m\u001B[0m\u001B[34m 28/128\u001B[39m\u001B[49m\u001B[0m, eval/loss\u001B[35m: \u001B[39m\u001B[49m\u001B[0m\u001B[34m2.6159\u001B[39m\u001B[49m\u001B[0m, eval/ntp_acc\u001B[35m: \u001B[39m\u001B[49m\u001B[0m\u001B[34m28.08\u001B[39m\u001B[49m\u001B[0m, eval/ikr\u001B[35m: \u001B[39m\u001B[49m\u001B[0m\u001B[34m47.72\u001B[39m\u001B[49m\u001B[0m\u001B[35m}\u001B[39m\u001B[49m\u001B[0m\u001B[39m\u001B[49m\u001B[22m\u001B[23m\u001B[24m\u001B[25m\u001B[27m\u001B[28m\u001B[29m\n"
     ]
    },
    {
     "data": {
      "application/vnd.jupyter.widget-view+json": {
       "model_id": "ba366c2dfa934e48bf12ec493e5c4bd3",
       "version_major": 2,
       "version_minor": 0
      },
      "text/plain": [
       "Train Epoch  29/128:   0%|          | 0/34 [00:00<?, ?ba/s]"
      ]
     },
     "metadata": {},
     "output_type": "display_data"
    },
    {
     "metadata": {
      "tags": null
     },
     "name": "stdout",
     "output_type": "stream",
     "text": [
      "\u001B[38;2;0;186;142m2022-08-03 02:21:06\u001B[38;2;97;175;239m|\u001B[39m\u001B[49m\u001B[22m\u001B[23m\u001B[24m\u001B[25m\u001B[27m\u001B[28m\u001B[29m\u001B[38;2;198;120;221m[MyReformerModelWithLMHead Train]\u001B[38;2;97;175;239m::\u001B[38;2;198;120;221m_log\u001B[38;2;97;175;239m::\u001B[38;2;198;120;221mtrain_util_wrap.py\u001B[38;2;97;175;239m:\u001B[38;2;198;120;221m255\u001B[38;2;97;175;239m:\u001B[39m\u001B[49m\u001B[22m\u001B[23m\u001B[24m\u001B[25m\u001B[27m\u001B[28m\u001B[29mINFO\u001B[39m\u001B[49m\u001B[22m\u001B[23m\u001B[24m\u001B[25m\u001B[27m\u001B[28m\u001B[29m\u001B[38;2;97;175;239m: \u001B[39m\u001B[49m\u001B[22m\u001B[23m\u001B[24m\u001B[25m\u001B[27m\u001B[28m\u001B[29m\u001B[35m{\u001B[39m\u001B[49m\u001B[0mstep\u001B[35m: \u001B[39m\u001B[49m\u001B[0m\u001B[34m 986/4352\u001B[39m\u001B[49m\u001B[0m, epoch\u001B[35m: \u001B[39m\u001B[49m\u001B[0m\u001B[34m 29.000/128\u001B[39m\u001B[49m\u001B[0m, train/learning_rate\u001B[35m: \u001B[39m\u001B[49m\u001B[0m\u001B[34m9.500e-06\u001B[39m\u001B[49m\u001B[0m, train/loss\u001B[35m: \u001B[39m\u001B[49m\u001B[0m\u001B[34m2.6232\u001B[39m\u001B[49m\u001B[0m\u001B[35m}\u001B[39m\u001B[49m\u001B[0m\u001B[39m\u001B[49m\u001B[22m\u001B[23m\u001B[24m\u001B[25m\u001B[27m\u001B[28m\u001B[29m\n"
     ]
    },
    {
     "data": {
      "application/vnd.jupyter.widget-view+json": {
       "model_id": "0e1497a79dc44aed9c17e89dca4d9afa",
       "version_major": 2,
       "version_minor": 0
      },
      "text/plain": [
       "Eval Epoch  29/128:   0%|          | 0/2 [00:00<?, ?ba/s]"
      ]
     },
     "metadata": {},
     "output_type": "display_data"
    },
    {
     "metadata": {
      "tags": null
     },
     "name": "stdout",
     "output_type": "stream",
     "text": [
      "\u001B[38;2;0;186;142m2022-08-03 02:21:09\u001B[38;2;97;175;239m|\u001B[39m\u001B[49m\u001B[22m\u001B[23m\u001B[24m\u001B[25m\u001B[27m\u001B[28m\u001B[29m\u001B[38;2;198;120;221m[MyReformerModelWithLMHead Train]\u001B[38;2;97;175;239m::\u001B[38;2;198;120;221m_log\u001B[38;2;97;175;239m::\u001B[38;2;198;120;221mtrain_util_wrap.py\u001B[38;2;97;175;239m:\u001B[38;2;198;120;221m255\u001B[38;2;97;175;239m:\u001B[39m\u001B[49m\u001B[22m\u001B[23m\u001B[24m\u001B[25m\u001B[27m\u001B[28m\u001B[29mINFO\u001B[39m\u001B[49m\u001B[22m\u001B[23m\u001B[24m\u001B[25m\u001B[27m\u001B[28m\u001B[29m\u001B[38;2;97;175;239m: \u001B[39m\u001B[49m\u001B[22m\u001B[23m\u001B[24m\u001B[25m\u001B[27m\u001B[28m\u001B[29m\u001B[35m{\u001B[39m\u001B[49m\u001B[0mstep\u001B[35m: \u001B[39m\u001B[49m\u001B[0m\u001B[34m 986/4352\u001B[39m\u001B[49m\u001B[0m, epoch\u001B[35m: \u001B[39m\u001B[49m\u001B[0m\u001B[34m 29/128\u001B[39m\u001B[49m\u001B[0m, eval/loss\u001B[35m: \u001B[39m\u001B[49m\u001B[0m\u001B[34m2.5929\u001B[39m\u001B[49m\u001B[0m, eval/ntp_acc\u001B[35m: \u001B[39m\u001B[49m\u001B[0m\u001B[34m29.23\u001B[39m\u001B[49m\u001B[0m, eval/ikr\u001B[35m: \u001B[39m\u001B[49m\u001B[0m\u001B[34m48.33\u001B[39m\u001B[49m\u001B[0m\u001B[35m}\u001B[39m\u001B[49m\u001B[0m\u001B[39m\u001B[49m\u001B[22m\u001B[23m\u001B[24m\u001B[25m\u001B[27m\u001B[28m\u001B[29m\n"
     ]
    },
    {
     "data": {
      "application/vnd.jupyter.widget-view+json": {
       "model_id": "2a4f0c8b4ff1489f88cb771d77a75a3d",
       "version_major": 2,
       "version_minor": 0
      },
      "text/plain": [
       "Train Epoch  30/128:   0%|          | 0/34 [00:00<?, ?ba/s]"
      ]
     },
     "metadata": {},
     "output_type": "display_data"
    },
    {
     "metadata": {
      "tags": null
     },
     "name": "stdout",
     "output_type": "stream",
     "text": [
      "\u001B[38;2;0;186;142m2022-08-03 02:26:07\u001B[38;2;97;175;239m|\u001B[39m\u001B[49m\u001B[22m\u001B[23m\u001B[24m\u001B[25m\u001B[27m\u001B[28m\u001B[29m\u001B[38;2;198;120;221m[MyReformerModelWithLMHead Train]\u001B[38;2;97;175;239m::\u001B[38;2;198;120;221m_log\u001B[38;2;97;175;239m::\u001B[38;2;198;120;221mtrain_util_wrap.py\u001B[38;2;97;175;239m:\u001B[38;2;198;120;221m255\u001B[38;2;97;175;239m:\u001B[39m\u001B[49m\u001B[22m\u001B[23m\u001B[24m\u001B[25m\u001B[27m\u001B[28m\u001B[29mINFO\u001B[39m\u001B[49m\u001B[22m\u001B[23m\u001B[24m\u001B[25m\u001B[27m\u001B[28m\u001B[29m\u001B[38;2;97;175;239m: \u001B[39m\u001B[49m\u001B[22m\u001B[23m\u001B[24m\u001B[25m\u001B[27m\u001B[28m\u001B[29m\u001B[35m{\u001B[39m\u001B[49m\u001B[0mstep\u001B[35m: \u001B[39m\u001B[49m\u001B[0m\u001B[34m1020/4352\u001B[39m\u001B[49m\u001B[0m, epoch\u001B[35m: \u001B[39m\u001B[49m\u001B[0m\u001B[34m 30.000/128\u001B[39m\u001B[49m\u001B[0m, train/learning_rate\u001B[35m: \u001B[39m\u001B[49m\u001B[0m\u001B[34m9.500e-06\u001B[39m\u001B[49m\u001B[0m, train/loss\u001B[35m: \u001B[39m\u001B[49m\u001B[0m\u001B[34m2.5349\u001B[39m\u001B[49m\u001B[0m\u001B[35m}\u001B[39m\u001B[49m\u001B[0m\u001B[39m\u001B[49m\u001B[22m\u001B[23m\u001B[24m\u001B[25m\u001B[27m\u001B[28m\u001B[29m\n"
     ]
    },
    {
     "data": {
      "application/vnd.jupyter.widget-view+json": {
       "model_id": "014357cdd7a34ae382aec39c1ae5f596",
       "version_major": 2,
       "version_minor": 0
      },
      "text/plain": [
       "Eval Epoch  30/128:   0%|          | 0/2 [00:00<?, ?ba/s]"
      ]
     },
     "metadata": {},
     "output_type": "display_data"
    },
    {
     "metadata": {
      "tags": null
     },
     "name": "stdout",
     "output_type": "stream",
     "text": [
      "\u001B[38;2;0;186;142m2022-08-03 02:26:09\u001B[38;2;97;175;239m|\u001B[39m\u001B[49m\u001B[22m\u001B[23m\u001B[24m\u001B[25m\u001B[27m\u001B[28m\u001B[29m\u001B[38;2;198;120;221m[MyReformerModelWithLMHead Train]\u001B[38;2;97;175;239m::\u001B[38;2;198;120;221m_log\u001B[38;2;97;175;239m::\u001B[38;2;198;120;221mtrain_util_wrap.py\u001B[38;2;97;175;239m:\u001B[38;2;198;120;221m255\u001B[38;2;97;175;239m:\u001B[39m\u001B[49m\u001B[22m\u001B[23m\u001B[24m\u001B[25m\u001B[27m\u001B[28m\u001B[29mINFO\u001B[39m\u001B[49m\u001B[22m\u001B[23m\u001B[24m\u001B[25m\u001B[27m\u001B[28m\u001B[29m\u001B[38;2;97;175;239m: \u001B[39m\u001B[49m\u001B[22m\u001B[23m\u001B[24m\u001B[25m\u001B[27m\u001B[28m\u001B[29m\u001B[35m{\u001B[39m\u001B[49m\u001B[0mstep\u001B[35m: \u001B[39m\u001B[49m\u001B[0m\u001B[34m1020/4352\u001B[39m\u001B[49m\u001B[0m, epoch\u001B[35m: \u001B[39m\u001B[49m\u001B[0m\u001B[34m 30/128\u001B[39m\u001B[49m\u001B[0m, eval/loss\u001B[35m: \u001B[39m\u001B[49m\u001B[0m\u001B[34m2.5804\u001B[39m\u001B[49m\u001B[0m, eval/ntp_acc\u001B[35m: \u001B[39m\u001B[49m\u001B[0m\u001B[34m28.91\u001B[39m\u001B[49m\u001B[0m, eval/ikr\u001B[35m: \u001B[39m\u001B[49m\u001B[0m\u001B[34m48.35\u001B[39m\u001B[49m\u001B[0m\u001B[35m}\u001B[39m\u001B[49m\u001B[0m\u001B[39m\u001B[49m\u001B[22m\u001B[23m\u001B[24m\u001B[25m\u001B[27m\u001B[28m\u001B[29m\n"
     ]
    },
    {
     "data": {
      "application/vnd.jupyter.widget-view+json": {
       "model_id": "1b0e405b55234fe58b03545e30431706",
       "version_major": 2,
       "version_minor": 0
      },
      "text/plain": [
       "Train Epoch  31/128:   0%|          | 0/34 [00:00<?, ?ba/s]"
      ]
     },
     "metadata": {},
     "output_type": "display_data"
    },
    {
     "metadata": {
      "tags": null
     },
     "name": "stdout",
     "output_type": "stream",
     "text": [
      "\u001B[38;2;0;186;142m2022-08-03 02:31:07\u001B[38;2;97;175;239m|\u001B[39m\u001B[49m\u001B[22m\u001B[23m\u001B[24m\u001B[25m\u001B[27m\u001B[28m\u001B[29m\u001B[38;2;198;120;221m[MyReformerModelWithLMHead Train]\u001B[38;2;97;175;239m::\u001B[38;2;198;120;221m_log\u001B[38;2;97;175;239m::\u001B[38;2;198;120;221mtrain_util_wrap.py\u001B[38;2;97;175;239m:\u001B[38;2;198;120;221m255\u001B[38;2;97;175;239m:\u001B[39m\u001B[49m\u001B[22m\u001B[23m\u001B[24m\u001B[25m\u001B[27m\u001B[28m\u001B[29mINFO\u001B[39m\u001B[49m\u001B[22m\u001B[23m\u001B[24m\u001B[25m\u001B[27m\u001B[28m\u001B[29m\u001B[38;2;97;175;239m: \u001B[39m\u001B[49m\u001B[22m\u001B[23m\u001B[24m\u001B[25m\u001B[27m\u001B[28m\u001B[29m\u001B[35m{\u001B[39m\u001B[49m\u001B[0mstep\u001B[35m: \u001B[39m\u001B[49m\u001B[0m\u001B[34m1054/4352\u001B[39m\u001B[49m\u001B[0m, epoch\u001B[35m: \u001B[39m\u001B[49m\u001B[0m\u001B[34m 31.000/128\u001B[39m\u001B[49m\u001B[0m, train/learning_rate\u001B[35m: \u001B[39m\u001B[49m\u001B[0m\u001B[34m9.400e-06\u001B[39m\u001B[49m\u001B[0m, train/loss\u001B[35m: \u001B[39m\u001B[49m\u001B[0m\u001B[34m2.6784\u001B[39m\u001B[49m\u001B[0m\u001B[35m}\u001B[39m\u001B[49m\u001B[0m\u001B[39m\u001B[49m\u001B[22m\u001B[23m\u001B[24m\u001B[25m\u001B[27m\u001B[28m\u001B[29m\n"
     ]
    },
    {
     "data": {
      "application/vnd.jupyter.widget-view+json": {
       "model_id": "3ee380301eed4827a96a446d34432867",
       "version_major": 2,
       "version_minor": 0
      },
      "text/plain": [
       "Eval Epoch  31/128:   0%|          | 0/2 [00:00<?, ?ba/s]"
      ]
     },
     "metadata": {},
     "output_type": "display_data"
    },
    {
     "metadata": {
      "tags": null
     },
     "name": "stdout",
     "output_type": "stream",
     "text": [
      "\u001B[38;2;0;186;142m2022-08-03 02:31:10\u001B[38;2;97;175;239m|\u001B[39m\u001B[49m\u001B[22m\u001B[23m\u001B[24m\u001B[25m\u001B[27m\u001B[28m\u001B[29m\u001B[38;2;198;120;221m[MyReformerModelWithLMHead Train]\u001B[38;2;97;175;239m::\u001B[38;2;198;120;221m_log\u001B[38;2;97;175;239m::\u001B[38;2;198;120;221mtrain_util_wrap.py\u001B[38;2;97;175;239m:\u001B[38;2;198;120;221m255\u001B[38;2;97;175;239m:\u001B[39m\u001B[49m\u001B[22m\u001B[23m\u001B[24m\u001B[25m\u001B[27m\u001B[28m\u001B[29mINFO\u001B[39m\u001B[49m\u001B[22m\u001B[23m\u001B[24m\u001B[25m\u001B[27m\u001B[28m\u001B[29m\u001B[38;2;97;175;239m: \u001B[39m\u001B[49m\u001B[22m\u001B[23m\u001B[24m\u001B[25m\u001B[27m\u001B[28m\u001B[29m\u001B[35m{\u001B[39m\u001B[49m\u001B[0mstep\u001B[35m: \u001B[39m\u001B[49m\u001B[0m\u001B[34m1054/4352\u001B[39m\u001B[49m\u001B[0m, epoch\u001B[35m: \u001B[39m\u001B[49m\u001B[0m\u001B[34m 31/128\u001B[39m\u001B[49m\u001B[0m, eval/loss\u001B[35m: \u001B[39m\u001B[49m\u001B[0m\u001B[34m2.5746\u001B[39m\u001B[49m\u001B[0m, eval/ntp_acc\u001B[35m: \u001B[39m\u001B[49m\u001B[0m\u001B[34m30.12\u001B[39m\u001B[49m\u001B[0m, eval/ikr\u001B[35m: \u001B[39m\u001B[49m\u001B[0m\u001B[34m 48.9\u001B[39m\u001B[49m\u001B[0m\u001B[35m}\u001B[39m\u001B[49m\u001B[0m\u001B[39m\u001B[49m\u001B[22m\u001B[23m\u001B[24m\u001B[25m\u001B[27m\u001B[28m\u001B[29m\n"
     ]
    },
    {
     "data": {
      "application/vnd.jupyter.widget-view+json": {
       "model_id": "ca7ba86bf38f4c76a8b77e082764fd35",
       "version_major": 2,
       "version_minor": 0
      },
      "text/plain": [
       "Train Epoch  32/128:   0%|          | 0/34 [00:00<?, ?ba/s]"
      ]
     },
     "metadata": {},
     "output_type": "display_data"
    },
    {
     "metadata": {
      "tags": null
     },
     "name": "stdout",
     "output_type": "stream",
     "text": [
      "\u001B[38;2;0;186;142m2022-08-03 02:36:08\u001B[38;2;97;175;239m|\u001B[39m\u001B[49m\u001B[22m\u001B[23m\u001B[24m\u001B[25m\u001B[27m\u001B[28m\u001B[29m\u001B[38;2;198;120;221m[MyReformerModelWithLMHead Train]\u001B[38;2;97;175;239m::\u001B[38;2;198;120;221m_log\u001B[38;2;97;175;239m::\u001B[38;2;198;120;221mtrain_util_wrap.py\u001B[38;2;97;175;239m:\u001B[38;2;198;120;221m255\u001B[38;2;97;175;239m:\u001B[39m\u001B[49m\u001B[22m\u001B[23m\u001B[24m\u001B[25m\u001B[27m\u001B[28m\u001B[29mINFO\u001B[39m\u001B[49m\u001B[22m\u001B[23m\u001B[24m\u001B[25m\u001B[27m\u001B[28m\u001B[29m\u001B[38;2;97;175;239m: \u001B[39m\u001B[49m\u001B[22m\u001B[23m\u001B[24m\u001B[25m\u001B[27m\u001B[28m\u001B[29m\u001B[35m{\u001B[39m\u001B[49m\u001B[0mstep\u001B[35m: \u001B[39m\u001B[49m\u001B[0m\u001B[34m1088/4352\u001B[39m\u001B[49m\u001B[0m, epoch\u001B[35m: \u001B[39m\u001B[49m\u001B[0m\u001B[34m 32.000/128\u001B[39m\u001B[49m\u001B[0m, train/learning_rate\u001B[35m: \u001B[39m\u001B[49m\u001B[0m\u001B[34m9.300e-06\u001B[39m\u001B[49m\u001B[0m, train/loss\u001B[35m: \u001B[39m\u001B[49m\u001B[0m\u001B[34m2.6689\u001B[39m\u001B[49m\u001B[0m\u001B[35m}\u001B[39m\u001B[49m\u001B[0m\u001B[39m\u001B[49m\u001B[22m\u001B[23m\u001B[24m\u001B[25m\u001B[27m\u001B[28m\u001B[29m\n"
     ]
    },
    {
     "data": {
      "application/vnd.jupyter.widget-view+json": {
       "model_id": "aaa495a95b9c42af8d177491b1372121",
       "version_major": 2,
       "version_minor": 0
      },
      "text/plain": [
       "Eval Epoch  32/128:   0%|          | 0/2 [00:00<?, ?ba/s]"
      ]
     },
     "metadata": {},
     "output_type": "display_data"
    },
    {
     "metadata": {
      "tags": null
     },
     "name": "stdout",
     "output_type": "stream",
     "text": [
      "\u001B[38;2;0;186;142m2022-08-03 02:36:15\u001B[38;2;97;175;239m|\u001B[39m\u001B[49m\u001B[22m\u001B[23m\u001B[24m\u001B[25m\u001B[27m\u001B[28m\u001B[29m\u001B[38;2;198;120;221m[MyReformerModelWithLMHead Train]\u001B[38;2;97;175;239m::\u001B[38;2;198;120;221m_log\u001B[38;2;97;175;239m::\u001B[38;2;198;120;221mtrain_util_wrap.py\u001B[38;2;97;175;239m:\u001B[38;2;198;120;221m255\u001B[38;2;97;175;239m:\u001B[39m\u001B[49m\u001B[22m\u001B[23m\u001B[24m\u001B[25m\u001B[27m\u001B[28m\u001B[29mINFO\u001B[39m\u001B[49m\u001B[22m\u001B[23m\u001B[24m\u001B[25m\u001B[27m\u001B[28m\u001B[29m\u001B[38;2;97;175;239m: \u001B[39m\u001B[49m\u001B[22m\u001B[23m\u001B[24m\u001B[25m\u001B[27m\u001B[28m\u001B[29m\u001B[35m{\u001B[39m\u001B[49m\u001B[0mstep\u001B[35m: \u001B[39m\u001B[49m\u001B[0m\u001B[34m1088/4352\u001B[39m\u001B[49m\u001B[0m, epoch\u001B[35m: \u001B[39m\u001B[49m\u001B[0m\u001B[34m 32/128\u001B[39m\u001B[49m\u001B[0m, eval/loss\u001B[35m: \u001B[39m\u001B[49m\u001B[0m\u001B[34m2.5638\u001B[39m\u001B[49m\u001B[0m, eval/ntp_acc\u001B[35m: \u001B[39m\u001B[49m\u001B[0m\u001B[34m29.86\u001B[39m\u001B[49m\u001B[0m, eval/ikr\u001B[35m: \u001B[39m\u001B[49m\u001B[0m\u001B[34m49.95\u001B[39m\u001B[49m\u001B[0m\u001B[35m}\u001B[39m\u001B[49m\u001B[0m\u001B[39m\u001B[49m\u001B[22m\u001B[23m\u001B[24m\u001B[25m\u001B[27m\u001B[28m\u001B[29m\n"
     ]
    },
    {
     "data": {
      "application/vnd.jupyter.widget-view+json": {
       "model_id": "6b138eb10af04cb985fcd01d8ae9e065",
       "version_major": 2,
       "version_minor": 0
      },
      "text/plain": [
       "Train Epoch  33/128:   0%|          | 0/34 [00:00<?, ?ba/s]"
      ]
     },
     "metadata": {},
     "output_type": "display_data"
    },
    {
     "metadata": {
      "tags": null
     },
     "name": "stdout",
     "output_type": "stream",
     "text": [
      "\u001B[38;2;0;186;142m2022-08-03 02:41:13\u001B[38;2;97;175;239m|\u001B[39m\u001B[49m\u001B[22m\u001B[23m\u001B[24m\u001B[25m\u001B[27m\u001B[28m\u001B[29m\u001B[38;2;198;120;221m[MyReformerModelWithLMHead Train]\u001B[38;2;97;175;239m::\u001B[38;2;198;120;221m_log\u001B[38;2;97;175;239m::\u001B[38;2;198;120;221mtrain_util_wrap.py\u001B[38;2;97;175;239m:\u001B[38;2;198;120;221m255\u001B[38;2;97;175;239m:\u001B[39m\u001B[49m\u001B[22m\u001B[23m\u001B[24m\u001B[25m\u001B[27m\u001B[28m\u001B[29mINFO\u001B[39m\u001B[49m\u001B[22m\u001B[23m\u001B[24m\u001B[25m\u001B[27m\u001B[28m\u001B[29m\u001B[38;2;97;175;239m: \u001B[39m\u001B[49m\u001B[22m\u001B[23m\u001B[24m\u001B[25m\u001B[27m\u001B[28m\u001B[29m\u001B[35m{\u001B[39m\u001B[49m\u001B[0mstep\u001B[35m: \u001B[39m\u001B[49m\u001B[0m\u001B[34m1122/4352\u001B[39m\u001B[49m\u001B[0m, epoch\u001B[35m: \u001B[39m\u001B[49m\u001B[0m\u001B[34m 33.000/128\u001B[39m\u001B[49m\u001B[0m, train/learning_rate\u001B[35m: \u001B[39m\u001B[49m\u001B[0m\u001B[34m9.300e-06\u001B[39m\u001B[49m\u001B[0m, train/loss\u001B[35m: \u001B[39m\u001B[49m\u001B[0m\u001B[34m2.6185\u001B[39m\u001B[49m\u001B[0m\u001B[35m}\u001B[39m\u001B[49m\u001B[0m\u001B[39m\u001B[49m\u001B[22m\u001B[23m\u001B[24m\u001B[25m\u001B[27m\u001B[28m\u001B[29m\n"
     ]
    },
    {
     "data": {
      "application/vnd.jupyter.widget-view+json": {
       "model_id": "945e65eb1da345029a07d70fe6ca1fdd",
       "version_major": 2,
       "version_minor": 0
      },
      "text/plain": [
       "Eval Epoch  33/128:   0%|          | 0/2 [00:00<?, ?ba/s]"
      ]
     },
     "metadata": {},
     "output_type": "display_data"
    },
    {
     "metadata": {
      "tags": null
     },
     "name": "stdout",
     "output_type": "stream",
     "text": [
      "\u001B[38;2;0;186;142m2022-08-03 02:41:15\u001B[38;2;97;175;239m|\u001B[39m\u001B[49m\u001B[22m\u001B[23m\u001B[24m\u001B[25m\u001B[27m\u001B[28m\u001B[29m\u001B[38;2;198;120;221m[MyReformerModelWithLMHead Train]\u001B[38;2;97;175;239m::\u001B[38;2;198;120;221m_log\u001B[38;2;97;175;239m::\u001B[38;2;198;120;221mtrain_util_wrap.py\u001B[38;2;97;175;239m:\u001B[38;2;198;120;221m255\u001B[38;2;97;175;239m:\u001B[39m\u001B[49m\u001B[22m\u001B[23m\u001B[24m\u001B[25m\u001B[27m\u001B[28m\u001B[29mINFO\u001B[39m\u001B[49m\u001B[22m\u001B[23m\u001B[24m\u001B[25m\u001B[27m\u001B[28m\u001B[29m\u001B[38;2;97;175;239m: \u001B[39m\u001B[49m\u001B[22m\u001B[23m\u001B[24m\u001B[25m\u001B[27m\u001B[28m\u001B[29m\u001B[35m{\u001B[39m\u001B[49m\u001B[0mstep\u001B[35m: \u001B[39m\u001B[49m\u001B[0m\u001B[34m1122/4352\u001B[39m\u001B[49m\u001B[0m, epoch\u001B[35m: \u001B[39m\u001B[49m\u001B[0m\u001B[34m 33/128\u001B[39m\u001B[49m\u001B[0m, eval/loss\u001B[35m: \u001B[39m\u001B[49m\u001B[0m\u001B[34m2.559\u001B[39m\u001B[49m\u001B[0m, eval/ntp_acc\u001B[35m: \u001B[39m\u001B[49m\u001B[0m\u001B[34m28.99\u001B[39m\u001B[49m\u001B[0m, eval/ikr\u001B[35m: \u001B[39m\u001B[49m\u001B[0m\u001B[34m48.14\u001B[39m\u001B[49m\u001B[0m\u001B[35m}\u001B[39m\u001B[49m\u001B[0m\u001B[39m\u001B[49m\u001B[22m\u001B[23m\u001B[24m\u001B[25m\u001B[27m\u001B[28m\u001B[29m\n"
     ]
    },
    {
     "data": {
      "application/vnd.jupyter.widget-view+json": {
       "model_id": "38f3d365d9ac412ba00008d428b54c8c",
       "version_major": 2,
       "version_minor": 0
      },
      "text/plain": [
       "Train Epoch  34/128:   0%|          | 0/34 [00:00<?, ?ba/s]"
      ]
     },
     "metadata": {},
     "output_type": "display_data"
    },
    {
     "metadata": {
      "tags": null
     },
     "name": "stdout",
     "output_type": "stream",
     "text": [
      "\u001B[38;2;0;186;142m2022-08-03 02:46:13\u001B[38;2;97;175;239m|\u001B[39m\u001B[49m\u001B[22m\u001B[23m\u001B[24m\u001B[25m\u001B[27m\u001B[28m\u001B[29m\u001B[38;2;198;120;221m[MyReformerModelWithLMHead Train]\u001B[38;2;97;175;239m::\u001B[38;2;198;120;221m_log\u001B[38;2;97;175;239m::\u001B[38;2;198;120;221mtrain_util_wrap.py\u001B[38;2;97;175;239m:\u001B[38;2;198;120;221m255\u001B[38;2;97;175;239m:\u001B[39m\u001B[49m\u001B[22m\u001B[23m\u001B[24m\u001B[25m\u001B[27m\u001B[28m\u001B[29mINFO\u001B[39m\u001B[49m\u001B[22m\u001B[23m\u001B[24m\u001B[25m\u001B[27m\u001B[28m\u001B[29m\u001B[38;2;97;175;239m: \u001B[39m\u001B[49m\u001B[22m\u001B[23m\u001B[24m\u001B[25m\u001B[27m\u001B[28m\u001B[29m\u001B[35m{\u001B[39m\u001B[49m\u001B[0mstep\u001B[35m: \u001B[39m\u001B[49m\u001B[0m\u001B[34m1156/4352\u001B[39m\u001B[49m\u001B[0m, epoch\u001B[35m: \u001B[39m\u001B[49m\u001B[0m\u001B[34m 34.000/128\u001B[39m\u001B[49m\u001B[0m, train/learning_rate\u001B[35m: \u001B[39m\u001B[49m\u001B[0m\u001B[34m9.200e-06\u001B[39m\u001B[49m\u001B[0m, train/loss\u001B[35m: \u001B[39m\u001B[49m\u001B[0m\u001B[34m2.5858\u001B[39m\u001B[49m\u001B[0m\u001B[35m}\u001B[39m\u001B[49m\u001B[0m\u001B[39m\u001B[49m\u001B[22m\u001B[23m\u001B[24m\u001B[25m\u001B[27m\u001B[28m\u001B[29m\n"
     ]
    },
    {
     "data": {
      "application/vnd.jupyter.widget-view+json": {
       "model_id": "c7603a14998f47a899068f942d93b63e",
       "version_major": 2,
       "version_minor": 0
      },
      "text/plain": [
       "Eval Epoch  34/128:   0%|          | 0/2 [00:00<?, ?ba/s]"
      ]
     },
     "metadata": {},
     "output_type": "display_data"
    },
    {
     "metadata": {
      "tags": null
     },
     "name": "stdout",
     "output_type": "stream",
     "text": [
      "\u001B[38;2;0;186;142m2022-08-03 02:46:16\u001B[38;2;97;175;239m|\u001B[39m\u001B[49m\u001B[22m\u001B[23m\u001B[24m\u001B[25m\u001B[27m\u001B[28m\u001B[29m\u001B[38;2;198;120;221m[MyReformerModelWithLMHead Train]\u001B[38;2;97;175;239m::\u001B[38;2;198;120;221m_log\u001B[38;2;97;175;239m::\u001B[38;2;198;120;221mtrain_util_wrap.py\u001B[38;2;97;175;239m:\u001B[38;2;198;120;221m255\u001B[38;2;97;175;239m:\u001B[39m\u001B[49m\u001B[22m\u001B[23m\u001B[24m\u001B[25m\u001B[27m\u001B[28m\u001B[29mINFO\u001B[39m\u001B[49m\u001B[22m\u001B[23m\u001B[24m\u001B[25m\u001B[27m\u001B[28m\u001B[29m\u001B[38;2;97;175;239m: \u001B[39m\u001B[49m\u001B[22m\u001B[23m\u001B[24m\u001B[25m\u001B[27m\u001B[28m\u001B[29m\u001B[35m{\u001B[39m\u001B[49m\u001B[0mstep\u001B[35m: \u001B[39m\u001B[49m\u001B[0m\u001B[34m1156/4352\u001B[39m\u001B[49m\u001B[0m, epoch\u001B[35m: \u001B[39m\u001B[49m\u001B[0m\u001B[34m 34/128\u001B[39m\u001B[49m\u001B[0m, eval/loss\u001B[35m: \u001B[39m\u001B[49m\u001B[0m\u001B[34m2.5516\u001B[39m\u001B[49m\u001B[0m, eval/ntp_acc\u001B[35m: \u001B[39m\u001B[49m\u001B[0m\u001B[34m29.26\u001B[39m\u001B[49m\u001B[0m, eval/ikr\u001B[35m: \u001B[39m\u001B[49m\u001B[0m\u001B[34m48.53\u001B[39m\u001B[49m\u001B[0m\u001B[35m}\u001B[39m\u001B[49m\u001B[0m\u001B[39m\u001B[49m\u001B[22m\u001B[23m\u001B[24m\u001B[25m\u001B[27m\u001B[28m\u001B[29m\n"
     ]
    },
    {
     "data": {
      "application/vnd.jupyter.widget-view+json": {
       "model_id": "cdd3fa0369fd419eb17163c944e0da3b",
       "version_major": 2,
       "version_minor": 0
      },
      "text/plain": [
       "Train Epoch  35/128:   0%|          | 0/34 [00:00<?, ?ba/s]"
      ]
     },
     "metadata": {},
     "output_type": "display_data"
    },
    {
     "metadata": {
      "tags": null
     },
     "name": "stdout",
     "output_type": "stream",
     "text": [
      "\u001B[38;2;0;186;142m2022-08-03 02:51:14\u001B[38;2;97;175;239m|\u001B[39m\u001B[49m\u001B[22m\u001B[23m\u001B[24m\u001B[25m\u001B[27m\u001B[28m\u001B[29m\u001B[38;2;198;120;221m[MyReformerModelWithLMHead Train]\u001B[38;2;97;175;239m::\u001B[38;2;198;120;221m_log\u001B[38;2;97;175;239m::\u001B[38;2;198;120;221mtrain_util_wrap.py\u001B[38;2;97;175;239m:\u001B[38;2;198;120;221m255\u001B[38;2;97;175;239m:\u001B[39m\u001B[49m\u001B[22m\u001B[23m\u001B[24m\u001B[25m\u001B[27m\u001B[28m\u001B[29mINFO\u001B[39m\u001B[49m\u001B[22m\u001B[23m\u001B[24m\u001B[25m\u001B[27m\u001B[28m\u001B[29m\u001B[38;2;97;175;239m: \u001B[39m\u001B[49m\u001B[22m\u001B[23m\u001B[24m\u001B[25m\u001B[27m\u001B[28m\u001B[29m\u001B[35m{\u001B[39m\u001B[49m\u001B[0mstep\u001B[35m: \u001B[39m\u001B[49m\u001B[0m\u001B[34m1190/4352\u001B[39m\u001B[49m\u001B[0m, epoch\u001B[35m: \u001B[39m\u001B[49m\u001B[0m\u001B[34m 35.000/128\u001B[39m\u001B[49m\u001B[0m, train/learning_rate\u001B[35m: \u001B[39m\u001B[49m\u001B[0m\u001B[34m9.100e-06\u001B[39m\u001B[49m\u001B[0m, train/loss\u001B[35m: \u001B[39m\u001B[49m\u001B[0m\u001B[34m2.6033\u001B[39m\u001B[49m\u001B[0m\u001B[35m}\u001B[39m\u001B[49m\u001B[0m\u001B[39m\u001B[49m\u001B[22m\u001B[23m\u001B[24m\u001B[25m\u001B[27m\u001B[28m\u001B[29m\n"
     ]
    },
    {
     "data": {
      "application/vnd.jupyter.widget-view+json": {
       "model_id": "888e2b53170d442d96b0e324ff80e24d",
       "version_major": 2,
       "version_minor": 0
      },
      "text/plain": [
       "Eval Epoch  35/128:   0%|          | 0/2 [00:00<?, ?ba/s]"
      ]
     },
     "metadata": {},
     "output_type": "display_data"
    },
    {
     "metadata": {
      "tags": null
     },
     "name": "stdout",
     "output_type": "stream",
     "text": [
      "\u001B[38;2;0;186;142m2022-08-03 02:51:16\u001B[38;2;97;175;239m|\u001B[39m\u001B[49m\u001B[22m\u001B[23m\u001B[24m\u001B[25m\u001B[27m\u001B[28m\u001B[29m\u001B[38;2;198;120;221m[MyReformerModelWithLMHead Train]\u001B[38;2;97;175;239m::\u001B[38;2;198;120;221m_log\u001B[38;2;97;175;239m::\u001B[38;2;198;120;221mtrain_util_wrap.py\u001B[38;2;97;175;239m:\u001B[38;2;198;120;221m255\u001B[38;2;97;175;239m:\u001B[39m\u001B[49m\u001B[22m\u001B[23m\u001B[24m\u001B[25m\u001B[27m\u001B[28m\u001B[29mINFO\u001B[39m\u001B[49m\u001B[22m\u001B[23m\u001B[24m\u001B[25m\u001B[27m\u001B[28m\u001B[29m\u001B[38;2;97;175;239m: \u001B[39m\u001B[49m\u001B[22m\u001B[23m\u001B[24m\u001B[25m\u001B[27m\u001B[28m\u001B[29m\u001B[35m{\u001B[39m\u001B[49m\u001B[0mstep\u001B[35m: \u001B[39m\u001B[49m\u001B[0m\u001B[34m1190/4352\u001B[39m\u001B[49m\u001B[0m, epoch\u001B[35m: \u001B[39m\u001B[49m\u001B[0m\u001B[34m 35/128\u001B[39m\u001B[49m\u001B[0m, eval/loss\u001B[35m: \u001B[39m\u001B[49m\u001B[0m\u001B[34m2.5428\u001B[39m\u001B[49m\u001B[0m, eval/ntp_acc\u001B[35m: \u001B[39m\u001B[49m\u001B[0m\u001B[34m30.88\u001B[39m\u001B[49m\u001B[0m, eval/ikr\u001B[35m: \u001B[39m\u001B[49m\u001B[0m\u001B[34m48.73\u001B[39m\u001B[49m\u001B[0m\u001B[35m}\u001B[39m\u001B[49m\u001B[0m\u001B[39m\u001B[49m\u001B[22m\u001B[23m\u001B[24m\u001B[25m\u001B[27m\u001B[28m\u001B[29m\n"
     ]
    },
    {
     "data": {
      "application/vnd.jupyter.widget-view+json": {
       "model_id": "00b0e531a934490c90585e8bc1ea00fd",
       "version_major": 2,
       "version_minor": 0
      },
      "text/plain": [
       "Train Epoch  36/128:   0%|          | 0/34 [00:00<?, ?ba/s]"
      ]
     },
     "metadata": {},
     "output_type": "display_data"
    },
    {
     "metadata": {
      "tags": null
     },
     "name": "stdout",
     "output_type": "stream",
     "text": [
      "\u001B[38;2;0;186;142m2022-08-03 02:56:14\u001B[38;2;97;175;239m|\u001B[39m\u001B[49m\u001B[22m\u001B[23m\u001B[24m\u001B[25m\u001B[27m\u001B[28m\u001B[29m\u001B[38;2;198;120;221m[MyReformerModelWithLMHead Train]\u001B[38;2;97;175;239m::\u001B[38;2;198;120;221m_log\u001B[38;2;97;175;239m::\u001B[38;2;198;120;221mtrain_util_wrap.py\u001B[38;2;97;175;239m:\u001B[38;2;198;120;221m255\u001B[38;2;97;175;239m:\u001B[39m\u001B[49m\u001B[22m\u001B[23m\u001B[24m\u001B[25m\u001B[27m\u001B[28m\u001B[29mINFO\u001B[39m\u001B[49m\u001B[22m\u001B[23m\u001B[24m\u001B[25m\u001B[27m\u001B[28m\u001B[29m\u001B[38;2;97;175;239m: \u001B[39m\u001B[49m\u001B[22m\u001B[23m\u001B[24m\u001B[25m\u001B[27m\u001B[28m\u001B[29m\u001B[35m{\u001B[39m\u001B[49m\u001B[0mstep\u001B[35m: \u001B[39m\u001B[49m\u001B[0m\u001B[34m1224/4352\u001B[39m\u001B[49m\u001B[0m, epoch\u001B[35m: \u001B[39m\u001B[49m\u001B[0m\u001B[34m 36.000/128\u001B[39m\u001B[49m\u001B[0m, train/learning_rate\u001B[35m: \u001B[39m\u001B[49m\u001B[0m\u001B[34m9.000e-06\u001B[39m\u001B[49m\u001B[0m, train/loss\u001B[35m: \u001B[39m\u001B[49m\u001B[0m\u001B[34m2.6195\u001B[39m\u001B[49m\u001B[0m\u001B[35m}\u001B[39m\u001B[49m\u001B[0m\u001B[39m\u001B[49m\u001B[22m\u001B[23m\u001B[24m\u001B[25m\u001B[27m\u001B[28m\u001B[29m\n"
     ]
    },
    {
     "data": {
      "application/vnd.jupyter.widget-view+json": {
       "model_id": "55948ddf005a4dedb97263e150cb3dcd",
       "version_major": 2,
       "version_minor": 0
      },
      "text/plain": [
       "Eval Epoch  36/128:   0%|          | 0/2 [00:00<?, ?ba/s]"
      ]
     },
     "metadata": {},
     "output_type": "display_data"
    },
    {
     "metadata": {
      "tags": null
     },
     "name": "stdout",
     "output_type": "stream",
     "text": [
      "\u001B[38;2;0;186;142m2022-08-03 02:56:17\u001B[38;2;97;175;239m|\u001B[39m\u001B[49m\u001B[22m\u001B[23m\u001B[24m\u001B[25m\u001B[27m\u001B[28m\u001B[29m\u001B[38;2;198;120;221m[MyReformerModelWithLMHead Train]\u001B[38;2;97;175;239m::\u001B[38;2;198;120;221m_log\u001B[38;2;97;175;239m::\u001B[38;2;198;120;221mtrain_util_wrap.py\u001B[38;2;97;175;239m:\u001B[38;2;198;120;221m255\u001B[38;2;97;175;239m:\u001B[39m\u001B[49m\u001B[22m\u001B[23m\u001B[24m\u001B[25m\u001B[27m\u001B[28m\u001B[29mINFO\u001B[39m\u001B[49m\u001B[22m\u001B[23m\u001B[24m\u001B[25m\u001B[27m\u001B[28m\u001B[29m\u001B[38;2;97;175;239m: \u001B[39m\u001B[49m\u001B[22m\u001B[23m\u001B[24m\u001B[25m\u001B[27m\u001B[28m\u001B[29m\u001B[35m{\u001B[39m\u001B[49m\u001B[0mstep\u001B[35m: \u001B[39m\u001B[49m\u001B[0m\u001B[34m1224/4352\u001B[39m\u001B[49m\u001B[0m, epoch\u001B[35m: \u001B[39m\u001B[49m\u001B[0m\u001B[34m 36/128\u001B[39m\u001B[49m\u001B[0m, eval/loss\u001B[35m: \u001B[39m\u001B[49m\u001B[0m\u001B[34m2.5364\u001B[39m\u001B[49m\u001B[0m, eval/ntp_acc\u001B[35m: \u001B[39m\u001B[49m\u001B[0m\u001B[34m30.63\u001B[39m\u001B[49m\u001B[0m, eval/ikr\u001B[35m: \u001B[39m\u001B[49m\u001B[0m\u001B[34m48.07\u001B[39m\u001B[49m\u001B[0m\u001B[35m}\u001B[39m\u001B[49m\u001B[0m\u001B[39m\u001B[49m\u001B[22m\u001B[23m\u001B[24m\u001B[25m\u001B[27m\u001B[28m\u001B[29m\n"
     ]
    },
    {
     "data": {
      "application/vnd.jupyter.widget-view+json": {
       "model_id": "367dd79a1269429390585cf5243530ff",
       "version_major": 2,
       "version_minor": 0
      },
      "text/plain": [
       "Train Epoch  37/128:   0%|          | 0/34 [00:00<?, ?ba/s]"
      ]
     },
     "metadata": {},
     "output_type": "display_data"
    },
    {
     "metadata": {
      "tags": null
     },
     "name": "stdout",
     "output_type": "stream",
     "text": [
      "\u001B[38;2;0;186;142m2022-08-03 03:01:15\u001B[38;2;97;175;239m|\u001B[39m\u001B[49m\u001B[22m\u001B[23m\u001B[24m\u001B[25m\u001B[27m\u001B[28m\u001B[29m\u001B[38;2;198;120;221m[MyReformerModelWithLMHead Train]\u001B[38;2;97;175;239m::\u001B[38;2;198;120;221m_log\u001B[38;2;97;175;239m::\u001B[38;2;198;120;221mtrain_util_wrap.py\u001B[38;2;97;175;239m:\u001B[38;2;198;120;221m255\u001B[38;2;97;175;239m:\u001B[39m\u001B[49m\u001B[22m\u001B[23m\u001B[24m\u001B[25m\u001B[27m\u001B[28m\u001B[29mINFO\u001B[39m\u001B[49m\u001B[22m\u001B[23m\u001B[24m\u001B[25m\u001B[27m\u001B[28m\u001B[29m\u001B[38;2;97;175;239m: \u001B[39m\u001B[49m\u001B[22m\u001B[23m\u001B[24m\u001B[25m\u001B[27m\u001B[28m\u001B[29m\u001B[35m{\u001B[39m\u001B[49m\u001B[0mstep\u001B[35m: \u001B[39m\u001B[49m\u001B[0m\u001B[34m1258/4352\u001B[39m\u001B[49m\u001B[0m, epoch\u001B[35m: \u001B[39m\u001B[49m\u001B[0m\u001B[34m 37.000/128\u001B[39m\u001B[49m\u001B[0m, train/learning_rate\u001B[35m: \u001B[39m\u001B[49m\u001B[0m\u001B[34m9.000e-06\u001B[39m\u001B[49m\u001B[0m, train/loss\u001B[35m: \u001B[39m\u001B[49m\u001B[0m\u001B[34m2.6664\u001B[39m\u001B[49m\u001B[0m\u001B[35m}\u001B[39m\u001B[49m\u001B[0m\u001B[39m\u001B[49m\u001B[22m\u001B[23m\u001B[24m\u001B[25m\u001B[27m\u001B[28m\u001B[29m\n"
     ]
    },
    {
     "data": {
      "application/vnd.jupyter.widget-view+json": {
       "model_id": "1777325b7386481fb8fa1fb3738baea8",
       "version_major": 2,
       "version_minor": 0
      },
      "text/plain": [
       "Eval Epoch  37/128:   0%|          | 0/2 [00:00<?, ?ba/s]"
      ]
     },
     "metadata": {},
     "output_type": "display_data"
    },
    {
     "metadata": {
      "tags": null
     },
     "name": "stdout",
     "output_type": "stream",
     "text": [
      "\u001B[38;2;0;186;142m2022-08-03 03:01:17\u001B[38;2;97;175;239m|\u001B[39m\u001B[49m\u001B[22m\u001B[23m\u001B[24m\u001B[25m\u001B[27m\u001B[28m\u001B[29m\u001B[38;2;198;120;221m[MyReformerModelWithLMHead Train]\u001B[38;2;97;175;239m::\u001B[38;2;198;120;221m_log\u001B[38;2;97;175;239m::\u001B[38;2;198;120;221mtrain_util_wrap.py\u001B[38;2;97;175;239m:\u001B[38;2;198;120;221m255\u001B[38;2;97;175;239m:\u001B[39m\u001B[49m\u001B[22m\u001B[23m\u001B[24m\u001B[25m\u001B[27m\u001B[28m\u001B[29mINFO\u001B[39m\u001B[49m\u001B[22m\u001B[23m\u001B[24m\u001B[25m\u001B[27m\u001B[28m\u001B[29m\u001B[38;2;97;175;239m: \u001B[39m\u001B[49m\u001B[22m\u001B[23m\u001B[24m\u001B[25m\u001B[27m\u001B[28m\u001B[29m\u001B[35m{\u001B[39m\u001B[49m\u001B[0mstep\u001B[35m: \u001B[39m\u001B[49m\u001B[0m\u001B[34m1258/4352\u001B[39m\u001B[49m\u001B[0m, epoch\u001B[35m: \u001B[39m\u001B[49m\u001B[0m\u001B[34m 37/128\u001B[39m\u001B[49m\u001B[0m, eval/loss\u001B[35m: \u001B[39m\u001B[49m\u001B[0m\u001B[34m2.5419\u001B[39m\u001B[49m\u001B[0m, eval/ntp_acc\u001B[35m: \u001B[39m\u001B[49m\u001B[0m\u001B[34m30.07\u001B[39m\u001B[49m\u001B[0m, eval/ikr\u001B[35m: \u001B[39m\u001B[49m\u001B[0m\u001B[34m47.49\u001B[39m\u001B[49m\u001B[0m\u001B[35m}\u001B[39m\u001B[49m\u001B[0m\u001B[39m\u001B[49m\u001B[22m\u001B[23m\u001B[24m\u001B[25m\u001B[27m\u001B[28m\u001B[29m\n"
     ]
    },
    {
     "data": {
      "application/vnd.jupyter.widget-view+json": {
       "model_id": "6074176628674abba9da32909bab0454",
       "version_major": 2,
       "version_minor": 0
      },
      "text/plain": [
       "Train Epoch  38/128:   0%|          | 0/34 [00:00<?, ?ba/s]"
      ]
     },
     "metadata": {},
     "output_type": "display_data"
    },
    {
     "metadata": {
      "tags": null
     },
     "name": "stdout",
     "output_type": "stream",
     "text": [
      "\u001B[38;2;0;186;142m2022-08-03 03:06:15\u001B[38;2;97;175;239m|\u001B[39m\u001B[49m\u001B[22m\u001B[23m\u001B[24m\u001B[25m\u001B[27m\u001B[28m\u001B[29m\u001B[38;2;198;120;221m[MyReformerModelWithLMHead Train]\u001B[38;2;97;175;239m::\u001B[38;2;198;120;221m_log\u001B[38;2;97;175;239m::\u001B[38;2;198;120;221mtrain_util_wrap.py\u001B[38;2;97;175;239m:\u001B[38;2;198;120;221m255\u001B[38;2;97;175;239m:\u001B[39m\u001B[49m\u001B[22m\u001B[23m\u001B[24m\u001B[25m\u001B[27m\u001B[28m\u001B[29mINFO\u001B[39m\u001B[49m\u001B[22m\u001B[23m\u001B[24m\u001B[25m\u001B[27m\u001B[28m\u001B[29m\u001B[38;2;97;175;239m: \u001B[39m\u001B[49m\u001B[22m\u001B[23m\u001B[24m\u001B[25m\u001B[27m\u001B[28m\u001B[29m\u001B[35m{\u001B[39m\u001B[49m\u001B[0mstep\u001B[35m: \u001B[39m\u001B[49m\u001B[0m\u001B[34m1292/4352\u001B[39m\u001B[49m\u001B[0m, epoch\u001B[35m: \u001B[39m\u001B[49m\u001B[0m\u001B[34m 38.000/128\u001B[39m\u001B[49m\u001B[0m, train/learning_rate\u001B[35m: \u001B[39m\u001B[49m\u001B[0m\u001B[34m8.900e-06\u001B[39m\u001B[49m\u001B[0m, train/loss\u001B[35m: \u001B[39m\u001B[49m\u001B[0m\u001B[34m2.517\u001B[39m\u001B[49m\u001B[0m\u001B[35m}\u001B[39m\u001B[49m\u001B[0m\u001B[39m\u001B[49m\u001B[22m\u001B[23m\u001B[24m\u001B[25m\u001B[27m\u001B[28m\u001B[29m\n"
     ]
    },
    {
     "data": {
      "application/vnd.jupyter.widget-view+json": {
       "model_id": "933667826bca4ad695136d5d5a2511ec",
       "version_major": 2,
       "version_minor": 0
      },
      "text/plain": [
       "Eval Epoch  38/128:   0%|          | 0/2 [00:00<?, ?ba/s]"
      ]
     },
     "metadata": {},
     "output_type": "display_data"
    },
    {
     "metadata": {
      "tags": null
     },
     "name": "stdout",
     "output_type": "stream",
     "text": [
      "\u001B[38;2;0;186;142m2022-08-03 03:06:17\u001B[38;2;97;175;239m|\u001B[39m\u001B[49m\u001B[22m\u001B[23m\u001B[24m\u001B[25m\u001B[27m\u001B[28m\u001B[29m\u001B[38;2;198;120;221m[MyReformerModelWithLMHead Train]\u001B[38;2;97;175;239m::\u001B[38;2;198;120;221m_log\u001B[38;2;97;175;239m::\u001B[38;2;198;120;221mtrain_util_wrap.py\u001B[38;2;97;175;239m:\u001B[38;2;198;120;221m255\u001B[38;2;97;175;239m:\u001B[39m\u001B[49m\u001B[22m\u001B[23m\u001B[24m\u001B[25m\u001B[27m\u001B[28m\u001B[29mINFO\u001B[39m\u001B[49m\u001B[22m\u001B[23m\u001B[24m\u001B[25m\u001B[27m\u001B[28m\u001B[29m\u001B[38;2;97;175;239m: \u001B[39m\u001B[49m\u001B[22m\u001B[23m\u001B[24m\u001B[25m\u001B[27m\u001B[28m\u001B[29m\u001B[35m{\u001B[39m\u001B[49m\u001B[0mstep\u001B[35m: \u001B[39m\u001B[49m\u001B[0m\u001B[34m1292/4352\u001B[39m\u001B[49m\u001B[0m, epoch\u001B[35m: \u001B[39m\u001B[49m\u001B[0m\u001B[34m 38/128\u001B[39m\u001B[49m\u001B[0m, eval/loss\u001B[35m: \u001B[39m\u001B[49m\u001B[0m\u001B[34m2.5353\u001B[39m\u001B[49m\u001B[0m, eval/ntp_acc\u001B[35m: \u001B[39m\u001B[49m\u001B[0m\u001B[34m30.56\u001B[39m\u001B[49m\u001B[0m, eval/ikr\u001B[35m: \u001B[39m\u001B[49m\u001B[0m\u001B[34m48.27\u001B[39m\u001B[49m\u001B[0m\u001B[35m}\u001B[39m\u001B[49m\u001B[0m\u001B[39m\u001B[49m\u001B[22m\u001B[23m\u001B[24m\u001B[25m\u001B[27m\u001B[28m\u001B[29m\n"
     ]
    },
    {
     "data": {
      "application/vnd.jupyter.widget-view+json": {
       "model_id": "7efe3d949f9e4b8f84e99fc65c2bd4d2",
       "version_major": 2,
       "version_minor": 0
      },
      "text/plain": [
       "Train Epoch  39/128:   0%|          | 0/34 [00:00<?, ?ba/s]"
      ]
     },
     "metadata": {},
     "output_type": "display_data"
    },
    {
     "metadata": {
      "tags": null
     },
     "name": "stdout",
     "output_type": "stream",
     "text": [
      "\u001B[38;2;0;186;142m2022-08-03 03:11:16\u001B[38;2;97;175;239m|\u001B[39m\u001B[49m\u001B[22m\u001B[23m\u001B[24m\u001B[25m\u001B[27m\u001B[28m\u001B[29m\u001B[38;2;198;120;221m[MyReformerModelWithLMHead Train]\u001B[38;2;97;175;239m::\u001B[38;2;198;120;221m_log\u001B[38;2;97;175;239m::\u001B[38;2;198;120;221mtrain_util_wrap.py\u001B[38;2;97;175;239m:\u001B[38;2;198;120;221m255\u001B[38;2;97;175;239m:\u001B[39m\u001B[49m\u001B[22m\u001B[23m\u001B[24m\u001B[25m\u001B[27m\u001B[28m\u001B[29mINFO\u001B[39m\u001B[49m\u001B[22m\u001B[23m\u001B[24m\u001B[25m\u001B[27m\u001B[28m\u001B[29m\u001B[38;2;97;175;239m: \u001B[39m\u001B[49m\u001B[22m\u001B[23m\u001B[24m\u001B[25m\u001B[27m\u001B[28m\u001B[29m\u001B[35m{\u001B[39m\u001B[49m\u001B[0mstep\u001B[35m: \u001B[39m\u001B[49m\u001B[0m\u001B[34m1326/4352\u001B[39m\u001B[49m\u001B[0m, epoch\u001B[35m: \u001B[39m\u001B[49m\u001B[0m\u001B[34m 39.000/128\u001B[39m\u001B[49m\u001B[0m, train/learning_rate\u001B[35m: \u001B[39m\u001B[49m\u001B[0m\u001B[34m8.800e-06\u001B[39m\u001B[49m\u001B[0m, train/loss\u001B[35m: \u001B[39m\u001B[49m\u001B[0m\u001B[34m2.6172\u001B[39m\u001B[49m\u001B[0m\u001B[35m}\u001B[39m\u001B[49m\u001B[0m\u001B[39m\u001B[49m\u001B[22m\u001B[23m\u001B[24m\u001B[25m\u001B[27m\u001B[28m\u001B[29m\n"
     ]
    },
    {
     "data": {
      "application/vnd.jupyter.widget-view+json": {
       "model_id": "07108a7990754d34ba64d7a877511536",
       "version_major": 2,
       "version_minor": 0
      },
      "text/plain": [
       "Eval Epoch  39/128:   0%|          | 0/2 [00:00<?, ?ba/s]"
      ]
     },
     "metadata": {},
     "output_type": "display_data"
    },
    {
     "metadata": {
      "tags": null
     },
     "name": "stdout",
     "output_type": "stream",
     "text": [
      "\u001B[38;2;0;186;142m2022-08-03 03:11:18\u001B[38;2;97;175;239m|\u001B[39m\u001B[49m\u001B[22m\u001B[23m\u001B[24m\u001B[25m\u001B[27m\u001B[28m\u001B[29m\u001B[38;2;198;120;221m[MyReformerModelWithLMHead Train]\u001B[38;2;97;175;239m::\u001B[38;2;198;120;221m_log\u001B[38;2;97;175;239m::\u001B[38;2;198;120;221mtrain_util_wrap.py\u001B[38;2;97;175;239m:\u001B[38;2;198;120;221m255\u001B[38;2;97;175;239m:\u001B[39m\u001B[49m\u001B[22m\u001B[23m\u001B[24m\u001B[25m\u001B[27m\u001B[28m\u001B[29mINFO\u001B[39m\u001B[49m\u001B[22m\u001B[23m\u001B[24m\u001B[25m\u001B[27m\u001B[28m\u001B[29m\u001B[38;2;97;175;239m: \u001B[39m\u001B[49m\u001B[22m\u001B[23m\u001B[24m\u001B[25m\u001B[27m\u001B[28m\u001B[29m\u001B[35m{\u001B[39m\u001B[49m\u001B[0mstep\u001B[35m: \u001B[39m\u001B[49m\u001B[0m\u001B[34m1326/4352\u001B[39m\u001B[49m\u001B[0m, epoch\u001B[35m: \u001B[39m\u001B[49m\u001B[0m\u001B[34m 39/128\u001B[39m\u001B[49m\u001B[0m, eval/loss\u001B[35m: \u001B[39m\u001B[49m\u001B[0m\u001B[34m2.5192\u001B[39m\u001B[49m\u001B[0m, eval/ntp_acc\u001B[35m: \u001B[39m\u001B[49m\u001B[0m\u001B[34m30.99\u001B[39m\u001B[49m\u001B[0m, eval/ikr\u001B[35m: \u001B[39m\u001B[49m\u001B[0m\u001B[34m48.56\u001B[39m\u001B[49m\u001B[0m\u001B[35m}\u001B[39m\u001B[49m\u001B[0m\u001B[39m\u001B[49m\u001B[22m\u001B[23m\u001B[24m\u001B[25m\u001B[27m\u001B[28m\u001B[29m\n"
     ]
    },
    {
     "data": {
      "application/vnd.jupyter.widget-view+json": {
       "model_id": "d3f2c7c860b840d4a78f44c41f6248ca",
       "version_major": 2,
       "version_minor": 0
      },
      "text/plain": [
       "Train Epoch  40/128:   0%|          | 0/34 [00:00<?, ?ba/s]"
      ]
     },
     "metadata": {},
     "output_type": "display_data"
    },
    {
     "metadata": {
      "tags": null
     },
     "name": "stdout",
     "output_type": "stream",
     "text": [
      "\u001B[38;2;0;186;142m2022-08-03 03:16:16\u001B[38;2;97;175;239m|\u001B[39m\u001B[49m\u001B[22m\u001B[23m\u001B[24m\u001B[25m\u001B[27m\u001B[28m\u001B[29m\u001B[38;2;198;120;221m[MyReformerModelWithLMHead Train]\u001B[38;2;97;175;239m::\u001B[38;2;198;120;221m_log\u001B[38;2;97;175;239m::\u001B[38;2;198;120;221mtrain_util_wrap.py\u001B[38;2;97;175;239m:\u001B[38;2;198;120;221m255\u001B[38;2;97;175;239m:\u001B[39m\u001B[49m\u001B[22m\u001B[23m\u001B[24m\u001B[25m\u001B[27m\u001B[28m\u001B[29mINFO\u001B[39m\u001B[49m\u001B[22m\u001B[23m\u001B[24m\u001B[25m\u001B[27m\u001B[28m\u001B[29m\u001B[38;2;97;175;239m: \u001B[39m\u001B[49m\u001B[22m\u001B[23m\u001B[24m\u001B[25m\u001B[27m\u001B[28m\u001B[29m\u001B[35m{\u001B[39m\u001B[49m\u001B[0mstep\u001B[35m: \u001B[39m\u001B[49m\u001B[0m\u001B[34m1360/4352\u001B[39m\u001B[49m\u001B[0m, epoch\u001B[35m: \u001B[39m\u001B[49m\u001B[0m\u001B[34m 40.000/128\u001B[39m\u001B[49m\u001B[0m, train/learning_rate\u001B[35m: \u001B[39m\u001B[49m\u001B[0m\u001B[34m8.700e-06\u001B[39m\u001B[49m\u001B[0m, train/loss\u001B[35m: \u001B[39m\u001B[49m\u001B[0m\u001B[34m2.505\u001B[39m\u001B[49m\u001B[0m\u001B[35m}\u001B[39m\u001B[49m\u001B[0m\u001B[39m\u001B[49m\u001B[22m\u001B[23m\u001B[24m\u001B[25m\u001B[27m\u001B[28m\u001B[29m\n"
     ]
    },
    {
     "data": {
      "application/vnd.jupyter.widget-view+json": {
       "model_id": "31cec050d73f43f58b622f43d82f0721",
       "version_major": 2,
       "version_minor": 0
      },
      "text/plain": [
       "Eval Epoch  40/128:   0%|          | 0/2 [00:00<?, ?ba/s]"
      ]
     },
     "metadata": {},
     "output_type": "display_data"
    },
    {
     "metadata": {
      "tags": null
     },
     "name": "stdout",
     "output_type": "stream",
     "text": [
      "\u001B[38;2;0;186;142m2022-08-03 03:16:18\u001B[38;2;97;175;239m|\u001B[39m\u001B[49m\u001B[22m\u001B[23m\u001B[24m\u001B[25m\u001B[27m\u001B[28m\u001B[29m\u001B[38;2;198;120;221m[MyReformerModelWithLMHead Train]\u001B[38;2;97;175;239m::\u001B[38;2;198;120;221m_log\u001B[38;2;97;175;239m::\u001B[38;2;198;120;221mtrain_util_wrap.py\u001B[38;2;97;175;239m:\u001B[38;2;198;120;221m255\u001B[38;2;97;175;239m:\u001B[39m\u001B[49m\u001B[22m\u001B[23m\u001B[24m\u001B[25m\u001B[27m\u001B[28m\u001B[29mINFO\u001B[39m\u001B[49m\u001B[22m\u001B[23m\u001B[24m\u001B[25m\u001B[27m\u001B[28m\u001B[29m\u001B[38;2;97;175;239m: \u001B[39m\u001B[49m\u001B[22m\u001B[23m\u001B[24m\u001B[25m\u001B[27m\u001B[28m\u001B[29m\u001B[35m{\u001B[39m\u001B[49m\u001B[0mstep\u001B[35m: \u001B[39m\u001B[49m\u001B[0m\u001B[34m1360/4352\u001B[39m\u001B[49m\u001B[0m, epoch\u001B[35m: \u001B[39m\u001B[49m\u001B[0m\u001B[34m 40/128\u001B[39m\u001B[49m\u001B[0m, eval/loss\u001B[35m: \u001B[39m\u001B[49m\u001B[0m\u001B[34m2.519\u001B[39m\u001B[49m\u001B[0m, eval/ntp_acc\u001B[35m: \u001B[39m\u001B[49m\u001B[0m\u001B[34m30.57\u001B[39m\u001B[49m\u001B[0m, eval/ikr\u001B[35m: \u001B[39m\u001B[49m\u001B[0m\u001B[34m 48.00\u001B[39m\u001B[49m\u001B[0m\u001B[35m}\u001B[39m\u001B[49m\u001B[0m\u001B[39m\u001B[49m\u001B[22m\u001B[23m\u001B[24m\u001B[25m\u001B[27m\u001B[28m\u001B[29m\n"
     ]
    },
    {
     "data": {
      "application/vnd.jupyter.widget-view+json": {
       "model_id": "1ca2d74636fa42129d3d83f800d29774",
       "version_major": 2,
       "version_minor": 0
      },
      "text/plain": [
       "Train Epoch  41/128:   0%|          | 0/34 [00:00<?, ?ba/s]"
      ]
     },
     "metadata": {},
     "output_type": "display_data"
    },
    {
     "metadata": {
      "tags": null
     },
     "name": "stdout",
     "output_type": "stream",
     "text": [
      "\u001B[38;2;0;186;142m2022-08-03 03:21:16\u001B[38;2;97;175;239m|\u001B[39m\u001B[49m\u001B[22m\u001B[23m\u001B[24m\u001B[25m\u001B[27m\u001B[28m\u001B[29m\u001B[38;2;198;120;221m[MyReformerModelWithLMHead Train]\u001B[38;2;97;175;239m::\u001B[38;2;198;120;221m_log\u001B[38;2;97;175;239m::\u001B[38;2;198;120;221mtrain_util_wrap.py\u001B[38;2;97;175;239m:\u001B[38;2;198;120;221m255\u001B[38;2;97;175;239m:\u001B[39m\u001B[49m\u001B[22m\u001B[23m\u001B[24m\u001B[25m\u001B[27m\u001B[28m\u001B[29mINFO\u001B[39m\u001B[49m\u001B[22m\u001B[23m\u001B[24m\u001B[25m\u001B[27m\u001B[28m\u001B[29m\u001B[38;2;97;175;239m: \u001B[39m\u001B[49m\u001B[22m\u001B[23m\u001B[24m\u001B[25m\u001B[27m\u001B[28m\u001B[29m\u001B[35m{\u001B[39m\u001B[49m\u001B[0mstep\u001B[35m: \u001B[39m\u001B[49m\u001B[0m\u001B[34m1394/4352\u001B[39m\u001B[49m\u001B[0m, epoch\u001B[35m: \u001B[39m\u001B[49m\u001B[0m\u001B[34m 41.000/128\u001B[39m\u001B[49m\u001B[0m, train/learning_rate\u001B[35m: \u001B[39m\u001B[49m\u001B[0m\u001B[34m8.600e-06\u001B[39m\u001B[49m\u001B[0m, train/loss\u001B[35m: \u001B[39m\u001B[49m\u001B[0m\u001B[34m2.5036\u001B[39m\u001B[49m\u001B[0m\u001B[35m}\u001B[39m\u001B[49m\u001B[0m\u001B[39m\u001B[49m\u001B[22m\u001B[23m\u001B[24m\u001B[25m\u001B[27m\u001B[28m\u001B[29m\n"
     ]
    },
    {
     "data": {
      "application/vnd.jupyter.widget-view+json": {
       "model_id": "130dd34998e049e2a657cef7449f37dc",
       "version_major": 2,
       "version_minor": 0
      },
      "text/plain": [
       "Eval Epoch  41/128:   0%|          | 0/2 [00:00<?, ?ba/s]"
      ]
     },
     "metadata": {},
     "output_type": "display_data"
    },
    {
     "metadata": {
      "tags": null
     },
     "name": "stdout",
     "output_type": "stream",
     "text": [
      "\u001B[38;2;0;186;142m2022-08-03 03:21:19\u001B[38;2;97;175;239m|\u001B[39m\u001B[49m\u001B[22m\u001B[23m\u001B[24m\u001B[25m\u001B[27m\u001B[28m\u001B[29m\u001B[38;2;198;120;221m[MyReformerModelWithLMHead Train]\u001B[38;2;97;175;239m::\u001B[38;2;198;120;221m_log\u001B[38;2;97;175;239m::\u001B[38;2;198;120;221mtrain_util_wrap.py\u001B[38;2;97;175;239m:\u001B[38;2;198;120;221m255\u001B[38;2;97;175;239m:\u001B[39m\u001B[49m\u001B[22m\u001B[23m\u001B[24m\u001B[25m\u001B[27m\u001B[28m\u001B[29mINFO\u001B[39m\u001B[49m\u001B[22m\u001B[23m\u001B[24m\u001B[25m\u001B[27m\u001B[28m\u001B[29m\u001B[38;2;97;175;239m: \u001B[39m\u001B[49m\u001B[22m\u001B[23m\u001B[24m\u001B[25m\u001B[27m\u001B[28m\u001B[29m\u001B[35m{\u001B[39m\u001B[49m\u001B[0mstep\u001B[35m: \u001B[39m\u001B[49m\u001B[0m\u001B[34m1394/4352\u001B[39m\u001B[49m\u001B[0m, epoch\u001B[35m: \u001B[39m\u001B[49m\u001B[0m\u001B[34m 41/128\u001B[39m\u001B[49m\u001B[0m, eval/loss\u001B[35m: \u001B[39m\u001B[49m\u001B[0m\u001B[34m2.5187\u001B[39m\u001B[49m\u001B[0m, eval/ntp_acc\u001B[35m: \u001B[39m\u001B[49m\u001B[0m\u001B[34m30.65\u001B[39m\u001B[49m\u001B[0m, eval/ikr\u001B[35m: \u001B[39m\u001B[49m\u001B[0m\u001B[34m47.52\u001B[39m\u001B[49m\u001B[0m\u001B[35m}\u001B[39m\u001B[49m\u001B[0m\u001B[39m\u001B[49m\u001B[22m\u001B[23m\u001B[24m\u001B[25m\u001B[27m\u001B[28m\u001B[29m\n"
     ]
    },
    {
     "data": {
      "application/vnd.jupyter.widget-view+json": {
       "model_id": "a939731906ed48cbbe51bd2c8ae1a1e0",
       "version_major": 2,
       "version_minor": 0
      },
      "text/plain": [
       "Train Epoch  42/128:   0%|          | 0/34 [00:00<?, ?ba/s]"
      ]
     },
     "metadata": {},
     "output_type": "display_data"
    },
    {
     "metadata": {
      "tags": null
     },
     "name": "stdout",
     "output_type": "stream",
     "text": [
      "\u001B[38;2;0;186;142m2022-08-03 03:26:17\u001B[38;2;97;175;239m|\u001B[39m\u001B[49m\u001B[22m\u001B[23m\u001B[24m\u001B[25m\u001B[27m\u001B[28m\u001B[29m\u001B[38;2;198;120;221m[MyReformerModelWithLMHead Train]\u001B[38;2;97;175;239m::\u001B[38;2;198;120;221m_log\u001B[38;2;97;175;239m::\u001B[38;2;198;120;221mtrain_util_wrap.py\u001B[38;2;97;175;239m:\u001B[38;2;198;120;221m255\u001B[38;2;97;175;239m:\u001B[39m\u001B[49m\u001B[22m\u001B[23m\u001B[24m\u001B[25m\u001B[27m\u001B[28m\u001B[29mINFO\u001B[39m\u001B[49m\u001B[22m\u001B[23m\u001B[24m\u001B[25m\u001B[27m\u001B[28m\u001B[29m\u001B[38;2;97;175;239m: \u001B[39m\u001B[49m\u001B[22m\u001B[23m\u001B[24m\u001B[25m\u001B[27m\u001B[28m\u001B[29m\u001B[35m{\u001B[39m\u001B[49m\u001B[0mstep\u001B[35m: \u001B[39m\u001B[49m\u001B[0m\u001B[34m1428/4352\u001B[39m\u001B[49m\u001B[0m, epoch\u001B[35m: \u001B[39m\u001B[49m\u001B[0m\u001B[34m 42.000/128\u001B[39m\u001B[49m\u001B[0m, train/learning_rate\u001B[35m: \u001B[39m\u001B[49m\u001B[0m\u001B[34m8.500e-06\u001B[39m\u001B[49m\u001B[0m, train/loss\u001B[35m: \u001B[39m\u001B[49m\u001B[0m\u001B[34m2.5492\u001B[39m\u001B[49m\u001B[0m\u001B[35m}\u001B[39m\u001B[49m\u001B[0m\u001B[39m\u001B[49m\u001B[22m\u001B[23m\u001B[24m\u001B[25m\u001B[27m\u001B[28m\u001B[29m\n"
     ]
    },
    {
     "data": {
      "application/vnd.jupyter.widget-view+json": {
       "model_id": "17abcb925fcf4316bea5c3eb8c250351",
       "version_major": 2,
       "version_minor": 0
      },
      "text/plain": [
       "Eval Epoch  42/128:   0%|          | 0/2 [00:00<?, ?ba/s]"
      ]
     },
     "metadata": {},
     "output_type": "display_data"
    },
    {
     "metadata": {
      "tags": null
     },
     "name": "stdout",
     "output_type": "stream",
     "text": [
      "\u001B[38;2;0;186;142m2022-08-03 03:26:20\u001B[38;2;97;175;239m|\u001B[39m\u001B[49m\u001B[22m\u001B[23m\u001B[24m\u001B[25m\u001B[27m\u001B[28m\u001B[29m\u001B[38;2;198;120;221m[MyReformerModelWithLMHead Train]\u001B[38;2;97;175;239m::\u001B[38;2;198;120;221m_log\u001B[38;2;97;175;239m::\u001B[38;2;198;120;221mtrain_util_wrap.py\u001B[38;2;97;175;239m:\u001B[38;2;198;120;221m255\u001B[38;2;97;175;239m:\u001B[39m\u001B[49m\u001B[22m\u001B[23m\u001B[24m\u001B[25m\u001B[27m\u001B[28m\u001B[29mINFO\u001B[39m\u001B[49m\u001B[22m\u001B[23m\u001B[24m\u001B[25m\u001B[27m\u001B[28m\u001B[29m\u001B[38;2;97;175;239m: \u001B[39m\u001B[49m\u001B[22m\u001B[23m\u001B[24m\u001B[25m\u001B[27m\u001B[28m\u001B[29m\u001B[35m{\u001B[39m\u001B[49m\u001B[0mstep\u001B[35m: \u001B[39m\u001B[49m\u001B[0m\u001B[34m1428/4352\u001B[39m\u001B[49m\u001B[0m, epoch\u001B[35m: \u001B[39m\u001B[49m\u001B[0m\u001B[34m 42/128\u001B[39m\u001B[49m\u001B[0m, eval/loss\u001B[35m: \u001B[39m\u001B[49m\u001B[0m\u001B[34m2.5164\u001B[39m\u001B[49m\u001B[0m, eval/ntp_acc\u001B[35m: \u001B[39m\u001B[49m\u001B[0m\u001B[34m29.88\u001B[39m\u001B[49m\u001B[0m, eval/ikr\u001B[35m: \u001B[39m\u001B[49m\u001B[0m\u001B[34m49.22\u001B[39m\u001B[49m\u001B[0m\u001B[35m}\u001B[39m\u001B[49m\u001B[0m\u001B[39m\u001B[49m\u001B[22m\u001B[23m\u001B[24m\u001B[25m\u001B[27m\u001B[28m\u001B[29m\n"
     ]
    },
    {
     "data": {
      "application/vnd.jupyter.widget-view+json": {
       "model_id": "d43d36123b6640eabfa13745b72cfd43",
       "version_major": 2,
       "version_minor": 0
      },
      "text/plain": [
       "Train Epoch  43/128:   0%|          | 0/34 [00:00<?, ?ba/s]"
      ]
     },
     "metadata": {},
     "output_type": "display_data"
    },
    {
     "metadata": {
      "tags": null
     },
     "name": "stdout",
     "output_type": "stream",
     "text": [
      "\u001B[38;2;0;186;142m2022-08-03 03:31:18\u001B[38;2;97;175;239m|\u001B[39m\u001B[49m\u001B[22m\u001B[23m\u001B[24m\u001B[25m\u001B[27m\u001B[28m\u001B[29m\u001B[38;2;198;120;221m[MyReformerModelWithLMHead Train]\u001B[38;2;97;175;239m::\u001B[38;2;198;120;221m_log\u001B[38;2;97;175;239m::\u001B[38;2;198;120;221mtrain_util_wrap.py\u001B[38;2;97;175;239m:\u001B[38;2;198;120;221m255\u001B[38;2;97;175;239m:\u001B[39m\u001B[49m\u001B[22m\u001B[23m\u001B[24m\u001B[25m\u001B[27m\u001B[28m\u001B[29mINFO\u001B[39m\u001B[49m\u001B[22m\u001B[23m\u001B[24m\u001B[25m\u001B[27m\u001B[28m\u001B[29m\u001B[38;2;97;175;239m: \u001B[39m\u001B[49m\u001B[22m\u001B[23m\u001B[24m\u001B[25m\u001B[27m\u001B[28m\u001B[29m\u001B[35m{\u001B[39m\u001B[49m\u001B[0mstep\u001B[35m: \u001B[39m\u001B[49m\u001B[0m\u001B[34m1462/4352\u001B[39m\u001B[49m\u001B[0m, epoch\u001B[35m: \u001B[39m\u001B[49m\u001B[0m\u001B[34m 43.000/128\u001B[39m\u001B[49m\u001B[0m, train/learning_rate\u001B[35m: \u001B[39m\u001B[49m\u001B[0m\u001B[34m8.400e-06\u001B[39m\u001B[49m\u001B[0m, train/loss\u001B[35m: \u001B[39m\u001B[49m\u001B[0m\u001B[34m2.4431\u001B[39m\u001B[49m\u001B[0m\u001B[35m}\u001B[39m\u001B[49m\u001B[0m\u001B[39m\u001B[49m\u001B[22m\u001B[23m\u001B[24m\u001B[25m\u001B[27m\u001B[28m\u001B[29m\n"
     ]
    },
    {
     "data": {
      "application/vnd.jupyter.widget-view+json": {
       "model_id": "72588b0dd09a49f5820c2770a838ac18",
       "version_major": 2,
       "version_minor": 0
      },
      "text/plain": [
       "Eval Epoch  43/128:   0%|          | 0/2 [00:00<?, ?ba/s]"
      ]
     },
     "metadata": {},
     "output_type": "display_data"
    },
    {
     "metadata": {
      "tags": null
     },
     "name": "stdout",
     "output_type": "stream",
     "text": [
      "\u001B[38;2;0;186;142m2022-08-03 03:31:20\u001B[38;2;97;175;239m|\u001B[39m\u001B[49m\u001B[22m\u001B[23m\u001B[24m\u001B[25m\u001B[27m\u001B[28m\u001B[29m\u001B[38;2;198;120;221m[MyReformerModelWithLMHead Train]\u001B[38;2;97;175;239m::\u001B[38;2;198;120;221m_log\u001B[38;2;97;175;239m::\u001B[38;2;198;120;221mtrain_util_wrap.py\u001B[38;2;97;175;239m:\u001B[38;2;198;120;221m255\u001B[38;2;97;175;239m:\u001B[39m\u001B[49m\u001B[22m\u001B[23m\u001B[24m\u001B[25m\u001B[27m\u001B[28m\u001B[29mINFO\u001B[39m\u001B[49m\u001B[22m\u001B[23m\u001B[24m\u001B[25m\u001B[27m\u001B[28m\u001B[29m\u001B[38;2;97;175;239m: \u001B[39m\u001B[49m\u001B[22m\u001B[23m\u001B[24m\u001B[25m\u001B[27m\u001B[28m\u001B[29m\u001B[35m{\u001B[39m\u001B[49m\u001B[0mstep\u001B[35m: \u001B[39m\u001B[49m\u001B[0m\u001B[34m1462/4352\u001B[39m\u001B[49m\u001B[0m, epoch\u001B[35m: \u001B[39m\u001B[49m\u001B[0m\u001B[34m 43/128\u001B[39m\u001B[49m\u001B[0m, eval/loss\u001B[35m: \u001B[39m\u001B[49m\u001B[0m\u001B[34m2.5178\u001B[39m\u001B[49m\u001B[0m, eval/ntp_acc\u001B[35m: \u001B[39m\u001B[49m\u001B[0m\u001B[34m29.75\u001B[39m\u001B[49m\u001B[0m, eval/ikr\u001B[35m: \u001B[39m\u001B[49m\u001B[0m\u001B[34m 49.1\u001B[39m\u001B[49m\u001B[0m\u001B[35m}\u001B[39m\u001B[49m\u001B[0m\u001B[39m\u001B[49m\u001B[22m\u001B[23m\u001B[24m\u001B[25m\u001B[27m\u001B[28m\u001B[29m\n"
     ]
    },
    {
     "data": {
      "application/vnd.jupyter.widget-view+json": {
       "model_id": "447ce1a3581a4375808321dda432d3bd",
       "version_major": 2,
       "version_minor": 0
      },
      "text/plain": [
       "Train Epoch  44/128:   0%|          | 0/34 [00:00<?, ?ba/s]"
      ]
     },
     "metadata": {},
     "output_type": "display_data"
    },
    {
     "metadata": {
      "tags": null
     },
     "name": "stdout",
     "output_type": "stream",
     "text": [
      "\u001B[38;2;0;186;142m2022-08-03 03:36:18\u001B[38;2;97;175;239m|\u001B[39m\u001B[49m\u001B[22m\u001B[23m\u001B[24m\u001B[25m\u001B[27m\u001B[28m\u001B[29m\u001B[38;2;198;120;221m[MyReformerModelWithLMHead Train]\u001B[38;2;97;175;239m::\u001B[38;2;198;120;221m_log\u001B[38;2;97;175;239m::\u001B[38;2;198;120;221mtrain_util_wrap.py\u001B[38;2;97;175;239m:\u001B[38;2;198;120;221m255\u001B[38;2;97;175;239m:\u001B[39m\u001B[49m\u001B[22m\u001B[23m\u001B[24m\u001B[25m\u001B[27m\u001B[28m\u001B[29mINFO\u001B[39m\u001B[49m\u001B[22m\u001B[23m\u001B[24m\u001B[25m\u001B[27m\u001B[28m\u001B[29m\u001B[38;2;97;175;239m: \u001B[39m\u001B[49m\u001B[22m\u001B[23m\u001B[24m\u001B[25m\u001B[27m\u001B[28m\u001B[29m\u001B[35m{\u001B[39m\u001B[49m\u001B[0mstep\u001B[35m: \u001B[39m\u001B[49m\u001B[0m\u001B[34m1496/4352\u001B[39m\u001B[49m\u001B[0m, epoch\u001B[35m: \u001B[39m\u001B[49m\u001B[0m\u001B[34m 44.000/128\u001B[39m\u001B[49m\u001B[0m, train/learning_rate\u001B[35m: \u001B[39m\u001B[49m\u001B[0m\u001B[34m8.300e-06\u001B[39m\u001B[49m\u001B[0m, train/loss\u001B[35m: \u001B[39m\u001B[49m\u001B[0m\u001B[34m2.5844\u001B[39m\u001B[49m\u001B[0m\u001B[35m}\u001B[39m\u001B[49m\u001B[0m\u001B[39m\u001B[49m\u001B[22m\u001B[23m\u001B[24m\u001B[25m\u001B[27m\u001B[28m\u001B[29m\n"
     ]
    },
    {
     "data": {
      "application/vnd.jupyter.widget-view+json": {
       "model_id": "e0a186b88c3f4d1087f02d59ddcf830c",
       "version_major": 2,
       "version_minor": 0
      },
      "text/plain": [
       "Eval Epoch  44/128:   0%|          | 0/2 [00:00<?, ?ba/s]"
      ]
     },
     "metadata": {},
     "output_type": "display_data"
    },
    {
     "metadata": {
      "tags": null
     },
     "name": "stdout",
     "output_type": "stream",
     "text": [
      "\u001B[38;2;0;186;142m2022-08-03 03:36:21\u001B[38;2;97;175;239m|\u001B[39m\u001B[49m\u001B[22m\u001B[23m\u001B[24m\u001B[25m\u001B[27m\u001B[28m\u001B[29m\u001B[38;2;198;120;221m[MyReformerModelWithLMHead Train]\u001B[38;2;97;175;239m::\u001B[38;2;198;120;221m_log\u001B[38;2;97;175;239m::\u001B[38;2;198;120;221mtrain_util_wrap.py\u001B[38;2;97;175;239m:\u001B[38;2;198;120;221m255\u001B[38;2;97;175;239m:\u001B[39m\u001B[49m\u001B[22m\u001B[23m\u001B[24m\u001B[25m\u001B[27m\u001B[28m\u001B[29mINFO\u001B[39m\u001B[49m\u001B[22m\u001B[23m\u001B[24m\u001B[25m\u001B[27m\u001B[28m\u001B[29m\u001B[38;2;97;175;239m: \u001B[39m\u001B[49m\u001B[22m\u001B[23m\u001B[24m\u001B[25m\u001B[27m\u001B[28m\u001B[29m\u001B[35m{\u001B[39m\u001B[49m\u001B[0mstep\u001B[35m: \u001B[39m\u001B[49m\u001B[0m\u001B[34m1496/4352\u001B[39m\u001B[49m\u001B[0m, epoch\u001B[35m: \u001B[39m\u001B[49m\u001B[0m\u001B[34m 44/128\u001B[39m\u001B[49m\u001B[0m, eval/loss\u001B[35m: \u001B[39m\u001B[49m\u001B[0m\u001B[34m2.5107\u001B[39m\u001B[49m\u001B[0m, eval/ntp_acc\u001B[35m: \u001B[39m\u001B[49m\u001B[0m\u001B[34m30.22\u001B[39m\u001B[49m\u001B[0m, eval/ikr\u001B[35m: \u001B[39m\u001B[49m\u001B[0m\u001B[34m49.54\u001B[39m\u001B[49m\u001B[0m\u001B[35m}\u001B[39m\u001B[49m\u001B[0m\u001B[39m\u001B[49m\u001B[22m\u001B[23m\u001B[24m\u001B[25m\u001B[27m\u001B[28m\u001B[29m\n"
     ]
    },
    {
     "data": {
      "application/vnd.jupyter.widget-view+json": {
       "model_id": "33e0dc178f934b749d306c5caa92f27f",
       "version_major": 2,
       "version_minor": 0
      },
      "text/plain": [
       "Train Epoch  45/128:   0%|          | 0/34 [00:00<?, ?ba/s]"
      ]
     },
     "metadata": {},
     "output_type": "display_data"
    },
    {
     "metadata": {
      "tags": null
     },
     "name": "stdout",
     "output_type": "stream",
     "text": [
      "\u001B[38;2;0;186;142m2022-08-03 03:41:19\u001B[38;2;97;175;239m|\u001B[39m\u001B[49m\u001B[22m\u001B[23m\u001B[24m\u001B[25m\u001B[27m\u001B[28m\u001B[29m\u001B[38;2;198;120;221m[MyReformerModelWithLMHead Train]\u001B[38;2;97;175;239m::\u001B[38;2;198;120;221m_log\u001B[38;2;97;175;239m::\u001B[38;2;198;120;221mtrain_util_wrap.py\u001B[38;2;97;175;239m:\u001B[38;2;198;120;221m255\u001B[38;2;97;175;239m:\u001B[39m\u001B[49m\u001B[22m\u001B[23m\u001B[24m\u001B[25m\u001B[27m\u001B[28m\u001B[29mINFO\u001B[39m\u001B[49m\u001B[22m\u001B[23m\u001B[24m\u001B[25m\u001B[27m\u001B[28m\u001B[29m\u001B[38;2;97;175;239m: \u001B[39m\u001B[49m\u001B[22m\u001B[23m\u001B[24m\u001B[25m\u001B[27m\u001B[28m\u001B[29m\u001B[35m{\u001B[39m\u001B[49m\u001B[0mstep\u001B[35m: \u001B[39m\u001B[49m\u001B[0m\u001B[34m1530/4352\u001B[39m\u001B[49m\u001B[0m, epoch\u001B[35m: \u001B[39m\u001B[49m\u001B[0m\u001B[34m 45.000/128\u001B[39m\u001B[49m\u001B[0m, train/learning_rate\u001B[35m: \u001B[39m\u001B[49m\u001B[0m\u001B[34m8.200e-06\u001B[39m\u001B[49m\u001B[0m, train/loss\u001B[35m: \u001B[39m\u001B[49m\u001B[0m\u001B[34m2.5054\u001B[39m\u001B[49m\u001B[0m\u001B[35m}\u001B[39m\u001B[49m\u001B[0m\u001B[39m\u001B[49m\u001B[22m\u001B[23m\u001B[24m\u001B[25m\u001B[27m\u001B[28m\u001B[29m\n"
     ]
    },
    {
     "data": {
      "application/vnd.jupyter.widget-view+json": {
       "model_id": "fb7d5237821c4ad3b11025ddb6e305c0",
       "version_major": 2,
       "version_minor": 0
      },
      "text/plain": [
       "Eval Epoch  45/128:   0%|          | 0/2 [00:00<?, ?ba/s]"
      ]
     },
     "metadata": {},
     "output_type": "display_data"
    },
    {
     "metadata": {
      "tags": null
     },
     "name": "stdout",
     "output_type": "stream",
     "text": [
      "\u001B[38;2;0;186;142m2022-08-03 03:41:22\u001B[38;2;97;175;239m|\u001B[39m\u001B[49m\u001B[22m\u001B[23m\u001B[24m\u001B[25m\u001B[27m\u001B[28m\u001B[29m\u001B[38;2;198;120;221m[MyReformerModelWithLMHead Train]\u001B[38;2;97;175;239m::\u001B[38;2;198;120;221m_log\u001B[38;2;97;175;239m::\u001B[38;2;198;120;221mtrain_util_wrap.py\u001B[38;2;97;175;239m:\u001B[38;2;198;120;221m255\u001B[38;2;97;175;239m:\u001B[39m\u001B[49m\u001B[22m\u001B[23m\u001B[24m\u001B[25m\u001B[27m\u001B[28m\u001B[29mINFO\u001B[39m\u001B[49m\u001B[22m\u001B[23m\u001B[24m\u001B[25m\u001B[27m\u001B[28m\u001B[29m\u001B[38;2;97;175;239m: \u001B[39m\u001B[49m\u001B[22m\u001B[23m\u001B[24m\u001B[25m\u001B[27m\u001B[28m\u001B[29m\u001B[35m{\u001B[39m\u001B[49m\u001B[0mstep\u001B[35m: \u001B[39m\u001B[49m\u001B[0m\u001B[34m1530/4352\u001B[39m\u001B[49m\u001B[0m, epoch\u001B[35m: \u001B[39m\u001B[49m\u001B[0m\u001B[34m 45/128\u001B[39m\u001B[49m\u001B[0m, eval/loss\u001B[35m: \u001B[39m\u001B[49m\u001B[0m\u001B[34m2.5105\u001B[39m\u001B[49m\u001B[0m, eval/ntp_acc\u001B[35m: \u001B[39m\u001B[49m\u001B[0m\u001B[34m30.61\u001B[39m\u001B[49m\u001B[0m, eval/ikr\u001B[35m: \u001B[39m\u001B[49m\u001B[0m\u001B[34m 48.8\u001B[39m\u001B[49m\u001B[0m\u001B[35m}\u001B[39m\u001B[49m\u001B[0m\u001B[39m\u001B[49m\u001B[22m\u001B[23m\u001B[24m\u001B[25m\u001B[27m\u001B[28m\u001B[29m\n"
     ]
    },
    {
     "data": {
      "application/vnd.jupyter.widget-view+json": {
       "model_id": "d1aae5d958eb4f0483c694fa8a29e9ca",
       "version_major": 2,
       "version_minor": 0
      },
      "text/plain": [
       "Train Epoch  46/128:   0%|          | 0/34 [00:00<?, ?ba/s]"
      ]
     },
     "metadata": {},
     "output_type": "display_data"
    },
    {
     "metadata": {
      "tags": null
     },
     "name": "stdout",
     "output_type": "stream",
     "text": [
      "\u001B[38;2;0;186;142m2022-08-03 03:46:20\u001B[38;2;97;175;239m|\u001B[39m\u001B[49m\u001B[22m\u001B[23m\u001B[24m\u001B[25m\u001B[27m\u001B[28m\u001B[29m\u001B[38;2;198;120;221m[MyReformerModelWithLMHead Train]\u001B[38;2;97;175;239m::\u001B[38;2;198;120;221m_log\u001B[38;2;97;175;239m::\u001B[38;2;198;120;221mtrain_util_wrap.py\u001B[38;2;97;175;239m:\u001B[38;2;198;120;221m255\u001B[38;2;97;175;239m:\u001B[39m\u001B[49m\u001B[22m\u001B[23m\u001B[24m\u001B[25m\u001B[27m\u001B[28m\u001B[29mINFO\u001B[39m\u001B[49m\u001B[22m\u001B[23m\u001B[24m\u001B[25m\u001B[27m\u001B[28m\u001B[29m\u001B[38;2;97;175;239m: \u001B[39m\u001B[49m\u001B[22m\u001B[23m\u001B[24m\u001B[25m\u001B[27m\u001B[28m\u001B[29m\u001B[35m{\u001B[39m\u001B[49m\u001B[0mstep\u001B[35m: \u001B[39m\u001B[49m\u001B[0m\u001B[34m1564/4352\u001B[39m\u001B[49m\u001B[0m, epoch\u001B[35m: \u001B[39m\u001B[49m\u001B[0m\u001B[34m 46.000/128\u001B[39m\u001B[49m\u001B[0m, train/learning_rate\u001B[35m: \u001B[39m\u001B[49m\u001B[0m\u001B[34m8.100e-06\u001B[39m\u001B[49m\u001B[0m, train/loss\u001B[35m: \u001B[39m\u001B[49m\u001B[0m\u001B[34m2.5061\u001B[39m\u001B[49m\u001B[0m\u001B[35m}\u001B[39m\u001B[49m\u001B[0m\u001B[39m\u001B[49m\u001B[22m\u001B[23m\u001B[24m\u001B[25m\u001B[27m\u001B[28m\u001B[29m\n"
     ]
    },
    {
     "data": {
      "application/vnd.jupyter.widget-view+json": {
       "model_id": "7414e3682c674d64a0641a2c3aa70fb4",
       "version_major": 2,
       "version_minor": 0
      },
      "text/plain": [
       "Eval Epoch  46/128:   0%|          | 0/2 [00:00<?, ?ba/s]"
      ]
     },
     "metadata": {},
     "output_type": "display_data"
    },
    {
     "metadata": {
      "tags": null
     },
     "name": "stdout",
     "output_type": "stream",
     "text": [
      "\u001B[38;2;0;186;142m2022-08-03 03:46:22\u001B[38;2;97;175;239m|\u001B[39m\u001B[49m\u001B[22m\u001B[23m\u001B[24m\u001B[25m\u001B[27m\u001B[28m\u001B[29m\u001B[38;2;198;120;221m[MyReformerModelWithLMHead Train]\u001B[38;2;97;175;239m::\u001B[38;2;198;120;221m_log\u001B[38;2;97;175;239m::\u001B[38;2;198;120;221mtrain_util_wrap.py\u001B[38;2;97;175;239m:\u001B[38;2;198;120;221m255\u001B[38;2;97;175;239m:\u001B[39m\u001B[49m\u001B[22m\u001B[23m\u001B[24m\u001B[25m\u001B[27m\u001B[28m\u001B[29mINFO\u001B[39m\u001B[49m\u001B[22m\u001B[23m\u001B[24m\u001B[25m\u001B[27m\u001B[28m\u001B[29m\u001B[38;2;97;175;239m: \u001B[39m\u001B[49m\u001B[22m\u001B[23m\u001B[24m\u001B[25m\u001B[27m\u001B[28m\u001B[29m\u001B[35m{\u001B[39m\u001B[49m\u001B[0mstep\u001B[35m: \u001B[39m\u001B[49m\u001B[0m\u001B[34m1564/4352\u001B[39m\u001B[49m\u001B[0m, epoch\u001B[35m: \u001B[39m\u001B[49m\u001B[0m\u001B[34m 46/128\u001B[39m\u001B[49m\u001B[0m, eval/loss\u001B[35m: \u001B[39m\u001B[49m\u001B[0m\u001B[34m2.4944\u001B[39m\u001B[49m\u001B[0m, eval/ntp_acc\u001B[35m: \u001B[39m\u001B[49m\u001B[0m\u001B[34m31.46\u001B[39m\u001B[49m\u001B[0m, eval/ikr\u001B[35m: \u001B[39m\u001B[49m\u001B[0m\u001B[34m49.63\u001B[39m\u001B[49m\u001B[0m\u001B[35m}\u001B[39m\u001B[49m\u001B[0m\u001B[39m\u001B[49m\u001B[22m\u001B[23m\u001B[24m\u001B[25m\u001B[27m\u001B[28m\u001B[29m\n"
     ]
    },
    {
     "data": {
      "application/vnd.jupyter.widget-view+json": {
       "model_id": "cde3e0f35f1d45b9959ccce3dcd9b72a",
       "version_major": 2,
       "version_minor": 0
      },
      "text/plain": [
       "Train Epoch  47/128:   0%|          | 0/34 [00:00<?, ?ba/s]"
      ]
     },
     "metadata": {},
     "output_type": "display_data"
    },
    {
     "metadata": {
      "tags": null
     },
     "name": "stdout",
     "output_type": "stream",
     "text": [
      "\u001B[38;2;0;186;142m2022-08-03 03:51:21\u001B[38;2;97;175;239m|\u001B[39m\u001B[49m\u001B[22m\u001B[23m\u001B[24m\u001B[25m\u001B[27m\u001B[28m\u001B[29m\u001B[38;2;198;120;221m[MyReformerModelWithLMHead Train]\u001B[38;2;97;175;239m::\u001B[38;2;198;120;221m_log\u001B[38;2;97;175;239m::\u001B[38;2;198;120;221mtrain_util_wrap.py\u001B[38;2;97;175;239m:\u001B[38;2;198;120;221m255\u001B[38;2;97;175;239m:\u001B[39m\u001B[49m\u001B[22m\u001B[23m\u001B[24m\u001B[25m\u001B[27m\u001B[28m\u001B[29mINFO\u001B[39m\u001B[49m\u001B[22m\u001B[23m\u001B[24m\u001B[25m\u001B[27m\u001B[28m\u001B[29m\u001B[38;2;97;175;239m: \u001B[39m\u001B[49m\u001B[22m\u001B[23m\u001B[24m\u001B[25m\u001B[27m\u001B[28m\u001B[29m\u001B[35m{\u001B[39m\u001B[49m\u001B[0mstep\u001B[35m: \u001B[39m\u001B[49m\u001B[0m\u001B[34m1598/4352\u001B[39m\u001B[49m\u001B[0m, epoch\u001B[35m: \u001B[39m\u001B[49m\u001B[0m\u001B[34m 47.000/128\u001B[39m\u001B[49m\u001B[0m, train/learning_rate\u001B[35m: \u001B[39m\u001B[49m\u001B[0m\u001B[34m8.000e-06\u001B[39m\u001B[49m\u001B[0m, train/loss\u001B[35m: \u001B[39m\u001B[49m\u001B[0m\u001B[34m2.5261\u001B[39m\u001B[49m\u001B[0m\u001B[35m}\u001B[39m\u001B[49m\u001B[0m\u001B[39m\u001B[49m\u001B[22m\u001B[23m\u001B[24m\u001B[25m\u001B[27m\u001B[28m\u001B[29m\n"
     ]
    },
    {
     "data": {
      "application/vnd.jupyter.widget-view+json": {
       "model_id": "cf5520a000b94a38a27923e75115113f",
       "version_major": 2,
       "version_minor": 0
      },
      "text/plain": [
       "Eval Epoch  47/128:   0%|          | 0/2 [00:00<?, ?ba/s]"
      ]
     },
     "metadata": {},
     "output_type": "display_data"
    },
    {
     "metadata": {
      "tags": null
     },
     "name": "stdout",
     "output_type": "stream",
     "text": [
      "\u001B[38;2;0;186;142m2022-08-03 03:51:23\u001B[38;2;97;175;239m|\u001B[39m\u001B[49m\u001B[22m\u001B[23m\u001B[24m\u001B[25m\u001B[27m\u001B[28m\u001B[29m\u001B[38;2;198;120;221m[MyReformerModelWithLMHead Train]\u001B[38;2;97;175;239m::\u001B[38;2;198;120;221m_log\u001B[38;2;97;175;239m::\u001B[38;2;198;120;221mtrain_util_wrap.py\u001B[38;2;97;175;239m:\u001B[38;2;198;120;221m255\u001B[38;2;97;175;239m:\u001B[39m\u001B[49m\u001B[22m\u001B[23m\u001B[24m\u001B[25m\u001B[27m\u001B[28m\u001B[29mINFO\u001B[39m\u001B[49m\u001B[22m\u001B[23m\u001B[24m\u001B[25m\u001B[27m\u001B[28m\u001B[29m\u001B[38;2;97;175;239m: \u001B[39m\u001B[49m\u001B[22m\u001B[23m\u001B[24m\u001B[25m\u001B[27m\u001B[28m\u001B[29m\u001B[35m{\u001B[39m\u001B[49m\u001B[0mstep\u001B[35m: \u001B[39m\u001B[49m\u001B[0m\u001B[34m1598/4352\u001B[39m\u001B[49m\u001B[0m, epoch\u001B[35m: \u001B[39m\u001B[49m\u001B[0m\u001B[34m 47/128\u001B[39m\u001B[49m\u001B[0m, eval/loss\u001B[35m: \u001B[39m\u001B[49m\u001B[0m\u001B[34m2.504\u001B[39m\u001B[49m\u001B[0m, eval/ntp_acc\u001B[35m: \u001B[39m\u001B[49m\u001B[0m\u001B[34m30.52\u001B[39m\u001B[49m\u001B[0m, eval/ikr\u001B[35m: \u001B[39m\u001B[49m\u001B[0m\u001B[34m48.03\u001B[39m\u001B[49m\u001B[0m\u001B[35m}\u001B[39m\u001B[49m\u001B[0m\u001B[39m\u001B[49m\u001B[22m\u001B[23m\u001B[24m\u001B[25m\u001B[27m\u001B[28m\u001B[29m\n"
     ]
    },
    {
     "data": {
      "application/vnd.jupyter.widget-view+json": {
       "model_id": "440a2a61b9724426be6a6f3ac1935af3",
       "version_major": 2,
       "version_minor": 0
      },
      "text/plain": [
       "Train Epoch  48/128:   0%|          | 0/34 [00:00<?, ?ba/s]"
      ]
     },
     "metadata": {},
     "output_type": "display_data"
    },
    {
     "metadata": {
      "tags": null
     },
     "name": "stdout",
     "output_type": "stream",
     "text": [
      "\u001B[38;2;0;186;142m2022-08-03 03:56:22\u001B[38;2;97;175;239m|\u001B[39m\u001B[49m\u001B[22m\u001B[23m\u001B[24m\u001B[25m\u001B[27m\u001B[28m\u001B[29m\u001B[38;2;198;120;221m[MyReformerModelWithLMHead Train]\u001B[38;2;97;175;239m::\u001B[38;2;198;120;221m_log\u001B[38;2;97;175;239m::\u001B[38;2;198;120;221mtrain_util_wrap.py\u001B[38;2;97;175;239m:\u001B[38;2;198;120;221m255\u001B[38;2;97;175;239m:\u001B[39m\u001B[49m\u001B[22m\u001B[23m\u001B[24m\u001B[25m\u001B[27m\u001B[28m\u001B[29mINFO\u001B[39m\u001B[49m\u001B[22m\u001B[23m\u001B[24m\u001B[25m\u001B[27m\u001B[28m\u001B[29m\u001B[38;2;97;175;239m: \u001B[39m\u001B[49m\u001B[22m\u001B[23m\u001B[24m\u001B[25m\u001B[27m\u001B[28m\u001B[29m\u001B[35m{\u001B[39m\u001B[49m\u001B[0mstep\u001B[35m: \u001B[39m\u001B[49m\u001B[0m\u001B[34m1632/4352\u001B[39m\u001B[49m\u001B[0m, epoch\u001B[35m: \u001B[39m\u001B[49m\u001B[0m\u001B[34m 48.000/128\u001B[39m\u001B[49m\u001B[0m, train/learning_rate\u001B[35m: \u001B[39m\u001B[49m\u001B[0m\u001B[34m7.900e-06\u001B[39m\u001B[49m\u001B[0m, train/loss\u001B[35m: \u001B[39m\u001B[49m\u001B[0m\u001B[34m2.482\u001B[39m\u001B[49m\u001B[0m\u001B[35m}\u001B[39m\u001B[49m\u001B[0m\u001B[39m\u001B[49m\u001B[22m\u001B[23m\u001B[24m\u001B[25m\u001B[27m\u001B[28m\u001B[29m\n"
     ]
    },
    {
     "data": {
      "application/vnd.jupyter.widget-view+json": {
       "model_id": "e23253f02bc3492cb1febf9785ccdb95",
       "version_major": 2,
       "version_minor": 0
      },
      "text/plain": [
       "Eval Epoch  48/128:   0%|          | 0/2 [00:00<?, ?ba/s]"
      ]
     },
     "metadata": {},
     "output_type": "display_data"
    },
    {
     "metadata": {
      "tags": null
     },
     "name": "stdout",
     "output_type": "stream",
     "text": [
      "\u001B[38;2;0;186;142m2022-08-03 03:56:28\u001B[38;2;97;175;239m|\u001B[39m\u001B[49m\u001B[22m\u001B[23m\u001B[24m\u001B[25m\u001B[27m\u001B[28m\u001B[29m\u001B[38;2;198;120;221m[MyReformerModelWithLMHead Train]\u001B[38;2;97;175;239m::\u001B[38;2;198;120;221m_log\u001B[38;2;97;175;239m::\u001B[38;2;198;120;221mtrain_util_wrap.py\u001B[38;2;97;175;239m:\u001B[38;2;198;120;221m255\u001B[38;2;97;175;239m:\u001B[39m\u001B[49m\u001B[22m\u001B[23m\u001B[24m\u001B[25m\u001B[27m\u001B[28m\u001B[29mINFO\u001B[39m\u001B[49m\u001B[22m\u001B[23m\u001B[24m\u001B[25m\u001B[27m\u001B[28m\u001B[29m\u001B[38;2;97;175;239m: \u001B[39m\u001B[49m\u001B[22m\u001B[23m\u001B[24m\u001B[25m\u001B[27m\u001B[28m\u001B[29m\u001B[35m{\u001B[39m\u001B[49m\u001B[0mstep\u001B[35m: \u001B[39m\u001B[49m\u001B[0m\u001B[34m1632/4352\u001B[39m\u001B[49m\u001B[0m, epoch\u001B[35m: \u001B[39m\u001B[49m\u001B[0m\u001B[34m 48/128\u001B[39m\u001B[49m\u001B[0m, eval/loss\u001B[35m: \u001B[39m\u001B[49m\u001B[0m\u001B[34m2.5039\u001B[39m\u001B[49m\u001B[0m, eval/ntp_acc\u001B[35m: \u001B[39m\u001B[49m\u001B[0m\u001B[34m30.22\u001B[39m\u001B[49m\u001B[0m, eval/ikr\u001B[35m: \u001B[39m\u001B[49m\u001B[0m\u001B[34m46.94\u001B[39m\u001B[49m\u001B[0m\u001B[35m}\u001B[39m\u001B[49m\u001B[0m\u001B[39m\u001B[49m\u001B[22m\u001B[23m\u001B[24m\u001B[25m\u001B[27m\u001B[28m\u001B[29m\n"
     ]
    },
    {
     "data": {
      "application/vnd.jupyter.widget-view+json": {
       "model_id": "241119a92c814281a86889c100b8a4ec",
       "version_major": 2,
       "version_minor": 0
      },
      "text/plain": [
       "Train Epoch  49/128:   0%|          | 0/34 [00:00<?, ?ba/s]"
      ]
     },
     "metadata": {},
     "output_type": "display_data"
    },
    {
     "metadata": {
      "tags": null
     },
     "name": "stdout",
     "output_type": "stream",
     "text": [
      "\u001B[38;2;0;186;142m2022-08-03 04:01:27\u001B[38;2;97;175;239m|\u001B[39m\u001B[49m\u001B[22m\u001B[23m\u001B[24m\u001B[25m\u001B[27m\u001B[28m\u001B[29m\u001B[38;2;198;120;221m[MyReformerModelWithLMHead Train]\u001B[38;2;97;175;239m::\u001B[38;2;198;120;221m_log\u001B[38;2;97;175;239m::\u001B[38;2;198;120;221mtrain_util_wrap.py\u001B[38;2;97;175;239m:\u001B[38;2;198;120;221m255\u001B[38;2;97;175;239m:\u001B[39m\u001B[49m\u001B[22m\u001B[23m\u001B[24m\u001B[25m\u001B[27m\u001B[28m\u001B[29mINFO\u001B[39m\u001B[49m\u001B[22m\u001B[23m\u001B[24m\u001B[25m\u001B[27m\u001B[28m\u001B[29m\u001B[38;2;97;175;239m: \u001B[39m\u001B[49m\u001B[22m\u001B[23m\u001B[24m\u001B[25m\u001B[27m\u001B[28m\u001B[29m\u001B[35m{\u001B[39m\u001B[49m\u001B[0mstep\u001B[35m: \u001B[39m\u001B[49m\u001B[0m\u001B[34m1666/4352\u001B[39m\u001B[49m\u001B[0m, epoch\u001B[35m: \u001B[39m\u001B[49m\u001B[0m\u001B[34m 49.000/128\u001B[39m\u001B[49m\u001B[0m, train/learning_rate\u001B[35m: \u001B[39m\u001B[49m\u001B[0m\u001B[34m7.800e-06\u001B[39m\u001B[49m\u001B[0m, train/loss\u001B[35m: \u001B[39m\u001B[49m\u001B[0m\u001B[34m2.6273\u001B[39m\u001B[49m\u001B[0m\u001B[35m}\u001B[39m\u001B[49m\u001B[0m\u001B[39m\u001B[49m\u001B[22m\u001B[23m\u001B[24m\u001B[25m\u001B[27m\u001B[28m\u001B[29m\n"
     ]
    },
    {
     "data": {
      "application/vnd.jupyter.widget-view+json": {
       "model_id": "c20bee55fe0e4917bef0e821dc8f1ac5",
       "version_major": 2,
       "version_minor": 0
      },
      "text/plain": [
       "Eval Epoch  49/128:   0%|          | 0/2 [00:00<?, ?ba/s]"
      ]
     },
     "metadata": {},
     "output_type": "display_data"
    },
    {
     "metadata": {
      "tags": null
     },
     "name": "stdout",
     "output_type": "stream",
     "text": [
      "\u001B[38;2;0;186;142m2022-08-03 04:01:29\u001B[38;2;97;175;239m|\u001B[39m\u001B[49m\u001B[22m\u001B[23m\u001B[24m\u001B[25m\u001B[27m\u001B[28m\u001B[29m\u001B[38;2;198;120;221m[MyReformerModelWithLMHead Train]\u001B[38;2;97;175;239m::\u001B[38;2;198;120;221m_log\u001B[38;2;97;175;239m::\u001B[38;2;198;120;221mtrain_util_wrap.py\u001B[38;2;97;175;239m:\u001B[38;2;198;120;221m255\u001B[38;2;97;175;239m:\u001B[39m\u001B[49m\u001B[22m\u001B[23m\u001B[24m\u001B[25m\u001B[27m\u001B[28m\u001B[29mINFO\u001B[39m\u001B[49m\u001B[22m\u001B[23m\u001B[24m\u001B[25m\u001B[27m\u001B[28m\u001B[29m\u001B[38;2;97;175;239m: \u001B[39m\u001B[49m\u001B[22m\u001B[23m\u001B[24m\u001B[25m\u001B[27m\u001B[28m\u001B[29m\u001B[35m{\u001B[39m\u001B[49m\u001B[0mstep\u001B[35m: \u001B[39m\u001B[49m\u001B[0m\u001B[34m1666/4352\u001B[39m\u001B[49m\u001B[0m, epoch\u001B[35m: \u001B[39m\u001B[49m\u001B[0m\u001B[34m 49/128\u001B[39m\u001B[49m\u001B[0m, eval/loss\u001B[35m: \u001B[39m\u001B[49m\u001B[0m\u001B[34m2.4906\u001B[39m\u001B[49m\u001B[0m, eval/ntp_acc\u001B[35m: \u001B[39m\u001B[49m\u001B[0m\u001B[34m31.51\u001B[39m\u001B[49m\u001B[0m, eval/ikr\u001B[35m: \u001B[39m\u001B[49m\u001B[0m\u001B[34m47.64\u001B[39m\u001B[49m\u001B[0m\u001B[35m}\u001B[39m\u001B[49m\u001B[0m\u001B[39m\u001B[49m\u001B[22m\u001B[23m\u001B[24m\u001B[25m\u001B[27m\u001B[28m\u001B[29m\n"
     ]
    },
    {
     "data": {
      "application/vnd.jupyter.widget-view+json": {
       "model_id": "1b0802ccb62e4ae2903fff555fe9a60e",
       "version_major": 2,
       "version_minor": 0
      },
      "text/plain": [
       "Train Epoch  50/128:   0%|          | 0/34 [00:00<?, ?ba/s]"
      ]
     },
     "metadata": {},
     "output_type": "display_data"
    },
    {
     "metadata": {
      "tags": null
     },
     "name": "stdout",
     "output_type": "stream",
     "text": [
      "\u001B[38;2;0;186;142m2022-08-03 04:06:27\u001B[38;2;97;175;239m|\u001B[39m\u001B[49m\u001B[22m\u001B[23m\u001B[24m\u001B[25m\u001B[27m\u001B[28m\u001B[29m\u001B[38;2;198;120;221m[MyReformerModelWithLMHead Train]\u001B[38;2;97;175;239m::\u001B[38;2;198;120;221m_log\u001B[38;2;97;175;239m::\u001B[38;2;198;120;221mtrain_util_wrap.py\u001B[38;2;97;175;239m:\u001B[38;2;198;120;221m255\u001B[38;2;97;175;239m:\u001B[39m\u001B[49m\u001B[22m\u001B[23m\u001B[24m\u001B[25m\u001B[27m\u001B[28m\u001B[29mINFO\u001B[39m\u001B[49m\u001B[22m\u001B[23m\u001B[24m\u001B[25m\u001B[27m\u001B[28m\u001B[29m\u001B[38;2;97;175;239m: \u001B[39m\u001B[49m\u001B[22m\u001B[23m\u001B[24m\u001B[25m\u001B[27m\u001B[28m\u001B[29m\u001B[35m{\u001B[39m\u001B[49m\u001B[0mstep\u001B[35m: \u001B[39m\u001B[49m\u001B[0m\u001B[34m1700/4352\u001B[39m\u001B[49m\u001B[0m, epoch\u001B[35m: \u001B[39m\u001B[49m\u001B[0m\u001B[34m 50.000/128\u001B[39m\u001B[49m\u001B[0m, train/learning_rate\u001B[35m: \u001B[39m\u001B[49m\u001B[0m\u001B[34m7.600e-06\u001B[39m\u001B[49m\u001B[0m, train/loss\u001B[35m: \u001B[39m\u001B[49m\u001B[0m\u001B[34m2.482\u001B[39m\u001B[49m\u001B[0m\u001B[35m}\u001B[39m\u001B[49m\u001B[0m\u001B[39m\u001B[49m\u001B[22m\u001B[23m\u001B[24m\u001B[25m\u001B[27m\u001B[28m\u001B[29m\n"
     ]
    },
    {
     "data": {
      "application/vnd.jupyter.widget-view+json": {
       "model_id": "5c7f051d16764d1395aff380c6af7d00",
       "version_major": 2,
       "version_minor": 0
      },
      "text/plain": [
       "Eval Epoch  50/128:   0%|          | 0/2 [00:00<?, ?ba/s]"
      ]
     },
     "metadata": {},
     "output_type": "display_data"
    },
    {
     "metadata": {
      "tags": null
     },
     "name": "stdout",
     "output_type": "stream",
     "text": [
      "\u001B[38;2;0;186;142m2022-08-03 04:06:30\u001B[38;2;97;175;239m|\u001B[39m\u001B[49m\u001B[22m\u001B[23m\u001B[24m\u001B[25m\u001B[27m\u001B[28m\u001B[29m\u001B[38;2;198;120;221m[MyReformerModelWithLMHead Train]\u001B[38;2;97;175;239m::\u001B[38;2;198;120;221m_log\u001B[38;2;97;175;239m::\u001B[38;2;198;120;221mtrain_util_wrap.py\u001B[38;2;97;175;239m:\u001B[38;2;198;120;221m255\u001B[38;2;97;175;239m:\u001B[39m\u001B[49m\u001B[22m\u001B[23m\u001B[24m\u001B[25m\u001B[27m\u001B[28m\u001B[29mINFO\u001B[39m\u001B[49m\u001B[22m\u001B[23m\u001B[24m\u001B[25m\u001B[27m\u001B[28m\u001B[29m\u001B[38;2;97;175;239m: \u001B[39m\u001B[49m\u001B[22m\u001B[23m\u001B[24m\u001B[25m\u001B[27m\u001B[28m\u001B[29m\u001B[35m{\u001B[39m\u001B[49m\u001B[0mstep\u001B[35m: \u001B[39m\u001B[49m\u001B[0m\u001B[34m1700/4352\u001B[39m\u001B[49m\u001B[0m, epoch\u001B[35m: \u001B[39m\u001B[49m\u001B[0m\u001B[34m 50/128\u001B[39m\u001B[49m\u001B[0m, eval/loss\u001B[35m: \u001B[39m\u001B[49m\u001B[0m\u001B[34m 2.49\u001B[39m\u001B[49m\u001B[0m, eval/ntp_acc\u001B[35m: \u001B[39m\u001B[49m\u001B[0m\u001B[34m31.34\u001B[39m\u001B[49m\u001B[0m, eval/ikr\u001B[35m: \u001B[39m\u001B[49m\u001B[0m\u001B[34m48.27\u001B[39m\u001B[49m\u001B[0m\u001B[35m}\u001B[39m\u001B[49m\u001B[0m\u001B[39m\u001B[49m\u001B[22m\u001B[23m\u001B[24m\u001B[25m\u001B[27m\u001B[28m\u001B[29m\n"
     ]
    },
    {
     "data": {
      "application/vnd.jupyter.widget-view+json": {
       "model_id": "c6542ed514a149988b6fc0af875b3798",
       "version_major": 2,
       "version_minor": 0
      },
      "text/plain": [
       "Train Epoch  51/128:   0%|          | 0/34 [00:00<?, ?ba/s]"
      ]
     },
     "metadata": {},
     "output_type": "display_data"
    },
    {
     "metadata": {
      "tags": null
     },
     "name": "stdout",
     "output_type": "stream",
     "text": [
      "\u001B[38;2;0;186;142m2022-08-03 04:11:28\u001B[38;2;97;175;239m|\u001B[39m\u001B[49m\u001B[22m\u001B[23m\u001B[24m\u001B[25m\u001B[27m\u001B[28m\u001B[29m\u001B[38;2;198;120;221m[MyReformerModelWithLMHead Train]\u001B[38;2;97;175;239m::\u001B[38;2;198;120;221m_log\u001B[38;2;97;175;239m::\u001B[38;2;198;120;221mtrain_util_wrap.py\u001B[38;2;97;175;239m:\u001B[38;2;198;120;221m255\u001B[38;2;97;175;239m:\u001B[39m\u001B[49m\u001B[22m\u001B[23m\u001B[24m\u001B[25m\u001B[27m\u001B[28m\u001B[29mINFO\u001B[39m\u001B[49m\u001B[22m\u001B[23m\u001B[24m\u001B[25m\u001B[27m\u001B[28m\u001B[29m\u001B[38;2;97;175;239m: \u001B[39m\u001B[49m\u001B[22m\u001B[23m\u001B[24m\u001B[25m\u001B[27m\u001B[28m\u001B[29m\u001B[35m{\u001B[39m\u001B[49m\u001B[0mstep\u001B[35m: \u001B[39m\u001B[49m\u001B[0m\u001B[34m1734/4352\u001B[39m\u001B[49m\u001B[0m, epoch\u001B[35m: \u001B[39m\u001B[49m\u001B[0m\u001B[34m 51.000/128\u001B[39m\u001B[49m\u001B[0m, train/learning_rate\u001B[35m: \u001B[39m\u001B[49m\u001B[0m\u001B[34m7.500e-06\u001B[39m\u001B[49m\u001B[0m, train/loss\u001B[35m: \u001B[39m\u001B[49m\u001B[0m\u001B[34m2.5836\u001B[39m\u001B[49m\u001B[0m\u001B[35m}\u001B[39m\u001B[49m\u001B[0m\u001B[39m\u001B[49m\u001B[22m\u001B[23m\u001B[24m\u001B[25m\u001B[27m\u001B[28m\u001B[29m\n"
     ]
    },
    {
     "data": {
      "application/vnd.jupyter.widget-view+json": {
       "model_id": "77db928739e44059932f2e68b88cfcd6",
       "version_major": 2,
       "version_minor": 0
      },
      "text/plain": [
       "Eval Epoch  51/128:   0%|          | 0/2 [00:00<?, ?ba/s]"
      ]
     },
     "metadata": {},
     "output_type": "display_data"
    },
    {
     "metadata": {
      "tags": null
     },
     "name": "stdout",
     "output_type": "stream",
     "text": [
      "\u001B[38;2;0;186;142m2022-08-03 04:11:31\u001B[38;2;97;175;239m|\u001B[39m\u001B[49m\u001B[22m\u001B[23m\u001B[24m\u001B[25m\u001B[27m\u001B[28m\u001B[29m\u001B[38;2;198;120;221m[MyReformerModelWithLMHead Train]\u001B[38;2;97;175;239m::\u001B[38;2;198;120;221m_log\u001B[38;2;97;175;239m::\u001B[38;2;198;120;221mtrain_util_wrap.py\u001B[38;2;97;175;239m:\u001B[38;2;198;120;221m255\u001B[38;2;97;175;239m:\u001B[39m\u001B[49m\u001B[22m\u001B[23m\u001B[24m\u001B[25m\u001B[27m\u001B[28m\u001B[29mINFO\u001B[39m\u001B[49m\u001B[22m\u001B[23m\u001B[24m\u001B[25m\u001B[27m\u001B[28m\u001B[29m\u001B[38;2;97;175;239m: \u001B[39m\u001B[49m\u001B[22m\u001B[23m\u001B[24m\u001B[25m\u001B[27m\u001B[28m\u001B[29m\u001B[35m{\u001B[39m\u001B[49m\u001B[0mstep\u001B[35m: \u001B[39m\u001B[49m\u001B[0m\u001B[34m1734/4352\u001B[39m\u001B[49m\u001B[0m, epoch\u001B[35m: \u001B[39m\u001B[49m\u001B[0m\u001B[34m 51/128\u001B[39m\u001B[49m\u001B[0m, eval/loss\u001B[35m: \u001B[39m\u001B[49m\u001B[0m\u001B[34m2.4878\u001B[39m\u001B[49m\u001B[0m, eval/ntp_acc\u001B[35m: \u001B[39m\u001B[49m\u001B[0m\u001B[34m31.55\u001B[39m\u001B[49m\u001B[0m, eval/ikr\u001B[35m: \u001B[39m\u001B[49m\u001B[0m\u001B[34m48.68\u001B[39m\u001B[49m\u001B[0m\u001B[35m}\u001B[39m\u001B[49m\u001B[0m\u001B[39m\u001B[49m\u001B[22m\u001B[23m\u001B[24m\u001B[25m\u001B[27m\u001B[28m\u001B[29m\n"
     ]
    },
    {
     "data": {
      "application/vnd.jupyter.widget-view+json": {
       "model_id": "822acc8674f6490d99e7df25d9bd416c",
       "version_major": 2,
       "version_minor": 0
      },
      "text/plain": [
       "Train Epoch  52/128:   0%|          | 0/34 [00:00<?, ?ba/s]"
      ]
     },
     "metadata": {},
     "output_type": "display_data"
    },
    {
     "metadata": {
      "tags": null
     },
     "name": "stdout",
     "output_type": "stream",
     "text": [
      "\u001B[38;2;0;186;142m2022-08-03 04:16:29\u001B[38;2;97;175;239m|\u001B[39m\u001B[49m\u001B[22m\u001B[23m\u001B[24m\u001B[25m\u001B[27m\u001B[28m\u001B[29m\u001B[38;2;198;120;221m[MyReformerModelWithLMHead Train]\u001B[38;2;97;175;239m::\u001B[38;2;198;120;221m_log\u001B[38;2;97;175;239m::\u001B[38;2;198;120;221mtrain_util_wrap.py\u001B[38;2;97;175;239m:\u001B[38;2;198;120;221m255\u001B[38;2;97;175;239m:\u001B[39m\u001B[49m\u001B[22m\u001B[23m\u001B[24m\u001B[25m\u001B[27m\u001B[28m\u001B[29mINFO\u001B[39m\u001B[49m\u001B[22m\u001B[23m\u001B[24m\u001B[25m\u001B[27m\u001B[28m\u001B[29m\u001B[38;2;97;175;239m: \u001B[39m\u001B[49m\u001B[22m\u001B[23m\u001B[24m\u001B[25m\u001B[27m\u001B[28m\u001B[29m\u001B[35m{\u001B[39m\u001B[49m\u001B[0mstep\u001B[35m: \u001B[39m\u001B[49m\u001B[0m\u001B[34m1768/4352\u001B[39m\u001B[49m\u001B[0m, epoch\u001B[35m: \u001B[39m\u001B[49m\u001B[0m\u001B[34m 52.000/128\u001B[39m\u001B[49m\u001B[0m, train/learning_rate\u001B[35m: \u001B[39m\u001B[49m\u001B[0m\u001B[34m7.400e-06\u001B[39m\u001B[49m\u001B[0m, train/loss\u001B[35m: \u001B[39m\u001B[49m\u001B[0m\u001B[34m2.5585\u001B[39m\u001B[49m\u001B[0m\u001B[35m}\u001B[39m\u001B[49m\u001B[0m\u001B[39m\u001B[49m\u001B[22m\u001B[23m\u001B[24m\u001B[25m\u001B[27m\u001B[28m\u001B[29m\n"
     ]
    },
    {
     "data": {
      "application/vnd.jupyter.widget-view+json": {
       "model_id": "1db78f86fb2e443fb32c155daf803cb8",
       "version_major": 2,
       "version_minor": 0
      },
      "text/plain": [
       "Eval Epoch  52/128:   0%|          | 0/2 [00:00<?, ?ba/s]"
      ]
     },
     "metadata": {},
     "output_type": "display_data"
    },
    {
     "metadata": {
      "tags": null
     },
     "name": "stdout",
     "output_type": "stream",
     "text": [
      "\u001B[38;2;0;186;142m2022-08-03 04:16:31\u001B[38;2;97;175;239m|\u001B[39m\u001B[49m\u001B[22m\u001B[23m\u001B[24m\u001B[25m\u001B[27m\u001B[28m\u001B[29m\u001B[38;2;198;120;221m[MyReformerModelWithLMHead Train]\u001B[38;2;97;175;239m::\u001B[38;2;198;120;221m_log\u001B[38;2;97;175;239m::\u001B[38;2;198;120;221mtrain_util_wrap.py\u001B[38;2;97;175;239m:\u001B[38;2;198;120;221m255\u001B[38;2;97;175;239m:\u001B[39m\u001B[49m\u001B[22m\u001B[23m\u001B[24m\u001B[25m\u001B[27m\u001B[28m\u001B[29mINFO\u001B[39m\u001B[49m\u001B[22m\u001B[23m\u001B[24m\u001B[25m\u001B[27m\u001B[28m\u001B[29m\u001B[38;2;97;175;239m: \u001B[39m\u001B[49m\u001B[22m\u001B[23m\u001B[24m\u001B[25m\u001B[27m\u001B[28m\u001B[29m\u001B[35m{\u001B[39m\u001B[49m\u001B[0mstep\u001B[35m: \u001B[39m\u001B[49m\u001B[0m\u001B[34m1768/4352\u001B[39m\u001B[49m\u001B[0m, epoch\u001B[35m: \u001B[39m\u001B[49m\u001B[0m\u001B[34m 52/128\u001B[39m\u001B[49m\u001B[0m, eval/loss\u001B[35m: \u001B[39m\u001B[49m\u001B[0m\u001B[34m2.4924\u001B[39m\u001B[49m\u001B[0m, eval/ntp_acc\u001B[35m: \u001B[39m\u001B[49m\u001B[0m\u001B[34m31.25\u001B[39m\u001B[49m\u001B[0m, eval/ikr\u001B[35m: \u001B[39m\u001B[49m\u001B[0m\u001B[34m48.82\u001B[39m\u001B[49m\u001B[0m\u001B[35m}\u001B[39m\u001B[49m\u001B[0m\u001B[39m\u001B[49m\u001B[22m\u001B[23m\u001B[24m\u001B[25m\u001B[27m\u001B[28m\u001B[29m\n"
     ]
    },
    {
     "data": {
      "application/vnd.jupyter.widget-view+json": {
       "model_id": "db1abe853afb4bd298c96fc2645ada4d",
       "version_major": 2,
       "version_minor": 0
      },
      "text/plain": [
       "Train Epoch  53/128:   0%|          | 0/34 [00:00<?, ?ba/s]"
      ]
     },
     "metadata": {},
     "output_type": "display_data"
    },
    {
     "metadata": {
      "tags": null
     },
     "name": "stdout",
     "output_type": "stream",
     "text": [
      "\u001B[38;2;0;186;142m2022-08-03 04:21:30\u001B[38;2;97;175;239m|\u001B[39m\u001B[49m\u001B[22m\u001B[23m\u001B[24m\u001B[25m\u001B[27m\u001B[28m\u001B[29m\u001B[38;2;198;120;221m[MyReformerModelWithLMHead Train]\u001B[38;2;97;175;239m::\u001B[38;2;198;120;221m_log\u001B[38;2;97;175;239m::\u001B[38;2;198;120;221mtrain_util_wrap.py\u001B[38;2;97;175;239m:\u001B[38;2;198;120;221m255\u001B[38;2;97;175;239m:\u001B[39m\u001B[49m\u001B[22m\u001B[23m\u001B[24m\u001B[25m\u001B[27m\u001B[28m\u001B[29mINFO\u001B[39m\u001B[49m\u001B[22m\u001B[23m\u001B[24m\u001B[25m\u001B[27m\u001B[28m\u001B[29m\u001B[38;2;97;175;239m: \u001B[39m\u001B[49m\u001B[22m\u001B[23m\u001B[24m\u001B[25m\u001B[27m\u001B[28m\u001B[29m\u001B[35m{\u001B[39m\u001B[49m\u001B[0mstep\u001B[35m: \u001B[39m\u001B[49m\u001B[0m\u001B[34m1802/4352\u001B[39m\u001B[49m\u001B[0m, epoch\u001B[35m: \u001B[39m\u001B[49m\u001B[0m\u001B[34m 53.000/128\u001B[39m\u001B[49m\u001B[0m, train/learning_rate\u001B[35m: \u001B[39m\u001B[49m\u001B[0m\u001B[34m7.300e-06\u001B[39m\u001B[49m\u001B[0m, train/loss\u001B[35m: \u001B[39m\u001B[49m\u001B[0m\u001B[34m2.5357\u001B[39m\u001B[49m\u001B[0m\u001B[35m}\u001B[39m\u001B[49m\u001B[0m\u001B[39m\u001B[49m\u001B[22m\u001B[23m\u001B[24m\u001B[25m\u001B[27m\u001B[28m\u001B[29m\n"
     ]
    },
    {
     "data": {
      "application/vnd.jupyter.widget-view+json": {
       "model_id": "5816f5098d4142fabbcf2f17da4955f6",
       "version_major": 2,
       "version_minor": 0
      },
      "text/plain": [
       "Eval Epoch  53/128:   0%|          | 0/2 [00:00<?, ?ba/s]"
      ]
     },
     "metadata": {},
     "output_type": "display_data"
    },
    {
     "metadata": {
      "tags": null
     },
     "name": "stdout",
     "output_type": "stream",
     "text": [
      "\u001B[38;2;0;186;142m2022-08-03 04:21:32\u001B[38;2;97;175;239m|\u001B[39m\u001B[49m\u001B[22m\u001B[23m\u001B[24m\u001B[25m\u001B[27m\u001B[28m\u001B[29m\u001B[38;2;198;120;221m[MyReformerModelWithLMHead Train]\u001B[38;2;97;175;239m::\u001B[38;2;198;120;221m_log\u001B[38;2;97;175;239m::\u001B[38;2;198;120;221mtrain_util_wrap.py\u001B[38;2;97;175;239m:\u001B[38;2;198;120;221m255\u001B[38;2;97;175;239m:\u001B[39m\u001B[49m\u001B[22m\u001B[23m\u001B[24m\u001B[25m\u001B[27m\u001B[28m\u001B[29mINFO\u001B[39m\u001B[49m\u001B[22m\u001B[23m\u001B[24m\u001B[25m\u001B[27m\u001B[28m\u001B[29m\u001B[38;2;97;175;239m: \u001B[39m\u001B[49m\u001B[22m\u001B[23m\u001B[24m\u001B[25m\u001B[27m\u001B[28m\u001B[29m\u001B[35m{\u001B[39m\u001B[49m\u001B[0mstep\u001B[35m: \u001B[39m\u001B[49m\u001B[0m\u001B[34m1802/4352\u001B[39m\u001B[49m\u001B[0m, epoch\u001B[35m: \u001B[39m\u001B[49m\u001B[0m\u001B[34m 53/128\u001B[39m\u001B[49m\u001B[0m, eval/loss\u001B[35m: \u001B[39m\u001B[49m\u001B[0m\u001B[34m2.5014\u001B[39m\u001B[49m\u001B[0m, eval/ntp_acc\u001B[35m: \u001B[39m\u001B[49m\u001B[0m\u001B[34m30.67\u001B[39m\u001B[49m\u001B[0m, eval/ikr\u001B[35m: \u001B[39m\u001B[49m\u001B[0m\u001B[34m47.91\u001B[39m\u001B[49m\u001B[0m\u001B[35m}\u001B[39m\u001B[49m\u001B[0m\u001B[39m\u001B[49m\u001B[22m\u001B[23m\u001B[24m\u001B[25m\u001B[27m\u001B[28m\u001B[29m\n"
     ]
    },
    {
     "data": {
      "application/vnd.jupyter.widget-view+json": {
       "model_id": "b852ea8229c045539d53ea2cadedc8a4",
       "version_major": 2,
       "version_minor": 0
      },
      "text/plain": [
       "Train Epoch  54/128:   0%|          | 0/34 [00:00<?, ?ba/s]"
      ]
     },
     "metadata": {},
     "output_type": "display_data"
    },
    {
     "metadata": {
      "tags": null
     },
     "name": "stdout",
     "output_type": "stream",
     "text": [
      "\u001B[38;2;0;186;142m2022-08-03 04:26:31\u001B[38;2;97;175;239m|\u001B[39m\u001B[49m\u001B[22m\u001B[23m\u001B[24m\u001B[25m\u001B[27m\u001B[28m\u001B[29m\u001B[38;2;198;120;221m[MyReformerModelWithLMHead Train]\u001B[38;2;97;175;239m::\u001B[38;2;198;120;221m_log\u001B[38;2;97;175;239m::\u001B[38;2;198;120;221mtrain_util_wrap.py\u001B[38;2;97;175;239m:\u001B[38;2;198;120;221m255\u001B[38;2;97;175;239m:\u001B[39m\u001B[49m\u001B[22m\u001B[23m\u001B[24m\u001B[25m\u001B[27m\u001B[28m\u001B[29mINFO\u001B[39m\u001B[49m\u001B[22m\u001B[23m\u001B[24m\u001B[25m\u001B[27m\u001B[28m\u001B[29m\u001B[38;2;97;175;239m: \u001B[39m\u001B[49m\u001B[22m\u001B[23m\u001B[24m\u001B[25m\u001B[27m\u001B[28m\u001B[29m\u001B[35m{\u001B[39m\u001B[49m\u001B[0mstep\u001B[35m: \u001B[39m\u001B[49m\u001B[0m\u001B[34m1836/4352\u001B[39m\u001B[49m\u001B[0m, epoch\u001B[35m: \u001B[39m\u001B[49m\u001B[0m\u001B[34m 54.000/128\u001B[39m\u001B[49m\u001B[0m, train/learning_rate\u001B[35m: \u001B[39m\u001B[49m\u001B[0m\u001B[34m7.200e-06\u001B[39m\u001B[49m\u001B[0m, train/loss\u001B[35m: \u001B[39m\u001B[49m\u001B[0m\u001B[34m2.5013\u001B[39m\u001B[49m\u001B[0m\u001B[35m}\u001B[39m\u001B[49m\u001B[0m\u001B[39m\u001B[49m\u001B[22m\u001B[23m\u001B[24m\u001B[25m\u001B[27m\u001B[28m\u001B[29m\n"
     ]
    },
    {
     "data": {
      "application/vnd.jupyter.widget-view+json": {
       "model_id": "ba56d5b04a8f4f20b65ba6440c742ab3",
       "version_major": 2,
       "version_minor": 0
      },
      "text/plain": [
       "Eval Epoch  54/128:   0%|          | 0/2 [00:00<?, ?ba/s]"
      ]
     },
     "metadata": {},
     "output_type": "display_data"
    },
    {
     "metadata": {
      "tags": null
     },
     "name": "stdout",
     "output_type": "stream",
     "text": [
      "\u001B[38;2;0;186;142m2022-08-03 04:26:33\u001B[38;2;97;175;239m|\u001B[39m\u001B[49m\u001B[22m\u001B[23m\u001B[24m\u001B[25m\u001B[27m\u001B[28m\u001B[29m\u001B[38;2;198;120;221m[MyReformerModelWithLMHead Train]\u001B[38;2;97;175;239m::\u001B[38;2;198;120;221m_log\u001B[38;2;97;175;239m::\u001B[38;2;198;120;221mtrain_util_wrap.py\u001B[38;2;97;175;239m:\u001B[38;2;198;120;221m255\u001B[38;2;97;175;239m:\u001B[39m\u001B[49m\u001B[22m\u001B[23m\u001B[24m\u001B[25m\u001B[27m\u001B[28m\u001B[29mINFO\u001B[39m\u001B[49m\u001B[22m\u001B[23m\u001B[24m\u001B[25m\u001B[27m\u001B[28m\u001B[29m\u001B[38;2;97;175;239m: \u001B[39m\u001B[49m\u001B[22m\u001B[23m\u001B[24m\u001B[25m\u001B[27m\u001B[28m\u001B[29m\u001B[35m{\u001B[39m\u001B[49m\u001B[0mstep\u001B[35m: \u001B[39m\u001B[49m\u001B[0m\u001B[34m1836/4352\u001B[39m\u001B[49m\u001B[0m, epoch\u001B[35m: \u001B[39m\u001B[49m\u001B[0m\u001B[34m 54/128\u001B[39m\u001B[49m\u001B[0m, eval/loss\u001B[35m: \u001B[39m\u001B[49m\u001B[0m\u001B[34m2.4803\u001B[39m\u001B[49m\u001B[0m, eval/ntp_acc\u001B[35m: \u001B[39m\u001B[49m\u001B[0m\u001B[34m31.87\u001B[39m\u001B[49m\u001B[0m, eval/ikr\u001B[35m: \u001B[39m\u001B[49m\u001B[0m\u001B[34m49.01\u001B[39m\u001B[49m\u001B[0m\u001B[35m}\u001B[39m\u001B[49m\u001B[0m\u001B[39m\u001B[49m\u001B[22m\u001B[23m\u001B[24m\u001B[25m\u001B[27m\u001B[28m\u001B[29m\n"
     ]
    },
    {
     "data": {
      "application/vnd.jupyter.widget-view+json": {
       "model_id": "864d91cb6a354c5280d0ced9f762ffd0",
       "version_major": 2,
       "version_minor": 0
      },
      "text/plain": [
       "Train Epoch  55/128:   0%|          | 0/34 [00:00<?, ?ba/s]"
      ]
     },
     "metadata": {},
     "output_type": "display_data"
    },
    {
     "metadata": {
      "tags": null
     },
     "name": "stdout",
     "output_type": "stream",
     "text": [
      "\u001B[38;2;0;186;142m2022-08-03 04:31:31\u001B[38;2;97;175;239m|\u001B[39m\u001B[49m\u001B[22m\u001B[23m\u001B[24m\u001B[25m\u001B[27m\u001B[28m\u001B[29m\u001B[38;2;198;120;221m[MyReformerModelWithLMHead Train]\u001B[38;2;97;175;239m::\u001B[38;2;198;120;221m_log\u001B[38;2;97;175;239m::\u001B[38;2;198;120;221mtrain_util_wrap.py\u001B[38;2;97;175;239m:\u001B[38;2;198;120;221m255\u001B[38;2;97;175;239m:\u001B[39m\u001B[49m\u001B[22m\u001B[23m\u001B[24m\u001B[25m\u001B[27m\u001B[28m\u001B[29mINFO\u001B[39m\u001B[49m\u001B[22m\u001B[23m\u001B[24m\u001B[25m\u001B[27m\u001B[28m\u001B[29m\u001B[38;2;97;175;239m: \u001B[39m\u001B[49m\u001B[22m\u001B[23m\u001B[24m\u001B[25m\u001B[27m\u001B[28m\u001B[29m\u001B[35m{\u001B[39m\u001B[49m\u001B[0mstep\u001B[35m: \u001B[39m\u001B[49m\u001B[0m\u001B[34m1870/4352\u001B[39m\u001B[49m\u001B[0m, epoch\u001B[35m: \u001B[39m\u001B[49m\u001B[0m\u001B[34m 55.000/128\u001B[39m\u001B[49m\u001B[0m, train/learning_rate\u001B[35m: \u001B[39m\u001B[49m\u001B[0m\u001B[34m7.000e-06\u001B[39m\u001B[49m\u001B[0m, train/loss\u001B[35m: \u001B[39m\u001B[49m\u001B[0m\u001B[34m2.4644\u001B[39m\u001B[49m\u001B[0m\u001B[35m}\u001B[39m\u001B[49m\u001B[0m\u001B[39m\u001B[49m\u001B[22m\u001B[23m\u001B[24m\u001B[25m\u001B[27m\u001B[28m\u001B[29m\n"
     ]
    },
    {
     "data": {
      "application/vnd.jupyter.widget-view+json": {
       "model_id": "2c0ad2877abc4001bc9a09cb4d65d0df",
       "version_major": 2,
       "version_minor": 0
      },
      "text/plain": [
       "Eval Epoch  55/128:   0%|          | 0/2 [00:00<?, ?ba/s]"
      ]
     },
     "metadata": {},
     "output_type": "display_data"
    },
    {
     "metadata": {
      "tags": null
     },
     "name": "stdout",
     "output_type": "stream",
     "text": [
      "\u001B[38;2;0;186;142m2022-08-03 04:31:34\u001B[38;2;97;175;239m|\u001B[39m\u001B[49m\u001B[22m\u001B[23m\u001B[24m\u001B[25m\u001B[27m\u001B[28m\u001B[29m\u001B[38;2;198;120;221m[MyReformerModelWithLMHead Train]\u001B[38;2;97;175;239m::\u001B[38;2;198;120;221m_log\u001B[38;2;97;175;239m::\u001B[38;2;198;120;221mtrain_util_wrap.py\u001B[38;2;97;175;239m:\u001B[38;2;198;120;221m255\u001B[38;2;97;175;239m:\u001B[39m\u001B[49m\u001B[22m\u001B[23m\u001B[24m\u001B[25m\u001B[27m\u001B[28m\u001B[29mINFO\u001B[39m\u001B[49m\u001B[22m\u001B[23m\u001B[24m\u001B[25m\u001B[27m\u001B[28m\u001B[29m\u001B[38;2;97;175;239m: \u001B[39m\u001B[49m\u001B[22m\u001B[23m\u001B[24m\u001B[25m\u001B[27m\u001B[28m\u001B[29m\u001B[35m{\u001B[39m\u001B[49m\u001B[0mstep\u001B[35m: \u001B[39m\u001B[49m\u001B[0m\u001B[34m1870/4352\u001B[39m\u001B[49m\u001B[0m, epoch\u001B[35m: \u001B[39m\u001B[49m\u001B[0m\u001B[34m 55/128\u001B[39m\u001B[49m\u001B[0m, eval/loss\u001B[35m: \u001B[39m\u001B[49m\u001B[0m\u001B[34m2.4786\u001B[39m\u001B[49m\u001B[0m, eval/ntp_acc\u001B[35m: \u001B[39m\u001B[49m\u001B[0m\u001B[34m31.75\u001B[39m\u001B[49m\u001B[0m, eval/ikr\u001B[35m: \u001B[39m\u001B[49m\u001B[0m\u001B[34m48.14\u001B[39m\u001B[49m\u001B[0m\u001B[35m}\u001B[39m\u001B[49m\u001B[0m\u001B[39m\u001B[49m\u001B[22m\u001B[23m\u001B[24m\u001B[25m\u001B[27m\u001B[28m\u001B[29m\n"
     ]
    },
    {
     "data": {
      "application/vnd.jupyter.widget-view+json": {
       "model_id": "5743c53a34274ffa8d651dfa936ce520",
       "version_major": 2,
       "version_minor": 0
      },
      "text/plain": [
       "Train Epoch  56/128:   0%|          | 0/34 [00:00<?, ?ba/s]"
      ]
     },
     "metadata": {},
     "output_type": "display_data"
    },
    {
     "metadata": {
      "tags": null
     },
     "name": "stdout",
     "output_type": "stream",
     "text": [
      "\u001B[38;2;0;186;142m2022-08-03 04:36:32\u001B[38;2;97;175;239m|\u001B[39m\u001B[49m\u001B[22m\u001B[23m\u001B[24m\u001B[25m\u001B[27m\u001B[28m\u001B[29m\u001B[38;2;198;120;221m[MyReformerModelWithLMHead Train]\u001B[38;2;97;175;239m::\u001B[38;2;198;120;221m_log\u001B[38;2;97;175;239m::\u001B[38;2;198;120;221mtrain_util_wrap.py\u001B[38;2;97;175;239m:\u001B[38;2;198;120;221m255\u001B[38;2;97;175;239m:\u001B[39m\u001B[49m\u001B[22m\u001B[23m\u001B[24m\u001B[25m\u001B[27m\u001B[28m\u001B[29mINFO\u001B[39m\u001B[49m\u001B[22m\u001B[23m\u001B[24m\u001B[25m\u001B[27m\u001B[28m\u001B[29m\u001B[38;2;97;175;239m: \u001B[39m\u001B[49m\u001B[22m\u001B[23m\u001B[24m\u001B[25m\u001B[27m\u001B[28m\u001B[29m\u001B[35m{\u001B[39m\u001B[49m\u001B[0mstep\u001B[35m: \u001B[39m\u001B[49m\u001B[0m\u001B[34m1904/4352\u001B[39m\u001B[49m\u001B[0m, epoch\u001B[35m: \u001B[39m\u001B[49m\u001B[0m\u001B[34m 56.000/128\u001B[39m\u001B[49m\u001B[0m, train/learning_rate\u001B[35m: \u001B[39m\u001B[49m\u001B[0m\u001B[34m6.900e-06\u001B[39m\u001B[49m\u001B[0m, train/loss\u001B[35m: \u001B[39m\u001B[49m\u001B[0m\u001B[34m2.5152\u001B[39m\u001B[49m\u001B[0m\u001B[35m}\u001B[39m\u001B[49m\u001B[0m\u001B[39m\u001B[49m\u001B[22m\u001B[23m\u001B[24m\u001B[25m\u001B[27m\u001B[28m\u001B[29m\n"
     ]
    },
    {
     "data": {
      "application/vnd.jupyter.widget-view+json": {
       "model_id": "18292866460b47d4b3cc20871519f9d9",
       "version_major": 2,
       "version_minor": 0
      },
      "text/plain": [
       "Eval Epoch  56/128:   0%|          | 0/2 [00:00<?, ?ba/s]"
      ]
     },
     "metadata": {},
     "output_type": "display_data"
    },
    {
     "metadata": {
      "tags": null
     },
     "name": "stdout",
     "output_type": "stream",
     "text": [
      "\u001B[38;2;0;186;142m2022-08-03 04:36:35\u001B[38;2;97;175;239m|\u001B[39m\u001B[49m\u001B[22m\u001B[23m\u001B[24m\u001B[25m\u001B[27m\u001B[28m\u001B[29m\u001B[38;2;198;120;221m[MyReformerModelWithLMHead Train]\u001B[38;2;97;175;239m::\u001B[38;2;198;120;221m_log\u001B[38;2;97;175;239m::\u001B[38;2;198;120;221mtrain_util_wrap.py\u001B[38;2;97;175;239m:\u001B[38;2;198;120;221m255\u001B[38;2;97;175;239m:\u001B[39m\u001B[49m\u001B[22m\u001B[23m\u001B[24m\u001B[25m\u001B[27m\u001B[28m\u001B[29mINFO\u001B[39m\u001B[49m\u001B[22m\u001B[23m\u001B[24m\u001B[25m\u001B[27m\u001B[28m\u001B[29m\u001B[38;2;97;175;239m: \u001B[39m\u001B[49m\u001B[22m\u001B[23m\u001B[24m\u001B[25m\u001B[27m\u001B[28m\u001B[29m\u001B[35m{\u001B[39m\u001B[49m\u001B[0mstep\u001B[35m: \u001B[39m\u001B[49m\u001B[0m\u001B[34m1904/4352\u001B[39m\u001B[49m\u001B[0m, epoch\u001B[35m: \u001B[39m\u001B[49m\u001B[0m\u001B[34m 56/128\u001B[39m\u001B[49m\u001B[0m, eval/loss\u001B[35m: \u001B[39m\u001B[49m\u001B[0m\u001B[34m2.4722\u001B[39m\u001B[49m\u001B[0m, eval/ntp_acc\u001B[35m: \u001B[39m\u001B[49m\u001B[0m\u001B[34m32.14\u001B[39m\u001B[49m\u001B[0m, eval/ikr\u001B[35m: \u001B[39m\u001B[49m\u001B[0m\u001B[34m48.22\u001B[39m\u001B[49m\u001B[0m\u001B[35m}\u001B[39m\u001B[49m\u001B[0m\u001B[39m\u001B[49m\u001B[22m\u001B[23m\u001B[24m\u001B[25m\u001B[27m\u001B[28m\u001B[29m\n"
     ]
    },
    {
     "data": {
      "application/vnd.jupyter.widget-view+json": {
       "model_id": "a338e91dee0d4691b40d1744f8127f9f",
       "version_major": 2,
       "version_minor": 0
      },
      "text/plain": [
       "Train Epoch  57/128:   0%|          | 0/34 [00:00<?, ?ba/s]"
      ]
     },
     "metadata": {},
     "output_type": "display_data"
    },
    {
     "metadata": {
      "tags": null
     },
     "name": "stdout",
     "output_type": "stream",
     "text": [
      "\u001B[38;2;0;186;142m2022-08-03 04:41:33\u001B[38;2;97;175;239m|\u001B[39m\u001B[49m\u001B[22m\u001B[23m\u001B[24m\u001B[25m\u001B[27m\u001B[28m\u001B[29m\u001B[38;2;198;120;221m[MyReformerModelWithLMHead Train]\u001B[38;2;97;175;239m::\u001B[38;2;198;120;221m_log\u001B[38;2;97;175;239m::\u001B[38;2;198;120;221mtrain_util_wrap.py\u001B[38;2;97;175;239m:\u001B[38;2;198;120;221m255\u001B[38;2;97;175;239m:\u001B[39m\u001B[49m\u001B[22m\u001B[23m\u001B[24m\u001B[25m\u001B[27m\u001B[28m\u001B[29mINFO\u001B[39m\u001B[49m\u001B[22m\u001B[23m\u001B[24m\u001B[25m\u001B[27m\u001B[28m\u001B[29m\u001B[38;2;97;175;239m: \u001B[39m\u001B[49m\u001B[22m\u001B[23m\u001B[24m\u001B[25m\u001B[27m\u001B[28m\u001B[29m\u001B[35m{\u001B[39m\u001B[49m\u001B[0mstep\u001B[35m: \u001B[39m\u001B[49m\u001B[0m\u001B[34m1938/4352\u001B[39m\u001B[49m\u001B[0m, epoch\u001B[35m: \u001B[39m\u001B[49m\u001B[0m\u001B[34m 57.000/128\u001B[39m\u001B[49m\u001B[0m, train/learning_rate\u001B[35m: \u001B[39m\u001B[49m\u001B[0m\u001B[34m6.800e-06\u001B[39m\u001B[49m\u001B[0m, train/loss\u001B[35m: \u001B[39m\u001B[49m\u001B[0m\u001B[34m2.479\u001B[39m\u001B[49m\u001B[0m\u001B[35m}\u001B[39m\u001B[49m\u001B[0m\u001B[39m\u001B[49m\u001B[22m\u001B[23m\u001B[24m\u001B[25m\u001B[27m\u001B[28m\u001B[29m\n"
     ]
    },
    {
     "data": {
      "application/vnd.jupyter.widget-view+json": {
       "model_id": "70cdc97281a74d90b717d388b602c261",
       "version_major": 2,
       "version_minor": 0
      },
      "text/plain": [
       "Eval Epoch  57/128:   0%|          | 0/2 [00:00<?, ?ba/s]"
      ]
     },
     "metadata": {},
     "output_type": "display_data"
    },
    {
     "metadata": {
      "tags": null
     },
     "name": "stdout",
     "output_type": "stream",
     "text": [
      "\u001B[38;2;0;186;142m2022-08-03 04:41:36\u001B[38;2;97;175;239m|\u001B[39m\u001B[49m\u001B[22m\u001B[23m\u001B[24m\u001B[25m\u001B[27m\u001B[28m\u001B[29m\u001B[38;2;198;120;221m[MyReformerModelWithLMHead Train]\u001B[38;2;97;175;239m::\u001B[38;2;198;120;221m_log\u001B[38;2;97;175;239m::\u001B[38;2;198;120;221mtrain_util_wrap.py\u001B[38;2;97;175;239m:\u001B[38;2;198;120;221m255\u001B[38;2;97;175;239m:\u001B[39m\u001B[49m\u001B[22m\u001B[23m\u001B[24m\u001B[25m\u001B[27m\u001B[28m\u001B[29mINFO\u001B[39m\u001B[49m\u001B[22m\u001B[23m\u001B[24m\u001B[25m\u001B[27m\u001B[28m\u001B[29m\u001B[38;2;97;175;239m: \u001B[39m\u001B[49m\u001B[22m\u001B[23m\u001B[24m\u001B[25m\u001B[27m\u001B[28m\u001B[29m\u001B[35m{\u001B[39m\u001B[49m\u001B[0mstep\u001B[35m: \u001B[39m\u001B[49m\u001B[0m\u001B[34m1938/4352\u001B[39m\u001B[49m\u001B[0m, epoch\u001B[35m: \u001B[39m\u001B[49m\u001B[0m\u001B[34m 57/128\u001B[39m\u001B[49m\u001B[0m, eval/loss\u001B[35m: \u001B[39m\u001B[49m\u001B[0m\u001B[34m2.4824\u001B[39m\u001B[49m\u001B[0m, eval/ntp_acc\u001B[35m: \u001B[39m\u001B[49m\u001B[0m\u001B[34m31.67\u001B[39m\u001B[49m\u001B[0m, eval/ikr\u001B[35m: \u001B[39m\u001B[49m\u001B[0m\u001B[34m46.87\u001B[39m\u001B[49m\u001B[0m\u001B[35m}\u001B[39m\u001B[49m\u001B[0m\u001B[39m\u001B[49m\u001B[22m\u001B[23m\u001B[24m\u001B[25m\u001B[27m\u001B[28m\u001B[29m\n"
     ]
    },
    {
     "data": {
      "application/vnd.jupyter.widget-view+json": {
       "model_id": "93e4cebc8a0845b998110a8a1a33bffc",
       "version_major": 2,
       "version_minor": 0
      },
      "text/plain": [
       "Train Epoch  58/128:   0%|          | 0/34 [00:00<?, ?ba/s]"
      ]
     },
     "metadata": {},
     "output_type": "display_data"
    },
    {
     "metadata": {
      "tags": null
     },
     "name": "stdout",
     "output_type": "stream",
     "text": [
      "\u001B[38;2;0;186;142m2022-08-03 04:46:34\u001B[38;2;97;175;239m|\u001B[39m\u001B[49m\u001B[22m\u001B[23m\u001B[24m\u001B[25m\u001B[27m\u001B[28m\u001B[29m\u001B[38;2;198;120;221m[MyReformerModelWithLMHead Train]\u001B[38;2;97;175;239m::\u001B[38;2;198;120;221m_log\u001B[38;2;97;175;239m::\u001B[38;2;198;120;221mtrain_util_wrap.py\u001B[38;2;97;175;239m:\u001B[38;2;198;120;221m255\u001B[38;2;97;175;239m:\u001B[39m\u001B[49m\u001B[22m\u001B[23m\u001B[24m\u001B[25m\u001B[27m\u001B[28m\u001B[29mINFO\u001B[39m\u001B[49m\u001B[22m\u001B[23m\u001B[24m\u001B[25m\u001B[27m\u001B[28m\u001B[29m\u001B[38;2;97;175;239m: \u001B[39m\u001B[49m\u001B[22m\u001B[23m\u001B[24m\u001B[25m\u001B[27m\u001B[28m\u001B[29m\u001B[35m{\u001B[39m\u001B[49m\u001B[0mstep\u001B[35m: \u001B[39m\u001B[49m\u001B[0m\u001B[34m1972/4352\u001B[39m\u001B[49m\u001B[0m, epoch\u001B[35m: \u001B[39m\u001B[49m\u001B[0m\u001B[34m 58.000/128\u001B[39m\u001B[49m\u001B[0m, train/learning_rate\u001B[35m: \u001B[39m\u001B[49m\u001B[0m\u001B[34m6.700e-06\u001B[39m\u001B[49m\u001B[0m, train/loss\u001B[35m: \u001B[39m\u001B[49m\u001B[0m\u001B[34m2.4234\u001B[39m\u001B[49m\u001B[0m\u001B[35m}\u001B[39m\u001B[49m\u001B[0m\u001B[39m\u001B[49m\u001B[22m\u001B[23m\u001B[24m\u001B[25m\u001B[27m\u001B[28m\u001B[29m\n"
     ]
    },
    {
     "data": {
      "application/vnd.jupyter.widget-view+json": {
       "model_id": "65cb379181c44f53b85b7950d10dc632",
       "version_major": 2,
       "version_minor": 0
      },
      "text/plain": [
       "Eval Epoch  58/128:   0%|          | 0/2 [00:00<?, ?ba/s]"
      ]
     },
     "metadata": {},
     "output_type": "display_data"
    },
    {
     "metadata": {
      "tags": null
     },
     "name": "stdout",
     "output_type": "stream",
     "text": [
      "\u001B[38;2;0;186;142m2022-08-03 04:46:37\u001B[38;2;97;175;239m|\u001B[39m\u001B[49m\u001B[22m\u001B[23m\u001B[24m\u001B[25m\u001B[27m\u001B[28m\u001B[29m\u001B[38;2;198;120;221m[MyReformerModelWithLMHead Train]\u001B[38;2;97;175;239m::\u001B[38;2;198;120;221m_log\u001B[38;2;97;175;239m::\u001B[38;2;198;120;221mtrain_util_wrap.py\u001B[38;2;97;175;239m:\u001B[38;2;198;120;221m255\u001B[38;2;97;175;239m:\u001B[39m\u001B[49m\u001B[22m\u001B[23m\u001B[24m\u001B[25m\u001B[27m\u001B[28m\u001B[29mINFO\u001B[39m\u001B[49m\u001B[22m\u001B[23m\u001B[24m\u001B[25m\u001B[27m\u001B[28m\u001B[29m\u001B[38;2;97;175;239m: \u001B[39m\u001B[49m\u001B[22m\u001B[23m\u001B[24m\u001B[25m\u001B[27m\u001B[28m\u001B[29m\u001B[35m{\u001B[39m\u001B[49m\u001B[0mstep\u001B[35m: \u001B[39m\u001B[49m\u001B[0m\u001B[34m1972/4352\u001B[39m\u001B[49m\u001B[0m, epoch\u001B[35m: \u001B[39m\u001B[49m\u001B[0m\u001B[34m 58/128\u001B[39m\u001B[49m\u001B[0m, eval/loss\u001B[35m: \u001B[39m\u001B[49m\u001B[0m\u001B[34m2.4748\u001B[39m\u001B[49m\u001B[0m, eval/ntp_acc\u001B[35m: \u001B[39m\u001B[49m\u001B[0m\u001B[34m 32.00\u001B[39m\u001B[49m\u001B[0m, eval/ikr\u001B[35m: \u001B[39m\u001B[49m\u001B[0m\u001B[34m49.44\u001B[39m\u001B[49m\u001B[0m\u001B[35m}\u001B[39m\u001B[49m\u001B[0m\u001B[39m\u001B[49m\u001B[22m\u001B[23m\u001B[24m\u001B[25m\u001B[27m\u001B[28m\u001B[29m\n"
     ]
    },
    {
     "data": {
      "application/vnd.jupyter.widget-view+json": {
       "model_id": "102912ca7d1d4fdc8d143872826992c5",
       "version_major": 2,
       "version_minor": 0
      },
      "text/plain": [
       "Train Epoch  59/128:   0%|          | 0/34 [00:00<?, ?ba/s]"
      ]
     },
     "metadata": {},
     "output_type": "display_data"
    },
    {
     "metadata": {
      "tags": null
     },
     "name": "stdout",
     "output_type": "stream",
     "text": [
      "\u001B[38;2;0;186;142m2022-08-03 04:51:35\u001B[38;2;97;175;239m|\u001B[39m\u001B[49m\u001B[22m\u001B[23m\u001B[24m\u001B[25m\u001B[27m\u001B[28m\u001B[29m\u001B[38;2;198;120;221m[MyReformerModelWithLMHead Train]\u001B[38;2;97;175;239m::\u001B[38;2;198;120;221m_log\u001B[38;2;97;175;239m::\u001B[38;2;198;120;221mtrain_util_wrap.py\u001B[38;2;97;175;239m:\u001B[38;2;198;120;221m255\u001B[38;2;97;175;239m:\u001B[39m\u001B[49m\u001B[22m\u001B[23m\u001B[24m\u001B[25m\u001B[27m\u001B[28m\u001B[29mINFO\u001B[39m\u001B[49m\u001B[22m\u001B[23m\u001B[24m\u001B[25m\u001B[27m\u001B[28m\u001B[29m\u001B[38;2;97;175;239m: \u001B[39m\u001B[49m\u001B[22m\u001B[23m\u001B[24m\u001B[25m\u001B[27m\u001B[28m\u001B[29m\u001B[35m{\u001B[39m\u001B[49m\u001B[0mstep\u001B[35m: \u001B[39m\u001B[49m\u001B[0m\u001B[34m2006/4352\u001B[39m\u001B[49m\u001B[0m, epoch\u001B[35m: \u001B[39m\u001B[49m\u001B[0m\u001B[34m 59.000/128\u001B[39m\u001B[49m\u001B[0m, train/learning_rate\u001B[35m: \u001B[39m\u001B[49m\u001B[0m\u001B[34m6.500e-06\u001B[39m\u001B[49m\u001B[0m, train/loss\u001B[35m: \u001B[39m\u001B[49m\u001B[0m\u001B[34m2.4985\u001B[39m\u001B[49m\u001B[0m\u001B[35m}\u001B[39m\u001B[49m\u001B[0m\u001B[39m\u001B[49m\u001B[22m\u001B[23m\u001B[24m\u001B[25m\u001B[27m\u001B[28m\u001B[29m\n"
     ]
    },
    {
     "data": {
      "application/vnd.jupyter.widget-view+json": {
       "model_id": "73dca1fd446049ca90d1ba123a2f5431",
       "version_major": 2,
       "version_minor": 0
      },
      "text/plain": [
       "Eval Epoch  59/128:   0%|          | 0/2 [00:00<?, ?ba/s]"
      ]
     },
     "metadata": {},
     "output_type": "display_data"
    },
    {
     "metadata": {
      "tags": null
     },
     "name": "stdout",
     "output_type": "stream",
     "text": [
      "\u001B[38;2;0;186;142m2022-08-03 04:51:37\u001B[38;2;97;175;239m|\u001B[39m\u001B[49m\u001B[22m\u001B[23m\u001B[24m\u001B[25m\u001B[27m\u001B[28m\u001B[29m\u001B[38;2;198;120;221m[MyReformerModelWithLMHead Train]\u001B[38;2;97;175;239m::\u001B[38;2;198;120;221m_log\u001B[38;2;97;175;239m::\u001B[38;2;198;120;221mtrain_util_wrap.py\u001B[38;2;97;175;239m:\u001B[38;2;198;120;221m255\u001B[38;2;97;175;239m:\u001B[39m\u001B[49m\u001B[22m\u001B[23m\u001B[24m\u001B[25m\u001B[27m\u001B[28m\u001B[29mINFO\u001B[39m\u001B[49m\u001B[22m\u001B[23m\u001B[24m\u001B[25m\u001B[27m\u001B[28m\u001B[29m\u001B[38;2;97;175;239m: \u001B[39m\u001B[49m\u001B[22m\u001B[23m\u001B[24m\u001B[25m\u001B[27m\u001B[28m\u001B[29m\u001B[35m{\u001B[39m\u001B[49m\u001B[0mstep\u001B[35m: \u001B[39m\u001B[49m\u001B[0m\u001B[34m2006/4352\u001B[39m\u001B[49m\u001B[0m, epoch\u001B[35m: \u001B[39m\u001B[49m\u001B[0m\u001B[34m 59/128\u001B[39m\u001B[49m\u001B[0m, eval/loss\u001B[35m: \u001B[39m\u001B[49m\u001B[0m\u001B[34m2.4699\u001B[39m\u001B[49m\u001B[0m, eval/ntp_acc\u001B[35m: \u001B[39m\u001B[49m\u001B[0m\u001B[34m32.25\u001B[39m\u001B[49m\u001B[0m, eval/ikr\u001B[35m: \u001B[39m\u001B[49m\u001B[0m\u001B[34m47.68\u001B[39m\u001B[49m\u001B[0m\u001B[35m}\u001B[39m\u001B[49m\u001B[0m\u001B[39m\u001B[49m\u001B[22m\u001B[23m\u001B[24m\u001B[25m\u001B[27m\u001B[28m\u001B[29m\n"
     ]
    },
    {
     "data": {
      "application/vnd.jupyter.widget-view+json": {
       "model_id": "0b0e6d41f0b54a7cbb65578e9f7073eb",
       "version_major": 2,
       "version_minor": 0
      },
      "text/plain": [
       "Train Epoch  60/128:   0%|          | 0/34 [00:00<?, ?ba/s]"
      ]
     },
     "metadata": {},
     "output_type": "display_data"
    },
    {
     "metadata": {
      "tags": null
     },
     "name": "stdout",
     "output_type": "stream",
     "text": [
      "\u001B[38;2;0;186;142m2022-08-03 04:56:36\u001B[38;2;97;175;239m|\u001B[39m\u001B[49m\u001B[22m\u001B[23m\u001B[24m\u001B[25m\u001B[27m\u001B[28m\u001B[29m\u001B[38;2;198;120;221m[MyReformerModelWithLMHead Train]\u001B[38;2;97;175;239m::\u001B[38;2;198;120;221m_log\u001B[38;2;97;175;239m::\u001B[38;2;198;120;221mtrain_util_wrap.py\u001B[38;2;97;175;239m:\u001B[38;2;198;120;221m255\u001B[38;2;97;175;239m:\u001B[39m\u001B[49m\u001B[22m\u001B[23m\u001B[24m\u001B[25m\u001B[27m\u001B[28m\u001B[29mINFO\u001B[39m\u001B[49m\u001B[22m\u001B[23m\u001B[24m\u001B[25m\u001B[27m\u001B[28m\u001B[29m\u001B[38;2;97;175;239m: \u001B[39m\u001B[49m\u001B[22m\u001B[23m\u001B[24m\u001B[25m\u001B[27m\u001B[28m\u001B[29m\u001B[35m{\u001B[39m\u001B[49m\u001B[0mstep\u001B[35m: \u001B[39m\u001B[49m\u001B[0m\u001B[34m2040/4352\u001B[39m\u001B[49m\u001B[0m, epoch\u001B[35m: \u001B[39m\u001B[49m\u001B[0m\u001B[34m 60.000/128\u001B[39m\u001B[49m\u001B[0m, train/learning_rate\u001B[35m: \u001B[39m\u001B[49m\u001B[0m\u001B[34m6.400e-06\u001B[39m\u001B[49m\u001B[0m, train/loss\u001B[35m: \u001B[39m\u001B[49m\u001B[0m\u001B[34m2.6223\u001B[39m\u001B[49m\u001B[0m\u001B[35m}\u001B[39m\u001B[49m\u001B[0m\u001B[39m\u001B[49m\u001B[22m\u001B[23m\u001B[24m\u001B[25m\u001B[27m\u001B[28m\u001B[29m\n"
     ]
    },
    {
     "data": {
      "application/vnd.jupyter.widget-view+json": {
       "model_id": "b2f869512f0d4f3fa42212cca55ae694",
       "version_major": 2,
       "version_minor": 0
      },
      "text/plain": [
       "Eval Epoch  60/128:   0%|          | 0/2 [00:00<?, ?ba/s]"
      ]
     },
     "metadata": {},
     "output_type": "display_data"
    },
    {
     "metadata": {
      "tags": null
     },
     "name": "stdout",
     "output_type": "stream",
     "text": [
      "\u001B[38;2;0;186;142m2022-08-03 04:56:38\u001B[38;2;97;175;239m|\u001B[39m\u001B[49m\u001B[22m\u001B[23m\u001B[24m\u001B[25m\u001B[27m\u001B[28m\u001B[29m\u001B[38;2;198;120;221m[MyReformerModelWithLMHead Train]\u001B[38;2;97;175;239m::\u001B[38;2;198;120;221m_log\u001B[38;2;97;175;239m::\u001B[38;2;198;120;221mtrain_util_wrap.py\u001B[38;2;97;175;239m:\u001B[38;2;198;120;221m255\u001B[38;2;97;175;239m:\u001B[39m\u001B[49m\u001B[22m\u001B[23m\u001B[24m\u001B[25m\u001B[27m\u001B[28m\u001B[29mINFO\u001B[39m\u001B[49m\u001B[22m\u001B[23m\u001B[24m\u001B[25m\u001B[27m\u001B[28m\u001B[29m\u001B[38;2;97;175;239m: \u001B[39m\u001B[49m\u001B[22m\u001B[23m\u001B[24m\u001B[25m\u001B[27m\u001B[28m\u001B[29m\u001B[35m{\u001B[39m\u001B[49m\u001B[0mstep\u001B[35m: \u001B[39m\u001B[49m\u001B[0m\u001B[34m2040/4352\u001B[39m\u001B[49m\u001B[0m, epoch\u001B[35m: \u001B[39m\u001B[49m\u001B[0m\u001B[34m 60/128\u001B[39m\u001B[49m\u001B[0m, eval/loss\u001B[35m: \u001B[39m\u001B[49m\u001B[0m\u001B[34m2.4834\u001B[39m\u001B[49m\u001B[0m, eval/ntp_acc\u001B[35m: \u001B[39m\u001B[49m\u001B[0m\u001B[34m31.91\u001B[39m\u001B[49m\u001B[0m, eval/ikr\u001B[35m: \u001B[39m\u001B[49m\u001B[0m\u001B[34m47.41\u001B[39m\u001B[49m\u001B[0m\u001B[35m}\u001B[39m\u001B[49m\u001B[0m\u001B[39m\u001B[49m\u001B[22m\u001B[23m\u001B[24m\u001B[25m\u001B[27m\u001B[28m\u001B[29m\n"
     ]
    },
    {
     "data": {
      "application/vnd.jupyter.widget-view+json": {
       "model_id": "4eb23b10db20464d9c6ff2009e84a507",
       "version_major": 2,
       "version_minor": 0
      },
      "text/plain": [
       "Train Epoch  61/128:   0%|          | 0/34 [00:00<?, ?ba/s]"
      ]
     },
     "metadata": {},
     "output_type": "display_data"
    },
    {
     "metadata": {
      "tags": null
     },
     "name": "stdout",
     "output_type": "stream",
     "text": [
      "\u001B[38;2;0;186;142m2022-08-03 05:01:36\u001B[38;2;97;175;239m|\u001B[39m\u001B[49m\u001B[22m\u001B[23m\u001B[24m\u001B[25m\u001B[27m\u001B[28m\u001B[29m\u001B[38;2;198;120;221m[MyReformerModelWithLMHead Train]\u001B[38;2;97;175;239m::\u001B[38;2;198;120;221m_log\u001B[38;2;97;175;239m::\u001B[38;2;198;120;221mtrain_util_wrap.py\u001B[38;2;97;175;239m:\u001B[38;2;198;120;221m255\u001B[38;2;97;175;239m:\u001B[39m\u001B[49m\u001B[22m\u001B[23m\u001B[24m\u001B[25m\u001B[27m\u001B[28m\u001B[29mINFO\u001B[39m\u001B[49m\u001B[22m\u001B[23m\u001B[24m\u001B[25m\u001B[27m\u001B[28m\u001B[29m\u001B[38;2;97;175;239m: \u001B[39m\u001B[49m\u001B[22m\u001B[23m\u001B[24m\u001B[25m\u001B[27m\u001B[28m\u001B[29m\u001B[35m{\u001B[39m\u001B[49m\u001B[0mstep\u001B[35m: \u001B[39m\u001B[49m\u001B[0m\u001B[34m2074/4352\u001B[39m\u001B[49m\u001B[0m, epoch\u001B[35m: \u001B[39m\u001B[49m\u001B[0m\u001B[34m 61.000/128\u001B[39m\u001B[49m\u001B[0m, train/learning_rate\u001B[35m: \u001B[39m\u001B[49m\u001B[0m\u001B[34m6.300e-06\u001B[39m\u001B[49m\u001B[0m, train/loss\u001B[35m: \u001B[39m\u001B[49m\u001B[0m\u001B[34m2.4752\u001B[39m\u001B[49m\u001B[0m\u001B[35m}\u001B[39m\u001B[49m\u001B[0m\u001B[39m\u001B[49m\u001B[22m\u001B[23m\u001B[24m\u001B[25m\u001B[27m\u001B[28m\u001B[29m\n"
     ]
    },
    {
     "data": {
      "application/vnd.jupyter.widget-view+json": {
       "model_id": "2e9175565459423d88b10990a518228f",
       "version_major": 2,
       "version_minor": 0
      },
      "text/plain": [
       "Eval Epoch  61/128:   0%|          | 0/2 [00:00<?, ?ba/s]"
      ]
     },
     "metadata": {},
     "output_type": "display_data"
    },
    {
     "metadata": {
      "tags": null
     },
     "name": "stdout",
     "output_type": "stream",
     "text": [
      "\u001B[38;2;0;186;142m2022-08-03 05:01:39\u001B[38;2;97;175;239m|\u001B[39m\u001B[49m\u001B[22m\u001B[23m\u001B[24m\u001B[25m\u001B[27m\u001B[28m\u001B[29m\u001B[38;2;198;120;221m[MyReformerModelWithLMHead Train]\u001B[38;2;97;175;239m::\u001B[38;2;198;120;221m_log\u001B[38;2;97;175;239m::\u001B[38;2;198;120;221mtrain_util_wrap.py\u001B[38;2;97;175;239m:\u001B[38;2;198;120;221m255\u001B[38;2;97;175;239m:\u001B[39m\u001B[49m\u001B[22m\u001B[23m\u001B[24m\u001B[25m\u001B[27m\u001B[28m\u001B[29mINFO\u001B[39m\u001B[49m\u001B[22m\u001B[23m\u001B[24m\u001B[25m\u001B[27m\u001B[28m\u001B[29m\u001B[38;2;97;175;239m: \u001B[39m\u001B[49m\u001B[22m\u001B[23m\u001B[24m\u001B[25m\u001B[27m\u001B[28m\u001B[29m\u001B[35m{\u001B[39m\u001B[49m\u001B[0mstep\u001B[35m: \u001B[39m\u001B[49m\u001B[0m\u001B[34m2074/4352\u001B[39m\u001B[49m\u001B[0m, epoch\u001B[35m: \u001B[39m\u001B[49m\u001B[0m\u001B[34m 61/128\u001B[39m\u001B[49m\u001B[0m, eval/loss\u001B[35m: \u001B[39m\u001B[49m\u001B[0m\u001B[34m2.4746\u001B[39m\u001B[49m\u001B[0m, eval/ntp_acc\u001B[35m: \u001B[39m\u001B[49m\u001B[0m\u001B[34m32.03\u001B[39m\u001B[49m\u001B[0m, eval/ikr\u001B[35m: \u001B[39m\u001B[49m\u001B[0m\u001B[34m49.72\u001B[39m\u001B[49m\u001B[0m\u001B[35m}\u001B[39m\u001B[49m\u001B[0m\u001B[39m\u001B[49m\u001B[22m\u001B[23m\u001B[24m\u001B[25m\u001B[27m\u001B[28m\u001B[29m\n"
     ]
    },
    {
     "data": {
      "application/vnd.jupyter.widget-view+json": {
       "model_id": "3b86c66948084606b2de3aaea10a93c0",
       "version_major": 2,
       "version_minor": 0
      },
      "text/plain": [
       "Train Epoch  62/128:   0%|          | 0/34 [00:00<?, ?ba/s]"
      ]
     },
     "metadata": {},
     "output_type": "display_data"
    },
    {
     "metadata": {
      "tags": null
     },
     "name": "stdout",
     "output_type": "stream",
     "text": [
      "\u001B[38;2;0;186;142m2022-08-03 05:06:37\u001B[38;2;97;175;239m|\u001B[39m\u001B[49m\u001B[22m\u001B[23m\u001B[24m\u001B[25m\u001B[27m\u001B[28m\u001B[29m\u001B[38;2;198;120;221m[MyReformerModelWithLMHead Train]\u001B[38;2;97;175;239m::\u001B[38;2;198;120;221m_log\u001B[38;2;97;175;239m::\u001B[38;2;198;120;221mtrain_util_wrap.py\u001B[38;2;97;175;239m:\u001B[38;2;198;120;221m255\u001B[38;2;97;175;239m:\u001B[39m\u001B[49m\u001B[22m\u001B[23m\u001B[24m\u001B[25m\u001B[27m\u001B[28m\u001B[29mINFO\u001B[39m\u001B[49m\u001B[22m\u001B[23m\u001B[24m\u001B[25m\u001B[27m\u001B[28m\u001B[29m\u001B[38;2;97;175;239m: \u001B[39m\u001B[49m\u001B[22m\u001B[23m\u001B[24m\u001B[25m\u001B[27m\u001B[28m\u001B[29m\u001B[35m{\u001B[39m\u001B[49m\u001B[0mstep\u001B[35m: \u001B[39m\u001B[49m\u001B[0m\u001B[34m2108/4352\u001B[39m\u001B[49m\u001B[0m, epoch\u001B[35m: \u001B[39m\u001B[49m\u001B[0m\u001B[34m 62.000/128\u001B[39m\u001B[49m\u001B[0m, train/learning_rate\u001B[35m: \u001B[39m\u001B[49m\u001B[0m\u001B[34m6.100e-06\u001B[39m\u001B[49m\u001B[0m, train/loss\u001B[35m: \u001B[39m\u001B[49m\u001B[0m\u001B[34m2.4681\u001B[39m\u001B[49m\u001B[0m\u001B[35m}\u001B[39m\u001B[49m\u001B[0m\u001B[39m\u001B[49m\u001B[22m\u001B[23m\u001B[24m\u001B[25m\u001B[27m\u001B[28m\u001B[29m\n"
     ]
    },
    {
     "data": {
      "application/vnd.jupyter.widget-view+json": {
       "model_id": "9e89907e4e6949909339d45ebed9eba4",
       "version_major": 2,
       "version_minor": 0
      },
      "text/plain": [
       "Eval Epoch  62/128:   0%|          | 0/2 [00:00<?, ?ba/s]"
      ]
     },
     "metadata": {},
     "output_type": "display_data"
    },
    {
     "metadata": {
      "tags": null
     },
     "name": "stdout",
     "output_type": "stream",
     "text": [
      "\u001B[38;2;0;186;142m2022-08-03 05:06:40\u001B[38;2;97;175;239m|\u001B[39m\u001B[49m\u001B[22m\u001B[23m\u001B[24m\u001B[25m\u001B[27m\u001B[28m\u001B[29m\u001B[38;2;198;120;221m[MyReformerModelWithLMHead Train]\u001B[38;2;97;175;239m::\u001B[38;2;198;120;221m_log\u001B[38;2;97;175;239m::\u001B[38;2;198;120;221mtrain_util_wrap.py\u001B[38;2;97;175;239m:\u001B[38;2;198;120;221m255\u001B[38;2;97;175;239m:\u001B[39m\u001B[49m\u001B[22m\u001B[23m\u001B[24m\u001B[25m\u001B[27m\u001B[28m\u001B[29mINFO\u001B[39m\u001B[49m\u001B[22m\u001B[23m\u001B[24m\u001B[25m\u001B[27m\u001B[28m\u001B[29m\u001B[38;2;97;175;239m: \u001B[39m\u001B[49m\u001B[22m\u001B[23m\u001B[24m\u001B[25m\u001B[27m\u001B[28m\u001B[29m\u001B[35m{\u001B[39m\u001B[49m\u001B[0mstep\u001B[35m: \u001B[39m\u001B[49m\u001B[0m\u001B[34m2108/4352\u001B[39m\u001B[49m\u001B[0m, epoch\u001B[35m: \u001B[39m\u001B[49m\u001B[0m\u001B[34m 62/128\u001B[39m\u001B[49m\u001B[0m, eval/loss\u001B[35m: \u001B[39m\u001B[49m\u001B[0m\u001B[34m2.4657\u001B[39m\u001B[49m\u001B[0m, eval/ntp_acc\u001B[35m: \u001B[39m\u001B[49m\u001B[0m\u001B[34m 32.6\u001B[39m\u001B[49m\u001B[0m, eval/ikr\u001B[35m: \u001B[39m\u001B[49m\u001B[0m\u001B[34m48.92\u001B[39m\u001B[49m\u001B[0m\u001B[35m}\u001B[39m\u001B[49m\u001B[0m\u001B[39m\u001B[49m\u001B[22m\u001B[23m\u001B[24m\u001B[25m\u001B[27m\u001B[28m\u001B[29m\n"
     ]
    },
    {
     "data": {
      "application/vnd.jupyter.widget-view+json": {
       "model_id": "971c466159644583b7cb5201983a867b",
       "version_major": 2,
       "version_minor": 0
      },
      "text/plain": [
       "Train Epoch  63/128:   0%|          | 0/34 [00:00<?, ?ba/s]"
      ]
     },
     "metadata": {},
     "output_type": "display_data"
    },
    {
     "metadata": {
      "tags": null
     },
     "name": "stdout",
     "output_type": "stream",
     "text": [
      "\u001B[38;2;0;186;142m2022-08-03 05:11:37\u001B[38;2;97;175;239m|\u001B[39m\u001B[49m\u001B[22m\u001B[23m\u001B[24m\u001B[25m\u001B[27m\u001B[28m\u001B[29m\u001B[38;2;198;120;221m[MyReformerModelWithLMHead Train]\u001B[38;2;97;175;239m::\u001B[38;2;198;120;221m_log\u001B[38;2;97;175;239m::\u001B[38;2;198;120;221mtrain_util_wrap.py\u001B[38;2;97;175;239m:\u001B[38;2;198;120;221m255\u001B[38;2;97;175;239m:\u001B[39m\u001B[49m\u001B[22m\u001B[23m\u001B[24m\u001B[25m\u001B[27m\u001B[28m\u001B[29mINFO\u001B[39m\u001B[49m\u001B[22m\u001B[23m\u001B[24m\u001B[25m\u001B[27m\u001B[28m\u001B[29m\u001B[38;2;97;175;239m: \u001B[39m\u001B[49m\u001B[22m\u001B[23m\u001B[24m\u001B[25m\u001B[27m\u001B[28m\u001B[29m\u001B[35m{\u001B[39m\u001B[49m\u001B[0mstep\u001B[35m: \u001B[39m\u001B[49m\u001B[0m\u001B[34m2142/4352\u001B[39m\u001B[49m\u001B[0m, epoch\u001B[35m: \u001B[39m\u001B[49m\u001B[0m\u001B[34m 63.000/128\u001B[39m\u001B[49m\u001B[0m, train/learning_rate\u001B[35m: \u001B[39m\u001B[49m\u001B[0m\u001B[34m6.000e-06\u001B[39m\u001B[49m\u001B[0m, train/loss\u001B[35m: \u001B[39m\u001B[49m\u001B[0m\u001B[34m2.5085\u001B[39m\u001B[49m\u001B[0m\u001B[35m}\u001B[39m\u001B[49m\u001B[0m\u001B[39m\u001B[49m\u001B[22m\u001B[23m\u001B[24m\u001B[25m\u001B[27m\u001B[28m\u001B[29m\n"
     ]
    },
    {
     "data": {
      "application/vnd.jupyter.widget-view+json": {
       "model_id": "ab0060fb952a48fba3bbd48f8b83698c",
       "version_major": 2,
       "version_minor": 0
      },
      "text/plain": [
       "Eval Epoch  63/128:   0%|          | 0/2 [00:00<?, ?ba/s]"
      ]
     },
     "metadata": {},
     "output_type": "display_data"
    },
    {
     "metadata": {
      "tags": null
     },
     "name": "stdout",
     "output_type": "stream",
     "text": [
      "\u001B[38;2;0;186;142m2022-08-03 05:11:40\u001B[38;2;97;175;239m|\u001B[39m\u001B[49m\u001B[22m\u001B[23m\u001B[24m\u001B[25m\u001B[27m\u001B[28m\u001B[29m\u001B[38;2;198;120;221m[MyReformerModelWithLMHead Train]\u001B[38;2;97;175;239m::\u001B[38;2;198;120;221m_log\u001B[38;2;97;175;239m::\u001B[38;2;198;120;221mtrain_util_wrap.py\u001B[38;2;97;175;239m:\u001B[38;2;198;120;221m255\u001B[38;2;97;175;239m:\u001B[39m\u001B[49m\u001B[22m\u001B[23m\u001B[24m\u001B[25m\u001B[27m\u001B[28m\u001B[29mINFO\u001B[39m\u001B[49m\u001B[22m\u001B[23m\u001B[24m\u001B[25m\u001B[27m\u001B[28m\u001B[29m\u001B[38;2;97;175;239m: \u001B[39m\u001B[49m\u001B[22m\u001B[23m\u001B[24m\u001B[25m\u001B[27m\u001B[28m\u001B[29m\u001B[35m{\u001B[39m\u001B[49m\u001B[0mstep\u001B[35m: \u001B[39m\u001B[49m\u001B[0m\u001B[34m2142/4352\u001B[39m\u001B[49m\u001B[0m, epoch\u001B[35m: \u001B[39m\u001B[49m\u001B[0m\u001B[34m 63/128\u001B[39m\u001B[49m\u001B[0m, eval/loss\u001B[35m: \u001B[39m\u001B[49m\u001B[0m\u001B[34m2.4763\u001B[39m\u001B[49m\u001B[0m, eval/ntp_acc\u001B[35m: \u001B[39m\u001B[49m\u001B[0m\u001B[34m31.92\u001B[39m\u001B[49m\u001B[0m, eval/ikr\u001B[35m: \u001B[39m\u001B[49m\u001B[0m\u001B[34m48.64\u001B[39m\u001B[49m\u001B[0m\u001B[35m}\u001B[39m\u001B[49m\u001B[0m\u001B[39m\u001B[49m\u001B[22m\u001B[23m\u001B[24m\u001B[25m\u001B[27m\u001B[28m\u001B[29m\n"
     ]
    },
    {
     "data": {
      "application/vnd.jupyter.widget-view+json": {
       "model_id": "657689a03cd64440906b59577b33e861",
       "version_major": 2,
       "version_minor": 0
      },
      "text/plain": [
       "Train Epoch  64/128:   0%|          | 0/34 [00:00<?, ?ba/s]"
      ]
     },
     "metadata": {},
     "output_type": "display_data"
    },
    {
     "metadata": {
      "tags": null
     },
     "name": "stdout",
     "output_type": "stream",
     "text": [
      "\u001B[38;2;0;186;142m2022-08-03 05:16:38\u001B[38;2;97;175;239m|\u001B[39m\u001B[49m\u001B[22m\u001B[23m\u001B[24m\u001B[25m\u001B[27m\u001B[28m\u001B[29m\u001B[38;2;198;120;221m[MyReformerModelWithLMHead Train]\u001B[38;2;97;175;239m::\u001B[38;2;198;120;221m_log\u001B[38;2;97;175;239m::\u001B[38;2;198;120;221mtrain_util_wrap.py\u001B[38;2;97;175;239m:\u001B[38;2;198;120;221m255\u001B[38;2;97;175;239m:\u001B[39m\u001B[49m\u001B[22m\u001B[23m\u001B[24m\u001B[25m\u001B[27m\u001B[28m\u001B[29mINFO\u001B[39m\u001B[49m\u001B[22m\u001B[23m\u001B[24m\u001B[25m\u001B[27m\u001B[28m\u001B[29m\u001B[38;2;97;175;239m: \u001B[39m\u001B[49m\u001B[22m\u001B[23m\u001B[24m\u001B[25m\u001B[27m\u001B[28m\u001B[29m\u001B[35m{\u001B[39m\u001B[49m\u001B[0mstep\u001B[35m: \u001B[39m\u001B[49m\u001B[0m\u001B[34m2176/4352\u001B[39m\u001B[49m\u001B[0m, epoch\u001B[35m: \u001B[39m\u001B[49m\u001B[0m\u001B[34m 64.000/128\u001B[39m\u001B[49m\u001B[0m, train/learning_rate\u001B[35m: \u001B[39m\u001B[49m\u001B[0m\u001B[34m5.900e-06\u001B[39m\u001B[49m\u001B[0m, train/loss\u001B[35m: \u001B[39m\u001B[49m\u001B[0m\u001B[34m2.4867\u001B[39m\u001B[49m\u001B[0m\u001B[35m}\u001B[39m\u001B[49m\u001B[0m\u001B[39m\u001B[49m\u001B[22m\u001B[23m\u001B[24m\u001B[25m\u001B[27m\u001B[28m\u001B[29m\n"
     ]
    },
    {
     "data": {
      "application/vnd.jupyter.widget-view+json": {
       "model_id": "2c23838ba06e4f62b99ed95c0e16c6f1",
       "version_major": 2,
       "version_minor": 0
      },
      "text/plain": [
       "Eval Epoch  64/128:   0%|          | 0/2 [00:00<?, ?ba/s]"
      ]
     },
     "metadata": {},
     "output_type": "display_data"
    },
    {
     "metadata": {
      "tags": null
     },
     "name": "stdout",
     "output_type": "stream",
     "text": [
      "\u001B[38;2;0;186;142m2022-08-03 05:16:45\u001B[38;2;97;175;239m|\u001B[39m\u001B[49m\u001B[22m\u001B[23m\u001B[24m\u001B[25m\u001B[27m\u001B[28m\u001B[29m\u001B[38;2;198;120;221m[MyReformerModelWithLMHead Train]\u001B[38;2;97;175;239m::\u001B[38;2;198;120;221m_log\u001B[38;2;97;175;239m::\u001B[38;2;198;120;221mtrain_util_wrap.py\u001B[38;2;97;175;239m:\u001B[38;2;198;120;221m255\u001B[38;2;97;175;239m:\u001B[39m\u001B[49m\u001B[22m\u001B[23m\u001B[24m\u001B[25m\u001B[27m\u001B[28m\u001B[29mINFO\u001B[39m\u001B[49m\u001B[22m\u001B[23m\u001B[24m\u001B[25m\u001B[27m\u001B[28m\u001B[29m\u001B[38;2;97;175;239m: \u001B[39m\u001B[49m\u001B[22m\u001B[23m\u001B[24m\u001B[25m\u001B[27m\u001B[28m\u001B[29m\u001B[35m{\u001B[39m\u001B[49m\u001B[0mstep\u001B[35m: \u001B[39m\u001B[49m\u001B[0m\u001B[34m2176/4352\u001B[39m\u001B[49m\u001B[0m, epoch\u001B[35m: \u001B[39m\u001B[49m\u001B[0m\u001B[34m 64/128\u001B[39m\u001B[49m\u001B[0m, eval/loss\u001B[35m: \u001B[39m\u001B[49m\u001B[0m\u001B[34m2.4811\u001B[39m\u001B[49m\u001B[0m, eval/ntp_acc\u001B[35m: \u001B[39m\u001B[49m\u001B[0m\u001B[34m31.86\u001B[39m\u001B[49m\u001B[0m, eval/ikr\u001B[35m: \u001B[39m\u001B[49m\u001B[0m\u001B[34m49.05\u001B[39m\u001B[49m\u001B[0m\u001B[35m}\u001B[39m\u001B[49m\u001B[0m\u001B[39m\u001B[49m\u001B[22m\u001B[23m\u001B[24m\u001B[25m\u001B[27m\u001B[28m\u001B[29m\n"
     ]
    },
    {
     "data": {
      "application/vnd.jupyter.widget-view+json": {
       "model_id": "e65de4687dff4a1a83d64feb44f10628",
       "version_major": 2,
       "version_minor": 0
      },
      "text/plain": [
       "Train Epoch  65/128:   0%|          | 0/34 [00:00<?, ?ba/s]"
      ]
     },
     "metadata": {},
     "output_type": "display_data"
    },
    {
     "metadata": {
      "tags": null
     },
     "name": "stdout",
     "output_type": "stream",
     "text": [
      "\u001B[38;2;0;186;142m2022-08-03 05:21:43\u001B[38;2;97;175;239m|\u001B[39m\u001B[49m\u001B[22m\u001B[23m\u001B[24m\u001B[25m\u001B[27m\u001B[28m\u001B[29m\u001B[38;2;198;120;221m[MyReformerModelWithLMHead Train]\u001B[38;2;97;175;239m::\u001B[38;2;198;120;221m_log\u001B[38;2;97;175;239m::\u001B[38;2;198;120;221mtrain_util_wrap.py\u001B[38;2;97;175;239m:\u001B[38;2;198;120;221m255\u001B[38;2;97;175;239m:\u001B[39m\u001B[49m\u001B[22m\u001B[23m\u001B[24m\u001B[25m\u001B[27m\u001B[28m\u001B[29mINFO\u001B[39m\u001B[49m\u001B[22m\u001B[23m\u001B[24m\u001B[25m\u001B[27m\u001B[28m\u001B[29m\u001B[38;2;97;175;239m: \u001B[39m\u001B[49m\u001B[22m\u001B[23m\u001B[24m\u001B[25m\u001B[27m\u001B[28m\u001B[29m\u001B[35m{\u001B[39m\u001B[49m\u001B[0mstep\u001B[35m: \u001B[39m\u001B[49m\u001B[0m\u001B[34m2210/4352\u001B[39m\u001B[49m\u001B[0m, epoch\u001B[35m: \u001B[39m\u001B[49m\u001B[0m\u001B[34m 65.000/128\u001B[39m\u001B[49m\u001B[0m, train/learning_rate\u001B[35m: \u001B[39m\u001B[49m\u001B[0m\u001B[34m5.700e-06\u001B[39m\u001B[49m\u001B[0m, train/loss\u001B[35m: \u001B[39m\u001B[49m\u001B[0m\u001B[34m2.3978\u001B[39m\u001B[49m\u001B[0m\u001B[35m}\u001B[39m\u001B[49m\u001B[0m\u001B[39m\u001B[49m\u001B[22m\u001B[23m\u001B[24m\u001B[25m\u001B[27m\u001B[28m\u001B[29m\n"
     ]
    },
    {
     "data": {
      "application/vnd.jupyter.widget-view+json": {
       "model_id": "e2e790489ea84475b362bbc1d237f454",
       "version_major": 2,
       "version_minor": 0
      },
      "text/plain": [
       "Eval Epoch  65/128:   0%|          | 0/2 [00:00<?, ?ba/s]"
      ]
     },
     "metadata": {},
     "output_type": "display_data"
    },
    {
     "metadata": {
      "tags": null
     },
     "name": "stdout",
     "output_type": "stream",
     "text": [
      "\u001B[38;2;0;186;142m2022-08-03 05:21:46\u001B[38;2;97;175;239m|\u001B[39m\u001B[49m\u001B[22m\u001B[23m\u001B[24m\u001B[25m\u001B[27m\u001B[28m\u001B[29m\u001B[38;2;198;120;221m[MyReformerModelWithLMHead Train]\u001B[38;2;97;175;239m::\u001B[38;2;198;120;221m_log\u001B[38;2;97;175;239m::\u001B[38;2;198;120;221mtrain_util_wrap.py\u001B[38;2;97;175;239m:\u001B[38;2;198;120;221m255\u001B[38;2;97;175;239m:\u001B[39m\u001B[49m\u001B[22m\u001B[23m\u001B[24m\u001B[25m\u001B[27m\u001B[28m\u001B[29mINFO\u001B[39m\u001B[49m\u001B[22m\u001B[23m\u001B[24m\u001B[25m\u001B[27m\u001B[28m\u001B[29m\u001B[38;2;97;175;239m: \u001B[39m\u001B[49m\u001B[22m\u001B[23m\u001B[24m\u001B[25m\u001B[27m\u001B[28m\u001B[29m\u001B[35m{\u001B[39m\u001B[49m\u001B[0mstep\u001B[35m: \u001B[39m\u001B[49m\u001B[0m\u001B[34m2210/4352\u001B[39m\u001B[49m\u001B[0m, epoch\u001B[35m: \u001B[39m\u001B[49m\u001B[0m\u001B[34m 65/128\u001B[39m\u001B[49m\u001B[0m, eval/loss\u001B[35m: \u001B[39m\u001B[49m\u001B[0m\u001B[34m2.4572\u001B[39m\u001B[49m\u001B[0m, eval/ntp_acc\u001B[35m: \u001B[39m\u001B[49m\u001B[0m\u001B[34m32.48\u001B[39m\u001B[49m\u001B[0m, eval/ikr\u001B[35m: \u001B[39m\u001B[49m\u001B[0m\u001B[34m47.75\u001B[39m\u001B[49m\u001B[0m\u001B[35m}\u001B[39m\u001B[49m\u001B[0m\u001B[39m\u001B[49m\u001B[22m\u001B[23m\u001B[24m\u001B[25m\u001B[27m\u001B[28m\u001B[29m\n"
     ]
    },
    {
     "data": {
      "application/vnd.jupyter.widget-view+json": {
       "model_id": "31d4c73d0da34317958c5af9396c2d04",
       "version_major": 2,
       "version_minor": 0
      },
      "text/plain": [
       "Train Epoch  66/128:   0%|          | 0/34 [00:00<?, ?ba/s]"
      ]
     },
     "metadata": {},
     "output_type": "display_data"
    },
    {
     "metadata": {
      "tags": null
     },
     "name": "stdout",
     "output_type": "stream",
     "text": [
      "\u001B[38;2;0;186;142m2022-08-03 05:26:44\u001B[38;2;97;175;239m|\u001B[39m\u001B[49m\u001B[22m\u001B[23m\u001B[24m\u001B[25m\u001B[27m\u001B[28m\u001B[29m\u001B[38;2;198;120;221m[MyReformerModelWithLMHead Train]\u001B[38;2;97;175;239m::\u001B[38;2;198;120;221m_log\u001B[38;2;97;175;239m::\u001B[38;2;198;120;221mtrain_util_wrap.py\u001B[38;2;97;175;239m:\u001B[38;2;198;120;221m255\u001B[38;2;97;175;239m:\u001B[39m\u001B[49m\u001B[22m\u001B[23m\u001B[24m\u001B[25m\u001B[27m\u001B[28m\u001B[29mINFO\u001B[39m\u001B[49m\u001B[22m\u001B[23m\u001B[24m\u001B[25m\u001B[27m\u001B[28m\u001B[29m\u001B[38;2;97;175;239m: \u001B[39m\u001B[49m\u001B[22m\u001B[23m\u001B[24m\u001B[25m\u001B[27m\u001B[28m\u001B[29m\u001B[35m{\u001B[39m\u001B[49m\u001B[0mstep\u001B[35m: \u001B[39m\u001B[49m\u001B[0m\u001B[34m2244/4352\u001B[39m\u001B[49m\u001B[0m, epoch\u001B[35m: \u001B[39m\u001B[49m\u001B[0m\u001B[34m 66.000/128\u001B[39m\u001B[49m\u001B[0m, train/learning_rate\u001B[35m: \u001B[39m\u001B[49m\u001B[0m\u001B[34m5.600e-06\u001B[39m\u001B[49m\u001B[0m, train/loss\u001B[35m: \u001B[39m\u001B[49m\u001B[0m\u001B[34m2.4721\u001B[39m\u001B[49m\u001B[0m\u001B[35m}\u001B[39m\u001B[49m\u001B[0m\u001B[39m\u001B[49m\u001B[22m\u001B[23m\u001B[24m\u001B[25m\u001B[27m\u001B[28m\u001B[29m\n"
     ]
    },
    {
     "data": {
      "application/vnd.jupyter.widget-view+json": {
       "model_id": "84a9aa4879314923a42930bd7a55a127",
       "version_major": 2,
       "version_minor": 0
      },
      "text/plain": [
       "Eval Epoch  66/128:   0%|          | 0/2 [00:00<?, ?ba/s]"
      ]
     },
     "metadata": {},
     "output_type": "display_data"
    },
    {
     "metadata": {
      "tags": null
     },
     "name": "stdout",
     "output_type": "stream",
     "text": [
      "\u001B[38;2;0;186;142m2022-08-03 05:26:46\u001B[38;2;97;175;239m|\u001B[39m\u001B[49m\u001B[22m\u001B[23m\u001B[24m\u001B[25m\u001B[27m\u001B[28m\u001B[29m\u001B[38;2;198;120;221m[MyReformerModelWithLMHead Train]\u001B[38;2;97;175;239m::\u001B[38;2;198;120;221m_log\u001B[38;2;97;175;239m::\u001B[38;2;198;120;221mtrain_util_wrap.py\u001B[38;2;97;175;239m:\u001B[38;2;198;120;221m255\u001B[38;2;97;175;239m:\u001B[39m\u001B[49m\u001B[22m\u001B[23m\u001B[24m\u001B[25m\u001B[27m\u001B[28m\u001B[29mINFO\u001B[39m\u001B[49m\u001B[22m\u001B[23m\u001B[24m\u001B[25m\u001B[27m\u001B[28m\u001B[29m\u001B[38;2;97;175;239m: \u001B[39m\u001B[49m\u001B[22m\u001B[23m\u001B[24m\u001B[25m\u001B[27m\u001B[28m\u001B[29m\u001B[35m{\u001B[39m\u001B[49m\u001B[0mstep\u001B[35m: \u001B[39m\u001B[49m\u001B[0m\u001B[34m2244/4352\u001B[39m\u001B[49m\u001B[0m, epoch\u001B[35m: \u001B[39m\u001B[49m\u001B[0m\u001B[34m 66/128\u001B[39m\u001B[49m\u001B[0m, eval/loss\u001B[35m: \u001B[39m\u001B[49m\u001B[0m\u001B[34m2.453\u001B[39m\u001B[49m\u001B[0m, eval/ntp_acc\u001B[35m: \u001B[39m\u001B[49m\u001B[0m\u001B[34m32.75\u001B[39m\u001B[49m\u001B[0m, eval/ikr\u001B[35m: \u001B[39m\u001B[49m\u001B[0m\u001B[34m47.74\u001B[39m\u001B[49m\u001B[0m\u001B[35m}\u001B[39m\u001B[49m\u001B[0m\u001B[39m\u001B[49m\u001B[22m\u001B[23m\u001B[24m\u001B[25m\u001B[27m\u001B[28m\u001B[29m\n"
     ]
    },
    {
     "data": {
      "application/vnd.jupyter.widget-view+json": {
       "model_id": "2dd2a41cc4714d25bd651bc51b75b582",
       "version_major": 2,
       "version_minor": 0
      },
      "text/plain": [
       "Train Epoch  67/128:   0%|          | 0/34 [00:00<?, ?ba/s]"
      ]
     },
     "metadata": {},
     "output_type": "display_data"
    },
    {
     "metadata": {
      "tags": null
     },
     "name": "stdout",
     "output_type": "stream",
     "text": [
      "\u001B[38;2;0;186;142m2022-08-03 05:31:45\u001B[38;2;97;175;239m|\u001B[39m\u001B[49m\u001B[22m\u001B[23m\u001B[24m\u001B[25m\u001B[27m\u001B[28m\u001B[29m\u001B[38;2;198;120;221m[MyReformerModelWithLMHead Train]\u001B[38;2;97;175;239m::\u001B[38;2;198;120;221m_log\u001B[38;2;97;175;239m::\u001B[38;2;198;120;221mtrain_util_wrap.py\u001B[38;2;97;175;239m:\u001B[38;2;198;120;221m255\u001B[38;2;97;175;239m:\u001B[39m\u001B[49m\u001B[22m\u001B[23m\u001B[24m\u001B[25m\u001B[27m\u001B[28m\u001B[29mINFO\u001B[39m\u001B[49m\u001B[22m\u001B[23m\u001B[24m\u001B[25m\u001B[27m\u001B[28m\u001B[29m\u001B[38;2;97;175;239m: \u001B[39m\u001B[49m\u001B[22m\u001B[23m\u001B[24m\u001B[25m\u001B[27m\u001B[28m\u001B[29m\u001B[35m{\u001B[39m\u001B[49m\u001B[0mstep\u001B[35m: \u001B[39m\u001B[49m\u001B[0m\u001B[34m2278/4352\u001B[39m\u001B[49m\u001B[0m, epoch\u001B[35m: \u001B[39m\u001B[49m\u001B[0m\u001B[34m 67.000/128\u001B[39m\u001B[49m\u001B[0m, train/learning_rate\u001B[35m: \u001B[39m\u001B[49m\u001B[0m\u001B[34m5.500e-06\u001B[39m\u001B[49m\u001B[0m, train/loss\u001B[35m: \u001B[39m\u001B[49m\u001B[0m\u001B[34m2.3861\u001B[39m\u001B[49m\u001B[0m\u001B[35m}\u001B[39m\u001B[49m\u001B[0m\u001B[39m\u001B[49m\u001B[22m\u001B[23m\u001B[24m\u001B[25m\u001B[27m\u001B[28m\u001B[29m\n"
     ]
    },
    {
     "data": {
      "application/vnd.jupyter.widget-view+json": {
       "model_id": "66b064b777ef4b198cfbe02bee8845fd",
       "version_major": 2,
       "version_minor": 0
      },
      "text/plain": [
       "Eval Epoch  67/128:   0%|          | 0/2 [00:00<?, ?ba/s]"
      ]
     },
     "metadata": {},
     "output_type": "display_data"
    },
    {
     "metadata": {
      "tags": null
     },
     "name": "stdout",
     "output_type": "stream",
     "text": [
      "\u001B[38;2;0;186;142m2022-08-03 05:31:47\u001B[38;2;97;175;239m|\u001B[39m\u001B[49m\u001B[22m\u001B[23m\u001B[24m\u001B[25m\u001B[27m\u001B[28m\u001B[29m\u001B[38;2;198;120;221m[MyReformerModelWithLMHead Train]\u001B[38;2;97;175;239m::\u001B[38;2;198;120;221m_log\u001B[38;2;97;175;239m::\u001B[38;2;198;120;221mtrain_util_wrap.py\u001B[38;2;97;175;239m:\u001B[38;2;198;120;221m255\u001B[38;2;97;175;239m:\u001B[39m\u001B[49m\u001B[22m\u001B[23m\u001B[24m\u001B[25m\u001B[27m\u001B[28m\u001B[29mINFO\u001B[39m\u001B[49m\u001B[22m\u001B[23m\u001B[24m\u001B[25m\u001B[27m\u001B[28m\u001B[29m\u001B[38;2;97;175;239m: \u001B[39m\u001B[49m\u001B[22m\u001B[23m\u001B[24m\u001B[25m\u001B[27m\u001B[28m\u001B[29m\u001B[35m{\u001B[39m\u001B[49m\u001B[0mstep\u001B[35m: \u001B[39m\u001B[49m\u001B[0m\u001B[34m2278/4352\u001B[39m\u001B[49m\u001B[0m, epoch\u001B[35m: \u001B[39m\u001B[49m\u001B[0m\u001B[34m 67/128\u001B[39m\u001B[49m\u001B[0m, eval/loss\u001B[35m: \u001B[39m\u001B[49m\u001B[0m\u001B[34m2.4629\u001B[39m\u001B[49m\u001B[0m, eval/ntp_acc\u001B[35m: \u001B[39m\u001B[49m\u001B[0m\u001B[34m32.53\u001B[39m\u001B[49m\u001B[0m, eval/ikr\u001B[35m: \u001B[39m\u001B[49m\u001B[0m\u001B[34m48.37\u001B[39m\u001B[49m\u001B[0m\u001B[35m}\u001B[39m\u001B[49m\u001B[0m\u001B[39m\u001B[49m\u001B[22m\u001B[23m\u001B[24m\u001B[25m\u001B[27m\u001B[28m\u001B[29m\n"
     ]
    },
    {
     "data": {
      "application/vnd.jupyter.widget-view+json": {
       "model_id": "62f43029d5134cb8a73843509bc8dbea",
       "version_major": 2,
       "version_minor": 0
      },
      "text/plain": [
       "Train Epoch  68/128:   0%|          | 0/34 [00:00<?, ?ba/s]"
      ]
     },
     "metadata": {},
     "output_type": "display_data"
    },
    {
     "metadata": {
      "tags": null
     },
     "name": "stdout",
     "output_type": "stream",
     "text": [
      "\u001B[38;2;0;186;142m2022-08-03 05:36:46\u001B[38;2;97;175;239m|\u001B[39m\u001B[49m\u001B[22m\u001B[23m\u001B[24m\u001B[25m\u001B[27m\u001B[28m\u001B[29m\u001B[38;2;198;120;221m[MyReformerModelWithLMHead Train]\u001B[38;2;97;175;239m::\u001B[38;2;198;120;221m_log\u001B[38;2;97;175;239m::\u001B[38;2;198;120;221mtrain_util_wrap.py\u001B[38;2;97;175;239m:\u001B[38;2;198;120;221m255\u001B[38;2;97;175;239m:\u001B[39m\u001B[49m\u001B[22m\u001B[23m\u001B[24m\u001B[25m\u001B[27m\u001B[28m\u001B[29mINFO\u001B[39m\u001B[49m\u001B[22m\u001B[23m\u001B[24m\u001B[25m\u001B[27m\u001B[28m\u001B[29m\u001B[38;2;97;175;239m: \u001B[39m\u001B[49m\u001B[22m\u001B[23m\u001B[24m\u001B[25m\u001B[27m\u001B[28m\u001B[29m\u001B[35m{\u001B[39m\u001B[49m\u001B[0mstep\u001B[35m: \u001B[39m\u001B[49m\u001B[0m\u001B[34m2312/4352\u001B[39m\u001B[49m\u001B[0m, epoch\u001B[35m: \u001B[39m\u001B[49m\u001B[0m\u001B[34m 68.000/128\u001B[39m\u001B[49m\u001B[0m, train/learning_rate\u001B[35m: \u001B[39m\u001B[49m\u001B[0m\u001B[34m5.300e-06\u001B[39m\u001B[49m\u001B[0m, train/loss\u001B[35m: \u001B[39m\u001B[49m\u001B[0m\u001B[34m2.4206\u001B[39m\u001B[49m\u001B[0m\u001B[35m}\u001B[39m\u001B[49m\u001B[0m\u001B[39m\u001B[49m\u001B[22m\u001B[23m\u001B[24m\u001B[25m\u001B[27m\u001B[28m\u001B[29m\n"
     ]
    },
    {
     "data": {
      "application/vnd.jupyter.widget-view+json": {
       "model_id": "94d3cda22ec047dbad07cd913f491c93",
       "version_major": 2,
       "version_minor": 0
      },
      "text/plain": [
       "Eval Epoch  68/128:   0%|          | 0/2 [00:00<?, ?ba/s]"
      ]
     },
     "metadata": {},
     "output_type": "display_data"
    },
    {
     "metadata": {
      "tags": null
     },
     "name": "stdout",
     "output_type": "stream",
     "text": [
      "\u001B[38;2;0;186;142m2022-08-03 05:36:48\u001B[38;2;97;175;239m|\u001B[39m\u001B[49m\u001B[22m\u001B[23m\u001B[24m\u001B[25m\u001B[27m\u001B[28m\u001B[29m\u001B[38;2;198;120;221m[MyReformerModelWithLMHead Train]\u001B[38;2;97;175;239m::\u001B[38;2;198;120;221m_log\u001B[38;2;97;175;239m::\u001B[38;2;198;120;221mtrain_util_wrap.py\u001B[38;2;97;175;239m:\u001B[38;2;198;120;221m255\u001B[38;2;97;175;239m:\u001B[39m\u001B[49m\u001B[22m\u001B[23m\u001B[24m\u001B[25m\u001B[27m\u001B[28m\u001B[29mINFO\u001B[39m\u001B[49m\u001B[22m\u001B[23m\u001B[24m\u001B[25m\u001B[27m\u001B[28m\u001B[29m\u001B[38;2;97;175;239m: \u001B[39m\u001B[49m\u001B[22m\u001B[23m\u001B[24m\u001B[25m\u001B[27m\u001B[28m\u001B[29m\u001B[35m{\u001B[39m\u001B[49m\u001B[0mstep\u001B[35m: \u001B[39m\u001B[49m\u001B[0m\u001B[34m2312/4352\u001B[39m\u001B[49m\u001B[0m, epoch\u001B[35m: \u001B[39m\u001B[49m\u001B[0m\u001B[34m 68/128\u001B[39m\u001B[49m\u001B[0m, eval/loss\u001B[35m: \u001B[39m\u001B[49m\u001B[0m\u001B[34m2.4522\u001B[39m\u001B[49m\u001B[0m, eval/ntp_acc\u001B[35m: \u001B[39m\u001B[49m\u001B[0m\u001B[34m32.76\u001B[39m\u001B[49m\u001B[0m, eval/ikr\u001B[35m: \u001B[39m\u001B[49m\u001B[0m\u001B[34m48.69\u001B[39m\u001B[49m\u001B[0m\u001B[35m}\u001B[39m\u001B[49m\u001B[0m\u001B[39m\u001B[49m\u001B[22m\u001B[23m\u001B[24m\u001B[25m\u001B[27m\u001B[28m\u001B[29m\n"
     ]
    },
    {
     "data": {
      "application/vnd.jupyter.widget-view+json": {
       "model_id": "5c3917c5935c476496a37b27e9d4a472",
       "version_major": 2,
       "version_minor": 0
      },
      "text/plain": [
       "Train Epoch  69/128:   0%|          | 0/34 [00:00<?, ?ba/s]"
      ]
     },
     "metadata": {},
     "output_type": "display_data"
    },
    {
     "metadata": {
      "tags": null
     },
     "name": "stdout",
     "output_type": "stream",
     "text": [
      "\u001B[38;2;0;186;142m2022-08-03 05:41:46\u001B[38;2;97;175;239m|\u001B[39m\u001B[49m\u001B[22m\u001B[23m\u001B[24m\u001B[25m\u001B[27m\u001B[28m\u001B[29m\u001B[38;2;198;120;221m[MyReformerModelWithLMHead Train]\u001B[38;2;97;175;239m::\u001B[38;2;198;120;221m_log\u001B[38;2;97;175;239m::\u001B[38;2;198;120;221mtrain_util_wrap.py\u001B[38;2;97;175;239m:\u001B[38;2;198;120;221m255\u001B[38;2;97;175;239m:\u001B[39m\u001B[49m\u001B[22m\u001B[23m\u001B[24m\u001B[25m\u001B[27m\u001B[28m\u001B[29mINFO\u001B[39m\u001B[49m\u001B[22m\u001B[23m\u001B[24m\u001B[25m\u001B[27m\u001B[28m\u001B[29m\u001B[38;2;97;175;239m: \u001B[39m\u001B[49m\u001B[22m\u001B[23m\u001B[24m\u001B[25m\u001B[27m\u001B[28m\u001B[29m\u001B[35m{\u001B[39m\u001B[49m\u001B[0mstep\u001B[35m: \u001B[39m\u001B[49m\u001B[0m\u001B[34m2346/4352\u001B[39m\u001B[49m\u001B[0m, epoch\u001B[35m: \u001B[39m\u001B[49m\u001B[0m\u001B[34m 69.000/128\u001B[39m\u001B[49m\u001B[0m, train/learning_rate\u001B[35m: \u001B[39m\u001B[49m\u001B[0m\u001B[34m5.200e-06\u001B[39m\u001B[49m\u001B[0m, train/loss\u001B[35m: \u001B[39m\u001B[49m\u001B[0m\u001B[34m 2.47\u001B[39m\u001B[49m\u001B[0m\u001B[35m}\u001B[39m\u001B[49m\u001B[0m\u001B[39m\u001B[49m\u001B[22m\u001B[23m\u001B[24m\u001B[25m\u001B[27m\u001B[28m\u001B[29m\n"
     ]
    },
    {
     "data": {
      "application/vnd.jupyter.widget-view+json": {
       "model_id": "202cf5ec783b413186de4537f5027755",
       "version_major": 2,
       "version_minor": 0
      },
      "text/plain": [
       "Eval Epoch  69/128:   0%|          | 0/2 [00:00<?, ?ba/s]"
      ]
     },
     "metadata": {},
     "output_type": "display_data"
    },
    {
     "metadata": {
      "tags": null
     },
     "name": "stdout",
     "output_type": "stream",
     "text": [
      "\u001B[38;2;0;186;142m2022-08-03 05:41:49\u001B[38;2;97;175;239m|\u001B[39m\u001B[49m\u001B[22m\u001B[23m\u001B[24m\u001B[25m\u001B[27m\u001B[28m\u001B[29m\u001B[38;2;198;120;221m[MyReformerModelWithLMHead Train]\u001B[38;2;97;175;239m::\u001B[38;2;198;120;221m_log\u001B[38;2;97;175;239m::\u001B[38;2;198;120;221mtrain_util_wrap.py\u001B[38;2;97;175;239m:\u001B[38;2;198;120;221m255\u001B[38;2;97;175;239m:\u001B[39m\u001B[49m\u001B[22m\u001B[23m\u001B[24m\u001B[25m\u001B[27m\u001B[28m\u001B[29mINFO\u001B[39m\u001B[49m\u001B[22m\u001B[23m\u001B[24m\u001B[25m\u001B[27m\u001B[28m\u001B[29m\u001B[38;2;97;175;239m: \u001B[39m\u001B[49m\u001B[22m\u001B[23m\u001B[24m\u001B[25m\u001B[27m\u001B[28m\u001B[29m\u001B[35m{\u001B[39m\u001B[49m\u001B[0mstep\u001B[35m: \u001B[39m\u001B[49m\u001B[0m\u001B[34m2346/4352\u001B[39m\u001B[49m\u001B[0m, epoch\u001B[35m: \u001B[39m\u001B[49m\u001B[0m\u001B[34m 69/128\u001B[39m\u001B[49m\u001B[0m, eval/loss\u001B[35m: \u001B[39m\u001B[49m\u001B[0m\u001B[34m2.4472\u001B[39m\u001B[49m\u001B[0m, eval/ntp_acc\u001B[35m: \u001B[39m\u001B[49m\u001B[0m\u001B[34m33.02\u001B[39m\u001B[49m\u001B[0m, eval/ikr\u001B[35m: \u001B[39m\u001B[49m\u001B[0m\u001B[34m 48.4\u001B[39m\u001B[49m\u001B[0m\u001B[35m}\u001B[39m\u001B[49m\u001B[0m\u001B[39m\u001B[49m\u001B[22m\u001B[23m\u001B[24m\u001B[25m\u001B[27m\u001B[28m\u001B[29m\n"
     ]
    },
    {
     "data": {
      "application/vnd.jupyter.widget-view+json": {
       "model_id": "c02ba3a894a34dd49848dc45383166d3",
       "version_major": 2,
       "version_minor": 0
      },
      "text/plain": [
       "Train Epoch  70/128:   0%|          | 0/34 [00:00<?, ?ba/s]"
      ]
     },
     "metadata": {},
     "output_type": "display_data"
    },
    {
     "metadata": {
      "tags": null
     },
     "name": "stdout",
     "output_type": "stream",
     "text": [
      "\u001B[38;2;0;186;142m2022-08-03 05:46:47\u001B[38;2;97;175;239m|\u001B[39m\u001B[49m\u001B[22m\u001B[23m\u001B[24m\u001B[25m\u001B[27m\u001B[28m\u001B[29m\u001B[38;2;198;120;221m[MyReformerModelWithLMHead Train]\u001B[38;2;97;175;239m::\u001B[38;2;198;120;221m_log\u001B[38;2;97;175;239m::\u001B[38;2;198;120;221mtrain_util_wrap.py\u001B[38;2;97;175;239m:\u001B[38;2;198;120;221m255\u001B[38;2;97;175;239m:\u001B[39m\u001B[49m\u001B[22m\u001B[23m\u001B[24m\u001B[25m\u001B[27m\u001B[28m\u001B[29mINFO\u001B[39m\u001B[49m\u001B[22m\u001B[23m\u001B[24m\u001B[25m\u001B[27m\u001B[28m\u001B[29m\u001B[38;2;97;175;239m: \u001B[39m\u001B[49m\u001B[22m\u001B[23m\u001B[24m\u001B[25m\u001B[27m\u001B[28m\u001B[29m\u001B[35m{\u001B[39m\u001B[49m\u001B[0mstep\u001B[35m: \u001B[39m\u001B[49m\u001B[0m\u001B[34m2380/4352\u001B[39m\u001B[49m\u001B[0m, epoch\u001B[35m: \u001B[39m\u001B[49m\u001B[0m\u001B[34m 70.000/128\u001B[39m\u001B[49m\u001B[0m, train/learning_rate\u001B[35m: \u001B[39m\u001B[49m\u001B[0m\u001B[34m5.100e-06\u001B[39m\u001B[49m\u001B[0m, train/loss\u001B[35m: \u001B[39m\u001B[49m\u001B[0m\u001B[34m2.4768\u001B[39m\u001B[49m\u001B[0m\u001B[35m}\u001B[39m\u001B[49m\u001B[0m\u001B[39m\u001B[49m\u001B[22m\u001B[23m\u001B[24m\u001B[25m\u001B[27m\u001B[28m\u001B[29m\n"
     ]
    },
    {
     "data": {
      "application/vnd.jupyter.widget-view+json": {
       "model_id": "2adc09e72d124561a62eb52d4c0f21d1",
       "version_major": 2,
       "version_minor": 0
      },
      "text/plain": [
       "Eval Epoch  70/128:   0%|          | 0/2 [00:00<?, ?ba/s]"
      ]
     },
     "metadata": {},
     "output_type": "display_data"
    },
    {
     "metadata": {
      "tags": null
     },
     "name": "stdout",
     "output_type": "stream",
     "text": [
      "\u001B[38;2;0;186;142m2022-08-03 05:46:50\u001B[38;2;97;175;239m|\u001B[39m\u001B[49m\u001B[22m\u001B[23m\u001B[24m\u001B[25m\u001B[27m\u001B[28m\u001B[29m\u001B[38;2;198;120;221m[MyReformerModelWithLMHead Train]\u001B[38;2;97;175;239m::\u001B[38;2;198;120;221m_log\u001B[38;2;97;175;239m::\u001B[38;2;198;120;221mtrain_util_wrap.py\u001B[38;2;97;175;239m:\u001B[38;2;198;120;221m255\u001B[38;2;97;175;239m:\u001B[39m\u001B[49m\u001B[22m\u001B[23m\u001B[24m\u001B[25m\u001B[27m\u001B[28m\u001B[29mINFO\u001B[39m\u001B[49m\u001B[22m\u001B[23m\u001B[24m\u001B[25m\u001B[27m\u001B[28m\u001B[29m\u001B[38;2;97;175;239m: \u001B[39m\u001B[49m\u001B[22m\u001B[23m\u001B[24m\u001B[25m\u001B[27m\u001B[28m\u001B[29m\u001B[35m{\u001B[39m\u001B[49m\u001B[0mstep\u001B[35m: \u001B[39m\u001B[49m\u001B[0m\u001B[34m2380/4352\u001B[39m\u001B[49m\u001B[0m, epoch\u001B[35m: \u001B[39m\u001B[49m\u001B[0m\u001B[34m 70/128\u001B[39m\u001B[49m\u001B[0m, eval/loss\u001B[35m: \u001B[39m\u001B[49m\u001B[0m\u001B[34m2.4484\u001B[39m\u001B[49m\u001B[0m, eval/ntp_acc\u001B[35m: \u001B[39m\u001B[49m\u001B[0m\u001B[34m32.65\u001B[39m\u001B[49m\u001B[0m, eval/ikr\u001B[35m: \u001B[39m\u001B[49m\u001B[0m\u001B[34m49.16\u001B[39m\u001B[49m\u001B[0m\u001B[35m}\u001B[39m\u001B[49m\u001B[0m\u001B[39m\u001B[49m\u001B[22m\u001B[23m\u001B[24m\u001B[25m\u001B[27m\u001B[28m\u001B[29m\n"
     ]
    },
    {
     "data": {
      "application/vnd.jupyter.widget-view+json": {
       "model_id": "5b4d19a480b14c348447644a4a189be7",
       "version_major": 2,
       "version_minor": 0
      },
      "text/plain": [
       "Train Epoch  71/128:   0%|          | 0/34 [00:00<?, ?ba/s]"
      ]
     },
     "metadata": {},
     "output_type": "display_data"
    },
    {
     "metadata": {
      "tags": null
     },
     "name": "stdout",
     "output_type": "stream",
     "text": [
      "\u001B[38;2;0;186;142m2022-08-03 05:51:48\u001B[38;2;97;175;239m|\u001B[39m\u001B[49m\u001B[22m\u001B[23m\u001B[24m\u001B[25m\u001B[27m\u001B[28m\u001B[29m\u001B[38;2;198;120;221m[MyReformerModelWithLMHead Train]\u001B[38;2;97;175;239m::\u001B[38;2;198;120;221m_log\u001B[38;2;97;175;239m::\u001B[38;2;198;120;221mtrain_util_wrap.py\u001B[38;2;97;175;239m:\u001B[38;2;198;120;221m255\u001B[38;2;97;175;239m:\u001B[39m\u001B[49m\u001B[22m\u001B[23m\u001B[24m\u001B[25m\u001B[27m\u001B[28m\u001B[29mINFO\u001B[39m\u001B[49m\u001B[22m\u001B[23m\u001B[24m\u001B[25m\u001B[27m\u001B[28m\u001B[29m\u001B[38;2;97;175;239m: \u001B[39m\u001B[49m\u001B[22m\u001B[23m\u001B[24m\u001B[25m\u001B[27m\u001B[28m\u001B[29m\u001B[35m{\u001B[39m\u001B[49m\u001B[0mstep\u001B[35m: \u001B[39m\u001B[49m\u001B[0m\u001B[34m2414/4352\u001B[39m\u001B[49m\u001B[0m, epoch\u001B[35m: \u001B[39m\u001B[49m\u001B[0m\u001B[34m 71.000/128\u001B[39m\u001B[49m\u001B[0m, train/learning_rate\u001B[35m: \u001B[39m\u001B[49m\u001B[0m\u001B[34m4.900e-06\u001B[39m\u001B[49m\u001B[0m, train/loss\u001B[35m: \u001B[39m\u001B[49m\u001B[0m\u001B[34m2.4221\u001B[39m\u001B[49m\u001B[0m\u001B[35m}\u001B[39m\u001B[49m\u001B[0m\u001B[39m\u001B[49m\u001B[22m\u001B[23m\u001B[24m\u001B[25m\u001B[27m\u001B[28m\u001B[29m\n"
     ]
    },
    {
     "data": {
      "application/vnd.jupyter.widget-view+json": {
       "model_id": "9f5d2fd44bf343719a475dc5c32ff843",
       "version_major": 2,
       "version_minor": 0
      },
      "text/plain": [
       "Eval Epoch  71/128:   0%|          | 0/2 [00:00<?, ?ba/s]"
      ]
     },
     "metadata": {},
     "output_type": "display_data"
    },
    {
     "metadata": {
      "tags": null
     },
     "name": "stdout",
     "output_type": "stream",
     "text": [
      "\u001B[38;2;0;186;142m2022-08-03 05:51:51\u001B[38;2;97;175;239m|\u001B[39m\u001B[49m\u001B[22m\u001B[23m\u001B[24m\u001B[25m\u001B[27m\u001B[28m\u001B[29m\u001B[38;2;198;120;221m[MyReformerModelWithLMHead Train]\u001B[38;2;97;175;239m::\u001B[38;2;198;120;221m_log\u001B[38;2;97;175;239m::\u001B[38;2;198;120;221mtrain_util_wrap.py\u001B[38;2;97;175;239m:\u001B[38;2;198;120;221m255\u001B[38;2;97;175;239m:\u001B[39m\u001B[49m\u001B[22m\u001B[23m\u001B[24m\u001B[25m\u001B[27m\u001B[28m\u001B[29mINFO\u001B[39m\u001B[49m\u001B[22m\u001B[23m\u001B[24m\u001B[25m\u001B[27m\u001B[28m\u001B[29m\u001B[38;2;97;175;239m: \u001B[39m\u001B[49m\u001B[22m\u001B[23m\u001B[24m\u001B[25m\u001B[27m\u001B[28m\u001B[29m\u001B[35m{\u001B[39m\u001B[49m\u001B[0mstep\u001B[35m: \u001B[39m\u001B[49m\u001B[0m\u001B[34m2414/4352\u001B[39m\u001B[49m\u001B[0m, epoch\u001B[35m: \u001B[39m\u001B[49m\u001B[0m\u001B[34m 71/128\u001B[39m\u001B[49m\u001B[0m, eval/loss\u001B[35m: \u001B[39m\u001B[49m\u001B[0m\u001B[34m2.4434\u001B[39m\u001B[49m\u001B[0m, eval/ntp_acc\u001B[35m: \u001B[39m\u001B[49m\u001B[0m\u001B[34m33.16\u001B[39m\u001B[49m\u001B[0m, eval/ikr\u001B[35m: \u001B[39m\u001B[49m\u001B[0m\u001B[34m48.76\u001B[39m\u001B[49m\u001B[0m\u001B[35m}\u001B[39m\u001B[49m\u001B[0m\u001B[39m\u001B[49m\u001B[22m\u001B[23m\u001B[24m\u001B[25m\u001B[27m\u001B[28m\u001B[29m\n"
     ]
    },
    {
     "data": {
      "application/vnd.jupyter.widget-view+json": {
       "model_id": "073d2687e7e840c6902163cc9bf13964",
       "version_major": 2,
       "version_minor": 0
      },
      "text/plain": [
       "Train Epoch  72/128:   0%|          | 0/34 [00:00<?, ?ba/s]"
      ]
     },
     "metadata": {},
     "output_type": "display_data"
    },
    {
     "metadata": {
      "tags": null
     },
     "name": "stdout",
     "output_type": "stream",
     "text": [
      "\u001B[38;2;0;186;142m2022-08-03 05:56:49\u001B[38;2;97;175;239m|\u001B[39m\u001B[49m\u001B[22m\u001B[23m\u001B[24m\u001B[25m\u001B[27m\u001B[28m\u001B[29m\u001B[38;2;198;120;221m[MyReformerModelWithLMHead Train]\u001B[38;2;97;175;239m::\u001B[38;2;198;120;221m_log\u001B[38;2;97;175;239m::\u001B[38;2;198;120;221mtrain_util_wrap.py\u001B[38;2;97;175;239m:\u001B[38;2;198;120;221m255\u001B[38;2;97;175;239m:\u001B[39m\u001B[49m\u001B[22m\u001B[23m\u001B[24m\u001B[25m\u001B[27m\u001B[28m\u001B[29mINFO\u001B[39m\u001B[49m\u001B[22m\u001B[23m\u001B[24m\u001B[25m\u001B[27m\u001B[28m\u001B[29m\u001B[38;2;97;175;239m: \u001B[39m\u001B[49m\u001B[22m\u001B[23m\u001B[24m\u001B[25m\u001B[27m\u001B[28m\u001B[29m\u001B[35m{\u001B[39m\u001B[49m\u001B[0mstep\u001B[35m: \u001B[39m\u001B[49m\u001B[0m\u001B[34m2448/4352\u001B[39m\u001B[49m\u001B[0m, epoch\u001B[35m: \u001B[39m\u001B[49m\u001B[0m\u001B[34m 72.000/128\u001B[39m\u001B[49m\u001B[0m, train/learning_rate\u001B[35m: \u001B[39m\u001B[49m\u001B[0m\u001B[34m4.800e-06\u001B[39m\u001B[49m\u001B[0m, train/loss\u001B[35m: \u001B[39m\u001B[49m\u001B[0m\u001B[34m2.5087\u001B[39m\u001B[49m\u001B[0m\u001B[35m}\u001B[39m\u001B[49m\u001B[0m\u001B[39m\u001B[49m\u001B[22m\u001B[23m\u001B[24m\u001B[25m\u001B[27m\u001B[28m\u001B[29m\n"
     ]
    },
    {
     "data": {
      "application/vnd.jupyter.widget-view+json": {
       "model_id": "948b758444934c9c9baa3eed072e13df",
       "version_major": 2,
       "version_minor": 0
      },
      "text/plain": [
       "Eval Epoch  72/128:   0%|          | 0/2 [00:00<?, ?ba/s]"
      ]
     },
     "metadata": {},
     "output_type": "display_data"
    },
    {
     "metadata": {
      "tags": null
     },
     "name": "stdout",
     "output_type": "stream",
     "text": [
      "\u001B[38;2;0;186;142m2022-08-03 05:56:51\u001B[38;2;97;175;239m|\u001B[39m\u001B[49m\u001B[22m\u001B[23m\u001B[24m\u001B[25m\u001B[27m\u001B[28m\u001B[29m\u001B[38;2;198;120;221m[MyReformerModelWithLMHead Train]\u001B[38;2;97;175;239m::\u001B[38;2;198;120;221m_log\u001B[38;2;97;175;239m::\u001B[38;2;198;120;221mtrain_util_wrap.py\u001B[38;2;97;175;239m:\u001B[38;2;198;120;221m255\u001B[38;2;97;175;239m:\u001B[39m\u001B[49m\u001B[22m\u001B[23m\u001B[24m\u001B[25m\u001B[27m\u001B[28m\u001B[29mINFO\u001B[39m\u001B[49m\u001B[22m\u001B[23m\u001B[24m\u001B[25m\u001B[27m\u001B[28m\u001B[29m\u001B[38;2;97;175;239m: \u001B[39m\u001B[49m\u001B[22m\u001B[23m\u001B[24m\u001B[25m\u001B[27m\u001B[28m\u001B[29m\u001B[35m{\u001B[39m\u001B[49m\u001B[0mstep\u001B[35m: \u001B[39m\u001B[49m\u001B[0m\u001B[34m2448/4352\u001B[39m\u001B[49m\u001B[0m, epoch\u001B[35m: \u001B[39m\u001B[49m\u001B[0m\u001B[34m 72/128\u001B[39m\u001B[49m\u001B[0m, eval/loss\u001B[35m: \u001B[39m\u001B[49m\u001B[0m\u001B[34m2.4322\u001B[39m\u001B[49m\u001B[0m, eval/ntp_acc\u001B[35m: \u001B[39m\u001B[49m\u001B[0m\u001B[34m33.41\u001B[39m\u001B[49m\u001B[0m, eval/ikr\u001B[35m: \u001B[39m\u001B[49m\u001B[0m\u001B[34m 49.5\u001B[39m\u001B[49m\u001B[0m\u001B[35m}\u001B[39m\u001B[49m\u001B[0m\u001B[39m\u001B[49m\u001B[22m\u001B[23m\u001B[24m\u001B[25m\u001B[27m\u001B[28m\u001B[29m\n"
     ]
    },
    {
     "data": {
      "application/vnd.jupyter.widget-view+json": {
       "model_id": "6f6602fa2b56404391ae0205f504c979",
       "version_major": 2,
       "version_minor": 0
      },
      "text/plain": [
       "Train Epoch  73/128:   0%|          | 0/34 [00:00<?, ?ba/s]"
      ]
     },
     "metadata": {},
     "output_type": "display_data"
    },
    {
     "metadata": {
      "tags": null
     },
     "name": "stdout",
     "output_type": "stream",
     "text": [
      "\u001B[38;2;0;186;142m2022-08-03 06:01:49\u001B[38;2;97;175;239m|\u001B[39m\u001B[49m\u001B[22m\u001B[23m\u001B[24m\u001B[25m\u001B[27m\u001B[28m\u001B[29m\u001B[38;2;198;120;221m[MyReformerModelWithLMHead Train]\u001B[38;2;97;175;239m::\u001B[38;2;198;120;221m_log\u001B[38;2;97;175;239m::\u001B[38;2;198;120;221mtrain_util_wrap.py\u001B[38;2;97;175;239m:\u001B[38;2;198;120;221m255\u001B[38;2;97;175;239m:\u001B[39m\u001B[49m\u001B[22m\u001B[23m\u001B[24m\u001B[25m\u001B[27m\u001B[28m\u001B[29mINFO\u001B[39m\u001B[49m\u001B[22m\u001B[23m\u001B[24m\u001B[25m\u001B[27m\u001B[28m\u001B[29m\u001B[38;2;97;175;239m: \u001B[39m\u001B[49m\u001B[22m\u001B[23m\u001B[24m\u001B[25m\u001B[27m\u001B[28m\u001B[29m\u001B[35m{\u001B[39m\u001B[49m\u001B[0mstep\u001B[35m: \u001B[39m\u001B[49m\u001B[0m\u001B[34m2482/4352\u001B[39m\u001B[49m\u001B[0m, epoch\u001B[35m: \u001B[39m\u001B[49m\u001B[0m\u001B[34m 73.000/128\u001B[39m\u001B[49m\u001B[0m, train/learning_rate\u001B[35m: \u001B[39m\u001B[49m\u001B[0m\u001B[34m4.600e-06\u001B[39m\u001B[49m\u001B[0m, train/loss\u001B[35m: \u001B[39m\u001B[49m\u001B[0m\u001B[34m2.4682\u001B[39m\u001B[49m\u001B[0m\u001B[35m}\u001B[39m\u001B[49m\u001B[0m\u001B[39m\u001B[49m\u001B[22m\u001B[23m\u001B[24m\u001B[25m\u001B[27m\u001B[28m\u001B[29m\n"
     ]
    },
    {
     "data": {
      "application/vnd.jupyter.widget-view+json": {
       "model_id": "f85c877fc86e4dd6833c1fd30263b752",
       "version_major": 2,
       "version_minor": 0
      },
      "text/plain": [
       "Eval Epoch  73/128:   0%|          | 0/2 [00:00<?, ?ba/s]"
      ]
     },
     "metadata": {},
     "output_type": "display_data"
    },
    {
     "metadata": {
      "tags": null
     },
     "name": "stdout",
     "output_type": "stream",
     "text": [
      "\u001B[38;2;0;186;142m2022-08-03 06:01:52\u001B[38;2;97;175;239m|\u001B[39m\u001B[49m\u001B[22m\u001B[23m\u001B[24m\u001B[25m\u001B[27m\u001B[28m\u001B[29m\u001B[38;2;198;120;221m[MyReformerModelWithLMHead Train]\u001B[38;2;97;175;239m::\u001B[38;2;198;120;221m_log\u001B[38;2;97;175;239m::\u001B[38;2;198;120;221mtrain_util_wrap.py\u001B[38;2;97;175;239m:\u001B[38;2;198;120;221m255\u001B[38;2;97;175;239m:\u001B[39m\u001B[49m\u001B[22m\u001B[23m\u001B[24m\u001B[25m\u001B[27m\u001B[28m\u001B[29mINFO\u001B[39m\u001B[49m\u001B[22m\u001B[23m\u001B[24m\u001B[25m\u001B[27m\u001B[28m\u001B[29m\u001B[38;2;97;175;239m: \u001B[39m\u001B[49m\u001B[22m\u001B[23m\u001B[24m\u001B[25m\u001B[27m\u001B[28m\u001B[29m\u001B[35m{\u001B[39m\u001B[49m\u001B[0mstep\u001B[35m: \u001B[39m\u001B[49m\u001B[0m\u001B[34m2482/4352\u001B[39m\u001B[49m\u001B[0m, epoch\u001B[35m: \u001B[39m\u001B[49m\u001B[0m\u001B[34m 73/128\u001B[39m\u001B[49m\u001B[0m, eval/loss\u001B[35m: \u001B[39m\u001B[49m\u001B[0m\u001B[34m2.4268\u001B[39m\u001B[49m\u001B[0m, eval/ntp_acc\u001B[35m: \u001B[39m\u001B[49m\u001B[0m\u001B[34m33.32\u001B[39m\u001B[49m\u001B[0m, eval/ikr\u001B[35m: \u001B[39m\u001B[49m\u001B[0m\u001B[34m48.89\u001B[39m\u001B[49m\u001B[0m\u001B[35m}\u001B[39m\u001B[49m\u001B[0m\u001B[39m\u001B[49m\u001B[22m\u001B[23m\u001B[24m\u001B[25m\u001B[27m\u001B[28m\u001B[29m\n"
     ]
    },
    {
     "data": {
      "application/vnd.jupyter.widget-view+json": {
       "model_id": "2c1756fb24eb4816b4ae8a06237b74a2",
       "version_major": 2,
       "version_minor": 0
      },
      "text/plain": [
       "Train Epoch  74/128:   0%|          | 0/34 [00:00<?, ?ba/s]"
      ]
     },
     "metadata": {},
     "output_type": "display_data"
    },
    {
     "metadata": {
      "tags": null
     },
     "name": "stdout",
     "output_type": "stream",
     "text": [
      "\u001B[38;2;0;186;142m2022-08-03 06:06:50\u001B[38;2;97;175;239m|\u001B[39m\u001B[49m\u001B[22m\u001B[23m\u001B[24m\u001B[25m\u001B[27m\u001B[28m\u001B[29m\u001B[38;2;198;120;221m[MyReformerModelWithLMHead Train]\u001B[38;2;97;175;239m::\u001B[38;2;198;120;221m_log\u001B[38;2;97;175;239m::\u001B[38;2;198;120;221mtrain_util_wrap.py\u001B[38;2;97;175;239m:\u001B[38;2;198;120;221m255\u001B[38;2;97;175;239m:\u001B[39m\u001B[49m\u001B[22m\u001B[23m\u001B[24m\u001B[25m\u001B[27m\u001B[28m\u001B[29mINFO\u001B[39m\u001B[49m\u001B[22m\u001B[23m\u001B[24m\u001B[25m\u001B[27m\u001B[28m\u001B[29m\u001B[38;2;97;175;239m: \u001B[39m\u001B[49m\u001B[22m\u001B[23m\u001B[24m\u001B[25m\u001B[27m\u001B[28m\u001B[29m\u001B[35m{\u001B[39m\u001B[49m\u001B[0mstep\u001B[35m: \u001B[39m\u001B[49m\u001B[0m\u001B[34m2516/4352\u001B[39m\u001B[49m\u001B[0m, epoch\u001B[35m: \u001B[39m\u001B[49m\u001B[0m\u001B[34m 74.000/128\u001B[39m\u001B[49m\u001B[0m, train/learning_rate\u001B[35m: \u001B[39m\u001B[49m\u001B[0m\u001B[34m4.500e-06\u001B[39m\u001B[49m\u001B[0m, train/loss\u001B[35m: \u001B[39m\u001B[49m\u001B[0m\u001B[34m2.3564\u001B[39m\u001B[49m\u001B[0m\u001B[35m}\u001B[39m\u001B[49m\u001B[0m\u001B[39m\u001B[49m\u001B[22m\u001B[23m\u001B[24m\u001B[25m\u001B[27m\u001B[28m\u001B[29m\n"
     ]
    },
    {
     "data": {
      "application/vnd.jupyter.widget-view+json": {
       "model_id": "d989bc809158410e968ec1f499f55161",
       "version_major": 2,
       "version_minor": 0
      },
      "text/plain": [
       "Eval Epoch  74/128:   0%|          | 0/2 [00:00<?, ?ba/s]"
      ]
     },
     "metadata": {},
     "output_type": "display_data"
    },
    {
     "metadata": {
      "tags": null
     },
     "name": "stdout",
     "output_type": "stream",
     "text": [
      "\u001B[38;2;0;186;142m2022-08-03 06:06:53\u001B[38;2;97;175;239m|\u001B[39m\u001B[49m\u001B[22m\u001B[23m\u001B[24m\u001B[25m\u001B[27m\u001B[28m\u001B[29m\u001B[38;2;198;120;221m[MyReformerModelWithLMHead Train]\u001B[38;2;97;175;239m::\u001B[38;2;198;120;221m_log\u001B[38;2;97;175;239m::\u001B[38;2;198;120;221mtrain_util_wrap.py\u001B[38;2;97;175;239m:\u001B[38;2;198;120;221m255\u001B[38;2;97;175;239m:\u001B[39m\u001B[49m\u001B[22m\u001B[23m\u001B[24m\u001B[25m\u001B[27m\u001B[28m\u001B[29mINFO\u001B[39m\u001B[49m\u001B[22m\u001B[23m\u001B[24m\u001B[25m\u001B[27m\u001B[28m\u001B[29m\u001B[38;2;97;175;239m: \u001B[39m\u001B[49m\u001B[22m\u001B[23m\u001B[24m\u001B[25m\u001B[27m\u001B[28m\u001B[29m\u001B[35m{\u001B[39m\u001B[49m\u001B[0mstep\u001B[35m: \u001B[39m\u001B[49m\u001B[0m\u001B[34m2516/4352\u001B[39m\u001B[49m\u001B[0m, epoch\u001B[35m: \u001B[39m\u001B[49m\u001B[0m\u001B[34m 74/128\u001B[39m\u001B[49m\u001B[0m, eval/loss\u001B[35m: \u001B[39m\u001B[49m\u001B[0m\u001B[34m2.4345\u001B[39m\u001B[49m\u001B[0m, eval/ntp_acc\u001B[35m: \u001B[39m\u001B[49m\u001B[0m\u001B[34m33.43\u001B[39m\u001B[49m\u001B[0m, eval/ikr\u001B[35m: \u001B[39m\u001B[49m\u001B[0m\u001B[34m48.05\u001B[39m\u001B[49m\u001B[0m\u001B[35m}\u001B[39m\u001B[49m\u001B[0m\u001B[39m\u001B[49m\u001B[22m\u001B[23m\u001B[24m\u001B[25m\u001B[27m\u001B[28m\u001B[29m\n"
     ]
    },
    {
     "data": {
      "application/vnd.jupyter.widget-view+json": {
       "model_id": "be118fbcb53d47d1a3b9b880242872e2",
       "version_major": 2,
       "version_minor": 0
      },
      "text/plain": [
       "Train Epoch  75/128:   0%|          | 0/34 [00:00<?, ?ba/s]"
      ]
     },
     "metadata": {},
     "output_type": "display_data"
    },
    {
     "metadata": {
      "tags": null
     },
     "name": "stdout",
     "output_type": "stream",
     "text": [
      "\u001B[38;2;0;186;142m2022-08-03 06:11:51\u001B[38;2;97;175;239m|\u001B[39m\u001B[49m\u001B[22m\u001B[23m\u001B[24m\u001B[25m\u001B[27m\u001B[28m\u001B[29m\u001B[38;2;198;120;221m[MyReformerModelWithLMHead Train]\u001B[38;2;97;175;239m::\u001B[38;2;198;120;221m_log\u001B[38;2;97;175;239m::\u001B[38;2;198;120;221mtrain_util_wrap.py\u001B[38;2;97;175;239m:\u001B[38;2;198;120;221m255\u001B[38;2;97;175;239m:\u001B[39m\u001B[49m\u001B[22m\u001B[23m\u001B[24m\u001B[25m\u001B[27m\u001B[28m\u001B[29mINFO\u001B[39m\u001B[49m\u001B[22m\u001B[23m\u001B[24m\u001B[25m\u001B[27m\u001B[28m\u001B[29m\u001B[38;2;97;175;239m: \u001B[39m\u001B[49m\u001B[22m\u001B[23m\u001B[24m\u001B[25m\u001B[27m\u001B[28m\u001B[29m\u001B[35m{\u001B[39m\u001B[49m\u001B[0mstep\u001B[35m: \u001B[39m\u001B[49m\u001B[0m\u001B[34m2550/4352\u001B[39m\u001B[49m\u001B[0m, epoch\u001B[35m: \u001B[39m\u001B[49m\u001B[0m\u001B[34m 75.000/128\u001B[39m\u001B[49m\u001B[0m, train/learning_rate\u001B[35m: \u001B[39m\u001B[49m\u001B[0m\u001B[34m4.400e-06\u001B[39m\u001B[49m\u001B[0m, train/loss\u001B[35m: \u001B[39m\u001B[49m\u001B[0m\u001B[34m2.4469\u001B[39m\u001B[49m\u001B[0m\u001B[35m}\u001B[39m\u001B[49m\u001B[0m\u001B[39m\u001B[49m\u001B[22m\u001B[23m\u001B[24m\u001B[25m\u001B[27m\u001B[28m\u001B[29m\n"
     ]
    },
    {
     "data": {
      "application/vnd.jupyter.widget-view+json": {
       "model_id": "9cfb3a7232a9422e900786872a049db9",
       "version_major": 2,
       "version_minor": 0
      },
      "text/plain": [
       "Eval Epoch  75/128:   0%|          | 0/2 [00:00<?, ?ba/s]"
      ]
     },
     "metadata": {},
     "output_type": "display_data"
    },
    {
     "metadata": {
      "tags": null
     },
     "name": "stdout",
     "output_type": "stream",
     "text": [
      "\u001B[38;2;0;186;142m2022-08-03 06:11:54\u001B[38;2;97;175;239m|\u001B[39m\u001B[49m\u001B[22m\u001B[23m\u001B[24m\u001B[25m\u001B[27m\u001B[28m\u001B[29m\u001B[38;2;198;120;221m[MyReformerModelWithLMHead Train]\u001B[38;2;97;175;239m::\u001B[38;2;198;120;221m_log\u001B[38;2;97;175;239m::\u001B[38;2;198;120;221mtrain_util_wrap.py\u001B[38;2;97;175;239m:\u001B[38;2;198;120;221m255\u001B[38;2;97;175;239m:\u001B[39m\u001B[49m\u001B[22m\u001B[23m\u001B[24m\u001B[25m\u001B[27m\u001B[28m\u001B[29mINFO\u001B[39m\u001B[49m\u001B[22m\u001B[23m\u001B[24m\u001B[25m\u001B[27m\u001B[28m\u001B[29m\u001B[38;2;97;175;239m: \u001B[39m\u001B[49m\u001B[22m\u001B[23m\u001B[24m\u001B[25m\u001B[27m\u001B[28m\u001B[29m\u001B[35m{\u001B[39m\u001B[49m\u001B[0mstep\u001B[35m: \u001B[39m\u001B[49m\u001B[0m\u001B[34m2550/4352\u001B[39m\u001B[49m\u001B[0m, epoch\u001B[35m: \u001B[39m\u001B[49m\u001B[0m\u001B[34m 75/128\u001B[39m\u001B[49m\u001B[0m, eval/loss\u001B[35m: \u001B[39m\u001B[49m\u001B[0m\u001B[34m2.4204\u001B[39m\u001B[49m\u001B[0m, eval/ntp_acc\u001B[35m: \u001B[39m\u001B[49m\u001B[0m\u001B[34m33.74\u001B[39m\u001B[49m\u001B[0m, eval/ikr\u001B[35m: \u001B[39m\u001B[49m\u001B[0m\u001B[34m49.65\u001B[39m\u001B[49m\u001B[0m\u001B[35m}\u001B[39m\u001B[49m\u001B[0m\u001B[39m\u001B[49m\u001B[22m\u001B[23m\u001B[24m\u001B[25m\u001B[27m\u001B[28m\u001B[29m\n"
     ]
    },
    {
     "data": {
      "application/vnd.jupyter.widget-view+json": {
       "model_id": "fe3b228500f549788a62e601b2861325",
       "version_major": 2,
       "version_minor": 0
      },
      "text/plain": [
       "Train Epoch  76/128:   0%|          | 0/34 [00:00<?, ?ba/s]"
      ]
     },
     "metadata": {},
     "output_type": "display_data"
    },
    {
     "metadata": {
      "tags": null
     },
     "name": "stdout",
     "output_type": "stream",
     "text": [
      "\u001B[38;2;0;186;142m2022-08-03 06:16:52\u001B[38;2;97;175;239m|\u001B[39m\u001B[49m\u001B[22m\u001B[23m\u001B[24m\u001B[25m\u001B[27m\u001B[28m\u001B[29m\u001B[38;2;198;120;221m[MyReformerModelWithLMHead Train]\u001B[38;2;97;175;239m::\u001B[38;2;198;120;221m_log\u001B[38;2;97;175;239m::\u001B[38;2;198;120;221mtrain_util_wrap.py\u001B[38;2;97;175;239m:\u001B[38;2;198;120;221m255\u001B[38;2;97;175;239m:\u001B[39m\u001B[49m\u001B[22m\u001B[23m\u001B[24m\u001B[25m\u001B[27m\u001B[28m\u001B[29mINFO\u001B[39m\u001B[49m\u001B[22m\u001B[23m\u001B[24m\u001B[25m\u001B[27m\u001B[28m\u001B[29m\u001B[38;2;97;175;239m: \u001B[39m\u001B[49m\u001B[22m\u001B[23m\u001B[24m\u001B[25m\u001B[27m\u001B[28m\u001B[29m\u001B[35m{\u001B[39m\u001B[49m\u001B[0mstep\u001B[35m: \u001B[39m\u001B[49m\u001B[0m\u001B[34m2584/4352\u001B[39m\u001B[49m\u001B[0m, epoch\u001B[35m: \u001B[39m\u001B[49m\u001B[0m\u001B[34m 76.000/128\u001B[39m\u001B[49m\u001B[0m, train/learning_rate\u001B[35m: \u001B[39m\u001B[49m\u001B[0m\u001B[34m4.200e-06\u001B[39m\u001B[49m\u001B[0m, train/loss\u001B[35m: \u001B[39m\u001B[49m\u001B[0m\u001B[34m2.3945\u001B[39m\u001B[49m\u001B[0m\u001B[35m}\u001B[39m\u001B[49m\u001B[0m\u001B[39m\u001B[49m\u001B[22m\u001B[23m\u001B[24m\u001B[25m\u001B[27m\u001B[28m\u001B[29m\n"
     ]
    },
    {
     "data": {
      "application/vnd.jupyter.widget-view+json": {
       "model_id": "77dfc2fc91b24814862804751043e0f4",
       "version_major": 2,
       "version_minor": 0
      },
      "text/plain": [
       "Eval Epoch  76/128:   0%|          | 0/2 [00:00<?, ?ba/s]"
      ]
     },
     "metadata": {},
     "output_type": "display_data"
    },
    {
     "metadata": {
      "tags": null
     },
     "name": "stdout",
     "output_type": "stream",
     "text": [
      "\u001B[38;2;0;186;142m2022-08-03 06:16:54\u001B[38;2;97;175;239m|\u001B[39m\u001B[49m\u001B[22m\u001B[23m\u001B[24m\u001B[25m\u001B[27m\u001B[28m\u001B[29m\u001B[38;2;198;120;221m[MyReformerModelWithLMHead Train]\u001B[38;2;97;175;239m::\u001B[38;2;198;120;221m_log\u001B[38;2;97;175;239m::\u001B[38;2;198;120;221mtrain_util_wrap.py\u001B[38;2;97;175;239m:\u001B[38;2;198;120;221m255\u001B[38;2;97;175;239m:\u001B[39m\u001B[49m\u001B[22m\u001B[23m\u001B[24m\u001B[25m\u001B[27m\u001B[28m\u001B[29mINFO\u001B[39m\u001B[49m\u001B[22m\u001B[23m\u001B[24m\u001B[25m\u001B[27m\u001B[28m\u001B[29m\u001B[38;2;97;175;239m: \u001B[39m\u001B[49m\u001B[22m\u001B[23m\u001B[24m\u001B[25m\u001B[27m\u001B[28m\u001B[29m\u001B[35m{\u001B[39m\u001B[49m\u001B[0mstep\u001B[35m: \u001B[39m\u001B[49m\u001B[0m\u001B[34m2584/4352\u001B[39m\u001B[49m\u001B[0m, epoch\u001B[35m: \u001B[39m\u001B[49m\u001B[0m\u001B[34m 76/128\u001B[39m\u001B[49m\u001B[0m, eval/loss\u001B[35m: \u001B[39m\u001B[49m\u001B[0m\u001B[34m2.4244\u001B[39m\u001B[49m\u001B[0m, eval/ntp_acc\u001B[35m: \u001B[39m\u001B[49m\u001B[0m\u001B[34m33.55\u001B[39m\u001B[49m\u001B[0m, eval/ikr\u001B[35m: \u001B[39m\u001B[49m\u001B[0m\u001B[34m50.12\u001B[39m\u001B[49m\u001B[0m\u001B[35m}\u001B[39m\u001B[49m\u001B[0m\u001B[39m\u001B[49m\u001B[22m\u001B[23m\u001B[24m\u001B[25m\u001B[27m\u001B[28m\u001B[29m\n"
     ]
    },
    {
     "data": {
      "application/vnd.jupyter.widget-view+json": {
       "model_id": "bcf335ab1e48459e9406a3c1073b607f",
       "version_major": 2,
       "version_minor": 0
      },
      "text/plain": [
       "Train Epoch  77/128:   0%|          | 0/34 [00:00<?, ?ba/s]"
      ]
     },
     "metadata": {},
     "output_type": "display_data"
    },
    {
     "metadata": {
      "tags": null
     },
     "name": "stdout",
     "output_type": "stream",
     "text": [
      "\u001B[38;2;0;186;142m2022-08-03 06:21:53\u001B[38;2;97;175;239m|\u001B[39m\u001B[49m\u001B[22m\u001B[23m\u001B[24m\u001B[25m\u001B[27m\u001B[28m\u001B[29m\u001B[38;2;198;120;221m[MyReformerModelWithLMHead Train]\u001B[38;2;97;175;239m::\u001B[38;2;198;120;221m_log\u001B[38;2;97;175;239m::\u001B[38;2;198;120;221mtrain_util_wrap.py\u001B[38;2;97;175;239m:\u001B[38;2;198;120;221m255\u001B[38;2;97;175;239m:\u001B[39m\u001B[49m\u001B[22m\u001B[23m\u001B[24m\u001B[25m\u001B[27m\u001B[28m\u001B[29mINFO\u001B[39m\u001B[49m\u001B[22m\u001B[23m\u001B[24m\u001B[25m\u001B[27m\u001B[28m\u001B[29m\u001B[38;2;97;175;239m: \u001B[39m\u001B[49m\u001B[22m\u001B[23m\u001B[24m\u001B[25m\u001B[27m\u001B[28m\u001B[29m\u001B[35m{\u001B[39m\u001B[49m\u001B[0mstep\u001B[35m: \u001B[39m\u001B[49m\u001B[0m\u001B[34m2618/4352\u001B[39m\u001B[49m\u001B[0m, epoch\u001B[35m: \u001B[39m\u001B[49m\u001B[0m\u001B[34m 77.000/128\u001B[39m\u001B[49m\u001B[0m, train/learning_rate\u001B[35m: \u001B[39m\u001B[49m\u001B[0m\u001B[34m4.100e-06\u001B[39m\u001B[49m\u001B[0m, train/loss\u001B[35m: \u001B[39m\u001B[49m\u001B[0m\u001B[34m2.4329\u001B[39m\u001B[49m\u001B[0m\u001B[35m}\u001B[39m\u001B[49m\u001B[0m\u001B[39m\u001B[49m\u001B[22m\u001B[23m\u001B[24m\u001B[25m\u001B[27m\u001B[28m\u001B[29m\n"
     ]
    },
    {
     "data": {
      "application/vnd.jupyter.widget-view+json": {
       "model_id": "ff7fb5bbdfca49388a7d0d138899194f",
       "version_major": 2,
       "version_minor": 0
      },
      "text/plain": [
       "Eval Epoch  77/128:   0%|          | 0/2 [00:00<?, ?ba/s]"
      ]
     },
     "metadata": {},
     "output_type": "display_data"
    },
    {
     "metadata": {
      "tags": null
     },
     "name": "stdout",
     "output_type": "stream",
     "text": [
      "\u001B[38;2;0;186;142m2022-08-03 06:21:55\u001B[38;2;97;175;239m|\u001B[39m\u001B[49m\u001B[22m\u001B[23m\u001B[24m\u001B[25m\u001B[27m\u001B[28m\u001B[29m\u001B[38;2;198;120;221m[MyReformerModelWithLMHead Train]\u001B[38;2;97;175;239m::\u001B[38;2;198;120;221m_log\u001B[38;2;97;175;239m::\u001B[38;2;198;120;221mtrain_util_wrap.py\u001B[38;2;97;175;239m:\u001B[38;2;198;120;221m255\u001B[38;2;97;175;239m:\u001B[39m\u001B[49m\u001B[22m\u001B[23m\u001B[24m\u001B[25m\u001B[27m\u001B[28m\u001B[29mINFO\u001B[39m\u001B[49m\u001B[22m\u001B[23m\u001B[24m\u001B[25m\u001B[27m\u001B[28m\u001B[29m\u001B[38;2;97;175;239m: \u001B[39m\u001B[49m\u001B[22m\u001B[23m\u001B[24m\u001B[25m\u001B[27m\u001B[28m\u001B[29m\u001B[35m{\u001B[39m\u001B[49m\u001B[0mstep\u001B[35m: \u001B[39m\u001B[49m\u001B[0m\u001B[34m2618/4352\u001B[39m\u001B[49m\u001B[0m, epoch\u001B[35m: \u001B[39m\u001B[49m\u001B[0m\u001B[34m 77/128\u001B[39m\u001B[49m\u001B[0m, eval/loss\u001B[35m: \u001B[39m\u001B[49m\u001B[0m\u001B[34m2.415\u001B[39m\u001B[49m\u001B[0m, eval/ntp_acc\u001B[35m: \u001B[39m\u001B[49m\u001B[0m\u001B[34m 33.9\u001B[39m\u001B[49m\u001B[0m, eval/ikr\u001B[35m: \u001B[39m\u001B[49m\u001B[0m\u001B[34m49.13\u001B[39m\u001B[49m\u001B[0m\u001B[35m}\u001B[39m\u001B[49m\u001B[0m\u001B[39m\u001B[49m\u001B[22m\u001B[23m\u001B[24m\u001B[25m\u001B[27m\u001B[28m\u001B[29m\n"
     ]
    },
    {
     "data": {
      "application/vnd.jupyter.widget-view+json": {
       "model_id": "0e87e1b7f8f040f8bcc1f5a0f6c50351",
       "version_major": 2,
       "version_minor": 0
      },
      "text/plain": [
       "Train Epoch  78/128:   0%|          | 0/34 [00:00<?, ?ba/s]"
      ]
     },
     "metadata": {},
     "output_type": "display_data"
    },
    {
     "metadata": {
      "tags": null
     },
     "name": "stdout",
     "output_type": "stream",
     "text": [
      "\u001B[38;2;0;186;142m2022-08-03 06:26:53\u001B[38;2;97;175;239m|\u001B[39m\u001B[49m\u001B[22m\u001B[23m\u001B[24m\u001B[25m\u001B[27m\u001B[28m\u001B[29m\u001B[38;2;198;120;221m[MyReformerModelWithLMHead Train]\u001B[38;2;97;175;239m::\u001B[38;2;198;120;221m_log\u001B[38;2;97;175;239m::\u001B[38;2;198;120;221mtrain_util_wrap.py\u001B[38;2;97;175;239m:\u001B[38;2;198;120;221m255\u001B[38;2;97;175;239m:\u001B[39m\u001B[49m\u001B[22m\u001B[23m\u001B[24m\u001B[25m\u001B[27m\u001B[28m\u001B[29mINFO\u001B[39m\u001B[49m\u001B[22m\u001B[23m\u001B[24m\u001B[25m\u001B[27m\u001B[28m\u001B[29m\u001B[38;2;97;175;239m: \u001B[39m\u001B[49m\u001B[22m\u001B[23m\u001B[24m\u001B[25m\u001B[27m\u001B[28m\u001B[29m\u001B[35m{\u001B[39m\u001B[49m\u001B[0mstep\u001B[35m: \u001B[39m\u001B[49m\u001B[0m\u001B[34m2652/4352\u001B[39m\u001B[49m\u001B[0m, epoch\u001B[35m: \u001B[39m\u001B[49m\u001B[0m\u001B[34m 78.000/128\u001B[39m\u001B[49m\u001B[0m, train/learning_rate\u001B[35m: \u001B[39m\u001B[49m\u001B[0m\u001B[34m4.000e-06\u001B[39m\u001B[49m\u001B[0m, train/loss\u001B[35m: \u001B[39m\u001B[49m\u001B[0m\u001B[34m2.3004\u001B[39m\u001B[49m\u001B[0m\u001B[35m}\u001B[39m\u001B[49m\u001B[0m\u001B[39m\u001B[49m\u001B[22m\u001B[23m\u001B[24m\u001B[25m\u001B[27m\u001B[28m\u001B[29m\n"
     ]
    },
    {
     "data": {
      "application/vnd.jupyter.widget-view+json": {
       "model_id": "33d16602e009442ab38080deee860dfc",
       "version_major": 2,
       "version_minor": 0
      },
      "text/plain": [
       "Eval Epoch  78/128:   0%|          | 0/2 [00:00<?, ?ba/s]"
      ]
     },
     "metadata": {},
     "output_type": "display_data"
    },
    {
     "metadata": {
      "tags": null
     },
     "name": "stdout",
     "output_type": "stream",
     "text": [
      "\u001B[38;2;0;186;142m2022-08-03 06:26:56\u001B[38;2;97;175;239m|\u001B[39m\u001B[49m\u001B[22m\u001B[23m\u001B[24m\u001B[25m\u001B[27m\u001B[28m\u001B[29m\u001B[38;2;198;120;221m[MyReformerModelWithLMHead Train]\u001B[38;2;97;175;239m::\u001B[38;2;198;120;221m_log\u001B[38;2;97;175;239m::\u001B[38;2;198;120;221mtrain_util_wrap.py\u001B[38;2;97;175;239m:\u001B[38;2;198;120;221m255\u001B[38;2;97;175;239m:\u001B[39m\u001B[49m\u001B[22m\u001B[23m\u001B[24m\u001B[25m\u001B[27m\u001B[28m\u001B[29mINFO\u001B[39m\u001B[49m\u001B[22m\u001B[23m\u001B[24m\u001B[25m\u001B[27m\u001B[28m\u001B[29m\u001B[38;2;97;175;239m: \u001B[39m\u001B[49m\u001B[22m\u001B[23m\u001B[24m\u001B[25m\u001B[27m\u001B[28m\u001B[29m\u001B[35m{\u001B[39m\u001B[49m\u001B[0mstep\u001B[35m: \u001B[39m\u001B[49m\u001B[0m\u001B[34m2652/4352\u001B[39m\u001B[49m\u001B[0m, epoch\u001B[35m: \u001B[39m\u001B[49m\u001B[0m\u001B[34m 78/128\u001B[39m\u001B[49m\u001B[0m, eval/loss\u001B[35m: \u001B[39m\u001B[49m\u001B[0m\u001B[34m2.4129\u001B[39m\u001B[49m\u001B[0m, eval/ntp_acc\u001B[35m: \u001B[39m\u001B[49m\u001B[0m\u001B[34m33.99\u001B[39m\u001B[49m\u001B[0m, eval/ikr\u001B[35m: \u001B[39m\u001B[49m\u001B[0m\u001B[34m 49.1\u001B[39m\u001B[49m\u001B[0m\u001B[35m}\u001B[39m\u001B[49m\u001B[0m\u001B[39m\u001B[49m\u001B[22m\u001B[23m\u001B[24m\u001B[25m\u001B[27m\u001B[28m\u001B[29m\n"
     ]
    },
    {
     "data": {
      "application/vnd.jupyter.widget-view+json": {
       "model_id": "d94b5d51163547cba122a92e89e17378",
       "version_major": 2,
       "version_minor": 0
      },
      "text/plain": [
       "Train Epoch  79/128:   0%|          | 0/34 [00:00<?, ?ba/s]"
      ]
     },
     "metadata": {},
     "output_type": "display_data"
    },
    {
     "metadata": {
      "tags": null
     },
     "name": "stdout",
     "output_type": "stream",
     "text": [
      "\u001B[38;2;0;186;142m2022-08-03 06:31:54\u001B[38;2;97;175;239m|\u001B[39m\u001B[49m\u001B[22m\u001B[23m\u001B[24m\u001B[25m\u001B[27m\u001B[28m\u001B[29m\u001B[38;2;198;120;221m[MyReformerModelWithLMHead Train]\u001B[38;2;97;175;239m::\u001B[38;2;198;120;221m_log\u001B[38;2;97;175;239m::\u001B[38;2;198;120;221mtrain_util_wrap.py\u001B[38;2;97;175;239m:\u001B[38;2;198;120;221m255\u001B[38;2;97;175;239m:\u001B[39m\u001B[49m\u001B[22m\u001B[23m\u001B[24m\u001B[25m\u001B[27m\u001B[28m\u001B[29mINFO\u001B[39m\u001B[49m\u001B[22m\u001B[23m\u001B[24m\u001B[25m\u001B[27m\u001B[28m\u001B[29m\u001B[38;2;97;175;239m: \u001B[39m\u001B[49m\u001B[22m\u001B[23m\u001B[24m\u001B[25m\u001B[27m\u001B[28m\u001B[29m\u001B[35m{\u001B[39m\u001B[49m\u001B[0mstep\u001B[35m: \u001B[39m\u001B[49m\u001B[0m\u001B[34m2686/4352\u001B[39m\u001B[49m\u001B[0m, epoch\u001B[35m: \u001B[39m\u001B[49m\u001B[0m\u001B[34m 79.000/128\u001B[39m\u001B[49m\u001B[0m, train/learning_rate\u001B[35m: \u001B[39m\u001B[49m\u001B[0m\u001B[34m3.800e-06\u001B[39m\u001B[49m\u001B[0m, train/loss\u001B[35m: \u001B[39m\u001B[49m\u001B[0m\u001B[34m2.2982\u001B[39m\u001B[49m\u001B[0m\u001B[35m}\u001B[39m\u001B[49m\u001B[0m\u001B[39m\u001B[49m\u001B[22m\u001B[23m\u001B[24m\u001B[25m\u001B[27m\u001B[28m\u001B[29m\n"
     ]
    },
    {
     "data": {
      "application/vnd.jupyter.widget-view+json": {
       "model_id": "ff946721caf1446a9a2a4d78c1f67bf7",
       "version_major": 2,
       "version_minor": 0
      },
      "text/plain": [
       "Eval Epoch  79/128:   0%|          | 0/2 [00:00<?, ?ba/s]"
      ]
     },
     "metadata": {},
     "output_type": "display_data"
    },
    {
     "metadata": {
      "tags": null
     },
     "name": "stdout",
     "output_type": "stream",
     "text": [
      "\u001B[38;2;0;186;142m2022-08-03 06:31:57\u001B[38;2;97;175;239m|\u001B[39m\u001B[49m\u001B[22m\u001B[23m\u001B[24m\u001B[25m\u001B[27m\u001B[28m\u001B[29m\u001B[38;2;198;120;221m[MyReformerModelWithLMHead Train]\u001B[38;2;97;175;239m::\u001B[38;2;198;120;221m_log\u001B[38;2;97;175;239m::\u001B[38;2;198;120;221mtrain_util_wrap.py\u001B[38;2;97;175;239m:\u001B[38;2;198;120;221m255\u001B[38;2;97;175;239m:\u001B[39m\u001B[49m\u001B[22m\u001B[23m\u001B[24m\u001B[25m\u001B[27m\u001B[28m\u001B[29mINFO\u001B[39m\u001B[49m\u001B[22m\u001B[23m\u001B[24m\u001B[25m\u001B[27m\u001B[28m\u001B[29m\u001B[38;2;97;175;239m: \u001B[39m\u001B[49m\u001B[22m\u001B[23m\u001B[24m\u001B[25m\u001B[27m\u001B[28m\u001B[29m\u001B[35m{\u001B[39m\u001B[49m\u001B[0mstep\u001B[35m: \u001B[39m\u001B[49m\u001B[0m\u001B[34m2686/4352\u001B[39m\u001B[49m\u001B[0m, epoch\u001B[35m: \u001B[39m\u001B[49m\u001B[0m\u001B[34m 79/128\u001B[39m\u001B[49m\u001B[0m, eval/loss\u001B[35m: \u001B[39m\u001B[49m\u001B[0m\u001B[34m2.4011\u001B[39m\u001B[49m\u001B[0m, eval/ntp_acc\u001B[35m: \u001B[39m\u001B[49m\u001B[0m\u001B[34m34.17\u001B[39m\u001B[49m\u001B[0m, eval/ikr\u001B[35m: \u001B[39m\u001B[49m\u001B[0m\u001B[34m49.21\u001B[39m\u001B[49m\u001B[0m\u001B[35m}\u001B[39m\u001B[49m\u001B[0m\u001B[39m\u001B[49m\u001B[22m\u001B[23m\u001B[24m\u001B[25m\u001B[27m\u001B[28m\u001B[29m\n"
     ]
    },
    {
     "data": {
      "application/vnd.jupyter.widget-view+json": {
       "model_id": "95db3e1c0e2a497f81770ee55b245bc3",
       "version_major": 2,
       "version_minor": 0
      },
      "text/plain": [
       "Train Epoch  80/128:   0%|          | 0/34 [00:00<?, ?ba/s]"
      ]
     },
     "metadata": {},
     "output_type": "display_data"
    },
    {
     "metadata": {
      "tags": null
     },
     "name": "stdout",
     "output_type": "stream",
     "text": [
      "\u001B[38;2;0;186;142m2022-08-03 06:36:55\u001B[38;2;97;175;239m|\u001B[39m\u001B[49m\u001B[22m\u001B[23m\u001B[24m\u001B[25m\u001B[27m\u001B[28m\u001B[29m\u001B[38;2;198;120;221m[MyReformerModelWithLMHead Train]\u001B[38;2;97;175;239m::\u001B[38;2;198;120;221m_log\u001B[38;2;97;175;239m::\u001B[38;2;198;120;221mtrain_util_wrap.py\u001B[38;2;97;175;239m:\u001B[38;2;198;120;221m255\u001B[38;2;97;175;239m:\u001B[39m\u001B[49m\u001B[22m\u001B[23m\u001B[24m\u001B[25m\u001B[27m\u001B[28m\u001B[29mINFO\u001B[39m\u001B[49m\u001B[22m\u001B[23m\u001B[24m\u001B[25m\u001B[27m\u001B[28m\u001B[29m\u001B[38;2;97;175;239m: \u001B[39m\u001B[49m\u001B[22m\u001B[23m\u001B[24m\u001B[25m\u001B[27m\u001B[28m\u001B[29m\u001B[35m{\u001B[39m\u001B[49m\u001B[0mstep\u001B[35m: \u001B[39m\u001B[49m\u001B[0m\u001B[34m2720/4352\u001B[39m\u001B[49m\u001B[0m, epoch\u001B[35m: \u001B[39m\u001B[49m\u001B[0m\u001B[34m 80.000/128\u001B[39m\u001B[49m\u001B[0m, train/learning_rate\u001B[35m: \u001B[39m\u001B[49m\u001B[0m\u001B[34m3.700e-06\u001B[39m\u001B[49m\u001B[0m, train/loss\u001B[35m: \u001B[39m\u001B[49m\u001B[0m\u001B[34m2.4462\u001B[39m\u001B[49m\u001B[0m\u001B[35m}\u001B[39m\u001B[49m\u001B[0m\u001B[39m\u001B[49m\u001B[22m\u001B[23m\u001B[24m\u001B[25m\u001B[27m\u001B[28m\u001B[29m\n"
     ]
    },
    {
     "data": {
      "application/vnd.jupyter.widget-view+json": {
       "model_id": "a9a7b597867f465a92853cf306a4d308",
       "version_major": 2,
       "version_minor": 0
      },
      "text/plain": [
       "Eval Epoch  80/128:   0%|          | 0/2 [00:00<?, ?ba/s]"
      ]
     },
     "metadata": {},
     "output_type": "display_data"
    },
    {
     "metadata": {
      "tags": null
     },
     "name": "stdout",
     "output_type": "stream",
     "text": [
      "\u001B[38;2;0;186;142m2022-08-03 06:37:02\u001B[38;2;97;175;239m|\u001B[39m\u001B[49m\u001B[22m\u001B[23m\u001B[24m\u001B[25m\u001B[27m\u001B[28m\u001B[29m\u001B[38;2;198;120;221m[MyReformerModelWithLMHead Train]\u001B[38;2;97;175;239m::\u001B[38;2;198;120;221m_log\u001B[38;2;97;175;239m::\u001B[38;2;198;120;221mtrain_util_wrap.py\u001B[38;2;97;175;239m:\u001B[38;2;198;120;221m255\u001B[38;2;97;175;239m:\u001B[39m\u001B[49m\u001B[22m\u001B[23m\u001B[24m\u001B[25m\u001B[27m\u001B[28m\u001B[29mINFO\u001B[39m\u001B[49m\u001B[22m\u001B[23m\u001B[24m\u001B[25m\u001B[27m\u001B[28m\u001B[29m\u001B[38;2;97;175;239m: \u001B[39m\u001B[49m\u001B[22m\u001B[23m\u001B[24m\u001B[25m\u001B[27m\u001B[28m\u001B[29m\u001B[35m{\u001B[39m\u001B[49m\u001B[0mstep\u001B[35m: \u001B[39m\u001B[49m\u001B[0m\u001B[34m2720/4352\u001B[39m\u001B[49m\u001B[0m, epoch\u001B[35m: \u001B[39m\u001B[49m\u001B[0m\u001B[34m 80/128\u001B[39m\u001B[49m\u001B[0m, eval/loss\u001B[35m: \u001B[39m\u001B[49m\u001B[0m\u001B[34m2.3854\u001B[39m\u001B[49m\u001B[0m, eval/ntp_acc\u001B[35m: \u001B[39m\u001B[49m\u001B[0m\u001B[34m34.68\u001B[39m\u001B[49m\u001B[0m, eval/ikr\u001B[35m: \u001B[39m\u001B[49m\u001B[0m\u001B[34m 49.00\u001B[39m\u001B[49m\u001B[0m\u001B[35m}\u001B[39m\u001B[49m\u001B[0m\u001B[39m\u001B[49m\u001B[22m\u001B[23m\u001B[24m\u001B[25m\u001B[27m\u001B[28m\u001B[29m\n"
     ]
    },
    {
     "data": {
      "application/vnd.jupyter.widget-view+json": {
       "model_id": "317c2d27a02d47cb82c5dc6cb44790da",
       "version_major": 2,
       "version_minor": 0
      },
      "text/plain": [
       "Train Epoch  81/128:   0%|          | 0/34 [00:00<?, ?ba/s]"
      ]
     },
     "metadata": {},
     "output_type": "display_data"
    },
    {
     "metadata": {
      "tags": null
     },
     "name": "stdout",
     "output_type": "stream",
     "text": [
      "\u001B[38;2;0;186;142m2022-08-03 06:42:00\u001B[38;2;97;175;239m|\u001B[39m\u001B[49m\u001B[22m\u001B[23m\u001B[24m\u001B[25m\u001B[27m\u001B[28m\u001B[29m\u001B[38;2;198;120;221m[MyReformerModelWithLMHead Train]\u001B[38;2;97;175;239m::\u001B[38;2;198;120;221m_log\u001B[38;2;97;175;239m::\u001B[38;2;198;120;221mtrain_util_wrap.py\u001B[38;2;97;175;239m:\u001B[38;2;198;120;221m255\u001B[38;2;97;175;239m:\u001B[39m\u001B[49m\u001B[22m\u001B[23m\u001B[24m\u001B[25m\u001B[27m\u001B[28m\u001B[29mINFO\u001B[39m\u001B[49m\u001B[22m\u001B[23m\u001B[24m\u001B[25m\u001B[27m\u001B[28m\u001B[29m\u001B[38;2;97;175;239m: \u001B[39m\u001B[49m\u001B[22m\u001B[23m\u001B[24m\u001B[25m\u001B[27m\u001B[28m\u001B[29m\u001B[35m{\u001B[39m\u001B[49m\u001B[0mstep\u001B[35m: \u001B[39m\u001B[49m\u001B[0m\u001B[34m2754/4352\u001B[39m\u001B[49m\u001B[0m, epoch\u001B[35m: \u001B[39m\u001B[49m\u001B[0m\u001B[34m 81.000/128\u001B[39m\u001B[49m\u001B[0m, train/learning_rate\u001B[35m: \u001B[39m\u001B[49m\u001B[0m\u001B[34m3.600e-06\u001B[39m\u001B[49m\u001B[0m, train/loss\u001B[35m: \u001B[39m\u001B[49m\u001B[0m\u001B[34m2.4687\u001B[39m\u001B[49m\u001B[0m\u001B[35m}\u001B[39m\u001B[49m\u001B[0m\u001B[39m\u001B[49m\u001B[22m\u001B[23m\u001B[24m\u001B[25m\u001B[27m\u001B[28m\u001B[29m\n"
     ]
    },
    {
     "data": {
      "application/vnd.jupyter.widget-view+json": {
       "model_id": "90be9de5527241548da49138c754cb38",
       "version_major": 2,
       "version_minor": 0
      },
      "text/plain": [
       "Eval Epoch  81/128:   0%|          | 0/2 [00:00<?, ?ba/s]"
      ]
     },
     "metadata": {},
     "output_type": "display_data"
    },
    {
     "metadata": {
      "tags": null
     },
     "name": "stdout",
     "output_type": "stream",
     "text": [
      "\u001B[38;2;0;186;142m2022-08-03 06:42:03\u001B[38;2;97;175;239m|\u001B[39m\u001B[49m\u001B[22m\u001B[23m\u001B[24m\u001B[25m\u001B[27m\u001B[28m\u001B[29m\u001B[38;2;198;120;221m[MyReformerModelWithLMHead Train]\u001B[38;2;97;175;239m::\u001B[38;2;198;120;221m_log\u001B[38;2;97;175;239m::\u001B[38;2;198;120;221mtrain_util_wrap.py\u001B[38;2;97;175;239m:\u001B[38;2;198;120;221m255\u001B[38;2;97;175;239m:\u001B[39m\u001B[49m\u001B[22m\u001B[23m\u001B[24m\u001B[25m\u001B[27m\u001B[28m\u001B[29mINFO\u001B[39m\u001B[49m\u001B[22m\u001B[23m\u001B[24m\u001B[25m\u001B[27m\u001B[28m\u001B[29m\u001B[38;2;97;175;239m: \u001B[39m\u001B[49m\u001B[22m\u001B[23m\u001B[24m\u001B[25m\u001B[27m\u001B[28m\u001B[29m\u001B[35m{\u001B[39m\u001B[49m\u001B[0mstep\u001B[35m: \u001B[39m\u001B[49m\u001B[0m\u001B[34m2754/4352\u001B[39m\u001B[49m\u001B[0m, epoch\u001B[35m: \u001B[39m\u001B[49m\u001B[0m\u001B[34m 81/128\u001B[39m\u001B[49m\u001B[0m, eval/loss\u001B[35m: \u001B[39m\u001B[49m\u001B[0m\u001B[34m2.3798\u001B[39m\u001B[49m\u001B[0m, eval/ntp_acc\u001B[35m: \u001B[39m\u001B[49m\u001B[0m\u001B[34m 34.6\u001B[39m\u001B[49m\u001B[0m, eval/ikr\u001B[35m: \u001B[39m\u001B[49m\u001B[0m\u001B[34m49.61\u001B[39m\u001B[49m\u001B[0m\u001B[35m}\u001B[39m\u001B[49m\u001B[0m\u001B[39m\u001B[49m\u001B[22m\u001B[23m\u001B[24m\u001B[25m\u001B[27m\u001B[28m\u001B[29m\n"
     ]
    },
    {
     "data": {
      "application/vnd.jupyter.widget-view+json": {
       "model_id": "42fe8450a0834f66b8e629c4fb80c222",
       "version_major": 2,
       "version_minor": 0
      },
      "text/plain": [
       "Train Epoch  82/128:   0%|          | 0/34 [00:00<?, ?ba/s]"
      ]
     },
     "metadata": {},
     "output_type": "display_data"
    },
    {
     "metadata": {
      "tags": null
     },
     "name": "stdout",
     "output_type": "stream",
     "text": [
      "\u001B[38;2;0;186;142m2022-08-03 06:47:01\u001B[38;2;97;175;239m|\u001B[39m\u001B[49m\u001B[22m\u001B[23m\u001B[24m\u001B[25m\u001B[27m\u001B[28m\u001B[29m\u001B[38;2;198;120;221m[MyReformerModelWithLMHead Train]\u001B[38;2;97;175;239m::\u001B[38;2;198;120;221m_log\u001B[38;2;97;175;239m::\u001B[38;2;198;120;221mtrain_util_wrap.py\u001B[38;2;97;175;239m:\u001B[38;2;198;120;221m255\u001B[38;2;97;175;239m:\u001B[39m\u001B[49m\u001B[22m\u001B[23m\u001B[24m\u001B[25m\u001B[27m\u001B[28m\u001B[29mINFO\u001B[39m\u001B[49m\u001B[22m\u001B[23m\u001B[24m\u001B[25m\u001B[27m\u001B[28m\u001B[29m\u001B[38;2;97;175;239m: \u001B[39m\u001B[49m\u001B[22m\u001B[23m\u001B[24m\u001B[25m\u001B[27m\u001B[28m\u001B[29m\u001B[35m{\u001B[39m\u001B[49m\u001B[0mstep\u001B[35m: \u001B[39m\u001B[49m\u001B[0m\u001B[34m2788/4352\u001B[39m\u001B[49m\u001B[0m, epoch\u001B[35m: \u001B[39m\u001B[49m\u001B[0m\u001B[34m 82.000/128\u001B[39m\u001B[49m\u001B[0m, train/learning_rate\u001B[35m: \u001B[39m\u001B[49m\u001B[0m\u001B[34m3.400e-06\u001B[39m\u001B[49m\u001B[0m, train/loss\u001B[35m: \u001B[39m\u001B[49m\u001B[0m\u001B[34m2.3767\u001B[39m\u001B[49m\u001B[0m\u001B[35m}\u001B[39m\u001B[49m\u001B[0m\u001B[39m\u001B[49m\u001B[22m\u001B[23m\u001B[24m\u001B[25m\u001B[27m\u001B[28m\u001B[29m\n"
     ]
    },
    {
     "data": {
      "application/vnd.jupyter.widget-view+json": {
       "model_id": "e7dfc260e9e444b9894d812d66705d63",
       "version_major": 2,
       "version_minor": 0
      },
      "text/plain": [
       "Eval Epoch  82/128:   0%|          | 0/2 [00:00<?, ?ba/s]"
      ]
     },
     "metadata": {},
     "output_type": "display_data"
    },
    {
     "metadata": {
      "tags": null
     },
     "name": "stdout",
     "output_type": "stream",
     "text": [
      "\u001B[38;2;0;186;142m2022-08-03 06:47:04\u001B[38;2;97;175;239m|\u001B[39m\u001B[49m\u001B[22m\u001B[23m\u001B[24m\u001B[25m\u001B[27m\u001B[28m\u001B[29m\u001B[38;2;198;120;221m[MyReformerModelWithLMHead Train]\u001B[38;2;97;175;239m::\u001B[38;2;198;120;221m_log\u001B[38;2;97;175;239m::\u001B[38;2;198;120;221mtrain_util_wrap.py\u001B[38;2;97;175;239m:\u001B[38;2;198;120;221m255\u001B[38;2;97;175;239m:\u001B[39m\u001B[49m\u001B[22m\u001B[23m\u001B[24m\u001B[25m\u001B[27m\u001B[28m\u001B[29mINFO\u001B[39m\u001B[49m\u001B[22m\u001B[23m\u001B[24m\u001B[25m\u001B[27m\u001B[28m\u001B[29m\u001B[38;2;97;175;239m: \u001B[39m\u001B[49m\u001B[22m\u001B[23m\u001B[24m\u001B[25m\u001B[27m\u001B[28m\u001B[29m\u001B[35m{\u001B[39m\u001B[49m\u001B[0mstep\u001B[35m: \u001B[39m\u001B[49m\u001B[0m\u001B[34m2788/4352\u001B[39m\u001B[49m\u001B[0m, epoch\u001B[35m: \u001B[39m\u001B[49m\u001B[0m\u001B[34m 82/128\u001B[39m\u001B[49m\u001B[0m, eval/loss\u001B[35m: \u001B[39m\u001B[49m\u001B[0m\u001B[34m2.3782\u001B[39m\u001B[49m\u001B[0m, eval/ntp_acc\u001B[35m: \u001B[39m\u001B[49m\u001B[0m\u001B[34m34.74\u001B[39m\u001B[49m\u001B[0m, eval/ikr\u001B[35m: \u001B[39m\u001B[49m\u001B[0m\u001B[34m49.25\u001B[39m\u001B[49m\u001B[0m\u001B[35m}\u001B[39m\u001B[49m\u001B[0m\u001B[39m\u001B[49m\u001B[22m\u001B[23m\u001B[24m\u001B[25m\u001B[27m\u001B[28m\u001B[29m\n"
     ]
    },
    {
     "data": {
      "application/vnd.jupyter.widget-view+json": {
       "model_id": "f47f408f9e204b5aaba639db249805d2",
       "version_major": 2,
       "version_minor": 0
      },
      "text/plain": [
       "Train Epoch  83/128:   0%|          | 0/34 [00:00<?, ?ba/s]"
      ]
     },
     "metadata": {},
     "output_type": "display_data"
    },
    {
     "metadata": {
      "tags": null
     },
     "name": "stdout",
     "output_type": "stream",
     "text": [
      "\u001B[38;2;0;186;142m2022-08-03 06:52:02\u001B[38;2;97;175;239m|\u001B[39m\u001B[49m\u001B[22m\u001B[23m\u001B[24m\u001B[25m\u001B[27m\u001B[28m\u001B[29m\u001B[38;2;198;120;221m[MyReformerModelWithLMHead Train]\u001B[38;2;97;175;239m::\u001B[38;2;198;120;221m_log\u001B[38;2;97;175;239m::\u001B[38;2;198;120;221mtrain_util_wrap.py\u001B[38;2;97;175;239m:\u001B[38;2;198;120;221m255\u001B[38;2;97;175;239m:\u001B[39m\u001B[49m\u001B[22m\u001B[23m\u001B[24m\u001B[25m\u001B[27m\u001B[28m\u001B[29mINFO\u001B[39m\u001B[49m\u001B[22m\u001B[23m\u001B[24m\u001B[25m\u001B[27m\u001B[28m\u001B[29m\u001B[38;2;97;175;239m: \u001B[39m\u001B[49m\u001B[22m\u001B[23m\u001B[24m\u001B[25m\u001B[27m\u001B[28m\u001B[29m\u001B[35m{\u001B[39m\u001B[49m\u001B[0mstep\u001B[35m: \u001B[39m\u001B[49m\u001B[0m\u001B[34m2822/4352\u001B[39m\u001B[49m\u001B[0m, epoch\u001B[35m: \u001B[39m\u001B[49m\u001B[0m\u001B[34m 83.000/128\u001B[39m\u001B[49m\u001B[0m, train/learning_rate\u001B[35m: \u001B[39m\u001B[49m\u001B[0m\u001B[34m3.300e-06\u001B[39m\u001B[49m\u001B[0m, train/loss\u001B[35m: \u001B[39m\u001B[49m\u001B[0m\u001B[34m2.2502\u001B[39m\u001B[49m\u001B[0m\u001B[35m}\u001B[39m\u001B[49m\u001B[0m\u001B[39m\u001B[49m\u001B[22m\u001B[23m\u001B[24m\u001B[25m\u001B[27m\u001B[28m\u001B[29m\n"
     ]
    },
    {
     "data": {
      "application/vnd.jupyter.widget-view+json": {
       "model_id": "8a781b45415b4738811f5b9794aa9631",
       "version_major": 2,
       "version_minor": 0
      },
      "text/plain": [
       "Eval Epoch  83/128:   0%|          | 0/2 [00:00<?, ?ba/s]"
      ]
     },
     "metadata": {},
     "output_type": "display_data"
    },
    {
     "metadata": {
      "tags": null
     },
     "name": "stdout",
     "output_type": "stream",
     "text": [
      "\u001B[38;2;0;186;142m2022-08-03 06:52:05\u001B[38;2;97;175;239m|\u001B[39m\u001B[49m\u001B[22m\u001B[23m\u001B[24m\u001B[25m\u001B[27m\u001B[28m\u001B[29m\u001B[38;2;198;120;221m[MyReformerModelWithLMHead Train]\u001B[38;2;97;175;239m::\u001B[38;2;198;120;221m_log\u001B[38;2;97;175;239m::\u001B[38;2;198;120;221mtrain_util_wrap.py\u001B[38;2;97;175;239m:\u001B[38;2;198;120;221m255\u001B[38;2;97;175;239m:\u001B[39m\u001B[49m\u001B[22m\u001B[23m\u001B[24m\u001B[25m\u001B[27m\u001B[28m\u001B[29mINFO\u001B[39m\u001B[49m\u001B[22m\u001B[23m\u001B[24m\u001B[25m\u001B[27m\u001B[28m\u001B[29m\u001B[38;2;97;175;239m: \u001B[39m\u001B[49m\u001B[22m\u001B[23m\u001B[24m\u001B[25m\u001B[27m\u001B[28m\u001B[29m\u001B[35m{\u001B[39m\u001B[49m\u001B[0mstep\u001B[35m: \u001B[39m\u001B[49m\u001B[0m\u001B[34m2822/4352\u001B[39m\u001B[49m\u001B[0m, epoch\u001B[35m: \u001B[39m\u001B[49m\u001B[0m\u001B[34m 83/128\u001B[39m\u001B[49m\u001B[0m, eval/loss\u001B[35m: \u001B[39m\u001B[49m\u001B[0m\u001B[34m2.3659\u001B[39m\u001B[49m\u001B[0m, eval/ntp_acc\u001B[35m: \u001B[39m\u001B[49m\u001B[0m\u001B[34m35.31\u001B[39m\u001B[49m\u001B[0m, eval/ikr\u001B[35m: \u001B[39m\u001B[49m\u001B[0m\u001B[34m48.62\u001B[39m\u001B[49m\u001B[0m\u001B[35m}\u001B[39m\u001B[49m\u001B[0m\u001B[39m\u001B[49m\u001B[22m\u001B[23m\u001B[24m\u001B[25m\u001B[27m\u001B[28m\u001B[29m\n"
     ]
    },
    {
     "data": {
      "application/vnd.jupyter.widget-view+json": {
       "model_id": "18b3500bea1d44b9a4e347de8667bf60",
       "version_major": 2,
       "version_minor": 0
      },
      "text/plain": [
       "Train Epoch  84/128:   0%|          | 0/34 [00:00<?, ?ba/s]"
      ]
     },
     "metadata": {},
     "output_type": "display_data"
    },
    {
     "metadata": {
      "tags": null
     },
     "name": "stdout",
     "output_type": "stream",
     "text": [
      "\u001B[38;2;0;186;142m2022-08-03 06:57:03\u001B[38;2;97;175;239m|\u001B[39m\u001B[49m\u001B[22m\u001B[23m\u001B[24m\u001B[25m\u001B[27m\u001B[28m\u001B[29m\u001B[38;2;198;120;221m[MyReformerModelWithLMHead Train]\u001B[38;2;97;175;239m::\u001B[38;2;198;120;221m_log\u001B[38;2;97;175;239m::\u001B[38;2;198;120;221mtrain_util_wrap.py\u001B[38;2;97;175;239m:\u001B[38;2;198;120;221m255\u001B[38;2;97;175;239m:\u001B[39m\u001B[49m\u001B[22m\u001B[23m\u001B[24m\u001B[25m\u001B[27m\u001B[28m\u001B[29mINFO\u001B[39m\u001B[49m\u001B[22m\u001B[23m\u001B[24m\u001B[25m\u001B[27m\u001B[28m\u001B[29m\u001B[38;2;97;175;239m: \u001B[39m\u001B[49m\u001B[22m\u001B[23m\u001B[24m\u001B[25m\u001B[27m\u001B[28m\u001B[29m\u001B[35m{\u001B[39m\u001B[49m\u001B[0mstep\u001B[35m: \u001B[39m\u001B[49m\u001B[0m\u001B[34m2856/4352\u001B[39m\u001B[49m\u001B[0m, epoch\u001B[35m: \u001B[39m\u001B[49m\u001B[0m\u001B[34m 84.000/128\u001B[39m\u001B[49m\u001B[0m, train/learning_rate\u001B[35m: \u001B[39m\u001B[49m\u001B[0m\u001B[34m3.200e-06\u001B[39m\u001B[49m\u001B[0m, train/loss\u001B[35m: \u001B[39m\u001B[49m\u001B[0m\u001B[34m2.2176\u001B[39m\u001B[49m\u001B[0m\u001B[35m}\u001B[39m\u001B[49m\u001B[0m\u001B[39m\u001B[49m\u001B[22m\u001B[23m\u001B[24m\u001B[25m\u001B[27m\u001B[28m\u001B[29m\n"
     ]
    },
    {
     "data": {
      "application/vnd.jupyter.widget-view+json": {
       "model_id": "02e78e4d54e14d9fa420eec8a47a1c93",
       "version_major": 2,
       "version_minor": 0
      },
      "text/plain": [
       "Eval Epoch  84/128:   0%|          | 0/2 [00:00<?, ?ba/s]"
      ]
     },
     "metadata": {},
     "output_type": "display_data"
    },
    {
     "metadata": {
      "tags": null
     },
     "name": "stdout",
     "output_type": "stream",
     "text": [
      "\u001B[38;2;0;186;142m2022-08-03 06:57:05\u001B[38;2;97;175;239m|\u001B[39m\u001B[49m\u001B[22m\u001B[23m\u001B[24m\u001B[25m\u001B[27m\u001B[28m\u001B[29m\u001B[38;2;198;120;221m[MyReformerModelWithLMHead Train]\u001B[38;2;97;175;239m::\u001B[38;2;198;120;221m_log\u001B[38;2;97;175;239m::\u001B[38;2;198;120;221mtrain_util_wrap.py\u001B[38;2;97;175;239m:\u001B[38;2;198;120;221m255\u001B[38;2;97;175;239m:\u001B[39m\u001B[49m\u001B[22m\u001B[23m\u001B[24m\u001B[25m\u001B[27m\u001B[28m\u001B[29mINFO\u001B[39m\u001B[49m\u001B[22m\u001B[23m\u001B[24m\u001B[25m\u001B[27m\u001B[28m\u001B[29m\u001B[38;2;97;175;239m: \u001B[39m\u001B[49m\u001B[22m\u001B[23m\u001B[24m\u001B[25m\u001B[27m\u001B[28m\u001B[29m\u001B[35m{\u001B[39m\u001B[49m\u001B[0mstep\u001B[35m: \u001B[39m\u001B[49m\u001B[0m\u001B[34m2856/4352\u001B[39m\u001B[49m\u001B[0m, epoch\u001B[35m: \u001B[39m\u001B[49m\u001B[0m\u001B[34m 84/128\u001B[39m\u001B[49m\u001B[0m, eval/loss\u001B[35m: \u001B[39m\u001B[49m\u001B[0m\u001B[34m2.3612\u001B[39m\u001B[49m\u001B[0m, eval/ntp_acc\u001B[35m: \u001B[39m\u001B[49m\u001B[0m\u001B[34m35.18\u001B[39m\u001B[49m\u001B[0m, eval/ikr\u001B[35m: \u001B[39m\u001B[49m\u001B[0m\u001B[34m49.86\u001B[39m\u001B[49m\u001B[0m\u001B[35m}\u001B[39m\u001B[49m\u001B[0m\u001B[39m\u001B[49m\u001B[22m\u001B[23m\u001B[24m\u001B[25m\u001B[27m\u001B[28m\u001B[29m\n"
     ]
    },
    {
     "data": {
      "application/vnd.jupyter.widget-view+json": {
       "model_id": "c20eb247675c4a92ab8a67519afaf7dc",
       "version_major": 2,
       "version_minor": 0
      },
      "text/plain": [
       "Train Epoch  85/128:   0%|          | 0/34 [00:00<?, ?ba/s]"
      ]
     },
     "metadata": {},
     "output_type": "display_data"
    },
    {
     "metadata": {
      "tags": null
     },
     "name": "stdout",
     "output_type": "stream",
     "text": [
      "\u001B[38;2;0;186;142m2022-08-03 07:02:03\u001B[38;2;97;175;239m|\u001B[39m\u001B[49m\u001B[22m\u001B[23m\u001B[24m\u001B[25m\u001B[27m\u001B[28m\u001B[29m\u001B[38;2;198;120;221m[MyReformerModelWithLMHead Train]\u001B[38;2;97;175;239m::\u001B[38;2;198;120;221m_log\u001B[38;2;97;175;239m::\u001B[38;2;198;120;221mtrain_util_wrap.py\u001B[38;2;97;175;239m:\u001B[38;2;198;120;221m255\u001B[38;2;97;175;239m:\u001B[39m\u001B[49m\u001B[22m\u001B[23m\u001B[24m\u001B[25m\u001B[27m\u001B[28m\u001B[29mINFO\u001B[39m\u001B[49m\u001B[22m\u001B[23m\u001B[24m\u001B[25m\u001B[27m\u001B[28m\u001B[29m\u001B[38;2;97;175;239m: \u001B[39m\u001B[49m\u001B[22m\u001B[23m\u001B[24m\u001B[25m\u001B[27m\u001B[28m\u001B[29m\u001B[35m{\u001B[39m\u001B[49m\u001B[0mstep\u001B[35m: \u001B[39m\u001B[49m\u001B[0m\u001B[34m2890/4352\u001B[39m\u001B[49m\u001B[0m, epoch\u001B[35m: \u001B[39m\u001B[49m\u001B[0m\u001B[34m 85.000/128\u001B[39m\u001B[49m\u001B[0m, train/learning_rate\u001B[35m: \u001B[39m\u001B[49m\u001B[0m\u001B[34m3.100e-06\u001B[39m\u001B[49m\u001B[0m, train/loss\u001B[35m: \u001B[39m\u001B[49m\u001B[0m\u001B[34m2.4302\u001B[39m\u001B[49m\u001B[0m\u001B[35m}\u001B[39m\u001B[49m\u001B[0m\u001B[39m\u001B[49m\u001B[22m\u001B[23m\u001B[24m\u001B[25m\u001B[27m\u001B[28m\u001B[29m\n"
     ]
    },
    {
     "data": {
      "application/vnd.jupyter.widget-view+json": {
       "model_id": "6ab8864874e940ad90aeaeda3d5a7f89",
       "version_major": 2,
       "version_minor": 0
      },
      "text/plain": [
       "Eval Epoch  85/128:   0%|          | 0/2 [00:00<?, ?ba/s]"
      ]
     },
     "metadata": {},
     "output_type": "display_data"
    },
    {
     "metadata": {
      "tags": null
     },
     "name": "stdout",
     "output_type": "stream",
     "text": [
      "\u001B[38;2;0;186;142m2022-08-03 07:02:06\u001B[38;2;97;175;239m|\u001B[39m\u001B[49m\u001B[22m\u001B[23m\u001B[24m\u001B[25m\u001B[27m\u001B[28m\u001B[29m\u001B[38;2;198;120;221m[MyReformerModelWithLMHead Train]\u001B[38;2;97;175;239m::\u001B[38;2;198;120;221m_log\u001B[38;2;97;175;239m::\u001B[38;2;198;120;221mtrain_util_wrap.py\u001B[38;2;97;175;239m:\u001B[38;2;198;120;221m255\u001B[38;2;97;175;239m:\u001B[39m\u001B[49m\u001B[22m\u001B[23m\u001B[24m\u001B[25m\u001B[27m\u001B[28m\u001B[29mINFO\u001B[39m\u001B[49m\u001B[22m\u001B[23m\u001B[24m\u001B[25m\u001B[27m\u001B[28m\u001B[29m\u001B[38;2;97;175;239m: \u001B[39m\u001B[49m\u001B[22m\u001B[23m\u001B[24m\u001B[25m\u001B[27m\u001B[28m\u001B[29m\u001B[35m{\u001B[39m\u001B[49m\u001B[0mstep\u001B[35m: \u001B[39m\u001B[49m\u001B[0m\u001B[34m2890/4352\u001B[39m\u001B[49m\u001B[0m, epoch\u001B[35m: \u001B[39m\u001B[49m\u001B[0m\u001B[34m 85/128\u001B[39m\u001B[49m\u001B[0m, eval/loss\u001B[35m: \u001B[39m\u001B[49m\u001B[0m\u001B[34m2.3503\u001B[39m\u001B[49m\u001B[0m, eval/ntp_acc\u001B[35m: \u001B[39m\u001B[49m\u001B[0m\u001B[34m35.51\u001B[39m\u001B[49m\u001B[0m, eval/ikr\u001B[35m: \u001B[39m\u001B[49m\u001B[0m\u001B[34m50.47\u001B[39m\u001B[49m\u001B[0m\u001B[35m}\u001B[39m\u001B[49m\u001B[0m\u001B[39m\u001B[49m\u001B[22m\u001B[23m\u001B[24m\u001B[25m\u001B[27m\u001B[28m\u001B[29m\n"
     ]
    },
    {
     "data": {
      "application/vnd.jupyter.widget-view+json": {
       "model_id": "770dcf32a18f42b2ad98e9856a014910",
       "version_major": 2,
       "version_minor": 0
      },
      "text/plain": [
       "Train Epoch  86/128:   0%|          | 0/34 [00:00<?, ?ba/s]"
      ]
     },
     "metadata": {},
     "output_type": "display_data"
    },
    {
     "metadata": {
      "tags": null
     },
     "name": "stdout",
     "output_type": "stream",
     "text": [
      "\u001B[38;2;0;186;142m2022-08-03 07:07:04\u001B[38;2;97;175;239m|\u001B[39m\u001B[49m\u001B[22m\u001B[23m\u001B[24m\u001B[25m\u001B[27m\u001B[28m\u001B[29m\u001B[38;2;198;120;221m[MyReformerModelWithLMHead Train]\u001B[38;2;97;175;239m::\u001B[38;2;198;120;221m_log\u001B[38;2;97;175;239m::\u001B[38;2;198;120;221mtrain_util_wrap.py\u001B[38;2;97;175;239m:\u001B[38;2;198;120;221m255\u001B[38;2;97;175;239m:\u001B[39m\u001B[49m\u001B[22m\u001B[23m\u001B[24m\u001B[25m\u001B[27m\u001B[28m\u001B[29mINFO\u001B[39m\u001B[49m\u001B[22m\u001B[23m\u001B[24m\u001B[25m\u001B[27m\u001B[28m\u001B[29m\u001B[38;2;97;175;239m: \u001B[39m\u001B[49m\u001B[22m\u001B[23m\u001B[24m\u001B[25m\u001B[27m\u001B[28m\u001B[29m\u001B[35m{\u001B[39m\u001B[49m\u001B[0mstep\u001B[35m: \u001B[39m\u001B[49m\u001B[0m\u001B[34m2924/4352\u001B[39m\u001B[49m\u001B[0m, epoch\u001B[35m: \u001B[39m\u001B[49m\u001B[0m\u001B[34m 86.000/128\u001B[39m\u001B[49m\u001B[0m, train/learning_rate\u001B[35m: \u001B[39m\u001B[49m\u001B[0m\u001B[34m2.900e-06\u001B[39m\u001B[49m\u001B[0m, train/loss\u001B[35m: \u001B[39m\u001B[49m\u001B[0m\u001B[34m2.4139\u001B[39m\u001B[49m\u001B[0m\u001B[35m}\u001B[39m\u001B[49m\u001B[0m\u001B[39m\u001B[49m\u001B[22m\u001B[23m\u001B[24m\u001B[25m\u001B[27m\u001B[28m\u001B[29m\n"
     ]
    },
    {
     "data": {
      "application/vnd.jupyter.widget-view+json": {
       "model_id": "13ab381fa9a945bcb4e39385dfb6bb3e",
       "version_major": 2,
       "version_minor": 0
      },
      "text/plain": [
       "Eval Epoch  86/128:   0%|          | 0/2 [00:00<?, ?ba/s]"
      ]
     },
     "metadata": {},
     "output_type": "display_data"
    },
    {
     "metadata": {
      "tags": null
     },
     "name": "stdout",
     "output_type": "stream",
     "text": [
      "\u001B[38;2;0;186;142m2022-08-03 07:07:06\u001B[38;2;97;175;239m|\u001B[39m\u001B[49m\u001B[22m\u001B[23m\u001B[24m\u001B[25m\u001B[27m\u001B[28m\u001B[29m\u001B[38;2;198;120;221m[MyReformerModelWithLMHead Train]\u001B[38;2;97;175;239m::\u001B[38;2;198;120;221m_log\u001B[38;2;97;175;239m::\u001B[38;2;198;120;221mtrain_util_wrap.py\u001B[38;2;97;175;239m:\u001B[38;2;198;120;221m255\u001B[38;2;97;175;239m:\u001B[39m\u001B[49m\u001B[22m\u001B[23m\u001B[24m\u001B[25m\u001B[27m\u001B[28m\u001B[29mINFO\u001B[39m\u001B[49m\u001B[22m\u001B[23m\u001B[24m\u001B[25m\u001B[27m\u001B[28m\u001B[29m\u001B[38;2;97;175;239m: \u001B[39m\u001B[49m\u001B[22m\u001B[23m\u001B[24m\u001B[25m\u001B[27m\u001B[28m\u001B[29m\u001B[35m{\u001B[39m\u001B[49m\u001B[0mstep\u001B[35m: \u001B[39m\u001B[49m\u001B[0m\u001B[34m2924/4352\u001B[39m\u001B[49m\u001B[0m, epoch\u001B[35m: \u001B[39m\u001B[49m\u001B[0m\u001B[34m 86/128\u001B[39m\u001B[49m\u001B[0m, eval/loss\u001B[35m: \u001B[39m\u001B[49m\u001B[0m\u001B[34m2.3458\u001B[39m\u001B[49m\u001B[0m, eval/ntp_acc\u001B[35m: \u001B[39m\u001B[49m\u001B[0m\u001B[34m35.63\u001B[39m\u001B[49m\u001B[0m, eval/ikr\u001B[35m: \u001B[39m\u001B[49m\u001B[0m\u001B[34m50.36\u001B[39m\u001B[49m\u001B[0m\u001B[35m}\u001B[39m\u001B[49m\u001B[0m\u001B[39m\u001B[49m\u001B[22m\u001B[23m\u001B[24m\u001B[25m\u001B[27m\u001B[28m\u001B[29m\n"
     ]
    },
    {
     "data": {
      "application/vnd.jupyter.widget-view+json": {
       "model_id": "696f034eee4d46669defcb739f0db3d6",
       "version_major": 2,
       "version_minor": 0
      },
      "text/plain": [
       "Train Epoch  87/128:   0%|          | 0/34 [00:00<?, ?ba/s]"
      ]
     },
     "metadata": {},
     "output_type": "display_data"
    },
    {
     "metadata": {
      "tags": null
     },
     "name": "stdout",
     "output_type": "stream",
     "text": [
      "\u001B[38;2;0;186;142m2022-08-03 07:12:04\u001B[38;2;97;175;239m|\u001B[39m\u001B[49m\u001B[22m\u001B[23m\u001B[24m\u001B[25m\u001B[27m\u001B[28m\u001B[29m\u001B[38;2;198;120;221m[MyReformerModelWithLMHead Train]\u001B[38;2;97;175;239m::\u001B[38;2;198;120;221m_log\u001B[38;2;97;175;239m::\u001B[38;2;198;120;221mtrain_util_wrap.py\u001B[38;2;97;175;239m:\u001B[38;2;198;120;221m255\u001B[38;2;97;175;239m:\u001B[39m\u001B[49m\u001B[22m\u001B[23m\u001B[24m\u001B[25m\u001B[27m\u001B[28m\u001B[29mINFO\u001B[39m\u001B[49m\u001B[22m\u001B[23m\u001B[24m\u001B[25m\u001B[27m\u001B[28m\u001B[29m\u001B[38;2;97;175;239m: \u001B[39m\u001B[49m\u001B[22m\u001B[23m\u001B[24m\u001B[25m\u001B[27m\u001B[28m\u001B[29m\u001B[35m{\u001B[39m\u001B[49m\u001B[0mstep\u001B[35m: \u001B[39m\u001B[49m\u001B[0m\u001B[34m2958/4352\u001B[39m\u001B[49m\u001B[0m, epoch\u001B[35m: \u001B[39m\u001B[49m\u001B[0m\u001B[34m 87.000/128\u001B[39m\u001B[49m\u001B[0m, train/learning_rate\u001B[35m: \u001B[39m\u001B[49m\u001B[0m\u001B[34m2.800e-06\u001B[39m\u001B[49m\u001B[0m, train/loss\u001B[35m: \u001B[39m\u001B[49m\u001B[0m\u001B[34m2.275\u001B[39m\u001B[49m\u001B[0m\u001B[35m}\u001B[39m\u001B[49m\u001B[0m\u001B[39m\u001B[49m\u001B[22m\u001B[23m\u001B[24m\u001B[25m\u001B[27m\u001B[28m\u001B[29m\n"
     ]
    },
    {
     "data": {
      "application/vnd.jupyter.widget-view+json": {
       "model_id": "540294742e0e486b99f4894e019481a9",
       "version_major": 2,
       "version_minor": 0
      },
      "text/plain": [
       "Eval Epoch  87/128:   0%|          | 0/2 [00:00<?, ?ba/s]"
      ]
     },
     "metadata": {},
     "output_type": "display_data"
    },
    {
     "metadata": {
      "tags": null
     },
     "name": "stdout",
     "output_type": "stream",
     "text": [
      "\u001B[38;2;0;186;142m2022-08-03 07:12:07\u001B[38;2;97;175;239m|\u001B[39m\u001B[49m\u001B[22m\u001B[23m\u001B[24m\u001B[25m\u001B[27m\u001B[28m\u001B[29m\u001B[38;2;198;120;221m[MyReformerModelWithLMHead Train]\u001B[38;2;97;175;239m::\u001B[38;2;198;120;221m_log\u001B[38;2;97;175;239m::\u001B[38;2;198;120;221mtrain_util_wrap.py\u001B[38;2;97;175;239m:\u001B[38;2;198;120;221m255\u001B[38;2;97;175;239m:\u001B[39m\u001B[49m\u001B[22m\u001B[23m\u001B[24m\u001B[25m\u001B[27m\u001B[28m\u001B[29mINFO\u001B[39m\u001B[49m\u001B[22m\u001B[23m\u001B[24m\u001B[25m\u001B[27m\u001B[28m\u001B[29m\u001B[38;2;97;175;239m: \u001B[39m\u001B[49m\u001B[22m\u001B[23m\u001B[24m\u001B[25m\u001B[27m\u001B[28m\u001B[29m\u001B[35m{\u001B[39m\u001B[49m\u001B[0mstep\u001B[35m: \u001B[39m\u001B[49m\u001B[0m\u001B[34m2958/4352\u001B[39m\u001B[49m\u001B[0m, epoch\u001B[35m: \u001B[39m\u001B[49m\u001B[0m\u001B[34m 87/128\u001B[39m\u001B[49m\u001B[0m, eval/loss\u001B[35m: \u001B[39m\u001B[49m\u001B[0m\u001B[34m2.3463\u001B[39m\u001B[49m\u001B[0m, eval/ntp_acc\u001B[35m: \u001B[39m\u001B[49m\u001B[0m\u001B[34m35.19\u001B[39m\u001B[49m\u001B[0m, eval/ikr\u001B[35m: \u001B[39m\u001B[49m\u001B[0m\u001B[34m50.52\u001B[39m\u001B[49m\u001B[0m\u001B[35m}\u001B[39m\u001B[49m\u001B[0m\u001B[39m\u001B[49m\u001B[22m\u001B[23m\u001B[24m\u001B[25m\u001B[27m\u001B[28m\u001B[29m\n"
     ]
    },
    {
     "data": {
      "application/vnd.jupyter.widget-view+json": {
       "model_id": "4ee0eeaa1cb444a69c7ac74e64f84ac6",
       "version_major": 2,
       "version_minor": 0
      },
      "text/plain": [
       "Train Epoch  88/128:   0%|          | 0/34 [00:00<?, ?ba/s]"
      ]
     },
     "metadata": {},
     "output_type": "display_data"
    },
    {
     "metadata": {
      "tags": null
     },
     "name": "stdout",
     "output_type": "stream",
     "text": [
      "\u001B[38;2;0;186;142m2022-08-03 07:17:05\u001B[38;2;97;175;239m|\u001B[39m\u001B[49m\u001B[22m\u001B[23m\u001B[24m\u001B[25m\u001B[27m\u001B[28m\u001B[29m\u001B[38;2;198;120;221m[MyReformerModelWithLMHead Train]\u001B[38;2;97;175;239m::\u001B[38;2;198;120;221m_log\u001B[38;2;97;175;239m::\u001B[38;2;198;120;221mtrain_util_wrap.py\u001B[38;2;97;175;239m:\u001B[38;2;198;120;221m255\u001B[38;2;97;175;239m:\u001B[39m\u001B[49m\u001B[22m\u001B[23m\u001B[24m\u001B[25m\u001B[27m\u001B[28m\u001B[29mINFO\u001B[39m\u001B[49m\u001B[22m\u001B[23m\u001B[24m\u001B[25m\u001B[27m\u001B[28m\u001B[29m\u001B[38;2;97;175;239m: \u001B[39m\u001B[49m\u001B[22m\u001B[23m\u001B[24m\u001B[25m\u001B[27m\u001B[28m\u001B[29m\u001B[35m{\u001B[39m\u001B[49m\u001B[0mstep\u001B[35m: \u001B[39m\u001B[49m\u001B[0m\u001B[34m2992/4352\u001B[39m\u001B[49m\u001B[0m, epoch\u001B[35m: \u001B[39m\u001B[49m\u001B[0m\u001B[34m 88.000/128\u001B[39m\u001B[49m\u001B[0m, train/learning_rate\u001B[35m: \u001B[39m\u001B[49m\u001B[0m\u001B[34m2.700e-06\u001B[39m\u001B[49m\u001B[0m, train/loss\u001B[35m: \u001B[39m\u001B[49m\u001B[0m\u001B[34m2.3014\u001B[39m\u001B[49m\u001B[0m\u001B[35m}\u001B[39m\u001B[49m\u001B[0m\u001B[39m\u001B[49m\u001B[22m\u001B[23m\u001B[24m\u001B[25m\u001B[27m\u001B[28m\u001B[29m\n"
     ]
    },
    {
     "data": {
      "application/vnd.jupyter.widget-view+json": {
       "model_id": "f79c24f2c22d4e2e8246ee3a9eb99877",
       "version_major": 2,
       "version_minor": 0
      },
      "text/plain": [
       "Eval Epoch  88/128:   0%|          | 0/2 [00:00<?, ?ba/s]"
      ]
     },
     "metadata": {},
     "output_type": "display_data"
    },
    {
     "metadata": {
      "tags": null
     },
     "name": "stdout",
     "output_type": "stream",
     "text": [
      "\u001B[38;2;0;186;142m2022-08-03 07:17:08\u001B[38;2;97;175;239m|\u001B[39m\u001B[49m\u001B[22m\u001B[23m\u001B[24m\u001B[25m\u001B[27m\u001B[28m\u001B[29m\u001B[38;2;198;120;221m[MyReformerModelWithLMHead Train]\u001B[38;2;97;175;239m::\u001B[38;2;198;120;221m_log\u001B[38;2;97;175;239m::\u001B[38;2;198;120;221mtrain_util_wrap.py\u001B[38;2;97;175;239m:\u001B[38;2;198;120;221m255\u001B[38;2;97;175;239m:\u001B[39m\u001B[49m\u001B[22m\u001B[23m\u001B[24m\u001B[25m\u001B[27m\u001B[28m\u001B[29mINFO\u001B[39m\u001B[49m\u001B[22m\u001B[23m\u001B[24m\u001B[25m\u001B[27m\u001B[28m\u001B[29m\u001B[38;2;97;175;239m: \u001B[39m\u001B[49m\u001B[22m\u001B[23m\u001B[24m\u001B[25m\u001B[27m\u001B[28m\u001B[29m\u001B[35m{\u001B[39m\u001B[49m\u001B[0mstep\u001B[35m: \u001B[39m\u001B[49m\u001B[0m\u001B[34m2992/4352\u001B[39m\u001B[49m\u001B[0m, epoch\u001B[35m: \u001B[39m\u001B[49m\u001B[0m\u001B[34m 88/128\u001B[39m\u001B[49m\u001B[0m, eval/loss\u001B[35m: \u001B[39m\u001B[49m\u001B[0m\u001B[34m2.3265\u001B[39m\u001B[49m\u001B[0m, eval/ntp_acc\u001B[35m: \u001B[39m\u001B[49m\u001B[0m\u001B[34m35.92\u001B[39m\u001B[49m\u001B[0m, eval/ikr\u001B[35m: \u001B[39m\u001B[49m\u001B[0m\u001B[34m50.31\u001B[39m\u001B[49m\u001B[0m\u001B[35m}\u001B[39m\u001B[49m\u001B[0m\u001B[39m\u001B[49m\u001B[22m\u001B[23m\u001B[24m\u001B[25m\u001B[27m\u001B[28m\u001B[29m\n"
     ]
    },
    {
     "data": {
      "application/vnd.jupyter.widget-view+json": {
       "model_id": "a101c813ed66496b8e733cf0ba5aca0c",
       "version_major": 2,
       "version_minor": 0
      },
      "text/plain": [
       "Train Epoch  89/128:   0%|          | 0/34 [00:00<?, ?ba/s]"
      ]
     },
     "metadata": {},
     "output_type": "display_data"
    },
    {
     "metadata": {
      "tags": null
     },
     "name": "stdout",
     "output_type": "stream",
     "text": [
      "\u001B[38;2;0;186;142m2022-08-03 07:22:06\u001B[38;2;97;175;239m|\u001B[39m\u001B[49m\u001B[22m\u001B[23m\u001B[24m\u001B[25m\u001B[27m\u001B[28m\u001B[29m\u001B[38;2;198;120;221m[MyReformerModelWithLMHead Train]\u001B[38;2;97;175;239m::\u001B[38;2;198;120;221m_log\u001B[38;2;97;175;239m::\u001B[38;2;198;120;221mtrain_util_wrap.py\u001B[38;2;97;175;239m:\u001B[38;2;198;120;221m255\u001B[38;2;97;175;239m:\u001B[39m\u001B[49m\u001B[22m\u001B[23m\u001B[24m\u001B[25m\u001B[27m\u001B[28m\u001B[29mINFO\u001B[39m\u001B[49m\u001B[22m\u001B[23m\u001B[24m\u001B[25m\u001B[27m\u001B[28m\u001B[29m\u001B[38;2;97;175;239m: \u001B[39m\u001B[49m\u001B[22m\u001B[23m\u001B[24m\u001B[25m\u001B[27m\u001B[28m\u001B[29m\u001B[35m{\u001B[39m\u001B[49m\u001B[0mstep\u001B[35m: \u001B[39m\u001B[49m\u001B[0m\u001B[34m3026/4352\u001B[39m\u001B[49m\u001B[0m, epoch\u001B[35m: \u001B[39m\u001B[49m\u001B[0m\u001B[34m 89.000/128\u001B[39m\u001B[49m\u001B[0m, train/learning_rate\u001B[35m: \u001B[39m\u001B[49m\u001B[0m\u001B[34m2.600e-06\u001B[39m\u001B[49m\u001B[0m, train/loss\u001B[35m: \u001B[39m\u001B[49m\u001B[0m\u001B[34m2.2758\u001B[39m\u001B[49m\u001B[0m\u001B[35m}\u001B[39m\u001B[49m\u001B[0m\u001B[39m\u001B[49m\u001B[22m\u001B[23m\u001B[24m\u001B[25m\u001B[27m\u001B[28m\u001B[29m\n"
     ]
    },
    {
     "data": {
      "application/vnd.jupyter.widget-view+json": {
       "model_id": "e69701acf1d54131b79a7521dc0c87d2",
       "version_major": 2,
       "version_minor": 0
      },
      "text/plain": [
       "Eval Epoch  89/128:   0%|          | 0/2 [00:00<?, ?ba/s]"
      ]
     },
     "metadata": {},
     "output_type": "display_data"
    },
    {
     "metadata": {
      "tags": null
     },
     "name": "stdout",
     "output_type": "stream",
     "text": [
      "\u001B[38;2;0;186;142m2022-08-03 07:22:08\u001B[38;2;97;175;239m|\u001B[39m\u001B[49m\u001B[22m\u001B[23m\u001B[24m\u001B[25m\u001B[27m\u001B[28m\u001B[29m\u001B[38;2;198;120;221m[MyReformerModelWithLMHead Train]\u001B[38;2;97;175;239m::\u001B[38;2;198;120;221m_log\u001B[38;2;97;175;239m::\u001B[38;2;198;120;221mtrain_util_wrap.py\u001B[38;2;97;175;239m:\u001B[38;2;198;120;221m255\u001B[38;2;97;175;239m:\u001B[39m\u001B[49m\u001B[22m\u001B[23m\u001B[24m\u001B[25m\u001B[27m\u001B[28m\u001B[29mINFO\u001B[39m\u001B[49m\u001B[22m\u001B[23m\u001B[24m\u001B[25m\u001B[27m\u001B[28m\u001B[29m\u001B[38;2;97;175;239m: \u001B[39m\u001B[49m\u001B[22m\u001B[23m\u001B[24m\u001B[25m\u001B[27m\u001B[28m\u001B[29m\u001B[35m{\u001B[39m\u001B[49m\u001B[0mstep\u001B[35m: \u001B[39m\u001B[49m\u001B[0m\u001B[34m3026/4352\u001B[39m\u001B[49m\u001B[0m, epoch\u001B[35m: \u001B[39m\u001B[49m\u001B[0m\u001B[34m 89/128\u001B[39m\u001B[49m\u001B[0m, eval/loss\u001B[35m: \u001B[39m\u001B[49m\u001B[0m\u001B[34m2.3175\u001B[39m\u001B[49m\u001B[0m, eval/ntp_acc\u001B[35m: \u001B[39m\u001B[49m\u001B[0m\u001B[34m36.22\u001B[39m\u001B[49m\u001B[0m, eval/ikr\u001B[35m: \u001B[39m\u001B[49m\u001B[0m\u001B[34m50.86\u001B[39m\u001B[49m\u001B[0m\u001B[35m}\u001B[39m\u001B[49m\u001B[0m\u001B[39m\u001B[49m\u001B[22m\u001B[23m\u001B[24m\u001B[25m\u001B[27m\u001B[28m\u001B[29m\n"
     ]
    },
    {
     "data": {
      "application/vnd.jupyter.widget-view+json": {
       "model_id": "2aa4c279a7e748c68bd1465347774cfb",
       "version_major": 2,
       "version_minor": 0
      },
      "text/plain": [
       "Train Epoch  90/128:   0%|          | 0/34 [00:00<?, ?ba/s]"
      ]
     },
     "metadata": {},
     "output_type": "display_data"
    },
    {
     "metadata": {
      "tags": null
     },
     "name": "stdout",
     "output_type": "stream",
     "text": [
      "\u001B[38;2;0;186;142m2022-08-03 07:27:06\u001B[38;2;97;175;239m|\u001B[39m\u001B[49m\u001B[22m\u001B[23m\u001B[24m\u001B[25m\u001B[27m\u001B[28m\u001B[29m\u001B[38;2;198;120;221m[MyReformerModelWithLMHead Train]\u001B[38;2;97;175;239m::\u001B[38;2;198;120;221m_log\u001B[38;2;97;175;239m::\u001B[38;2;198;120;221mtrain_util_wrap.py\u001B[38;2;97;175;239m:\u001B[38;2;198;120;221m255\u001B[38;2;97;175;239m:\u001B[39m\u001B[49m\u001B[22m\u001B[23m\u001B[24m\u001B[25m\u001B[27m\u001B[28m\u001B[29mINFO\u001B[39m\u001B[49m\u001B[22m\u001B[23m\u001B[24m\u001B[25m\u001B[27m\u001B[28m\u001B[29m\u001B[38;2;97;175;239m: \u001B[39m\u001B[49m\u001B[22m\u001B[23m\u001B[24m\u001B[25m\u001B[27m\u001B[28m\u001B[29m\u001B[35m{\u001B[39m\u001B[49m\u001B[0mstep\u001B[35m: \u001B[39m\u001B[49m\u001B[0m\u001B[34m3060/4352\u001B[39m\u001B[49m\u001B[0m, epoch\u001B[35m: \u001B[39m\u001B[49m\u001B[0m\u001B[34m 90.000/128\u001B[39m\u001B[49m\u001B[0m, train/learning_rate\u001B[35m: \u001B[39m\u001B[49m\u001B[0m\u001B[34m2.500e-06\u001B[39m\u001B[49m\u001B[0m, train/loss\u001B[35m: \u001B[39m\u001B[49m\u001B[0m\u001B[34m2.413\u001B[39m\u001B[49m\u001B[0m\u001B[35m}\u001B[39m\u001B[49m\u001B[0m\u001B[39m\u001B[49m\u001B[22m\u001B[23m\u001B[24m\u001B[25m\u001B[27m\u001B[28m\u001B[29m\n"
     ]
    },
    {
     "data": {
      "application/vnd.jupyter.widget-view+json": {
       "model_id": "01dc2ea0a5cd40e99dcb7934c53fb3d3",
       "version_major": 2,
       "version_minor": 0
      },
      "text/plain": [
       "Eval Epoch  90/128:   0%|          | 0/2 [00:00<?, ?ba/s]"
      ]
     },
     "metadata": {},
     "output_type": "display_data"
    },
    {
     "metadata": {
      "tags": null
     },
     "name": "stdout",
     "output_type": "stream",
     "text": [
      "\u001B[38;2;0;186;142m2022-08-03 07:27:09\u001B[38;2;97;175;239m|\u001B[39m\u001B[49m\u001B[22m\u001B[23m\u001B[24m\u001B[25m\u001B[27m\u001B[28m\u001B[29m\u001B[38;2;198;120;221m[MyReformerModelWithLMHead Train]\u001B[38;2;97;175;239m::\u001B[38;2;198;120;221m_log\u001B[38;2;97;175;239m::\u001B[38;2;198;120;221mtrain_util_wrap.py\u001B[38;2;97;175;239m:\u001B[38;2;198;120;221m255\u001B[38;2;97;175;239m:\u001B[39m\u001B[49m\u001B[22m\u001B[23m\u001B[24m\u001B[25m\u001B[27m\u001B[28m\u001B[29mINFO\u001B[39m\u001B[49m\u001B[22m\u001B[23m\u001B[24m\u001B[25m\u001B[27m\u001B[28m\u001B[29m\u001B[38;2;97;175;239m: \u001B[39m\u001B[49m\u001B[22m\u001B[23m\u001B[24m\u001B[25m\u001B[27m\u001B[28m\u001B[29m\u001B[35m{\u001B[39m\u001B[49m\u001B[0mstep\u001B[35m: \u001B[39m\u001B[49m\u001B[0m\u001B[34m3060/4352\u001B[39m\u001B[49m\u001B[0m, epoch\u001B[35m: \u001B[39m\u001B[49m\u001B[0m\u001B[34m 90/128\u001B[39m\u001B[49m\u001B[0m, eval/loss\u001B[35m: \u001B[39m\u001B[49m\u001B[0m\u001B[34m2.3124\u001B[39m\u001B[49m\u001B[0m, eval/ntp_acc\u001B[35m: \u001B[39m\u001B[49m\u001B[0m\u001B[34m36.28\u001B[39m\u001B[49m\u001B[0m, eval/ikr\u001B[35m: \u001B[39m\u001B[49m\u001B[0m\u001B[34m49.84\u001B[39m\u001B[49m\u001B[0m\u001B[35m}\u001B[39m\u001B[49m\u001B[0m\u001B[39m\u001B[49m\u001B[22m\u001B[23m\u001B[24m\u001B[25m\u001B[27m\u001B[28m\u001B[29m\n"
     ]
    },
    {
     "data": {
      "application/vnd.jupyter.widget-view+json": {
       "model_id": "566c2597f3674c8e8eb2830b6a45e213",
       "version_major": 2,
       "version_minor": 0
      },
      "text/plain": [
       "Train Epoch  91/128:   0%|          | 0/34 [00:00<?, ?ba/s]"
      ]
     },
     "metadata": {},
     "output_type": "display_data"
    },
    {
     "metadata": {
      "tags": null
     },
     "name": "stdout",
     "output_type": "stream",
     "text": [
      "\u001B[38;2;0;186;142m2022-08-03 07:32:07\u001B[38;2;97;175;239m|\u001B[39m\u001B[49m\u001B[22m\u001B[23m\u001B[24m\u001B[25m\u001B[27m\u001B[28m\u001B[29m\u001B[38;2;198;120;221m[MyReformerModelWithLMHead Train]\u001B[38;2;97;175;239m::\u001B[38;2;198;120;221m_log\u001B[38;2;97;175;239m::\u001B[38;2;198;120;221mtrain_util_wrap.py\u001B[38;2;97;175;239m:\u001B[38;2;198;120;221m255\u001B[38;2;97;175;239m:\u001B[39m\u001B[49m\u001B[22m\u001B[23m\u001B[24m\u001B[25m\u001B[27m\u001B[28m\u001B[29mINFO\u001B[39m\u001B[49m\u001B[22m\u001B[23m\u001B[24m\u001B[25m\u001B[27m\u001B[28m\u001B[29m\u001B[38;2;97;175;239m: \u001B[39m\u001B[49m\u001B[22m\u001B[23m\u001B[24m\u001B[25m\u001B[27m\u001B[28m\u001B[29m\u001B[35m{\u001B[39m\u001B[49m\u001B[0mstep\u001B[35m: \u001B[39m\u001B[49m\u001B[0m\u001B[34m3094/4352\u001B[39m\u001B[49m\u001B[0m, epoch\u001B[35m: \u001B[39m\u001B[49m\u001B[0m\u001B[34m 91.000/128\u001B[39m\u001B[49m\u001B[0m, train/learning_rate\u001B[35m: \u001B[39m\u001B[49m\u001B[0m\u001B[34m2.300e-06\u001B[39m\u001B[49m\u001B[0m, train/loss\u001B[35m: \u001B[39m\u001B[49m\u001B[0m\u001B[34m2.3485\u001B[39m\u001B[49m\u001B[0m\u001B[35m}\u001B[39m\u001B[49m\u001B[0m\u001B[39m\u001B[49m\u001B[22m\u001B[23m\u001B[24m\u001B[25m\u001B[27m\u001B[28m\u001B[29m\n"
     ]
    },
    {
     "data": {
      "application/vnd.jupyter.widget-view+json": {
       "model_id": "37b747b7c538474b9fb18bae1b86ebe3",
       "version_major": 2,
       "version_minor": 0
      },
      "text/plain": [
       "Eval Epoch  91/128:   0%|          | 0/2 [00:00<?, ?ba/s]"
      ]
     },
     "metadata": {},
     "output_type": "display_data"
    },
    {
     "metadata": {
      "tags": null
     },
     "name": "stdout",
     "output_type": "stream",
     "text": [
      "\u001B[38;2;0;186;142m2022-08-03 07:32:10\u001B[38;2;97;175;239m|\u001B[39m\u001B[49m\u001B[22m\u001B[23m\u001B[24m\u001B[25m\u001B[27m\u001B[28m\u001B[29m\u001B[38;2;198;120;221m[MyReformerModelWithLMHead Train]\u001B[38;2;97;175;239m::\u001B[38;2;198;120;221m_log\u001B[38;2;97;175;239m::\u001B[38;2;198;120;221mtrain_util_wrap.py\u001B[38;2;97;175;239m:\u001B[38;2;198;120;221m255\u001B[38;2;97;175;239m:\u001B[39m\u001B[49m\u001B[22m\u001B[23m\u001B[24m\u001B[25m\u001B[27m\u001B[28m\u001B[29mINFO\u001B[39m\u001B[49m\u001B[22m\u001B[23m\u001B[24m\u001B[25m\u001B[27m\u001B[28m\u001B[29m\u001B[38;2;97;175;239m: \u001B[39m\u001B[49m\u001B[22m\u001B[23m\u001B[24m\u001B[25m\u001B[27m\u001B[28m\u001B[29m\u001B[35m{\u001B[39m\u001B[49m\u001B[0mstep\u001B[35m: \u001B[39m\u001B[49m\u001B[0m\u001B[34m3094/4352\u001B[39m\u001B[49m\u001B[0m, epoch\u001B[35m: \u001B[39m\u001B[49m\u001B[0m\u001B[34m 91/128\u001B[39m\u001B[49m\u001B[0m, eval/loss\u001B[35m: \u001B[39m\u001B[49m\u001B[0m\u001B[34m2.3116\u001B[39m\u001B[49m\u001B[0m, eval/ntp_acc\u001B[35m: \u001B[39m\u001B[49m\u001B[0m\u001B[34m36.26\u001B[39m\u001B[49m\u001B[0m, eval/ikr\u001B[35m: \u001B[39m\u001B[49m\u001B[0m\u001B[34m50.51\u001B[39m\u001B[49m\u001B[0m\u001B[35m}\u001B[39m\u001B[49m\u001B[0m\u001B[39m\u001B[49m\u001B[22m\u001B[23m\u001B[24m\u001B[25m\u001B[27m\u001B[28m\u001B[29m\n"
     ]
    },
    {
     "data": {
      "application/vnd.jupyter.widget-view+json": {
       "model_id": "f437365631884712bd94929d7b03b27f",
       "version_major": 2,
       "version_minor": 0
      },
      "text/plain": [
       "Train Epoch  92/128:   0%|          | 0/34 [00:00<?, ?ba/s]"
      ]
     },
     "metadata": {},
     "output_type": "display_data"
    },
    {
     "metadata": {
      "tags": null
     },
     "name": "stdout",
     "output_type": "stream",
     "text": [
      "\u001B[38;2;0;186;142m2022-08-03 07:37:08\u001B[38;2;97;175;239m|\u001B[39m\u001B[49m\u001B[22m\u001B[23m\u001B[24m\u001B[25m\u001B[27m\u001B[28m\u001B[29m\u001B[38;2;198;120;221m[MyReformerModelWithLMHead Train]\u001B[38;2;97;175;239m::\u001B[38;2;198;120;221m_log\u001B[38;2;97;175;239m::\u001B[38;2;198;120;221mtrain_util_wrap.py\u001B[38;2;97;175;239m:\u001B[38;2;198;120;221m255\u001B[38;2;97;175;239m:\u001B[39m\u001B[49m\u001B[22m\u001B[23m\u001B[24m\u001B[25m\u001B[27m\u001B[28m\u001B[29mINFO\u001B[39m\u001B[49m\u001B[22m\u001B[23m\u001B[24m\u001B[25m\u001B[27m\u001B[28m\u001B[29m\u001B[38;2;97;175;239m: \u001B[39m\u001B[49m\u001B[22m\u001B[23m\u001B[24m\u001B[25m\u001B[27m\u001B[28m\u001B[29m\u001B[35m{\u001B[39m\u001B[49m\u001B[0mstep\u001B[35m: \u001B[39m\u001B[49m\u001B[0m\u001B[34m3128/4352\u001B[39m\u001B[49m\u001B[0m, epoch\u001B[35m: \u001B[39m\u001B[49m\u001B[0m\u001B[34m 92.000/128\u001B[39m\u001B[49m\u001B[0m, train/learning_rate\u001B[35m: \u001B[39m\u001B[49m\u001B[0m\u001B[34m2.200e-06\u001B[39m\u001B[49m\u001B[0m, train/loss\u001B[35m: \u001B[39m\u001B[49m\u001B[0m\u001B[34m2.2376\u001B[39m\u001B[49m\u001B[0m\u001B[35m}\u001B[39m\u001B[49m\u001B[0m\u001B[39m\u001B[49m\u001B[22m\u001B[23m\u001B[24m\u001B[25m\u001B[27m\u001B[28m\u001B[29m\n"
     ]
    },
    {
     "data": {
      "application/vnd.jupyter.widget-view+json": {
       "model_id": "4a8a89ccb34643b69c49bde39fe9a9bc",
       "version_major": 2,
       "version_minor": 0
      },
      "text/plain": [
       "Eval Epoch  92/128:   0%|          | 0/2 [00:00<?, ?ba/s]"
      ]
     },
     "metadata": {},
     "output_type": "display_data"
    },
    {
     "metadata": {
      "tags": null
     },
     "name": "stdout",
     "output_type": "stream",
     "text": [
      "\u001B[38;2;0;186;142m2022-08-03 07:37:10\u001B[38;2;97;175;239m|\u001B[39m\u001B[49m\u001B[22m\u001B[23m\u001B[24m\u001B[25m\u001B[27m\u001B[28m\u001B[29m\u001B[38;2;198;120;221m[MyReformerModelWithLMHead Train]\u001B[38;2;97;175;239m::\u001B[38;2;198;120;221m_log\u001B[38;2;97;175;239m::\u001B[38;2;198;120;221mtrain_util_wrap.py\u001B[38;2;97;175;239m:\u001B[38;2;198;120;221m255\u001B[38;2;97;175;239m:\u001B[39m\u001B[49m\u001B[22m\u001B[23m\u001B[24m\u001B[25m\u001B[27m\u001B[28m\u001B[29mINFO\u001B[39m\u001B[49m\u001B[22m\u001B[23m\u001B[24m\u001B[25m\u001B[27m\u001B[28m\u001B[29m\u001B[38;2;97;175;239m: \u001B[39m\u001B[49m\u001B[22m\u001B[23m\u001B[24m\u001B[25m\u001B[27m\u001B[28m\u001B[29m\u001B[35m{\u001B[39m\u001B[49m\u001B[0mstep\u001B[35m: \u001B[39m\u001B[49m\u001B[0m\u001B[34m3128/4352\u001B[39m\u001B[49m\u001B[0m, epoch\u001B[35m: \u001B[39m\u001B[49m\u001B[0m\u001B[34m 92/128\u001B[39m\u001B[49m\u001B[0m, eval/loss\u001B[35m: \u001B[39m\u001B[49m\u001B[0m\u001B[34m2.3045\u001B[39m\u001B[49m\u001B[0m, eval/ntp_acc\u001B[35m: \u001B[39m\u001B[49m\u001B[0m\u001B[34m36.28\u001B[39m\u001B[49m\u001B[0m, eval/ikr\u001B[35m: \u001B[39m\u001B[49m\u001B[0m\u001B[34m50.83\u001B[39m\u001B[49m\u001B[0m\u001B[35m}\u001B[39m\u001B[49m\u001B[0m\u001B[39m\u001B[49m\u001B[22m\u001B[23m\u001B[24m\u001B[25m\u001B[27m\u001B[28m\u001B[29m\n"
     ]
    },
    {
     "data": {
      "application/vnd.jupyter.widget-view+json": {
       "model_id": "2b9f87cb35324cf0b8d09e26d4b7a3fb",
       "version_major": 2,
       "version_minor": 0
      },
      "text/plain": [
       "Train Epoch  93/128:   0%|          | 0/34 [00:00<?, ?ba/s]"
      ]
     },
     "metadata": {},
     "output_type": "display_data"
    },
    {
     "metadata": {
      "tags": null
     },
     "name": "stdout",
     "output_type": "stream",
     "text": [
      "\u001B[38;2;0;186;142m2022-08-03 07:42:08\u001B[38;2;97;175;239m|\u001B[39m\u001B[49m\u001B[22m\u001B[23m\u001B[24m\u001B[25m\u001B[27m\u001B[28m\u001B[29m\u001B[38;2;198;120;221m[MyReformerModelWithLMHead Train]\u001B[38;2;97;175;239m::\u001B[38;2;198;120;221m_log\u001B[38;2;97;175;239m::\u001B[38;2;198;120;221mtrain_util_wrap.py\u001B[38;2;97;175;239m:\u001B[38;2;198;120;221m255\u001B[38;2;97;175;239m:\u001B[39m\u001B[49m\u001B[22m\u001B[23m\u001B[24m\u001B[25m\u001B[27m\u001B[28m\u001B[29mINFO\u001B[39m\u001B[49m\u001B[22m\u001B[23m\u001B[24m\u001B[25m\u001B[27m\u001B[28m\u001B[29m\u001B[38;2;97;175;239m: \u001B[39m\u001B[49m\u001B[22m\u001B[23m\u001B[24m\u001B[25m\u001B[27m\u001B[28m\u001B[29m\u001B[35m{\u001B[39m\u001B[49m\u001B[0mstep\u001B[35m: \u001B[39m\u001B[49m\u001B[0m\u001B[34m3162/4352\u001B[39m\u001B[49m\u001B[0m, epoch\u001B[35m: \u001B[39m\u001B[49m\u001B[0m\u001B[34m 93.000/128\u001B[39m\u001B[49m\u001B[0m, train/learning_rate\u001B[35m: \u001B[39m\u001B[49m\u001B[0m\u001B[34m2.100e-06\u001B[39m\u001B[49m\u001B[0m, train/loss\u001B[35m: \u001B[39m\u001B[49m\u001B[0m\u001B[34m2.2338\u001B[39m\u001B[49m\u001B[0m\u001B[35m}\u001B[39m\u001B[49m\u001B[0m\u001B[39m\u001B[49m\u001B[22m\u001B[23m\u001B[24m\u001B[25m\u001B[27m\u001B[28m\u001B[29m\n"
     ]
    },
    {
     "data": {
      "application/vnd.jupyter.widget-view+json": {
       "model_id": "6284a031bfc54767887f08366bc71fd8",
       "version_major": 2,
       "version_minor": 0
      },
      "text/plain": [
       "Eval Epoch  93/128:   0%|          | 0/2 [00:00<?, ?ba/s]"
      ]
     },
     "metadata": {},
     "output_type": "display_data"
    },
    {
     "metadata": {
      "tags": null
     },
     "name": "stdout",
     "output_type": "stream",
     "text": [
      "\u001B[38;2;0;186;142m2022-08-03 07:42:11\u001B[38;2;97;175;239m|\u001B[39m\u001B[49m\u001B[22m\u001B[23m\u001B[24m\u001B[25m\u001B[27m\u001B[28m\u001B[29m\u001B[38;2;198;120;221m[MyReformerModelWithLMHead Train]\u001B[38;2;97;175;239m::\u001B[38;2;198;120;221m_log\u001B[38;2;97;175;239m::\u001B[38;2;198;120;221mtrain_util_wrap.py\u001B[38;2;97;175;239m:\u001B[38;2;198;120;221m255\u001B[38;2;97;175;239m:\u001B[39m\u001B[49m\u001B[22m\u001B[23m\u001B[24m\u001B[25m\u001B[27m\u001B[28m\u001B[29mINFO\u001B[39m\u001B[49m\u001B[22m\u001B[23m\u001B[24m\u001B[25m\u001B[27m\u001B[28m\u001B[29m\u001B[38;2;97;175;239m: \u001B[39m\u001B[49m\u001B[22m\u001B[23m\u001B[24m\u001B[25m\u001B[27m\u001B[28m\u001B[29m\u001B[35m{\u001B[39m\u001B[49m\u001B[0mstep\u001B[35m: \u001B[39m\u001B[49m\u001B[0m\u001B[34m3162/4352\u001B[39m\u001B[49m\u001B[0m, epoch\u001B[35m: \u001B[39m\u001B[49m\u001B[0m\u001B[34m 93/128\u001B[39m\u001B[49m\u001B[0m, eval/loss\u001B[35m: \u001B[39m\u001B[49m\u001B[0m\u001B[34m2.2995\u001B[39m\u001B[49m\u001B[0m, eval/ntp_acc\u001B[35m: \u001B[39m\u001B[49m\u001B[0m\u001B[34m36.47\u001B[39m\u001B[49m\u001B[0m, eval/ikr\u001B[35m: \u001B[39m\u001B[49m\u001B[0m\u001B[34m52.01\u001B[39m\u001B[49m\u001B[0m\u001B[35m}\u001B[39m\u001B[49m\u001B[0m\u001B[39m\u001B[49m\u001B[22m\u001B[23m\u001B[24m\u001B[25m\u001B[27m\u001B[28m\u001B[29m\n"
     ]
    },
    {
     "data": {
      "application/vnd.jupyter.widget-view+json": {
       "model_id": "4cebddbe79194096832fed46eb88f611",
       "version_major": 2,
       "version_minor": 0
      },
      "text/plain": [
       "Train Epoch  94/128:   0%|          | 0/34 [00:00<?, ?ba/s]"
      ]
     },
     "metadata": {},
     "output_type": "display_data"
    },
    {
     "metadata": {
      "tags": null
     },
     "name": "stdout",
     "output_type": "stream",
     "text": [
      "\u001B[38;2;0;186;142m2022-08-03 07:47:09\u001B[38;2;97;175;239m|\u001B[39m\u001B[49m\u001B[22m\u001B[23m\u001B[24m\u001B[25m\u001B[27m\u001B[28m\u001B[29m\u001B[38;2;198;120;221m[MyReformerModelWithLMHead Train]\u001B[38;2;97;175;239m::\u001B[38;2;198;120;221m_log\u001B[38;2;97;175;239m::\u001B[38;2;198;120;221mtrain_util_wrap.py\u001B[38;2;97;175;239m:\u001B[38;2;198;120;221m255\u001B[38;2;97;175;239m:\u001B[39m\u001B[49m\u001B[22m\u001B[23m\u001B[24m\u001B[25m\u001B[27m\u001B[28m\u001B[29mINFO\u001B[39m\u001B[49m\u001B[22m\u001B[23m\u001B[24m\u001B[25m\u001B[27m\u001B[28m\u001B[29m\u001B[38;2;97;175;239m: \u001B[39m\u001B[49m\u001B[22m\u001B[23m\u001B[24m\u001B[25m\u001B[27m\u001B[28m\u001B[29m\u001B[35m{\u001B[39m\u001B[49m\u001B[0mstep\u001B[35m: \u001B[39m\u001B[49m\u001B[0m\u001B[34m3196/4352\u001B[39m\u001B[49m\u001B[0m, epoch\u001B[35m: \u001B[39m\u001B[49m\u001B[0m\u001B[34m 94.000/128\u001B[39m\u001B[49m\u001B[0m, train/learning_rate\u001B[35m: \u001B[39m\u001B[49m\u001B[0m\u001B[34m2.000e-06\u001B[39m\u001B[49m\u001B[0m, train/loss\u001B[35m: \u001B[39m\u001B[49m\u001B[0m\u001B[34m2.3711\u001B[39m\u001B[49m\u001B[0m\u001B[35m}\u001B[39m\u001B[49m\u001B[0m\u001B[39m\u001B[49m\u001B[22m\u001B[23m\u001B[24m\u001B[25m\u001B[27m\u001B[28m\u001B[29m\n"
     ]
    },
    {
     "data": {
      "application/vnd.jupyter.widget-view+json": {
       "model_id": "08ea1e3a14b942a6946355bf400287c8",
       "version_major": 2,
       "version_minor": 0
      },
      "text/plain": [
       "Eval Epoch  94/128:   0%|          | 0/2 [00:00<?, ?ba/s]"
      ]
     },
     "metadata": {},
     "output_type": "display_data"
    },
    {
     "metadata": {
      "tags": null
     },
     "name": "stdout",
     "output_type": "stream",
     "text": [
      "\u001B[38;2;0;186;142m2022-08-03 07:47:12\u001B[38;2;97;175;239m|\u001B[39m\u001B[49m\u001B[22m\u001B[23m\u001B[24m\u001B[25m\u001B[27m\u001B[28m\u001B[29m\u001B[38;2;198;120;221m[MyReformerModelWithLMHead Train]\u001B[38;2;97;175;239m::\u001B[38;2;198;120;221m_log\u001B[38;2;97;175;239m::\u001B[38;2;198;120;221mtrain_util_wrap.py\u001B[38;2;97;175;239m:\u001B[38;2;198;120;221m255\u001B[38;2;97;175;239m:\u001B[39m\u001B[49m\u001B[22m\u001B[23m\u001B[24m\u001B[25m\u001B[27m\u001B[28m\u001B[29mINFO\u001B[39m\u001B[49m\u001B[22m\u001B[23m\u001B[24m\u001B[25m\u001B[27m\u001B[28m\u001B[29m\u001B[38;2;97;175;239m: \u001B[39m\u001B[49m\u001B[22m\u001B[23m\u001B[24m\u001B[25m\u001B[27m\u001B[28m\u001B[29m\u001B[35m{\u001B[39m\u001B[49m\u001B[0mstep\u001B[35m: \u001B[39m\u001B[49m\u001B[0m\u001B[34m3196/4352\u001B[39m\u001B[49m\u001B[0m, epoch\u001B[35m: \u001B[39m\u001B[49m\u001B[0m\u001B[34m 94/128\u001B[39m\u001B[49m\u001B[0m, eval/loss\u001B[35m: \u001B[39m\u001B[49m\u001B[0m\u001B[34m2.2924\u001B[39m\u001B[49m\u001B[0m, eval/ntp_acc\u001B[35m: \u001B[39m\u001B[49m\u001B[0m\u001B[34m36.79\u001B[39m\u001B[49m\u001B[0m, eval/ikr\u001B[35m: \u001B[39m\u001B[49m\u001B[0m\u001B[34m50.91\u001B[39m\u001B[49m\u001B[0m\u001B[35m}\u001B[39m\u001B[49m\u001B[0m\u001B[39m\u001B[49m\u001B[22m\u001B[23m\u001B[24m\u001B[25m\u001B[27m\u001B[28m\u001B[29m\n"
     ]
    },
    {
     "data": {
      "application/vnd.jupyter.widget-view+json": {
       "model_id": "e92a80900dd04389a9b411bee76b4698",
       "version_major": 2,
       "version_minor": 0
      },
      "text/plain": [
       "Train Epoch  95/128:   0%|          | 0/34 [00:00<?, ?ba/s]"
      ]
     },
     "metadata": {},
     "output_type": "display_data"
    },
    {
     "metadata": {
      "tags": null
     },
     "name": "stdout",
     "output_type": "stream",
     "text": [
      "\u001B[38;2;0;186;142m2022-08-03 07:52:10\u001B[38;2;97;175;239m|\u001B[39m\u001B[49m\u001B[22m\u001B[23m\u001B[24m\u001B[25m\u001B[27m\u001B[28m\u001B[29m\u001B[38;2;198;120;221m[MyReformerModelWithLMHead Train]\u001B[38;2;97;175;239m::\u001B[38;2;198;120;221m_log\u001B[38;2;97;175;239m::\u001B[38;2;198;120;221mtrain_util_wrap.py\u001B[38;2;97;175;239m:\u001B[38;2;198;120;221m255\u001B[38;2;97;175;239m:\u001B[39m\u001B[49m\u001B[22m\u001B[23m\u001B[24m\u001B[25m\u001B[27m\u001B[28m\u001B[29mINFO\u001B[39m\u001B[49m\u001B[22m\u001B[23m\u001B[24m\u001B[25m\u001B[27m\u001B[28m\u001B[29m\u001B[38;2;97;175;239m: \u001B[39m\u001B[49m\u001B[22m\u001B[23m\u001B[24m\u001B[25m\u001B[27m\u001B[28m\u001B[29m\u001B[35m{\u001B[39m\u001B[49m\u001B[0mstep\u001B[35m: \u001B[39m\u001B[49m\u001B[0m\u001B[34m3230/4352\u001B[39m\u001B[49m\u001B[0m, epoch\u001B[35m: \u001B[39m\u001B[49m\u001B[0m\u001B[34m 95.000/128\u001B[39m\u001B[49m\u001B[0m, train/learning_rate\u001B[35m: \u001B[39m\u001B[49m\u001B[0m\u001B[34m1.900e-06\u001B[39m\u001B[49m\u001B[0m, train/loss\u001B[35m: \u001B[39m\u001B[49m\u001B[0m\u001B[34m2.3178\u001B[39m\u001B[49m\u001B[0m\u001B[35m}\u001B[39m\u001B[49m\u001B[0m\u001B[39m\u001B[49m\u001B[22m\u001B[23m\u001B[24m\u001B[25m\u001B[27m\u001B[28m\u001B[29m\n"
     ]
    },
    {
     "data": {
      "application/vnd.jupyter.widget-view+json": {
       "model_id": "eabda964f7ed4a23b4fc90b3cd50e0f5",
       "version_major": 2,
       "version_minor": 0
      },
      "text/plain": [
       "Eval Epoch  95/128:   0%|          | 0/2 [00:00<?, ?ba/s]"
      ]
     },
     "metadata": {},
     "output_type": "display_data"
    },
    {
     "metadata": {
      "tags": null
     },
     "name": "stdout",
     "output_type": "stream",
     "text": [
      "\u001B[38;2;0;186;142m2022-08-03 07:52:13\u001B[38;2;97;175;239m|\u001B[39m\u001B[49m\u001B[22m\u001B[23m\u001B[24m\u001B[25m\u001B[27m\u001B[28m\u001B[29m\u001B[38;2;198;120;221m[MyReformerModelWithLMHead Train]\u001B[38;2;97;175;239m::\u001B[38;2;198;120;221m_log\u001B[38;2;97;175;239m::\u001B[38;2;198;120;221mtrain_util_wrap.py\u001B[38;2;97;175;239m:\u001B[38;2;198;120;221m255\u001B[38;2;97;175;239m:\u001B[39m\u001B[49m\u001B[22m\u001B[23m\u001B[24m\u001B[25m\u001B[27m\u001B[28m\u001B[29mINFO\u001B[39m\u001B[49m\u001B[22m\u001B[23m\u001B[24m\u001B[25m\u001B[27m\u001B[28m\u001B[29m\u001B[38;2;97;175;239m: \u001B[39m\u001B[49m\u001B[22m\u001B[23m\u001B[24m\u001B[25m\u001B[27m\u001B[28m\u001B[29m\u001B[35m{\u001B[39m\u001B[49m\u001B[0mstep\u001B[35m: \u001B[39m\u001B[49m\u001B[0m\u001B[34m3230/4352\u001B[39m\u001B[49m\u001B[0m, epoch\u001B[35m: \u001B[39m\u001B[49m\u001B[0m\u001B[34m 95/128\u001B[39m\u001B[49m\u001B[0m, eval/loss\u001B[35m: \u001B[39m\u001B[49m\u001B[0m\u001B[34m2.2884\u001B[39m\u001B[49m\u001B[0m, eval/ntp_acc\u001B[35m: \u001B[39m\u001B[49m\u001B[0m\u001B[34m36.86\u001B[39m\u001B[49m\u001B[0m, eval/ikr\u001B[35m: \u001B[39m\u001B[49m\u001B[0m\u001B[34m51.01\u001B[39m\u001B[49m\u001B[0m\u001B[35m}\u001B[39m\u001B[49m\u001B[0m\u001B[39m\u001B[49m\u001B[22m\u001B[23m\u001B[24m\u001B[25m\u001B[27m\u001B[28m\u001B[29m\n"
     ]
    },
    {
     "data": {
      "application/vnd.jupyter.widget-view+json": {
       "model_id": "bd3c2290ba6c4ecc8a53300efc30271f",
       "version_major": 2,
       "version_minor": 0
      },
      "text/plain": [
       "Train Epoch  96/128:   0%|          | 0/34 [00:00<?, ?ba/s]"
      ]
     },
     "metadata": {},
     "output_type": "display_data"
    },
    {
     "metadata": {
      "tags": null
     },
     "name": "stdout",
     "output_type": "stream",
     "text": [
      "\u001B[38;2;0;186;142m2022-08-03 07:57:11\u001B[38;2;97;175;239m|\u001B[39m\u001B[49m\u001B[22m\u001B[23m\u001B[24m\u001B[25m\u001B[27m\u001B[28m\u001B[29m\u001B[38;2;198;120;221m[MyReformerModelWithLMHead Train]\u001B[38;2;97;175;239m::\u001B[38;2;198;120;221m_log\u001B[38;2;97;175;239m::\u001B[38;2;198;120;221mtrain_util_wrap.py\u001B[38;2;97;175;239m:\u001B[38;2;198;120;221m255\u001B[38;2;97;175;239m:\u001B[39m\u001B[49m\u001B[22m\u001B[23m\u001B[24m\u001B[25m\u001B[27m\u001B[28m\u001B[29mINFO\u001B[39m\u001B[49m\u001B[22m\u001B[23m\u001B[24m\u001B[25m\u001B[27m\u001B[28m\u001B[29m\u001B[38;2;97;175;239m: \u001B[39m\u001B[49m\u001B[22m\u001B[23m\u001B[24m\u001B[25m\u001B[27m\u001B[28m\u001B[29m\u001B[35m{\u001B[39m\u001B[49m\u001B[0mstep\u001B[35m: \u001B[39m\u001B[49m\u001B[0m\u001B[34m3264/4352\u001B[39m\u001B[49m\u001B[0m, epoch\u001B[35m: \u001B[39m\u001B[49m\u001B[0m\u001B[34m 96.000/128\u001B[39m\u001B[49m\u001B[0m, train/learning_rate\u001B[35m: \u001B[39m\u001B[49m\u001B[0m\u001B[34m1.800e-06\u001B[39m\u001B[49m\u001B[0m, train/loss\u001B[35m: \u001B[39m\u001B[49m\u001B[0m\u001B[34m2.3886\u001B[39m\u001B[49m\u001B[0m\u001B[35m}\u001B[39m\u001B[49m\u001B[0m\u001B[39m\u001B[49m\u001B[22m\u001B[23m\u001B[24m\u001B[25m\u001B[27m\u001B[28m\u001B[29m\n"
     ]
    },
    {
     "data": {
      "application/vnd.jupyter.widget-view+json": {
       "model_id": "33d1fe9e09d046e58dd65abf182d6f47",
       "version_major": 2,
       "version_minor": 0
      },
      "text/plain": [
       "Eval Epoch  96/128:   0%|          | 0/2 [00:00<?, ?ba/s]"
      ]
     },
     "metadata": {},
     "output_type": "display_data"
    },
    {
     "metadata": {
      "tags": null
     },
     "name": "stdout",
     "output_type": "stream",
     "text": [
      "\u001B[38;2;0;186;142m2022-08-03 07:57:18\u001B[38;2;97;175;239m|\u001B[39m\u001B[49m\u001B[22m\u001B[23m\u001B[24m\u001B[25m\u001B[27m\u001B[28m\u001B[29m\u001B[38;2;198;120;221m[MyReformerModelWithLMHead Train]\u001B[38;2;97;175;239m::\u001B[38;2;198;120;221m_log\u001B[38;2;97;175;239m::\u001B[38;2;198;120;221mtrain_util_wrap.py\u001B[38;2;97;175;239m:\u001B[38;2;198;120;221m255\u001B[38;2;97;175;239m:\u001B[39m\u001B[49m\u001B[22m\u001B[23m\u001B[24m\u001B[25m\u001B[27m\u001B[28m\u001B[29mINFO\u001B[39m\u001B[49m\u001B[22m\u001B[23m\u001B[24m\u001B[25m\u001B[27m\u001B[28m\u001B[29m\u001B[38;2;97;175;239m: \u001B[39m\u001B[49m\u001B[22m\u001B[23m\u001B[24m\u001B[25m\u001B[27m\u001B[28m\u001B[29m\u001B[35m{\u001B[39m\u001B[49m\u001B[0mstep\u001B[35m: \u001B[39m\u001B[49m\u001B[0m\u001B[34m3264/4352\u001B[39m\u001B[49m\u001B[0m, epoch\u001B[35m: \u001B[39m\u001B[49m\u001B[0m\u001B[34m 96/128\u001B[39m\u001B[49m\u001B[0m, eval/loss\u001B[35m: \u001B[39m\u001B[49m\u001B[0m\u001B[34m2.288\u001B[39m\u001B[49m\u001B[0m, eval/ntp_acc\u001B[35m: \u001B[39m\u001B[49m\u001B[0m\u001B[34m36.96\u001B[39m\u001B[49m\u001B[0m, eval/ikr\u001B[35m: \u001B[39m\u001B[49m\u001B[0m\u001B[34m50.31\u001B[39m\u001B[49m\u001B[0m\u001B[35m}\u001B[39m\u001B[49m\u001B[0m\u001B[39m\u001B[49m\u001B[22m\u001B[23m\u001B[24m\u001B[25m\u001B[27m\u001B[28m\u001B[29m\n"
     ]
    },
    {
     "data": {
      "application/vnd.jupyter.widget-view+json": {
       "model_id": "de12a9bb95c140268c04fac258f8c0e8",
       "version_major": 2,
       "version_minor": 0
      },
      "text/plain": [
       "Train Epoch  97/128:   0%|          | 0/34 [00:00<?, ?ba/s]"
      ]
     },
     "metadata": {},
     "output_type": "display_data"
    },
    {
     "metadata": {
      "tags": null
     },
     "name": "stdout",
     "output_type": "stream",
     "text": [
      "\u001B[38;2;0;186;142m2022-08-03 08:02:16\u001B[38;2;97;175;239m|\u001B[39m\u001B[49m\u001B[22m\u001B[23m\u001B[24m\u001B[25m\u001B[27m\u001B[28m\u001B[29m\u001B[38;2;198;120;221m[MyReformerModelWithLMHead Train]\u001B[38;2;97;175;239m::\u001B[38;2;198;120;221m_log\u001B[38;2;97;175;239m::\u001B[38;2;198;120;221mtrain_util_wrap.py\u001B[38;2;97;175;239m:\u001B[38;2;198;120;221m255\u001B[38;2;97;175;239m:\u001B[39m\u001B[49m\u001B[22m\u001B[23m\u001B[24m\u001B[25m\u001B[27m\u001B[28m\u001B[29mINFO\u001B[39m\u001B[49m\u001B[22m\u001B[23m\u001B[24m\u001B[25m\u001B[27m\u001B[28m\u001B[29m\u001B[38;2;97;175;239m: \u001B[39m\u001B[49m\u001B[22m\u001B[23m\u001B[24m\u001B[25m\u001B[27m\u001B[28m\u001B[29m\u001B[35m{\u001B[39m\u001B[49m\u001B[0mstep\u001B[35m: \u001B[39m\u001B[49m\u001B[0m\u001B[34m3298/4352\u001B[39m\u001B[49m\u001B[0m, epoch\u001B[35m: \u001B[39m\u001B[49m\u001B[0m\u001B[34m 97.000/128\u001B[39m\u001B[49m\u001B[0m, train/learning_rate\u001B[35m: \u001B[39m\u001B[49m\u001B[0m\u001B[34m1.700e-06\u001B[39m\u001B[49m\u001B[0m, train/loss\u001B[35m: \u001B[39m\u001B[49m\u001B[0m\u001B[34m2.2242\u001B[39m\u001B[49m\u001B[0m\u001B[35m}\u001B[39m\u001B[49m\u001B[0m\u001B[39m\u001B[49m\u001B[22m\u001B[23m\u001B[24m\u001B[25m\u001B[27m\u001B[28m\u001B[29m\n"
     ]
    },
    {
     "data": {
      "application/vnd.jupyter.widget-view+json": {
       "model_id": "db27cb57293144518636ad24468aa536",
       "version_major": 2,
       "version_minor": 0
      },
      "text/plain": [
       "Eval Epoch  97/128:   0%|          | 0/2 [00:00<?, ?ba/s]"
      ]
     },
     "metadata": {},
     "output_type": "display_data"
    },
    {
     "metadata": {
      "tags": null
     },
     "name": "stdout",
     "output_type": "stream",
     "text": [
      "\u001B[38;2;0;186;142m2022-08-03 08:02:19\u001B[38;2;97;175;239m|\u001B[39m\u001B[49m\u001B[22m\u001B[23m\u001B[24m\u001B[25m\u001B[27m\u001B[28m\u001B[29m\u001B[38;2;198;120;221m[MyReformerModelWithLMHead Train]\u001B[38;2;97;175;239m::\u001B[38;2;198;120;221m_log\u001B[38;2;97;175;239m::\u001B[38;2;198;120;221mtrain_util_wrap.py\u001B[38;2;97;175;239m:\u001B[38;2;198;120;221m255\u001B[38;2;97;175;239m:\u001B[39m\u001B[49m\u001B[22m\u001B[23m\u001B[24m\u001B[25m\u001B[27m\u001B[28m\u001B[29mINFO\u001B[39m\u001B[49m\u001B[22m\u001B[23m\u001B[24m\u001B[25m\u001B[27m\u001B[28m\u001B[29m\u001B[38;2;97;175;239m: \u001B[39m\u001B[49m\u001B[22m\u001B[23m\u001B[24m\u001B[25m\u001B[27m\u001B[28m\u001B[29m\u001B[35m{\u001B[39m\u001B[49m\u001B[0mstep\u001B[35m: \u001B[39m\u001B[49m\u001B[0m\u001B[34m3298/4352\u001B[39m\u001B[49m\u001B[0m, epoch\u001B[35m: \u001B[39m\u001B[49m\u001B[0m\u001B[34m 97/128\u001B[39m\u001B[49m\u001B[0m, eval/loss\u001B[35m: \u001B[39m\u001B[49m\u001B[0m\u001B[34m2.2814\u001B[39m\u001B[49m\u001B[0m, eval/ntp_acc\u001B[35m: \u001B[39m\u001B[49m\u001B[0m\u001B[34m37.07\u001B[39m\u001B[49m\u001B[0m, eval/ikr\u001B[35m: \u001B[39m\u001B[49m\u001B[0m\u001B[34m51.16\u001B[39m\u001B[49m\u001B[0m\u001B[35m}\u001B[39m\u001B[49m\u001B[0m\u001B[39m\u001B[49m\u001B[22m\u001B[23m\u001B[24m\u001B[25m\u001B[27m\u001B[28m\u001B[29m\n"
     ]
    },
    {
     "data": {
      "application/vnd.jupyter.widget-view+json": {
       "model_id": "7e324147758049d4b0ca88067512a4ec",
       "version_major": 2,
       "version_minor": 0
      },
      "text/plain": [
       "Train Epoch  98/128:   0%|          | 0/34 [00:00<?, ?ba/s]"
      ]
     },
     "metadata": {},
     "output_type": "display_data"
    },
    {
     "metadata": {
      "tags": null
     },
     "name": "stdout",
     "output_type": "stream",
     "text": [
      "\u001B[38;2;0;186;142m2022-08-03 08:07:17\u001B[38;2;97;175;239m|\u001B[39m\u001B[49m\u001B[22m\u001B[23m\u001B[24m\u001B[25m\u001B[27m\u001B[28m\u001B[29m\u001B[38;2;198;120;221m[MyReformerModelWithLMHead Train]\u001B[38;2;97;175;239m::\u001B[38;2;198;120;221m_log\u001B[38;2;97;175;239m::\u001B[38;2;198;120;221mtrain_util_wrap.py\u001B[38;2;97;175;239m:\u001B[38;2;198;120;221m255\u001B[38;2;97;175;239m:\u001B[39m\u001B[49m\u001B[22m\u001B[23m\u001B[24m\u001B[25m\u001B[27m\u001B[28m\u001B[29mINFO\u001B[39m\u001B[49m\u001B[22m\u001B[23m\u001B[24m\u001B[25m\u001B[27m\u001B[28m\u001B[29m\u001B[38;2;97;175;239m: \u001B[39m\u001B[49m\u001B[22m\u001B[23m\u001B[24m\u001B[25m\u001B[27m\u001B[28m\u001B[29m\u001B[35m{\u001B[39m\u001B[49m\u001B[0mstep\u001B[35m: \u001B[39m\u001B[49m\u001B[0m\u001B[34m3332/4352\u001B[39m\u001B[49m\u001B[0m, epoch\u001B[35m: \u001B[39m\u001B[49m\u001B[0m\u001B[34m 98.000/128\u001B[39m\u001B[49m\u001B[0m, train/learning_rate\u001B[35m: \u001B[39m\u001B[49m\u001B[0m\u001B[34m1.600e-06\u001B[39m\u001B[49m\u001B[0m, train/loss\u001B[35m: \u001B[39m\u001B[49m\u001B[0m\u001B[34m2.3832\u001B[39m\u001B[49m\u001B[0m\u001B[35m}\u001B[39m\u001B[49m\u001B[0m\u001B[39m\u001B[49m\u001B[22m\u001B[23m\u001B[24m\u001B[25m\u001B[27m\u001B[28m\u001B[29m\n"
     ]
    },
    {
     "data": {
      "application/vnd.jupyter.widget-view+json": {
       "model_id": "a24f77b96e604782838ec90b6208231b",
       "version_major": 2,
       "version_minor": 0
      },
      "text/plain": [
       "Eval Epoch  98/128:   0%|          | 0/2 [00:00<?, ?ba/s]"
      ]
     },
     "metadata": {},
     "output_type": "display_data"
    },
    {
     "metadata": {
      "tags": null
     },
     "name": "stdout",
     "output_type": "stream",
     "text": [
      "\u001B[38;2;0;186;142m2022-08-03 08:07:20\u001B[38;2;97;175;239m|\u001B[39m\u001B[49m\u001B[22m\u001B[23m\u001B[24m\u001B[25m\u001B[27m\u001B[28m\u001B[29m\u001B[38;2;198;120;221m[MyReformerModelWithLMHead Train]\u001B[38;2;97;175;239m::\u001B[38;2;198;120;221m_log\u001B[38;2;97;175;239m::\u001B[38;2;198;120;221mtrain_util_wrap.py\u001B[38;2;97;175;239m:\u001B[38;2;198;120;221m255\u001B[38;2;97;175;239m:\u001B[39m\u001B[49m\u001B[22m\u001B[23m\u001B[24m\u001B[25m\u001B[27m\u001B[28m\u001B[29mINFO\u001B[39m\u001B[49m\u001B[22m\u001B[23m\u001B[24m\u001B[25m\u001B[27m\u001B[28m\u001B[29m\u001B[38;2;97;175;239m: \u001B[39m\u001B[49m\u001B[22m\u001B[23m\u001B[24m\u001B[25m\u001B[27m\u001B[28m\u001B[29m\u001B[35m{\u001B[39m\u001B[49m\u001B[0mstep\u001B[35m: \u001B[39m\u001B[49m\u001B[0m\u001B[34m3332/4352\u001B[39m\u001B[49m\u001B[0m, epoch\u001B[35m: \u001B[39m\u001B[49m\u001B[0m\u001B[34m 98/128\u001B[39m\u001B[49m\u001B[0m, eval/loss\u001B[35m: \u001B[39m\u001B[49m\u001B[0m\u001B[34m2.2844\u001B[39m\u001B[49m\u001B[0m, eval/ntp_acc\u001B[35m: \u001B[39m\u001B[49m\u001B[0m\u001B[34m 36.8\u001B[39m\u001B[49m\u001B[0m, eval/ikr\u001B[35m: \u001B[39m\u001B[49m\u001B[0m\u001B[34m51.63\u001B[39m\u001B[49m\u001B[0m\u001B[35m}\u001B[39m\u001B[49m\u001B[0m\u001B[39m\u001B[49m\u001B[22m\u001B[23m\u001B[24m\u001B[25m\u001B[27m\u001B[28m\u001B[29m\n"
     ]
    },
    {
     "data": {
      "application/vnd.jupyter.widget-view+json": {
       "model_id": "35e482fe09b14118af98d0892e87f124",
       "version_major": 2,
       "version_minor": 0
      },
      "text/plain": [
       "Train Epoch  99/128:   0%|          | 0/34 [00:00<?, ?ba/s]"
      ]
     },
     "metadata": {},
     "output_type": "display_data"
    },
    {
     "metadata": {
      "tags": null
     },
     "name": "stdout",
     "output_type": "stream",
     "text": [
      "\u001B[38;2;0;186;142m2022-08-03 08:12:18\u001B[38;2;97;175;239m|\u001B[39m\u001B[49m\u001B[22m\u001B[23m\u001B[24m\u001B[25m\u001B[27m\u001B[28m\u001B[29m\u001B[38;2;198;120;221m[MyReformerModelWithLMHead Train]\u001B[38;2;97;175;239m::\u001B[38;2;198;120;221m_log\u001B[38;2;97;175;239m::\u001B[38;2;198;120;221mtrain_util_wrap.py\u001B[38;2;97;175;239m:\u001B[38;2;198;120;221m255\u001B[38;2;97;175;239m:\u001B[39m\u001B[49m\u001B[22m\u001B[23m\u001B[24m\u001B[25m\u001B[27m\u001B[28m\u001B[29mINFO\u001B[39m\u001B[49m\u001B[22m\u001B[23m\u001B[24m\u001B[25m\u001B[27m\u001B[28m\u001B[29m\u001B[38;2;97;175;239m: \u001B[39m\u001B[49m\u001B[22m\u001B[23m\u001B[24m\u001B[25m\u001B[27m\u001B[28m\u001B[29m\u001B[35m{\u001B[39m\u001B[49m\u001B[0mstep\u001B[35m: \u001B[39m\u001B[49m\u001B[0m\u001B[34m3366/4352\u001B[39m\u001B[49m\u001B[0m, epoch\u001B[35m: \u001B[39m\u001B[49m\u001B[0m\u001B[34m 99.000/128\u001B[39m\u001B[49m\u001B[0m, train/learning_rate\u001B[35m: \u001B[39m\u001B[49m\u001B[0m\u001B[34m1.500e-06\u001B[39m\u001B[49m\u001B[0m, train/loss\u001B[35m: \u001B[39m\u001B[49m\u001B[0m\u001B[34m2.4364\u001B[39m\u001B[49m\u001B[0m\u001B[35m}\u001B[39m\u001B[49m\u001B[0m\u001B[39m\u001B[49m\u001B[22m\u001B[23m\u001B[24m\u001B[25m\u001B[27m\u001B[28m\u001B[29m\n"
     ]
    },
    {
     "data": {
      "application/vnd.jupyter.widget-view+json": {
       "model_id": "7150d1c1874e475081baf78a7cb107e0",
       "version_major": 2,
       "version_minor": 0
      },
      "text/plain": [
       "Eval Epoch  99/128:   0%|          | 0/2 [00:00<?, ?ba/s]"
      ]
     },
     "metadata": {},
     "output_type": "display_data"
    },
    {
     "metadata": {
      "tags": null
     },
     "name": "stdout",
     "output_type": "stream",
     "text": [
      "\u001B[38;2;0;186;142m2022-08-03 08:12:20\u001B[38;2;97;175;239m|\u001B[39m\u001B[49m\u001B[22m\u001B[23m\u001B[24m\u001B[25m\u001B[27m\u001B[28m\u001B[29m\u001B[38;2;198;120;221m[MyReformerModelWithLMHead Train]\u001B[38;2;97;175;239m::\u001B[38;2;198;120;221m_log\u001B[38;2;97;175;239m::\u001B[38;2;198;120;221mtrain_util_wrap.py\u001B[38;2;97;175;239m:\u001B[38;2;198;120;221m255\u001B[38;2;97;175;239m:\u001B[39m\u001B[49m\u001B[22m\u001B[23m\u001B[24m\u001B[25m\u001B[27m\u001B[28m\u001B[29mINFO\u001B[39m\u001B[49m\u001B[22m\u001B[23m\u001B[24m\u001B[25m\u001B[27m\u001B[28m\u001B[29m\u001B[38;2;97;175;239m: \u001B[39m\u001B[49m\u001B[22m\u001B[23m\u001B[24m\u001B[25m\u001B[27m\u001B[28m\u001B[29m\u001B[35m{\u001B[39m\u001B[49m\u001B[0mstep\u001B[35m: \u001B[39m\u001B[49m\u001B[0m\u001B[34m3366/4352\u001B[39m\u001B[49m\u001B[0m, epoch\u001B[35m: \u001B[39m\u001B[49m\u001B[0m\u001B[34m 99/128\u001B[39m\u001B[49m\u001B[0m, eval/loss\u001B[35m: \u001B[39m\u001B[49m\u001B[0m\u001B[34m2.2822\u001B[39m\u001B[49m\u001B[0m, eval/ntp_acc\u001B[35m: \u001B[39m\u001B[49m\u001B[0m\u001B[34m 36.9\u001B[39m\u001B[49m\u001B[0m, eval/ikr\u001B[35m: \u001B[39m\u001B[49m\u001B[0m\u001B[34m50.59\u001B[39m\u001B[49m\u001B[0m\u001B[35m}\u001B[39m\u001B[49m\u001B[0m\u001B[39m\u001B[49m\u001B[22m\u001B[23m\u001B[24m\u001B[25m\u001B[27m\u001B[28m\u001B[29m\n"
     ]
    },
    {
     "data": {
      "application/vnd.jupyter.widget-view+json": {
       "model_id": "a5e737eaa8034cf2804e2467aaec3e4f",
       "version_major": 2,
       "version_minor": 0
      },
      "text/plain": [
       "Train Epoch 100/128:   0%|          | 0/34 [00:00<?, ?ba/s]"
      ]
     },
     "metadata": {},
     "output_type": "display_data"
    },
    {
     "metadata": {
      "tags": null
     },
     "name": "stdout",
     "output_type": "stream",
     "text": [
      "\u001B[38;2;0;186;142m2022-08-03 08:17:19\u001B[38;2;97;175;239m|\u001B[39m\u001B[49m\u001B[22m\u001B[23m\u001B[24m\u001B[25m\u001B[27m\u001B[28m\u001B[29m\u001B[38;2;198;120;221m[MyReformerModelWithLMHead Train]\u001B[38;2;97;175;239m::\u001B[38;2;198;120;221m_log\u001B[38;2;97;175;239m::\u001B[38;2;198;120;221mtrain_util_wrap.py\u001B[38;2;97;175;239m:\u001B[38;2;198;120;221m255\u001B[38;2;97;175;239m:\u001B[39m\u001B[49m\u001B[22m\u001B[23m\u001B[24m\u001B[25m\u001B[27m\u001B[28m\u001B[29mINFO\u001B[39m\u001B[49m\u001B[22m\u001B[23m\u001B[24m\u001B[25m\u001B[27m\u001B[28m\u001B[29m\u001B[38;2;97;175;239m: \u001B[39m\u001B[49m\u001B[22m\u001B[23m\u001B[24m\u001B[25m\u001B[27m\u001B[28m\u001B[29m\u001B[35m{\u001B[39m\u001B[49m\u001B[0mstep\u001B[35m: \u001B[39m\u001B[49m\u001B[0m\u001B[34m3400/4352\u001B[39m\u001B[49m\u001B[0m, epoch\u001B[35m: \u001B[39m\u001B[49m\u001B[0m\u001B[34m100.000/128\u001B[39m\u001B[49m\u001B[0m, train/learning_rate\u001B[35m: \u001B[39m\u001B[49m\u001B[0m\u001B[34m1.400e-06\u001B[39m\u001B[49m\u001B[0m, train/loss\u001B[35m: \u001B[39m\u001B[49m\u001B[0m\u001B[34m2.1943\u001B[39m\u001B[49m\u001B[0m\u001B[35m}\u001B[39m\u001B[49m\u001B[0m\u001B[39m\u001B[49m\u001B[22m\u001B[23m\u001B[24m\u001B[25m\u001B[27m\u001B[28m\u001B[29m\n"
     ]
    },
    {
     "data": {
      "application/vnd.jupyter.widget-view+json": {
       "model_id": "8df420ddfaf2400480763a6c372c3669",
       "version_major": 2,
       "version_minor": 0
      },
      "text/plain": [
       "Eval Epoch 100/128:   0%|          | 0/2 [00:00<?, ?ba/s]"
      ]
     },
     "metadata": {},
     "output_type": "display_data"
    },
    {
     "metadata": {
      "tags": null
     },
     "name": "stdout",
     "output_type": "stream",
     "text": [
      "\u001B[38;2;0;186;142m2022-08-03 08:17:21\u001B[38;2;97;175;239m|\u001B[39m\u001B[49m\u001B[22m\u001B[23m\u001B[24m\u001B[25m\u001B[27m\u001B[28m\u001B[29m\u001B[38;2;198;120;221m[MyReformerModelWithLMHead Train]\u001B[38;2;97;175;239m::\u001B[38;2;198;120;221m_log\u001B[38;2;97;175;239m::\u001B[38;2;198;120;221mtrain_util_wrap.py\u001B[38;2;97;175;239m:\u001B[38;2;198;120;221m255\u001B[38;2;97;175;239m:\u001B[39m\u001B[49m\u001B[22m\u001B[23m\u001B[24m\u001B[25m\u001B[27m\u001B[28m\u001B[29mINFO\u001B[39m\u001B[49m\u001B[22m\u001B[23m\u001B[24m\u001B[25m\u001B[27m\u001B[28m\u001B[29m\u001B[38;2;97;175;239m: \u001B[39m\u001B[49m\u001B[22m\u001B[23m\u001B[24m\u001B[25m\u001B[27m\u001B[28m\u001B[29m\u001B[35m{\u001B[39m\u001B[49m\u001B[0mstep\u001B[35m: \u001B[39m\u001B[49m\u001B[0m\u001B[34m3400/4352\u001B[39m\u001B[49m\u001B[0m, epoch\u001B[35m: \u001B[39m\u001B[49m\u001B[0m\u001B[34m100/128\u001B[39m\u001B[49m\u001B[0m, eval/loss\u001B[35m: \u001B[39m\u001B[49m\u001B[0m\u001B[34m2.2748\u001B[39m\u001B[49m\u001B[0m, eval/ntp_acc\u001B[35m: \u001B[39m\u001B[49m\u001B[0m\u001B[34m37.06\u001B[39m\u001B[49m\u001B[0m, eval/ikr\u001B[35m: \u001B[39m\u001B[49m\u001B[0m\u001B[34m50.49\u001B[39m\u001B[49m\u001B[0m\u001B[35m}\u001B[39m\u001B[49m\u001B[0m\u001B[39m\u001B[49m\u001B[22m\u001B[23m\u001B[24m\u001B[25m\u001B[27m\u001B[28m\u001B[29m\n"
     ]
    },
    {
     "data": {
      "application/vnd.jupyter.widget-view+json": {
       "model_id": "d64f177a03324101ab0fe96027f1171b",
       "version_major": 2,
       "version_minor": 0
      },
      "text/plain": [
       "Train Epoch 101/128:   0%|          | 0/34 [00:00<?, ?ba/s]"
      ]
     },
     "metadata": {},
     "output_type": "display_data"
    },
    {
     "metadata": {
      "tags": null
     },
     "name": "stdout",
     "output_type": "stream",
     "text": [
      "\u001B[38;2;0;186;142m2022-08-03 08:22:19\u001B[38;2;97;175;239m|\u001B[39m\u001B[49m\u001B[22m\u001B[23m\u001B[24m\u001B[25m\u001B[27m\u001B[28m\u001B[29m\u001B[38;2;198;120;221m[MyReformerModelWithLMHead Train]\u001B[38;2;97;175;239m::\u001B[38;2;198;120;221m_log\u001B[38;2;97;175;239m::\u001B[38;2;198;120;221mtrain_util_wrap.py\u001B[38;2;97;175;239m:\u001B[38;2;198;120;221m255\u001B[38;2;97;175;239m:\u001B[39m\u001B[49m\u001B[22m\u001B[23m\u001B[24m\u001B[25m\u001B[27m\u001B[28m\u001B[29mINFO\u001B[39m\u001B[49m\u001B[22m\u001B[23m\u001B[24m\u001B[25m\u001B[27m\u001B[28m\u001B[29m\u001B[38;2;97;175;239m: \u001B[39m\u001B[49m\u001B[22m\u001B[23m\u001B[24m\u001B[25m\u001B[27m\u001B[28m\u001B[29m\u001B[35m{\u001B[39m\u001B[49m\u001B[0mstep\u001B[35m: \u001B[39m\u001B[49m\u001B[0m\u001B[34m3434/4352\u001B[39m\u001B[49m\u001B[0m, epoch\u001B[35m: \u001B[39m\u001B[49m\u001B[0m\u001B[34m101.000/128\u001B[39m\u001B[49m\u001B[0m, train/learning_rate\u001B[35m: \u001B[39m\u001B[49m\u001B[0m\u001B[34m1.300e-06\u001B[39m\u001B[49m\u001B[0m, train/loss\u001B[35m: \u001B[39m\u001B[49m\u001B[0m\u001B[34m2.183\u001B[39m\u001B[49m\u001B[0m\u001B[35m}\u001B[39m\u001B[49m\u001B[0m\u001B[39m\u001B[49m\u001B[22m\u001B[23m\u001B[24m\u001B[25m\u001B[27m\u001B[28m\u001B[29m\n"
     ]
    },
    {
     "data": {
      "application/vnd.jupyter.widget-view+json": {
       "model_id": "a18297ceb92a43a596978008b60b1810",
       "version_major": 2,
       "version_minor": 0
      },
      "text/plain": [
       "Eval Epoch 101/128:   0%|          | 0/2 [00:00<?, ?ba/s]"
      ]
     },
     "metadata": {},
     "output_type": "display_data"
    },
    {
     "metadata": {
      "tags": null
     },
     "name": "stdout",
     "output_type": "stream",
     "text": [
      "\u001B[38;2;0;186;142m2022-08-03 08:22:22\u001B[38;2;97;175;239m|\u001B[39m\u001B[49m\u001B[22m\u001B[23m\u001B[24m\u001B[25m\u001B[27m\u001B[28m\u001B[29m\u001B[38;2;198;120;221m[MyReformerModelWithLMHead Train]\u001B[38;2;97;175;239m::\u001B[38;2;198;120;221m_log\u001B[38;2;97;175;239m::\u001B[38;2;198;120;221mtrain_util_wrap.py\u001B[38;2;97;175;239m:\u001B[38;2;198;120;221m255\u001B[38;2;97;175;239m:\u001B[39m\u001B[49m\u001B[22m\u001B[23m\u001B[24m\u001B[25m\u001B[27m\u001B[28m\u001B[29mINFO\u001B[39m\u001B[49m\u001B[22m\u001B[23m\u001B[24m\u001B[25m\u001B[27m\u001B[28m\u001B[29m\u001B[38;2;97;175;239m: \u001B[39m\u001B[49m\u001B[22m\u001B[23m\u001B[24m\u001B[25m\u001B[27m\u001B[28m\u001B[29m\u001B[35m{\u001B[39m\u001B[49m\u001B[0mstep\u001B[35m: \u001B[39m\u001B[49m\u001B[0m\u001B[34m3434/4352\u001B[39m\u001B[49m\u001B[0m, epoch\u001B[35m: \u001B[39m\u001B[49m\u001B[0m\u001B[34m101/128\u001B[39m\u001B[49m\u001B[0m, eval/loss\u001B[35m: \u001B[39m\u001B[49m\u001B[0m\u001B[34m2.2712\u001B[39m\u001B[49m\u001B[0m, eval/ntp_acc\u001B[35m: \u001B[39m\u001B[49m\u001B[0m\u001B[34m37.24\u001B[39m\u001B[49m\u001B[0m, eval/ikr\u001B[35m: \u001B[39m\u001B[49m\u001B[0m\u001B[34m51.52\u001B[39m\u001B[49m\u001B[0m\u001B[35m}\u001B[39m\u001B[49m\u001B[0m\u001B[39m\u001B[49m\u001B[22m\u001B[23m\u001B[24m\u001B[25m\u001B[27m\u001B[28m\u001B[29m\n"
     ]
    },
    {
     "data": {
      "application/vnd.jupyter.widget-view+json": {
       "model_id": "e555e6676a484bef8a1dd2aaf871f0bc",
       "version_major": 2,
       "version_minor": 0
      },
      "text/plain": [
       "Train Epoch 102/128:   0%|          | 0/34 [00:00<?, ?ba/s]"
      ]
     },
     "metadata": {},
     "output_type": "display_data"
    },
    {
     "metadata": {
      "tags": null
     },
     "name": "stdout",
     "output_type": "stream",
     "text": [
      "\u001B[38;2;0;186;142m2022-08-03 08:27:20\u001B[38;2;97;175;239m|\u001B[39m\u001B[49m\u001B[22m\u001B[23m\u001B[24m\u001B[25m\u001B[27m\u001B[28m\u001B[29m\u001B[38;2;198;120;221m[MyReformerModelWithLMHead Train]\u001B[38;2;97;175;239m::\u001B[38;2;198;120;221m_log\u001B[38;2;97;175;239m::\u001B[38;2;198;120;221mtrain_util_wrap.py\u001B[38;2;97;175;239m:\u001B[38;2;198;120;221m255\u001B[38;2;97;175;239m:\u001B[39m\u001B[49m\u001B[22m\u001B[23m\u001B[24m\u001B[25m\u001B[27m\u001B[28m\u001B[29mINFO\u001B[39m\u001B[49m\u001B[22m\u001B[23m\u001B[24m\u001B[25m\u001B[27m\u001B[28m\u001B[29m\u001B[38;2;97;175;239m: \u001B[39m\u001B[49m\u001B[22m\u001B[23m\u001B[24m\u001B[25m\u001B[27m\u001B[28m\u001B[29m\u001B[35m{\u001B[39m\u001B[49m\u001B[0mstep\u001B[35m: \u001B[39m\u001B[49m\u001B[0m\u001B[34m3468/4352\u001B[39m\u001B[49m\u001B[0m, epoch\u001B[35m: \u001B[39m\u001B[49m\u001B[0m\u001B[34m102.000/128\u001B[39m\u001B[49m\u001B[0m, train/learning_rate\u001B[35m: \u001B[39m\u001B[49m\u001B[0m\u001B[34m1.200e-06\u001B[39m\u001B[49m\u001B[0m, train/loss\u001B[35m: \u001B[39m\u001B[49m\u001B[0m\u001B[34m 2.28\u001B[39m\u001B[49m\u001B[0m\u001B[35m}\u001B[39m\u001B[49m\u001B[0m\u001B[39m\u001B[49m\u001B[22m\u001B[23m\u001B[24m\u001B[25m\u001B[27m\u001B[28m\u001B[29m\n"
     ]
    },
    {
     "data": {
      "application/vnd.jupyter.widget-view+json": {
       "model_id": "5a616ce4d7014558b5640849d37a9242",
       "version_major": 2,
       "version_minor": 0
      },
      "text/plain": [
       "Eval Epoch 102/128:   0%|          | 0/2 [00:00<?, ?ba/s]"
      ]
     },
     "metadata": {},
     "output_type": "display_data"
    },
    {
     "metadata": {
      "tags": null
     },
     "name": "stdout",
     "output_type": "stream",
     "text": [
      "\u001B[38;2;0;186;142m2022-08-03 08:27:23\u001B[38;2;97;175;239m|\u001B[39m\u001B[49m\u001B[22m\u001B[23m\u001B[24m\u001B[25m\u001B[27m\u001B[28m\u001B[29m\u001B[38;2;198;120;221m[MyReformerModelWithLMHead Train]\u001B[38;2;97;175;239m::\u001B[38;2;198;120;221m_log\u001B[38;2;97;175;239m::\u001B[38;2;198;120;221mtrain_util_wrap.py\u001B[38;2;97;175;239m:\u001B[38;2;198;120;221m255\u001B[38;2;97;175;239m:\u001B[39m\u001B[49m\u001B[22m\u001B[23m\u001B[24m\u001B[25m\u001B[27m\u001B[28m\u001B[29mINFO\u001B[39m\u001B[49m\u001B[22m\u001B[23m\u001B[24m\u001B[25m\u001B[27m\u001B[28m\u001B[29m\u001B[38;2;97;175;239m: \u001B[39m\u001B[49m\u001B[22m\u001B[23m\u001B[24m\u001B[25m\u001B[27m\u001B[28m\u001B[29m\u001B[35m{\u001B[39m\u001B[49m\u001B[0mstep\u001B[35m: \u001B[39m\u001B[49m\u001B[0m\u001B[34m3468/4352\u001B[39m\u001B[49m\u001B[0m, epoch\u001B[35m: \u001B[39m\u001B[49m\u001B[0m\u001B[34m102/128\u001B[39m\u001B[49m\u001B[0m, eval/loss\u001B[35m: \u001B[39m\u001B[49m\u001B[0m\u001B[34m2.2671\u001B[39m\u001B[49m\u001B[0m, eval/ntp_acc\u001B[35m: \u001B[39m\u001B[49m\u001B[0m\u001B[34m37.25\u001B[39m\u001B[49m\u001B[0m, eval/ikr\u001B[35m: \u001B[39m\u001B[49m\u001B[0m\u001B[34m50.37\u001B[39m\u001B[49m\u001B[0m\u001B[35m}\u001B[39m\u001B[49m\u001B[0m\u001B[39m\u001B[49m\u001B[22m\u001B[23m\u001B[24m\u001B[25m\u001B[27m\u001B[28m\u001B[29m\n"
     ]
    },
    {
     "data": {
      "application/vnd.jupyter.widget-view+json": {
       "model_id": "41a07ea8886249b48cb04671c7b38ccb",
       "version_major": 2,
       "version_minor": 0
      },
      "text/plain": [
       "Train Epoch 103/128:   0%|          | 0/34 [00:00<?, ?ba/s]"
      ]
     },
     "metadata": {},
     "output_type": "display_data"
    },
    {
     "metadata": {
      "tags": null
     },
     "name": "stdout",
     "output_type": "stream",
     "text": [
      "\u001B[38;2;0;186;142m2022-08-03 08:32:21\u001B[38;2;97;175;239m|\u001B[39m\u001B[49m\u001B[22m\u001B[23m\u001B[24m\u001B[25m\u001B[27m\u001B[28m\u001B[29m\u001B[38;2;198;120;221m[MyReformerModelWithLMHead Train]\u001B[38;2;97;175;239m::\u001B[38;2;198;120;221m_log\u001B[38;2;97;175;239m::\u001B[38;2;198;120;221mtrain_util_wrap.py\u001B[38;2;97;175;239m:\u001B[38;2;198;120;221m255\u001B[38;2;97;175;239m:\u001B[39m\u001B[49m\u001B[22m\u001B[23m\u001B[24m\u001B[25m\u001B[27m\u001B[28m\u001B[29mINFO\u001B[39m\u001B[49m\u001B[22m\u001B[23m\u001B[24m\u001B[25m\u001B[27m\u001B[28m\u001B[29m\u001B[38;2;97;175;239m: \u001B[39m\u001B[49m\u001B[22m\u001B[23m\u001B[24m\u001B[25m\u001B[27m\u001B[28m\u001B[29m\u001B[35m{\u001B[39m\u001B[49m\u001B[0mstep\u001B[35m: \u001B[39m\u001B[49m\u001B[0m\u001B[34m3502/4352\u001B[39m\u001B[49m\u001B[0m, epoch\u001B[35m: \u001B[39m\u001B[49m\u001B[0m\u001B[34m103.000/128\u001B[39m\u001B[49m\u001B[0m, train/learning_rate\u001B[35m: \u001B[39m\u001B[49m\u001B[0m\u001B[34m1.100e-06\u001B[39m\u001B[49m\u001B[0m, train/loss\u001B[35m: \u001B[39m\u001B[49m\u001B[0m\u001B[34m2.1999\u001B[39m\u001B[49m\u001B[0m\u001B[35m}\u001B[39m\u001B[49m\u001B[0m\u001B[39m\u001B[49m\u001B[22m\u001B[23m\u001B[24m\u001B[25m\u001B[27m\u001B[28m\u001B[29m\n"
     ]
    },
    {
     "data": {
      "application/vnd.jupyter.widget-view+json": {
       "model_id": "734907974ae14d0c8479cfb79d9a402f",
       "version_major": 2,
       "version_minor": 0
      },
      "text/plain": [
       "Eval Epoch 103/128:   0%|          | 0/2 [00:00<?, ?ba/s]"
      ]
     },
     "metadata": {},
     "output_type": "display_data"
    },
    {
     "metadata": {
      "tags": null
     },
     "name": "stdout",
     "output_type": "stream",
     "text": [
      "\u001B[38;2;0;186;142m2022-08-03 08:32:24\u001B[38;2;97;175;239m|\u001B[39m\u001B[49m\u001B[22m\u001B[23m\u001B[24m\u001B[25m\u001B[27m\u001B[28m\u001B[29m\u001B[38;2;198;120;221m[MyReformerModelWithLMHead Train]\u001B[38;2;97;175;239m::\u001B[38;2;198;120;221m_log\u001B[38;2;97;175;239m::\u001B[38;2;198;120;221mtrain_util_wrap.py\u001B[38;2;97;175;239m:\u001B[38;2;198;120;221m255\u001B[38;2;97;175;239m:\u001B[39m\u001B[49m\u001B[22m\u001B[23m\u001B[24m\u001B[25m\u001B[27m\u001B[28m\u001B[29mINFO\u001B[39m\u001B[49m\u001B[22m\u001B[23m\u001B[24m\u001B[25m\u001B[27m\u001B[28m\u001B[29m\u001B[38;2;97;175;239m: \u001B[39m\u001B[49m\u001B[22m\u001B[23m\u001B[24m\u001B[25m\u001B[27m\u001B[28m\u001B[29m\u001B[35m{\u001B[39m\u001B[49m\u001B[0mstep\u001B[35m: \u001B[39m\u001B[49m\u001B[0m\u001B[34m3502/4352\u001B[39m\u001B[49m\u001B[0m, epoch\u001B[35m: \u001B[39m\u001B[49m\u001B[0m\u001B[34m103/128\u001B[39m\u001B[49m\u001B[0m, eval/loss\u001B[35m: \u001B[39m\u001B[49m\u001B[0m\u001B[34m2.2632\u001B[39m\u001B[49m\u001B[0m, eval/ntp_acc\u001B[35m: \u001B[39m\u001B[49m\u001B[0m\u001B[34m37.37\u001B[39m\u001B[49m\u001B[0m, eval/ikr\u001B[35m: \u001B[39m\u001B[49m\u001B[0m\u001B[34m50.87\u001B[39m\u001B[49m\u001B[0m\u001B[35m}\u001B[39m\u001B[49m\u001B[0m\u001B[39m\u001B[49m\u001B[22m\u001B[23m\u001B[24m\u001B[25m\u001B[27m\u001B[28m\u001B[29m\n"
     ]
    },
    {
     "data": {
      "application/vnd.jupyter.widget-view+json": {
       "model_id": "de45569c93334f8c834a69fe351ec381",
       "version_major": 2,
       "version_minor": 0
      },
      "text/plain": [
       "Train Epoch 104/128:   0%|          | 0/34 [00:00<?, ?ba/s]"
      ]
     },
     "metadata": {},
     "output_type": "display_data"
    },
    {
     "metadata": {
      "tags": null
     },
     "name": "stdout",
     "output_type": "stream",
     "text": [
      "\u001B[38;2;0;186;142m2022-08-03 08:37:22\u001B[38;2;97;175;239m|\u001B[39m\u001B[49m\u001B[22m\u001B[23m\u001B[24m\u001B[25m\u001B[27m\u001B[28m\u001B[29m\u001B[38;2;198;120;221m[MyReformerModelWithLMHead Train]\u001B[38;2;97;175;239m::\u001B[38;2;198;120;221m_log\u001B[38;2;97;175;239m::\u001B[38;2;198;120;221mtrain_util_wrap.py\u001B[38;2;97;175;239m:\u001B[38;2;198;120;221m255\u001B[38;2;97;175;239m:\u001B[39m\u001B[49m\u001B[22m\u001B[23m\u001B[24m\u001B[25m\u001B[27m\u001B[28m\u001B[29mINFO\u001B[39m\u001B[49m\u001B[22m\u001B[23m\u001B[24m\u001B[25m\u001B[27m\u001B[28m\u001B[29m\u001B[38;2;97;175;239m: \u001B[39m\u001B[49m\u001B[22m\u001B[23m\u001B[24m\u001B[25m\u001B[27m\u001B[28m\u001B[29m\u001B[35m{\u001B[39m\u001B[49m\u001B[0mstep\u001B[35m: \u001B[39m\u001B[49m\u001B[0m\u001B[34m3536/4352\u001B[39m\u001B[49m\u001B[0m, epoch\u001B[35m: \u001B[39m\u001B[49m\u001B[0m\u001B[34m104.000/128\u001B[39m\u001B[49m\u001B[0m, train/learning_rate\u001B[35m: \u001B[39m\u001B[49m\u001B[0m\u001B[34m1.000e-06\u001B[39m\u001B[49m\u001B[0m, train/loss\u001B[35m: \u001B[39m\u001B[49m\u001B[0m\u001B[34m2.2775\u001B[39m\u001B[49m\u001B[0m\u001B[35m}\u001B[39m\u001B[49m\u001B[0m\u001B[39m\u001B[49m\u001B[22m\u001B[23m\u001B[24m\u001B[25m\u001B[27m\u001B[28m\u001B[29m\n"
     ]
    },
    {
     "data": {
      "application/vnd.jupyter.widget-view+json": {
       "model_id": "2903ab23e7af4eaeba14f1c0fef5280c",
       "version_major": 2,
       "version_minor": 0
      },
      "text/plain": [
       "Eval Epoch 104/128:   0%|          | 0/2 [00:00<?, ?ba/s]"
      ]
     },
     "metadata": {},
     "output_type": "display_data"
    },
    {
     "metadata": {
      "tags": null
     },
     "name": "stdout",
     "output_type": "stream",
     "text": [
      "\u001B[38;2;0;186;142m2022-08-03 08:37:24\u001B[38;2;97;175;239m|\u001B[39m\u001B[49m\u001B[22m\u001B[23m\u001B[24m\u001B[25m\u001B[27m\u001B[28m\u001B[29m\u001B[38;2;198;120;221m[MyReformerModelWithLMHead Train]\u001B[38;2;97;175;239m::\u001B[38;2;198;120;221m_log\u001B[38;2;97;175;239m::\u001B[38;2;198;120;221mtrain_util_wrap.py\u001B[38;2;97;175;239m:\u001B[38;2;198;120;221m255\u001B[38;2;97;175;239m:\u001B[39m\u001B[49m\u001B[22m\u001B[23m\u001B[24m\u001B[25m\u001B[27m\u001B[28m\u001B[29mINFO\u001B[39m\u001B[49m\u001B[22m\u001B[23m\u001B[24m\u001B[25m\u001B[27m\u001B[28m\u001B[29m\u001B[38;2;97;175;239m: \u001B[39m\u001B[49m\u001B[22m\u001B[23m\u001B[24m\u001B[25m\u001B[27m\u001B[28m\u001B[29m\u001B[35m{\u001B[39m\u001B[49m\u001B[0mstep\u001B[35m: \u001B[39m\u001B[49m\u001B[0m\u001B[34m3536/4352\u001B[39m\u001B[49m\u001B[0m, epoch\u001B[35m: \u001B[39m\u001B[49m\u001B[0m\u001B[34m104/128\u001B[39m\u001B[49m\u001B[0m, eval/loss\u001B[35m: \u001B[39m\u001B[49m\u001B[0m\u001B[34m2.2607\u001B[39m\u001B[49m\u001B[0m, eval/ntp_acc\u001B[35m: \u001B[39m\u001B[49m\u001B[0m\u001B[34m37.65\u001B[39m\u001B[49m\u001B[0m, eval/ikr\u001B[35m: \u001B[39m\u001B[49m\u001B[0m\u001B[34m50.28\u001B[39m\u001B[49m\u001B[0m\u001B[35m}\u001B[39m\u001B[49m\u001B[0m\u001B[39m\u001B[49m\u001B[22m\u001B[23m\u001B[24m\u001B[25m\u001B[27m\u001B[28m\u001B[29m\n"
     ]
    },
    {
     "data": {
      "application/vnd.jupyter.widget-view+json": {
       "model_id": "8f1fdd03779549b29573ad9b70793113",
       "version_major": 2,
       "version_minor": 0
      },
      "text/plain": [
       "Train Epoch 105/128:   0%|          | 0/34 [00:00<?, ?ba/s]"
      ]
     },
     "metadata": {},
     "output_type": "display_data"
    },
    {
     "metadata": {
      "tags": null
     },
     "name": "stdout",
     "output_type": "stream",
     "text": [
      "\u001B[38;2;0;186;142m2022-08-03 08:42:23\u001B[38;2;97;175;239m|\u001B[39m\u001B[49m\u001B[22m\u001B[23m\u001B[24m\u001B[25m\u001B[27m\u001B[28m\u001B[29m\u001B[38;2;198;120;221m[MyReformerModelWithLMHead Train]\u001B[38;2;97;175;239m::\u001B[38;2;198;120;221m_log\u001B[38;2;97;175;239m::\u001B[38;2;198;120;221mtrain_util_wrap.py\u001B[38;2;97;175;239m:\u001B[38;2;198;120;221m255\u001B[38;2;97;175;239m:\u001B[39m\u001B[49m\u001B[22m\u001B[23m\u001B[24m\u001B[25m\u001B[27m\u001B[28m\u001B[29mINFO\u001B[39m\u001B[49m\u001B[22m\u001B[23m\u001B[24m\u001B[25m\u001B[27m\u001B[28m\u001B[29m\u001B[38;2;97;175;239m: \u001B[39m\u001B[49m\u001B[22m\u001B[23m\u001B[24m\u001B[25m\u001B[27m\u001B[28m\u001B[29m\u001B[35m{\u001B[39m\u001B[49m\u001B[0mstep\u001B[35m: \u001B[39m\u001B[49m\u001B[0m\u001B[34m3570/4352\u001B[39m\u001B[49m\u001B[0m, epoch\u001B[35m: \u001B[39m\u001B[49m\u001B[0m\u001B[34m105.000/128\u001B[39m\u001B[49m\u001B[0m, train/learning_rate\u001B[35m: \u001B[39m\u001B[49m\u001B[0m\u001B[34m1.000e-06\u001B[39m\u001B[49m\u001B[0m, train/loss\u001B[35m: \u001B[39m\u001B[49m\u001B[0m\u001B[34m2.3538\u001B[39m\u001B[49m\u001B[0m\u001B[35m}\u001B[39m\u001B[49m\u001B[0m\u001B[39m\u001B[49m\u001B[22m\u001B[23m\u001B[24m\u001B[25m\u001B[27m\u001B[28m\u001B[29m\n"
     ]
    },
    {
     "data": {
      "application/vnd.jupyter.widget-view+json": {
       "model_id": "d47db48445bf4998a185157654a74c95",
       "version_major": 2,
       "version_minor": 0
      },
      "text/plain": [
       "Eval Epoch 105/128:   0%|          | 0/2 [00:00<?, ?ba/s]"
      ]
     },
     "metadata": {},
     "output_type": "display_data"
    },
    {
     "metadata": {
      "tags": null
     },
     "name": "stdout",
     "output_type": "stream",
     "text": [
      "\u001B[38;2;0;186;142m2022-08-03 08:42:25\u001B[38;2;97;175;239m|\u001B[39m\u001B[49m\u001B[22m\u001B[23m\u001B[24m\u001B[25m\u001B[27m\u001B[28m\u001B[29m\u001B[38;2;198;120;221m[MyReformerModelWithLMHead Train]\u001B[38;2;97;175;239m::\u001B[38;2;198;120;221m_log\u001B[38;2;97;175;239m::\u001B[38;2;198;120;221mtrain_util_wrap.py\u001B[38;2;97;175;239m:\u001B[38;2;198;120;221m255\u001B[38;2;97;175;239m:\u001B[39m\u001B[49m\u001B[22m\u001B[23m\u001B[24m\u001B[25m\u001B[27m\u001B[28m\u001B[29mINFO\u001B[39m\u001B[49m\u001B[22m\u001B[23m\u001B[24m\u001B[25m\u001B[27m\u001B[28m\u001B[29m\u001B[38;2;97;175;239m: \u001B[39m\u001B[49m\u001B[22m\u001B[23m\u001B[24m\u001B[25m\u001B[27m\u001B[28m\u001B[29m\u001B[35m{\u001B[39m\u001B[49m\u001B[0mstep\u001B[35m: \u001B[39m\u001B[49m\u001B[0m\u001B[34m3570/4352\u001B[39m\u001B[49m\u001B[0m, epoch\u001B[35m: \u001B[39m\u001B[49m\u001B[0m\u001B[34m105/128\u001B[39m\u001B[49m\u001B[0m, eval/loss\u001B[35m: \u001B[39m\u001B[49m\u001B[0m\u001B[34m2.2627\u001B[39m\u001B[49m\u001B[0m, eval/ntp_acc\u001B[35m: \u001B[39m\u001B[49m\u001B[0m\u001B[34m37.33\u001B[39m\u001B[49m\u001B[0m, eval/ikr\u001B[35m: \u001B[39m\u001B[49m\u001B[0m\u001B[34m50.68\u001B[39m\u001B[49m\u001B[0m\u001B[35m}\u001B[39m\u001B[49m\u001B[0m\u001B[39m\u001B[49m\u001B[22m\u001B[23m\u001B[24m\u001B[25m\u001B[27m\u001B[28m\u001B[29m\n"
     ]
    },
    {
     "data": {
      "application/vnd.jupyter.widget-view+json": {
       "model_id": "d5c571d8f4c7474bbae497ce5f084be7",
       "version_major": 2,
       "version_minor": 0
      },
      "text/plain": [
       "Train Epoch 106/128:   0%|          | 0/34 [00:00<?, ?ba/s]"
      ]
     },
     "metadata": {},
     "output_type": "display_data"
    },
    {
     "metadata": {
      "tags": null
     },
     "name": "stdout",
     "output_type": "stream",
     "text": [
      "\u001B[38;2;0;186;142m2022-08-03 08:47:24\u001B[38;2;97;175;239m|\u001B[39m\u001B[49m\u001B[22m\u001B[23m\u001B[24m\u001B[25m\u001B[27m\u001B[28m\u001B[29m\u001B[38;2;198;120;221m[MyReformerModelWithLMHead Train]\u001B[38;2;97;175;239m::\u001B[38;2;198;120;221m_log\u001B[38;2;97;175;239m::\u001B[38;2;198;120;221mtrain_util_wrap.py\u001B[38;2;97;175;239m:\u001B[38;2;198;120;221m255\u001B[38;2;97;175;239m:\u001B[39m\u001B[49m\u001B[22m\u001B[23m\u001B[24m\u001B[25m\u001B[27m\u001B[28m\u001B[29mINFO\u001B[39m\u001B[49m\u001B[22m\u001B[23m\u001B[24m\u001B[25m\u001B[27m\u001B[28m\u001B[29m\u001B[38;2;97;175;239m: \u001B[39m\u001B[49m\u001B[22m\u001B[23m\u001B[24m\u001B[25m\u001B[27m\u001B[28m\u001B[29m\u001B[35m{\u001B[39m\u001B[49m\u001B[0mstep\u001B[35m: \u001B[39m\u001B[49m\u001B[0m\u001B[34m3604/4352\u001B[39m\u001B[49m\u001B[0m, epoch\u001B[35m: \u001B[39m\u001B[49m\u001B[0m\u001B[34m106.000/128\u001B[39m\u001B[49m\u001B[0m, train/learning_rate\u001B[35m: \u001B[39m\u001B[49m\u001B[0m\u001B[34m9.000e-07\u001B[39m\u001B[49m\u001B[0m, train/loss\u001B[35m: \u001B[39m\u001B[49m\u001B[0m\u001B[34m2.2249\u001B[39m\u001B[49m\u001B[0m\u001B[35m}\u001B[39m\u001B[49m\u001B[0m\u001B[39m\u001B[49m\u001B[22m\u001B[23m\u001B[24m\u001B[25m\u001B[27m\u001B[28m\u001B[29m\n"
     ]
    },
    {
     "data": {
      "application/vnd.jupyter.widget-view+json": {
       "model_id": "ac481f75bb2e445aadcc5f7ba8cea90f",
       "version_major": 2,
       "version_minor": 0
      },
      "text/plain": [
       "Eval Epoch 106/128:   0%|          | 0/2 [00:00<?, ?ba/s]"
      ]
     },
     "metadata": {},
     "output_type": "display_data"
    },
    {
     "metadata": {
      "tags": null
     },
     "name": "stdout",
     "output_type": "stream",
     "text": [
      "\u001B[38;2;0;186;142m2022-08-03 08:47:26\u001B[38;2;97;175;239m|\u001B[39m\u001B[49m\u001B[22m\u001B[23m\u001B[24m\u001B[25m\u001B[27m\u001B[28m\u001B[29m\u001B[38;2;198;120;221m[MyReformerModelWithLMHead Train]\u001B[38;2;97;175;239m::\u001B[38;2;198;120;221m_log\u001B[38;2;97;175;239m::\u001B[38;2;198;120;221mtrain_util_wrap.py\u001B[38;2;97;175;239m:\u001B[38;2;198;120;221m255\u001B[38;2;97;175;239m:\u001B[39m\u001B[49m\u001B[22m\u001B[23m\u001B[24m\u001B[25m\u001B[27m\u001B[28m\u001B[29mINFO\u001B[39m\u001B[49m\u001B[22m\u001B[23m\u001B[24m\u001B[25m\u001B[27m\u001B[28m\u001B[29m\u001B[38;2;97;175;239m: \u001B[39m\u001B[49m\u001B[22m\u001B[23m\u001B[24m\u001B[25m\u001B[27m\u001B[28m\u001B[29m\u001B[35m{\u001B[39m\u001B[49m\u001B[0mstep\u001B[35m: \u001B[39m\u001B[49m\u001B[0m\u001B[34m3604/4352\u001B[39m\u001B[49m\u001B[0m, epoch\u001B[35m: \u001B[39m\u001B[49m\u001B[0m\u001B[34m106/128\u001B[39m\u001B[49m\u001B[0m, eval/loss\u001B[35m: \u001B[39m\u001B[49m\u001B[0m\u001B[34m2.2594\u001B[39m\u001B[49m\u001B[0m, eval/ntp_acc\u001B[35m: \u001B[39m\u001B[49m\u001B[0m\u001B[34m37.49\u001B[39m\u001B[49m\u001B[0m, eval/ikr\u001B[35m: \u001B[39m\u001B[49m\u001B[0m\u001B[34m50.89\u001B[39m\u001B[49m\u001B[0m\u001B[35m}\u001B[39m\u001B[49m\u001B[0m\u001B[39m\u001B[49m\u001B[22m\u001B[23m\u001B[24m\u001B[25m\u001B[27m\u001B[28m\u001B[29m\n"
     ]
    },
    {
     "data": {
      "application/vnd.jupyter.widget-view+json": {
       "model_id": "f48cf440d26440faaf293051db419c0f",
       "version_major": 2,
       "version_minor": 0
      },
      "text/plain": [
       "Train Epoch 107/128:   0%|          | 0/34 [00:00<?, ?ba/s]"
      ]
     },
     "metadata": {},
     "output_type": "display_data"
    },
    {
     "metadata": {
      "tags": null
     },
     "name": "stdout",
     "output_type": "stream",
     "text": [
      "\u001B[38;2;0;186;142m2022-08-03 08:52:25\u001B[38;2;97;175;239m|\u001B[39m\u001B[49m\u001B[22m\u001B[23m\u001B[24m\u001B[25m\u001B[27m\u001B[28m\u001B[29m\u001B[38;2;198;120;221m[MyReformerModelWithLMHead Train]\u001B[38;2;97;175;239m::\u001B[38;2;198;120;221m_log\u001B[38;2;97;175;239m::\u001B[38;2;198;120;221mtrain_util_wrap.py\u001B[38;2;97;175;239m:\u001B[38;2;198;120;221m255\u001B[38;2;97;175;239m:\u001B[39m\u001B[49m\u001B[22m\u001B[23m\u001B[24m\u001B[25m\u001B[27m\u001B[28m\u001B[29mINFO\u001B[39m\u001B[49m\u001B[22m\u001B[23m\u001B[24m\u001B[25m\u001B[27m\u001B[28m\u001B[29m\u001B[38;2;97;175;239m: \u001B[39m\u001B[49m\u001B[22m\u001B[23m\u001B[24m\u001B[25m\u001B[27m\u001B[28m\u001B[29m\u001B[35m{\u001B[39m\u001B[49m\u001B[0mstep\u001B[35m: \u001B[39m\u001B[49m\u001B[0m\u001B[34m3638/4352\u001B[39m\u001B[49m\u001B[0m, epoch\u001B[35m: \u001B[39m\u001B[49m\u001B[0m\u001B[34m107.000/128\u001B[39m\u001B[49m\u001B[0m, train/learning_rate\u001B[35m: \u001B[39m\u001B[49m\u001B[0m\u001B[34m8.000e-07\u001B[39m\u001B[49m\u001B[0m, train/loss\u001B[35m: \u001B[39m\u001B[49m\u001B[0m\u001B[34m2.2629\u001B[39m\u001B[49m\u001B[0m\u001B[35m}\u001B[39m\u001B[49m\u001B[0m\u001B[39m\u001B[49m\u001B[22m\u001B[23m\u001B[24m\u001B[25m\u001B[27m\u001B[28m\u001B[29m\n"
     ]
    },
    {
     "data": {
      "application/vnd.jupyter.widget-view+json": {
       "model_id": "1e8ecacb5bfa4f149cd3aa99cb6e4c2e",
       "version_major": 2,
       "version_minor": 0
      },
      "text/plain": [
       "Eval Epoch 107/128:   0%|          | 0/2 [00:00<?, ?ba/s]"
      ]
     },
     "metadata": {},
     "output_type": "display_data"
    },
    {
     "metadata": {
      "tags": null
     },
     "name": "stdout",
     "output_type": "stream",
     "text": [
      "\u001B[38;2;0;186;142m2022-08-03 08:52:27\u001B[38;2;97;175;239m|\u001B[39m\u001B[49m\u001B[22m\u001B[23m\u001B[24m\u001B[25m\u001B[27m\u001B[28m\u001B[29m\u001B[38;2;198;120;221m[MyReformerModelWithLMHead Train]\u001B[38;2;97;175;239m::\u001B[38;2;198;120;221m_log\u001B[38;2;97;175;239m::\u001B[38;2;198;120;221mtrain_util_wrap.py\u001B[38;2;97;175;239m:\u001B[38;2;198;120;221m255\u001B[38;2;97;175;239m:\u001B[39m\u001B[49m\u001B[22m\u001B[23m\u001B[24m\u001B[25m\u001B[27m\u001B[28m\u001B[29mINFO\u001B[39m\u001B[49m\u001B[22m\u001B[23m\u001B[24m\u001B[25m\u001B[27m\u001B[28m\u001B[29m\u001B[38;2;97;175;239m: \u001B[39m\u001B[49m\u001B[22m\u001B[23m\u001B[24m\u001B[25m\u001B[27m\u001B[28m\u001B[29m\u001B[35m{\u001B[39m\u001B[49m\u001B[0mstep\u001B[35m: \u001B[39m\u001B[49m\u001B[0m\u001B[34m3638/4352\u001B[39m\u001B[49m\u001B[0m, epoch\u001B[35m: \u001B[39m\u001B[49m\u001B[0m\u001B[34m107/128\u001B[39m\u001B[49m\u001B[0m, eval/loss\u001B[35m: \u001B[39m\u001B[49m\u001B[0m\u001B[34m2.2566\u001B[39m\u001B[49m\u001B[0m, eval/ntp_acc\u001B[35m: \u001B[39m\u001B[49m\u001B[0m\u001B[34m37.75\u001B[39m\u001B[49m\u001B[0m, eval/ikr\u001B[35m: \u001B[39m\u001B[49m\u001B[0m\u001B[34m51.23\u001B[39m\u001B[49m\u001B[0m\u001B[35m}\u001B[39m\u001B[49m\u001B[0m\u001B[39m\u001B[49m\u001B[22m\u001B[23m\u001B[24m\u001B[25m\u001B[27m\u001B[28m\u001B[29m\n"
     ]
    },
    {
     "data": {
      "application/vnd.jupyter.widget-view+json": {
       "model_id": "cdf2de13dc3a4fddac7fbdb19a317722",
       "version_major": 2,
       "version_minor": 0
      },
      "text/plain": [
       "Train Epoch 108/128:   0%|          | 0/34 [00:00<?, ?ba/s]"
      ]
     },
     "metadata": {},
     "output_type": "display_data"
    },
    {
     "metadata": {
      "tags": null
     },
     "name": "stdout",
     "output_type": "stream",
     "text": [
      "\u001B[38;2;0;186;142m2022-08-03 08:57:26\u001B[38;2;97;175;239m|\u001B[39m\u001B[49m\u001B[22m\u001B[23m\u001B[24m\u001B[25m\u001B[27m\u001B[28m\u001B[29m\u001B[38;2;198;120;221m[MyReformerModelWithLMHead Train]\u001B[38;2;97;175;239m::\u001B[38;2;198;120;221m_log\u001B[38;2;97;175;239m::\u001B[38;2;198;120;221mtrain_util_wrap.py\u001B[38;2;97;175;239m:\u001B[38;2;198;120;221m255\u001B[38;2;97;175;239m:\u001B[39m\u001B[49m\u001B[22m\u001B[23m\u001B[24m\u001B[25m\u001B[27m\u001B[28m\u001B[29mINFO\u001B[39m\u001B[49m\u001B[22m\u001B[23m\u001B[24m\u001B[25m\u001B[27m\u001B[28m\u001B[29m\u001B[38;2;97;175;239m: \u001B[39m\u001B[49m\u001B[22m\u001B[23m\u001B[24m\u001B[25m\u001B[27m\u001B[28m\u001B[29m\u001B[35m{\u001B[39m\u001B[49m\u001B[0mstep\u001B[35m: \u001B[39m\u001B[49m\u001B[0m\u001B[34m3672/4352\u001B[39m\u001B[49m\u001B[0m, epoch\u001B[35m: \u001B[39m\u001B[49m\u001B[0m\u001B[34m108.000/128\u001B[39m\u001B[49m\u001B[0m, train/learning_rate\u001B[35m: \u001B[39m\u001B[49m\u001B[0m\u001B[34m7.000e-07\u001B[39m\u001B[49m\u001B[0m, train/loss\u001B[35m: \u001B[39m\u001B[49m\u001B[0m\u001B[34m2.2961\u001B[39m\u001B[49m\u001B[0m\u001B[35m}\u001B[39m\u001B[49m\u001B[0m\u001B[39m\u001B[49m\u001B[22m\u001B[23m\u001B[24m\u001B[25m\u001B[27m\u001B[28m\u001B[29m\n"
     ]
    },
    {
     "data": {
      "application/vnd.jupyter.widget-view+json": {
       "model_id": "99eb6841d729457aaaad89010dcb9501",
       "version_major": 2,
       "version_minor": 0
      },
      "text/plain": [
       "Eval Epoch 108/128:   0%|          | 0/2 [00:00<?, ?ba/s]"
      ]
     },
     "metadata": {},
     "output_type": "display_data"
    },
    {
     "metadata": {
      "tags": null
     },
     "name": "stdout",
     "output_type": "stream",
     "text": [
      "\u001B[38;2;0;186;142m2022-08-03 08:57:28\u001B[38;2;97;175;239m|\u001B[39m\u001B[49m\u001B[22m\u001B[23m\u001B[24m\u001B[25m\u001B[27m\u001B[28m\u001B[29m\u001B[38;2;198;120;221m[MyReformerModelWithLMHead Train]\u001B[38;2;97;175;239m::\u001B[38;2;198;120;221m_log\u001B[38;2;97;175;239m::\u001B[38;2;198;120;221mtrain_util_wrap.py\u001B[38;2;97;175;239m:\u001B[38;2;198;120;221m255\u001B[38;2;97;175;239m:\u001B[39m\u001B[49m\u001B[22m\u001B[23m\u001B[24m\u001B[25m\u001B[27m\u001B[28m\u001B[29mINFO\u001B[39m\u001B[49m\u001B[22m\u001B[23m\u001B[24m\u001B[25m\u001B[27m\u001B[28m\u001B[29m\u001B[38;2;97;175;239m: \u001B[39m\u001B[49m\u001B[22m\u001B[23m\u001B[24m\u001B[25m\u001B[27m\u001B[28m\u001B[29m\u001B[35m{\u001B[39m\u001B[49m\u001B[0mstep\u001B[35m: \u001B[39m\u001B[49m\u001B[0m\u001B[34m3672/4352\u001B[39m\u001B[49m\u001B[0m, epoch\u001B[35m: \u001B[39m\u001B[49m\u001B[0m\u001B[34m108/128\u001B[39m\u001B[49m\u001B[0m, eval/loss\u001B[35m: \u001B[39m\u001B[49m\u001B[0m\u001B[34m2.2553\u001B[39m\u001B[49m\u001B[0m, eval/ntp_acc\u001B[35m: \u001B[39m\u001B[49m\u001B[0m\u001B[34m37.73\u001B[39m\u001B[49m\u001B[0m, eval/ikr\u001B[35m: \u001B[39m\u001B[49m\u001B[0m\u001B[34m50.44\u001B[39m\u001B[49m\u001B[0m\u001B[35m}\u001B[39m\u001B[49m\u001B[0m\u001B[39m\u001B[49m\u001B[22m\u001B[23m\u001B[24m\u001B[25m\u001B[27m\u001B[28m\u001B[29m\n"
     ]
    },
    {
     "data": {
      "application/vnd.jupyter.widget-view+json": {
       "model_id": "32a2be6050af49c89aecacb81fe51758",
       "version_major": 2,
       "version_minor": 0
      },
      "text/plain": [
       "Train Epoch 109/128:   0%|          | 0/34 [00:00<?, ?ba/s]"
      ]
     },
     "metadata": {},
     "output_type": "display_data"
    },
    {
     "metadata": {
      "tags": null
     },
     "name": "stdout",
     "output_type": "stream",
     "text": [
      "\u001B[38;2;0;186;142m2022-08-03 09:02:27\u001B[38;2;97;175;239m|\u001B[39m\u001B[49m\u001B[22m\u001B[23m\u001B[24m\u001B[25m\u001B[27m\u001B[28m\u001B[29m\u001B[38;2;198;120;221m[MyReformerModelWithLMHead Train]\u001B[38;2;97;175;239m::\u001B[38;2;198;120;221m_log\u001B[38;2;97;175;239m::\u001B[38;2;198;120;221mtrain_util_wrap.py\u001B[38;2;97;175;239m:\u001B[38;2;198;120;221m255\u001B[38;2;97;175;239m:\u001B[39m\u001B[49m\u001B[22m\u001B[23m\u001B[24m\u001B[25m\u001B[27m\u001B[28m\u001B[29mINFO\u001B[39m\u001B[49m\u001B[22m\u001B[23m\u001B[24m\u001B[25m\u001B[27m\u001B[28m\u001B[29m\u001B[38;2;97;175;239m: \u001B[39m\u001B[49m\u001B[22m\u001B[23m\u001B[24m\u001B[25m\u001B[27m\u001B[28m\u001B[29m\u001B[35m{\u001B[39m\u001B[49m\u001B[0mstep\u001B[35m: \u001B[39m\u001B[49m\u001B[0m\u001B[34m3706/4352\u001B[39m\u001B[49m\u001B[0m, epoch\u001B[35m: \u001B[39m\u001B[49m\u001B[0m\u001B[34m109.000/128\u001B[39m\u001B[49m\u001B[0m, train/learning_rate\u001B[35m: \u001B[39m\u001B[49m\u001B[0m\u001B[34m7.000e-07\u001B[39m\u001B[49m\u001B[0m, train/loss\u001B[35m: \u001B[39m\u001B[49m\u001B[0m\u001B[34m2.3081\u001B[39m\u001B[49m\u001B[0m\u001B[35m}\u001B[39m\u001B[49m\u001B[0m\u001B[39m\u001B[49m\u001B[22m\u001B[23m\u001B[24m\u001B[25m\u001B[27m\u001B[28m\u001B[29m\n"
     ]
    },
    {
     "data": {
      "application/vnd.jupyter.widget-view+json": {
       "model_id": "06a32fe713814c689527ff55200d3853",
       "version_major": 2,
       "version_minor": 0
      },
      "text/plain": [
       "Eval Epoch 109/128:   0%|          | 0/2 [00:00<?, ?ba/s]"
      ]
     },
     "metadata": {},
     "output_type": "display_data"
    },
    {
     "metadata": {
      "tags": null
     },
     "name": "stdout",
     "output_type": "stream",
     "text": [
      "\u001B[38;2;0;186;142m2022-08-03 09:02:29\u001B[38;2;97;175;239m|\u001B[39m\u001B[49m\u001B[22m\u001B[23m\u001B[24m\u001B[25m\u001B[27m\u001B[28m\u001B[29m\u001B[38;2;198;120;221m[MyReformerModelWithLMHead Train]\u001B[38;2;97;175;239m::\u001B[38;2;198;120;221m_log\u001B[38;2;97;175;239m::\u001B[38;2;198;120;221mtrain_util_wrap.py\u001B[38;2;97;175;239m:\u001B[38;2;198;120;221m255\u001B[38;2;97;175;239m:\u001B[39m\u001B[49m\u001B[22m\u001B[23m\u001B[24m\u001B[25m\u001B[27m\u001B[28m\u001B[29mINFO\u001B[39m\u001B[49m\u001B[22m\u001B[23m\u001B[24m\u001B[25m\u001B[27m\u001B[28m\u001B[29m\u001B[38;2;97;175;239m: \u001B[39m\u001B[49m\u001B[22m\u001B[23m\u001B[24m\u001B[25m\u001B[27m\u001B[28m\u001B[29m\u001B[35m{\u001B[39m\u001B[49m\u001B[0mstep\u001B[35m: \u001B[39m\u001B[49m\u001B[0m\u001B[34m3706/4352\u001B[39m\u001B[49m\u001B[0m, epoch\u001B[35m: \u001B[39m\u001B[49m\u001B[0m\u001B[34m109/128\u001B[39m\u001B[49m\u001B[0m, eval/loss\u001B[35m: \u001B[39m\u001B[49m\u001B[0m\u001B[34m2.2576\u001B[39m\u001B[49m\u001B[0m, eval/ntp_acc\u001B[35m: \u001B[39m\u001B[49m\u001B[0m\u001B[34m37.78\u001B[39m\u001B[49m\u001B[0m, eval/ikr\u001B[35m: \u001B[39m\u001B[49m\u001B[0m\u001B[34m50.34\u001B[39m\u001B[49m\u001B[0m\u001B[35m}\u001B[39m\u001B[49m\u001B[0m\u001B[39m\u001B[49m\u001B[22m\u001B[23m\u001B[24m\u001B[25m\u001B[27m\u001B[28m\u001B[29m\n"
     ]
    },
    {
     "data": {
      "application/vnd.jupyter.widget-view+json": {
       "model_id": "f5415865ecab42c984be185c6132a173",
       "version_major": 2,
       "version_minor": 0
      },
      "text/plain": [
       "Train Epoch 110/128:   0%|          | 0/34 [00:00<?, ?ba/s]"
      ]
     },
     "metadata": {},
     "output_type": "display_data"
    },
    {
     "metadata": {
      "tags": null
     },
     "name": "stdout",
     "output_type": "stream",
     "text": [
      "\u001B[38;2;0;186;142m2022-08-03 09:07:28\u001B[38;2;97;175;239m|\u001B[39m\u001B[49m\u001B[22m\u001B[23m\u001B[24m\u001B[25m\u001B[27m\u001B[28m\u001B[29m\u001B[38;2;198;120;221m[MyReformerModelWithLMHead Train]\u001B[38;2;97;175;239m::\u001B[38;2;198;120;221m_log\u001B[38;2;97;175;239m::\u001B[38;2;198;120;221mtrain_util_wrap.py\u001B[38;2;97;175;239m:\u001B[38;2;198;120;221m255\u001B[38;2;97;175;239m:\u001B[39m\u001B[49m\u001B[22m\u001B[23m\u001B[24m\u001B[25m\u001B[27m\u001B[28m\u001B[29mINFO\u001B[39m\u001B[49m\u001B[22m\u001B[23m\u001B[24m\u001B[25m\u001B[27m\u001B[28m\u001B[29m\u001B[38;2;97;175;239m: \u001B[39m\u001B[49m\u001B[22m\u001B[23m\u001B[24m\u001B[25m\u001B[27m\u001B[28m\u001B[29m\u001B[35m{\u001B[39m\u001B[49m\u001B[0mstep\u001B[35m: \u001B[39m\u001B[49m\u001B[0m\u001B[34m3740/4352\u001B[39m\u001B[49m\u001B[0m, epoch\u001B[35m: \u001B[39m\u001B[49m\u001B[0m\u001B[34m110.000/128\u001B[39m\u001B[49m\u001B[0m, train/learning_rate\u001B[35m: \u001B[39m\u001B[49m\u001B[0m\u001B[34m6.000e-07\u001B[39m\u001B[49m\u001B[0m, train/loss\u001B[35m: \u001B[39m\u001B[49m\u001B[0m\u001B[34m2.3258\u001B[39m\u001B[49m\u001B[0m\u001B[35m}\u001B[39m\u001B[49m\u001B[0m\u001B[39m\u001B[49m\u001B[22m\u001B[23m\u001B[24m\u001B[25m\u001B[27m\u001B[28m\u001B[29m\n"
     ]
    },
    {
     "data": {
      "application/vnd.jupyter.widget-view+json": {
       "model_id": "6c16226357fc47a4acc5997c7ed06a8e",
       "version_major": 2,
       "version_minor": 0
      },
      "text/plain": [
       "Eval Epoch 110/128:   0%|          | 0/2 [00:00<?, ?ba/s]"
      ]
     },
     "metadata": {},
     "output_type": "display_data"
    },
    {
     "metadata": {
      "tags": null
     },
     "name": "stdout",
     "output_type": "stream",
     "text": [
      "\u001B[38;2;0;186;142m2022-08-03 09:07:30\u001B[38;2;97;175;239m|\u001B[39m\u001B[49m\u001B[22m\u001B[23m\u001B[24m\u001B[25m\u001B[27m\u001B[28m\u001B[29m\u001B[38;2;198;120;221m[MyReformerModelWithLMHead Train]\u001B[38;2;97;175;239m::\u001B[38;2;198;120;221m_log\u001B[38;2;97;175;239m::\u001B[38;2;198;120;221mtrain_util_wrap.py\u001B[38;2;97;175;239m:\u001B[38;2;198;120;221m255\u001B[38;2;97;175;239m:\u001B[39m\u001B[49m\u001B[22m\u001B[23m\u001B[24m\u001B[25m\u001B[27m\u001B[28m\u001B[29mINFO\u001B[39m\u001B[49m\u001B[22m\u001B[23m\u001B[24m\u001B[25m\u001B[27m\u001B[28m\u001B[29m\u001B[38;2;97;175;239m: \u001B[39m\u001B[49m\u001B[22m\u001B[23m\u001B[24m\u001B[25m\u001B[27m\u001B[28m\u001B[29m\u001B[35m{\u001B[39m\u001B[49m\u001B[0mstep\u001B[35m: \u001B[39m\u001B[49m\u001B[0m\u001B[34m3740/4352\u001B[39m\u001B[49m\u001B[0m, epoch\u001B[35m: \u001B[39m\u001B[49m\u001B[0m\u001B[34m110/128\u001B[39m\u001B[49m\u001B[0m, eval/loss\u001B[35m: \u001B[39m\u001B[49m\u001B[0m\u001B[34m2.2511\u001B[39m\u001B[49m\u001B[0m, eval/ntp_acc\u001B[35m: \u001B[39m\u001B[49m\u001B[0m\u001B[34m37.86\u001B[39m\u001B[49m\u001B[0m, eval/ikr\u001B[35m: \u001B[39m\u001B[49m\u001B[0m\u001B[34m50.75\u001B[39m\u001B[49m\u001B[0m\u001B[35m}\u001B[39m\u001B[49m\u001B[0m\u001B[39m\u001B[49m\u001B[22m\u001B[23m\u001B[24m\u001B[25m\u001B[27m\u001B[28m\u001B[29m\n"
     ]
    },
    {
     "data": {
      "application/vnd.jupyter.widget-view+json": {
       "model_id": "8ecfcee380bb491f97a453dd137e665b",
       "version_major": 2,
       "version_minor": 0
      },
      "text/plain": [
       "Train Epoch 111/128:   0%|          | 0/34 [00:00<?, ?ba/s]"
      ]
     },
     "metadata": {},
     "output_type": "display_data"
    },
    {
     "metadata": {
      "tags": null
     },
     "name": "stdout",
     "output_type": "stream",
     "text": [
      "\u001B[38;2;0;186;142m2022-08-03 09:12:29\u001B[38;2;97;175;239m|\u001B[39m\u001B[49m\u001B[22m\u001B[23m\u001B[24m\u001B[25m\u001B[27m\u001B[28m\u001B[29m\u001B[38;2;198;120;221m[MyReformerModelWithLMHead Train]\u001B[38;2;97;175;239m::\u001B[38;2;198;120;221m_log\u001B[38;2;97;175;239m::\u001B[38;2;198;120;221mtrain_util_wrap.py\u001B[38;2;97;175;239m:\u001B[38;2;198;120;221m255\u001B[38;2;97;175;239m:\u001B[39m\u001B[49m\u001B[22m\u001B[23m\u001B[24m\u001B[25m\u001B[27m\u001B[28m\u001B[29mINFO\u001B[39m\u001B[49m\u001B[22m\u001B[23m\u001B[24m\u001B[25m\u001B[27m\u001B[28m\u001B[29m\u001B[38;2;97;175;239m: \u001B[39m\u001B[49m\u001B[22m\u001B[23m\u001B[24m\u001B[25m\u001B[27m\u001B[28m\u001B[29m\u001B[35m{\u001B[39m\u001B[49m\u001B[0mstep\u001B[35m: \u001B[39m\u001B[49m\u001B[0m\u001B[34m3774/4352\u001B[39m\u001B[49m\u001B[0m, epoch\u001B[35m: \u001B[39m\u001B[49m\u001B[0m\u001B[34m111.000/128\u001B[39m\u001B[49m\u001B[0m, train/learning_rate\u001B[35m: \u001B[39m\u001B[49m\u001B[0m\u001B[34m5.000e-07\u001B[39m\u001B[49m\u001B[0m, train/loss\u001B[35m: \u001B[39m\u001B[49m\u001B[0m\u001B[34m2.3682\u001B[39m\u001B[49m\u001B[0m\u001B[35m}\u001B[39m\u001B[49m\u001B[0m\u001B[39m\u001B[49m\u001B[22m\u001B[23m\u001B[24m\u001B[25m\u001B[27m\u001B[28m\u001B[29m\n"
     ]
    },
    {
     "data": {
      "application/vnd.jupyter.widget-view+json": {
       "model_id": "da5bf26dd1ce4185bcdbcb82521a2a7e",
       "version_major": 2,
       "version_minor": 0
      },
      "text/plain": [
       "Eval Epoch 111/128:   0%|          | 0/2 [00:00<?, ?ba/s]"
      ]
     },
     "metadata": {},
     "output_type": "display_data"
    },
    {
     "metadata": {
      "tags": null
     },
     "name": "stdout",
     "output_type": "stream",
     "text": [
      "\u001B[38;2;0;186;142m2022-08-03 09:12:32\u001B[38;2;97;175;239m|\u001B[39m\u001B[49m\u001B[22m\u001B[23m\u001B[24m\u001B[25m\u001B[27m\u001B[28m\u001B[29m\u001B[38;2;198;120;221m[MyReformerModelWithLMHead Train]\u001B[38;2;97;175;239m::\u001B[38;2;198;120;221m_log\u001B[38;2;97;175;239m::\u001B[38;2;198;120;221mtrain_util_wrap.py\u001B[38;2;97;175;239m:\u001B[38;2;198;120;221m255\u001B[38;2;97;175;239m:\u001B[39m\u001B[49m\u001B[22m\u001B[23m\u001B[24m\u001B[25m\u001B[27m\u001B[28m\u001B[29mINFO\u001B[39m\u001B[49m\u001B[22m\u001B[23m\u001B[24m\u001B[25m\u001B[27m\u001B[28m\u001B[29m\u001B[38;2;97;175;239m: \u001B[39m\u001B[49m\u001B[22m\u001B[23m\u001B[24m\u001B[25m\u001B[27m\u001B[28m\u001B[29m\u001B[35m{\u001B[39m\u001B[49m\u001B[0mstep\u001B[35m: \u001B[39m\u001B[49m\u001B[0m\u001B[34m3774/4352\u001B[39m\u001B[49m\u001B[0m, epoch\u001B[35m: \u001B[39m\u001B[49m\u001B[0m\u001B[34m111/128\u001B[39m\u001B[49m\u001B[0m, eval/loss\u001B[35m: \u001B[39m\u001B[49m\u001B[0m\u001B[34m2.2511\u001B[39m\u001B[49m\u001B[0m, eval/ntp_acc\u001B[35m: \u001B[39m\u001B[49m\u001B[0m\u001B[34m37.79\u001B[39m\u001B[49m\u001B[0m, eval/ikr\u001B[35m: \u001B[39m\u001B[49m\u001B[0m\u001B[34m50.69\u001B[39m\u001B[49m\u001B[0m\u001B[35m}\u001B[39m\u001B[49m\u001B[0m\u001B[39m\u001B[49m\u001B[22m\u001B[23m\u001B[24m\u001B[25m\u001B[27m\u001B[28m\u001B[29m\n"
     ]
    },
    {
     "data": {
      "application/vnd.jupyter.widget-view+json": {
       "model_id": "d152a179c6a14d25ae1023d19c9ae5b6",
       "version_major": 2,
       "version_minor": 0
      },
      "text/plain": [
       "Train Epoch 112/128:   0%|          | 0/34 [00:00<?, ?ba/s]"
      ]
     },
     "metadata": {},
     "output_type": "display_data"
    },
    {
     "metadata": {
      "tags": null
     },
     "name": "stdout",
     "output_type": "stream",
     "text": [
      "\u001B[38;2;0;186;142m2022-08-03 09:17:30\u001B[38;2;97;175;239m|\u001B[39m\u001B[49m\u001B[22m\u001B[23m\u001B[24m\u001B[25m\u001B[27m\u001B[28m\u001B[29m\u001B[38;2;198;120;221m[MyReformerModelWithLMHead Train]\u001B[38;2;97;175;239m::\u001B[38;2;198;120;221m_log\u001B[38;2;97;175;239m::\u001B[38;2;198;120;221mtrain_util_wrap.py\u001B[38;2;97;175;239m:\u001B[38;2;198;120;221m255\u001B[38;2;97;175;239m:\u001B[39m\u001B[49m\u001B[22m\u001B[23m\u001B[24m\u001B[25m\u001B[27m\u001B[28m\u001B[29mINFO\u001B[39m\u001B[49m\u001B[22m\u001B[23m\u001B[24m\u001B[25m\u001B[27m\u001B[28m\u001B[29m\u001B[38;2;97;175;239m: \u001B[39m\u001B[49m\u001B[22m\u001B[23m\u001B[24m\u001B[25m\u001B[27m\u001B[28m\u001B[29m\u001B[35m{\u001B[39m\u001B[49m\u001B[0mstep\u001B[35m: \u001B[39m\u001B[49m\u001B[0m\u001B[34m3808/4352\u001B[39m\u001B[49m\u001B[0m, epoch\u001B[35m: \u001B[39m\u001B[49m\u001B[0m\u001B[34m112.000/128\u001B[39m\u001B[49m\u001B[0m, train/learning_rate\u001B[35m: \u001B[39m\u001B[49m\u001B[0m\u001B[34m5.000e-07\u001B[39m\u001B[49m\u001B[0m, train/loss\u001B[35m: \u001B[39m\u001B[49m\u001B[0m\u001B[34m2.2725\u001B[39m\u001B[49m\u001B[0m\u001B[35m}\u001B[39m\u001B[49m\u001B[0m\u001B[39m\u001B[49m\u001B[22m\u001B[23m\u001B[24m\u001B[25m\u001B[27m\u001B[28m\u001B[29m\n"
     ]
    },
    {
     "data": {
      "application/vnd.jupyter.widget-view+json": {
       "model_id": "26f17b49c1ce4937a911a0434ffc2424",
       "version_major": 2,
       "version_minor": 0
      },
      "text/plain": [
       "Eval Epoch 112/128:   0%|          | 0/2 [00:00<?, ?ba/s]"
      ]
     },
     "metadata": {},
     "output_type": "display_data"
    },
    {
     "metadata": {
      "tags": null
     },
     "name": "stdout",
     "output_type": "stream",
     "text": [
      "\u001B[38;2;0;186;142m2022-08-03 09:17:37\u001B[38;2;97;175;239m|\u001B[39m\u001B[49m\u001B[22m\u001B[23m\u001B[24m\u001B[25m\u001B[27m\u001B[28m\u001B[29m\u001B[38;2;198;120;221m[MyReformerModelWithLMHead Train]\u001B[38;2;97;175;239m::\u001B[38;2;198;120;221m_log\u001B[38;2;97;175;239m::\u001B[38;2;198;120;221mtrain_util_wrap.py\u001B[38;2;97;175;239m:\u001B[38;2;198;120;221m255\u001B[38;2;97;175;239m:\u001B[39m\u001B[49m\u001B[22m\u001B[23m\u001B[24m\u001B[25m\u001B[27m\u001B[28m\u001B[29mINFO\u001B[39m\u001B[49m\u001B[22m\u001B[23m\u001B[24m\u001B[25m\u001B[27m\u001B[28m\u001B[29m\u001B[38;2;97;175;239m: \u001B[39m\u001B[49m\u001B[22m\u001B[23m\u001B[24m\u001B[25m\u001B[27m\u001B[28m\u001B[29m\u001B[35m{\u001B[39m\u001B[49m\u001B[0mstep\u001B[35m: \u001B[39m\u001B[49m\u001B[0m\u001B[34m3808/4352\u001B[39m\u001B[49m\u001B[0m, epoch\u001B[35m: \u001B[39m\u001B[49m\u001B[0m\u001B[34m112/128\u001B[39m\u001B[49m\u001B[0m, eval/loss\u001B[35m: \u001B[39m\u001B[49m\u001B[0m\u001B[34m2.2483\u001B[39m\u001B[49m\u001B[0m, eval/ntp_acc\u001B[35m: \u001B[39m\u001B[49m\u001B[0m\u001B[34m37.97\u001B[39m\u001B[49m\u001B[0m, eval/ikr\u001B[35m: \u001B[39m\u001B[49m\u001B[0m\u001B[34m50.71\u001B[39m\u001B[49m\u001B[0m\u001B[35m}\u001B[39m\u001B[49m\u001B[0m\u001B[39m\u001B[49m\u001B[22m\u001B[23m\u001B[24m\u001B[25m\u001B[27m\u001B[28m\u001B[29m\n"
     ]
    },
    {
     "data": {
      "application/vnd.jupyter.widget-view+json": {
       "model_id": "ba4c45284f154872b6cb3bf74ff2fbb1",
       "version_major": 2,
       "version_minor": 0
      },
      "text/plain": [
       "Train Epoch 113/128:   0%|          | 0/34 [00:00<?, ?ba/s]"
      ]
     },
     "metadata": {},
     "output_type": "display_data"
    },
    {
     "metadata": {
      "tags": null
     },
     "name": "stdout",
     "output_type": "stream",
     "text": [
      "\u001B[38;2;0;186;142m2022-08-03 09:22:35\u001B[38;2;97;175;239m|\u001B[39m\u001B[49m\u001B[22m\u001B[23m\u001B[24m\u001B[25m\u001B[27m\u001B[28m\u001B[29m\u001B[38;2;198;120;221m[MyReformerModelWithLMHead Train]\u001B[38;2;97;175;239m::\u001B[38;2;198;120;221m_log\u001B[38;2;97;175;239m::\u001B[38;2;198;120;221mtrain_util_wrap.py\u001B[38;2;97;175;239m:\u001B[38;2;198;120;221m255\u001B[38;2;97;175;239m:\u001B[39m\u001B[49m\u001B[22m\u001B[23m\u001B[24m\u001B[25m\u001B[27m\u001B[28m\u001B[29mINFO\u001B[39m\u001B[49m\u001B[22m\u001B[23m\u001B[24m\u001B[25m\u001B[27m\u001B[28m\u001B[29m\u001B[38;2;97;175;239m: \u001B[39m\u001B[49m\u001B[22m\u001B[23m\u001B[24m\u001B[25m\u001B[27m\u001B[28m\u001B[29m\u001B[35m{\u001B[39m\u001B[49m\u001B[0mstep\u001B[35m: \u001B[39m\u001B[49m\u001B[0m\u001B[34m3842/4352\u001B[39m\u001B[49m\u001B[0m, epoch\u001B[35m: \u001B[39m\u001B[49m\u001B[0m\u001B[34m113.000/128\u001B[39m\u001B[49m\u001B[0m, train/learning_rate\u001B[35m: \u001B[39m\u001B[49m\u001B[0m\u001B[34m4.000e-07\u001B[39m\u001B[49m\u001B[0m, train/loss\u001B[35m: \u001B[39m\u001B[49m\u001B[0m\u001B[34m2.2658\u001B[39m\u001B[49m\u001B[0m\u001B[35m}\u001B[39m\u001B[49m\u001B[0m\u001B[39m\u001B[49m\u001B[22m\u001B[23m\u001B[24m\u001B[25m\u001B[27m\u001B[28m\u001B[29m\n"
     ]
    },
    {
     "data": {
      "application/vnd.jupyter.widget-view+json": {
       "model_id": "3736f4ac267c4f5e84157ac0ab30015c",
       "version_major": 2,
       "version_minor": 0
      },
      "text/plain": [
       "Eval Epoch 113/128:   0%|          | 0/2 [00:00<?, ?ba/s]"
      ]
     },
     "metadata": {},
     "output_type": "display_data"
    },
    {
     "metadata": {
      "tags": null
     },
     "name": "stdout",
     "output_type": "stream",
     "text": [
      "\u001B[38;2;0;186;142m2022-08-03 09:22:38\u001B[38;2;97;175;239m|\u001B[39m\u001B[49m\u001B[22m\u001B[23m\u001B[24m\u001B[25m\u001B[27m\u001B[28m\u001B[29m\u001B[38;2;198;120;221m[MyReformerModelWithLMHead Train]\u001B[38;2;97;175;239m::\u001B[38;2;198;120;221m_log\u001B[38;2;97;175;239m::\u001B[38;2;198;120;221mtrain_util_wrap.py\u001B[38;2;97;175;239m:\u001B[38;2;198;120;221m255\u001B[38;2;97;175;239m:\u001B[39m\u001B[49m\u001B[22m\u001B[23m\u001B[24m\u001B[25m\u001B[27m\u001B[28m\u001B[29mINFO\u001B[39m\u001B[49m\u001B[22m\u001B[23m\u001B[24m\u001B[25m\u001B[27m\u001B[28m\u001B[29m\u001B[38;2;97;175;239m: \u001B[39m\u001B[49m\u001B[22m\u001B[23m\u001B[24m\u001B[25m\u001B[27m\u001B[28m\u001B[29m\u001B[35m{\u001B[39m\u001B[49m\u001B[0mstep\u001B[35m: \u001B[39m\u001B[49m\u001B[0m\u001B[34m3842/4352\u001B[39m\u001B[49m\u001B[0m, epoch\u001B[35m: \u001B[39m\u001B[49m\u001B[0m\u001B[34m113/128\u001B[39m\u001B[49m\u001B[0m, eval/loss\u001B[35m: \u001B[39m\u001B[49m\u001B[0m\u001B[34m2.251\u001B[39m\u001B[49m\u001B[0m, eval/ntp_acc\u001B[35m: \u001B[39m\u001B[49m\u001B[0m\u001B[34m37.82\u001B[39m\u001B[49m\u001B[0m, eval/ikr\u001B[35m: \u001B[39m\u001B[49m\u001B[0m\u001B[34m50.79\u001B[39m\u001B[49m\u001B[0m\u001B[35m}\u001B[39m\u001B[49m\u001B[0m\u001B[39m\u001B[49m\u001B[22m\u001B[23m\u001B[24m\u001B[25m\u001B[27m\u001B[28m\u001B[29m\n"
     ]
    },
    {
     "data": {
      "application/vnd.jupyter.widget-view+json": {
       "model_id": "c634af50ae584594ad0db941a74155f7",
       "version_major": 2,
       "version_minor": 0
      },
      "text/plain": [
       "Train Epoch 114/128:   0%|          | 0/34 [00:00<?, ?ba/s]"
      ]
     },
     "metadata": {},
     "output_type": "display_data"
    },
    {
     "metadata": {
      "tags": null
     },
     "name": "stdout",
     "output_type": "stream",
     "text": [
      "\u001B[38;2;0;186;142m2022-08-03 09:27:36\u001B[38;2;97;175;239m|\u001B[39m\u001B[49m\u001B[22m\u001B[23m\u001B[24m\u001B[25m\u001B[27m\u001B[28m\u001B[29m\u001B[38;2;198;120;221m[MyReformerModelWithLMHead Train]\u001B[38;2;97;175;239m::\u001B[38;2;198;120;221m_log\u001B[38;2;97;175;239m::\u001B[38;2;198;120;221mtrain_util_wrap.py\u001B[38;2;97;175;239m:\u001B[38;2;198;120;221m255\u001B[38;2;97;175;239m:\u001B[39m\u001B[49m\u001B[22m\u001B[23m\u001B[24m\u001B[25m\u001B[27m\u001B[28m\u001B[29mINFO\u001B[39m\u001B[49m\u001B[22m\u001B[23m\u001B[24m\u001B[25m\u001B[27m\u001B[28m\u001B[29m\u001B[38;2;97;175;239m: \u001B[39m\u001B[49m\u001B[22m\u001B[23m\u001B[24m\u001B[25m\u001B[27m\u001B[28m\u001B[29m\u001B[35m{\u001B[39m\u001B[49m\u001B[0mstep\u001B[35m: \u001B[39m\u001B[49m\u001B[0m\u001B[34m3876/4352\u001B[39m\u001B[49m\u001B[0m, epoch\u001B[35m: \u001B[39m\u001B[49m\u001B[0m\u001B[34m114.000/128\u001B[39m\u001B[49m\u001B[0m, train/learning_rate\u001B[35m: \u001B[39m\u001B[49m\u001B[0m\u001B[34m4.000e-07\u001B[39m\u001B[49m\u001B[0m, train/loss\u001B[35m: \u001B[39m\u001B[49m\u001B[0m\u001B[34m2.2719\u001B[39m\u001B[49m\u001B[0m\u001B[35m}\u001B[39m\u001B[49m\u001B[0m\u001B[39m\u001B[49m\u001B[22m\u001B[23m\u001B[24m\u001B[25m\u001B[27m\u001B[28m\u001B[29m\n"
     ]
    },
    {
     "data": {
      "application/vnd.jupyter.widget-view+json": {
       "model_id": "22311018cafa46249402e18606dbfe8b",
       "version_major": 2,
       "version_minor": 0
      },
      "text/plain": [
       "Eval Epoch 114/128:   0%|          | 0/2 [00:00<?, ?ba/s]"
      ]
     },
     "metadata": {},
     "output_type": "display_data"
    },
    {
     "metadata": {
      "tags": null
     },
     "name": "stdout",
     "output_type": "stream",
     "text": [
      "\u001B[38;2;0;186;142m2022-08-03 09:27:39\u001B[38;2;97;175;239m|\u001B[39m\u001B[49m\u001B[22m\u001B[23m\u001B[24m\u001B[25m\u001B[27m\u001B[28m\u001B[29m\u001B[38;2;198;120;221m[MyReformerModelWithLMHead Train]\u001B[38;2;97;175;239m::\u001B[38;2;198;120;221m_log\u001B[38;2;97;175;239m::\u001B[38;2;198;120;221mtrain_util_wrap.py\u001B[38;2;97;175;239m:\u001B[38;2;198;120;221m255\u001B[38;2;97;175;239m:\u001B[39m\u001B[49m\u001B[22m\u001B[23m\u001B[24m\u001B[25m\u001B[27m\u001B[28m\u001B[29mINFO\u001B[39m\u001B[49m\u001B[22m\u001B[23m\u001B[24m\u001B[25m\u001B[27m\u001B[28m\u001B[29m\u001B[38;2;97;175;239m: \u001B[39m\u001B[49m\u001B[22m\u001B[23m\u001B[24m\u001B[25m\u001B[27m\u001B[28m\u001B[29m\u001B[35m{\u001B[39m\u001B[49m\u001B[0mstep\u001B[35m: \u001B[39m\u001B[49m\u001B[0m\u001B[34m3876/4352\u001B[39m\u001B[49m\u001B[0m, epoch\u001B[35m: \u001B[39m\u001B[49m\u001B[0m\u001B[34m114/128\u001B[39m\u001B[49m\u001B[0m, eval/loss\u001B[35m: \u001B[39m\u001B[49m\u001B[0m\u001B[34m2.2497\u001B[39m\u001B[49m\u001B[0m, eval/ntp_acc\u001B[35m: \u001B[39m\u001B[49m\u001B[0m\u001B[34m37.88\u001B[39m\u001B[49m\u001B[0m, eval/ikr\u001B[35m: \u001B[39m\u001B[49m\u001B[0m\u001B[34m50.47\u001B[39m\u001B[49m\u001B[0m\u001B[35m}\u001B[39m\u001B[49m\u001B[0m\u001B[39m\u001B[49m\u001B[22m\u001B[23m\u001B[24m\u001B[25m\u001B[27m\u001B[28m\u001B[29m\n"
     ]
    },
    {
     "data": {
      "application/vnd.jupyter.widget-view+json": {
       "model_id": "980929f0c00f441a8b4ffe4a1e360c6f",
       "version_major": 2,
       "version_minor": 0
      },
      "text/plain": [
       "Train Epoch 115/128:   0%|          | 0/34 [00:00<?, ?ba/s]"
      ]
     },
     "metadata": {},
     "output_type": "display_data"
    },
    {
     "metadata": {
      "tags": null
     },
     "name": "stdout",
     "output_type": "stream",
     "text": [
      "\u001B[38;2;0;186;142m2022-08-03 09:32:38\u001B[38;2;97;175;239m|\u001B[39m\u001B[49m\u001B[22m\u001B[23m\u001B[24m\u001B[25m\u001B[27m\u001B[28m\u001B[29m\u001B[38;2;198;120;221m[MyReformerModelWithLMHead Train]\u001B[38;2;97;175;239m::\u001B[38;2;198;120;221m_log\u001B[38;2;97;175;239m::\u001B[38;2;198;120;221mtrain_util_wrap.py\u001B[38;2;97;175;239m:\u001B[38;2;198;120;221m255\u001B[38;2;97;175;239m:\u001B[39m\u001B[49m\u001B[22m\u001B[23m\u001B[24m\u001B[25m\u001B[27m\u001B[28m\u001B[29mINFO\u001B[39m\u001B[49m\u001B[22m\u001B[23m\u001B[24m\u001B[25m\u001B[27m\u001B[28m\u001B[29m\u001B[38;2;97;175;239m: \u001B[39m\u001B[49m\u001B[22m\u001B[23m\u001B[24m\u001B[25m\u001B[27m\u001B[28m\u001B[29m\u001B[35m{\u001B[39m\u001B[49m\u001B[0mstep\u001B[35m: \u001B[39m\u001B[49m\u001B[0m\u001B[34m3910/4352\u001B[39m\u001B[49m\u001B[0m, epoch\u001B[35m: \u001B[39m\u001B[49m\u001B[0m\u001B[34m115.000/128\u001B[39m\u001B[49m\u001B[0m, train/learning_rate\u001B[35m: \u001B[39m\u001B[49m\u001B[0m\u001B[34m3.000e-07\u001B[39m\u001B[49m\u001B[0m, train/loss\u001B[35m: \u001B[39m\u001B[49m\u001B[0m\u001B[34m2.2844\u001B[39m\u001B[49m\u001B[0m\u001B[35m}\u001B[39m\u001B[49m\u001B[0m\u001B[39m\u001B[49m\u001B[22m\u001B[23m\u001B[24m\u001B[25m\u001B[27m\u001B[28m\u001B[29m\n"
     ]
    },
    {
     "data": {
      "application/vnd.jupyter.widget-view+json": {
       "model_id": "46341ebe21d948b3acd84269d826003a",
       "version_major": 2,
       "version_minor": 0
      },
      "text/plain": [
       "Eval Epoch 115/128:   0%|          | 0/2 [00:00<?, ?ba/s]"
      ]
     },
     "metadata": {},
     "output_type": "display_data"
    },
    {
     "metadata": {
      "tags": null
     },
     "name": "stdout",
     "output_type": "stream",
     "text": [
      "\u001B[38;2;0;186;142m2022-08-03 09:32:40\u001B[38;2;97;175;239m|\u001B[39m\u001B[49m\u001B[22m\u001B[23m\u001B[24m\u001B[25m\u001B[27m\u001B[28m\u001B[29m\u001B[38;2;198;120;221m[MyReformerModelWithLMHead Train]\u001B[38;2;97;175;239m::\u001B[38;2;198;120;221m_log\u001B[38;2;97;175;239m::\u001B[38;2;198;120;221mtrain_util_wrap.py\u001B[38;2;97;175;239m:\u001B[38;2;198;120;221m255\u001B[38;2;97;175;239m:\u001B[39m\u001B[49m\u001B[22m\u001B[23m\u001B[24m\u001B[25m\u001B[27m\u001B[28m\u001B[29mINFO\u001B[39m\u001B[49m\u001B[22m\u001B[23m\u001B[24m\u001B[25m\u001B[27m\u001B[28m\u001B[29m\u001B[38;2;97;175;239m: \u001B[39m\u001B[49m\u001B[22m\u001B[23m\u001B[24m\u001B[25m\u001B[27m\u001B[28m\u001B[29m\u001B[35m{\u001B[39m\u001B[49m\u001B[0mstep\u001B[35m: \u001B[39m\u001B[49m\u001B[0m\u001B[34m3910/4352\u001B[39m\u001B[49m\u001B[0m, epoch\u001B[35m: \u001B[39m\u001B[49m\u001B[0m\u001B[34m115/128\u001B[39m\u001B[49m\u001B[0m, eval/loss\u001B[35m: \u001B[39m\u001B[49m\u001B[0m\u001B[34m2.2482\u001B[39m\u001B[49m\u001B[0m, eval/ntp_acc\u001B[35m: \u001B[39m\u001B[49m\u001B[0m\u001B[34m37.92\u001B[39m\u001B[49m\u001B[0m, eval/ikr\u001B[35m: \u001B[39m\u001B[49m\u001B[0m\u001B[34m50.84\u001B[39m\u001B[49m\u001B[0m\u001B[35m}\u001B[39m\u001B[49m\u001B[0m\u001B[39m\u001B[49m\u001B[22m\u001B[23m\u001B[24m\u001B[25m\u001B[27m\u001B[28m\u001B[29m\n"
     ]
    },
    {
     "data": {
      "application/vnd.jupyter.widget-view+json": {
       "model_id": "cb95f2a9a5ec4838850aca5c727d5f90",
       "version_major": 2,
       "version_minor": 0
      },
      "text/plain": [
       "Train Epoch 116/128:   0%|          | 0/34 [00:00<?, ?ba/s]"
      ]
     },
     "metadata": {},
     "output_type": "display_data"
    },
    {
     "metadata": {
      "tags": null
     },
     "name": "stdout",
     "output_type": "stream",
     "text": [
      "\u001B[38;2;0;186;142m2022-08-03 09:37:39\u001B[38;2;97;175;239m|\u001B[39m\u001B[49m\u001B[22m\u001B[23m\u001B[24m\u001B[25m\u001B[27m\u001B[28m\u001B[29m\u001B[38;2;198;120;221m[MyReformerModelWithLMHead Train]\u001B[38;2;97;175;239m::\u001B[38;2;198;120;221m_log\u001B[38;2;97;175;239m::\u001B[38;2;198;120;221mtrain_util_wrap.py\u001B[38;2;97;175;239m:\u001B[38;2;198;120;221m255\u001B[38;2;97;175;239m:\u001B[39m\u001B[49m\u001B[22m\u001B[23m\u001B[24m\u001B[25m\u001B[27m\u001B[28m\u001B[29mINFO\u001B[39m\u001B[49m\u001B[22m\u001B[23m\u001B[24m\u001B[25m\u001B[27m\u001B[28m\u001B[29m\u001B[38;2;97;175;239m: \u001B[39m\u001B[49m\u001B[22m\u001B[23m\u001B[24m\u001B[25m\u001B[27m\u001B[28m\u001B[29m\u001B[35m{\u001B[39m\u001B[49m\u001B[0mstep\u001B[35m: \u001B[39m\u001B[49m\u001B[0m\u001B[34m3944/4352\u001B[39m\u001B[49m\u001B[0m, epoch\u001B[35m: \u001B[39m\u001B[49m\u001B[0m\u001B[34m116.000/128\u001B[39m\u001B[49m\u001B[0m, train/learning_rate\u001B[35m: \u001B[39m\u001B[49m\u001B[0m\u001B[34m3.000e-07\u001B[39m\u001B[49m\u001B[0m, train/loss\u001B[35m: \u001B[39m\u001B[49m\u001B[0m\u001B[34m2.2964\u001B[39m\u001B[49m\u001B[0m\u001B[35m}\u001B[39m\u001B[49m\u001B[0m\u001B[39m\u001B[49m\u001B[22m\u001B[23m\u001B[24m\u001B[25m\u001B[27m\u001B[28m\u001B[29m\n"
     ]
    },
    {
     "data": {
      "application/vnd.jupyter.widget-view+json": {
       "model_id": "87e3211b6d644c58b61b8fa409fb26d5",
       "version_major": 2,
       "version_minor": 0
      },
      "text/plain": [
       "Eval Epoch 116/128:   0%|          | 0/2 [00:00<?, ?ba/s]"
      ]
     },
     "metadata": {},
     "output_type": "display_data"
    },
    {
     "metadata": {
      "tags": null
     },
     "name": "stdout",
     "output_type": "stream",
     "text": [
      "\u001B[38;2;0;186;142m2022-08-03 09:37:41\u001B[38;2;97;175;239m|\u001B[39m\u001B[49m\u001B[22m\u001B[23m\u001B[24m\u001B[25m\u001B[27m\u001B[28m\u001B[29m\u001B[38;2;198;120;221m[MyReformerModelWithLMHead Train]\u001B[38;2;97;175;239m::\u001B[38;2;198;120;221m_log\u001B[38;2;97;175;239m::\u001B[38;2;198;120;221mtrain_util_wrap.py\u001B[38;2;97;175;239m:\u001B[38;2;198;120;221m255\u001B[38;2;97;175;239m:\u001B[39m\u001B[49m\u001B[22m\u001B[23m\u001B[24m\u001B[25m\u001B[27m\u001B[28m\u001B[29mINFO\u001B[39m\u001B[49m\u001B[22m\u001B[23m\u001B[24m\u001B[25m\u001B[27m\u001B[28m\u001B[29m\u001B[38;2;97;175;239m: \u001B[39m\u001B[49m\u001B[22m\u001B[23m\u001B[24m\u001B[25m\u001B[27m\u001B[28m\u001B[29m\u001B[35m{\u001B[39m\u001B[49m\u001B[0mstep\u001B[35m: \u001B[39m\u001B[49m\u001B[0m\u001B[34m3944/4352\u001B[39m\u001B[49m\u001B[0m, epoch\u001B[35m: \u001B[39m\u001B[49m\u001B[0m\u001B[34m116/128\u001B[39m\u001B[49m\u001B[0m, eval/loss\u001B[35m: \u001B[39m\u001B[49m\u001B[0m\u001B[34m2.2469\u001B[39m\u001B[49m\u001B[0m, eval/ntp_acc\u001B[35m: \u001B[39m\u001B[49m\u001B[0m\u001B[34m 37.9\u001B[39m\u001B[49m\u001B[0m, eval/ikr\u001B[35m: \u001B[39m\u001B[49m\u001B[0m\u001B[34m50.87\u001B[39m\u001B[49m\u001B[0m\u001B[35m}\u001B[39m\u001B[49m\u001B[0m\u001B[39m\u001B[49m\u001B[22m\u001B[23m\u001B[24m\u001B[25m\u001B[27m\u001B[28m\u001B[29m\n"
     ]
    },
    {
     "data": {
      "application/vnd.jupyter.widget-view+json": {
       "model_id": "4c3070d022314ceeb29072fbf8ea84a9",
       "version_major": 2,
       "version_minor": 0
      },
      "text/plain": [
       "Train Epoch 117/128:   0%|          | 0/34 [00:00<?, ?ba/s]"
      ]
     },
     "metadata": {},
     "output_type": "display_data"
    },
    {
     "metadata": {
      "tags": null
     },
     "name": "stdout",
     "output_type": "stream",
     "text": [
      "\u001B[38;2;0;186;142m2022-08-03 09:42:40\u001B[38;2;97;175;239m|\u001B[39m\u001B[49m\u001B[22m\u001B[23m\u001B[24m\u001B[25m\u001B[27m\u001B[28m\u001B[29m\u001B[38;2;198;120;221m[MyReformerModelWithLMHead Train]\u001B[38;2;97;175;239m::\u001B[38;2;198;120;221m_log\u001B[38;2;97;175;239m::\u001B[38;2;198;120;221mtrain_util_wrap.py\u001B[38;2;97;175;239m:\u001B[38;2;198;120;221m255\u001B[38;2;97;175;239m:\u001B[39m\u001B[49m\u001B[22m\u001B[23m\u001B[24m\u001B[25m\u001B[27m\u001B[28m\u001B[29mINFO\u001B[39m\u001B[49m\u001B[22m\u001B[23m\u001B[24m\u001B[25m\u001B[27m\u001B[28m\u001B[29m\u001B[38;2;97;175;239m: \u001B[39m\u001B[49m\u001B[22m\u001B[23m\u001B[24m\u001B[25m\u001B[27m\u001B[28m\u001B[29m\u001B[35m{\u001B[39m\u001B[49m\u001B[0mstep\u001B[35m: \u001B[39m\u001B[49m\u001B[0m\u001B[34m3978/4352\u001B[39m\u001B[49m\u001B[0m, epoch\u001B[35m: \u001B[39m\u001B[49m\u001B[0m\u001B[34m117.000/128\u001B[39m\u001B[49m\u001B[0m, train/learning_rate\u001B[35m: \u001B[39m\u001B[49m\u001B[0m\u001B[34m2.000e-07\u001B[39m\u001B[49m\u001B[0m, train/loss\u001B[35m: \u001B[39m\u001B[49m\u001B[0m\u001B[34m2.268\u001B[39m\u001B[49m\u001B[0m\u001B[35m}\u001B[39m\u001B[49m\u001B[0m\u001B[39m\u001B[49m\u001B[22m\u001B[23m\u001B[24m\u001B[25m\u001B[27m\u001B[28m\u001B[29m\n"
     ]
    },
    {
     "data": {
      "application/vnd.jupyter.widget-view+json": {
       "model_id": "8b3edd33a3584e2b87dadd2dea25a36b",
       "version_major": 2,
       "version_minor": 0
      },
      "text/plain": [
       "Eval Epoch 117/128:   0%|          | 0/2 [00:00<?, ?ba/s]"
      ]
     },
     "metadata": {},
     "output_type": "display_data"
    },
    {
     "metadata": {
      "tags": null
     },
     "name": "stdout",
     "output_type": "stream",
     "text": [
      "\u001B[38;2;0;186;142m2022-08-03 09:42:43\u001B[38;2;97;175;239m|\u001B[39m\u001B[49m\u001B[22m\u001B[23m\u001B[24m\u001B[25m\u001B[27m\u001B[28m\u001B[29m\u001B[38;2;198;120;221m[MyReformerModelWithLMHead Train]\u001B[38;2;97;175;239m::\u001B[38;2;198;120;221m_log\u001B[38;2;97;175;239m::\u001B[38;2;198;120;221mtrain_util_wrap.py\u001B[38;2;97;175;239m:\u001B[38;2;198;120;221m255\u001B[38;2;97;175;239m:\u001B[39m\u001B[49m\u001B[22m\u001B[23m\u001B[24m\u001B[25m\u001B[27m\u001B[28m\u001B[29mINFO\u001B[39m\u001B[49m\u001B[22m\u001B[23m\u001B[24m\u001B[25m\u001B[27m\u001B[28m\u001B[29m\u001B[38;2;97;175;239m: \u001B[39m\u001B[49m\u001B[22m\u001B[23m\u001B[24m\u001B[25m\u001B[27m\u001B[28m\u001B[29m\u001B[35m{\u001B[39m\u001B[49m\u001B[0mstep\u001B[35m: \u001B[39m\u001B[49m\u001B[0m\u001B[34m3978/4352\u001B[39m\u001B[49m\u001B[0m, epoch\u001B[35m: \u001B[39m\u001B[49m\u001B[0m\u001B[34m117/128\u001B[39m\u001B[49m\u001B[0m, eval/loss\u001B[35m: \u001B[39m\u001B[49m\u001B[0m\u001B[34m2.2477\u001B[39m\u001B[49m\u001B[0m, eval/ntp_acc\u001B[35m: \u001B[39m\u001B[49m\u001B[0m\u001B[34m37.97\u001B[39m\u001B[49m\u001B[0m, eval/ikr\u001B[35m: \u001B[39m\u001B[49m\u001B[0m\u001B[34m50.79\u001B[39m\u001B[49m\u001B[0m\u001B[35m}\u001B[39m\u001B[49m\u001B[0m\u001B[39m\u001B[49m\u001B[22m\u001B[23m\u001B[24m\u001B[25m\u001B[27m\u001B[28m\u001B[29m\n"
     ]
    },
    {
     "data": {
      "application/vnd.jupyter.widget-view+json": {
       "model_id": "959f206343fb4b55b1c8c08e6c827325",
       "version_major": 2,
       "version_minor": 0
      },
      "text/plain": [
       "Train Epoch 118/128:   0%|          | 0/34 [00:00<?, ?ba/s]"
      ]
     },
     "metadata": {},
     "output_type": "display_data"
    },
    {
     "output_type": "stream",
     "name": "stdout",
     "text": [
      "\u001B[38;2;0;186;142m2022-08-03 09:47:41\u001B[38;2;97;175;239m|\u001B[39m\u001B[49m\u001B[22m\u001B[23m\u001B[24m\u001B[25m\u001B[27m\u001B[28m\u001B[29m\u001B[38;2;198;120;221m[MyReformerModelWithLMHead Train]\u001B[38;2;97;175;239m::\u001B[38;2;198;120;221m_log\u001B[38;2;97;175;239m::\u001B[38;2;198;120;221mtrain_util_wrap.py\u001B[38;2;97;175;239m:\u001B[38;2;198;120;221m255\u001B[38;2;97;175;239m:\u001B[39m\u001B[49m\u001B[22m\u001B[23m\u001B[24m\u001B[25m\u001B[27m\u001B[28m\u001B[29mINFO\u001B[39m\u001B[49m\u001B[22m\u001B[23m\u001B[24m\u001B[25m\u001B[27m\u001B[28m\u001B[29m\u001B[38;2;97;175;239m: \u001B[39m\u001B[49m\u001B[22m\u001B[23m\u001B[24m\u001B[25m\u001B[27m\u001B[28m\u001B[29m\u001B[35m{\u001B[39m\u001B[49m\u001B[0mstep\u001B[35m: \u001B[39m\u001B[49m\u001B[0m\u001B[34m4012/4352\u001B[39m\u001B[49m\u001B[0m, epoch\u001B[35m: \u001B[39m\u001B[49m\u001B[0m\u001B[34m118.000/128\u001B[39m\u001B[49m\u001B[0m, train/learning_rate\u001B[35m: \u001B[39m\u001B[49m\u001B[0m\u001B[34m2.000e-07\u001B[39m\u001B[49m\u001B[0m, train/loss\u001B[35m: \u001B[39m\u001B[49m\u001B[0m\u001B[34m2.3439\u001B[39m\u001B[49m\u001B[0m\u001B[35m}\u001B[39m\u001B[49m\u001B[0m\u001B[39m\u001B[49m\u001B[22m\u001B[23m\u001B[24m\u001B[25m\u001B[27m\u001B[28m\u001B[29m\n"
     ]
    },
    {
     "output_type": "display_data",
     "data": {
      "text/plain": [
       "Eval Epoch 118/128:   0%|          | 0/2 [00:00<?, ?ba/s]"
      ],
      "application/vnd.jupyter.widget-view+json": {
       "version_major": 2,
       "version_minor": 0,
       "model_id": "bcc25cb219104be9a3e2e7722fd253bd"
      }
     },
     "metadata": {}
    },
    {
     "output_type": "stream",
     "name": "stdout",
     "text": [
      "\u001B[38;2;0;186;142m2022-08-03 09:47:44\u001B[38;2;97;175;239m|\u001B[39m\u001B[49m\u001B[22m\u001B[23m\u001B[24m\u001B[25m\u001B[27m\u001B[28m\u001B[29m\u001B[38;2;198;120;221m[MyReformerModelWithLMHead Train]\u001B[38;2;97;175;239m::\u001B[38;2;198;120;221m_log\u001B[38;2;97;175;239m::\u001B[38;2;198;120;221mtrain_util_wrap.py\u001B[38;2;97;175;239m:\u001B[38;2;198;120;221m255\u001B[38;2;97;175;239m:\u001B[39m\u001B[49m\u001B[22m\u001B[23m\u001B[24m\u001B[25m\u001B[27m\u001B[28m\u001B[29mINFO\u001B[39m\u001B[49m\u001B[22m\u001B[23m\u001B[24m\u001B[25m\u001B[27m\u001B[28m\u001B[29m\u001B[38;2;97;175;239m: \u001B[39m\u001B[49m\u001B[22m\u001B[23m\u001B[24m\u001B[25m\u001B[27m\u001B[28m\u001B[29m\u001B[35m{\u001B[39m\u001B[49m\u001B[0mstep\u001B[35m: \u001B[39m\u001B[49m\u001B[0m\u001B[34m4012/4352\u001B[39m\u001B[49m\u001B[0m, epoch\u001B[35m: \u001B[39m\u001B[49m\u001B[0m\u001B[34m118/128\u001B[39m\u001B[49m\u001B[0m, eval/loss\u001B[35m: \u001B[39m\u001B[49m\u001B[0m\u001B[34m2.2482\u001B[39m\u001B[49m\u001B[0m, eval/ntp_acc\u001B[35m: \u001B[39m\u001B[49m\u001B[0m\u001B[34m37.94\u001B[39m\u001B[49m\u001B[0m, eval/ikr\u001B[35m: \u001B[39m\u001B[49m\u001B[0m\u001B[34m50.88\u001B[39m\u001B[49m\u001B[0m\u001B[35m}\u001B[39m\u001B[49m\u001B[0m\u001B[39m\u001B[49m\u001B[22m\u001B[23m\u001B[24m\u001B[25m\u001B[27m\u001B[28m\u001B[29m\n"
     ]
    },
    {
     "output_type": "display_data",
     "data": {
      "text/plain": [
       "Train Epoch 119/128:   0%|          | 0/34 [00:00<?, ?ba/s]"
      ],
      "application/vnd.jupyter.widget-view+json": {
       "version_major": 2,
       "version_minor": 0,
       "model_id": "5cb4beac8ac846c3844920d7481960ff"
      }
     },
     "metadata": {}
    },
    {
     "output_type": "stream",
     "name": "stdout",
     "text": [
      "\u001B[38;2;0;186;142m2022-08-03 09:52:42\u001B[38;2;97;175;239m|\u001B[39m\u001B[49m\u001B[22m\u001B[23m\u001B[24m\u001B[25m\u001B[27m\u001B[28m\u001B[29m\u001B[38;2;198;120;221m[MyReformerModelWithLMHead Train]\u001B[38;2;97;175;239m::\u001B[38;2;198;120;221m_log\u001B[38;2;97;175;239m::\u001B[38;2;198;120;221mtrain_util_wrap.py\u001B[38;2;97;175;239m:\u001B[38;2;198;120;221m255\u001B[38;2;97;175;239m:\u001B[39m\u001B[49m\u001B[22m\u001B[23m\u001B[24m\u001B[25m\u001B[27m\u001B[28m\u001B[29mINFO\u001B[39m\u001B[49m\u001B[22m\u001B[23m\u001B[24m\u001B[25m\u001B[27m\u001B[28m\u001B[29m\u001B[38;2;97;175;239m: \u001B[39m\u001B[49m\u001B[22m\u001B[23m\u001B[24m\u001B[25m\u001B[27m\u001B[28m\u001B[29m\u001B[35m{\u001B[39m\u001B[49m\u001B[0mstep\u001B[35m: \u001B[39m\u001B[49m\u001B[0m\u001B[34m4046/4352\u001B[39m\u001B[49m\u001B[0m, epoch\u001B[35m: \u001B[39m\u001B[49m\u001B[0m\u001B[34m119.000/128\u001B[39m\u001B[49m\u001B[0m, train/learning_rate\u001B[35m: \u001B[39m\u001B[49m\u001B[0m\u001B[34m1.000e-07\u001B[39m\u001B[49m\u001B[0m, train/loss\u001B[35m: \u001B[39m\u001B[49m\u001B[0m\u001B[34m2.3122\u001B[39m\u001B[49m\u001B[0m\u001B[35m}\u001B[39m\u001B[49m\u001B[0m\u001B[39m\u001B[49m\u001B[22m\u001B[23m\u001B[24m\u001B[25m\u001B[27m\u001B[28m\u001B[29m\n"
     ]
    },
    {
     "output_type": "display_data",
     "data": {
      "text/plain": [
       "Eval Epoch 119/128:   0%|          | 0/2 [00:00<?, ?ba/s]"
      ],
      "application/vnd.jupyter.widget-view+json": {
       "version_major": 2,
       "version_minor": 0,
       "model_id": "72a84ef386474ae7a537e41efd800f4a"
      }
     },
     "metadata": {}
    },
    {
     "output_type": "stream",
     "name": "stdout",
     "text": [
      "\u001B[38;2;0;186;142m2022-08-03 09:52:45\u001B[38;2;97;175;239m|\u001B[39m\u001B[49m\u001B[22m\u001B[23m\u001B[24m\u001B[25m\u001B[27m\u001B[28m\u001B[29m\u001B[38;2;198;120;221m[MyReformerModelWithLMHead Train]\u001B[38;2;97;175;239m::\u001B[38;2;198;120;221m_log\u001B[38;2;97;175;239m::\u001B[38;2;198;120;221mtrain_util_wrap.py\u001B[38;2;97;175;239m:\u001B[38;2;198;120;221m255\u001B[38;2;97;175;239m:\u001B[39m\u001B[49m\u001B[22m\u001B[23m\u001B[24m\u001B[25m\u001B[27m\u001B[28m\u001B[29mINFO\u001B[39m\u001B[49m\u001B[22m\u001B[23m\u001B[24m\u001B[25m\u001B[27m\u001B[28m\u001B[29m\u001B[38;2;97;175;239m: \u001B[39m\u001B[49m\u001B[22m\u001B[23m\u001B[24m\u001B[25m\u001B[27m\u001B[28m\u001B[29m\u001B[35m{\u001B[39m\u001B[49m\u001B[0mstep\u001B[35m: \u001B[39m\u001B[49m\u001B[0m\u001B[34m4046/4352\u001B[39m\u001B[49m\u001B[0m, epoch\u001B[35m: \u001B[39m\u001B[49m\u001B[0m\u001B[34m119/128\u001B[39m\u001B[49m\u001B[0m, eval/loss\u001B[35m: \u001B[39m\u001B[49m\u001B[0m\u001B[34m2.2452\u001B[39m\u001B[49m\u001B[0m, eval/ntp_acc\u001B[35m: \u001B[39m\u001B[49m\u001B[0m\u001B[34m37.93\u001B[39m\u001B[49m\u001B[0m, eval/ikr\u001B[35m: \u001B[39m\u001B[49m\u001B[0m\u001B[34m50.62\u001B[39m\u001B[49m\u001B[0m\u001B[35m}\u001B[39m\u001B[49m\u001B[0m\u001B[39m\u001B[49m\u001B[22m\u001B[23m\u001B[24m\u001B[25m\u001B[27m\u001B[28m\u001B[29m\n"
     ]
    },
    {
     "output_type": "display_data",
     "data": {
      "text/plain": [
       "Train Epoch 120/128:   0%|          | 0/34 [00:00<?, ?ba/s]"
      ],
      "application/vnd.jupyter.widget-view+json": {
       "version_major": 2,
       "version_minor": 0,
       "model_id": "fab86546684d4f4baad42ca9272ea75a"
      }
     },
     "metadata": {}
    },
    {
     "output_type": "stream",
     "name": "stdout",
     "text": [
      "\u001B[38;2;0;186;142m2022-08-03 09:57:43\u001B[38;2;97;175;239m|\u001B[39m\u001B[49m\u001B[22m\u001B[23m\u001B[24m\u001B[25m\u001B[27m\u001B[28m\u001B[29m\u001B[38;2;198;120;221m[MyReformerModelWithLMHead Train]\u001B[38;2;97;175;239m::\u001B[38;2;198;120;221m_log\u001B[38;2;97;175;239m::\u001B[38;2;198;120;221mtrain_util_wrap.py\u001B[38;2;97;175;239m:\u001B[38;2;198;120;221m255\u001B[38;2;97;175;239m:\u001B[39m\u001B[49m\u001B[22m\u001B[23m\u001B[24m\u001B[25m\u001B[27m\u001B[28m\u001B[29mINFO\u001B[39m\u001B[49m\u001B[22m\u001B[23m\u001B[24m\u001B[25m\u001B[27m\u001B[28m\u001B[29m\u001B[38;2;97;175;239m: \u001B[39m\u001B[49m\u001B[22m\u001B[23m\u001B[24m\u001B[25m\u001B[27m\u001B[28m\u001B[29m\u001B[35m{\u001B[39m\u001B[49m\u001B[0mstep\u001B[35m: \u001B[39m\u001B[49m\u001B[0m\u001B[34m4080/4352\u001B[39m\u001B[49m\u001B[0m, epoch\u001B[35m: \u001B[39m\u001B[49m\u001B[0m\u001B[34m120.000/128\u001B[39m\u001B[49m\u001B[0m, train/learning_rate\u001B[35m: \u001B[39m\u001B[49m\u001B[0m\u001B[34m1.000e-07\u001B[39m\u001B[49m\u001B[0m, train/loss\u001B[35m: \u001B[39m\u001B[49m\u001B[0m\u001B[34m2.3037\u001B[39m\u001B[49m\u001B[0m\u001B[35m}\u001B[39m\u001B[49m\u001B[0m\u001B[39m\u001B[49m\u001B[22m\u001B[23m\u001B[24m\u001B[25m\u001B[27m\u001B[28m\u001B[29m\n"
     ]
    },
    {
     "output_type": "display_data",
     "data": {
      "text/plain": [
       "Eval Epoch 120/128:   0%|          | 0/2 [00:00<?, ?ba/s]"
      ],
      "application/vnd.jupyter.widget-view+json": {
       "version_major": 2,
       "version_minor": 0,
       "model_id": "1f591a2d2bba441084f5c006ca1d8569"
      }
     },
     "metadata": {}
    },
    {
     "output_type": "stream",
     "name": "stdout",
     "text": [
      "\u001B[38;2;0;186;142m2022-08-03 09:57:46\u001B[38;2;97;175;239m|\u001B[39m\u001B[49m\u001B[22m\u001B[23m\u001B[24m\u001B[25m\u001B[27m\u001B[28m\u001B[29m\u001B[38;2;198;120;221m[MyReformerModelWithLMHead Train]\u001B[38;2;97;175;239m::\u001B[38;2;198;120;221m_log\u001B[38;2;97;175;239m::\u001B[38;2;198;120;221mtrain_util_wrap.py\u001B[38;2;97;175;239m:\u001B[38;2;198;120;221m255\u001B[38;2;97;175;239m:\u001B[39m\u001B[49m\u001B[22m\u001B[23m\u001B[24m\u001B[25m\u001B[27m\u001B[28m\u001B[29mINFO\u001B[39m\u001B[49m\u001B[22m\u001B[23m\u001B[24m\u001B[25m\u001B[27m\u001B[28m\u001B[29m\u001B[38;2;97;175;239m: \u001B[39m\u001B[49m\u001B[22m\u001B[23m\u001B[24m\u001B[25m\u001B[27m\u001B[28m\u001B[29m\u001B[35m{\u001B[39m\u001B[49m\u001B[0mstep\u001B[35m: \u001B[39m\u001B[49m\u001B[0m\u001B[34m4080/4352\u001B[39m\u001B[49m\u001B[0m, epoch\u001B[35m: \u001B[39m\u001B[49m\u001B[0m\u001B[34m120/128\u001B[39m\u001B[49m\u001B[0m, eval/loss\u001B[35m: \u001B[39m\u001B[49m\u001B[0m\u001B[34m2.2456\u001B[39m\u001B[49m\u001B[0m, eval/ntp_acc\u001B[35m: \u001B[39m\u001B[49m\u001B[0m\u001B[34m38.01\u001B[39m\u001B[49m\u001B[0m, eval/ikr\u001B[35m: \u001B[39m\u001B[49m\u001B[0m\u001B[34m50.93\u001B[39m\u001B[49m\u001B[0m\u001B[35m}\u001B[39m\u001B[49m\u001B[0m\u001B[39m\u001B[49m\u001B[22m\u001B[23m\u001B[24m\u001B[25m\u001B[27m\u001B[28m\u001B[29m\n"
     ]
    },
    {
     "output_type": "display_data",
     "data": {
      "text/plain": [
       "Train Epoch 121/128:   0%|          | 0/34 [00:00<?, ?ba/s]"
      ],
      "application/vnd.jupyter.widget-view+json": {
       "version_major": 2,
       "version_minor": 0,
       "model_id": "0e967e7cfbfd4920ac86bd283d330aad"
      }
     },
     "metadata": {}
    },
    {
     "output_type": "stream",
     "name": "stdout",
     "text": [
      "\u001B[38;2;0;186;142m2022-08-03 10:02:44\u001B[38;2;97;175;239m|\u001B[39m\u001B[49m\u001B[22m\u001B[23m\u001B[24m\u001B[25m\u001B[27m\u001B[28m\u001B[29m\u001B[38;2;198;120;221m[MyReformerModelWithLMHead Train]\u001B[38;2;97;175;239m::\u001B[38;2;198;120;221m_log\u001B[38;2;97;175;239m::\u001B[38;2;198;120;221mtrain_util_wrap.py\u001B[38;2;97;175;239m:\u001B[38;2;198;120;221m255\u001B[38;2;97;175;239m:\u001B[39m\u001B[49m\u001B[22m\u001B[23m\u001B[24m\u001B[25m\u001B[27m\u001B[28m\u001B[29mINFO\u001B[39m\u001B[49m\u001B[22m\u001B[23m\u001B[24m\u001B[25m\u001B[27m\u001B[28m\u001B[29m\u001B[38;2;97;175;239m: \u001B[39m\u001B[49m\u001B[22m\u001B[23m\u001B[24m\u001B[25m\u001B[27m\u001B[28m\u001B[29m\u001B[35m{\u001B[39m\u001B[49m\u001B[0mstep\u001B[35m: \u001B[39m\u001B[49m\u001B[0m\u001B[34m4114/4352\u001B[39m\u001B[49m\u001B[0m, epoch\u001B[35m: \u001B[39m\u001B[49m\u001B[0m\u001B[34m121.000/128\u001B[39m\u001B[49m\u001B[0m, train/learning_rate\u001B[35m: \u001B[39m\u001B[49m\u001B[0m\u001B[34m1.000e-07\u001B[39m\u001B[49m\u001B[0m, train/loss\u001B[35m: \u001B[39m\u001B[49m\u001B[0m\u001B[34m2.2795\u001B[39m\u001B[49m\u001B[0m\u001B[35m}\u001B[39m\u001B[49m\u001B[0m\u001B[39m\u001B[49m\u001B[22m\u001B[23m\u001B[24m\u001B[25m\u001B[27m\u001B[28m\u001B[29m\n"
     ]
    },
    {
     "output_type": "display_data",
     "data": {
      "text/plain": [
       "Eval Epoch 121/128:   0%|          | 0/2 [00:00<?, ?ba/s]"
      ],
      "application/vnd.jupyter.widget-view+json": {
       "version_major": 2,
       "version_minor": 0,
       "model_id": "8cf1025e49504ec99b0790cdc94bad32"
      }
     },
     "metadata": {}
    },
    {
     "output_type": "stream",
     "name": "stdout",
     "text": [
      "\u001B[38;2;0;186;142m2022-08-03 10:02:47\u001B[38;2;97;175;239m|\u001B[39m\u001B[49m\u001B[22m\u001B[23m\u001B[24m\u001B[25m\u001B[27m\u001B[28m\u001B[29m\u001B[38;2;198;120;221m[MyReformerModelWithLMHead Train]\u001B[38;2;97;175;239m::\u001B[38;2;198;120;221m_log\u001B[38;2;97;175;239m::\u001B[38;2;198;120;221mtrain_util_wrap.py\u001B[38;2;97;175;239m:\u001B[38;2;198;120;221m255\u001B[38;2;97;175;239m:\u001B[39m\u001B[49m\u001B[22m\u001B[23m\u001B[24m\u001B[25m\u001B[27m\u001B[28m\u001B[29mINFO\u001B[39m\u001B[49m\u001B[22m\u001B[23m\u001B[24m\u001B[25m\u001B[27m\u001B[28m\u001B[29m\u001B[38;2;97;175;239m: \u001B[39m\u001B[49m\u001B[22m\u001B[23m\u001B[24m\u001B[25m\u001B[27m\u001B[28m\u001B[29m\u001B[35m{\u001B[39m\u001B[49m\u001B[0mstep\u001B[35m: \u001B[39m\u001B[49m\u001B[0m\u001B[34m4114/4352\u001B[39m\u001B[49m\u001B[0m, epoch\u001B[35m: \u001B[39m\u001B[49m\u001B[0m\u001B[34m121/128\u001B[39m\u001B[49m\u001B[0m, eval/loss\u001B[35m: \u001B[39m\u001B[49m\u001B[0m\u001B[34m2.2467\u001B[39m\u001B[49m\u001B[0m, eval/ntp_acc\u001B[35m: \u001B[39m\u001B[49m\u001B[0m\u001B[34m37.95\u001B[39m\u001B[49m\u001B[0m, eval/ikr\u001B[35m: \u001B[39m\u001B[49m\u001B[0m\u001B[34m50.68\u001B[39m\u001B[49m\u001B[0m\u001B[35m}\u001B[39m\u001B[49m\u001B[0m\u001B[39m\u001B[49m\u001B[22m\u001B[23m\u001B[24m\u001B[25m\u001B[27m\u001B[28m\u001B[29m\n"
     ]
    },
    {
     "output_type": "display_data",
     "data": {
      "text/plain": [
       "Train Epoch 122/128:   0%|          | 0/34 [00:00<?, ?ba/s]"
      ],
      "application/vnd.jupyter.widget-view+json": {
       "version_major": 2,
       "version_minor": 0,
       "model_id": "ecf1daf48fb44aee84a9b10482a276c3"
      }
     },
     "metadata": {}
    },
    {
     "output_type": "stream",
     "name": "stdout",
     "text": [
      "\u001B[38;2;0;186;142m2022-08-03 10:07:45\u001B[38;2;97;175;239m|\u001B[39m\u001B[49m\u001B[22m\u001B[23m\u001B[24m\u001B[25m\u001B[27m\u001B[28m\u001B[29m\u001B[38;2;198;120;221m[MyReformerModelWithLMHead Train]\u001B[38;2;97;175;239m::\u001B[38;2;198;120;221m_log\u001B[38;2;97;175;239m::\u001B[38;2;198;120;221mtrain_util_wrap.py\u001B[38;2;97;175;239m:\u001B[38;2;198;120;221m255\u001B[38;2;97;175;239m:\u001B[39m\u001B[49m\u001B[22m\u001B[23m\u001B[24m\u001B[25m\u001B[27m\u001B[28m\u001B[29mINFO\u001B[39m\u001B[49m\u001B[22m\u001B[23m\u001B[24m\u001B[25m\u001B[27m\u001B[28m\u001B[29m\u001B[38;2;97;175;239m: \u001B[39m\u001B[49m\u001B[22m\u001B[23m\u001B[24m\u001B[25m\u001B[27m\u001B[28m\u001B[29m\u001B[35m{\u001B[39m\u001B[49m\u001B[0mstep\u001B[35m: \u001B[39m\u001B[49m\u001B[0m\u001B[34m4148/4352\u001B[39m\u001B[49m\u001B[0m, epoch\u001B[35m: \u001B[39m\u001B[49m\u001B[0m\u001B[34m122.000/128\u001B[39m\u001B[49m\u001B[0m, train/learning_rate\u001B[35m: \u001B[39m\u001B[49m\u001B[0m\u001B[34m1.000e-07\u001B[39m\u001B[49m\u001B[0m, train/loss\u001B[35m: \u001B[39m\u001B[49m\u001B[0m\u001B[34m2.347\u001B[39m\u001B[49m\u001B[0m\u001B[35m}\u001B[39m\u001B[49m\u001B[0m\u001B[39m\u001B[49m\u001B[22m\u001B[23m\u001B[24m\u001B[25m\u001B[27m\u001B[28m\u001B[29m\n"
     ]
    },
    {
     "output_type": "display_data",
     "data": {
      "text/plain": [
       "Eval Epoch 122/128:   0%|          | 0/2 [00:00<?, ?ba/s]"
      ],
      "application/vnd.jupyter.widget-view+json": {
       "version_major": 2,
       "version_minor": 0,
       "model_id": "67fddbcc97a84f158c7cf548e3e39186"
      }
     },
     "metadata": {}
    },
    {
     "output_type": "stream",
     "name": "stdout",
     "text": [
      "\u001B[38;2;0;186;142m2022-08-03 10:07:48\u001B[38;2;97;175;239m|\u001B[39m\u001B[49m\u001B[22m\u001B[23m\u001B[24m\u001B[25m\u001B[27m\u001B[28m\u001B[29m\u001B[38;2;198;120;221m[MyReformerModelWithLMHead Train]\u001B[38;2;97;175;239m::\u001B[38;2;198;120;221m_log\u001B[38;2;97;175;239m::\u001B[38;2;198;120;221mtrain_util_wrap.py\u001B[38;2;97;175;239m:\u001B[38;2;198;120;221m255\u001B[38;2;97;175;239m:\u001B[39m\u001B[49m\u001B[22m\u001B[23m\u001B[24m\u001B[25m\u001B[27m\u001B[28m\u001B[29mINFO\u001B[39m\u001B[49m\u001B[22m\u001B[23m\u001B[24m\u001B[25m\u001B[27m\u001B[28m\u001B[29m\u001B[38;2;97;175;239m: \u001B[39m\u001B[49m\u001B[22m\u001B[23m\u001B[24m\u001B[25m\u001B[27m\u001B[28m\u001B[29m\u001B[35m{\u001B[39m\u001B[49m\u001B[0mstep\u001B[35m: \u001B[39m\u001B[49m\u001B[0m\u001B[34m4148/4352\u001B[39m\u001B[49m\u001B[0m, epoch\u001B[35m: \u001B[39m\u001B[49m\u001B[0m\u001B[34m122/128\u001B[39m\u001B[49m\u001B[0m, eval/loss\u001B[35m: \u001B[39m\u001B[49m\u001B[0m\u001B[34m2.2455\u001B[39m\u001B[49m\u001B[0m, eval/ntp_acc\u001B[35m: \u001B[39m\u001B[49m\u001B[0m\u001B[34m37.95\u001B[39m\u001B[49m\u001B[0m, eval/ikr\u001B[35m: \u001B[39m\u001B[49m\u001B[0m\u001B[34m50.97\u001B[39m\u001B[49m\u001B[0m\u001B[35m}\u001B[39m\u001B[49m\u001B[0m\u001B[39m\u001B[49m\u001B[22m\u001B[23m\u001B[24m\u001B[25m\u001B[27m\u001B[28m\u001B[29m\n"
     ]
    },
    {
     "output_type": "display_data",
     "data": {
      "text/plain": [
       "Train Epoch 123/128:   0%|          | 0/34 [00:00<?, ?ba/s]"
      ],
      "application/vnd.jupyter.widget-view+json": {
       "version_major": 2,
       "version_minor": 0,
       "model_id": "f76350e4f6fa47bb8788c1de7349543e"
      }
     },
     "metadata": {}
    },
    {
     "output_type": "stream",
     "name": "stdout",
     "text": [
      "\u001B[38;2;0;186;142m2022-08-03 10:12:46\u001B[38;2;97;175;239m|\u001B[39m\u001B[49m\u001B[22m\u001B[23m\u001B[24m\u001B[25m\u001B[27m\u001B[28m\u001B[29m\u001B[38;2;198;120;221m[MyReformerModelWithLMHead Train]\u001B[38;2;97;175;239m::\u001B[38;2;198;120;221m_log\u001B[38;2;97;175;239m::\u001B[38;2;198;120;221mtrain_util_wrap.py\u001B[38;2;97;175;239m:\u001B[38;2;198;120;221m255\u001B[38;2;97;175;239m:\u001B[39m\u001B[49m\u001B[22m\u001B[23m\u001B[24m\u001B[25m\u001B[27m\u001B[28m\u001B[29mINFO\u001B[39m\u001B[49m\u001B[22m\u001B[23m\u001B[24m\u001B[25m\u001B[27m\u001B[28m\u001B[29m\u001B[38;2;97;175;239m: \u001B[39m\u001B[49m\u001B[22m\u001B[23m\u001B[24m\u001B[25m\u001B[27m\u001B[28m\u001B[29m\u001B[35m{\u001B[39m\u001B[49m\u001B[0mstep\u001B[35m: \u001B[39m\u001B[49m\u001B[0m\u001B[34m4182/4352\u001B[39m\u001B[49m\u001B[0m, epoch\u001B[35m: \u001B[39m\u001B[49m\u001B[0m\u001B[34m123.000/128\u001B[39m\u001B[49m\u001B[0m, train/learning_rate\u001B[35m: \u001B[39m\u001B[49m\u001B[0m\u001B[34m0.000e+00\u001B[39m\u001B[49m\u001B[0m, train/loss\u001B[35m: \u001B[39m\u001B[49m\u001B[0m\u001B[34m2.3284\u001B[39m\u001B[49m\u001B[0m\u001B[35m}\u001B[39m\u001B[49m\u001B[0m\u001B[39m\u001B[49m\u001B[22m\u001B[23m\u001B[24m\u001B[25m\u001B[27m\u001B[28m\u001B[29m\n"
     ]
    },
    {
     "output_type": "display_data",
     "data": {
      "text/plain": [
       "Eval Epoch 123/128:   0%|          | 0/2 [00:00<?, ?ba/s]"
      ],
      "application/vnd.jupyter.widget-view+json": {
       "version_major": 2,
       "version_minor": 0,
       "model_id": "cc3987877a364de59999f4c6cd1b05a0"
      }
     },
     "metadata": {}
    },
    {
     "output_type": "stream",
     "name": "stdout",
     "text": [
      "\u001B[38;2;0;186;142m2022-08-03 10:12:49\u001B[38;2;97;175;239m|\u001B[39m\u001B[49m\u001B[22m\u001B[23m\u001B[24m\u001B[25m\u001B[27m\u001B[28m\u001B[29m\u001B[38;2;198;120;221m[MyReformerModelWithLMHead Train]\u001B[38;2;97;175;239m::\u001B[38;2;198;120;221m_log\u001B[38;2;97;175;239m::\u001B[38;2;198;120;221mtrain_util_wrap.py\u001B[38;2;97;175;239m:\u001B[38;2;198;120;221m255\u001B[38;2;97;175;239m:\u001B[39m\u001B[49m\u001B[22m\u001B[23m\u001B[24m\u001B[25m\u001B[27m\u001B[28m\u001B[29mINFO\u001B[39m\u001B[49m\u001B[22m\u001B[23m\u001B[24m\u001B[25m\u001B[27m\u001B[28m\u001B[29m\u001B[38;2;97;175;239m: \u001B[39m\u001B[49m\u001B[22m\u001B[23m\u001B[24m\u001B[25m\u001B[27m\u001B[28m\u001B[29m\u001B[35m{\u001B[39m\u001B[49m\u001B[0mstep\u001B[35m: \u001B[39m\u001B[49m\u001B[0m\u001B[34m4182/4352\u001B[39m\u001B[49m\u001B[0m, epoch\u001B[35m: \u001B[39m\u001B[49m\u001B[0m\u001B[34m123/128\u001B[39m\u001B[49m\u001B[0m, eval/loss\u001B[35m: \u001B[39m\u001B[49m\u001B[0m\u001B[34m2.2461\u001B[39m\u001B[49m\u001B[0m, eval/ntp_acc\u001B[35m: \u001B[39m\u001B[49m\u001B[0m\u001B[34m38.04\u001B[39m\u001B[49m\u001B[0m, eval/ikr\u001B[35m: \u001B[39m\u001B[49m\u001B[0m\u001B[34m50.84\u001B[39m\u001B[49m\u001B[0m\u001B[35m}\u001B[39m\u001B[49m\u001B[0m\u001B[39m\u001B[49m\u001B[22m\u001B[23m\u001B[24m\u001B[25m\u001B[27m\u001B[28m\u001B[29m\n"
     ]
    },
    {
     "output_type": "display_data",
     "data": {
      "text/plain": [
       "Train Epoch 124/128:   0%|          | 0/34 [00:00<?, ?ba/s]"
      ],
      "application/vnd.jupyter.widget-view+json": {
       "version_major": 2,
       "version_minor": 0,
       "model_id": "93a1c3ab65f143929ee2b24826f2afe6"
      }
     },
     "metadata": {}
    },
    {
     "output_type": "stream",
     "name": "stdout",
     "text": [
      "\u001B[38;2;0;186;142m2022-08-03 10:17:47\u001B[38;2;97;175;239m|\u001B[39m\u001B[49m\u001B[22m\u001B[23m\u001B[24m\u001B[25m\u001B[27m\u001B[28m\u001B[29m\u001B[38;2;198;120;221m[MyReformerModelWithLMHead Train]\u001B[38;2;97;175;239m::\u001B[38;2;198;120;221m_log\u001B[38;2;97;175;239m::\u001B[38;2;198;120;221mtrain_util_wrap.py\u001B[38;2;97;175;239m:\u001B[38;2;198;120;221m255\u001B[38;2;97;175;239m:\u001B[39m\u001B[49m\u001B[22m\u001B[23m\u001B[24m\u001B[25m\u001B[27m\u001B[28m\u001B[29mINFO\u001B[39m\u001B[49m\u001B[22m\u001B[23m\u001B[24m\u001B[25m\u001B[27m\u001B[28m\u001B[29m\u001B[38;2;97;175;239m: \u001B[39m\u001B[49m\u001B[22m\u001B[23m\u001B[24m\u001B[25m\u001B[27m\u001B[28m\u001B[29m\u001B[35m{\u001B[39m\u001B[49m\u001B[0mstep\u001B[35m: \u001B[39m\u001B[49m\u001B[0m\u001B[34m4216/4352\u001B[39m\u001B[49m\u001B[0m, epoch\u001B[35m: \u001B[39m\u001B[49m\u001B[0m\u001B[34m124.000/128\u001B[39m\u001B[49m\u001B[0m, train/learning_rate\u001B[35m: \u001B[39m\u001B[49m\u001B[0m\u001B[34m0.000e+00\u001B[39m\u001B[49m\u001B[0m, train/loss\u001B[35m: \u001B[39m\u001B[49m\u001B[0m\u001B[34m2.2123\u001B[39m\u001B[49m\u001B[0m\u001B[35m}\u001B[39m\u001B[49m\u001B[0m\u001B[39m\u001B[49m\u001B[22m\u001B[23m\u001B[24m\u001B[25m\u001B[27m\u001B[28m\u001B[29m\n"
     ]
    },
    {
     "output_type": "display_data",
     "data": {
      "text/plain": [
       "Eval Epoch 124/128:   0%|          | 0/2 [00:00<?, ?ba/s]"
      ],
      "application/vnd.jupyter.widget-view+json": {
       "version_major": 2,
       "version_minor": 0,
       "model_id": "48c33447f5444381a0aa28a12dc8dc1f"
      }
     },
     "metadata": {}
    },
    {
     "output_type": "stream",
     "name": "stdout",
     "text": [
      "\u001B[38;2;0;186;142m2022-08-03 10:17:50\u001B[38;2;97;175;239m|\u001B[39m\u001B[49m\u001B[22m\u001B[23m\u001B[24m\u001B[25m\u001B[27m\u001B[28m\u001B[29m\u001B[38;2;198;120;221m[MyReformerModelWithLMHead Train]\u001B[38;2;97;175;239m::\u001B[38;2;198;120;221m_log\u001B[38;2;97;175;239m::\u001B[38;2;198;120;221mtrain_util_wrap.py\u001B[38;2;97;175;239m:\u001B[38;2;198;120;221m255\u001B[38;2;97;175;239m:\u001B[39m\u001B[49m\u001B[22m\u001B[23m\u001B[24m\u001B[25m\u001B[27m\u001B[28m\u001B[29mINFO\u001B[39m\u001B[49m\u001B[22m\u001B[23m\u001B[24m\u001B[25m\u001B[27m\u001B[28m\u001B[29m\u001B[38;2;97;175;239m: \u001B[39m\u001B[49m\u001B[22m\u001B[23m\u001B[24m\u001B[25m\u001B[27m\u001B[28m\u001B[29m\u001B[35m{\u001B[39m\u001B[49m\u001B[0mstep\u001B[35m: \u001B[39m\u001B[49m\u001B[0m\u001B[34m4216/4352\u001B[39m\u001B[49m\u001B[0m, epoch\u001B[35m: \u001B[39m\u001B[49m\u001B[0m\u001B[34m124/128\u001B[39m\u001B[49m\u001B[0m, eval/loss\u001B[35m: \u001B[39m\u001B[49m\u001B[0m\u001B[34m2.2453\u001B[39m\u001B[49m\u001B[0m, eval/ntp_acc\u001B[35m: \u001B[39m\u001B[49m\u001B[0m\u001B[34m38.07\u001B[39m\u001B[49m\u001B[0m, eval/ikr\u001B[35m: \u001B[39m\u001B[49m\u001B[0m\u001B[34m 50.9\u001B[39m\u001B[49m\u001B[0m\u001B[35m}\u001B[39m\u001B[49m\u001B[0m\u001B[39m\u001B[49m\u001B[22m\u001B[23m\u001B[24m\u001B[25m\u001B[27m\u001B[28m\u001B[29m\n"
     ]
    },
    {
     "output_type": "display_data",
     "data": {
      "text/plain": [
       "Train Epoch 125/128:   0%|          | 0/34 [00:00<?, ?ba/s]"
      ],
      "application/vnd.jupyter.widget-view+json": {
       "version_major": 2,
       "version_minor": 0,
       "model_id": "9eb9e82416214ab5abdfc476b5c80c8f"
      }
     },
     "metadata": {}
    },
    {
     "output_type": "stream",
     "name": "stdout",
     "text": [
      "\u001B[38;2;0;186;142m2022-08-03 10:22:48\u001B[38;2;97;175;239m|\u001B[39m\u001B[49m\u001B[22m\u001B[23m\u001B[24m\u001B[25m\u001B[27m\u001B[28m\u001B[29m\u001B[38;2;198;120;221m[MyReformerModelWithLMHead Train]\u001B[38;2;97;175;239m::\u001B[38;2;198;120;221m_log\u001B[38;2;97;175;239m::\u001B[38;2;198;120;221mtrain_util_wrap.py\u001B[38;2;97;175;239m:\u001B[38;2;198;120;221m255\u001B[38;2;97;175;239m:\u001B[39m\u001B[49m\u001B[22m\u001B[23m\u001B[24m\u001B[25m\u001B[27m\u001B[28m\u001B[29mINFO\u001B[39m\u001B[49m\u001B[22m\u001B[23m\u001B[24m\u001B[25m\u001B[27m\u001B[28m\u001B[29m\u001B[38;2;97;175;239m: \u001B[39m\u001B[49m\u001B[22m\u001B[23m\u001B[24m\u001B[25m\u001B[27m\u001B[28m\u001B[29m\u001B[35m{\u001B[39m\u001B[49m\u001B[0mstep\u001B[35m: \u001B[39m\u001B[49m\u001B[0m\u001B[34m4250/4352\u001B[39m\u001B[49m\u001B[0m, epoch\u001B[35m: \u001B[39m\u001B[49m\u001B[0m\u001B[34m125.000/128\u001B[39m\u001B[49m\u001B[0m, train/learning_rate\u001B[35m: \u001B[39m\u001B[49m\u001B[0m\u001B[34m0.000e+00\u001B[39m\u001B[49m\u001B[0m, train/loss\u001B[35m: \u001B[39m\u001B[49m\u001B[0m\u001B[34m2.3334\u001B[39m\u001B[49m\u001B[0m\u001B[35m}\u001B[39m\u001B[49m\u001B[0m\u001B[39m\u001B[49m\u001B[22m\u001B[23m\u001B[24m\u001B[25m\u001B[27m\u001B[28m\u001B[29m\n"
     ]
    },
    {
     "output_type": "display_data",
     "data": {
      "text/plain": [
       "Eval Epoch 125/128:   0%|          | 0/2 [00:00<?, ?ba/s]"
      ],
      "application/vnd.jupyter.widget-view+json": {
       "version_major": 2,
       "version_minor": 0,
       "model_id": "414d4106dfb3484485691f24db02d100"
      }
     },
     "metadata": {}
    },
    {
     "output_type": "stream",
     "name": "stdout",
     "text": [
      "\u001B[38;2;0;186;142m2022-08-03 10:22:51\u001B[38;2;97;175;239m|\u001B[39m\u001B[49m\u001B[22m\u001B[23m\u001B[24m\u001B[25m\u001B[27m\u001B[28m\u001B[29m\u001B[38;2;198;120;221m[MyReformerModelWithLMHead Train]\u001B[38;2;97;175;239m::\u001B[38;2;198;120;221m_log\u001B[38;2;97;175;239m::\u001B[38;2;198;120;221mtrain_util_wrap.py\u001B[38;2;97;175;239m:\u001B[38;2;198;120;221m255\u001B[38;2;97;175;239m:\u001B[39m\u001B[49m\u001B[22m\u001B[23m\u001B[24m\u001B[25m\u001B[27m\u001B[28m\u001B[29mINFO\u001B[39m\u001B[49m\u001B[22m\u001B[23m\u001B[24m\u001B[25m\u001B[27m\u001B[28m\u001B[29m\u001B[38;2;97;175;239m: \u001B[39m\u001B[49m\u001B[22m\u001B[23m\u001B[24m\u001B[25m\u001B[27m\u001B[28m\u001B[29m\u001B[35m{\u001B[39m\u001B[49m\u001B[0mstep\u001B[35m: \u001B[39m\u001B[49m\u001B[0m\u001B[34m4250/4352\u001B[39m\u001B[49m\u001B[0m, epoch\u001B[35m: \u001B[39m\u001B[49m\u001B[0m\u001B[34m125/128\u001B[39m\u001B[49m\u001B[0m, eval/loss\u001B[35m: \u001B[39m\u001B[49m\u001B[0m\u001B[34m2.246\u001B[39m\u001B[49m\u001B[0m, eval/ntp_acc\u001B[35m: \u001B[39m\u001B[49m\u001B[0m\u001B[34m37.96\u001B[39m\u001B[49m\u001B[0m, eval/ikr\u001B[35m: \u001B[39m\u001B[49m\u001B[0m\u001B[34m 50.9\u001B[39m\u001B[49m\u001B[0m\u001B[35m}\u001B[39m\u001B[49m\u001B[0m\u001B[39m\u001B[49m\u001B[22m\u001B[23m\u001B[24m\u001B[25m\u001B[27m\u001B[28m\u001B[29m\n"
     ]
    },
    {
     "output_type": "display_data",
     "data": {
      "text/plain": [
       "Train Epoch 126/128:   0%|          | 0/34 [00:00<?, ?ba/s]"
      ],
      "application/vnd.jupyter.widget-view+json": {
       "version_major": 2,
       "version_minor": 0,
       "model_id": "cf59bee9e0b646ecbce56ed070e05c1c"
      }
     },
     "metadata": {}
    },
    {
     "output_type": "stream",
     "name": "stdout",
     "text": [
      "\u001B[38;2;0;186;142m2022-08-03 10:27:50\u001B[38;2;97;175;239m|\u001B[39m\u001B[49m\u001B[22m\u001B[23m\u001B[24m\u001B[25m\u001B[27m\u001B[28m\u001B[29m\u001B[38;2;198;120;221m[MyReformerModelWithLMHead Train]\u001B[38;2;97;175;239m::\u001B[38;2;198;120;221m_log\u001B[38;2;97;175;239m::\u001B[38;2;198;120;221mtrain_util_wrap.py\u001B[38;2;97;175;239m:\u001B[38;2;198;120;221m255\u001B[38;2;97;175;239m:\u001B[39m\u001B[49m\u001B[22m\u001B[23m\u001B[24m\u001B[25m\u001B[27m\u001B[28m\u001B[29mINFO\u001B[39m\u001B[49m\u001B[22m\u001B[23m\u001B[24m\u001B[25m\u001B[27m\u001B[28m\u001B[29m\u001B[38;2;97;175;239m: \u001B[39m\u001B[49m\u001B[22m\u001B[23m\u001B[24m\u001B[25m\u001B[27m\u001B[28m\u001B[29m\u001B[35m{\u001B[39m\u001B[49m\u001B[0mstep\u001B[35m: \u001B[39m\u001B[49m\u001B[0m\u001B[34m4284/4352\u001B[39m\u001B[49m\u001B[0m, epoch\u001B[35m: \u001B[39m\u001B[49m\u001B[0m\u001B[34m126.000/128\u001B[39m\u001B[49m\u001B[0m, train/learning_rate\u001B[35m: \u001B[39m\u001B[49m\u001B[0m\u001B[34m0.000e+00\u001B[39m\u001B[49m\u001B[0m, train/loss\u001B[35m: \u001B[39m\u001B[49m\u001B[0m\u001B[34m2.0765\u001B[39m\u001B[49m\u001B[0m\u001B[35m}\u001B[39m\u001B[49m\u001B[0m\u001B[39m\u001B[49m\u001B[22m\u001B[23m\u001B[24m\u001B[25m\u001B[27m\u001B[28m\u001B[29m\n"
     ]
    },
    {
     "output_type": "display_data",
     "data": {
      "text/plain": [
       "Eval Epoch 126/128:   0%|          | 0/2 [00:00<?, ?ba/s]"
      ],
      "application/vnd.jupyter.widget-view+json": {
       "version_major": 2,
       "version_minor": 0,
       "model_id": "ce956c2b180e4095baa61bf93a62efd9"
      }
     },
     "metadata": {}
    },
    {
     "output_type": "stream",
     "name": "stdout",
     "text": [
      "\u001B[38;2;0;186;142m2022-08-03 10:27:52\u001B[38;2;97;175;239m|\u001B[39m\u001B[49m\u001B[22m\u001B[23m\u001B[24m\u001B[25m\u001B[27m\u001B[28m\u001B[29m\u001B[38;2;198;120;221m[MyReformerModelWithLMHead Train]\u001B[38;2;97;175;239m::\u001B[38;2;198;120;221m_log\u001B[38;2;97;175;239m::\u001B[38;2;198;120;221mtrain_util_wrap.py\u001B[38;2;97;175;239m:\u001B[38;2;198;120;221m255\u001B[38;2;97;175;239m:\u001B[39m\u001B[49m\u001B[22m\u001B[23m\u001B[24m\u001B[25m\u001B[27m\u001B[28m\u001B[29mINFO\u001B[39m\u001B[49m\u001B[22m\u001B[23m\u001B[24m\u001B[25m\u001B[27m\u001B[28m\u001B[29m\u001B[38;2;97;175;239m: \u001B[39m\u001B[49m\u001B[22m\u001B[23m\u001B[24m\u001B[25m\u001B[27m\u001B[28m\u001B[29m\u001B[35m{\u001B[39m\u001B[49m\u001B[0mstep\u001B[35m: \u001B[39m\u001B[49m\u001B[0m\u001B[34m4284/4352\u001B[39m\u001B[49m\u001B[0m, epoch\u001B[35m: \u001B[39m\u001B[49m\u001B[0m\u001B[34m126/128\u001B[39m\u001B[49m\u001B[0m, eval/loss\u001B[35m: \u001B[39m\u001B[49m\u001B[0m\u001B[34m2.2467\u001B[39m\u001B[49m\u001B[0m, eval/ntp_acc\u001B[35m: \u001B[39m\u001B[49m\u001B[0m\u001B[34m 37.9\u001B[39m\u001B[49m\u001B[0m, eval/ikr\u001B[35m: \u001B[39m\u001B[49m\u001B[0m\u001B[34m51.22\u001B[39m\u001B[49m\u001B[0m\u001B[35m}\u001B[39m\u001B[49m\u001B[0m\u001B[39m\u001B[49m\u001B[22m\u001B[23m\u001B[24m\u001B[25m\u001B[27m\u001B[28m\u001B[29m\n"
     ]
    },
    {
     "output_type": "display_data",
     "data": {
      "text/plain": [
       "Train Epoch 127/128:   0%|          | 0/34 [00:00<?, ?ba/s]"
      ],
      "application/vnd.jupyter.widget-view+json": {
       "version_major": 2,
       "version_minor": 0,
       "model_id": "d20152703d16477f922b7886933e84d4"
      }
     },
     "metadata": {}
    },
    {
     "output_type": "stream",
     "name": "stdout",
     "text": [
      "\u001B[38;2;0;186;142m2022-08-03 10:32:51\u001B[38;2;97;175;239m|\u001B[39m\u001B[49m\u001B[22m\u001B[23m\u001B[24m\u001B[25m\u001B[27m\u001B[28m\u001B[29m\u001B[38;2;198;120;221m[MyReformerModelWithLMHead Train]\u001B[38;2;97;175;239m::\u001B[38;2;198;120;221m_log\u001B[38;2;97;175;239m::\u001B[38;2;198;120;221mtrain_util_wrap.py\u001B[38;2;97;175;239m:\u001B[38;2;198;120;221m255\u001B[38;2;97;175;239m:\u001B[39m\u001B[49m\u001B[22m\u001B[23m\u001B[24m\u001B[25m\u001B[27m\u001B[28m\u001B[29mINFO\u001B[39m\u001B[49m\u001B[22m\u001B[23m\u001B[24m\u001B[25m\u001B[27m\u001B[28m\u001B[29m\u001B[38;2;97;175;239m: \u001B[39m\u001B[49m\u001B[22m\u001B[23m\u001B[24m\u001B[25m\u001B[27m\u001B[28m\u001B[29m\u001B[35m{\u001B[39m\u001B[49m\u001B[0mstep\u001B[35m: \u001B[39m\u001B[49m\u001B[0m\u001B[34m4318/4352\u001B[39m\u001B[49m\u001B[0m, epoch\u001B[35m: \u001B[39m\u001B[49m\u001B[0m\u001B[34m127.000/128\u001B[39m\u001B[49m\u001B[0m, train/learning_rate\u001B[35m: \u001B[39m\u001B[49m\u001B[0m\u001B[34m0.000e+00\u001B[39m\u001B[49m\u001B[0m, train/loss\u001B[35m: \u001B[39m\u001B[49m\u001B[0m\u001B[34m2.2866\u001B[39m\u001B[49m\u001B[0m\u001B[35m}\u001B[39m\u001B[49m\u001B[0m\u001B[39m\u001B[49m\u001B[22m\u001B[23m\u001B[24m\u001B[25m\u001B[27m\u001B[28m\u001B[29m\n"
     ]
    },
    {
     "output_type": "display_data",
     "data": {
      "text/plain": [
       "Eval Epoch 127/128:   0%|          | 0/2 [00:00<?, ?ba/s]"
      ],
      "application/vnd.jupyter.widget-view+json": {
       "version_major": 2,
       "version_minor": 0,
       "model_id": "6d7f285abe7444dd8d0d6caed63989c9"
      }
     },
     "metadata": {}
    },
    {
     "output_type": "stream",
     "name": "stdout",
     "text": [
      "\u001B[38;2;0;186;142m2022-08-03 10:32:53\u001B[38;2;97;175;239m|\u001B[39m\u001B[49m\u001B[22m\u001B[23m\u001B[24m\u001B[25m\u001B[27m\u001B[28m\u001B[29m\u001B[38;2;198;120;221m[MyReformerModelWithLMHead Train]\u001B[38;2;97;175;239m::\u001B[38;2;198;120;221m_log\u001B[38;2;97;175;239m::\u001B[38;2;198;120;221mtrain_util_wrap.py\u001B[38;2;97;175;239m:\u001B[38;2;198;120;221m255\u001B[38;2;97;175;239m:\u001B[39m\u001B[49m\u001B[22m\u001B[23m\u001B[24m\u001B[25m\u001B[27m\u001B[28m\u001B[29mINFO\u001B[39m\u001B[49m\u001B[22m\u001B[23m\u001B[24m\u001B[25m\u001B[27m\u001B[28m\u001B[29m\u001B[38;2;97;175;239m: \u001B[39m\u001B[49m\u001B[22m\u001B[23m\u001B[24m\u001B[25m\u001B[27m\u001B[28m\u001B[29m\u001B[35m{\u001B[39m\u001B[49m\u001B[0mstep\u001B[35m: \u001B[39m\u001B[49m\u001B[0m\u001B[34m4318/4352\u001B[39m\u001B[49m\u001B[0m, epoch\u001B[35m: \u001B[39m\u001B[49m\u001B[0m\u001B[34m127/128\u001B[39m\u001B[49m\u001B[0m, eval/loss\u001B[35m: \u001B[39m\u001B[49m\u001B[0m\u001B[34m2.2479\u001B[39m\u001B[49m\u001B[0m, eval/ntp_acc\u001B[35m: \u001B[39m\u001B[49m\u001B[0m\u001B[34m 38.00\u001B[39m\u001B[49m\u001B[0m, eval/ikr\u001B[35m: \u001B[39m\u001B[49m\u001B[0m\u001B[34m50.63\u001B[39m\u001B[49m\u001B[0m\u001B[35m}\u001B[39m\u001B[49m\u001B[0m\u001B[39m\u001B[49m\u001B[22m\u001B[23m\u001B[24m\u001B[25m\u001B[27m\u001B[28m\u001B[29m\n"
     ]
    },
    {
     "output_type": "display_data",
     "data": {
      "text/plain": [
       "Train Epoch 128/128:   0%|          | 0/34 [00:00<?, ?ba/s]"
      ],
      "application/vnd.jupyter.widget-view+json": {
       "version_major": 2,
       "version_minor": 0,
       "model_id": "f79472ec94714345ae9a007b890d7108"
      }
     },
     "metadata": {}
    },
    {
     "output_type": "stream",
     "name": "stdout",
     "text": [
      "\u001B[38;2;0;186;142m2022-08-03 10:37:51\u001B[38;2;97;175;239m|\u001B[39m\u001B[49m\u001B[22m\u001B[23m\u001B[24m\u001B[25m\u001B[27m\u001B[28m\u001B[29m\u001B[38;2;198;120;221m[MyReformerModelWithLMHead Train]\u001B[38;2;97;175;239m::\u001B[38;2;198;120;221m_log\u001B[38;2;97;175;239m::\u001B[38;2;198;120;221mtrain_util_wrap.py\u001B[38;2;97;175;239m:\u001B[38;2;198;120;221m255\u001B[38;2;97;175;239m:\u001B[39m\u001B[49m\u001B[22m\u001B[23m\u001B[24m\u001B[25m\u001B[27m\u001B[28m\u001B[29mINFO\u001B[39m\u001B[49m\u001B[22m\u001B[23m\u001B[24m\u001B[25m\u001B[27m\u001B[28m\u001B[29m\u001B[38;2;97;175;239m: \u001B[39m\u001B[49m\u001B[22m\u001B[23m\u001B[24m\u001B[25m\u001B[27m\u001B[28m\u001B[29m\u001B[35m{\u001B[39m\u001B[49m\u001B[0mstep\u001B[35m: \u001B[39m\u001B[49m\u001B[0m\u001B[34m4352/4352\u001B[39m\u001B[49m\u001B[0m, epoch\u001B[35m: \u001B[39m\u001B[49m\u001B[0m\u001B[34m128.000/128\u001B[39m\u001B[49m\u001B[0m, train/learning_rate\u001B[35m: \u001B[39m\u001B[49m\u001B[0m\u001B[34m0.000e+00\u001B[39m\u001B[49m\u001B[0m, train/loss\u001B[35m: \u001B[39m\u001B[49m\u001B[0m\u001B[34m2.3297\u001B[39m\u001B[49m\u001B[0m\u001B[35m}\u001B[39m\u001B[49m\u001B[0m\u001B[39m\u001B[49m\u001B[22m\u001B[23m\u001B[24m\u001B[25m\u001B[27m\u001B[28m\u001B[29m\n"
     ]
    },
    {
     "output_type": "display_data",
     "data": {
      "text/plain": [
       "Eval Epoch 128/128:   0%|          | 0/2 [00:00<?, ?ba/s]"
      ],
      "application/vnd.jupyter.widget-view+json": {
       "version_major": 2,
       "version_minor": 0,
       "model_id": "cc3daa6268dd4830a9fbac70b8e16863"
      }
     },
     "metadata": {}
    },
    {
     "output_type": "stream",
     "name": "stdout",
     "text": [
      "\u001B[38;2;0;186;142m2022-08-03 10:37:59\u001B[38;2;97;175;239m|\u001B[39m\u001B[49m\u001B[22m\u001B[23m\u001B[24m\u001B[25m\u001B[27m\u001B[28m\u001B[29m\u001B[38;2;198;120;221m[MyReformerModelWithLMHead Train]\u001B[38;2;97;175;239m::\u001B[38;2;198;120;221m_log\u001B[38;2;97;175;239m::\u001B[38;2;198;120;221mtrain_util_wrap.py\u001B[38;2;97;175;239m:\u001B[38;2;198;120;221m255\u001B[38;2;97;175;239m:\u001B[39m\u001B[49m\u001B[22m\u001B[23m\u001B[24m\u001B[25m\u001B[27m\u001B[28m\u001B[29mINFO\u001B[39m\u001B[49m\u001B[22m\u001B[23m\u001B[24m\u001B[25m\u001B[27m\u001B[28m\u001B[29m\u001B[38;2;97;175;239m: \u001B[39m\u001B[49m\u001B[22m\u001B[23m\u001B[24m\u001B[25m\u001B[27m\u001B[28m\u001B[29m\u001B[35m{\u001B[39m\u001B[49m\u001B[0mstep\u001B[35m: \u001B[39m\u001B[49m\u001B[0m\u001B[34m4352/4352\u001B[39m\u001B[49m\u001B[0m, epoch\u001B[35m: \u001B[39m\u001B[49m\u001B[0m\u001B[34m128/128\u001B[39m\u001B[49m\u001B[0m, eval/loss\u001B[35m: \u001B[39m\u001B[49m\u001B[0m\u001B[34m2.2465\u001B[39m\u001B[49m\u001B[0m, eval/ntp_acc\u001B[35m: \u001B[39m\u001B[49m\u001B[0m\u001B[34m38.02\u001B[39m\u001B[49m\u001B[0m, eval/ikr\u001B[35m: \u001B[39m\u001B[49m\u001B[0m\u001B[34m50.82\u001B[39m\u001B[49m\u001B[0m\u001B[35m}\u001B[39m\u001B[49m\u001B[0m\u001B[39m\u001B[49m\u001B[22m\u001B[23m\u001B[24m\u001B[25m\u001B[27m\u001B[28m\u001B[29m\n",
      "\u001B[38;2;0;186;142m2022-08-03 10:37:59\u001B[38;2;97;175;239m|\u001B[39m\u001B[49m\u001B[22m\u001B[23m\u001B[24m\u001B[25m\u001B[27m\u001B[28m\u001B[29m\u001B[38;2;198;120;221m[MyReformerModelWithLMHead Train]\u001B[38;2;97;175;239m::\u001B[38;2;198;120;221mon_log\u001B[38;2;97;175;239m::\u001B[38;2;198;120;221mtrain_util_wrap.py\u001B[38;2;97;175;239m:\u001B[38;2;198;120;221m319\u001B[38;2;97;175;239m:\u001B[39m\u001B[49m\u001B[22m\u001B[23m\u001B[24m\u001B[25m\u001B[27m\u001B[28m\u001B[29mINFO\u001B[39m\u001B[49m\u001B[22m\u001B[23m\u001B[24m\u001B[25m\u001B[27m\u001B[28m\u001B[29m\u001B[38;2;97;175;239m: \u001B[39m\u001B[49m\u001B[22m\u001B[23m\u001B[24m\u001B[25m\u001B[27m\u001B[28m\u001B[29m\u001B[35m{\u001B[39m\u001B[49m\u001B[0mtrain_runtime\u001B[35m: \u001B[39m\u001B[49m\u001B[0m\u001B[34m38526.14\u001B[39m\u001B[49m\u001B[0m, train_samples_per_second\u001B[35m: \u001B[39m\u001B[49m\u001B[0m\u001B[34m 7.11\u001B[39m\u001B[49m\u001B[0m, train_steps_per_second\u001B[35m: \u001B[39m\u001B[49m\u001B[0m\u001B[34m0.113\u001B[39m\u001B[49m\u001B[0m, total_flos\u001B[35m: \u001B[39m\u001B[49m\u001B[0m\u001B[34m1.3825863541850112e+17\u001B[39m\u001B[49m\u001B[0m, train_loss\u001B[35m: \u001B[39m\u001B[49m\u001B[0m\u001B[34m2.659815564203788\u001B[39m\u001B[49m\u001B[0m, epoch\u001B[35m: \u001B[39m\u001B[49m\u001B[0m\u001B[34m128.0\u001B[39m\u001B[49m\u001B[0m\u001B[35m}\u001B[39m\u001B[49m\u001B[0m\u001B[39m\u001B[49m\u001B[22m\u001B[23m\u001B[24m\u001B[25m\u001B[27m\u001B[28m\u001B[29m\n",
      "\u001B[38;2;0;186;142m2022-08-03 10:37:59\u001B[38;2;97;175;239m|\u001B[39m\u001B[49m\u001B[22m\u001B[23m\u001B[24m\u001B[25m\u001B[27m\u001B[28m\u001B[29m\u001B[38;2;198;120;221m[MyReformerModelWithLMHead Train]\u001B[38;2;97;175;239m::\u001B[38;2;198;120;221mon_train_end\u001B[38;2;97;175;239m::\u001B[38;2;198;120;221mtrain_util_wrap.py\u001B[38;2;97;175;239m:\u001B[38;2;198;120;221m184\u001B[38;2;97;175;239m:\u001B[39m\u001B[49m\u001B[22m\u001B[23m\u001B[24m\u001B[25m\u001B[27m\u001B[28m\u001B[29mINFO\u001B[39m\u001B[49m\u001B[22m\u001B[23m\u001B[24m\u001B[25m\u001B[27m\u001B[28m\u001B[29m\u001B[38;2;97;175;239m: \u001B[39m\u001B[49m\u001B[22m\u001B[23m\u001B[24m\u001B[25m\u001B[27m\u001B[28m\u001B[29mTraining completed in \u001B[34m10h42m6s\u001B[39m\u001B[49m\u001B[0m \u001B[39m\u001B[49m\u001B[22m\u001B[23m\u001B[24m\u001B[25m\u001B[27m\u001B[28m\u001B[29m\n"
     ]
    }
   ],
   "source": [
    "trainer.train()\n",
    "# checkpoint_path = os.path.join(u.model_path, '2022-08-02_10-48-15_reformer', 'checkpoint-1088')\n",
    "# trainer.train(checkpoint_path)\n",
    "\n",
    "save_path = os.path.join(trainer.args.output_dir, 'trained')\n",
    "trainer.save_model(save_path)\n"
   ]
  },
  {
   "cell_type": "code",
   "execution_count": 6,
   "metadata": {
    "id": "rHEcyIaC7o0t",
    "colab": {
     "base_uri": "https://localhost:8080/"
    },
    "executionInfo": {
     "status": "ok",
     "timestamp": 1659537482240,
     "user_tz": -480,
     "elapsed": 696,
     "user": {
      "displayName": "Stefan Heng",
      "userId": "11931699939643661721"
     }
    },
    "outputId": "bc90f430-d42c-4bf2-cff3-a7d4da090a2c"
   },
   "outputs": [
    {
     "output_type": "stream",
     "name": "stderr",
     "text": [
      "ic| trainer.args.output_dir: 'drive/My Drive/Research/Music with NLP/models/2022-08-02_23-55-45_reformer'\n",
      "ic| os.listdir(trainer.args.output_dir): ['md={nm=MyReformerModelWithLMHead, l=1024, ax_pos_sp=(32, 32), n_l=12, hd_sz=768, ff_sz=3072, attn_sh=12x64, '\n",
      "                                          'n_param=82.5M}, n=2140, a=1e-05, bsz=64, n_ep=128.log',\n",
      "                                          'tb - md={nm=MyReformerModelWithLMHead, l=1024, ax_pos_sp=(32, 32), n_l=12, hd_sz=768, ff_sz=3072, attn_sh=12x64, '\n",
      "                                          'n_param=82.5M}, n=2140, a=1e-05, bsz=64, n_ep=128',\n",
      "                                          'checkpoint-544',\n",
      "                                          'checkpoint-1088',\n",
      "                                          'checkpoint-1632',\n",
      "                                          'checkpoint-2176',\n",
      "                                          'checkpoint-2720',\n",
      "                                          'checkpoint-3264',\n",
      "                                          'checkpoint-3808',\n",
      "                                          'checkpoint-4352',\n",
      "                                          'trained']\n"
     ]
    },
    {
     "output_type": "execute_result",
     "data": {
      "text/plain": [
       "['md={nm=MyReformerModelWithLMHead, l=1024, ax_pos_sp=(32, 32), n_l=12, hd_sz=768, ff_sz=3072, attn_sh=12x64, n_param=82.5M}, n=2140, a=1e-05, bsz=64, n_ep=128.log',\n",
       " 'tb - md={nm=MyReformerModelWithLMHead, l=1024, ax_pos_sp=(32, 32), n_l=12, hd_sz=768, ff_sz=3072, attn_sh=12x64, n_param=82.5M}, n=2140, a=1e-05, bsz=64, n_ep=128',\n",
       " 'checkpoint-544',\n",
       " 'checkpoint-1088',\n",
       " 'checkpoint-1632',\n",
       " 'checkpoint-2176',\n",
       " 'checkpoint-2720',\n",
       " 'checkpoint-3264',\n",
       " 'checkpoint-3808',\n",
       " 'checkpoint-4352',\n",
       " 'trained']"
      ]
     },
     "metadata": {},
     "execution_count": 6
    }
   ],
   "source": [
    "mic(trainer.args.output_dir)\n",
    "mic(os.listdir(trainer.args.output_dir))\n",
    "\n"
   ]
  }
 ],
 "metadata": {
  "accelerator": "GPU",
  "colab": {
   "collapsed_sections": [],
   "name": "reformer.ipynb",
   "provenance": []
  },
  "kernelspec": {
   "display_name": "Python 3",
   "language": "python",
   "name": "python3"
  },
  "language_info": {
   "codemirror_mode": {
    "name": "ipython",
    "version": 2
   },
   "file_extension": ".py",
   "mimetype": "text/x-python",
   "name": "python",
   "nbconvert_exporter": "python",
   "pygments_lexer": "ipython2",
   "version": "2.7.6"
  },
  "widgets": {
   "application/vnd.jupyter.widget-state+json": {
    "606470fe86d34ab1b9a43d8891e9adad": {
     "model_module": "@jupyter-widgets/controls",
     "model_name": "HBoxModel",
     "model_module_version": "1.5.0",
     "state": {
      "_dom_classes": [],
      "_model_module": "@jupyter-widgets/controls",
      "_model_module_version": "1.5.0",
      "_model_name": "HBoxModel",
      "_view_count": null,
      "_view_module": "@jupyter-widgets/controls",
      "_view_module_version": "1.5.0",
      "_view_name": "HBoxView",
      "box_style": "",
      "children": [
       "IPY_MODEL_3a2af66c35c64e38a56b4d84af88f583",
       "IPY_MODEL_23adb0ed50f0464eb4231d1e60cb8ff2",
       "IPY_MODEL_1a37a55101444919b8afc7a016f87db5"
      ],
      "layout": "IPY_MODEL_30650d54fe3c4bbaa2615e5145ddfb58"
     }
    },
    "3a2af66c35c64e38a56b4d84af88f583": {
     "model_module": "@jupyter-widgets/controls",
     "model_name": "HTMLModel",
     "model_module_version": "1.5.0",
     "state": {
      "_dom_classes": [],
      "_model_module": "@jupyter-widgets/controls",
      "_model_module_version": "1.5.0",
      "_model_name": "HTMLModel",
      "_view_count": null,
      "_view_module": "@jupyter-widgets/controls",
      "_view_module_version": "1.5.0",
      "_view_name": "HTMLView",
      "description": "",
      "description_tooltip": null,
      "layout": "IPY_MODEL_dd3d7eae532944638b5479a9725ae1f4",
      "placeholder": "​",
      "style": "IPY_MODEL_55d8fcb7513f4e848ba60ca84459d369",
      "value": "#0: 100%"
     }
    },
    "23adb0ed50f0464eb4231d1e60cb8ff2": {
     "model_module": "@jupyter-widgets/controls",
     "model_name": "FloatProgressModel",
     "model_module_version": "1.5.0",
     "state": {
      "_dom_classes": [],
      "_model_module": "@jupyter-widgets/controls",
      "_model_module_version": "1.5.0",
      "_model_name": "FloatProgressModel",
      "_view_count": null,
      "_view_module": "@jupyter-widgets/controls",
      "_view_module_version": "1.5.0",
      "_view_name": "ProgressView",
      "bar_style": "success",
      "description": "",
      "description_tooltip": null,
      "layout": "IPY_MODEL_acacdf28c28d4ea9a0393c47da8d1814",
      "max": 2,
      "min": 0,
      "orientation": "horizontal",
      "style": "IPY_MODEL_9130a1cc5bdc430a8ff90413843d5afd",
      "value": 2
     }
    },
    "1a37a55101444919b8afc7a016f87db5": {
     "model_module": "@jupyter-widgets/controls",
     "model_name": "HTMLModel",
     "model_module_version": "1.5.0",
     "state": {
      "_dom_classes": [],
      "_model_module": "@jupyter-widgets/controls",
      "_model_module_version": "1.5.0",
      "_model_name": "HTMLModel",
      "_view_count": null,
      "_view_module": "@jupyter-widgets/controls",
      "_view_module_version": "1.5.0",
      "_view_name": "HTMLView",
      "description": "",
      "description_tooltip": null,
      "layout": "IPY_MODEL_ede54ced6ea84f09a02483313c0bc6c9",
      "placeholder": "​",
      "style": "IPY_MODEL_f85f50dbd5264f008266174586c5ba79",
      "value": " 2/2 [00:41&lt;00:00, 18.08s/ba]"
     }
    },
    "30650d54fe3c4bbaa2615e5145ddfb58": {
     "model_module": "@jupyter-widgets/base",
     "model_name": "LayoutModel",
     "model_module_version": "1.2.0",
     "state": {
      "_model_module": "@jupyter-widgets/base",
      "_model_module_version": "1.2.0",
      "_model_name": "LayoutModel",
      "_view_count": null,
      "_view_module": "@jupyter-widgets/base",
      "_view_module_version": "1.2.0",
      "_view_name": "LayoutView",
      "align_content": null,
      "align_items": null,
      "align_self": null,
      "border": null,
      "bottom": null,
      "display": null,
      "flex": null,
      "flex_flow": null,
      "grid_area": null,
      "grid_auto_columns": null,
      "grid_auto_flow": null,
      "grid_auto_rows": null,
      "grid_column": null,
      "grid_gap": null,
      "grid_row": null,
      "grid_template_areas": null,
      "grid_template_columns": null,
      "grid_template_rows": null,
      "height": null,
      "justify_content": null,
      "justify_items": null,
      "left": null,
      "margin": null,
      "max_height": null,
      "max_width": null,
      "min_height": null,
      "min_width": null,
      "object_fit": null,
      "object_position": null,
      "order": null,
      "overflow": null,
      "overflow_x": null,
      "overflow_y": null,
      "padding": null,
      "right": null,
      "top": null,
      "visibility": null,
      "width": null
     }
    },
    "dd3d7eae532944638b5479a9725ae1f4": {
     "model_module": "@jupyter-widgets/base",
     "model_name": "LayoutModel",
     "model_module_version": "1.2.0",
     "state": {
      "_model_module": "@jupyter-widgets/base",
      "_model_module_version": "1.2.0",
      "_model_name": "LayoutModel",
      "_view_count": null,
      "_view_module": "@jupyter-widgets/base",
      "_view_module_version": "1.2.0",
      "_view_name": "LayoutView",
      "align_content": null,
      "align_items": null,
      "align_self": null,
      "border": null,
      "bottom": null,
      "display": null,
      "flex": null,
      "flex_flow": null,
      "grid_area": null,
      "grid_auto_columns": null,
      "grid_auto_flow": null,
      "grid_auto_rows": null,
      "grid_column": null,
      "grid_gap": null,
      "grid_row": null,
      "grid_template_areas": null,
      "grid_template_columns": null,
      "grid_template_rows": null,
      "height": null,
      "justify_content": null,
      "justify_items": null,
      "left": null,
      "margin": null,
      "max_height": null,
      "max_width": null,
      "min_height": null,
      "min_width": null,
      "object_fit": null,
      "object_position": null,
      "order": null,
      "overflow": null,
      "overflow_x": null,
      "overflow_y": null,
      "padding": null,
      "right": null,
      "top": null,
      "visibility": null,
      "width": null
     }
    },
    "55d8fcb7513f4e848ba60ca84459d369": {
     "model_module": "@jupyter-widgets/controls",
     "model_name": "DescriptionStyleModel",
     "model_module_version": "1.5.0",
     "state": {
      "_model_module": "@jupyter-widgets/controls",
      "_model_module_version": "1.5.0",
      "_model_name": "DescriptionStyleModel",
      "_view_count": null,
      "_view_module": "@jupyter-widgets/base",
      "_view_module_version": "1.2.0",
      "_view_name": "StyleView",
      "description_width": ""
     }
    },
    "acacdf28c28d4ea9a0393c47da8d1814": {
     "model_module": "@jupyter-widgets/base",
     "model_name": "LayoutModel",
     "model_module_version": "1.2.0",
     "state": {
      "_model_module": "@jupyter-widgets/base",
      "_model_module_version": "1.2.0",
      "_model_name": "LayoutModel",
      "_view_count": null,
      "_view_module": "@jupyter-widgets/base",
      "_view_module_version": "1.2.0",
      "_view_name": "LayoutView",
      "align_content": null,
      "align_items": null,
      "align_self": null,
      "border": null,
      "bottom": null,
      "display": null,
      "flex": null,
      "flex_flow": null,
      "grid_area": null,
      "grid_auto_columns": null,
      "grid_auto_flow": null,
      "grid_auto_rows": null,
      "grid_column": null,
      "grid_gap": null,
      "grid_row": null,
      "grid_template_areas": null,
      "grid_template_columns": null,
      "grid_template_rows": null,
      "height": null,
      "justify_content": null,
      "justify_items": null,
      "left": null,
      "margin": null,
      "max_height": null,
      "max_width": null,
      "min_height": null,
      "min_width": null,
      "object_fit": null,
      "object_position": null,
      "order": null,
      "overflow": null,
      "overflow_x": null,
      "overflow_y": null,
      "padding": null,
      "right": null,
      "top": null,
      "visibility": null,
      "width": null
     }
    },
    "9130a1cc5bdc430a8ff90413843d5afd": {
     "model_module": "@jupyter-widgets/controls",
     "model_name": "ProgressStyleModel",
     "model_module_version": "1.5.0",
     "state": {
      "_model_module": "@jupyter-widgets/controls",
      "_model_module_version": "1.5.0",
      "_model_name": "ProgressStyleModel",
      "_view_count": null,
      "_view_module": "@jupyter-widgets/base",
      "_view_module_version": "1.2.0",
      "_view_name": "StyleView",
      "bar_color": null,
      "description_width": ""
     }
    },
    "ede54ced6ea84f09a02483313c0bc6c9": {
     "model_module": "@jupyter-widgets/base",
     "model_name": "LayoutModel",
     "model_module_version": "1.2.0",
     "state": {
      "_model_module": "@jupyter-widgets/base",
      "_model_module_version": "1.2.0",
      "_model_name": "LayoutModel",
      "_view_count": null,
      "_view_module": "@jupyter-widgets/base",
      "_view_module_version": "1.2.0",
      "_view_name": "LayoutView",
      "align_content": null,
      "align_items": null,
      "align_self": null,
      "border": null,
      "bottom": null,
      "display": null,
      "flex": null,
      "flex_flow": null,
      "grid_area": null,
      "grid_auto_columns": null,
      "grid_auto_flow": null,
      "grid_auto_rows": null,
      "grid_column": null,
      "grid_gap": null,
      "grid_row": null,
      "grid_template_areas": null,
      "grid_template_columns": null,
      "grid_template_rows": null,
      "height": null,
      "justify_content": null,
      "justify_items": null,
      "left": null,
      "margin": null,
      "max_height": null,
      "max_width": null,
      "min_height": null,
      "min_width": null,
      "object_fit": null,
      "object_position": null,
      "order": null,
      "overflow": null,
      "overflow_x": null,
      "overflow_y": null,
      "padding": null,
      "right": null,
      "top": null,
      "visibility": null,
      "width": null
     }
    },
    "f85f50dbd5264f008266174586c5ba79": {
     "model_module": "@jupyter-widgets/controls",
     "model_name": "DescriptionStyleModel",
     "model_module_version": "1.5.0",
     "state": {
      "_model_module": "@jupyter-widgets/controls",
      "_model_module_version": "1.5.0",
      "_model_name": "DescriptionStyleModel",
      "_view_count": null,
      "_view_module": "@jupyter-widgets/base",
      "_view_module_version": "1.2.0",
      "_view_name": "StyleView",
      "description_width": ""
     }
    },
    "e14e3d51a4f045a88f81bc8db27bd9d0": {
     "model_module": "@jupyter-widgets/controls",
     "model_name": "HBoxModel",
     "model_module_version": "1.5.0",
     "state": {
      "_dom_classes": [],
      "_model_module": "@jupyter-widgets/controls",
      "_model_module_version": "1.5.0",
      "_model_name": "HBoxModel",
      "_view_count": null,
      "_view_module": "@jupyter-widgets/controls",
      "_view_module_version": "1.5.0",
      "_view_name": "HBoxView",
      "box_style": "",
      "children": [
       "IPY_MODEL_bd17772696844d039f5368d53fffaf35",
       "IPY_MODEL_accec9eb14a743aa9dddfc107a8bd849",
       "IPY_MODEL_f173b63c7b2343b29f6f049d6e2cbca1"
      ],
      "layout": "IPY_MODEL_d79ea6b5e33d421288dd2734058e128c"
     }
    },
    "bd17772696844d039f5368d53fffaf35": {
     "model_module": "@jupyter-widgets/controls",
     "model_name": "HTMLModel",
     "model_module_version": "1.5.0",
     "state": {
      "_dom_classes": [],
      "_model_module": "@jupyter-widgets/controls",
      "_model_module_version": "1.5.0",
      "_model_name": "HTMLModel",
      "_view_count": null,
      "_view_module": "@jupyter-widgets/controls",
      "_view_module_version": "1.5.0",
      "_view_name": "HTMLView",
      "description": "",
      "description_tooltip": null,
      "layout": "IPY_MODEL_6f8ba660b8c24acda0bf24d5782ffeec",
      "placeholder": "​",
      "style": "IPY_MODEL_12b6b1bb07b3430c8c39b1058cc75e99",
      "value": "#1: 100%"
     }
    },
    "accec9eb14a743aa9dddfc107a8bd849": {
     "model_module": "@jupyter-widgets/controls",
     "model_name": "FloatProgressModel",
     "model_module_version": "1.5.0",
     "state": {
      "_dom_classes": [],
      "_model_module": "@jupyter-widgets/controls",
      "_model_module_version": "1.5.0",
      "_model_name": "FloatProgressModel",
      "_view_count": null,
      "_view_module": "@jupyter-widgets/controls",
      "_view_module_version": "1.5.0",
      "_view_name": "ProgressView",
      "bar_style": "success",
      "description": "",
      "description_tooltip": null,
      "layout": "IPY_MODEL_2817f127c9bd40d19600648c24b93de3",
      "max": 2,
      "min": 0,
      "orientation": "horizontal",
      "style": "IPY_MODEL_1b92397ff7c24736b6ce1657bb54a13a",
      "value": 2
     }
    },
    "f173b63c7b2343b29f6f049d6e2cbca1": {
     "model_module": "@jupyter-widgets/controls",
     "model_name": "HTMLModel",
     "model_module_version": "1.5.0",
     "state": {
      "_dom_classes": [],
      "_model_module": "@jupyter-widgets/controls",
      "_model_module_version": "1.5.0",
      "_model_name": "HTMLModel",
      "_view_count": null,
      "_view_module": "@jupyter-widgets/controls",
      "_view_module_version": "1.5.0",
      "_view_name": "HTMLView",
      "description": "",
      "description_tooltip": null,
      "layout": "IPY_MODEL_329a5711a233424c851f401f6968e7ca",
      "placeholder": "​",
      "style": "IPY_MODEL_4106d1036174492b9d4068a2a7dd9bac",
      "value": " 2/2 [01:07&lt;00:00, 28.33s/ba]"
     }
    },
    "d79ea6b5e33d421288dd2734058e128c": {
     "model_module": "@jupyter-widgets/base",
     "model_name": "LayoutModel",
     "model_module_version": "1.2.0",
     "state": {
      "_model_module": "@jupyter-widgets/base",
      "_model_module_version": "1.2.0",
      "_model_name": "LayoutModel",
      "_view_count": null,
      "_view_module": "@jupyter-widgets/base",
      "_view_module_version": "1.2.0",
      "_view_name": "LayoutView",
      "align_content": null,
      "align_items": null,
      "align_self": null,
      "border": null,
      "bottom": null,
      "display": null,
      "flex": null,
      "flex_flow": null,
      "grid_area": null,
      "grid_auto_columns": null,
      "grid_auto_flow": null,
      "grid_auto_rows": null,
      "grid_column": null,
      "grid_gap": null,
      "grid_row": null,
      "grid_template_areas": null,
      "grid_template_columns": null,
      "grid_template_rows": null,
      "height": null,
      "justify_content": null,
      "justify_items": null,
      "left": null,
      "margin": null,
      "max_height": null,
      "max_width": null,
      "min_height": null,
      "min_width": null,
      "object_fit": null,
      "object_position": null,
      "order": null,
      "overflow": null,
      "overflow_x": null,
      "overflow_y": null,
      "padding": null,
      "right": null,
      "top": null,
      "visibility": null,
      "width": null
     }
    },
    "6f8ba660b8c24acda0bf24d5782ffeec": {
     "model_module": "@jupyter-widgets/base",
     "model_name": "LayoutModel",
     "model_module_version": "1.2.0",
     "state": {
      "_model_module": "@jupyter-widgets/base",
      "_model_module_version": "1.2.0",
      "_model_name": "LayoutModel",
      "_view_count": null,
      "_view_module": "@jupyter-widgets/base",
      "_view_module_version": "1.2.0",
      "_view_name": "LayoutView",
      "align_content": null,
      "align_items": null,
      "align_self": null,
      "border": null,
      "bottom": null,
      "display": null,
      "flex": null,
      "flex_flow": null,
      "grid_area": null,
      "grid_auto_columns": null,
      "grid_auto_flow": null,
      "grid_auto_rows": null,
      "grid_column": null,
      "grid_gap": null,
      "grid_row": null,
      "grid_template_areas": null,
      "grid_template_columns": null,
      "grid_template_rows": null,
      "height": null,
      "justify_content": null,
      "justify_items": null,
      "left": null,
      "margin": null,
      "max_height": null,
      "max_width": null,
      "min_height": null,
      "min_width": null,
      "object_fit": null,
      "object_position": null,
      "order": null,
      "overflow": null,
      "overflow_x": null,
      "overflow_y": null,
      "padding": null,
      "right": null,
      "top": null,
      "visibility": null,
      "width": null
     }
    },
    "12b6b1bb07b3430c8c39b1058cc75e99": {
     "model_module": "@jupyter-widgets/controls",
     "model_name": "DescriptionStyleModel",
     "model_module_version": "1.5.0",
     "state": {
      "_model_module": "@jupyter-widgets/controls",
      "_model_module_version": "1.5.0",
      "_model_name": "DescriptionStyleModel",
      "_view_count": null,
      "_view_module": "@jupyter-widgets/base",
      "_view_module_version": "1.2.0",
      "_view_name": "StyleView",
      "description_width": ""
     }
    },
    "2817f127c9bd40d19600648c24b93de3": {
     "model_module": "@jupyter-widgets/base",
     "model_name": "LayoutModel",
     "model_module_version": "1.2.0",
     "state": {
      "_model_module": "@jupyter-widgets/base",
      "_model_module_version": "1.2.0",
      "_model_name": "LayoutModel",
      "_view_count": null,
      "_view_module": "@jupyter-widgets/base",
      "_view_module_version": "1.2.0",
      "_view_name": "LayoutView",
      "align_content": null,
      "align_items": null,
      "align_self": null,
      "border": null,
      "bottom": null,
      "display": null,
      "flex": null,
      "flex_flow": null,
      "grid_area": null,
      "grid_auto_columns": null,
      "grid_auto_flow": null,
      "grid_auto_rows": null,
      "grid_column": null,
      "grid_gap": null,
      "grid_row": null,
      "grid_template_areas": null,
      "grid_template_columns": null,
      "grid_template_rows": null,
      "height": null,
      "justify_content": null,
      "justify_items": null,
      "left": null,
      "margin": null,
      "max_height": null,
      "max_width": null,
      "min_height": null,
      "min_width": null,
      "object_fit": null,
      "object_position": null,
      "order": null,
      "overflow": null,
      "overflow_x": null,
      "overflow_y": null,
      "padding": null,
      "right": null,
      "top": null,
      "visibility": null,
      "width": null
     }
    },
    "1b92397ff7c24736b6ce1657bb54a13a": {
     "model_module": "@jupyter-widgets/controls",
     "model_name": "ProgressStyleModel",
     "model_module_version": "1.5.0",
     "state": {
      "_model_module": "@jupyter-widgets/controls",
      "_model_module_version": "1.5.0",
      "_model_name": "ProgressStyleModel",
      "_view_count": null,
      "_view_module": "@jupyter-widgets/base",
      "_view_module_version": "1.2.0",
      "_view_name": "StyleView",
      "bar_color": null,
      "description_width": ""
     }
    },
    "329a5711a233424c851f401f6968e7ca": {
     "model_module": "@jupyter-widgets/base",
     "model_name": "LayoutModel",
     "model_module_version": "1.2.0",
     "state": {
      "_model_module": "@jupyter-widgets/base",
      "_model_module_version": "1.2.0",
      "_model_name": "LayoutModel",
      "_view_count": null,
      "_view_module": "@jupyter-widgets/base",
      "_view_module_version": "1.2.0",
      "_view_name": "LayoutView",
      "align_content": null,
      "align_items": null,
      "align_self": null,
      "border": null,
      "bottom": null,
      "display": null,
      "flex": null,
      "flex_flow": null,
      "grid_area": null,
      "grid_auto_columns": null,
      "grid_auto_flow": null,
      "grid_auto_rows": null,
      "grid_column": null,
      "grid_gap": null,
      "grid_row": null,
      "grid_template_areas": null,
      "grid_template_columns": null,
      "grid_template_rows": null,
      "height": null,
      "justify_content": null,
      "justify_items": null,
      "left": null,
      "margin": null,
      "max_height": null,
      "max_width": null,
      "min_height": null,
      "min_width": null,
      "object_fit": null,
      "object_position": null,
      "order": null,
      "overflow": null,
      "overflow_x": null,
      "overflow_y": null,
      "padding": null,
      "right": null,
      "top": null,
      "visibility": null,
      "width": null
     }
    },
    "4106d1036174492b9d4068a2a7dd9bac": {
     "model_module": "@jupyter-widgets/controls",
     "model_name": "DescriptionStyleModel",
     "model_module_version": "1.5.0",
     "state": {
      "_model_module": "@jupyter-widgets/controls",
      "_model_module_version": "1.5.0",
      "_model_name": "DescriptionStyleModel",
      "_view_count": null,
      "_view_module": "@jupyter-widgets/base",
      "_view_module_version": "1.2.0",
      "_view_name": "StyleView",
      "description_width": ""
     }
    },
    "1541b73b75d842a19e7c403d61c4fe83": {
     "model_module": "@jupyter-widgets/controls",
     "model_name": "HBoxModel",
     "model_module_version": "1.5.0",
     "state": {
      "_dom_classes": [],
      "_model_module": "@jupyter-widgets/controls",
      "_model_module_version": "1.5.0",
      "_model_name": "HBoxModel",
      "_view_count": null,
      "_view_module": "@jupyter-widgets/controls",
      "_view_module_version": "1.5.0",
      "_view_name": "HBoxView",
      "box_style": "",
      "children": [
       "IPY_MODEL_6059da5818f84674b134a1c2492736ad",
       "IPY_MODEL_8bee61d85de04df19c01b12c43891678",
       "IPY_MODEL_22c000feff1342d7b3281968fec6b2c6"
      ],
      "layout": "IPY_MODEL_b917230d9de44ff99f0306f35078ee7b"
     }
    },
    "6059da5818f84674b134a1c2492736ad": {
     "model_module": "@jupyter-widgets/controls",
     "model_name": "HTMLModel",
     "model_module_version": "1.5.0",
     "state": {
      "_dom_classes": [],
      "_model_module": "@jupyter-widgets/controls",
      "_model_module_version": "1.5.0",
      "_model_name": "HTMLModel",
      "_view_count": null,
      "_view_module": "@jupyter-widgets/controls",
      "_view_module_version": "1.5.0",
      "_view_name": "HTMLView",
      "description": "",
      "description_tooltip": null,
      "layout": "IPY_MODEL_68c480078861403a95c5651d40105e40",
      "placeholder": "​",
      "style": "IPY_MODEL_5e075bd6130941899d1a15bb2db793b7",
      "value": "#0: 100%"
     }
    },
    "8bee61d85de04df19c01b12c43891678": {
     "model_module": "@jupyter-widgets/controls",
     "model_name": "FloatProgressModel",
     "model_module_version": "1.5.0",
     "state": {
      "_dom_classes": [],
      "_model_module": "@jupyter-widgets/controls",
      "_model_module_version": "1.5.0",
      "_model_name": "FloatProgressModel",
      "_view_count": null,
      "_view_module": "@jupyter-widgets/controls",
      "_view_module_version": "1.5.0",
      "_view_name": "ProgressView",
      "bar_style": "success",
      "description": "",
      "description_tooltip": null,
      "layout": "IPY_MODEL_b41d5c62e7ae4b43951d6033f482f607",
      "max": 1,
      "min": 0,
      "orientation": "horizontal",
      "style": "IPY_MODEL_0a2d56ef5c314a4caf2383aa0ef8ae4d",
      "value": 1
     }
    },
    "22c000feff1342d7b3281968fec6b2c6": {
     "model_module": "@jupyter-widgets/controls",
     "model_name": "HTMLModel",
     "model_module_version": "1.5.0",
     "state": {
      "_dom_classes": [],
      "_model_module": "@jupyter-widgets/controls",
      "_model_module_version": "1.5.0",
      "_model_name": "HTMLModel",
      "_view_count": null,
      "_view_module": "@jupyter-widgets/controls",
      "_view_module_version": "1.5.0",
      "_view_name": "HTMLView",
      "description": "",
      "description_tooltip": null,
      "layout": "IPY_MODEL_1d247af0e06a48668b45c7145b09b773",
      "placeholder": "​",
      "style": "IPY_MODEL_8cc7a71e3f6f4ce1b63ae3bad9cb114e",
      "value": " 1/1 [00:00&lt;00:00,  1.51ba/s]"
     }
    },
    "b917230d9de44ff99f0306f35078ee7b": {
     "model_module": "@jupyter-widgets/base",
     "model_name": "LayoutModel",
     "model_module_version": "1.2.0",
     "state": {
      "_model_module": "@jupyter-widgets/base",
      "_model_module_version": "1.2.0",
      "_model_name": "LayoutModel",
      "_view_count": null,
      "_view_module": "@jupyter-widgets/base",
      "_view_module_version": "1.2.0",
      "_view_name": "LayoutView",
      "align_content": null,
      "align_items": null,
      "align_self": null,
      "border": null,
      "bottom": null,
      "display": null,
      "flex": null,
      "flex_flow": null,
      "grid_area": null,
      "grid_auto_columns": null,
      "grid_auto_flow": null,
      "grid_auto_rows": null,
      "grid_column": null,
      "grid_gap": null,
      "grid_row": null,
      "grid_template_areas": null,
      "grid_template_columns": null,
      "grid_template_rows": null,
      "height": null,
      "justify_content": null,
      "justify_items": null,
      "left": null,
      "margin": null,
      "max_height": null,
      "max_width": null,
      "min_height": null,
      "min_width": null,
      "object_fit": null,
      "object_position": null,
      "order": null,
      "overflow": null,
      "overflow_x": null,
      "overflow_y": null,
      "padding": null,
      "right": null,
      "top": null,
      "visibility": null,
      "width": null
     }
    },
    "68c480078861403a95c5651d40105e40": {
     "model_module": "@jupyter-widgets/base",
     "model_name": "LayoutModel",
     "model_module_version": "1.2.0",
     "state": {
      "_model_module": "@jupyter-widgets/base",
      "_model_module_version": "1.2.0",
      "_model_name": "LayoutModel",
      "_view_count": null,
      "_view_module": "@jupyter-widgets/base",
      "_view_module_version": "1.2.0",
      "_view_name": "LayoutView",
      "align_content": null,
      "align_items": null,
      "align_self": null,
      "border": null,
      "bottom": null,
      "display": null,
      "flex": null,
      "flex_flow": null,
      "grid_area": null,
      "grid_auto_columns": null,
      "grid_auto_flow": null,
      "grid_auto_rows": null,
      "grid_column": null,
      "grid_gap": null,
      "grid_row": null,
      "grid_template_areas": null,
      "grid_template_columns": null,
      "grid_template_rows": null,
      "height": null,
      "justify_content": null,
      "justify_items": null,
      "left": null,
      "margin": null,
      "max_height": null,
      "max_width": null,
      "min_height": null,
      "min_width": null,
      "object_fit": null,
      "object_position": null,
      "order": null,
      "overflow": null,
      "overflow_x": null,
      "overflow_y": null,
      "padding": null,
      "right": null,
      "top": null,
      "visibility": null,
      "width": null
     }
    },
    "5e075bd6130941899d1a15bb2db793b7": {
     "model_module": "@jupyter-widgets/controls",
     "model_name": "DescriptionStyleModel",
     "model_module_version": "1.5.0",
     "state": {
      "_model_module": "@jupyter-widgets/controls",
      "_model_module_version": "1.5.0",
      "_model_name": "DescriptionStyleModel",
      "_view_count": null,
      "_view_module": "@jupyter-widgets/base",
      "_view_module_version": "1.2.0",
      "_view_name": "StyleView",
      "description_width": ""
     }
    },
    "b41d5c62e7ae4b43951d6033f482f607": {
     "model_module": "@jupyter-widgets/base",
     "model_name": "LayoutModel",
     "model_module_version": "1.2.0",
     "state": {
      "_model_module": "@jupyter-widgets/base",
      "_model_module_version": "1.2.0",
      "_model_name": "LayoutModel",
      "_view_count": null,
      "_view_module": "@jupyter-widgets/base",
      "_view_module_version": "1.2.0",
      "_view_name": "LayoutView",
      "align_content": null,
      "align_items": null,
      "align_self": null,
      "border": null,
      "bottom": null,
      "display": null,
      "flex": null,
      "flex_flow": null,
      "grid_area": null,
      "grid_auto_columns": null,
      "grid_auto_flow": null,
      "grid_auto_rows": null,
      "grid_column": null,
      "grid_gap": null,
      "grid_row": null,
      "grid_template_areas": null,
      "grid_template_columns": null,
      "grid_template_rows": null,
      "height": null,
      "justify_content": null,
      "justify_items": null,
      "left": null,
      "margin": null,
      "max_height": null,
      "max_width": null,
      "min_height": null,
      "min_width": null,
      "object_fit": null,
      "object_position": null,
      "order": null,
      "overflow": null,
      "overflow_x": null,
      "overflow_y": null,
      "padding": null,
      "right": null,
      "top": null,
      "visibility": null,
      "width": null
     }
    },
    "0a2d56ef5c314a4caf2383aa0ef8ae4d": {
     "model_module": "@jupyter-widgets/controls",
     "model_name": "ProgressStyleModel",
     "model_module_version": "1.5.0",
     "state": {
      "_model_module": "@jupyter-widgets/controls",
      "_model_module_version": "1.5.0",
      "_model_name": "ProgressStyleModel",
      "_view_count": null,
      "_view_module": "@jupyter-widgets/base",
      "_view_module_version": "1.2.0",
      "_view_name": "StyleView",
      "bar_color": null,
      "description_width": ""
     }
    },
    "1d247af0e06a48668b45c7145b09b773": {
     "model_module": "@jupyter-widgets/base",
     "model_name": "LayoutModel",
     "model_module_version": "1.2.0",
     "state": {
      "_model_module": "@jupyter-widgets/base",
      "_model_module_version": "1.2.0",
      "_model_name": "LayoutModel",
      "_view_count": null,
      "_view_module": "@jupyter-widgets/base",
      "_view_module_version": "1.2.0",
      "_view_name": "LayoutView",
      "align_content": null,
      "align_items": null,
      "align_self": null,
      "border": null,
      "bottom": null,
      "display": null,
      "flex": null,
      "flex_flow": null,
      "grid_area": null,
      "grid_auto_columns": null,
      "grid_auto_flow": null,
      "grid_auto_rows": null,
      "grid_column": null,
      "grid_gap": null,
      "grid_row": null,
      "grid_template_areas": null,
      "grid_template_columns": null,
      "grid_template_rows": null,
      "height": null,
      "justify_content": null,
      "justify_items": null,
      "left": null,
      "margin": null,
      "max_height": null,
      "max_width": null,
      "min_height": null,
      "min_width": null,
      "object_fit": null,
      "object_position": null,
      "order": null,
      "overflow": null,
      "overflow_x": null,
      "overflow_y": null,
      "padding": null,
      "right": null,
      "top": null,
      "visibility": null,
      "width": null
     }
    },
    "8cc7a71e3f6f4ce1b63ae3bad9cb114e": {
     "model_module": "@jupyter-widgets/controls",
     "model_name": "DescriptionStyleModel",
     "model_module_version": "1.5.0",
     "state": {
      "_model_module": "@jupyter-widgets/controls",
      "_model_module_version": "1.5.0",
      "_model_name": "DescriptionStyleModel",
      "_view_count": null,
      "_view_module": "@jupyter-widgets/base",
      "_view_module_version": "1.2.0",
      "_view_name": "StyleView",
      "description_width": ""
     }
    },
    "f362868271e142689079a12abde91d83": {
     "model_module": "@jupyter-widgets/controls",
     "model_name": "HBoxModel",
     "model_module_version": "1.5.0",
     "state": {
      "_dom_classes": [],
      "_model_module": "@jupyter-widgets/controls",
      "_model_module_version": "1.5.0",
      "_model_name": "HBoxModel",
      "_view_count": null,
      "_view_module": "@jupyter-widgets/controls",
      "_view_module_version": "1.5.0",
      "_view_name": "HBoxView",
      "box_style": "",
      "children": [
       "IPY_MODEL_06c42c2417a649ef913604816b1c768a",
       "IPY_MODEL_259fcca264fe487286d2c11dda26b9e7",
       "IPY_MODEL_ac2bd11418df49208d9414941d030b10"
      ],
      "layout": "IPY_MODEL_1dbd278beac9482b84cb5c6d8816cbbe"
     }
    },
    "06c42c2417a649ef913604816b1c768a": {
     "model_module": "@jupyter-widgets/controls",
     "model_name": "HTMLModel",
     "model_module_version": "1.5.0",
     "state": {
      "_dom_classes": [],
      "_model_module": "@jupyter-widgets/controls",
      "_model_module_version": "1.5.0",
      "_model_name": "HTMLModel",
      "_view_count": null,
      "_view_module": "@jupyter-widgets/controls",
      "_view_module_version": "1.5.0",
      "_view_name": "HTMLView",
      "description": "",
      "description_tooltip": null,
      "layout": "IPY_MODEL_82bfffa806024e9183e82345ef15933c",
      "placeholder": "​",
      "style": "IPY_MODEL_315e06ccf59e4dae9dff71b5336acd5f",
      "value": "#1: 100%"
     }
    },
    "259fcca264fe487286d2c11dda26b9e7": {
     "model_module": "@jupyter-widgets/controls",
     "model_name": "FloatProgressModel",
     "model_module_version": "1.5.0",
     "state": {
      "_dom_classes": [],
      "_model_module": "@jupyter-widgets/controls",
      "_model_module_version": "1.5.0",
      "_model_name": "FloatProgressModel",
      "_view_count": null,
      "_view_module": "@jupyter-widgets/controls",
      "_view_module_version": "1.5.0",
      "_view_name": "ProgressView",
      "bar_style": "success",
      "description": "",
      "description_tooltip": null,
      "layout": "IPY_MODEL_65e63df1e7e54cc2b296cdac307b6fb4",
      "max": 1,
      "min": 0,
      "orientation": "horizontal",
      "style": "IPY_MODEL_8b4e9b9bebf04ac5b580ded534bcf811",
      "value": 1
     }
    },
    "ac2bd11418df49208d9414941d030b10": {
     "model_module": "@jupyter-widgets/controls",
     "model_name": "HTMLModel",
     "model_module_version": "1.5.0",
     "state": {
      "_dom_classes": [],
      "_model_module": "@jupyter-widgets/controls",
      "_model_module_version": "1.5.0",
      "_model_name": "HTMLModel",
      "_view_count": null,
      "_view_module": "@jupyter-widgets/controls",
      "_view_module_version": "1.5.0",
      "_view_name": "HTMLView",
      "description": "",
      "description_tooltip": null,
      "layout": "IPY_MODEL_59431c2395964dd0a5f9b7bb69c0466c",
      "placeholder": "​",
      "style": "IPY_MODEL_a03327c14dd74fe7b4a97c5c695cec1e",
      "value": " 1/1 [00:01&lt;00:00,  1.78s/ba]"
     }
    },
    "1dbd278beac9482b84cb5c6d8816cbbe": {
     "model_module": "@jupyter-widgets/base",
     "model_name": "LayoutModel",
     "model_module_version": "1.2.0",
     "state": {
      "_model_module": "@jupyter-widgets/base",
      "_model_module_version": "1.2.0",
      "_model_name": "LayoutModel",
      "_view_count": null,
      "_view_module": "@jupyter-widgets/base",
      "_view_module_version": "1.2.0",
      "_view_name": "LayoutView",
      "align_content": null,
      "align_items": null,
      "align_self": null,
      "border": null,
      "bottom": null,
      "display": null,
      "flex": null,
      "flex_flow": null,
      "grid_area": null,
      "grid_auto_columns": null,
      "grid_auto_flow": null,
      "grid_auto_rows": null,
      "grid_column": null,
      "grid_gap": null,
      "grid_row": null,
      "grid_template_areas": null,
      "grid_template_columns": null,
      "grid_template_rows": null,
      "height": null,
      "justify_content": null,
      "justify_items": null,
      "left": null,
      "margin": null,
      "max_height": null,
      "max_width": null,
      "min_height": null,
      "min_width": null,
      "object_fit": null,
      "object_position": null,
      "order": null,
      "overflow": null,
      "overflow_x": null,
      "overflow_y": null,
      "padding": null,
      "right": null,
      "top": null,
      "visibility": null,
      "width": null
     }
    },
    "82bfffa806024e9183e82345ef15933c": {
     "model_module": "@jupyter-widgets/base",
     "model_name": "LayoutModel",
     "model_module_version": "1.2.0",
     "state": {
      "_model_module": "@jupyter-widgets/base",
      "_model_module_version": "1.2.0",
      "_model_name": "LayoutModel",
      "_view_count": null,
      "_view_module": "@jupyter-widgets/base",
      "_view_module_version": "1.2.0",
      "_view_name": "LayoutView",
      "align_content": null,
      "align_items": null,
      "align_self": null,
      "border": null,
      "bottom": null,
      "display": null,
      "flex": null,
      "flex_flow": null,
      "grid_area": null,
      "grid_auto_columns": null,
      "grid_auto_flow": null,
      "grid_auto_rows": null,
      "grid_column": null,
      "grid_gap": null,
      "grid_row": null,
      "grid_template_areas": null,
      "grid_template_columns": null,
      "grid_template_rows": null,
      "height": null,
      "justify_content": null,
      "justify_items": null,
      "left": null,
      "margin": null,
      "max_height": null,
      "max_width": null,
      "min_height": null,
      "min_width": null,
      "object_fit": null,
      "object_position": null,
      "order": null,
      "overflow": null,
      "overflow_x": null,
      "overflow_y": null,
      "padding": null,
      "right": null,
      "top": null,
      "visibility": null,
      "width": null
     }
    },
    "315e06ccf59e4dae9dff71b5336acd5f": {
     "model_module": "@jupyter-widgets/controls",
     "model_name": "DescriptionStyleModel",
     "model_module_version": "1.5.0",
     "state": {
      "_model_module": "@jupyter-widgets/controls",
      "_model_module_version": "1.5.0",
      "_model_name": "DescriptionStyleModel",
      "_view_count": null,
      "_view_module": "@jupyter-widgets/base",
      "_view_module_version": "1.2.0",
      "_view_name": "StyleView",
      "description_width": ""
     }
    },
    "65e63df1e7e54cc2b296cdac307b6fb4": {
     "model_module": "@jupyter-widgets/base",
     "model_name": "LayoutModel",
     "model_module_version": "1.2.0",
     "state": {
      "_model_module": "@jupyter-widgets/base",
      "_model_module_version": "1.2.0",
      "_model_name": "LayoutModel",
      "_view_count": null,
      "_view_module": "@jupyter-widgets/base",
      "_view_module_version": "1.2.0",
      "_view_name": "LayoutView",
      "align_content": null,
      "align_items": null,
      "align_self": null,
      "border": null,
      "bottom": null,
      "display": null,
      "flex": null,
      "flex_flow": null,
      "grid_area": null,
      "grid_auto_columns": null,
      "grid_auto_flow": null,
      "grid_auto_rows": null,
      "grid_column": null,
      "grid_gap": null,
      "grid_row": null,
      "grid_template_areas": null,
      "grid_template_columns": null,
      "grid_template_rows": null,
      "height": null,
      "justify_content": null,
      "justify_items": null,
      "left": null,
      "margin": null,
      "max_height": null,
      "max_width": null,
      "min_height": null,
      "min_width": null,
      "object_fit": null,
      "object_position": null,
      "order": null,
      "overflow": null,
      "overflow_x": null,
      "overflow_y": null,
      "padding": null,
      "right": null,
      "top": null,
      "visibility": null,
      "width": null
     }
    },
    "8b4e9b9bebf04ac5b580ded534bcf811": {
     "model_module": "@jupyter-widgets/controls",
     "model_name": "ProgressStyleModel",
     "model_module_version": "1.5.0",
     "state": {
      "_model_module": "@jupyter-widgets/controls",
      "_model_module_version": "1.5.0",
      "_model_name": "ProgressStyleModel",
      "_view_count": null,
      "_view_module": "@jupyter-widgets/base",
      "_view_module_version": "1.2.0",
      "_view_name": "StyleView",
      "bar_color": null,
      "description_width": ""
     }
    },
    "59431c2395964dd0a5f9b7bb69c0466c": {
     "model_module": "@jupyter-widgets/base",
     "model_name": "LayoutModel",
     "model_module_version": "1.2.0",
     "state": {
      "_model_module": "@jupyter-widgets/base",
      "_model_module_version": "1.2.0",
      "_model_name": "LayoutModel",
      "_view_count": null,
      "_view_module": "@jupyter-widgets/base",
      "_view_module_version": "1.2.0",
      "_view_name": "LayoutView",
      "align_content": null,
      "align_items": null,
      "align_self": null,
      "border": null,
      "bottom": null,
      "display": null,
      "flex": null,
      "flex_flow": null,
      "grid_area": null,
      "grid_auto_columns": null,
      "grid_auto_flow": null,
      "grid_auto_rows": null,
      "grid_column": null,
      "grid_gap": null,
      "grid_row": null,
      "grid_template_areas": null,
      "grid_template_columns": null,
      "grid_template_rows": null,
      "height": null,
      "justify_content": null,
      "justify_items": null,
      "left": null,
      "margin": null,
      "max_height": null,
      "max_width": null,
      "min_height": null,
      "min_width": null,
      "object_fit": null,
      "object_position": null,
      "order": null,
      "overflow": null,
      "overflow_x": null,
      "overflow_y": null,
      "padding": null,
      "right": null,
      "top": null,
      "visibility": null,
      "width": null
     }
    },
    "a03327c14dd74fe7b4a97c5c695cec1e": {
     "model_module": "@jupyter-widgets/controls",
     "model_name": "DescriptionStyleModel",
     "model_module_version": "1.5.0",
     "state": {
      "_model_module": "@jupyter-widgets/controls",
      "_model_module_version": "1.5.0",
      "_model_name": "DescriptionStyleModel",
      "_view_count": null,
      "_view_module": "@jupyter-widgets/base",
      "_view_module_version": "1.2.0",
      "_view_name": "StyleView",
      "description_width": ""
     }
    },
    "9c9e3c31a8f34722b6be3b94c38a063a": {
     "model_module": "@jupyter-widgets/controls",
     "model_name": "HBoxModel",
     "model_module_version": "1.5.0",
     "state": {
      "_dom_classes": [],
      "_model_module": "@jupyter-widgets/controls",
      "_model_module_version": "1.5.0",
      "_model_name": "HBoxModel",
      "_view_count": null,
      "_view_module": "@jupyter-widgets/controls",
      "_view_module_version": "1.5.0",
      "_view_name": "HBoxView",
      "box_style": "",
      "children": [
       "IPY_MODEL_3197033aa9584fd2b357598e97061260",
       "IPY_MODEL_db7d7dd797cb4d8ba141663434c706bc",
       "IPY_MODEL_1def1889134d44f5811edc06b1efbacd"
      ],
      "layout": "IPY_MODEL_8511dd3ac66d4b2d8d66e63898f9b3d0"
     }
    },
    "3197033aa9584fd2b357598e97061260": {
     "model_module": "@jupyter-widgets/controls",
     "model_name": "HTMLModel",
     "model_module_version": "1.5.0",
     "state": {
      "_dom_classes": [],
      "_model_module": "@jupyter-widgets/controls",
      "_model_module_version": "1.5.0",
      "_model_name": "HTMLModel",
      "_view_count": null,
      "_view_module": "@jupyter-widgets/controls",
      "_view_module_version": "1.5.0",
      "_view_name": "HTMLView",
      "description": "",
      "description_tooltip": null,
      "layout": "IPY_MODEL_041af0bc47004b62a48c40d5d0717b28",
      "placeholder": "​",
      "style": "IPY_MODEL_06c548ee529a42a3998e5a75b916c20d",
      "value": "Downloading builder script: "
     }
    },
    "db7d7dd797cb4d8ba141663434c706bc": {
     "model_module": "@jupyter-widgets/controls",
     "model_name": "FloatProgressModel",
     "model_module_version": "1.5.0",
     "state": {
      "_dom_classes": [],
      "_model_module": "@jupyter-widgets/controls",
      "_model_module_version": "1.5.0",
      "_model_name": "FloatProgressModel",
      "_view_count": null,
      "_view_module": "@jupyter-widgets/controls",
      "_view_module_version": "1.5.0",
      "_view_name": "ProgressView",
      "bar_style": "success",
      "description": "",
      "description_tooltip": null,
      "layout": "IPY_MODEL_67229b2b757246c6a8a08a21ea5205dd",
      "max": 1652,
      "min": 0,
      "orientation": "horizontal",
      "style": "IPY_MODEL_d1125adcf8ca49e6aaae0107f528199f",
      "value": 1652
     }
    },
    "1def1889134d44f5811edc06b1efbacd": {
     "model_module": "@jupyter-widgets/controls",
     "model_name": "HTMLModel",
     "model_module_version": "1.5.0",
     "state": {
      "_dom_classes": [],
      "_model_module": "@jupyter-widgets/controls",
      "_model_module_version": "1.5.0",
      "_model_name": "HTMLModel",
      "_view_count": null,
      "_view_module": "@jupyter-widgets/controls",
      "_view_module_version": "1.5.0",
      "_view_name": "HTMLView",
      "description": "",
      "description_tooltip": null,
      "layout": "IPY_MODEL_c0fb95d9bee34b658438400159affb35",
      "placeholder": "​",
      "style": "IPY_MODEL_34a7a3d948e848cfab4cc9defe8ff7fa",
      "value": " 4.21k/? [00:00&lt;00:00, 81.7kB/s]"
     }
    },
    "8511dd3ac66d4b2d8d66e63898f9b3d0": {
     "model_module": "@jupyter-widgets/base",
     "model_name": "LayoutModel",
     "model_module_version": "1.2.0",
     "state": {
      "_model_module": "@jupyter-widgets/base",
      "_model_module_version": "1.2.0",
      "_model_name": "LayoutModel",
      "_view_count": null,
      "_view_module": "@jupyter-widgets/base",
      "_view_module_version": "1.2.0",
      "_view_name": "LayoutView",
      "align_content": null,
      "align_items": null,
      "align_self": null,
      "border": null,
      "bottom": null,
      "display": null,
      "flex": null,
      "flex_flow": null,
      "grid_area": null,
      "grid_auto_columns": null,
      "grid_auto_flow": null,
      "grid_auto_rows": null,
      "grid_column": null,
      "grid_gap": null,
      "grid_row": null,
      "grid_template_areas": null,
      "grid_template_columns": null,
      "grid_template_rows": null,
      "height": null,
      "justify_content": null,
      "justify_items": null,
      "left": null,
      "margin": null,
      "max_height": null,
      "max_width": null,
      "min_height": null,
      "min_width": null,
      "object_fit": null,
      "object_position": null,
      "order": null,
      "overflow": null,
      "overflow_x": null,
      "overflow_y": null,
      "padding": null,
      "right": null,
      "top": null,
      "visibility": null,
      "width": null
     }
    },
    "041af0bc47004b62a48c40d5d0717b28": {
     "model_module": "@jupyter-widgets/base",
     "model_name": "LayoutModel",
     "model_module_version": "1.2.0",
     "state": {
      "_model_module": "@jupyter-widgets/base",
      "_model_module_version": "1.2.0",
      "_model_name": "LayoutModel",
      "_view_count": null,
      "_view_module": "@jupyter-widgets/base",
      "_view_module_version": "1.2.0",
      "_view_name": "LayoutView",
      "align_content": null,
      "align_items": null,
      "align_self": null,
      "border": null,
      "bottom": null,
      "display": null,
      "flex": null,
      "flex_flow": null,
      "grid_area": null,
      "grid_auto_columns": null,
      "grid_auto_flow": null,
      "grid_auto_rows": null,
      "grid_column": null,
      "grid_gap": null,
      "grid_row": null,
      "grid_template_areas": null,
      "grid_template_columns": null,
      "grid_template_rows": null,
      "height": null,
      "justify_content": null,
      "justify_items": null,
      "left": null,
      "margin": null,
      "max_height": null,
      "max_width": null,
      "min_height": null,
      "min_width": null,
      "object_fit": null,
      "object_position": null,
      "order": null,
      "overflow": null,
      "overflow_x": null,
      "overflow_y": null,
      "padding": null,
      "right": null,
      "top": null,
      "visibility": null,
      "width": null
     }
    },
    "06c548ee529a42a3998e5a75b916c20d": {
     "model_module": "@jupyter-widgets/controls",
     "model_name": "DescriptionStyleModel",
     "model_module_version": "1.5.0",
     "state": {
      "_model_module": "@jupyter-widgets/controls",
      "_model_module_version": "1.5.0",
      "_model_name": "DescriptionStyleModel",
      "_view_count": null,
      "_view_module": "@jupyter-widgets/base",
      "_view_module_version": "1.2.0",
      "_view_name": "StyleView",
      "description_width": ""
     }
    },
    "67229b2b757246c6a8a08a21ea5205dd": {
     "model_module": "@jupyter-widgets/base",
     "model_name": "LayoutModel",
     "model_module_version": "1.2.0",
     "state": {
      "_model_module": "@jupyter-widgets/base",
      "_model_module_version": "1.2.0",
      "_model_name": "LayoutModel",
      "_view_count": null,
      "_view_module": "@jupyter-widgets/base",
      "_view_module_version": "1.2.0",
      "_view_name": "LayoutView",
      "align_content": null,
      "align_items": null,
      "align_self": null,
      "border": null,
      "bottom": null,
      "display": null,
      "flex": null,
      "flex_flow": null,
      "grid_area": null,
      "grid_auto_columns": null,
      "grid_auto_flow": null,
      "grid_auto_rows": null,
      "grid_column": null,
      "grid_gap": null,
      "grid_row": null,
      "grid_template_areas": null,
      "grid_template_columns": null,
      "grid_template_rows": null,
      "height": null,
      "justify_content": null,
      "justify_items": null,
      "left": null,
      "margin": null,
      "max_height": null,
      "max_width": null,
      "min_height": null,
      "min_width": null,
      "object_fit": null,
      "object_position": null,
      "order": null,
      "overflow": null,
      "overflow_x": null,
      "overflow_y": null,
      "padding": null,
      "right": null,
      "top": null,
      "visibility": null,
      "width": null
     }
    },
    "d1125adcf8ca49e6aaae0107f528199f": {
     "model_module": "@jupyter-widgets/controls",
     "model_name": "ProgressStyleModel",
     "model_module_version": "1.5.0",
     "state": {
      "_model_module": "@jupyter-widgets/controls",
      "_model_module_version": "1.5.0",
      "_model_name": "ProgressStyleModel",
      "_view_count": null,
      "_view_module": "@jupyter-widgets/base",
      "_view_module_version": "1.2.0",
      "_view_name": "StyleView",
      "bar_color": null,
      "description_width": ""
     }
    },
    "c0fb95d9bee34b658438400159affb35": {
     "model_module": "@jupyter-widgets/base",
     "model_name": "LayoutModel",
     "model_module_version": "1.2.0",
     "state": {
      "_model_module": "@jupyter-widgets/base",
      "_model_module_version": "1.2.0",
      "_model_name": "LayoutModel",
      "_view_count": null,
      "_view_module": "@jupyter-widgets/base",
      "_view_module_version": "1.2.0",
      "_view_name": "LayoutView",
      "align_content": null,
      "align_items": null,
      "align_self": null,
      "border": null,
      "bottom": null,
      "display": null,
      "flex": null,
      "flex_flow": null,
      "grid_area": null,
      "grid_auto_columns": null,
      "grid_auto_flow": null,
      "grid_auto_rows": null,
      "grid_column": null,
      "grid_gap": null,
      "grid_row": null,
      "grid_template_areas": null,
      "grid_template_columns": null,
      "grid_template_rows": null,
      "height": null,
      "justify_content": null,
      "justify_items": null,
      "left": null,
      "margin": null,
      "max_height": null,
      "max_width": null,
      "min_height": null,
      "min_width": null,
      "object_fit": null,
      "object_position": null,
      "order": null,
      "overflow": null,
      "overflow_x": null,
      "overflow_y": null,
      "padding": null,
      "right": null,
      "top": null,
      "visibility": null,
      "width": null
     }
    },
    "34a7a3d948e848cfab4cc9defe8ff7fa": {
     "model_module": "@jupyter-widgets/controls",
     "model_name": "DescriptionStyleModel",
     "model_module_version": "1.5.0",
     "state": {
      "_model_module": "@jupyter-widgets/controls",
      "_model_module_version": "1.5.0",
      "_model_name": "DescriptionStyleModel",
      "_view_count": null,
      "_view_module": "@jupyter-widgets/base",
      "_view_module_version": "1.2.0",
      "_view_name": "StyleView",
      "description_width": ""
     }
    },
    "bcc25cb219104be9a3e2e7722fd253bd": {
     "model_module": "@jupyter-widgets/controls",
     "model_name": "HBoxModel",
     "model_module_version": "1.5.0",
     "state": {
      "_dom_classes": [],
      "_model_module": "@jupyter-widgets/controls",
      "_model_module_version": "1.5.0",
      "_model_name": "HBoxModel",
      "_view_count": null,
      "_view_module": "@jupyter-widgets/controls",
      "_view_module_version": "1.5.0",
      "_view_name": "HBoxView",
      "box_style": "",
      "children": [
       "IPY_MODEL_42519c2e57a9413481fbebe0468d3ada",
       "IPY_MODEL_f53f5945b1ba429598e2ab0515da446f",
       "IPY_MODEL_cb8ce4d94e7749d588ef25d0caf57b7b"
      ],
      "layout": "IPY_MODEL_1f9cabc80c4f4cc9828a6120fa8c7275"
     }
    },
    "42519c2e57a9413481fbebe0468d3ada": {
     "model_module": "@jupyter-widgets/controls",
     "model_name": "HTMLModel",
     "model_module_version": "1.5.0",
     "state": {
      "_dom_classes": [],
      "_model_module": "@jupyter-widgets/controls",
      "_model_module_version": "1.5.0",
      "_model_name": "HTMLModel",
      "_view_count": null,
      "_view_module": "@jupyter-widgets/controls",
      "_view_module_version": "1.5.0",
      "_view_name": "HTMLView",
      "description": "",
      "description_tooltip": null,
      "layout": "IPY_MODEL_632e385cabcd44ebae255c4bb38d5f4c",
      "placeholder": "​",
      "style": "IPY_MODEL_d59d53068ac44ce491c3d8700d740e59",
      "value": "Eval Epoch 118/128: 100%"
     }
    },
    "f53f5945b1ba429598e2ab0515da446f": {
     "model_module": "@jupyter-widgets/controls",
     "model_name": "FloatProgressModel",
     "model_module_version": "1.5.0",
     "state": {
      "_dom_classes": [],
      "_model_module": "@jupyter-widgets/controls",
      "_model_module_version": "1.5.0",
      "_model_name": "FloatProgressModel",
      "_view_count": null,
      "_view_module": "@jupyter-widgets/controls",
      "_view_module_version": "1.5.0",
      "_view_name": "ProgressView",
      "bar_style": "success",
      "description": "",
      "description_tooltip": null,
      "layout": "IPY_MODEL_5e50a26b8581432888643ddb8d587c0f",
      "max": 2,
      "min": 0,
      "orientation": "horizontal",
      "style": "IPY_MODEL_3ba5412e61264cc88c92d323c6a47302",
      "value": 2
     }
    },
    "cb8ce4d94e7749d588ef25d0caf57b7b": {
     "model_module": "@jupyter-widgets/controls",
     "model_name": "HTMLModel",
     "model_module_version": "1.5.0",
     "state": {
      "_dom_classes": [],
      "_model_module": "@jupyter-widgets/controls",
      "_model_module_version": "1.5.0",
      "_model_name": "HTMLModel",
      "_view_count": null,
      "_view_module": "@jupyter-widgets/controls",
      "_view_module_version": "1.5.0",
      "_view_name": "HTMLView",
      "description": "",
      "description_tooltip": null,
      "layout": "IPY_MODEL_2f14f43eebb54c15a9a761111f2352d0",
      "placeholder": "​",
      "style": "IPY_MODEL_7574b30ec1004de7b9e19b4e1275b35d",
      "value": " 2/2 [00:01&lt;00:00,  3.72ba/s, loss=2.2482, ntp_acc=37.94, ikr=50.88]"
     }
    },
    "1f9cabc80c4f4cc9828a6120fa8c7275": {
     "model_module": "@jupyter-widgets/base",
     "model_name": "LayoutModel",
     "model_module_version": "1.2.0",
     "state": {
      "_model_module": "@jupyter-widgets/base",
      "_model_module_version": "1.2.0",
      "_model_name": "LayoutModel",
      "_view_count": null,
      "_view_module": "@jupyter-widgets/base",
      "_view_module_version": "1.2.0",
      "_view_name": "LayoutView",
      "align_content": null,
      "align_items": null,
      "align_self": null,
      "border": null,
      "bottom": null,
      "display": null,
      "flex": null,
      "flex_flow": null,
      "grid_area": null,
      "grid_auto_columns": null,
      "grid_auto_flow": null,
      "grid_auto_rows": null,
      "grid_column": null,
      "grid_gap": null,
      "grid_row": null,
      "grid_template_areas": null,
      "grid_template_columns": null,
      "grid_template_rows": null,
      "height": null,
      "justify_content": null,
      "justify_items": null,
      "left": null,
      "margin": null,
      "max_height": null,
      "max_width": null,
      "min_height": null,
      "min_width": null,
      "object_fit": null,
      "object_position": null,
      "order": null,
      "overflow": null,
      "overflow_x": null,
      "overflow_y": null,
      "padding": null,
      "right": null,
      "top": null,
      "visibility": null,
      "width": null
     }
    },
    "632e385cabcd44ebae255c4bb38d5f4c": {
     "model_module": "@jupyter-widgets/base",
     "model_name": "LayoutModel",
     "model_module_version": "1.2.0",
     "state": {
      "_model_module": "@jupyter-widgets/base",
      "_model_module_version": "1.2.0",
      "_model_name": "LayoutModel",
      "_view_count": null,
      "_view_module": "@jupyter-widgets/base",
      "_view_module_version": "1.2.0",
      "_view_name": "LayoutView",
      "align_content": null,
      "align_items": null,
      "align_self": null,
      "border": null,
      "bottom": null,
      "display": null,
      "flex": null,
      "flex_flow": null,
      "grid_area": null,
      "grid_auto_columns": null,
      "grid_auto_flow": null,
      "grid_auto_rows": null,
      "grid_column": null,
      "grid_gap": null,
      "grid_row": null,
      "grid_template_areas": null,
      "grid_template_columns": null,
      "grid_template_rows": null,
      "height": null,
      "justify_content": null,
      "justify_items": null,
      "left": null,
      "margin": null,
      "max_height": null,
      "max_width": null,
      "min_height": null,
      "min_width": null,
      "object_fit": null,
      "object_position": null,
      "order": null,
      "overflow": null,
      "overflow_x": null,
      "overflow_y": null,
      "padding": null,
      "right": null,
      "top": null,
      "visibility": null,
      "width": null
     }
    },
    "d59d53068ac44ce491c3d8700d740e59": {
     "model_module": "@jupyter-widgets/controls",
     "model_name": "DescriptionStyleModel",
     "model_module_version": "1.5.0",
     "state": {
      "_model_module": "@jupyter-widgets/controls",
      "_model_module_version": "1.5.0",
      "_model_name": "DescriptionStyleModel",
      "_view_count": null,
      "_view_module": "@jupyter-widgets/base",
      "_view_module_version": "1.2.0",
      "_view_name": "StyleView",
      "description_width": ""
     }
    },
    "5e50a26b8581432888643ddb8d587c0f": {
     "model_module": "@jupyter-widgets/base",
     "model_name": "LayoutModel",
     "model_module_version": "1.2.0",
     "state": {
      "_model_module": "@jupyter-widgets/base",
      "_model_module_version": "1.2.0",
      "_model_name": "LayoutModel",
      "_view_count": null,
      "_view_module": "@jupyter-widgets/base",
      "_view_module_version": "1.2.0",
      "_view_name": "LayoutView",
      "align_content": null,
      "align_items": null,
      "align_self": null,
      "border": null,
      "bottom": null,
      "display": null,
      "flex": null,
      "flex_flow": null,
      "grid_area": null,
      "grid_auto_columns": null,
      "grid_auto_flow": null,
      "grid_auto_rows": null,
      "grid_column": null,
      "grid_gap": null,
      "grid_row": null,
      "grid_template_areas": null,
      "grid_template_columns": null,
      "grid_template_rows": null,
      "height": null,
      "justify_content": null,
      "justify_items": null,
      "left": null,
      "margin": null,
      "max_height": null,
      "max_width": null,
      "min_height": null,
      "min_width": null,
      "object_fit": null,
      "object_position": null,
      "order": null,
      "overflow": null,
      "overflow_x": null,
      "overflow_y": null,
      "padding": null,
      "right": null,
      "top": null,
      "visibility": null,
      "width": null
     }
    },
    "3ba5412e61264cc88c92d323c6a47302": {
     "model_module": "@jupyter-widgets/controls",
     "model_name": "ProgressStyleModel",
     "model_module_version": "1.5.0",
     "state": {
      "_model_module": "@jupyter-widgets/controls",
      "_model_module_version": "1.5.0",
      "_model_name": "ProgressStyleModel",
      "_view_count": null,
      "_view_module": "@jupyter-widgets/base",
      "_view_module_version": "1.2.0",
      "_view_name": "StyleView",
      "bar_color": null,
      "description_width": ""
     }
    },
    "2f14f43eebb54c15a9a761111f2352d0": {
     "model_module": "@jupyter-widgets/base",
     "model_name": "LayoutModel",
     "model_module_version": "1.2.0",
     "state": {
      "_model_module": "@jupyter-widgets/base",
      "_model_module_version": "1.2.0",
      "_model_name": "LayoutModel",
      "_view_count": null,
      "_view_module": "@jupyter-widgets/base",
      "_view_module_version": "1.2.0",
      "_view_name": "LayoutView",
      "align_content": null,
      "align_items": null,
      "align_self": null,
      "border": null,
      "bottom": null,
      "display": null,
      "flex": null,
      "flex_flow": null,
      "grid_area": null,
      "grid_auto_columns": null,
      "grid_auto_flow": null,
      "grid_auto_rows": null,
      "grid_column": null,
      "grid_gap": null,
      "grid_row": null,
      "grid_template_areas": null,
      "grid_template_columns": null,
      "grid_template_rows": null,
      "height": null,
      "justify_content": null,
      "justify_items": null,
      "left": null,
      "margin": null,
      "max_height": null,
      "max_width": null,
      "min_height": null,
      "min_width": null,
      "object_fit": null,
      "object_position": null,
      "order": null,
      "overflow": null,
      "overflow_x": null,
      "overflow_y": null,
      "padding": null,
      "right": null,
      "top": null,
      "visibility": null,
      "width": null
     }
    },
    "7574b30ec1004de7b9e19b4e1275b35d": {
     "model_module": "@jupyter-widgets/controls",
     "model_name": "DescriptionStyleModel",
     "model_module_version": "1.5.0",
     "state": {
      "_model_module": "@jupyter-widgets/controls",
      "_model_module_version": "1.5.0",
      "_model_name": "DescriptionStyleModel",
      "_view_count": null,
      "_view_module": "@jupyter-widgets/base",
      "_view_module_version": "1.2.0",
      "_view_name": "StyleView",
      "description_width": ""
     }
    },
    "5cb4beac8ac846c3844920d7481960ff": {
     "model_module": "@jupyter-widgets/controls",
     "model_name": "HBoxModel",
     "model_module_version": "1.5.0",
     "state": {
      "_dom_classes": [],
      "_model_module": "@jupyter-widgets/controls",
      "_model_module_version": "1.5.0",
      "_model_name": "HBoxModel",
      "_view_count": null,
      "_view_module": "@jupyter-widgets/controls",
      "_view_module_version": "1.5.0",
      "_view_name": "HBoxView",
      "box_style": "",
      "children": [
       "IPY_MODEL_a478825b67fe4a73abdd736a00352d09",
       "IPY_MODEL_f8f9c49b9511473baf9ee6de5d2305f6",
       "IPY_MODEL_c66e9043320948a980dd6a92eff596db"
      ],
      "layout": "IPY_MODEL_c8e3da6701e540bead872cbfcecce80d"
     }
    },
    "a478825b67fe4a73abdd736a00352d09": {
     "model_module": "@jupyter-widgets/controls",
     "model_name": "HTMLModel",
     "model_module_version": "1.5.0",
     "state": {
      "_dom_classes": [],
      "_model_module": "@jupyter-widgets/controls",
      "_model_module_version": "1.5.0",
      "_model_name": "HTMLModel",
      "_view_count": null,
      "_view_module": "@jupyter-widgets/controls",
      "_view_module_version": "1.5.0",
      "_view_name": "HTMLView",
      "description": "",
      "description_tooltip": null,
      "layout": "IPY_MODEL_e97b965f2fd84a61b9ffd7511d9343e6",
      "placeholder": "​",
      "style": "IPY_MODEL_a577e826a41c4c9f99220b045f7b2a93",
      "value": "Train Epoch 119/128: 100%"
     }
    },
    "f8f9c49b9511473baf9ee6de5d2305f6": {
     "model_module": "@jupyter-widgets/controls",
     "model_name": "FloatProgressModel",
     "model_module_version": "1.5.0",
     "state": {
      "_dom_classes": [],
      "_model_module": "@jupyter-widgets/controls",
      "_model_module_version": "1.5.0",
      "_model_name": "FloatProgressModel",
      "_view_count": null,
      "_view_module": "@jupyter-widgets/controls",
      "_view_module_version": "1.5.0",
      "_view_name": "ProgressView",
      "bar_style": "success",
      "description": "",
      "description_tooltip": null,
      "layout": "IPY_MODEL_e817c4102cb44f839c4d92f024d6f7e4",
      "max": 34,
      "min": 0,
      "orientation": "horizontal",
      "style": "IPY_MODEL_fee5965f092c4184ac12005de07028f7",
      "value": 34
     }
    },
    "c66e9043320948a980dd6a92eff596db": {
     "model_module": "@jupyter-widgets/controls",
     "model_name": "HTMLModel",
     "model_module_version": "1.5.0",
     "state": {
      "_dom_classes": [],
      "_model_module": "@jupyter-widgets/controls",
      "_model_module_version": "1.5.0",
      "_model_name": "HTMLModel",
      "_view_count": null,
      "_view_module": "@jupyter-widgets/controls",
      "_view_module_version": "1.5.0",
      "_view_name": "HTMLView",
      "description": "",
      "description_tooltip": null,
      "layout": "IPY_MODEL_e482a6fdf6364f12bf42dcbca4667055",
      "placeholder": "​",
      "style": "IPY_MODEL_38ec5af77f514951993d694c2c6c072a",
      "value": " 34/34 [04:58&lt;00:00,  7.41s/ba, loss=2.3122]"
     }
    },
    "c8e3da6701e540bead872cbfcecce80d": {
     "model_module": "@jupyter-widgets/base",
     "model_name": "LayoutModel",
     "model_module_version": "1.2.0",
     "state": {
      "_model_module": "@jupyter-widgets/base",
      "_model_module_version": "1.2.0",
      "_model_name": "LayoutModel",
      "_view_count": null,
      "_view_module": "@jupyter-widgets/base",
      "_view_module_version": "1.2.0",
      "_view_name": "LayoutView",
      "align_content": null,
      "align_items": null,
      "align_self": null,
      "border": null,
      "bottom": null,
      "display": null,
      "flex": null,
      "flex_flow": null,
      "grid_area": null,
      "grid_auto_columns": null,
      "grid_auto_flow": null,
      "grid_auto_rows": null,
      "grid_column": null,
      "grid_gap": null,
      "grid_row": null,
      "grid_template_areas": null,
      "grid_template_columns": null,
      "grid_template_rows": null,
      "height": null,
      "justify_content": null,
      "justify_items": null,
      "left": null,
      "margin": null,
      "max_height": null,
      "max_width": null,
      "min_height": null,
      "min_width": null,
      "object_fit": null,
      "object_position": null,
      "order": null,
      "overflow": null,
      "overflow_x": null,
      "overflow_y": null,
      "padding": null,
      "right": null,
      "top": null,
      "visibility": null,
      "width": null
     }
    },
    "e97b965f2fd84a61b9ffd7511d9343e6": {
     "model_module": "@jupyter-widgets/base",
     "model_name": "LayoutModel",
     "model_module_version": "1.2.0",
     "state": {
      "_model_module": "@jupyter-widgets/base",
      "_model_module_version": "1.2.0",
      "_model_name": "LayoutModel",
      "_view_count": null,
      "_view_module": "@jupyter-widgets/base",
      "_view_module_version": "1.2.0",
      "_view_name": "LayoutView",
      "align_content": null,
      "align_items": null,
      "align_self": null,
      "border": null,
      "bottom": null,
      "display": null,
      "flex": null,
      "flex_flow": null,
      "grid_area": null,
      "grid_auto_columns": null,
      "grid_auto_flow": null,
      "grid_auto_rows": null,
      "grid_column": null,
      "grid_gap": null,
      "grid_row": null,
      "grid_template_areas": null,
      "grid_template_columns": null,
      "grid_template_rows": null,
      "height": null,
      "justify_content": null,
      "justify_items": null,
      "left": null,
      "margin": null,
      "max_height": null,
      "max_width": null,
      "min_height": null,
      "min_width": null,
      "object_fit": null,
      "object_position": null,
      "order": null,
      "overflow": null,
      "overflow_x": null,
      "overflow_y": null,
      "padding": null,
      "right": null,
      "top": null,
      "visibility": null,
      "width": null
     }
    },
    "a577e826a41c4c9f99220b045f7b2a93": {
     "model_module": "@jupyter-widgets/controls",
     "model_name": "DescriptionStyleModel",
     "model_module_version": "1.5.0",
     "state": {
      "_model_module": "@jupyter-widgets/controls",
      "_model_module_version": "1.5.0",
      "_model_name": "DescriptionStyleModel",
      "_view_count": null,
      "_view_module": "@jupyter-widgets/base",
      "_view_module_version": "1.2.0",
      "_view_name": "StyleView",
      "description_width": ""
     }
    },
    "e817c4102cb44f839c4d92f024d6f7e4": {
     "model_module": "@jupyter-widgets/base",
     "model_name": "LayoutModel",
     "model_module_version": "1.2.0",
     "state": {
      "_model_module": "@jupyter-widgets/base",
      "_model_module_version": "1.2.0",
      "_model_name": "LayoutModel",
      "_view_count": null,
      "_view_module": "@jupyter-widgets/base",
      "_view_module_version": "1.2.0",
      "_view_name": "LayoutView",
      "align_content": null,
      "align_items": null,
      "align_self": null,
      "border": null,
      "bottom": null,
      "display": null,
      "flex": null,
      "flex_flow": null,
      "grid_area": null,
      "grid_auto_columns": null,
      "grid_auto_flow": null,
      "grid_auto_rows": null,
      "grid_column": null,
      "grid_gap": null,
      "grid_row": null,
      "grid_template_areas": null,
      "grid_template_columns": null,
      "grid_template_rows": null,
      "height": null,
      "justify_content": null,
      "justify_items": null,
      "left": null,
      "margin": null,
      "max_height": null,
      "max_width": null,
      "min_height": null,
      "min_width": null,
      "object_fit": null,
      "object_position": null,
      "order": null,
      "overflow": null,
      "overflow_x": null,
      "overflow_y": null,
      "padding": null,
      "right": null,
      "top": null,
      "visibility": null,
      "width": null
     }
    },
    "fee5965f092c4184ac12005de07028f7": {
     "model_module": "@jupyter-widgets/controls",
     "model_name": "ProgressStyleModel",
     "model_module_version": "1.5.0",
     "state": {
      "_model_module": "@jupyter-widgets/controls",
      "_model_module_version": "1.5.0",
      "_model_name": "ProgressStyleModel",
      "_view_count": null,
      "_view_module": "@jupyter-widgets/base",
      "_view_module_version": "1.2.0",
      "_view_name": "StyleView",
      "bar_color": null,
      "description_width": ""
     }
    },
    "e482a6fdf6364f12bf42dcbca4667055": {
     "model_module": "@jupyter-widgets/base",
     "model_name": "LayoutModel",
     "model_module_version": "1.2.0",
     "state": {
      "_model_module": "@jupyter-widgets/base",
      "_model_module_version": "1.2.0",
      "_model_name": "LayoutModel",
      "_view_count": null,
      "_view_module": "@jupyter-widgets/base",
      "_view_module_version": "1.2.0",
      "_view_name": "LayoutView",
      "align_content": null,
      "align_items": null,
      "align_self": null,
      "border": null,
      "bottom": null,
      "display": null,
      "flex": null,
      "flex_flow": null,
      "grid_area": null,
      "grid_auto_columns": null,
      "grid_auto_flow": null,
      "grid_auto_rows": null,
      "grid_column": null,
      "grid_gap": null,
      "grid_row": null,
      "grid_template_areas": null,
      "grid_template_columns": null,
      "grid_template_rows": null,
      "height": null,
      "justify_content": null,
      "justify_items": null,
      "left": null,
      "margin": null,
      "max_height": null,
      "max_width": null,
      "min_height": null,
      "min_width": null,
      "object_fit": null,
      "object_position": null,
      "order": null,
      "overflow": null,
      "overflow_x": null,
      "overflow_y": null,
      "padding": null,
      "right": null,
      "top": null,
      "visibility": null,
      "width": null
     }
    },
    "38ec5af77f514951993d694c2c6c072a": {
     "model_module": "@jupyter-widgets/controls",
     "model_name": "DescriptionStyleModel",
     "model_module_version": "1.5.0",
     "state": {
      "_model_module": "@jupyter-widgets/controls",
      "_model_module_version": "1.5.0",
      "_model_name": "DescriptionStyleModel",
      "_view_count": null,
      "_view_module": "@jupyter-widgets/base",
      "_view_module_version": "1.2.0",
      "_view_name": "StyleView",
      "description_width": ""
     }
    },
    "72a84ef386474ae7a537e41efd800f4a": {
     "model_module": "@jupyter-widgets/controls",
     "model_name": "HBoxModel",
     "model_module_version": "1.5.0",
     "state": {
      "_dom_classes": [],
      "_model_module": "@jupyter-widgets/controls",
      "_model_module_version": "1.5.0",
      "_model_name": "HBoxModel",
      "_view_count": null,
      "_view_module": "@jupyter-widgets/controls",
      "_view_module_version": "1.5.0",
      "_view_name": "HBoxView",
      "box_style": "",
      "children": [
       "IPY_MODEL_85a987760897467e84a34bdd69459207",
       "IPY_MODEL_fd74bf162ca5483aad98f5a6398d3f60",
       "IPY_MODEL_d7ef5536d2e84a41ad89b9806855cbf9"
      ],
      "layout": "IPY_MODEL_262d742bce1e4b2faddde85dbe1029d6"
     }
    },
    "85a987760897467e84a34bdd69459207": {
     "model_module": "@jupyter-widgets/controls",
     "model_name": "HTMLModel",
     "model_module_version": "1.5.0",
     "state": {
      "_dom_classes": [],
      "_model_module": "@jupyter-widgets/controls",
      "_model_module_version": "1.5.0",
      "_model_name": "HTMLModel",
      "_view_count": null,
      "_view_module": "@jupyter-widgets/controls",
      "_view_module_version": "1.5.0",
      "_view_name": "HTMLView",
      "description": "",
      "description_tooltip": null,
      "layout": "IPY_MODEL_a8c19794d7f645ce9fc6ab89dd7c4329",
      "placeholder": "​",
      "style": "IPY_MODEL_20899e70e28d436dab9e30b56920d5d4",
      "value": "Eval Epoch 119/128: 100%"
     }
    },
    "fd74bf162ca5483aad98f5a6398d3f60": {
     "model_module": "@jupyter-widgets/controls",
     "model_name": "FloatProgressModel",
     "model_module_version": "1.5.0",
     "state": {
      "_dom_classes": [],
      "_model_module": "@jupyter-widgets/controls",
      "_model_module_version": "1.5.0",
      "_model_name": "FloatProgressModel",
      "_view_count": null,
      "_view_module": "@jupyter-widgets/controls",
      "_view_module_version": "1.5.0",
      "_view_name": "ProgressView",
      "bar_style": "success",
      "description": "",
      "description_tooltip": null,
      "layout": "IPY_MODEL_c6278a4e88dc4d02a535d01cd428eea5",
      "max": 2,
      "min": 0,
      "orientation": "horizontal",
      "style": "IPY_MODEL_da365c679286458180dc2ad92fd242a5",
      "value": 2
     }
    },
    "d7ef5536d2e84a41ad89b9806855cbf9": {
     "model_module": "@jupyter-widgets/controls",
     "model_name": "HTMLModel",
     "model_module_version": "1.5.0",
     "state": {
      "_dom_classes": [],
      "_model_module": "@jupyter-widgets/controls",
      "_model_module_version": "1.5.0",
      "_model_name": "HTMLModel",
      "_view_count": null,
      "_view_module": "@jupyter-widgets/controls",
      "_view_module_version": "1.5.0",
      "_view_name": "HTMLView",
      "description": "",
      "description_tooltip": null,
      "layout": "IPY_MODEL_57267af927fb4341b931e4eba66a5be2",
      "placeholder": "​",
      "style": "IPY_MODEL_9002f75c00df43289f7abd115c9d9f63",
      "value": " 2/2 [00:01&lt;00:00,  3.58ba/s, loss=2.2452, ntp_acc=37.93, ikr=50.62]"
     }
    },
    "262d742bce1e4b2faddde85dbe1029d6": {
     "model_module": "@jupyter-widgets/base",
     "model_name": "LayoutModel",
     "model_module_version": "1.2.0",
     "state": {
      "_model_module": "@jupyter-widgets/base",
      "_model_module_version": "1.2.0",
      "_model_name": "LayoutModel",
      "_view_count": null,
      "_view_module": "@jupyter-widgets/base",
      "_view_module_version": "1.2.0",
      "_view_name": "LayoutView",
      "align_content": null,
      "align_items": null,
      "align_self": null,
      "border": null,
      "bottom": null,
      "display": null,
      "flex": null,
      "flex_flow": null,
      "grid_area": null,
      "grid_auto_columns": null,
      "grid_auto_flow": null,
      "grid_auto_rows": null,
      "grid_column": null,
      "grid_gap": null,
      "grid_row": null,
      "grid_template_areas": null,
      "grid_template_columns": null,
      "grid_template_rows": null,
      "height": null,
      "justify_content": null,
      "justify_items": null,
      "left": null,
      "margin": null,
      "max_height": null,
      "max_width": null,
      "min_height": null,
      "min_width": null,
      "object_fit": null,
      "object_position": null,
      "order": null,
      "overflow": null,
      "overflow_x": null,
      "overflow_y": null,
      "padding": null,
      "right": null,
      "top": null,
      "visibility": null,
      "width": null
     }
    },
    "a8c19794d7f645ce9fc6ab89dd7c4329": {
     "model_module": "@jupyter-widgets/base",
     "model_name": "LayoutModel",
     "model_module_version": "1.2.0",
     "state": {
      "_model_module": "@jupyter-widgets/base",
      "_model_module_version": "1.2.0",
      "_model_name": "LayoutModel",
      "_view_count": null,
      "_view_module": "@jupyter-widgets/base",
      "_view_module_version": "1.2.0",
      "_view_name": "LayoutView",
      "align_content": null,
      "align_items": null,
      "align_self": null,
      "border": null,
      "bottom": null,
      "display": null,
      "flex": null,
      "flex_flow": null,
      "grid_area": null,
      "grid_auto_columns": null,
      "grid_auto_flow": null,
      "grid_auto_rows": null,
      "grid_column": null,
      "grid_gap": null,
      "grid_row": null,
      "grid_template_areas": null,
      "grid_template_columns": null,
      "grid_template_rows": null,
      "height": null,
      "justify_content": null,
      "justify_items": null,
      "left": null,
      "margin": null,
      "max_height": null,
      "max_width": null,
      "min_height": null,
      "min_width": null,
      "object_fit": null,
      "object_position": null,
      "order": null,
      "overflow": null,
      "overflow_x": null,
      "overflow_y": null,
      "padding": null,
      "right": null,
      "top": null,
      "visibility": null,
      "width": null
     }
    },
    "20899e70e28d436dab9e30b56920d5d4": {
     "model_module": "@jupyter-widgets/controls",
     "model_name": "DescriptionStyleModel",
     "model_module_version": "1.5.0",
     "state": {
      "_model_module": "@jupyter-widgets/controls",
      "_model_module_version": "1.5.0",
      "_model_name": "DescriptionStyleModel",
      "_view_count": null,
      "_view_module": "@jupyter-widgets/base",
      "_view_module_version": "1.2.0",
      "_view_name": "StyleView",
      "description_width": ""
     }
    },
    "c6278a4e88dc4d02a535d01cd428eea5": {
     "model_module": "@jupyter-widgets/base",
     "model_name": "LayoutModel",
     "model_module_version": "1.2.0",
     "state": {
      "_model_module": "@jupyter-widgets/base",
      "_model_module_version": "1.2.0",
      "_model_name": "LayoutModel",
      "_view_count": null,
      "_view_module": "@jupyter-widgets/base",
      "_view_module_version": "1.2.0",
      "_view_name": "LayoutView",
      "align_content": null,
      "align_items": null,
      "align_self": null,
      "border": null,
      "bottom": null,
      "display": null,
      "flex": null,
      "flex_flow": null,
      "grid_area": null,
      "grid_auto_columns": null,
      "grid_auto_flow": null,
      "grid_auto_rows": null,
      "grid_column": null,
      "grid_gap": null,
      "grid_row": null,
      "grid_template_areas": null,
      "grid_template_columns": null,
      "grid_template_rows": null,
      "height": null,
      "justify_content": null,
      "justify_items": null,
      "left": null,
      "margin": null,
      "max_height": null,
      "max_width": null,
      "min_height": null,
      "min_width": null,
      "object_fit": null,
      "object_position": null,
      "order": null,
      "overflow": null,
      "overflow_x": null,
      "overflow_y": null,
      "padding": null,
      "right": null,
      "top": null,
      "visibility": null,
      "width": null
     }
    },
    "da365c679286458180dc2ad92fd242a5": {
     "model_module": "@jupyter-widgets/controls",
     "model_name": "ProgressStyleModel",
     "model_module_version": "1.5.0",
     "state": {
      "_model_module": "@jupyter-widgets/controls",
      "_model_module_version": "1.5.0",
      "_model_name": "ProgressStyleModel",
      "_view_count": null,
      "_view_module": "@jupyter-widgets/base",
      "_view_module_version": "1.2.0",
      "_view_name": "StyleView",
      "bar_color": null,
      "description_width": ""
     }
    },
    "57267af927fb4341b931e4eba66a5be2": {
     "model_module": "@jupyter-widgets/base",
     "model_name": "LayoutModel",
     "model_module_version": "1.2.0",
     "state": {
      "_model_module": "@jupyter-widgets/base",
      "_model_module_version": "1.2.0",
      "_model_name": "LayoutModel",
      "_view_count": null,
      "_view_module": "@jupyter-widgets/base",
      "_view_module_version": "1.2.0",
      "_view_name": "LayoutView",
      "align_content": null,
      "align_items": null,
      "align_self": null,
      "border": null,
      "bottom": null,
      "display": null,
      "flex": null,
      "flex_flow": null,
      "grid_area": null,
      "grid_auto_columns": null,
      "grid_auto_flow": null,
      "grid_auto_rows": null,
      "grid_column": null,
      "grid_gap": null,
      "grid_row": null,
      "grid_template_areas": null,
      "grid_template_columns": null,
      "grid_template_rows": null,
      "height": null,
      "justify_content": null,
      "justify_items": null,
      "left": null,
      "margin": null,
      "max_height": null,
      "max_width": null,
      "min_height": null,
      "min_width": null,
      "object_fit": null,
      "object_position": null,
      "order": null,
      "overflow": null,
      "overflow_x": null,
      "overflow_y": null,
      "padding": null,
      "right": null,
      "top": null,
      "visibility": null,
      "width": null
     }
    },
    "9002f75c00df43289f7abd115c9d9f63": {
     "model_module": "@jupyter-widgets/controls",
     "model_name": "DescriptionStyleModel",
     "model_module_version": "1.5.0",
     "state": {
      "_model_module": "@jupyter-widgets/controls",
      "_model_module_version": "1.5.0",
      "_model_name": "DescriptionStyleModel",
      "_view_count": null,
      "_view_module": "@jupyter-widgets/base",
      "_view_module_version": "1.2.0",
      "_view_name": "StyleView",
      "description_width": ""
     }
    },
    "fab86546684d4f4baad42ca9272ea75a": {
     "model_module": "@jupyter-widgets/controls",
     "model_name": "HBoxModel",
     "model_module_version": "1.5.0",
     "state": {
      "_dom_classes": [],
      "_model_module": "@jupyter-widgets/controls",
      "_model_module_version": "1.5.0",
      "_model_name": "HBoxModel",
      "_view_count": null,
      "_view_module": "@jupyter-widgets/controls",
      "_view_module_version": "1.5.0",
      "_view_name": "HBoxView",
      "box_style": "",
      "children": [
       "IPY_MODEL_8444d09df79844a98bbd03619ddf7df1",
       "IPY_MODEL_af3efa58eb4d4cf684540fa6bc250907",
       "IPY_MODEL_c8b60616f8544968a4dfdf225f9b4724"
      ],
      "layout": "IPY_MODEL_bf2a96bea4d64a62a13ddb8a661d5635"
     }
    },
    "8444d09df79844a98bbd03619ddf7df1": {
     "model_module": "@jupyter-widgets/controls",
     "model_name": "HTMLModel",
     "model_module_version": "1.5.0",
     "state": {
      "_dom_classes": [],
      "_model_module": "@jupyter-widgets/controls",
      "_model_module_version": "1.5.0",
      "_model_name": "HTMLModel",
      "_view_count": null,
      "_view_module": "@jupyter-widgets/controls",
      "_view_module_version": "1.5.0",
      "_view_name": "HTMLView",
      "description": "",
      "description_tooltip": null,
      "layout": "IPY_MODEL_62efe1ba9cee4a15a1b04e3625042d7e",
      "placeholder": "​",
      "style": "IPY_MODEL_e43313805e894f4ea67a0f3f590849da",
      "value": "Train Epoch 120/128: 100%"
     }
    },
    "af3efa58eb4d4cf684540fa6bc250907": {
     "model_module": "@jupyter-widgets/controls",
     "model_name": "FloatProgressModel",
     "model_module_version": "1.5.0",
     "state": {
      "_dom_classes": [],
      "_model_module": "@jupyter-widgets/controls",
      "_model_module_version": "1.5.0",
      "_model_name": "FloatProgressModel",
      "_view_count": null,
      "_view_module": "@jupyter-widgets/controls",
      "_view_module_version": "1.5.0",
      "_view_name": "ProgressView",
      "bar_style": "success",
      "description": "",
      "description_tooltip": null,
      "layout": "IPY_MODEL_553cdeee5604419dac3a8508637be6e2",
      "max": 34,
      "min": 0,
      "orientation": "horizontal",
      "style": "IPY_MODEL_679f355106e949499509c33d3645fe2e",
      "value": 34
     }
    },
    "c8b60616f8544968a4dfdf225f9b4724": {
     "model_module": "@jupyter-widgets/controls",
     "model_name": "HTMLModel",
     "model_module_version": "1.5.0",
     "state": {
      "_dom_classes": [],
      "_model_module": "@jupyter-widgets/controls",
      "_model_module_version": "1.5.0",
      "_model_name": "HTMLModel",
      "_view_count": null,
      "_view_module": "@jupyter-widgets/controls",
      "_view_module_version": "1.5.0",
      "_view_name": "HTMLView",
      "description": "",
      "description_tooltip": null,
      "layout": "IPY_MODEL_31a6b13ffc46490190d2ff7b3bf82e92",
      "placeholder": "​",
      "style": "IPY_MODEL_5c70a5175fa049419223329e6d994a42",
      "value": " 34/34 [04:58&lt;00:00,  7.41s/ba, loss=2.3037]"
     }
    },
    "bf2a96bea4d64a62a13ddb8a661d5635": {
     "model_module": "@jupyter-widgets/base",
     "model_name": "LayoutModel",
     "model_module_version": "1.2.0",
     "state": {
      "_model_module": "@jupyter-widgets/base",
      "_model_module_version": "1.2.0",
      "_model_name": "LayoutModel",
      "_view_count": null,
      "_view_module": "@jupyter-widgets/base",
      "_view_module_version": "1.2.0",
      "_view_name": "LayoutView",
      "align_content": null,
      "align_items": null,
      "align_self": null,
      "border": null,
      "bottom": null,
      "display": null,
      "flex": null,
      "flex_flow": null,
      "grid_area": null,
      "grid_auto_columns": null,
      "grid_auto_flow": null,
      "grid_auto_rows": null,
      "grid_column": null,
      "grid_gap": null,
      "grid_row": null,
      "grid_template_areas": null,
      "grid_template_columns": null,
      "grid_template_rows": null,
      "height": null,
      "justify_content": null,
      "justify_items": null,
      "left": null,
      "margin": null,
      "max_height": null,
      "max_width": null,
      "min_height": null,
      "min_width": null,
      "object_fit": null,
      "object_position": null,
      "order": null,
      "overflow": null,
      "overflow_x": null,
      "overflow_y": null,
      "padding": null,
      "right": null,
      "top": null,
      "visibility": null,
      "width": null
     }
    },
    "62efe1ba9cee4a15a1b04e3625042d7e": {
     "model_module": "@jupyter-widgets/base",
     "model_name": "LayoutModel",
     "model_module_version": "1.2.0",
     "state": {
      "_model_module": "@jupyter-widgets/base",
      "_model_module_version": "1.2.0",
      "_model_name": "LayoutModel",
      "_view_count": null,
      "_view_module": "@jupyter-widgets/base",
      "_view_module_version": "1.2.0",
      "_view_name": "LayoutView",
      "align_content": null,
      "align_items": null,
      "align_self": null,
      "border": null,
      "bottom": null,
      "display": null,
      "flex": null,
      "flex_flow": null,
      "grid_area": null,
      "grid_auto_columns": null,
      "grid_auto_flow": null,
      "grid_auto_rows": null,
      "grid_column": null,
      "grid_gap": null,
      "grid_row": null,
      "grid_template_areas": null,
      "grid_template_columns": null,
      "grid_template_rows": null,
      "height": null,
      "justify_content": null,
      "justify_items": null,
      "left": null,
      "margin": null,
      "max_height": null,
      "max_width": null,
      "min_height": null,
      "min_width": null,
      "object_fit": null,
      "object_position": null,
      "order": null,
      "overflow": null,
      "overflow_x": null,
      "overflow_y": null,
      "padding": null,
      "right": null,
      "top": null,
      "visibility": null,
      "width": null
     }
    },
    "e43313805e894f4ea67a0f3f590849da": {
     "model_module": "@jupyter-widgets/controls",
     "model_name": "DescriptionStyleModel",
     "model_module_version": "1.5.0",
     "state": {
      "_model_module": "@jupyter-widgets/controls",
      "_model_module_version": "1.5.0",
      "_model_name": "DescriptionStyleModel",
      "_view_count": null,
      "_view_module": "@jupyter-widgets/base",
      "_view_module_version": "1.2.0",
      "_view_name": "StyleView",
      "description_width": ""
     }
    },
    "553cdeee5604419dac3a8508637be6e2": {
     "model_module": "@jupyter-widgets/base",
     "model_name": "LayoutModel",
     "model_module_version": "1.2.0",
     "state": {
      "_model_module": "@jupyter-widgets/base",
      "_model_module_version": "1.2.0",
      "_model_name": "LayoutModel",
      "_view_count": null,
      "_view_module": "@jupyter-widgets/base",
      "_view_module_version": "1.2.0",
      "_view_name": "LayoutView",
      "align_content": null,
      "align_items": null,
      "align_self": null,
      "border": null,
      "bottom": null,
      "display": null,
      "flex": null,
      "flex_flow": null,
      "grid_area": null,
      "grid_auto_columns": null,
      "grid_auto_flow": null,
      "grid_auto_rows": null,
      "grid_column": null,
      "grid_gap": null,
      "grid_row": null,
      "grid_template_areas": null,
      "grid_template_columns": null,
      "grid_template_rows": null,
      "height": null,
      "justify_content": null,
      "justify_items": null,
      "left": null,
      "margin": null,
      "max_height": null,
      "max_width": null,
      "min_height": null,
      "min_width": null,
      "object_fit": null,
      "object_position": null,
      "order": null,
      "overflow": null,
      "overflow_x": null,
      "overflow_y": null,
      "padding": null,
      "right": null,
      "top": null,
      "visibility": null,
      "width": null
     }
    },
    "679f355106e949499509c33d3645fe2e": {
     "model_module": "@jupyter-widgets/controls",
     "model_name": "ProgressStyleModel",
     "model_module_version": "1.5.0",
     "state": {
      "_model_module": "@jupyter-widgets/controls",
      "_model_module_version": "1.5.0",
      "_model_name": "ProgressStyleModel",
      "_view_count": null,
      "_view_module": "@jupyter-widgets/base",
      "_view_module_version": "1.2.0",
      "_view_name": "StyleView",
      "bar_color": null,
      "description_width": ""
     }
    },
    "31a6b13ffc46490190d2ff7b3bf82e92": {
     "model_module": "@jupyter-widgets/base",
     "model_name": "LayoutModel",
     "model_module_version": "1.2.0",
     "state": {
      "_model_module": "@jupyter-widgets/base",
      "_model_module_version": "1.2.0",
      "_model_name": "LayoutModel",
      "_view_count": null,
      "_view_module": "@jupyter-widgets/base",
      "_view_module_version": "1.2.0",
      "_view_name": "LayoutView",
      "align_content": null,
      "align_items": null,
      "align_self": null,
      "border": null,
      "bottom": null,
      "display": null,
      "flex": null,
      "flex_flow": null,
      "grid_area": null,
      "grid_auto_columns": null,
      "grid_auto_flow": null,
      "grid_auto_rows": null,
      "grid_column": null,
      "grid_gap": null,
      "grid_row": null,
      "grid_template_areas": null,
      "grid_template_columns": null,
      "grid_template_rows": null,
      "height": null,
      "justify_content": null,
      "justify_items": null,
      "left": null,
      "margin": null,
      "max_height": null,
      "max_width": null,
      "min_height": null,
      "min_width": null,
      "object_fit": null,
      "object_position": null,
      "order": null,
      "overflow": null,
      "overflow_x": null,
      "overflow_y": null,
      "padding": null,
      "right": null,
      "top": null,
      "visibility": null,
      "width": null
     }
    },
    "5c70a5175fa049419223329e6d994a42": {
     "model_module": "@jupyter-widgets/controls",
     "model_name": "DescriptionStyleModel",
     "model_module_version": "1.5.0",
     "state": {
      "_model_module": "@jupyter-widgets/controls",
      "_model_module_version": "1.5.0",
      "_model_name": "DescriptionStyleModel",
      "_view_count": null,
      "_view_module": "@jupyter-widgets/base",
      "_view_module_version": "1.2.0",
      "_view_name": "StyleView",
      "description_width": ""
     }
    },
    "1f591a2d2bba441084f5c006ca1d8569": {
     "model_module": "@jupyter-widgets/controls",
     "model_name": "HBoxModel",
     "model_module_version": "1.5.0",
     "state": {
      "_dom_classes": [],
      "_model_module": "@jupyter-widgets/controls",
      "_model_module_version": "1.5.0",
      "_model_name": "HBoxModel",
      "_view_count": null,
      "_view_module": "@jupyter-widgets/controls",
      "_view_module_version": "1.5.0",
      "_view_name": "HBoxView",
      "box_style": "",
      "children": [
       "IPY_MODEL_4c9152b42baa4841ae6ea113273b7fc6",
       "IPY_MODEL_6598f5e732fc4a02b190a6c673b83c89",
       "IPY_MODEL_97c4155c8f41424198461a028123da9b"
      ],
      "layout": "IPY_MODEL_a4a02cd12a8f4363889f4057fd8b5440"
     }
    },
    "4c9152b42baa4841ae6ea113273b7fc6": {
     "model_module": "@jupyter-widgets/controls",
     "model_name": "HTMLModel",
     "model_module_version": "1.5.0",
     "state": {
      "_dom_classes": [],
      "_model_module": "@jupyter-widgets/controls",
      "_model_module_version": "1.5.0",
      "_model_name": "HTMLModel",
      "_view_count": null,
      "_view_module": "@jupyter-widgets/controls",
      "_view_module_version": "1.5.0",
      "_view_name": "HTMLView",
      "description": "",
      "description_tooltip": null,
      "layout": "IPY_MODEL_e3fd2099fc3845ca81ab04536953d023",
      "placeholder": "​",
      "style": "IPY_MODEL_07ffe792329a4026a461d84da2bee891",
      "value": "Eval Epoch 120/128: 100%"
     }
    },
    "6598f5e732fc4a02b190a6c673b83c89": {
     "model_module": "@jupyter-widgets/controls",
     "model_name": "FloatProgressModel",
     "model_module_version": "1.5.0",
     "state": {
      "_dom_classes": [],
      "_model_module": "@jupyter-widgets/controls",
      "_model_module_version": "1.5.0",
      "_model_name": "FloatProgressModel",
      "_view_count": null,
      "_view_module": "@jupyter-widgets/controls",
      "_view_module_version": "1.5.0",
      "_view_name": "ProgressView",
      "bar_style": "success",
      "description": "",
      "description_tooltip": null,
      "layout": "IPY_MODEL_e07350c14b4241aeabb41fae173d6f9b",
      "max": 2,
      "min": 0,
      "orientation": "horizontal",
      "style": "IPY_MODEL_7d1c983b52944534a7ea5e18241b1b4a",
      "value": 2
     }
    },
    "97c4155c8f41424198461a028123da9b": {
     "model_module": "@jupyter-widgets/controls",
     "model_name": "HTMLModel",
     "model_module_version": "1.5.0",
     "state": {
      "_dom_classes": [],
      "_model_module": "@jupyter-widgets/controls",
      "_model_module_version": "1.5.0",
      "_model_name": "HTMLModel",
      "_view_count": null,
      "_view_module": "@jupyter-widgets/controls",
      "_view_module_version": "1.5.0",
      "_view_name": "HTMLView",
      "description": "",
      "description_tooltip": null,
      "layout": "IPY_MODEL_652629ca637044098e877976a171b821",
      "placeholder": "​",
      "style": "IPY_MODEL_6c97b826ae964e87a6aeb69b9a0a569f",
      "value": " 2/2 [00:01&lt;00:00,  3.60ba/s, loss=2.2456, ntp_acc=38.01, ikr=50.93]"
     }
    },
    "a4a02cd12a8f4363889f4057fd8b5440": {
     "model_module": "@jupyter-widgets/base",
     "model_name": "LayoutModel",
     "model_module_version": "1.2.0",
     "state": {
      "_model_module": "@jupyter-widgets/base",
      "_model_module_version": "1.2.0",
      "_model_name": "LayoutModel",
      "_view_count": null,
      "_view_module": "@jupyter-widgets/base",
      "_view_module_version": "1.2.0",
      "_view_name": "LayoutView",
      "align_content": null,
      "align_items": null,
      "align_self": null,
      "border": null,
      "bottom": null,
      "display": null,
      "flex": null,
      "flex_flow": null,
      "grid_area": null,
      "grid_auto_columns": null,
      "grid_auto_flow": null,
      "grid_auto_rows": null,
      "grid_column": null,
      "grid_gap": null,
      "grid_row": null,
      "grid_template_areas": null,
      "grid_template_columns": null,
      "grid_template_rows": null,
      "height": null,
      "justify_content": null,
      "justify_items": null,
      "left": null,
      "margin": null,
      "max_height": null,
      "max_width": null,
      "min_height": null,
      "min_width": null,
      "object_fit": null,
      "object_position": null,
      "order": null,
      "overflow": null,
      "overflow_x": null,
      "overflow_y": null,
      "padding": null,
      "right": null,
      "top": null,
      "visibility": null,
      "width": null
     }
    },
    "e3fd2099fc3845ca81ab04536953d023": {
     "model_module": "@jupyter-widgets/base",
     "model_name": "LayoutModel",
     "model_module_version": "1.2.0",
     "state": {
      "_model_module": "@jupyter-widgets/base",
      "_model_module_version": "1.2.0",
      "_model_name": "LayoutModel",
      "_view_count": null,
      "_view_module": "@jupyter-widgets/base",
      "_view_module_version": "1.2.0",
      "_view_name": "LayoutView",
      "align_content": null,
      "align_items": null,
      "align_self": null,
      "border": null,
      "bottom": null,
      "display": null,
      "flex": null,
      "flex_flow": null,
      "grid_area": null,
      "grid_auto_columns": null,
      "grid_auto_flow": null,
      "grid_auto_rows": null,
      "grid_column": null,
      "grid_gap": null,
      "grid_row": null,
      "grid_template_areas": null,
      "grid_template_columns": null,
      "grid_template_rows": null,
      "height": null,
      "justify_content": null,
      "justify_items": null,
      "left": null,
      "margin": null,
      "max_height": null,
      "max_width": null,
      "min_height": null,
      "min_width": null,
      "object_fit": null,
      "object_position": null,
      "order": null,
      "overflow": null,
      "overflow_x": null,
      "overflow_y": null,
      "padding": null,
      "right": null,
      "top": null,
      "visibility": null,
      "width": null
     }
    },
    "07ffe792329a4026a461d84da2bee891": {
     "model_module": "@jupyter-widgets/controls",
     "model_name": "DescriptionStyleModel",
     "model_module_version": "1.5.0",
     "state": {
      "_model_module": "@jupyter-widgets/controls",
      "_model_module_version": "1.5.0",
      "_model_name": "DescriptionStyleModel",
      "_view_count": null,
      "_view_module": "@jupyter-widgets/base",
      "_view_module_version": "1.2.0",
      "_view_name": "StyleView",
      "description_width": ""
     }
    },
    "e07350c14b4241aeabb41fae173d6f9b": {
     "model_module": "@jupyter-widgets/base",
     "model_name": "LayoutModel",
     "model_module_version": "1.2.0",
     "state": {
      "_model_module": "@jupyter-widgets/base",
      "_model_module_version": "1.2.0",
      "_model_name": "LayoutModel",
      "_view_count": null,
      "_view_module": "@jupyter-widgets/base",
      "_view_module_version": "1.2.0",
      "_view_name": "LayoutView",
      "align_content": null,
      "align_items": null,
      "align_self": null,
      "border": null,
      "bottom": null,
      "display": null,
      "flex": null,
      "flex_flow": null,
      "grid_area": null,
      "grid_auto_columns": null,
      "grid_auto_flow": null,
      "grid_auto_rows": null,
      "grid_column": null,
      "grid_gap": null,
      "grid_row": null,
      "grid_template_areas": null,
      "grid_template_columns": null,
      "grid_template_rows": null,
      "height": null,
      "justify_content": null,
      "justify_items": null,
      "left": null,
      "margin": null,
      "max_height": null,
      "max_width": null,
      "min_height": null,
      "min_width": null,
      "object_fit": null,
      "object_position": null,
      "order": null,
      "overflow": null,
      "overflow_x": null,
      "overflow_y": null,
      "padding": null,
      "right": null,
      "top": null,
      "visibility": null,
      "width": null
     }
    },
    "7d1c983b52944534a7ea5e18241b1b4a": {
     "model_module": "@jupyter-widgets/controls",
     "model_name": "ProgressStyleModel",
     "model_module_version": "1.5.0",
     "state": {
      "_model_module": "@jupyter-widgets/controls",
      "_model_module_version": "1.5.0",
      "_model_name": "ProgressStyleModel",
      "_view_count": null,
      "_view_module": "@jupyter-widgets/base",
      "_view_module_version": "1.2.0",
      "_view_name": "StyleView",
      "bar_color": null,
      "description_width": ""
     }
    },
    "652629ca637044098e877976a171b821": {
     "model_module": "@jupyter-widgets/base",
     "model_name": "LayoutModel",
     "model_module_version": "1.2.0",
     "state": {
      "_model_module": "@jupyter-widgets/base",
      "_model_module_version": "1.2.0",
      "_model_name": "LayoutModel",
      "_view_count": null,
      "_view_module": "@jupyter-widgets/base",
      "_view_module_version": "1.2.0",
      "_view_name": "LayoutView",
      "align_content": null,
      "align_items": null,
      "align_self": null,
      "border": null,
      "bottom": null,
      "display": null,
      "flex": null,
      "flex_flow": null,
      "grid_area": null,
      "grid_auto_columns": null,
      "grid_auto_flow": null,
      "grid_auto_rows": null,
      "grid_column": null,
      "grid_gap": null,
      "grid_row": null,
      "grid_template_areas": null,
      "grid_template_columns": null,
      "grid_template_rows": null,
      "height": null,
      "justify_content": null,
      "justify_items": null,
      "left": null,
      "margin": null,
      "max_height": null,
      "max_width": null,
      "min_height": null,
      "min_width": null,
      "object_fit": null,
      "object_position": null,
      "order": null,
      "overflow": null,
      "overflow_x": null,
      "overflow_y": null,
      "padding": null,
      "right": null,
      "top": null,
      "visibility": null,
      "width": null
     }
    },
    "6c97b826ae964e87a6aeb69b9a0a569f": {
     "model_module": "@jupyter-widgets/controls",
     "model_name": "DescriptionStyleModel",
     "model_module_version": "1.5.0",
     "state": {
      "_model_module": "@jupyter-widgets/controls",
      "_model_module_version": "1.5.0",
      "_model_name": "DescriptionStyleModel",
      "_view_count": null,
      "_view_module": "@jupyter-widgets/base",
      "_view_module_version": "1.2.0",
      "_view_name": "StyleView",
      "description_width": ""
     }
    },
    "0e967e7cfbfd4920ac86bd283d330aad": {
     "model_module": "@jupyter-widgets/controls",
     "model_name": "HBoxModel",
     "model_module_version": "1.5.0",
     "state": {
      "_dom_classes": [],
      "_model_module": "@jupyter-widgets/controls",
      "_model_module_version": "1.5.0",
      "_model_name": "HBoxModel",
      "_view_count": null,
      "_view_module": "@jupyter-widgets/controls",
      "_view_module_version": "1.5.0",
      "_view_name": "HBoxView",
      "box_style": "",
      "children": [
       "IPY_MODEL_e8a0b0597efe4ec7b88d4b52d0b1d673",
       "IPY_MODEL_ca247fee625d46289746020b7c684d09",
       "IPY_MODEL_e2f85465ecef4659a99ec8d9952a9cf0"
      ],
      "layout": "IPY_MODEL_efae6dae1ecf485780b6abab406df4df"
     }
    },
    "e8a0b0597efe4ec7b88d4b52d0b1d673": {
     "model_module": "@jupyter-widgets/controls",
     "model_name": "HTMLModel",
     "model_module_version": "1.5.0",
     "state": {
      "_dom_classes": [],
      "_model_module": "@jupyter-widgets/controls",
      "_model_module_version": "1.5.0",
      "_model_name": "HTMLModel",
      "_view_count": null,
      "_view_module": "@jupyter-widgets/controls",
      "_view_module_version": "1.5.0",
      "_view_name": "HTMLView",
      "description": "",
      "description_tooltip": null,
      "layout": "IPY_MODEL_af5b39a5b2c94efebb48c9d5ab98fdc8",
      "placeholder": "​",
      "style": "IPY_MODEL_817e9d71058245f5aaa9e118c27ecfe2",
      "value": "Train Epoch 121/128: 100%"
     }
    },
    "ca247fee625d46289746020b7c684d09": {
     "model_module": "@jupyter-widgets/controls",
     "model_name": "FloatProgressModel",
     "model_module_version": "1.5.0",
     "state": {
      "_dom_classes": [],
      "_model_module": "@jupyter-widgets/controls",
      "_model_module_version": "1.5.0",
      "_model_name": "FloatProgressModel",
      "_view_count": null,
      "_view_module": "@jupyter-widgets/controls",
      "_view_module_version": "1.5.0",
      "_view_name": "ProgressView",
      "bar_style": "success",
      "description": "",
      "description_tooltip": null,
      "layout": "IPY_MODEL_983b851f67a44570a13a677ce97d4de6",
      "max": 34,
      "min": 0,
      "orientation": "horizontal",
      "style": "IPY_MODEL_18374fa53b2548b7ae25223b92df9c31",
      "value": 34
     }
    },
    "e2f85465ecef4659a99ec8d9952a9cf0": {
     "model_module": "@jupyter-widgets/controls",
     "model_name": "HTMLModel",
     "model_module_version": "1.5.0",
     "state": {
      "_dom_classes": [],
      "_model_module": "@jupyter-widgets/controls",
      "_model_module_version": "1.5.0",
      "_model_name": "HTMLModel",
      "_view_count": null,
      "_view_module": "@jupyter-widgets/controls",
      "_view_module_version": "1.5.0",
      "_view_name": "HTMLView",
      "description": "",
      "description_tooltip": null,
      "layout": "IPY_MODEL_53a687b73df743f894269a0ed4b218e1",
      "placeholder": "​",
      "style": "IPY_MODEL_79b24896977d466ea40b29cdb70ce340",
      "value": " 34/34 [04:58&lt;00:00,  7.40s/ba, loss=2.2795]"
     }
    },
    "efae6dae1ecf485780b6abab406df4df": {
     "model_module": "@jupyter-widgets/base",
     "model_name": "LayoutModel",
     "model_module_version": "1.2.0",
     "state": {
      "_model_module": "@jupyter-widgets/base",
      "_model_module_version": "1.2.0",
      "_model_name": "LayoutModel",
      "_view_count": null,
      "_view_module": "@jupyter-widgets/base",
      "_view_module_version": "1.2.0",
      "_view_name": "LayoutView",
      "align_content": null,
      "align_items": null,
      "align_self": null,
      "border": null,
      "bottom": null,
      "display": null,
      "flex": null,
      "flex_flow": null,
      "grid_area": null,
      "grid_auto_columns": null,
      "grid_auto_flow": null,
      "grid_auto_rows": null,
      "grid_column": null,
      "grid_gap": null,
      "grid_row": null,
      "grid_template_areas": null,
      "grid_template_columns": null,
      "grid_template_rows": null,
      "height": null,
      "justify_content": null,
      "justify_items": null,
      "left": null,
      "margin": null,
      "max_height": null,
      "max_width": null,
      "min_height": null,
      "min_width": null,
      "object_fit": null,
      "object_position": null,
      "order": null,
      "overflow": null,
      "overflow_x": null,
      "overflow_y": null,
      "padding": null,
      "right": null,
      "top": null,
      "visibility": null,
      "width": null
     }
    },
    "af5b39a5b2c94efebb48c9d5ab98fdc8": {
     "model_module": "@jupyter-widgets/base",
     "model_name": "LayoutModel",
     "model_module_version": "1.2.0",
     "state": {
      "_model_module": "@jupyter-widgets/base",
      "_model_module_version": "1.2.0",
      "_model_name": "LayoutModel",
      "_view_count": null,
      "_view_module": "@jupyter-widgets/base",
      "_view_module_version": "1.2.0",
      "_view_name": "LayoutView",
      "align_content": null,
      "align_items": null,
      "align_self": null,
      "border": null,
      "bottom": null,
      "display": null,
      "flex": null,
      "flex_flow": null,
      "grid_area": null,
      "grid_auto_columns": null,
      "grid_auto_flow": null,
      "grid_auto_rows": null,
      "grid_column": null,
      "grid_gap": null,
      "grid_row": null,
      "grid_template_areas": null,
      "grid_template_columns": null,
      "grid_template_rows": null,
      "height": null,
      "justify_content": null,
      "justify_items": null,
      "left": null,
      "margin": null,
      "max_height": null,
      "max_width": null,
      "min_height": null,
      "min_width": null,
      "object_fit": null,
      "object_position": null,
      "order": null,
      "overflow": null,
      "overflow_x": null,
      "overflow_y": null,
      "padding": null,
      "right": null,
      "top": null,
      "visibility": null,
      "width": null
     }
    },
    "817e9d71058245f5aaa9e118c27ecfe2": {
     "model_module": "@jupyter-widgets/controls",
     "model_name": "DescriptionStyleModel",
     "model_module_version": "1.5.0",
     "state": {
      "_model_module": "@jupyter-widgets/controls",
      "_model_module_version": "1.5.0",
      "_model_name": "DescriptionStyleModel",
      "_view_count": null,
      "_view_module": "@jupyter-widgets/base",
      "_view_module_version": "1.2.0",
      "_view_name": "StyleView",
      "description_width": ""
     }
    },
    "983b851f67a44570a13a677ce97d4de6": {
     "model_module": "@jupyter-widgets/base",
     "model_name": "LayoutModel",
     "model_module_version": "1.2.0",
     "state": {
      "_model_module": "@jupyter-widgets/base",
      "_model_module_version": "1.2.0",
      "_model_name": "LayoutModel",
      "_view_count": null,
      "_view_module": "@jupyter-widgets/base",
      "_view_module_version": "1.2.0",
      "_view_name": "LayoutView",
      "align_content": null,
      "align_items": null,
      "align_self": null,
      "border": null,
      "bottom": null,
      "display": null,
      "flex": null,
      "flex_flow": null,
      "grid_area": null,
      "grid_auto_columns": null,
      "grid_auto_flow": null,
      "grid_auto_rows": null,
      "grid_column": null,
      "grid_gap": null,
      "grid_row": null,
      "grid_template_areas": null,
      "grid_template_columns": null,
      "grid_template_rows": null,
      "height": null,
      "justify_content": null,
      "justify_items": null,
      "left": null,
      "margin": null,
      "max_height": null,
      "max_width": null,
      "min_height": null,
      "min_width": null,
      "object_fit": null,
      "object_position": null,
      "order": null,
      "overflow": null,
      "overflow_x": null,
      "overflow_y": null,
      "padding": null,
      "right": null,
      "top": null,
      "visibility": null,
      "width": null
     }
    },
    "18374fa53b2548b7ae25223b92df9c31": {
     "model_module": "@jupyter-widgets/controls",
     "model_name": "ProgressStyleModel",
     "model_module_version": "1.5.0",
     "state": {
      "_model_module": "@jupyter-widgets/controls",
      "_model_module_version": "1.5.0",
      "_model_name": "ProgressStyleModel",
      "_view_count": null,
      "_view_module": "@jupyter-widgets/base",
      "_view_module_version": "1.2.0",
      "_view_name": "StyleView",
      "bar_color": null,
      "description_width": ""
     }
    },
    "53a687b73df743f894269a0ed4b218e1": {
     "model_module": "@jupyter-widgets/base",
     "model_name": "LayoutModel",
     "model_module_version": "1.2.0",
     "state": {
      "_model_module": "@jupyter-widgets/base",
      "_model_module_version": "1.2.0",
      "_model_name": "LayoutModel",
      "_view_count": null,
      "_view_module": "@jupyter-widgets/base",
      "_view_module_version": "1.2.0",
      "_view_name": "LayoutView",
      "align_content": null,
      "align_items": null,
      "align_self": null,
      "border": null,
      "bottom": null,
      "display": null,
      "flex": null,
      "flex_flow": null,
      "grid_area": null,
      "grid_auto_columns": null,
      "grid_auto_flow": null,
      "grid_auto_rows": null,
      "grid_column": null,
      "grid_gap": null,
      "grid_row": null,
      "grid_template_areas": null,
      "grid_template_columns": null,
      "grid_template_rows": null,
      "height": null,
      "justify_content": null,
      "justify_items": null,
      "left": null,
      "margin": null,
      "max_height": null,
      "max_width": null,
      "min_height": null,
      "min_width": null,
      "object_fit": null,
      "object_position": null,
      "order": null,
      "overflow": null,
      "overflow_x": null,
      "overflow_y": null,
      "padding": null,
      "right": null,
      "top": null,
      "visibility": null,
      "width": null
     }
    },
    "79b24896977d466ea40b29cdb70ce340": {
     "model_module": "@jupyter-widgets/controls",
     "model_name": "DescriptionStyleModel",
     "model_module_version": "1.5.0",
     "state": {
      "_model_module": "@jupyter-widgets/controls",
      "_model_module_version": "1.5.0",
      "_model_name": "DescriptionStyleModel",
      "_view_count": null,
      "_view_module": "@jupyter-widgets/base",
      "_view_module_version": "1.2.0",
      "_view_name": "StyleView",
      "description_width": ""
     }
    },
    "8cf1025e49504ec99b0790cdc94bad32": {
     "model_module": "@jupyter-widgets/controls",
     "model_name": "HBoxModel",
     "model_module_version": "1.5.0",
     "state": {
      "_dom_classes": [],
      "_model_module": "@jupyter-widgets/controls",
      "_model_module_version": "1.5.0",
      "_model_name": "HBoxModel",
      "_view_count": null,
      "_view_module": "@jupyter-widgets/controls",
      "_view_module_version": "1.5.0",
      "_view_name": "HBoxView",
      "box_style": "",
      "children": [
       "IPY_MODEL_00aedaf34b6b418cb4137f93d3c1bf18",
       "IPY_MODEL_151010db5c354dd3afac41379a2f017a",
       "IPY_MODEL_643500a84e7d4958a31c44064adc581b"
      ],
      "layout": "IPY_MODEL_79114814fbd94bb289013b1ca9e759c2"
     }
    },
    "00aedaf34b6b418cb4137f93d3c1bf18": {
     "model_module": "@jupyter-widgets/controls",
     "model_name": "HTMLModel",
     "model_module_version": "1.5.0",
     "state": {
      "_dom_classes": [],
      "_model_module": "@jupyter-widgets/controls",
      "_model_module_version": "1.5.0",
      "_model_name": "HTMLModel",
      "_view_count": null,
      "_view_module": "@jupyter-widgets/controls",
      "_view_module_version": "1.5.0",
      "_view_name": "HTMLView",
      "description": "",
      "description_tooltip": null,
      "layout": "IPY_MODEL_de710e49ef5740e28081de197ea07796",
      "placeholder": "​",
      "style": "IPY_MODEL_45acc8bf3bb3446e8dc789612fe2b52e",
      "value": "Eval Epoch 121/128: 100%"
     }
    },
    "151010db5c354dd3afac41379a2f017a": {
     "model_module": "@jupyter-widgets/controls",
     "model_name": "FloatProgressModel",
     "model_module_version": "1.5.0",
     "state": {
      "_dom_classes": [],
      "_model_module": "@jupyter-widgets/controls",
      "_model_module_version": "1.5.0",
      "_model_name": "FloatProgressModel",
      "_view_count": null,
      "_view_module": "@jupyter-widgets/controls",
      "_view_module_version": "1.5.0",
      "_view_name": "ProgressView",
      "bar_style": "success",
      "description": "",
      "description_tooltip": null,
      "layout": "IPY_MODEL_d3b6a65b8d03449baef0a55233189869",
      "max": 2,
      "min": 0,
      "orientation": "horizontal",
      "style": "IPY_MODEL_f302e4d189734486854cb15694f9e5f9",
      "value": 2
     }
    },
    "643500a84e7d4958a31c44064adc581b": {
     "model_module": "@jupyter-widgets/controls",
     "model_name": "HTMLModel",
     "model_module_version": "1.5.0",
     "state": {
      "_dom_classes": [],
      "_model_module": "@jupyter-widgets/controls",
      "_model_module_version": "1.5.0",
      "_model_name": "HTMLModel",
      "_view_count": null,
      "_view_module": "@jupyter-widgets/controls",
      "_view_module_version": "1.5.0",
      "_view_name": "HTMLView",
      "description": "",
      "description_tooltip": null,
      "layout": "IPY_MODEL_7cedb92546d7428591a300b1726b9bd9",
      "placeholder": "​",
      "style": "IPY_MODEL_833e03551df3404aa409b8546d44f4ee",
      "value": " 2/2 [00:01&lt;00:00,  3.31ba/s, loss=2.2467, ntp_acc=37.95, ikr=50.68]"
     }
    },
    "79114814fbd94bb289013b1ca9e759c2": {
     "model_module": "@jupyter-widgets/base",
     "model_name": "LayoutModel",
     "model_module_version": "1.2.0",
     "state": {
      "_model_module": "@jupyter-widgets/base",
      "_model_module_version": "1.2.0",
      "_model_name": "LayoutModel",
      "_view_count": null,
      "_view_module": "@jupyter-widgets/base",
      "_view_module_version": "1.2.0",
      "_view_name": "LayoutView",
      "align_content": null,
      "align_items": null,
      "align_self": null,
      "border": null,
      "bottom": null,
      "display": null,
      "flex": null,
      "flex_flow": null,
      "grid_area": null,
      "grid_auto_columns": null,
      "grid_auto_flow": null,
      "grid_auto_rows": null,
      "grid_column": null,
      "grid_gap": null,
      "grid_row": null,
      "grid_template_areas": null,
      "grid_template_columns": null,
      "grid_template_rows": null,
      "height": null,
      "justify_content": null,
      "justify_items": null,
      "left": null,
      "margin": null,
      "max_height": null,
      "max_width": null,
      "min_height": null,
      "min_width": null,
      "object_fit": null,
      "object_position": null,
      "order": null,
      "overflow": null,
      "overflow_x": null,
      "overflow_y": null,
      "padding": null,
      "right": null,
      "top": null,
      "visibility": null,
      "width": null
     }
    },
    "de710e49ef5740e28081de197ea07796": {
     "model_module": "@jupyter-widgets/base",
     "model_name": "LayoutModel",
     "model_module_version": "1.2.0",
     "state": {
      "_model_module": "@jupyter-widgets/base",
      "_model_module_version": "1.2.0",
      "_model_name": "LayoutModel",
      "_view_count": null,
      "_view_module": "@jupyter-widgets/base",
      "_view_module_version": "1.2.0",
      "_view_name": "LayoutView",
      "align_content": null,
      "align_items": null,
      "align_self": null,
      "border": null,
      "bottom": null,
      "display": null,
      "flex": null,
      "flex_flow": null,
      "grid_area": null,
      "grid_auto_columns": null,
      "grid_auto_flow": null,
      "grid_auto_rows": null,
      "grid_column": null,
      "grid_gap": null,
      "grid_row": null,
      "grid_template_areas": null,
      "grid_template_columns": null,
      "grid_template_rows": null,
      "height": null,
      "justify_content": null,
      "justify_items": null,
      "left": null,
      "margin": null,
      "max_height": null,
      "max_width": null,
      "min_height": null,
      "min_width": null,
      "object_fit": null,
      "object_position": null,
      "order": null,
      "overflow": null,
      "overflow_x": null,
      "overflow_y": null,
      "padding": null,
      "right": null,
      "top": null,
      "visibility": null,
      "width": null
     }
    },
    "45acc8bf3bb3446e8dc789612fe2b52e": {
     "model_module": "@jupyter-widgets/controls",
     "model_name": "DescriptionStyleModel",
     "model_module_version": "1.5.0",
     "state": {
      "_model_module": "@jupyter-widgets/controls",
      "_model_module_version": "1.5.0",
      "_model_name": "DescriptionStyleModel",
      "_view_count": null,
      "_view_module": "@jupyter-widgets/base",
      "_view_module_version": "1.2.0",
      "_view_name": "StyleView",
      "description_width": ""
     }
    },
    "d3b6a65b8d03449baef0a55233189869": {
     "model_module": "@jupyter-widgets/base",
     "model_name": "LayoutModel",
     "model_module_version": "1.2.0",
     "state": {
      "_model_module": "@jupyter-widgets/base",
      "_model_module_version": "1.2.0",
      "_model_name": "LayoutModel",
      "_view_count": null,
      "_view_module": "@jupyter-widgets/base",
      "_view_module_version": "1.2.0",
      "_view_name": "LayoutView",
      "align_content": null,
      "align_items": null,
      "align_self": null,
      "border": null,
      "bottom": null,
      "display": null,
      "flex": null,
      "flex_flow": null,
      "grid_area": null,
      "grid_auto_columns": null,
      "grid_auto_flow": null,
      "grid_auto_rows": null,
      "grid_column": null,
      "grid_gap": null,
      "grid_row": null,
      "grid_template_areas": null,
      "grid_template_columns": null,
      "grid_template_rows": null,
      "height": null,
      "justify_content": null,
      "justify_items": null,
      "left": null,
      "margin": null,
      "max_height": null,
      "max_width": null,
      "min_height": null,
      "min_width": null,
      "object_fit": null,
      "object_position": null,
      "order": null,
      "overflow": null,
      "overflow_x": null,
      "overflow_y": null,
      "padding": null,
      "right": null,
      "top": null,
      "visibility": null,
      "width": null
     }
    },
    "f302e4d189734486854cb15694f9e5f9": {
     "model_module": "@jupyter-widgets/controls",
     "model_name": "ProgressStyleModel",
     "model_module_version": "1.5.0",
     "state": {
      "_model_module": "@jupyter-widgets/controls",
      "_model_module_version": "1.5.0",
      "_model_name": "ProgressStyleModel",
      "_view_count": null,
      "_view_module": "@jupyter-widgets/base",
      "_view_module_version": "1.2.0",
      "_view_name": "StyleView",
      "bar_color": null,
      "description_width": ""
     }
    },
    "7cedb92546d7428591a300b1726b9bd9": {
     "model_module": "@jupyter-widgets/base",
     "model_name": "LayoutModel",
     "model_module_version": "1.2.0",
     "state": {
      "_model_module": "@jupyter-widgets/base",
      "_model_module_version": "1.2.0",
      "_model_name": "LayoutModel",
      "_view_count": null,
      "_view_module": "@jupyter-widgets/base",
      "_view_module_version": "1.2.0",
      "_view_name": "LayoutView",
      "align_content": null,
      "align_items": null,
      "align_self": null,
      "border": null,
      "bottom": null,
      "display": null,
      "flex": null,
      "flex_flow": null,
      "grid_area": null,
      "grid_auto_columns": null,
      "grid_auto_flow": null,
      "grid_auto_rows": null,
      "grid_column": null,
      "grid_gap": null,
      "grid_row": null,
      "grid_template_areas": null,
      "grid_template_columns": null,
      "grid_template_rows": null,
      "height": null,
      "justify_content": null,
      "justify_items": null,
      "left": null,
      "margin": null,
      "max_height": null,
      "max_width": null,
      "min_height": null,
      "min_width": null,
      "object_fit": null,
      "object_position": null,
      "order": null,
      "overflow": null,
      "overflow_x": null,
      "overflow_y": null,
      "padding": null,
      "right": null,
      "top": null,
      "visibility": null,
      "width": null
     }
    },
    "833e03551df3404aa409b8546d44f4ee": {
     "model_module": "@jupyter-widgets/controls",
     "model_name": "DescriptionStyleModel",
     "model_module_version": "1.5.0",
     "state": {
      "_model_module": "@jupyter-widgets/controls",
      "_model_module_version": "1.5.0",
      "_model_name": "DescriptionStyleModel",
      "_view_count": null,
      "_view_module": "@jupyter-widgets/base",
      "_view_module_version": "1.2.0",
      "_view_name": "StyleView",
      "description_width": ""
     }
    },
    "ecf1daf48fb44aee84a9b10482a276c3": {
     "model_module": "@jupyter-widgets/controls",
     "model_name": "HBoxModel",
     "model_module_version": "1.5.0",
     "state": {
      "_dom_classes": [],
      "_model_module": "@jupyter-widgets/controls",
      "_model_module_version": "1.5.0",
      "_model_name": "HBoxModel",
      "_view_count": null,
      "_view_module": "@jupyter-widgets/controls",
      "_view_module_version": "1.5.0",
      "_view_name": "HBoxView",
      "box_style": "",
      "children": [
       "IPY_MODEL_72cfc705556e459fb20911d3ed7e85ac",
       "IPY_MODEL_c784a5546716444693ab7e28b61414a2",
       "IPY_MODEL_256a2110d4c7475a9b2c8962ae298396"
      ],
      "layout": "IPY_MODEL_96675a9e8d104939823769b33d55170b"
     }
    },
    "72cfc705556e459fb20911d3ed7e85ac": {
     "model_module": "@jupyter-widgets/controls",
     "model_name": "HTMLModel",
     "model_module_version": "1.5.0",
     "state": {
      "_dom_classes": [],
      "_model_module": "@jupyter-widgets/controls",
      "_model_module_version": "1.5.0",
      "_model_name": "HTMLModel",
      "_view_count": null,
      "_view_module": "@jupyter-widgets/controls",
      "_view_module_version": "1.5.0",
      "_view_name": "HTMLView",
      "description": "",
      "description_tooltip": null,
      "layout": "IPY_MODEL_01f348a6193c47cc873d4d907e0829a8",
      "placeholder": "​",
      "style": "IPY_MODEL_0043dc9997774eb882fefd770d86b6cc",
      "value": "Train Epoch 122/128: 100%"
     }
    },
    "c784a5546716444693ab7e28b61414a2": {
     "model_module": "@jupyter-widgets/controls",
     "model_name": "FloatProgressModel",
     "model_module_version": "1.5.0",
     "state": {
      "_dom_classes": [],
      "_model_module": "@jupyter-widgets/controls",
      "_model_module_version": "1.5.0",
      "_model_name": "FloatProgressModel",
      "_view_count": null,
      "_view_module": "@jupyter-widgets/controls",
      "_view_module_version": "1.5.0",
      "_view_name": "ProgressView",
      "bar_style": "success",
      "description": "",
      "description_tooltip": null,
      "layout": "IPY_MODEL_5c9b639e6b804406bd852f2d3a367011",
      "max": 34,
      "min": 0,
      "orientation": "horizontal",
      "style": "IPY_MODEL_8c1fbb1dade84d6780bc385caa01c45f",
      "value": 34
     }
    },
    "256a2110d4c7475a9b2c8962ae298396": {
     "model_module": "@jupyter-widgets/controls",
     "model_name": "HTMLModel",
     "model_module_version": "1.5.0",
     "state": {
      "_dom_classes": [],
      "_model_module": "@jupyter-widgets/controls",
      "_model_module_version": "1.5.0",
      "_model_name": "HTMLModel",
      "_view_count": null,
      "_view_module": "@jupyter-widgets/controls",
      "_view_module_version": "1.5.0",
      "_view_name": "HTMLView",
      "description": "",
      "description_tooltip": null,
      "layout": "IPY_MODEL_6e43f761080947bebd1e1fcb9d28a94a",
      "placeholder": "​",
      "style": "IPY_MODEL_aa8a5e35d06348b6b789b2100fba32e6",
      "value": " 34/34 [04:58&lt;00:00,  7.41s/ba, loss=2.3470]"
     }
    },
    "96675a9e8d104939823769b33d55170b": {
     "model_module": "@jupyter-widgets/base",
     "model_name": "LayoutModel",
     "model_module_version": "1.2.0",
     "state": {
      "_model_module": "@jupyter-widgets/base",
      "_model_module_version": "1.2.0",
      "_model_name": "LayoutModel",
      "_view_count": null,
      "_view_module": "@jupyter-widgets/base",
      "_view_module_version": "1.2.0",
      "_view_name": "LayoutView",
      "align_content": null,
      "align_items": null,
      "align_self": null,
      "border": null,
      "bottom": null,
      "display": null,
      "flex": null,
      "flex_flow": null,
      "grid_area": null,
      "grid_auto_columns": null,
      "grid_auto_flow": null,
      "grid_auto_rows": null,
      "grid_column": null,
      "grid_gap": null,
      "grid_row": null,
      "grid_template_areas": null,
      "grid_template_columns": null,
      "grid_template_rows": null,
      "height": null,
      "justify_content": null,
      "justify_items": null,
      "left": null,
      "margin": null,
      "max_height": null,
      "max_width": null,
      "min_height": null,
      "min_width": null,
      "object_fit": null,
      "object_position": null,
      "order": null,
      "overflow": null,
      "overflow_x": null,
      "overflow_y": null,
      "padding": null,
      "right": null,
      "top": null,
      "visibility": null,
      "width": null
     }
    },
    "01f348a6193c47cc873d4d907e0829a8": {
     "model_module": "@jupyter-widgets/base",
     "model_name": "LayoutModel",
     "model_module_version": "1.2.0",
     "state": {
      "_model_module": "@jupyter-widgets/base",
      "_model_module_version": "1.2.0",
      "_model_name": "LayoutModel",
      "_view_count": null,
      "_view_module": "@jupyter-widgets/base",
      "_view_module_version": "1.2.0",
      "_view_name": "LayoutView",
      "align_content": null,
      "align_items": null,
      "align_self": null,
      "border": null,
      "bottom": null,
      "display": null,
      "flex": null,
      "flex_flow": null,
      "grid_area": null,
      "grid_auto_columns": null,
      "grid_auto_flow": null,
      "grid_auto_rows": null,
      "grid_column": null,
      "grid_gap": null,
      "grid_row": null,
      "grid_template_areas": null,
      "grid_template_columns": null,
      "grid_template_rows": null,
      "height": null,
      "justify_content": null,
      "justify_items": null,
      "left": null,
      "margin": null,
      "max_height": null,
      "max_width": null,
      "min_height": null,
      "min_width": null,
      "object_fit": null,
      "object_position": null,
      "order": null,
      "overflow": null,
      "overflow_x": null,
      "overflow_y": null,
      "padding": null,
      "right": null,
      "top": null,
      "visibility": null,
      "width": null
     }
    },
    "0043dc9997774eb882fefd770d86b6cc": {
     "model_module": "@jupyter-widgets/controls",
     "model_name": "DescriptionStyleModel",
     "model_module_version": "1.5.0",
     "state": {
      "_model_module": "@jupyter-widgets/controls",
      "_model_module_version": "1.5.0",
      "_model_name": "DescriptionStyleModel",
      "_view_count": null,
      "_view_module": "@jupyter-widgets/base",
      "_view_module_version": "1.2.0",
      "_view_name": "StyleView",
      "description_width": ""
     }
    },
    "5c9b639e6b804406bd852f2d3a367011": {
     "model_module": "@jupyter-widgets/base",
     "model_name": "LayoutModel",
     "model_module_version": "1.2.0",
     "state": {
      "_model_module": "@jupyter-widgets/base",
      "_model_module_version": "1.2.0",
      "_model_name": "LayoutModel",
      "_view_count": null,
      "_view_module": "@jupyter-widgets/base",
      "_view_module_version": "1.2.0",
      "_view_name": "LayoutView",
      "align_content": null,
      "align_items": null,
      "align_self": null,
      "border": null,
      "bottom": null,
      "display": null,
      "flex": null,
      "flex_flow": null,
      "grid_area": null,
      "grid_auto_columns": null,
      "grid_auto_flow": null,
      "grid_auto_rows": null,
      "grid_column": null,
      "grid_gap": null,
      "grid_row": null,
      "grid_template_areas": null,
      "grid_template_columns": null,
      "grid_template_rows": null,
      "height": null,
      "justify_content": null,
      "justify_items": null,
      "left": null,
      "margin": null,
      "max_height": null,
      "max_width": null,
      "min_height": null,
      "min_width": null,
      "object_fit": null,
      "object_position": null,
      "order": null,
      "overflow": null,
      "overflow_x": null,
      "overflow_y": null,
      "padding": null,
      "right": null,
      "top": null,
      "visibility": null,
      "width": null
     }
    },
    "8c1fbb1dade84d6780bc385caa01c45f": {
     "model_module": "@jupyter-widgets/controls",
     "model_name": "ProgressStyleModel",
     "model_module_version": "1.5.0",
     "state": {
      "_model_module": "@jupyter-widgets/controls",
      "_model_module_version": "1.5.0",
      "_model_name": "ProgressStyleModel",
      "_view_count": null,
      "_view_module": "@jupyter-widgets/base",
      "_view_module_version": "1.2.0",
      "_view_name": "StyleView",
      "bar_color": null,
      "description_width": ""
     }
    },
    "6e43f761080947bebd1e1fcb9d28a94a": {
     "model_module": "@jupyter-widgets/base",
     "model_name": "LayoutModel",
     "model_module_version": "1.2.0",
     "state": {
      "_model_module": "@jupyter-widgets/base",
      "_model_module_version": "1.2.0",
      "_model_name": "LayoutModel",
      "_view_count": null,
      "_view_module": "@jupyter-widgets/base",
      "_view_module_version": "1.2.0",
      "_view_name": "LayoutView",
      "align_content": null,
      "align_items": null,
      "align_self": null,
      "border": null,
      "bottom": null,
      "display": null,
      "flex": null,
      "flex_flow": null,
      "grid_area": null,
      "grid_auto_columns": null,
      "grid_auto_flow": null,
      "grid_auto_rows": null,
      "grid_column": null,
      "grid_gap": null,
      "grid_row": null,
      "grid_template_areas": null,
      "grid_template_columns": null,
      "grid_template_rows": null,
      "height": null,
      "justify_content": null,
      "justify_items": null,
      "left": null,
      "margin": null,
      "max_height": null,
      "max_width": null,
      "min_height": null,
      "min_width": null,
      "object_fit": null,
      "object_position": null,
      "order": null,
      "overflow": null,
      "overflow_x": null,
      "overflow_y": null,
      "padding": null,
      "right": null,
      "top": null,
      "visibility": null,
      "width": null
     }
    },
    "aa8a5e35d06348b6b789b2100fba32e6": {
     "model_module": "@jupyter-widgets/controls",
     "model_name": "DescriptionStyleModel",
     "model_module_version": "1.5.0",
     "state": {
      "_model_module": "@jupyter-widgets/controls",
      "_model_module_version": "1.5.0",
      "_model_name": "DescriptionStyleModel",
      "_view_count": null,
      "_view_module": "@jupyter-widgets/base",
      "_view_module_version": "1.2.0",
      "_view_name": "StyleView",
      "description_width": ""
     }
    },
    "67fddbcc97a84f158c7cf548e3e39186": {
     "model_module": "@jupyter-widgets/controls",
     "model_name": "HBoxModel",
     "model_module_version": "1.5.0",
     "state": {
      "_dom_classes": [],
      "_model_module": "@jupyter-widgets/controls",
      "_model_module_version": "1.5.0",
      "_model_name": "HBoxModel",
      "_view_count": null,
      "_view_module": "@jupyter-widgets/controls",
      "_view_module_version": "1.5.0",
      "_view_name": "HBoxView",
      "box_style": "",
      "children": [
       "IPY_MODEL_be20b17e1dba4c6bb40dbbd0b7ee487d",
       "IPY_MODEL_dbf93797aad745fbba1268b7ac1316e1",
       "IPY_MODEL_302906983f194655abedb4a6af34bb3f"
      ],
      "layout": "IPY_MODEL_9747eeb823e840e29918e9e4fc414e06"
     }
    },
    "be20b17e1dba4c6bb40dbbd0b7ee487d": {
     "model_module": "@jupyter-widgets/controls",
     "model_name": "HTMLModel",
     "model_module_version": "1.5.0",
     "state": {
      "_dom_classes": [],
      "_model_module": "@jupyter-widgets/controls",
      "_model_module_version": "1.5.0",
      "_model_name": "HTMLModel",
      "_view_count": null,
      "_view_module": "@jupyter-widgets/controls",
      "_view_module_version": "1.5.0",
      "_view_name": "HTMLView",
      "description": "",
      "description_tooltip": null,
      "layout": "IPY_MODEL_95d804752a914c7d88e52f099d56a43d",
      "placeholder": "​",
      "style": "IPY_MODEL_b2399dfc9c5344c4b809cfadb2e78f95",
      "value": "Eval Epoch 122/128: 100%"
     }
    },
    "dbf93797aad745fbba1268b7ac1316e1": {
     "model_module": "@jupyter-widgets/controls",
     "model_name": "FloatProgressModel",
     "model_module_version": "1.5.0",
     "state": {
      "_dom_classes": [],
      "_model_module": "@jupyter-widgets/controls",
      "_model_module_version": "1.5.0",
      "_model_name": "FloatProgressModel",
      "_view_count": null,
      "_view_module": "@jupyter-widgets/controls",
      "_view_module_version": "1.5.0",
      "_view_name": "ProgressView",
      "bar_style": "success",
      "description": "",
      "description_tooltip": null,
      "layout": "IPY_MODEL_00f88e6779544fdb9212aff631a64418",
      "max": 2,
      "min": 0,
      "orientation": "horizontal",
      "style": "IPY_MODEL_04e04faa0d5c4e2ab02bf3a1653d5983",
      "value": 2
     }
    },
    "302906983f194655abedb4a6af34bb3f": {
     "model_module": "@jupyter-widgets/controls",
     "model_name": "HTMLModel",
     "model_module_version": "1.5.0",
     "state": {
      "_dom_classes": [],
      "_model_module": "@jupyter-widgets/controls",
      "_model_module_version": "1.5.0",
      "_model_name": "HTMLModel",
      "_view_count": null,
      "_view_module": "@jupyter-widgets/controls",
      "_view_module_version": "1.5.0",
      "_view_name": "HTMLView",
      "description": "",
      "description_tooltip": null,
      "layout": "IPY_MODEL_b7fcfae0ec26422b8798c825f77cb98a",
      "placeholder": "​",
      "style": "IPY_MODEL_e40bbf50f15142c4b13501190edd9dd4",
      "value": " 2/2 [00:01&lt;00:00,  3.62ba/s, loss=2.2455, ntp_acc=37.95, ikr=50.97]"
     }
    },
    "9747eeb823e840e29918e9e4fc414e06": {
     "model_module": "@jupyter-widgets/base",
     "model_name": "LayoutModel",
     "model_module_version": "1.2.0",
     "state": {
      "_model_module": "@jupyter-widgets/base",
      "_model_module_version": "1.2.0",
      "_model_name": "LayoutModel",
      "_view_count": null,
      "_view_module": "@jupyter-widgets/base",
      "_view_module_version": "1.2.0",
      "_view_name": "LayoutView",
      "align_content": null,
      "align_items": null,
      "align_self": null,
      "border": null,
      "bottom": null,
      "display": null,
      "flex": null,
      "flex_flow": null,
      "grid_area": null,
      "grid_auto_columns": null,
      "grid_auto_flow": null,
      "grid_auto_rows": null,
      "grid_column": null,
      "grid_gap": null,
      "grid_row": null,
      "grid_template_areas": null,
      "grid_template_columns": null,
      "grid_template_rows": null,
      "height": null,
      "justify_content": null,
      "justify_items": null,
      "left": null,
      "margin": null,
      "max_height": null,
      "max_width": null,
      "min_height": null,
      "min_width": null,
      "object_fit": null,
      "object_position": null,
      "order": null,
      "overflow": null,
      "overflow_x": null,
      "overflow_y": null,
      "padding": null,
      "right": null,
      "top": null,
      "visibility": null,
      "width": null
     }
    },
    "95d804752a914c7d88e52f099d56a43d": {
     "model_module": "@jupyter-widgets/base",
     "model_name": "LayoutModel",
     "model_module_version": "1.2.0",
     "state": {
      "_model_module": "@jupyter-widgets/base",
      "_model_module_version": "1.2.0",
      "_model_name": "LayoutModel",
      "_view_count": null,
      "_view_module": "@jupyter-widgets/base",
      "_view_module_version": "1.2.0",
      "_view_name": "LayoutView",
      "align_content": null,
      "align_items": null,
      "align_self": null,
      "border": null,
      "bottom": null,
      "display": null,
      "flex": null,
      "flex_flow": null,
      "grid_area": null,
      "grid_auto_columns": null,
      "grid_auto_flow": null,
      "grid_auto_rows": null,
      "grid_column": null,
      "grid_gap": null,
      "grid_row": null,
      "grid_template_areas": null,
      "grid_template_columns": null,
      "grid_template_rows": null,
      "height": null,
      "justify_content": null,
      "justify_items": null,
      "left": null,
      "margin": null,
      "max_height": null,
      "max_width": null,
      "min_height": null,
      "min_width": null,
      "object_fit": null,
      "object_position": null,
      "order": null,
      "overflow": null,
      "overflow_x": null,
      "overflow_y": null,
      "padding": null,
      "right": null,
      "top": null,
      "visibility": null,
      "width": null
     }
    },
    "b2399dfc9c5344c4b809cfadb2e78f95": {
     "model_module": "@jupyter-widgets/controls",
     "model_name": "DescriptionStyleModel",
     "model_module_version": "1.5.0",
     "state": {
      "_model_module": "@jupyter-widgets/controls",
      "_model_module_version": "1.5.0",
      "_model_name": "DescriptionStyleModel",
      "_view_count": null,
      "_view_module": "@jupyter-widgets/base",
      "_view_module_version": "1.2.0",
      "_view_name": "StyleView",
      "description_width": ""
     }
    },
    "00f88e6779544fdb9212aff631a64418": {
     "model_module": "@jupyter-widgets/base",
     "model_name": "LayoutModel",
     "model_module_version": "1.2.0",
     "state": {
      "_model_module": "@jupyter-widgets/base",
      "_model_module_version": "1.2.0",
      "_model_name": "LayoutModel",
      "_view_count": null,
      "_view_module": "@jupyter-widgets/base",
      "_view_module_version": "1.2.0",
      "_view_name": "LayoutView",
      "align_content": null,
      "align_items": null,
      "align_self": null,
      "border": null,
      "bottom": null,
      "display": null,
      "flex": null,
      "flex_flow": null,
      "grid_area": null,
      "grid_auto_columns": null,
      "grid_auto_flow": null,
      "grid_auto_rows": null,
      "grid_column": null,
      "grid_gap": null,
      "grid_row": null,
      "grid_template_areas": null,
      "grid_template_columns": null,
      "grid_template_rows": null,
      "height": null,
      "justify_content": null,
      "justify_items": null,
      "left": null,
      "margin": null,
      "max_height": null,
      "max_width": null,
      "min_height": null,
      "min_width": null,
      "object_fit": null,
      "object_position": null,
      "order": null,
      "overflow": null,
      "overflow_x": null,
      "overflow_y": null,
      "padding": null,
      "right": null,
      "top": null,
      "visibility": null,
      "width": null
     }
    },
    "04e04faa0d5c4e2ab02bf3a1653d5983": {
     "model_module": "@jupyter-widgets/controls",
     "model_name": "ProgressStyleModel",
     "model_module_version": "1.5.0",
     "state": {
      "_model_module": "@jupyter-widgets/controls",
      "_model_module_version": "1.5.0",
      "_model_name": "ProgressStyleModel",
      "_view_count": null,
      "_view_module": "@jupyter-widgets/base",
      "_view_module_version": "1.2.0",
      "_view_name": "StyleView",
      "bar_color": null,
      "description_width": ""
     }
    },
    "b7fcfae0ec26422b8798c825f77cb98a": {
     "model_module": "@jupyter-widgets/base",
     "model_name": "LayoutModel",
     "model_module_version": "1.2.0",
     "state": {
      "_model_module": "@jupyter-widgets/base",
      "_model_module_version": "1.2.0",
      "_model_name": "LayoutModel",
      "_view_count": null,
      "_view_module": "@jupyter-widgets/base",
      "_view_module_version": "1.2.0",
      "_view_name": "LayoutView",
      "align_content": null,
      "align_items": null,
      "align_self": null,
      "border": null,
      "bottom": null,
      "display": null,
      "flex": null,
      "flex_flow": null,
      "grid_area": null,
      "grid_auto_columns": null,
      "grid_auto_flow": null,
      "grid_auto_rows": null,
      "grid_column": null,
      "grid_gap": null,
      "grid_row": null,
      "grid_template_areas": null,
      "grid_template_columns": null,
      "grid_template_rows": null,
      "height": null,
      "justify_content": null,
      "justify_items": null,
      "left": null,
      "margin": null,
      "max_height": null,
      "max_width": null,
      "min_height": null,
      "min_width": null,
      "object_fit": null,
      "object_position": null,
      "order": null,
      "overflow": null,
      "overflow_x": null,
      "overflow_y": null,
      "padding": null,
      "right": null,
      "top": null,
      "visibility": null,
      "width": null
     }
    },
    "e40bbf50f15142c4b13501190edd9dd4": {
     "model_module": "@jupyter-widgets/controls",
     "model_name": "DescriptionStyleModel",
     "model_module_version": "1.5.0",
     "state": {
      "_model_module": "@jupyter-widgets/controls",
      "_model_module_version": "1.5.0",
      "_model_name": "DescriptionStyleModel",
      "_view_count": null,
      "_view_module": "@jupyter-widgets/base",
      "_view_module_version": "1.2.0",
      "_view_name": "StyleView",
      "description_width": ""
     }
    },
    "f76350e4f6fa47bb8788c1de7349543e": {
     "model_module": "@jupyter-widgets/controls",
     "model_name": "HBoxModel",
     "model_module_version": "1.5.0",
     "state": {
      "_dom_classes": [],
      "_model_module": "@jupyter-widgets/controls",
      "_model_module_version": "1.5.0",
      "_model_name": "HBoxModel",
      "_view_count": null,
      "_view_module": "@jupyter-widgets/controls",
      "_view_module_version": "1.5.0",
      "_view_name": "HBoxView",
      "box_style": "",
      "children": [
       "IPY_MODEL_9473e6ae07e7456789bfc2a03a682121",
       "IPY_MODEL_60838eb3605a440a862aedec2063781c",
       "IPY_MODEL_7e4a660bd4424973b011711d7f55a2e2"
      ],
      "layout": "IPY_MODEL_fa23d6fd83ef49eca26f7e1338752ff2"
     }
    },
    "9473e6ae07e7456789bfc2a03a682121": {
     "model_module": "@jupyter-widgets/controls",
     "model_name": "HTMLModel",
     "model_module_version": "1.5.0",
     "state": {
      "_dom_classes": [],
      "_model_module": "@jupyter-widgets/controls",
      "_model_module_version": "1.5.0",
      "_model_name": "HTMLModel",
      "_view_count": null,
      "_view_module": "@jupyter-widgets/controls",
      "_view_module_version": "1.5.0",
      "_view_name": "HTMLView",
      "description": "",
      "description_tooltip": null,
      "layout": "IPY_MODEL_dfc86ac97e2d456a8ed035dd52d249b8",
      "placeholder": "​",
      "style": "IPY_MODEL_97efe363766e4b22944e10e67ed67214",
      "value": "Train Epoch 123/128: 100%"
     }
    },
    "60838eb3605a440a862aedec2063781c": {
     "model_module": "@jupyter-widgets/controls",
     "model_name": "FloatProgressModel",
     "model_module_version": "1.5.0",
     "state": {
      "_dom_classes": [],
      "_model_module": "@jupyter-widgets/controls",
      "_model_module_version": "1.5.0",
      "_model_name": "FloatProgressModel",
      "_view_count": null,
      "_view_module": "@jupyter-widgets/controls",
      "_view_module_version": "1.5.0",
      "_view_name": "ProgressView",
      "bar_style": "success",
      "description": "",
      "description_tooltip": null,
      "layout": "IPY_MODEL_a0b86c7b4d4f44d79f8f213f1566bd08",
      "max": 34,
      "min": 0,
      "orientation": "horizontal",
      "style": "IPY_MODEL_fe64467b008a451fa7d676db30a40a46",
      "value": 34
     }
    },
    "7e4a660bd4424973b011711d7f55a2e2": {
     "model_module": "@jupyter-widgets/controls",
     "model_name": "HTMLModel",
     "model_module_version": "1.5.0",
     "state": {
      "_dom_classes": [],
      "_model_module": "@jupyter-widgets/controls",
      "_model_module_version": "1.5.0",
      "_model_name": "HTMLModel",
      "_view_count": null,
      "_view_module": "@jupyter-widgets/controls",
      "_view_module_version": "1.5.0",
      "_view_name": "HTMLView",
      "description": "",
      "description_tooltip": null,
      "layout": "IPY_MODEL_bb2dd11e62114ca99afb76cbfd54e9fe",
      "placeholder": "​",
      "style": "IPY_MODEL_a00f160492164cefbb61153d96b01c3e",
      "value": " 34/34 [04:58&lt;00:00,  7.41s/ba, loss=2.3284]"
     }
    },
    "fa23d6fd83ef49eca26f7e1338752ff2": {
     "model_module": "@jupyter-widgets/base",
     "model_name": "LayoutModel",
     "model_module_version": "1.2.0",
     "state": {
      "_model_module": "@jupyter-widgets/base",
      "_model_module_version": "1.2.0",
      "_model_name": "LayoutModel",
      "_view_count": null,
      "_view_module": "@jupyter-widgets/base",
      "_view_module_version": "1.2.0",
      "_view_name": "LayoutView",
      "align_content": null,
      "align_items": null,
      "align_self": null,
      "border": null,
      "bottom": null,
      "display": null,
      "flex": null,
      "flex_flow": null,
      "grid_area": null,
      "grid_auto_columns": null,
      "grid_auto_flow": null,
      "grid_auto_rows": null,
      "grid_column": null,
      "grid_gap": null,
      "grid_row": null,
      "grid_template_areas": null,
      "grid_template_columns": null,
      "grid_template_rows": null,
      "height": null,
      "justify_content": null,
      "justify_items": null,
      "left": null,
      "margin": null,
      "max_height": null,
      "max_width": null,
      "min_height": null,
      "min_width": null,
      "object_fit": null,
      "object_position": null,
      "order": null,
      "overflow": null,
      "overflow_x": null,
      "overflow_y": null,
      "padding": null,
      "right": null,
      "top": null,
      "visibility": null,
      "width": null
     }
    },
    "dfc86ac97e2d456a8ed035dd52d249b8": {
     "model_module": "@jupyter-widgets/base",
     "model_name": "LayoutModel",
     "model_module_version": "1.2.0",
     "state": {
      "_model_module": "@jupyter-widgets/base",
      "_model_module_version": "1.2.0",
      "_model_name": "LayoutModel",
      "_view_count": null,
      "_view_module": "@jupyter-widgets/base",
      "_view_module_version": "1.2.0",
      "_view_name": "LayoutView",
      "align_content": null,
      "align_items": null,
      "align_self": null,
      "border": null,
      "bottom": null,
      "display": null,
      "flex": null,
      "flex_flow": null,
      "grid_area": null,
      "grid_auto_columns": null,
      "grid_auto_flow": null,
      "grid_auto_rows": null,
      "grid_column": null,
      "grid_gap": null,
      "grid_row": null,
      "grid_template_areas": null,
      "grid_template_columns": null,
      "grid_template_rows": null,
      "height": null,
      "justify_content": null,
      "justify_items": null,
      "left": null,
      "margin": null,
      "max_height": null,
      "max_width": null,
      "min_height": null,
      "min_width": null,
      "object_fit": null,
      "object_position": null,
      "order": null,
      "overflow": null,
      "overflow_x": null,
      "overflow_y": null,
      "padding": null,
      "right": null,
      "top": null,
      "visibility": null,
      "width": null
     }
    },
    "97efe363766e4b22944e10e67ed67214": {
     "model_module": "@jupyter-widgets/controls",
     "model_name": "DescriptionStyleModel",
     "model_module_version": "1.5.0",
     "state": {
      "_model_module": "@jupyter-widgets/controls",
      "_model_module_version": "1.5.0",
      "_model_name": "DescriptionStyleModel",
      "_view_count": null,
      "_view_module": "@jupyter-widgets/base",
      "_view_module_version": "1.2.0",
      "_view_name": "StyleView",
      "description_width": ""
     }
    },
    "a0b86c7b4d4f44d79f8f213f1566bd08": {
     "model_module": "@jupyter-widgets/base",
     "model_name": "LayoutModel",
     "model_module_version": "1.2.0",
     "state": {
      "_model_module": "@jupyter-widgets/base",
      "_model_module_version": "1.2.0",
      "_model_name": "LayoutModel",
      "_view_count": null,
      "_view_module": "@jupyter-widgets/base",
      "_view_module_version": "1.2.0",
      "_view_name": "LayoutView",
      "align_content": null,
      "align_items": null,
      "align_self": null,
      "border": null,
      "bottom": null,
      "display": null,
      "flex": null,
      "flex_flow": null,
      "grid_area": null,
      "grid_auto_columns": null,
      "grid_auto_flow": null,
      "grid_auto_rows": null,
      "grid_column": null,
      "grid_gap": null,
      "grid_row": null,
      "grid_template_areas": null,
      "grid_template_columns": null,
      "grid_template_rows": null,
      "height": null,
      "justify_content": null,
      "justify_items": null,
      "left": null,
      "margin": null,
      "max_height": null,
      "max_width": null,
      "min_height": null,
      "min_width": null,
      "object_fit": null,
      "object_position": null,
      "order": null,
      "overflow": null,
      "overflow_x": null,
      "overflow_y": null,
      "padding": null,
      "right": null,
      "top": null,
      "visibility": null,
      "width": null
     }
    },
    "fe64467b008a451fa7d676db30a40a46": {
     "model_module": "@jupyter-widgets/controls",
     "model_name": "ProgressStyleModel",
     "model_module_version": "1.5.0",
     "state": {
      "_model_module": "@jupyter-widgets/controls",
      "_model_module_version": "1.5.0",
      "_model_name": "ProgressStyleModel",
      "_view_count": null,
      "_view_module": "@jupyter-widgets/base",
      "_view_module_version": "1.2.0",
      "_view_name": "StyleView",
      "bar_color": null,
      "description_width": ""
     }
    },
    "bb2dd11e62114ca99afb76cbfd54e9fe": {
     "model_module": "@jupyter-widgets/base",
     "model_name": "LayoutModel",
     "model_module_version": "1.2.0",
     "state": {
      "_model_module": "@jupyter-widgets/base",
      "_model_module_version": "1.2.0",
      "_model_name": "LayoutModel",
      "_view_count": null,
      "_view_module": "@jupyter-widgets/base",
      "_view_module_version": "1.2.0",
      "_view_name": "LayoutView",
      "align_content": null,
      "align_items": null,
      "align_self": null,
      "border": null,
      "bottom": null,
      "display": null,
      "flex": null,
      "flex_flow": null,
      "grid_area": null,
      "grid_auto_columns": null,
      "grid_auto_flow": null,
      "grid_auto_rows": null,
      "grid_column": null,
      "grid_gap": null,
      "grid_row": null,
      "grid_template_areas": null,
      "grid_template_columns": null,
      "grid_template_rows": null,
      "height": null,
      "justify_content": null,
      "justify_items": null,
      "left": null,
      "margin": null,
      "max_height": null,
      "max_width": null,
      "min_height": null,
      "min_width": null,
      "object_fit": null,
      "object_position": null,
      "order": null,
      "overflow": null,
      "overflow_x": null,
      "overflow_y": null,
      "padding": null,
      "right": null,
      "top": null,
      "visibility": null,
      "width": null
     }
    },
    "a00f160492164cefbb61153d96b01c3e": {
     "model_module": "@jupyter-widgets/controls",
     "model_name": "DescriptionStyleModel",
     "model_module_version": "1.5.0",
     "state": {
      "_model_module": "@jupyter-widgets/controls",
      "_model_module_version": "1.5.0",
      "_model_name": "DescriptionStyleModel",
      "_view_count": null,
      "_view_module": "@jupyter-widgets/base",
      "_view_module_version": "1.2.0",
      "_view_name": "StyleView",
      "description_width": ""
     }
    },
    "cc3987877a364de59999f4c6cd1b05a0": {
     "model_module": "@jupyter-widgets/controls",
     "model_name": "HBoxModel",
     "model_module_version": "1.5.0",
     "state": {
      "_dom_classes": [],
      "_model_module": "@jupyter-widgets/controls",
      "_model_module_version": "1.5.0",
      "_model_name": "HBoxModel",
      "_view_count": null,
      "_view_module": "@jupyter-widgets/controls",
      "_view_module_version": "1.5.0",
      "_view_name": "HBoxView",
      "box_style": "",
      "children": [
       "IPY_MODEL_047d95cf22654834855c0296972230b6",
       "IPY_MODEL_5a35a80de6204e7aa64e201040e1b8e2",
       "IPY_MODEL_f186120dd39145c6a4d4e79a532a2910"
      ],
      "layout": "IPY_MODEL_7db4f1d8882d4f0eb808c80636982537"
     }
    },
    "047d95cf22654834855c0296972230b6": {
     "model_module": "@jupyter-widgets/controls",
     "model_name": "HTMLModel",
     "model_module_version": "1.5.0",
     "state": {
      "_dom_classes": [],
      "_model_module": "@jupyter-widgets/controls",
      "_model_module_version": "1.5.0",
      "_model_name": "HTMLModel",
      "_view_count": null,
      "_view_module": "@jupyter-widgets/controls",
      "_view_module_version": "1.5.0",
      "_view_name": "HTMLView",
      "description": "",
      "description_tooltip": null,
      "layout": "IPY_MODEL_8283175a2edb4a3d900eb700b1672c10",
      "placeholder": "​",
      "style": "IPY_MODEL_2c881fa3a89745b08657643e55f85592",
      "value": "Eval Epoch 123/128: 100%"
     }
    },
    "5a35a80de6204e7aa64e201040e1b8e2": {
     "model_module": "@jupyter-widgets/controls",
     "model_name": "FloatProgressModel",
     "model_module_version": "1.5.0",
     "state": {
      "_dom_classes": [],
      "_model_module": "@jupyter-widgets/controls",
      "_model_module_version": "1.5.0",
      "_model_name": "FloatProgressModel",
      "_view_count": null,
      "_view_module": "@jupyter-widgets/controls",
      "_view_module_version": "1.5.0",
      "_view_name": "ProgressView",
      "bar_style": "success",
      "description": "",
      "description_tooltip": null,
      "layout": "IPY_MODEL_156940839ee24f97b4a9a2448d4ebe63",
      "max": 2,
      "min": 0,
      "orientation": "horizontal",
      "style": "IPY_MODEL_485defb4f143476abfd7a7e1483c3fe1",
      "value": 2
     }
    },
    "f186120dd39145c6a4d4e79a532a2910": {
     "model_module": "@jupyter-widgets/controls",
     "model_name": "HTMLModel",
     "model_module_version": "1.5.0",
     "state": {
      "_dom_classes": [],
      "_model_module": "@jupyter-widgets/controls",
      "_model_module_version": "1.5.0",
      "_model_name": "HTMLModel",
      "_view_count": null,
      "_view_module": "@jupyter-widgets/controls",
      "_view_module_version": "1.5.0",
      "_view_name": "HTMLView",
      "description": "",
      "description_tooltip": null,
      "layout": "IPY_MODEL_02a1735fa15744dc9adff99e696d9c85",
      "placeholder": "​",
      "style": "IPY_MODEL_07aee5deab314d379c61fc3c532a617d",
      "value": " 2/2 [00:01&lt;00:00,  3.61ba/s, loss=2.2461, ntp_acc=38.04, ikr=50.84]"
     }
    },
    "7db4f1d8882d4f0eb808c80636982537": {
     "model_module": "@jupyter-widgets/base",
     "model_name": "LayoutModel",
     "model_module_version": "1.2.0",
     "state": {
      "_model_module": "@jupyter-widgets/base",
      "_model_module_version": "1.2.0",
      "_model_name": "LayoutModel",
      "_view_count": null,
      "_view_module": "@jupyter-widgets/base",
      "_view_module_version": "1.2.0",
      "_view_name": "LayoutView",
      "align_content": null,
      "align_items": null,
      "align_self": null,
      "border": null,
      "bottom": null,
      "display": null,
      "flex": null,
      "flex_flow": null,
      "grid_area": null,
      "grid_auto_columns": null,
      "grid_auto_flow": null,
      "grid_auto_rows": null,
      "grid_column": null,
      "grid_gap": null,
      "grid_row": null,
      "grid_template_areas": null,
      "grid_template_columns": null,
      "grid_template_rows": null,
      "height": null,
      "justify_content": null,
      "justify_items": null,
      "left": null,
      "margin": null,
      "max_height": null,
      "max_width": null,
      "min_height": null,
      "min_width": null,
      "object_fit": null,
      "object_position": null,
      "order": null,
      "overflow": null,
      "overflow_x": null,
      "overflow_y": null,
      "padding": null,
      "right": null,
      "top": null,
      "visibility": null,
      "width": null
     }
    },
    "8283175a2edb4a3d900eb700b1672c10": {
     "model_module": "@jupyter-widgets/base",
     "model_name": "LayoutModel",
     "model_module_version": "1.2.0",
     "state": {
      "_model_module": "@jupyter-widgets/base",
      "_model_module_version": "1.2.0",
      "_model_name": "LayoutModel",
      "_view_count": null,
      "_view_module": "@jupyter-widgets/base",
      "_view_module_version": "1.2.0",
      "_view_name": "LayoutView",
      "align_content": null,
      "align_items": null,
      "align_self": null,
      "border": null,
      "bottom": null,
      "display": null,
      "flex": null,
      "flex_flow": null,
      "grid_area": null,
      "grid_auto_columns": null,
      "grid_auto_flow": null,
      "grid_auto_rows": null,
      "grid_column": null,
      "grid_gap": null,
      "grid_row": null,
      "grid_template_areas": null,
      "grid_template_columns": null,
      "grid_template_rows": null,
      "height": null,
      "justify_content": null,
      "justify_items": null,
      "left": null,
      "margin": null,
      "max_height": null,
      "max_width": null,
      "min_height": null,
      "min_width": null,
      "object_fit": null,
      "object_position": null,
      "order": null,
      "overflow": null,
      "overflow_x": null,
      "overflow_y": null,
      "padding": null,
      "right": null,
      "top": null,
      "visibility": null,
      "width": null
     }
    },
    "2c881fa3a89745b08657643e55f85592": {
     "model_module": "@jupyter-widgets/controls",
     "model_name": "DescriptionStyleModel",
     "model_module_version": "1.5.0",
     "state": {
      "_model_module": "@jupyter-widgets/controls",
      "_model_module_version": "1.5.0",
      "_model_name": "DescriptionStyleModel",
      "_view_count": null,
      "_view_module": "@jupyter-widgets/base",
      "_view_module_version": "1.2.0",
      "_view_name": "StyleView",
      "description_width": ""
     }
    },
    "156940839ee24f97b4a9a2448d4ebe63": {
     "model_module": "@jupyter-widgets/base",
     "model_name": "LayoutModel",
     "model_module_version": "1.2.0",
     "state": {
      "_model_module": "@jupyter-widgets/base",
      "_model_module_version": "1.2.0",
      "_model_name": "LayoutModel",
      "_view_count": null,
      "_view_module": "@jupyter-widgets/base",
      "_view_module_version": "1.2.0",
      "_view_name": "LayoutView",
      "align_content": null,
      "align_items": null,
      "align_self": null,
      "border": null,
      "bottom": null,
      "display": null,
      "flex": null,
      "flex_flow": null,
      "grid_area": null,
      "grid_auto_columns": null,
      "grid_auto_flow": null,
      "grid_auto_rows": null,
      "grid_column": null,
      "grid_gap": null,
      "grid_row": null,
      "grid_template_areas": null,
      "grid_template_columns": null,
      "grid_template_rows": null,
      "height": null,
      "justify_content": null,
      "justify_items": null,
      "left": null,
      "margin": null,
      "max_height": null,
      "max_width": null,
      "min_height": null,
      "min_width": null,
      "object_fit": null,
      "object_position": null,
      "order": null,
      "overflow": null,
      "overflow_x": null,
      "overflow_y": null,
      "padding": null,
      "right": null,
      "top": null,
      "visibility": null,
      "width": null
     }
    },
    "485defb4f143476abfd7a7e1483c3fe1": {
     "model_module": "@jupyter-widgets/controls",
     "model_name": "ProgressStyleModel",
     "model_module_version": "1.5.0",
     "state": {
      "_model_module": "@jupyter-widgets/controls",
      "_model_module_version": "1.5.0",
      "_model_name": "ProgressStyleModel",
      "_view_count": null,
      "_view_module": "@jupyter-widgets/base",
      "_view_module_version": "1.2.0",
      "_view_name": "StyleView",
      "bar_color": null,
      "description_width": ""
     }
    },
    "02a1735fa15744dc9adff99e696d9c85": {
     "model_module": "@jupyter-widgets/base",
     "model_name": "LayoutModel",
     "model_module_version": "1.2.0",
     "state": {
      "_model_module": "@jupyter-widgets/base",
      "_model_module_version": "1.2.0",
      "_model_name": "LayoutModel",
      "_view_count": null,
      "_view_module": "@jupyter-widgets/base",
      "_view_module_version": "1.2.0",
      "_view_name": "LayoutView",
      "align_content": null,
      "align_items": null,
      "align_self": null,
      "border": null,
      "bottom": null,
      "display": null,
      "flex": null,
      "flex_flow": null,
      "grid_area": null,
      "grid_auto_columns": null,
      "grid_auto_flow": null,
      "grid_auto_rows": null,
      "grid_column": null,
      "grid_gap": null,
      "grid_row": null,
      "grid_template_areas": null,
      "grid_template_columns": null,
      "grid_template_rows": null,
      "height": null,
      "justify_content": null,
      "justify_items": null,
      "left": null,
      "margin": null,
      "max_height": null,
      "max_width": null,
      "min_height": null,
      "min_width": null,
      "object_fit": null,
      "object_position": null,
      "order": null,
      "overflow": null,
      "overflow_x": null,
      "overflow_y": null,
      "padding": null,
      "right": null,
      "top": null,
      "visibility": null,
      "width": null
     }
    },
    "07aee5deab314d379c61fc3c532a617d": {
     "model_module": "@jupyter-widgets/controls",
     "model_name": "DescriptionStyleModel",
     "model_module_version": "1.5.0",
     "state": {
      "_model_module": "@jupyter-widgets/controls",
      "_model_module_version": "1.5.0",
      "_model_name": "DescriptionStyleModel",
      "_view_count": null,
      "_view_module": "@jupyter-widgets/base",
      "_view_module_version": "1.2.0",
      "_view_name": "StyleView",
      "description_width": ""
     }
    },
    "93a1c3ab65f143929ee2b24826f2afe6": {
     "model_module": "@jupyter-widgets/controls",
     "model_name": "HBoxModel",
     "model_module_version": "1.5.0",
     "state": {
      "_dom_classes": [],
      "_model_module": "@jupyter-widgets/controls",
      "_model_module_version": "1.5.0",
      "_model_name": "HBoxModel",
      "_view_count": null,
      "_view_module": "@jupyter-widgets/controls",
      "_view_module_version": "1.5.0",
      "_view_name": "HBoxView",
      "box_style": "",
      "children": [
       "IPY_MODEL_99c84d7e57994868aca0386660d88bd0",
       "IPY_MODEL_0e3f31d0cb854896887890a7ada96f33",
       "IPY_MODEL_d7817df3ca78476888d680d4188d0319"
      ],
      "layout": "IPY_MODEL_f8eb3bd923ea4a7f959df7d13b1bf281"
     }
    },
    "99c84d7e57994868aca0386660d88bd0": {
     "model_module": "@jupyter-widgets/controls",
     "model_name": "HTMLModel",
     "model_module_version": "1.5.0",
     "state": {
      "_dom_classes": [],
      "_model_module": "@jupyter-widgets/controls",
      "_model_module_version": "1.5.0",
      "_model_name": "HTMLModel",
      "_view_count": null,
      "_view_module": "@jupyter-widgets/controls",
      "_view_module_version": "1.5.0",
      "_view_name": "HTMLView",
      "description": "",
      "description_tooltip": null,
      "layout": "IPY_MODEL_637905a3d32a4948bd5ec9631fbe11b5",
      "placeholder": "​",
      "style": "IPY_MODEL_3572f6ddffaa425b9840b7194c262eb1",
      "value": "Train Epoch 124/128: 100%"
     }
    },
    "0e3f31d0cb854896887890a7ada96f33": {
     "model_module": "@jupyter-widgets/controls",
     "model_name": "FloatProgressModel",
     "model_module_version": "1.5.0",
     "state": {
      "_dom_classes": [],
      "_model_module": "@jupyter-widgets/controls",
      "_model_module_version": "1.5.0",
      "_model_name": "FloatProgressModel",
      "_view_count": null,
      "_view_module": "@jupyter-widgets/controls",
      "_view_module_version": "1.5.0",
      "_view_name": "ProgressView",
      "bar_style": "success",
      "description": "",
      "description_tooltip": null,
      "layout": "IPY_MODEL_a777c5860fe44ec79d627a265337cb94",
      "max": 34,
      "min": 0,
      "orientation": "horizontal",
      "style": "IPY_MODEL_d3021f615cd54109b56e966c10156345",
      "value": 34
     }
    },
    "d7817df3ca78476888d680d4188d0319": {
     "model_module": "@jupyter-widgets/controls",
     "model_name": "HTMLModel",
     "model_module_version": "1.5.0",
     "state": {
      "_dom_classes": [],
      "_model_module": "@jupyter-widgets/controls",
      "_model_module_version": "1.5.0",
      "_model_name": "HTMLModel",
      "_view_count": null,
      "_view_module": "@jupyter-widgets/controls",
      "_view_module_version": "1.5.0",
      "_view_name": "HTMLView",
      "description": "",
      "description_tooltip": null,
      "layout": "IPY_MODEL_56ccd682243a43b59e27b2252b4d98a5",
      "placeholder": "​",
      "style": "IPY_MODEL_223032ce02a14774be0098d5d5185cf8",
      "value": " 34/34 [04:58&lt;00:00,  7.41s/ba, loss=2.2123]"
     }
    },
    "f8eb3bd923ea4a7f959df7d13b1bf281": {
     "model_module": "@jupyter-widgets/base",
     "model_name": "LayoutModel",
     "model_module_version": "1.2.0",
     "state": {
      "_model_module": "@jupyter-widgets/base",
      "_model_module_version": "1.2.0",
      "_model_name": "LayoutModel",
      "_view_count": null,
      "_view_module": "@jupyter-widgets/base",
      "_view_module_version": "1.2.0",
      "_view_name": "LayoutView",
      "align_content": null,
      "align_items": null,
      "align_self": null,
      "border": null,
      "bottom": null,
      "display": null,
      "flex": null,
      "flex_flow": null,
      "grid_area": null,
      "grid_auto_columns": null,
      "grid_auto_flow": null,
      "grid_auto_rows": null,
      "grid_column": null,
      "grid_gap": null,
      "grid_row": null,
      "grid_template_areas": null,
      "grid_template_columns": null,
      "grid_template_rows": null,
      "height": null,
      "justify_content": null,
      "justify_items": null,
      "left": null,
      "margin": null,
      "max_height": null,
      "max_width": null,
      "min_height": null,
      "min_width": null,
      "object_fit": null,
      "object_position": null,
      "order": null,
      "overflow": null,
      "overflow_x": null,
      "overflow_y": null,
      "padding": null,
      "right": null,
      "top": null,
      "visibility": null,
      "width": null
     }
    },
    "637905a3d32a4948bd5ec9631fbe11b5": {
     "model_module": "@jupyter-widgets/base",
     "model_name": "LayoutModel",
     "model_module_version": "1.2.0",
     "state": {
      "_model_module": "@jupyter-widgets/base",
      "_model_module_version": "1.2.0",
      "_model_name": "LayoutModel",
      "_view_count": null,
      "_view_module": "@jupyter-widgets/base",
      "_view_module_version": "1.2.0",
      "_view_name": "LayoutView",
      "align_content": null,
      "align_items": null,
      "align_self": null,
      "border": null,
      "bottom": null,
      "display": null,
      "flex": null,
      "flex_flow": null,
      "grid_area": null,
      "grid_auto_columns": null,
      "grid_auto_flow": null,
      "grid_auto_rows": null,
      "grid_column": null,
      "grid_gap": null,
      "grid_row": null,
      "grid_template_areas": null,
      "grid_template_columns": null,
      "grid_template_rows": null,
      "height": null,
      "justify_content": null,
      "justify_items": null,
      "left": null,
      "margin": null,
      "max_height": null,
      "max_width": null,
      "min_height": null,
      "min_width": null,
      "object_fit": null,
      "object_position": null,
      "order": null,
      "overflow": null,
      "overflow_x": null,
      "overflow_y": null,
      "padding": null,
      "right": null,
      "top": null,
      "visibility": null,
      "width": null
     }
    },
    "3572f6ddffaa425b9840b7194c262eb1": {
     "model_module": "@jupyter-widgets/controls",
     "model_name": "DescriptionStyleModel",
     "model_module_version": "1.5.0",
     "state": {
      "_model_module": "@jupyter-widgets/controls",
      "_model_module_version": "1.5.0",
      "_model_name": "DescriptionStyleModel",
      "_view_count": null,
      "_view_module": "@jupyter-widgets/base",
      "_view_module_version": "1.2.0",
      "_view_name": "StyleView",
      "description_width": ""
     }
    },
    "a777c5860fe44ec79d627a265337cb94": {
     "model_module": "@jupyter-widgets/base",
     "model_name": "LayoutModel",
     "model_module_version": "1.2.0",
     "state": {
      "_model_module": "@jupyter-widgets/base",
      "_model_module_version": "1.2.0",
      "_model_name": "LayoutModel",
      "_view_count": null,
      "_view_module": "@jupyter-widgets/base",
      "_view_module_version": "1.2.0",
      "_view_name": "LayoutView",
      "align_content": null,
      "align_items": null,
      "align_self": null,
      "border": null,
      "bottom": null,
      "display": null,
      "flex": null,
      "flex_flow": null,
      "grid_area": null,
      "grid_auto_columns": null,
      "grid_auto_flow": null,
      "grid_auto_rows": null,
      "grid_column": null,
      "grid_gap": null,
      "grid_row": null,
      "grid_template_areas": null,
      "grid_template_columns": null,
      "grid_template_rows": null,
      "height": null,
      "justify_content": null,
      "justify_items": null,
      "left": null,
      "margin": null,
      "max_height": null,
      "max_width": null,
      "min_height": null,
      "min_width": null,
      "object_fit": null,
      "object_position": null,
      "order": null,
      "overflow": null,
      "overflow_x": null,
      "overflow_y": null,
      "padding": null,
      "right": null,
      "top": null,
      "visibility": null,
      "width": null
     }
    },
    "d3021f615cd54109b56e966c10156345": {
     "model_module": "@jupyter-widgets/controls",
     "model_name": "ProgressStyleModel",
     "model_module_version": "1.5.0",
     "state": {
      "_model_module": "@jupyter-widgets/controls",
      "_model_module_version": "1.5.0",
      "_model_name": "ProgressStyleModel",
      "_view_count": null,
      "_view_module": "@jupyter-widgets/base",
      "_view_module_version": "1.2.0",
      "_view_name": "StyleView",
      "bar_color": null,
      "description_width": ""
     }
    },
    "56ccd682243a43b59e27b2252b4d98a5": {
     "model_module": "@jupyter-widgets/base",
     "model_name": "LayoutModel",
     "model_module_version": "1.2.0",
     "state": {
      "_model_module": "@jupyter-widgets/base",
      "_model_module_version": "1.2.0",
      "_model_name": "LayoutModel",
      "_view_count": null,
      "_view_module": "@jupyter-widgets/base",
      "_view_module_version": "1.2.0",
      "_view_name": "LayoutView",
      "align_content": null,
      "align_items": null,
      "align_self": null,
      "border": null,
      "bottom": null,
      "display": null,
      "flex": null,
      "flex_flow": null,
      "grid_area": null,
      "grid_auto_columns": null,
      "grid_auto_flow": null,
      "grid_auto_rows": null,
      "grid_column": null,
      "grid_gap": null,
      "grid_row": null,
      "grid_template_areas": null,
      "grid_template_columns": null,
      "grid_template_rows": null,
      "height": null,
      "justify_content": null,
      "justify_items": null,
      "left": null,
      "margin": null,
      "max_height": null,
      "max_width": null,
      "min_height": null,
      "min_width": null,
      "object_fit": null,
      "object_position": null,
      "order": null,
      "overflow": null,
      "overflow_x": null,
      "overflow_y": null,
      "padding": null,
      "right": null,
      "top": null,
      "visibility": null,
      "width": null
     }
    },
    "223032ce02a14774be0098d5d5185cf8": {
     "model_module": "@jupyter-widgets/controls",
     "model_name": "DescriptionStyleModel",
     "model_module_version": "1.5.0",
     "state": {
      "_model_module": "@jupyter-widgets/controls",
      "_model_module_version": "1.5.0",
      "_model_name": "DescriptionStyleModel",
      "_view_count": null,
      "_view_module": "@jupyter-widgets/base",
      "_view_module_version": "1.2.0",
      "_view_name": "StyleView",
      "description_width": ""
     }
    },
    "48c33447f5444381a0aa28a12dc8dc1f": {
     "model_module": "@jupyter-widgets/controls",
     "model_name": "HBoxModel",
     "model_module_version": "1.5.0",
     "state": {
      "_dom_classes": [],
      "_model_module": "@jupyter-widgets/controls",
      "_model_module_version": "1.5.0",
      "_model_name": "HBoxModel",
      "_view_count": null,
      "_view_module": "@jupyter-widgets/controls",
      "_view_module_version": "1.5.0",
      "_view_name": "HBoxView",
      "box_style": "",
      "children": [
       "IPY_MODEL_002345b38258438ab0a78397cafe0449",
       "IPY_MODEL_d13696db9fbd4b84a3d79c1f893ee83a",
       "IPY_MODEL_020e38257cab4b6a911d27ec97cac6d3"
      ],
      "layout": "IPY_MODEL_2abe0e5c573b4a418dd12e9e9e7fa1ac"
     }
    },
    "002345b38258438ab0a78397cafe0449": {
     "model_module": "@jupyter-widgets/controls",
     "model_name": "HTMLModel",
     "model_module_version": "1.5.0",
     "state": {
      "_dom_classes": [],
      "_model_module": "@jupyter-widgets/controls",
      "_model_module_version": "1.5.0",
      "_model_name": "HTMLModel",
      "_view_count": null,
      "_view_module": "@jupyter-widgets/controls",
      "_view_module_version": "1.5.0",
      "_view_name": "HTMLView",
      "description": "",
      "description_tooltip": null,
      "layout": "IPY_MODEL_9cd3fab323504c52ab3bb317e5b86fa5",
      "placeholder": "​",
      "style": "IPY_MODEL_8a978063a3bd4068a24cbabcfa8f3b47",
      "value": "Eval Epoch 124/128: 100%"
     }
    },
    "d13696db9fbd4b84a3d79c1f893ee83a": {
     "model_module": "@jupyter-widgets/controls",
     "model_name": "FloatProgressModel",
     "model_module_version": "1.5.0",
     "state": {
      "_dom_classes": [],
      "_model_module": "@jupyter-widgets/controls",
      "_model_module_version": "1.5.0",
      "_model_name": "FloatProgressModel",
      "_view_count": null,
      "_view_module": "@jupyter-widgets/controls",
      "_view_module_version": "1.5.0",
      "_view_name": "ProgressView",
      "bar_style": "success",
      "description": "",
      "description_tooltip": null,
      "layout": "IPY_MODEL_f7581eeff02b4cec892ebac10027d9dd",
      "max": 2,
      "min": 0,
      "orientation": "horizontal",
      "style": "IPY_MODEL_4fcdbda1d0b34181af23792f2e6c6c0d",
      "value": 2
     }
    },
    "020e38257cab4b6a911d27ec97cac6d3": {
     "model_module": "@jupyter-widgets/controls",
     "model_name": "HTMLModel",
     "model_module_version": "1.5.0",
     "state": {
      "_dom_classes": [],
      "_model_module": "@jupyter-widgets/controls",
      "_model_module_version": "1.5.0",
      "_model_name": "HTMLModel",
      "_view_count": null,
      "_view_module": "@jupyter-widgets/controls",
      "_view_module_version": "1.5.0",
      "_view_name": "HTMLView",
      "description": "",
      "description_tooltip": null,
      "layout": "IPY_MODEL_c527e418bd664ff58b94ffd9db44b760",
      "placeholder": "​",
      "style": "IPY_MODEL_b459a007ff3e41f29da487d0e68794a1",
      "value": " 2/2 [00:01&lt;00:00,  3.53ba/s, loss=2.2453, ntp_acc=38.07, ikr=50.90]"
     }
    },
    "2abe0e5c573b4a418dd12e9e9e7fa1ac": {
     "model_module": "@jupyter-widgets/base",
     "model_name": "LayoutModel",
     "model_module_version": "1.2.0",
     "state": {
      "_model_module": "@jupyter-widgets/base",
      "_model_module_version": "1.2.0",
      "_model_name": "LayoutModel",
      "_view_count": null,
      "_view_module": "@jupyter-widgets/base",
      "_view_module_version": "1.2.0",
      "_view_name": "LayoutView",
      "align_content": null,
      "align_items": null,
      "align_self": null,
      "border": null,
      "bottom": null,
      "display": null,
      "flex": null,
      "flex_flow": null,
      "grid_area": null,
      "grid_auto_columns": null,
      "grid_auto_flow": null,
      "grid_auto_rows": null,
      "grid_column": null,
      "grid_gap": null,
      "grid_row": null,
      "grid_template_areas": null,
      "grid_template_columns": null,
      "grid_template_rows": null,
      "height": null,
      "justify_content": null,
      "justify_items": null,
      "left": null,
      "margin": null,
      "max_height": null,
      "max_width": null,
      "min_height": null,
      "min_width": null,
      "object_fit": null,
      "object_position": null,
      "order": null,
      "overflow": null,
      "overflow_x": null,
      "overflow_y": null,
      "padding": null,
      "right": null,
      "top": null,
      "visibility": null,
      "width": null
     }
    },
    "9cd3fab323504c52ab3bb317e5b86fa5": {
     "model_module": "@jupyter-widgets/base",
     "model_name": "LayoutModel",
     "model_module_version": "1.2.0",
     "state": {
      "_model_module": "@jupyter-widgets/base",
      "_model_module_version": "1.2.0",
      "_model_name": "LayoutModel",
      "_view_count": null,
      "_view_module": "@jupyter-widgets/base",
      "_view_module_version": "1.2.0",
      "_view_name": "LayoutView",
      "align_content": null,
      "align_items": null,
      "align_self": null,
      "border": null,
      "bottom": null,
      "display": null,
      "flex": null,
      "flex_flow": null,
      "grid_area": null,
      "grid_auto_columns": null,
      "grid_auto_flow": null,
      "grid_auto_rows": null,
      "grid_column": null,
      "grid_gap": null,
      "grid_row": null,
      "grid_template_areas": null,
      "grid_template_columns": null,
      "grid_template_rows": null,
      "height": null,
      "justify_content": null,
      "justify_items": null,
      "left": null,
      "margin": null,
      "max_height": null,
      "max_width": null,
      "min_height": null,
      "min_width": null,
      "object_fit": null,
      "object_position": null,
      "order": null,
      "overflow": null,
      "overflow_x": null,
      "overflow_y": null,
      "padding": null,
      "right": null,
      "top": null,
      "visibility": null,
      "width": null
     }
    },
    "8a978063a3bd4068a24cbabcfa8f3b47": {
     "model_module": "@jupyter-widgets/controls",
     "model_name": "DescriptionStyleModel",
     "model_module_version": "1.5.0",
     "state": {
      "_model_module": "@jupyter-widgets/controls",
      "_model_module_version": "1.5.0",
      "_model_name": "DescriptionStyleModel",
      "_view_count": null,
      "_view_module": "@jupyter-widgets/base",
      "_view_module_version": "1.2.0",
      "_view_name": "StyleView",
      "description_width": ""
     }
    },
    "f7581eeff02b4cec892ebac10027d9dd": {
     "model_module": "@jupyter-widgets/base",
     "model_name": "LayoutModel",
     "model_module_version": "1.2.0",
     "state": {
      "_model_module": "@jupyter-widgets/base",
      "_model_module_version": "1.2.0",
      "_model_name": "LayoutModel",
      "_view_count": null,
      "_view_module": "@jupyter-widgets/base",
      "_view_module_version": "1.2.0",
      "_view_name": "LayoutView",
      "align_content": null,
      "align_items": null,
      "align_self": null,
      "border": null,
      "bottom": null,
      "display": null,
      "flex": null,
      "flex_flow": null,
      "grid_area": null,
      "grid_auto_columns": null,
      "grid_auto_flow": null,
      "grid_auto_rows": null,
      "grid_column": null,
      "grid_gap": null,
      "grid_row": null,
      "grid_template_areas": null,
      "grid_template_columns": null,
      "grid_template_rows": null,
      "height": null,
      "justify_content": null,
      "justify_items": null,
      "left": null,
      "margin": null,
      "max_height": null,
      "max_width": null,
      "min_height": null,
      "min_width": null,
      "object_fit": null,
      "object_position": null,
      "order": null,
      "overflow": null,
      "overflow_x": null,
      "overflow_y": null,
      "padding": null,
      "right": null,
      "top": null,
      "visibility": null,
      "width": null
     }
    },
    "4fcdbda1d0b34181af23792f2e6c6c0d": {
     "model_module": "@jupyter-widgets/controls",
     "model_name": "ProgressStyleModel",
     "model_module_version": "1.5.0",
     "state": {
      "_model_module": "@jupyter-widgets/controls",
      "_model_module_version": "1.5.0",
      "_model_name": "ProgressStyleModel",
      "_view_count": null,
      "_view_module": "@jupyter-widgets/base",
      "_view_module_version": "1.2.0",
      "_view_name": "StyleView",
      "bar_color": null,
      "description_width": ""
     }
    },
    "c527e418bd664ff58b94ffd9db44b760": {
     "model_module": "@jupyter-widgets/base",
     "model_name": "LayoutModel",
     "model_module_version": "1.2.0",
     "state": {
      "_model_module": "@jupyter-widgets/base",
      "_model_module_version": "1.2.0",
      "_model_name": "LayoutModel",
      "_view_count": null,
      "_view_module": "@jupyter-widgets/base",
      "_view_module_version": "1.2.0",
      "_view_name": "LayoutView",
      "align_content": null,
      "align_items": null,
      "align_self": null,
      "border": null,
      "bottom": null,
      "display": null,
      "flex": null,
      "flex_flow": null,
      "grid_area": null,
      "grid_auto_columns": null,
      "grid_auto_flow": null,
      "grid_auto_rows": null,
      "grid_column": null,
      "grid_gap": null,
      "grid_row": null,
      "grid_template_areas": null,
      "grid_template_columns": null,
      "grid_template_rows": null,
      "height": null,
      "justify_content": null,
      "justify_items": null,
      "left": null,
      "margin": null,
      "max_height": null,
      "max_width": null,
      "min_height": null,
      "min_width": null,
      "object_fit": null,
      "object_position": null,
      "order": null,
      "overflow": null,
      "overflow_x": null,
      "overflow_y": null,
      "padding": null,
      "right": null,
      "top": null,
      "visibility": null,
      "width": null
     }
    },
    "b459a007ff3e41f29da487d0e68794a1": {
     "model_module": "@jupyter-widgets/controls",
     "model_name": "DescriptionStyleModel",
     "model_module_version": "1.5.0",
     "state": {
      "_model_module": "@jupyter-widgets/controls",
      "_model_module_version": "1.5.0",
      "_model_name": "DescriptionStyleModel",
      "_view_count": null,
      "_view_module": "@jupyter-widgets/base",
      "_view_module_version": "1.2.0",
      "_view_name": "StyleView",
      "description_width": ""
     }
    },
    "9eb9e82416214ab5abdfc476b5c80c8f": {
     "model_module": "@jupyter-widgets/controls",
     "model_name": "HBoxModel",
     "model_module_version": "1.5.0",
     "state": {
      "_dom_classes": [],
      "_model_module": "@jupyter-widgets/controls",
      "_model_module_version": "1.5.0",
      "_model_name": "HBoxModel",
      "_view_count": null,
      "_view_module": "@jupyter-widgets/controls",
      "_view_module_version": "1.5.0",
      "_view_name": "HBoxView",
      "box_style": "",
      "children": [
       "IPY_MODEL_0d877788df0443a78a0cb83f3cee3745",
       "IPY_MODEL_28cf854700ae4bfc844960534e5f1dc5",
       "IPY_MODEL_6ec51657e2a444f9b6aecb5c40b4b03f"
      ],
      "layout": "IPY_MODEL_8cc13f640bd84d2893282507fc54df0f"
     }
    },
    "0d877788df0443a78a0cb83f3cee3745": {
     "model_module": "@jupyter-widgets/controls",
     "model_name": "HTMLModel",
     "model_module_version": "1.5.0",
     "state": {
      "_dom_classes": [],
      "_model_module": "@jupyter-widgets/controls",
      "_model_module_version": "1.5.0",
      "_model_name": "HTMLModel",
      "_view_count": null,
      "_view_module": "@jupyter-widgets/controls",
      "_view_module_version": "1.5.0",
      "_view_name": "HTMLView",
      "description": "",
      "description_tooltip": null,
      "layout": "IPY_MODEL_6224dc6a4a3d465fa8e5563449700ef3",
      "placeholder": "​",
      "style": "IPY_MODEL_b5db8fff3a8f4002bd6f6695834f7fa3",
      "value": "Train Epoch 125/128: 100%"
     }
    },
    "28cf854700ae4bfc844960534e5f1dc5": {
     "model_module": "@jupyter-widgets/controls",
     "model_name": "FloatProgressModel",
     "model_module_version": "1.5.0",
     "state": {
      "_dom_classes": [],
      "_model_module": "@jupyter-widgets/controls",
      "_model_module_version": "1.5.0",
      "_model_name": "FloatProgressModel",
      "_view_count": null,
      "_view_module": "@jupyter-widgets/controls",
      "_view_module_version": "1.5.0",
      "_view_name": "ProgressView",
      "bar_style": "success",
      "description": "",
      "description_tooltip": null,
      "layout": "IPY_MODEL_041cbef2764a4319874faf8fd7b4f933",
      "max": 34,
      "min": 0,
      "orientation": "horizontal",
      "style": "IPY_MODEL_3a1536b55d804df09ce41bf7a143f524",
      "value": 34
     }
    },
    "6ec51657e2a444f9b6aecb5c40b4b03f": {
     "model_module": "@jupyter-widgets/controls",
     "model_name": "HTMLModel",
     "model_module_version": "1.5.0",
     "state": {
      "_dom_classes": [],
      "_model_module": "@jupyter-widgets/controls",
      "_model_module_version": "1.5.0",
      "_model_name": "HTMLModel",
      "_view_count": null,
      "_view_module": "@jupyter-widgets/controls",
      "_view_module_version": "1.5.0",
      "_view_name": "HTMLView",
      "description": "",
      "description_tooltip": null,
      "layout": "IPY_MODEL_3b45c87d04a247949c8ee455a2e48e7d",
      "placeholder": "​",
      "style": "IPY_MODEL_0e848e01cc0743d18d9cfbe4f59600d0",
      "value": " 34/34 [04:58&lt;00:00,  7.40s/ba, loss=2.3334]"
     }
    },
    "8cc13f640bd84d2893282507fc54df0f": {
     "model_module": "@jupyter-widgets/base",
     "model_name": "LayoutModel",
     "model_module_version": "1.2.0",
     "state": {
      "_model_module": "@jupyter-widgets/base",
      "_model_module_version": "1.2.0",
      "_model_name": "LayoutModel",
      "_view_count": null,
      "_view_module": "@jupyter-widgets/base",
      "_view_module_version": "1.2.0",
      "_view_name": "LayoutView",
      "align_content": null,
      "align_items": null,
      "align_self": null,
      "border": null,
      "bottom": null,
      "display": null,
      "flex": null,
      "flex_flow": null,
      "grid_area": null,
      "grid_auto_columns": null,
      "grid_auto_flow": null,
      "grid_auto_rows": null,
      "grid_column": null,
      "grid_gap": null,
      "grid_row": null,
      "grid_template_areas": null,
      "grid_template_columns": null,
      "grid_template_rows": null,
      "height": null,
      "justify_content": null,
      "justify_items": null,
      "left": null,
      "margin": null,
      "max_height": null,
      "max_width": null,
      "min_height": null,
      "min_width": null,
      "object_fit": null,
      "object_position": null,
      "order": null,
      "overflow": null,
      "overflow_x": null,
      "overflow_y": null,
      "padding": null,
      "right": null,
      "top": null,
      "visibility": null,
      "width": null
     }
    },
    "6224dc6a4a3d465fa8e5563449700ef3": {
     "model_module": "@jupyter-widgets/base",
     "model_name": "LayoutModel",
     "model_module_version": "1.2.0",
     "state": {
      "_model_module": "@jupyter-widgets/base",
      "_model_module_version": "1.2.0",
      "_model_name": "LayoutModel",
      "_view_count": null,
      "_view_module": "@jupyter-widgets/base",
      "_view_module_version": "1.2.0",
      "_view_name": "LayoutView",
      "align_content": null,
      "align_items": null,
      "align_self": null,
      "border": null,
      "bottom": null,
      "display": null,
      "flex": null,
      "flex_flow": null,
      "grid_area": null,
      "grid_auto_columns": null,
      "grid_auto_flow": null,
      "grid_auto_rows": null,
      "grid_column": null,
      "grid_gap": null,
      "grid_row": null,
      "grid_template_areas": null,
      "grid_template_columns": null,
      "grid_template_rows": null,
      "height": null,
      "justify_content": null,
      "justify_items": null,
      "left": null,
      "margin": null,
      "max_height": null,
      "max_width": null,
      "min_height": null,
      "min_width": null,
      "object_fit": null,
      "object_position": null,
      "order": null,
      "overflow": null,
      "overflow_x": null,
      "overflow_y": null,
      "padding": null,
      "right": null,
      "top": null,
      "visibility": null,
      "width": null
     }
    },
    "b5db8fff3a8f4002bd6f6695834f7fa3": {
     "model_module": "@jupyter-widgets/controls",
     "model_name": "DescriptionStyleModel",
     "model_module_version": "1.5.0",
     "state": {
      "_model_module": "@jupyter-widgets/controls",
      "_model_module_version": "1.5.0",
      "_model_name": "DescriptionStyleModel",
      "_view_count": null,
      "_view_module": "@jupyter-widgets/base",
      "_view_module_version": "1.2.0",
      "_view_name": "StyleView",
      "description_width": ""
     }
    },
    "041cbef2764a4319874faf8fd7b4f933": {
     "model_module": "@jupyter-widgets/base",
     "model_name": "LayoutModel",
     "model_module_version": "1.2.0",
     "state": {
      "_model_module": "@jupyter-widgets/base",
      "_model_module_version": "1.2.0",
      "_model_name": "LayoutModel",
      "_view_count": null,
      "_view_module": "@jupyter-widgets/base",
      "_view_module_version": "1.2.0",
      "_view_name": "LayoutView",
      "align_content": null,
      "align_items": null,
      "align_self": null,
      "border": null,
      "bottom": null,
      "display": null,
      "flex": null,
      "flex_flow": null,
      "grid_area": null,
      "grid_auto_columns": null,
      "grid_auto_flow": null,
      "grid_auto_rows": null,
      "grid_column": null,
      "grid_gap": null,
      "grid_row": null,
      "grid_template_areas": null,
      "grid_template_columns": null,
      "grid_template_rows": null,
      "height": null,
      "justify_content": null,
      "justify_items": null,
      "left": null,
      "margin": null,
      "max_height": null,
      "max_width": null,
      "min_height": null,
      "min_width": null,
      "object_fit": null,
      "object_position": null,
      "order": null,
      "overflow": null,
      "overflow_x": null,
      "overflow_y": null,
      "padding": null,
      "right": null,
      "top": null,
      "visibility": null,
      "width": null
     }
    },
    "3a1536b55d804df09ce41bf7a143f524": {
     "model_module": "@jupyter-widgets/controls",
     "model_name": "ProgressStyleModel",
     "model_module_version": "1.5.0",
     "state": {
      "_model_module": "@jupyter-widgets/controls",
      "_model_module_version": "1.5.0",
      "_model_name": "ProgressStyleModel",
      "_view_count": null,
      "_view_module": "@jupyter-widgets/base",
      "_view_module_version": "1.2.0",
      "_view_name": "StyleView",
      "bar_color": null,
      "description_width": ""
     }
    },
    "3b45c87d04a247949c8ee455a2e48e7d": {
     "model_module": "@jupyter-widgets/base",
     "model_name": "LayoutModel",
     "model_module_version": "1.2.0",
     "state": {
      "_model_module": "@jupyter-widgets/base",
      "_model_module_version": "1.2.0",
      "_model_name": "LayoutModel",
      "_view_count": null,
      "_view_module": "@jupyter-widgets/base",
      "_view_module_version": "1.2.0",
      "_view_name": "LayoutView",
      "align_content": null,
      "align_items": null,
      "align_self": null,
      "border": null,
      "bottom": null,
      "display": null,
      "flex": null,
      "flex_flow": null,
      "grid_area": null,
      "grid_auto_columns": null,
      "grid_auto_flow": null,
      "grid_auto_rows": null,
      "grid_column": null,
      "grid_gap": null,
      "grid_row": null,
      "grid_template_areas": null,
      "grid_template_columns": null,
      "grid_template_rows": null,
      "height": null,
      "justify_content": null,
      "justify_items": null,
      "left": null,
      "margin": null,
      "max_height": null,
      "max_width": null,
      "min_height": null,
      "min_width": null,
      "object_fit": null,
      "object_position": null,
      "order": null,
      "overflow": null,
      "overflow_x": null,
      "overflow_y": null,
      "padding": null,
      "right": null,
      "top": null,
      "visibility": null,
      "width": null
     }
    },
    "0e848e01cc0743d18d9cfbe4f59600d0": {
     "model_module": "@jupyter-widgets/controls",
     "model_name": "DescriptionStyleModel",
     "model_module_version": "1.5.0",
     "state": {
      "_model_module": "@jupyter-widgets/controls",
      "_model_module_version": "1.5.0",
      "_model_name": "DescriptionStyleModel",
      "_view_count": null,
      "_view_module": "@jupyter-widgets/base",
      "_view_module_version": "1.2.0",
      "_view_name": "StyleView",
      "description_width": ""
     }
    },
    "414d4106dfb3484485691f24db02d100": {
     "model_module": "@jupyter-widgets/controls",
     "model_name": "HBoxModel",
     "model_module_version": "1.5.0",
     "state": {
      "_dom_classes": [],
      "_model_module": "@jupyter-widgets/controls",
      "_model_module_version": "1.5.0",
      "_model_name": "HBoxModel",
      "_view_count": null,
      "_view_module": "@jupyter-widgets/controls",
      "_view_module_version": "1.5.0",
      "_view_name": "HBoxView",
      "box_style": "",
      "children": [
       "IPY_MODEL_b19642acceb647d695797198f4369656",
       "IPY_MODEL_3d82cee4f28a42f9973594089e2124d8",
       "IPY_MODEL_3ff2b0eab4a6451ca09f6c76f6392405"
      ],
      "layout": "IPY_MODEL_a15c7da9a90d45648d00737706b96083"
     }
    },
    "b19642acceb647d695797198f4369656": {
     "model_module": "@jupyter-widgets/controls",
     "model_name": "HTMLModel",
     "model_module_version": "1.5.0",
     "state": {
      "_dom_classes": [],
      "_model_module": "@jupyter-widgets/controls",
      "_model_module_version": "1.5.0",
      "_model_name": "HTMLModel",
      "_view_count": null,
      "_view_module": "@jupyter-widgets/controls",
      "_view_module_version": "1.5.0",
      "_view_name": "HTMLView",
      "description": "",
      "description_tooltip": null,
      "layout": "IPY_MODEL_b8de7f82d99a4f879f56ebfe441d3c7e",
      "placeholder": "​",
      "style": "IPY_MODEL_deb22712b7ea40329b76e4cfe4e78bb5",
      "value": "Eval Epoch 125/128: 100%"
     }
    },
    "3d82cee4f28a42f9973594089e2124d8": {
     "model_module": "@jupyter-widgets/controls",
     "model_name": "FloatProgressModel",
     "model_module_version": "1.5.0",
     "state": {
      "_dom_classes": [],
      "_model_module": "@jupyter-widgets/controls",
      "_model_module_version": "1.5.0",
      "_model_name": "FloatProgressModel",
      "_view_count": null,
      "_view_module": "@jupyter-widgets/controls",
      "_view_module_version": "1.5.0",
      "_view_name": "ProgressView",
      "bar_style": "success",
      "description": "",
      "description_tooltip": null,
      "layout": "IPY_MODEL_5e0d43a48e324ff7bb00c2edebb5014f",
      "max": 2,
      "min": 0,
      "orientation": "horizontal",
      "style": "IPY_MODEL_939259b0ada54901a1ba95615cb92d47",
      "value": 2
     }
    },
    "3ff2b0eab4a6451ca09f6c76f6392405": {
     "model_module": "@jupyter-widgets/controls",
     "model_name": "HTMLModel",
     "model_module_version": "1.5.0",
     "state": {
      "_dom_classes": [],
      "_model_module": "@jupyter-widgets/controls",
      "_model_module_version": "1.5.0",
      "_model_name": "HTMLModel",
      "_view_count": null,
      "_view_module": "@jupyter-widgets/controls",
      "_view_module_version": "1.5.0",
      "_view_name": "HTMLView",
      "description": "",
      "description_tooltip": null,
      "layout": "IPY_MODEL_263b9837942e4972b4abed83943abad5",
      "placeholder": "​",
      "style": "IPY_MODEL_d8f6ead5198c49bc88eb13cfa207dcda",
      "value": " 2/2 [00:01&lt;00:00,  3.55ba/s, loss=2.2460, ntp_acc=37.96, ikr=50.90]"
     }
    },
    "a15c7da9a90d45648d00737706b96083": {
     "model_module": "@jupyter-widgets/base",
     "model_name": "LayoutModel",
     "model_module_version": "1.2.0",
     "state": {
      "_model_module": "@jupyter-widgets/base",
      "_model_module_version": "1.2.0",
      "_model_name": "LayoutModel",
      "_view_count": null,
      "_view_module": "@jupyter-widgets/base",
      "_view_module_version": "1.2.0",
      "_view_name": "LayoutView",
      "align_content": null,
      "align_items": null,
      "align_self": null,
      "border": null,
      "bottom": null,
      "display": null,
      "flex": null,
      "flex_flow": null,
      "grid_area": null,
      "grid_auto_columns": null,
      "grid_auto_flow": null,
      "grid_auto_rows": null,
      "grid_column": null,
      "grid_gap": null,
      "grid_row": null,
      "grid_template_areas": null,
      "grid_template_columns": null,
      "grid_template_rows": null,
      "height": null,
      "justify_content": null,
      "justify_items": null,
      "left": null,
      "margin": null,
      "max_height": null,
      "max_width": null,
      "min_height": null,
      "min_width": null,
      "object_fit": null,
      "object_position": null,
      "order": null,
      "overflow": null,
      "overflow_x": null,
      "overflow_y": null,
      "padding": null,
      "right": null,
      "top": null,
      "visibility": null,
      "width": null
     }
    },
    "b8de7f82d99a4f879f56ebfe441d3c7e": {
     "model_module": "@jupyter-widgets/base",
     "model_name": "LayoutModel",
     "model_module_version": "1.2.0",
     "state": {
      "_model_module": "@jupyter-widgets/base",
      "_model_module_version": "1.2.0",
      "_model_name": "LayoutModel",
      "_view_count": null,
      "_view_module": "@jupyter-widgets/base",
      "_view_module_version": "1.2.0",
      "_view_name": "LayoutView",
      "align_content": null,
      "align_items": null,
      "align_self": null,
      "border": null,
      "bottom": null,
      "display": null,
      "flex": null,
      "flex_flow": null,
      "grid_area": null,
      "grid_auto_columns": null,
      "grid_auto_flow": null,
      "grid_auto_rows": null,
      "grid_column": null,
      "grid_gap": null,
      "grid_row": null,
      "grid_template_areas": null,
      "grid_template_columns": null,
      "grid_template_rows": null,
      "height": null,
      "justify_content": null,
      "justify_items": null,
      "left": null,
      "margin": null,
      "max_height": null,
      "max_width": null,
      "min_height": null,
      "min_width": null,
      "object_fit": null,
      "object_position": null,
      "order": null,
      "overflow": null,
      "overflow_x": null,
      "overflow_y": null,
      "padding": null,
      "right": null,
      "top": null,
      "visibility": null,
      "width": null
     }
    },
    "deb22712b7ea40329b76e4cfe4e78bb5": {
     "model_module": "@jupyter-widgets/controls",
     "model_name": "DescriptionStyleModel",
     "model_module_version": "1.5.0",
     "state": {
      "_model_module": "@jupyter-widgets/controls",
      "_model_module_version": "1.5.0",
      "_model_name": "DescriptionStyleModel",
      "_view_count": null,
      "_view_module": "@jupyter-widgets/base",
      "_view_module_version": "1.2.0",
      "_view_name": "StyleView",
      "description_width": ""
     }
    },
    "5e0d43a48e324ff7bb00c2edebb5014f": {
     "model_module": "@jupyter-widgets/base",
     "model_name": "LayoutModel",
     "model_module_version": "1.2.0",
     "state": {
      "_model_module": "@jupyter-widgets/base",
      "_model_module_version": "1.2.0",
      "_model_name": "LayoutModel",
      "_view_count": null,
      "_view_module": "@jupyter-widgets/base",
      "_view_module_version": "1.2.0",
      "_view_name": "LayoutView",
      "align_content": null,
      "align_items": null,
      "align_self": null,
      "border": null,
      "bottom": null,
      "display": null,
      "flex": null,
      "flex_flow": null,
      "grid_area": null,
      "grid_auto_columns": null,
      "grid_auto_flow": null,
      "grid_auto_rows": null,
      "grid_column": null,
      "grid_gap": null,
      "grid_row": null,
      "grid_template_areas": null,
      "grid_template_columns": null,
      "grid_template_rows": null,
      "height": null,
      "justify_content": null,
      "justify_items": null,
      "left": null,
      "margin": null,
      "max_height": null,
      "max_width": null,
      "min_height": null,
      "min_width": null,
      "object_fit": null,
      "object_position": null,
      "order": null,
      "overflow": null,
      "overflow_x": null,
      "overflow_y": null,
      "padding": null,
      "right": null,
      "top": null,
      "visibility": null,
      "width": null
     }
    },
    "939259b0ada54901a1ba95615cb92d47": {
     "model_module": "@jupyter-widgets/controls",
     "model_name": "ProgressStyleModel",
     "model_module_version": "1.5.0",
     "state": {
      "_model_module": "@jupyter-widgets/controls",
      "_model_module_version": "1.5.0",
      "_model_name": "ProgressStyleModel",
      "_view_count": null,
      "_view_module": "@jupyter-widgets/base",
      "_view_module_version": "1.2.0",
      "_view_name": "StyleView",
      "bar_color": null,
      "description_width": ""
     }
    },
    "263b9837942e4972b4abed83943abad5": {
     "model_module": "@jupyter-widgets/base",
     "model_name": "LayoutModel",
     "model_module_version": "1.2.0",
     "state": {
      "_model_module": "@jupyter-widgets/base",
      "_model_module_version": "1.2.0",
      "_model_name": "LayoutModel",
      "_view_count": null,
      "_view_module": "@jupyter-widgets/base",
      "_view_module_version": "1.2.0",
      "_view_name": "LayoutView",
      "align_content": null,
      "align_items": null,
      "align_self": null,
      "border": null,
      "bottom": null,
      "display": null,
      "flex": null,
      "flex_flow": null,
      "grid_area": null,
      "grid_auto_columns": null,
      "grid_auto_flow": null,
      "grid_auto_rows": null,
      "grid_column": null,
      "grid_gap": null,
      "grid_row": null,
      "grid_template_areas": null,
      "grid_template_columns": null,
      "grid_template_rows": null,
      "height": null,
      "justify_content": null,
      "justify_items": null,
      "left": null,
      "margin": null,
      "max_height": null,
      "max_width": null,
      "min_height": null,
      "min_width": null,
      "object_fit": null,
      "object_position": null,
      "order": null,
      "overflow": null,
      "overflow_x": null,
      "overflow_y": null,
      "padding": null,
      "right": null,
      "top": null,
      "visibility": null,
      "width": null
     }
    },
    "d8f6ead5198c49bc88eb13cfa207dcda": {
     "model_module": "@jupyter-widgets/controls",
     "model_name": "DescriptionStyleModel",
     "model_module_version": "1.5.0",
     "state": {
      "_model_module": "@jupyter-widgets/controls",
      "_model_module_version": "1.5.0",
      "_model_name": "DescriptionStyleModel",
      "_view_count": null,
      "_view_module": "@jupyter-widgets/base",
      "_view_module_version": "1.2.0",
      "_view_name": "StyleView",
      "description_width": ""
     }
    },
    "cf59bee9e0b646ecbce56ed070e05c1c": {
     "model_module": "@jupyter-widgets/controls",
     "model_name": "HBoxModel",
     "model_module_version": "1.5.0",
     "state": {
      "_dom_classes": [],
      "_model_module": "@jupyter-widgets/controls",
      "_model_module_version": "1.5.0",
      "_model_name": "HBoxModel",
      "_view_count": null,
      "_view_module": "@jupyter-widgets/controls",
      "_view_module_version": "1.5.0",
      "_view_name": "HBoxView",
      "box_style": "",
      "children": [
       "IPY_MODEL_107ec8d5f34c4d8483e152bc1f98be45",
       "IPY_MODEL_70306f8981ba4a859800bbf466d5a55a",
       "IPY_MODEL_01b0a5a14566457e83c97d22b4f81e21"
      ],
      "layout": "IPY_MODEL_0a42ff8af5c5466c8e99103e45dc2d67"
     }
    },
    "107ec8d5f34c4d8483e152bc1f98be45": {
     "model_module": "@jupyter-widgets/controls",
     "model_name": "HTMLModel",
     "model_module_version": "1.5.0",
     "state": {
      "_dom_classes": [],
      "_model_module": "@jupyter-widgets/controls",
      "_model_module_version": "1.5.0",
      "_model_name": "HTMLModel",
      "_view_count": null,
      "_view_module": "@jupyter-widgets/controls",
      "_view_module_version": "1.5.0",
      "_view_name": "HTMLView",
      "description": "",
      "description_tooltip": null,
      "layout": "IPY_MODEL_cbebe8c222d44eaaa6d973b0ef5fa4f7",
      "placeholder": "​",
      "style": "IPY_MODEL_166827cf0003467d9dbff643e2439e3c",
      "value": "Train Epoch 126/128: 100%"
     }
    },
    "70306f8981ba4a859800bbf466d5a55a": {
     "model_module": "@jupyter-widgets/controls",
     "model_name": "FloatProgressModel",
     "model_module_version": "1.5.0",
     "state": {
      "_dom_classes": [],
      "_model_module": "@jupyter-widgets/controls",
      "_model_module_version": "1.5.0",
      "_model_name": "FloatProgressModel",
      "_view_count": null,
      "_view_module": "@jupyter-widgets/controls",
      "_view_module_version": "1.5.0",
      "_view_name": "ProgressView",
      "bar_style": "success",
      "description": "",
      "description_tooltip": null,
      "layout": "IPY_MODEL_8a47d68e899b475193cf918413e2e442",
      "max": 34,
      "min": 0,
      "orientation": "horizontal",
      "style": "IPY_MODEL_3bc99f0a69784d5e83a6cbe7ca9c53f0",
      "value": 34
     }
    },
    "01b0a5a14566457e83c97d22b4f81e21": {
     "model_module": "@jupyter-widgets/controls",
     "model_name": "HTMLModel",
     "model_module_version": "1.5.0",
     "state": {
      "_dom_classes": [],
      "_model_module": "@jupyter-widgets/controls",
      "_model_module_version": "1.5.0",
      "_model_name": "HTMLModel",
      "_view_count": null,
      "_view_module": "@jupyter-widgets/controls",
      "_view_module_version": "1.5.0",
      "_view_name": "HTMLView",
      "description": "",
      "description_tooltip": null,
      "layout": "IPY_MODEL_2a52a0a52f2446ac83e258899ba13fb9",
      "placeholder": "​",
      "style": "IPY_MODEL_a1b075c7c9c54b5e940cbf55c28bbfba",
      "value": " 34/34 [04:58&lt;00:00,  7.42s/ba, loss=2.0765]"
     }
    },
    "0a42ff8af5c5466c8e99103e45dc2d67": {
     "model_module": "@jupyter-widgets/base",
     "model_name": "LayoutModel",
     "model_module_version": "1.2.0",
     "state": {
      "_model_module": "@jupyter-widgets/base",
      "_model_module_version": "1.2.0",
      "_model_name": "LayoutModel",
      "_view_count": null,
      "_view_module": "@jupyter-widgets/base",
      "_view_module_version": "1.2.0",
      "_view_name": "LayoutView",
      "align_content": null,
      "align_items": null,
      "align_self": null,
      "border": null,
      "bottom": null,
      "display": null,
      "flex": null,
      "flex_flow": null,
      "grid_area": null,
      "grid_auto_columns": null,
      "grid_auto_flow": null,
      "grid_auto_rows": null,
      "grid_column": null,
      "grid_gap": null,
      "grid_row": null,
      "grid_template_areas": null,
      "grid_template_columns": null,
      "grid_template_rows": null,
      "height": null,
      "justify_content": null,
      "justify_items": null,
      "left": null,
      "margin": null,
      "max_height": null,
      "max_width": null,
      "min_height": null,
      "min_width": null,
      "object_fit": null,
      "object_position": null,
      "order": null,
      "overflow": null,
      "overflow_x": null,
      "overflow_y": null,
      "padding": null,
      "right": null,
      "top": null,
      "visibility": null,
      "width": null
     }
    },
    "cbebe8c222d44eaaa6d973b0ef5fa4f7": {
     "model_module": "@jupyter-widgets/base",
     "model_name": "LayoutModel",
     "model_module_version": "1.2.0",
     "state": {
      "_model_module": "@jupyter-widgets/base",
      "_model_module_version": "1.2.0",
      "_model_name": "LayoutModel",
      "_view_count": null,
      "_view_module": "@jupyter-widgets/base",
      "_view_module_version": "1.2.0",
      "_view_name": "LayoutView",
      "align_content": null,
      "align_items": null,
      "align_self": null,
      "border": null,
      "bottom": null,
      "display": null,
      "flex": null,
      "flex_flow": null,
      "grid_area": null,
      "grid_auto_columns": null,
      "grid_auto_flow": null,
      "grid_auto_rows": null,
      "grid_column": null,
      "grid_gap": null,
      "grid_row": null,
      "grid_template_areas": null,
      "grid_template_columns": null,
      "grid_template_rows": null,
      "height": null,
      "justify_content": null,
      "justify_items": null,
      "left": null,
      "margin": null,
      "max_height": null,
      "max_width": null,
      "min_height": null,
      "min_width": null,
      "object_fit": null,
      "object_position": null,
      "order": null,
      "overflow": null,
      "overflow_x": null,
      "overflow_y": null,
      "padding": null,
      "right": null,
      "top": null,
      "visibility": null,
      "width": null
     }
    },
    "166827cf0003467d9dbff643e2439e3c": {
     "model_module": "@jupyter-widgets/controls",
     "model_name": "DescriptionStyleModel",
     "model_module_version": "1.5.0",
     "state": {
      "_model_module": "@jupyter-widgets/controls",
      "_model_module_version": "1.5.0",
      "_model_name": "DescriptionStyleModel",
      "_view_count": null,
      "_view_module": "@jupyter-widgets/base",
      "_view_module_version": "1.2.0",
      "_view_name": "StyleView",
      "description_width": ""
     }
    },
    "8a47d68e899b475193cf918413e2e442": {
     "model_module": "@jupyter-widgets/base",
     "model_name": "LayoutModel",
     "model_module_version": "1.2.0",
     "state": {
      "_model_module": "@jupyter-widgets/base",
      "_model_module_version": "1.2.0",
      "_model_name": "LayoutModel",
      "_view_count": null,
      "_view_module": "@jupyter-widgets/base",
      "_view_module_version": "1.2.0",
      "_view_name": "LayoutView",
      "align_content": null,
      "align_items": null,
      "align_self": null,
      "border": null,
      "bottom": null,
      "display": null,
      "flex": null,
      "flex_flow": null,
      "grid_area": null,
      "grid_auto_columns": null,
      "grid_auto_flow": null,
      "grid_auto_rows": null,
      "grid_column": null,
      "grid_gap": null,
      "grid_row": null,
      "grid_template_areas": null,
      "grid_template_columns": null,
      "grid_template_rows": null,
      "height": null,
      "justify_content": null,
      "justify_items": null,
      "left": null,
      "margin": null,
      "max_height": null,
      "max_width": null,
      "min_height": null,
      "min_width": null,
      "object_fit": null,
      "object_position": null,
      "order": null,
      "overflow": null,
      "overflow_x": null,
      "overflow_y": null,
      "padding": null,
      "right": null,
      "top": null,
      "visibility": null,
      "width": null
     }
    },
    "3bc99f0a69784d5e83a6cbe7ca9c53f0": {
     "model_module": "@jupyter-widgets/controls",
     "model_name": "ProgressStyleModel",
     "model_module_version": "1.5.0",
     "state": {
      "_model_module": "@jupyter-widgets/controls",
      "_model_module_version": "1.5.0",
      "_model_name": "ProgressStyleModel",
      "_view_count": null,
      "_view_module": "@jupyter-widgets/base",
      "_view_module_version": "1.2.0",
      "_view_name": "StyleView",
      "bar_color": null,
      "description_width": ""
     }
    },
    "2a52a0a52f2446ac83e258899ba13fb9": {
     "model_module": "@jupyter-widgets/base",
     "model_name": "LayoutModel",
     "model_module_version": "1.2.0",
     "state": {
      "_model_module": "@jupyter-widgets/base",
      "_model_module_version": "1.2.0",
      "_model_name": "LayoutModel",
      "_view_count": null,
      "_view_module": "@jupyter-widgets/base",
      "_view_module_version": "1.2.0",
      "_view_name": "LayoutView",
      "align_content": null,
      "align_items": null,
      "align_self": null,
      "border": null,
      "bottom": null,
      "display": null,
      "flex": null,
      "flex_flow": null,
      "grid_area": null,
      "grid_auto_columns": null,
      "grid_auto_flow": null,
      "grid_auto_rows": null,
      "grid_column": null,
      "grid_gap": null,
      "grid_row": null,
      "grid_template_areas": null,
      "grid_template_columns": null,
      "grid_template_rows": null,
      "height": null,
      "justify_content": null,
      "justify_items": null,
      "left": null,
      "margin": null,
      "max_height": null,
      "max_width": null,
      "min_height": null,
      "min_width": null,
      "object_fit": null,
      "object_position": null,
      "order": null,
      "overflow": null,
      "overflow_x": null,
      "overflow_y": null,
      "padding": null,
      "right": null,
      "top": null,
      "visibility": null,
      "width": null
     }
    },
    "a1b075c7c9c54b5e940cbf55c28bbfba": {
     "model_module": "@jupyter-widgets/controls",
     "model_name": "DescriptionStyleModel",
     "model_module_version": "1.5.0",
     "state": {
      "_model_module": "@jupyter-widgets/controls",
      "_model_module_version": "1.5.0",
      "_model_name": "DescriptionStyleModel",
      "_view_count": null,
      "_view_module": "@jupyter-widgets/base",
      "_view_module_version": "1.2.0",
      "_view_name": "StyleView",
      "description_width": ""
     }
    },
    "ce956c2b180e4095baa61bf93a62efd9": {
     "model_module": "@jupyter-widgets/controls",
     "model_name": "HBoxModel",
     "model_module_version": "1.5.0",
     "state": {
      "_dom_classes": [],
      "_model_module": "@jupyter-widgets/controls",
      "_model_module_version": "1.5.0",
      "_model_name": "HBoxModel",
      "_view_count": null,
      "_view_module": "@jupyter-widgets/controls",
      "_view_module_version": "1.5.0",
      "_view_name": "HBoxView",
      "box_style": "",
      "children": [
       "IPY_MODEL_cb66535332dc447f8428f535b00c9c3b",
       "IPY_MODEL_7b953005e29f46edb6b5ada0f0316878",
       "IPY_MODEL_e06892058e734d42aeb5dcd0d76389ce"
      ],
      "layout": "IPY_MODEL_d258103f1b7b424690cb27c0c897e5d2"
     }
    },
    "cb66535332dc447f8428f535b00c9c3b": {
     "model_module": "@jupyter-widgets/controls",
     "model_name": "HTMLModel",
     "model_module_version": "1.5.0",
     "state": {
      "_dom_classes": [],
      "_model_module": "@jupyter-widgets/controls",
      "_model_module_version": "1.5.0",
      "_model_name": "HTMLModel",
      "_view_count": null,
      "_view_module": "@jupyter-widgets/controls",
      "_view_module_version": "1.5.0",
      "_view_name": "HTMLView",
      "description": "",
      "description_tooltip": null,
      "layout": "IPY_MODEL_b3e8b658872447b39120d15c05e5887d",
      "placeholder": "​",
      "style": "IPY_MODEL_34edc4b447cc4980af44b800dca3ea4f",
      "value": "Eval Epoch 126/128: 100%"
     }
    },
    "7b953005e29f46edb6b5ada0f0316878": {
     "model_module": "@jupyter-widgets/controls",
     "model_name": "FloatProgressModel",
     "model_module_version": "1.5.0",
     "state": {
      "_dom_classes": [],
      "_model_module": "@jupyter-widgets/controls",
      "_model_module_version": "1.5.0",
      "_model_name": "FloatProgressModel",
      "_view_count": null,
      "_view_module": "@jupyter-widgets/controls",
      "_view_module_version": "1.5.0",
      "_view_name": "ProgressView",
      "bar_style": "success",
      "description": "",
      "description_tooltip": null,
      "layout": "IPY_MODEL_892eda2c74f64ae393eea74b74e181f2",
      "max": 2,
      "min": 0,
      "orientation": "horizontal",
      "style": "IPY_MODEL_29729f69f03941a9a0b880060e5fb6fa",
      "value": 2
     }
    },
    "e06892058e734d42aeb5dcd0d76389ce": {
     "model_module": "@jupyter-widgets/controls",
     "model_name": "HTMLModel",
     "model_module_version": "1.5.0",
     "state": {
      "_dom_classes": [],
      "_model_module": "@jupyter-widgets/controls",
      "_model_module_version": "1.5.0",
      "_model_name": "HTMLModel",
      "_view_count": null,
      "_view_module": "@jupyter-widgets/controls",
      "_view_module_version": "1.5.0",
      "_view_name": "HTMLView",
      "description": "",
      "description_tooltip": null,
      "layout": "IPY_MODEL_505f101f5df04a1999343bd8600cc52a",
      "placeholder": "​",
      "style": "IPY_MODEL_cfb03c5aedf24b8fb410ae5c2b87174e",
      "value": " 2/2 [00:01&lt;00:00,  3.57ba/s, loss=2.2467, ntp_acc=37.90, ikr=51.22]"
     }
    },
    "d258103f1b7b424690cb27c0c897e5d2": {
     "model_module": "@jupyter-widgets/base",
     "model_name": "LayoutModel",
     "model_module_version": "1.2.0",
     "state": {
      "_model_module": "@jupyter-widgets/base",
      "_model_module_version": "1.2.0",
      "_model_name": "LayoutModel",
      "_view_count": null,
      "_view_module": "@jupyter-widgets/base",
      "_view_module_version": "1.2.0",
      "_view_name": "LayoutView",
      "align_content": null,
      "align_items": null,
      "align_self": null,
      "border": null,
      "bottom": null,
      "display": null,
      "flex": null,
      "flex_flow": null,
      "grid_area": null,
      "grid_auto_columns": null,
      "grid_auto_flow": null,
      "grid_auto_rows": null,
      "grid_column": null,
      "grid_gap": null,
      "grid_row": null,
      "grid_template_areas": null,
      "grid_template_columns": null,
      "grid_template_rows": null,
      "height": null,
      "justify_content": null,
      "justify_items": null,
      "left": null,
      "margin": null,
      "max_height": null,
      "max_width": null,
      "min_height": null,
      "min_width": null,
      "object_fit": null,
      "object_position": null,
      "order": null,
      "overflow": null,
      "overflow_x": null,
      "overflow_y": null,
      "padding": null,
      "right": null,
      "top": null,
      "visibility": null,
      "width": null
     }
    },
    "b3e8b658872447b39120d15c05e5887d": {
     "model_module": "@jupyter-widgets/base",
     "model_name": "LayoutModel",
     "model_module_version": "1.2.0",
     "state": {
      "_model_module": "@jupyter-widgets/base",
      "_model_module_version": "1.2.0",
      "_model_name": "LayoutModel",
      "_view_count": null,
      "_view_module": "@jupyter-widgets/base",
      "_view_module_version": "1.2.0",
      "_view_name": "LayoutView",
      "align_content": null,
      "align_items": null,
      "align_self": null,
      "border": null,
      "bottom": null,
      "display": null,
      "flex": null,
      "flex_flow": null,
      "grid_area": null,
      "grid_auto_columns": null,
      "grid_auto_flow": null,
      "grid_auto_rows": null,
      "grid_column": null,
      "grid_gap": null,
      "grid_row": null,
      "grid_template_areas": null,
      "grid_template_columns": null,
      "grid_template_rows": null,
      "height": null,
      "justify_content": null,
      "justify_items": null,
      "left": null,
      "margin": null,
      "max_height": null,
      "max_width": null,
      "min_height": null,
      "min_width": null,
      "object_fit": null,
      "object_position": null,
      "order": null,
      "overflow": null,
      "overflow_x": null,
      "overflow_y": null,
      "padding": null,
      "right": null,
      "top": null,
      "visibility": null,
      "width": null
     }
    },
    "34edc4b447cc4980af44b800dca3ea4f": {
     "model_module": "@jupyter-widgets/controls",
     "model_name": "DescriptionStyleModel",
     "model_module_version": "1.5.0",
     "state": {
      "_model_module": "@jupyter-widgets/controls",
      "_model_module_version": "1.5.0",
      "_model_name": "DescriptionStyleModel",
      "_view_count": null,
      "_view_module": "@jupyter-widgets/base",
      "_view_module_version": "1.2.0",
      "_view_name": "StyleView",
      "description_width": ""
     }
    },
    "892eda2c74f64ae393eea74b74e181f2": {
     "model_module": "@jupyter-widgets/base",
     "model_name": "LayoutModel",
     "model_module_version": "1.2.0",
     "state": {
      "_model_module": "@jupyter-widgets/base",
      "_model_module_version": "1.2.0",
      "_model_name": "LayoutModel",
      "_view_count": null,
      "_view_module": "@jupyter-widgets/base",
      "_view_module_version": "1.2.0",
      "_view_name": "LayoutView",
      "align_content": null,
      "align_items": null,
      "align_self": null,
      "border": null,
      "bottom": null,
      "display": null,
      "flex": null,
      "flex_flow": null,
      "grid_area": null,
      "grid_auto_columns": null,
      "grid_auto_flow": null,
      "grid_auto_rows": null,
      "grid_column": null,
      "grid_gap": null,
      "grid_row": null,
      "grid_template_areas": null,
      "grid_template_columns": null,
      "grid_template_rows": null,
      "height": null,
      "justify_content": null,
      "justify_items": null,
      "left": null,
      "margin": null,
      "max_height": null,
      "max_width": null,
      "min_height": null,
      "min_width": null,
      "object_fit": null,
      "object_position": null,
      "order": null,
      "overflow": null,
      "overflow_x": null,
      "overflow_y": null,
      "padding": null,
      "right": null,
      "top": null,
      "visibility": null,
      "width": null
     }
    },
    "29729f69f03941a9a0b880060e5fb6fa": {
     "model_module": "@jupyter-widgets/controls",
     "model_name": "ProgressStyleModel",
     "model_module_version": "1.5.0",
     "state": {
      "_model_module": "@jupyter-widgets/controls",
      "_model_module_version": "1.5.0",
      "_model_name": "ProgressStyleModel",
      "_view_count": null,
      "_view_module": "@jupyter-widgets/base",
      "_view_module_version": "1.2.0",
      "_view_name": "StyleView",
      "bar_color": null,
      "description_width": ""
     }
    },
    "505f101f5df04a1999343bd8600cc52a": {
     "model_module": "@jupyter-widgets/base",
     "model_name": "LayoutModel",
     "model_module_version": "1.2.0",
     "state": {
      "_model_module": "@jupyter-widgets/base",
      "_model_module_version": "1.2.0",
      "_model_name": "LayoutModel",
      "_view_count": null,
      "_view_module": "@jupyter-widgets/base",
      "_view_module_version": "1.2.0",
      "_view_name": "LayoutView",
      "align_content": null,
      "align_items": null,
      "align_self": null,
      "border": null,
      "bottom": null,
      "display": null,
      "flex": null,
      "flex_flow": null,
      "grid_area": null,
      "grid_auto_columns": null,
      "grid_auto_flow": null,
      "grid_auto_rows": null,
      "grid_column": null,
      "grid_gap": null,
      "grid_row": null,
      "grid_template_areas": null,
      "grid_template_columns": null,
      "grid_template_rows": null,
      "height": null,
      "justify_content": null,
      "justify_items": null,
      "left": null,
      "margin": null,
      "max_height": null,
      "max_width": null,
      "min_height": null,
      "min_width": null,
      "object_fit": null,
      "object_position": null,
      "order": null,
      "overflow": null,
      "overflow_x": null,
      "overflow_y": null,
      "padding": null,
      "right": null,
      "top": null,
      "visibility": null,
      "width": null
     }
    },
    "cfb03c5aedf24b8fb410ae5c2b87174e": {
     "model_module": "@jupyter-widgets/controls",
     "model_name": "DescriptionStyleModel",
     "model_module_version": "1.5.0",
     "state": {
      "_model_module": "@jupyter-widgets/controls",
      "_model_module_version": "1.5.0",
      "_model_name": "DescriptionStyleModel",
      "_view_count": null,
      "_view_module": "@jupyter-widgets/base",
      "_view_module_version": "1.2.0",
      "_view_name": "StyleView",
      "description_width": ""
     }
    },
    "d20152703d16477f922b7886933e84d4": {
     "model_module": "@jupyter-widgets/controls",
     "model_name": "HBoxModel",
     "model_module_version": "1.5.0",
     "state": {
      "_dom_classes": [],
      "_model_module": "@jupyter-widgets/controls",
      "_model_module_version": "1.5.0",
      "_model_name": "HBoxModel",
      "_view_count": null,
      "_view_module": "@jupyter-widgets/controls",
      "_view_module_version": "1.5.0",
      "_view_name": "HBoxView",
      "box_style": "",
      "children": [
       "IPY_MODEL_715aa39b6c6b42d98000ae5982626a1a",
       "IPY_MODEL_73aa10ee18254cea982044afe96b070f",
       "IPY_MODEL_a66c2ed22dd047dc9adeb6dfbdbaff98"
      ],
      "layout": "IPY_MODEL_f494590fcbdf48ca8e81ac486084d171"
     }
    },
    "715aa39b6c6b42d98000ae5982626a1a": {
     "model_module": "@jupyter-widgets/controls",
     "model_name": "HTMLModel",
     "model_module_version": "1.5.0",
     "state": {
      "_dom_classes": [],
      "_model_module": "@jupyter-widgets/controls",
      "_model_module_version": "1.5.0",
      "_model_name": "HTMLModel",
      "_view_count": null,
      "_view_module": "@jupyter-widgets/controls",
      "_view_module_version": "1.5.0",
      "_view_name": "HTMLView",
      "description": "",
      "description_tooltip": null,
      "layout": "IPY_MODEL_fbc174b7cdf342be96a9fb6cab917cdb",
      "placeholder": "​",
      "style": "IPY_MODEL_9c2a7818c7df4433a218c7d30682ba3c",
      "value": "Train Epoch 127/128: 100%"
     }
    },
    "73aa10ee18254cea982044afe96b070f": {
     "model_module": "@jupyter-widgets/controls",
     "model_name": "FloatProgressModel",
     "model_module_version": "1.5.0",
     "state": {
      "_dom_classes": [],
      "_model_module": "@jupyter-widgets/controls",
      "_model_module_version": "1.5.0",
      "_model_name": "FloatProgressModel",
      "_view_count": null,
      "_view_module": "@jupyter-widgets/controls",
      "_view_module_version": "1.5.0",
      "_view_name": "ProgressView",
      "bar_style": "success",
      "description": "",
      "description_tooltip": null,
      "layout": "IPY_MODEL_580d04903bf146efa922ffae4efb5a44",
      "max": 34,
      "min": 0,
      "orientation": "horizontal",
      "style": "IPY_MODEL_e8851e22b4fa47f79c0883a3b77d5e6d",
      "value": 34
     }
    },
    "a66c2ed22dd047dc9adeb6dfbdbaff98": {
     "model_module": "@jupyter-widgets/controls",
     "model_name": "HTMLModel",
     "model_module_version": "1.5.0",
     "state": {
      "_dom_classes": [],
      "_model_module": "@jupyter-widgets/controls",
      "_model_module_version": "1.5.0",
      "_model_name": "HTMLModel",
      "_view_count": null,
      "_view_module": "@jupyter-widgets/controls",
      "_view_module_version": "1.5.0",
      "_view_name": "HTMLView",
      "description": "",
      "description_tooltip": null,
      "layout": "IPY_MODEL_bc7ee963c963424dbecdb77d59c6ea49",
      "placeholder": "​",
      "style": "IPY_MODEL_0c905d7ebe7e442ab4dee0683605a334",
      "value": " 34/34 [04:58&lt;00:00,  7.41s/ba, loss=2.2866]"
     }
    },
    "f494590fcbdf48ca8e81ac486084d171": {
     "model_module": "@jupyter-widgets/base",
     "model_name": "LayoutModel",
     "model_module_version": "1.2.0",
     "state": {
      "_model_module": "@jupyter-widgets/base",
      "_model_module_version": "1.2.0",
      "_model_name": "LayoutModel",
      "_view_count": null,
      "_view_module": "@jupyter-widgets/base",
      "_view_module_version": "1.2.0",
      "_view_name": "LayoutView",
      "align_content": null,
      "align_items": null,
      "align_self": null,
      "border": null,
      "bottom": null,
      "display": null,
      "flex": null,
      "flex_flow": null,
      "grid_area": null,
      "grid_auto_columns": null,
      "grid_auto_flow": null,
      "grid_auto_rows": null,
      "grid_column": null,
      "grid_gap": null,
      "grid_row": null,
      "grid_template_areas": null,
      "grid_template_columns": null,
      "grid_template_rows": null,
      "height": null,
      "justify_content": null,
      "justify_items": null,
      "left": null,
      "margin": null,
      "max_height": null,
      "max_width": null,
      "min_height": null,
      "min_width": null,
      "object_fit": null,
      "object_position": null,
      "order": null,
      "overflow": null,
      "overflow_x": null,
      "overflow_y": null,
      "padding": null,
      "right": null,
      "top": null,
      "visibility": null,
      "width": null
     }
    },
    "fbc174b7cdf342be96a9fb6cab917cdb": {
     "model_module": "@jupyter-widgets/base",
     "model_name": "LayoutModel",
     "model_module_version": "1.2.0",
     "state": {
      "_model_module": "@jupyter-widgets/base",
      "_model_module_version": "1.2.0",
      "_model_name": "LayoutModel",
      "_view_count": null,
      "_view_module": "@jupyter-widgets/base",
      "_view_module_version": "1.2.0",
      "_view_name": "LayoutView",
      "align_content": null,
      "align_items": null,
      "align_self": null,
      "border": null,
      "bottom": null,
      "display": null,
      "flex": null,
      "flex_flow": null,
      "grid_area": null,
      "grid_auto_columns": null,
      "grid_auto_flow": null,
      "grid_auto_rows": null,
      "grid_column": null,
      "grid_gap": null,
      "grid_row": null,
      "grid_template_areas": null,
      "grid_template_columns": null,
      "grid_template_rows": null,
      "height": null,
      "justify_content": null,
      "justify_items": null,
      "left": null,
      "margin": null,
      "max_height": null,
      "max_width": null,
      "min_height": null,
      "min_width": null,
      "object_fit": null,
      "object_position": null,
      "order": null,
      "overflow": null,
      "overflow_x": null,
      "overflow_y": null,
      "padding": null,
      "right": null,
      "top": null,
      "visibility": null,
      "width": null
     }
    },
    "9c2a7818c7df4433a218c7d30682ba3c": {
     "model_module": "@jupyter-widgets/controls",
     "model_name": "DescriptionStyleModel",
     "model_module_version": "1.5.0",
     "state": {
      "_model_module": "@jupyter-widgets/controls",
      "_model_module_version": "1.5.0",
      "_model_name": "DescriptionStyleModel",
      "_view_count": null,
      "_view_module": "@jupyter-widgets/base",
      "_view_module_version": "1.2.0",
      "_view_name": "StyleView",
      "description_width": ""
     }
    },
    "580d04903bf146efa922ffae4efb5a44": {
     "model_module": "@jupyter-widgets/base",
     "model_name": "LayoutModel",
     "model_module_version": "1.2.0",
     "state": {
      "_model_module": "@jupyter-widgets/base",
      "_model_module_version": "1.2.0",
      "_model_name": "LayoutModel",
      "_view_count": null,
      "_view_module": "@jupyter-widgets/base",
      "_view_module_version": "1.2.0",
      "_view_name": "LayoutView",
      "align_content": null,
      "align_items": null,
      "align_self": null,
      "border": null,
      "bottom": null,
      "display": null,
      "flex": null,
      "flex_flow": null,
      "grid_area": null,
      "grid_auto_columns": null,
      "grid_auto_flow": null,
      "grid_auto_rows": null,
      "grid_column": null,
      "grid_gap": null,
      "grid_row": null,
      "grid_template_areas": null,
      "grid_template_columns": null,
      "grid_template_rows": null,
      "height": null,
      "justify_content": null,
      "justify_items": null,
      "left": null,
      "margin": null,
      "max_height": null,
      "max_width": null,
      "min_height": null,
      "min_width": null,
      "object_fit": null,
      "object_position": null,
      "order": null,
      "overflow": null,
      "overflow_x": null,
      "overflow_y": null,
      "padding": null,
      "right": null,
      "top": null,
      "visibility": null,
      "width": null
     }
    },
    "e8851e22b4fa47f79c0883a3b77d5e6d": {
     "model_module": "@jupyter-widgets/controls",
     "model_name": "ProgressStyleModel",
     "model_module_version": "1.5.0",
     "state": {
      "_model_module": "@jupyter-widgets/controls",
      "_model_module_version": "1.5.0",
      "_model_name": "ProgressStyleModel",
      "_view_count": null,
      "_view_module": "@jupyter-widgets/base",
      "_view_module_version": "1.2.0",
      "_view_name": "StyleView",
      "bar_color": null,
      "description_width": ""
     }
    },
    "bc7ee963c963424dbecdb77d59c6ea49": {
     "model_module": "@jupyter-widgets/base",
     "model_name": "LayoutModel",
     "model_module_version": "1.2.0",
     "state": {
      "_model_module": "@jupyter-widgets/base",
      "_model_module_version": "1.2.0",
      "_model_name": "LayoutModel",
      "_view_count": null,
      "_view_module": "@jupyter-widgets/base",
      "_view_module_version": "1.2.0",
      "_view_name": "LayoutView",
      "align_content": null,
      "align_items": null,
      "align_self": null,
      "border": null,
      "bottom": null,
      "display": null,
      "flex": null,
      "flex_flow": null,
      "grid_area": null,
      "grid_auto_columns": null,
      "grid_auto_flow": null,
      "grid_auto_rows": null,
      "grid_column": null,
      "grid_gap": null,
      "grid_row": null,
      "grid_template_areas": null,
      "grid_template_columns": null,
      "grid_template_rows": null,
      "height": null,
      "justify_content": null,
      "justify_items": null,
      "left": null,
      "margin": null,
      "max_height": null,
      "max_width": null,
      "min_height": null,
      "min_width": null,
      "object_fit": null,
      "object_position": null,
      "order": null,
      "overflow": null,
      "overflow_x": null,
      "overflow_y": null,
      "padding": null,
      "right": null,
      "top": null,
      "visibility": null,
      "width": null
     }
    },
    "0c905d7ebe7e442ab4dee0683605a334": {
     "model_module": "@jupyter-widgets/controls",
     "model_name": "DescriptionStyleModel",
     "model_module_version": "1.5.0",
     "state": {
      "_model_module": "@jupyter-widgets/controls",
      "_model_module_version": "1.5.0",
      "_model_name": "DescriptionStyleModel",
      "_view_count": null,
      "_view_module": "@jupyter-widgets/base",
      "_view_module_version": "1.2.0",
      "_view_name": "StyleView",
      "description_width": ""
     }
    },
    "6d7f285abe7444dd8d0d6caed63989c9": {
     "model_module": "@jupyter-widgets/controls",
     "model_name": "HBoxModel",
     "model_module_version": "1.5.0",
     "state": {
      "_dom_classes": [],
      "_model_module": "@jupyter-widgets/controls",
      "_model_module_version": "1.5.0",
      "_model_name": "HBoxModel",
      "_view_count": null,
      "_view_module": "@jupyter-widgets/controls",
      "_view_module_version": "1.5.0",
      "_view_name": "HBoxView",
      "box_style": "",
      "children": [
       "IPY_MODEL_5c96510b4f76400c9daa1649988d733c",
       "IPY_MODEL_4a249517596041cb8e45b38495d4c881",
       "IPY_MODEL_22a1cee277724e0b8569b24f37f1d8ad"
      ],
      "layout": "IPY_MODEL_4b4b99acdc8e49a5b908b51e77aa7572"
     }
    },
    "5c96510b4f76400c9daa1649988d733c": {
     "model_module": "@jupyter-widgets/controls",
     "model_name": "HTMLModel",
     "model_module_version": "1.5.0",
     "state": {
      "_dom_classes": [],
      "_model_module": "@jupyter-widgets/controls",
      "_model_module_version": "1.5.0",
      "_model_name": "HTMLModel",
      "_view_count": null,
      "_view_module": "@jupyter-widgets/controls",
      "_view_module_version": "1.5.0",
      "_view_name": "HTMLView",
      "description": "",
      "description_tooltip": null,
      "layout": "IPY_MODEL_f86209dce67a4536a13d895f09d66a11",
      "placeholder": "​",
      "style": "IPY_MODEL_40a4af63d66742a99418e9146030441d",
      "value": "Eval Epoch 127/128: 100%"
     }
    },
    "4a249517596041cb8e45b38495d4c881": {
     "model_module": "@jupyter-widgets/controls",
     "model_name": "FloatProgressModel",
     "model_module_version": "1.5.0",
     "state": {
      "_dom_classes": [],
      "_model_module": "@jupyter-widgets/controls",
      "_model_module_version": "1.5.0",
      "_model_name": "FloatProgressModel",
      "_view_count": null,
      "_view_module": "@jupyter-widgets/controls",
      "_view_module_version": "1.5.0",
      "_view_name": "ProgressView",
      "bar_style": "success",
      "description": "",
      "description_tooltip": null,
      "layout": "IPY_MODEL_481e5df3dada4ed89b336f019c95df17",
      "max": 2,
      "min": 0,
      "orientation": "horizontal",
      "style": "IPY_MODEL_f640cf5d4c204e5a848c11718dccfaa6",
      "value": 2
     }
    },
    "22a1cee277724e0b8569b24f37f1d8ad": {
     "model_module": "@jupyter-widgets/controls",
     "model_name": "HTMLModel",
     "model_module_version": "1.5.0",
     "state": {
      "_dom_classes": [],
      "_model_module": "@jupyter-widgets/controls",
      "_model_module_version": "1.5.0",
      "_model_name": "HTMLModel",
      "_view_count": null,
      "_view_module": "@jupyter-widgets/controls",
      "_view_module_version": "1.5.0",
      "_view_name": "HTMLView",
      "description": "",
      "description_tooltip": null,
      "layout": "IPY_MODEL_e4104ccaf9db4c6cb2c6befd9f2554e4",
      "placeholder": "​",
      "style": "IPY_MODEL_4d85011377d6448eaf1806dfa8b4cc90",
      "value": " 2/2 [00:01&lt;00:00,  3.56ba/s, loss=2.2479, ntp_acc=38.00, ikr=50.63]"
     }
    },
    "4b4b99acdc8e49a5b908b51e77aa7572": {
     "model_module": "@jupyter-widgets/base",
     "model_name": "LayoutModel",
     "model_module_version": "1.2.0",
     "state": {
      "_model_module": "@jupyter-widgets/base",
      "_model_module_version": "1.2.0",
      "_model_name": "LayoutModel",
      "_view_count": null,
      "_view_module": "@jupyter-widgets/base",
      "_view_module_version": "1.2.0",
      "_view_name": "LayoutView",
      "align_content": null,
      "align_items": null,
      "align_self": null,
      "border": null,
      "bottom": null,
      "display": null,
      "flex": null,
      "flex_flow": null,
      "grid_area": null,
      "grid_auto_columns": null,
      "grid_auto_flow": null,
      "grid_auto_rows": null,
      "grid_column": null,
      "grid_gap": null,
      "grid_row": null,
      "grid_template_areas": null,
      "grid_template_columns": null,
      "grid_template_rows": null,
      "height": null,
      "justify_content": null,
      "justify_items": null,
      "left": null,
      "margin": null,
      "max_height": null,
      "max_width": null,
      "min_height": null,
      "min_width": null,
      "object_fit": null,
      "object_position": null,
      "order": null,
      "overflow": null,
      "overflow_x": null,
      "overflow_y": null,
      "padding": null,
      "right": null,
      "top": null,
      "visibility": null,
      "width": null
     }
    },
    "f86209dce67a4536a13d895f09d66a11": {
     "model_module": "@jupyter-widgets/base",
     "model_name": "LayoutModel",
     "model_module_version": "1.2.0",
     "state": {
      "_model_module": "@jupyter-widgets/base",
      "_model_module_version": "1.2.0",
      "_model_name": "LayoutModel",
      "_view_count": null,
      "_view_module": "@jupyter-widgets/base",
      "_view_module_version": "1.2.0",
      "_view_name": "LayoutView",
      "align_content": null,
      "align_items": null,
      "align_self": null,
      "border": null,
      "bottom": null,
      "display": null,
      "flex": null,
      "flex_flow": null,
      "grid_area": null,
      "grid_auto_columns": null,
      "grid_auto_flow": null,
      "grid_auto_rows": null,
      "grid_column": null,
      "grid_gap": null,
      "grid_row": null,
      "grid_template_areas": null,
      "grid_template_columns": null,
      "grid_template_rows": null,
      "height": null,
      "justify_content": null,
      "justify_items": null,
      "left": null,
      "margin": null,
      "max_height": null,
      "max_width": null,
      "min_height": null,
      "min_width": null,
      "object_fit": null,
      "object_position": null,
      "order": null,
      "overflow": null,
      "overflow_x": null,
      "overflow_y": null,
      "padding": null,
      "right": null,
      "top": null,
      "visibility": null,
      "width": null
     }
    },
    "40a4af63d66742a99418e9146030441d": {
     "model_module": "@jupyter-widgets/controls",
     "model_name": "DescriptionStyleModel",
     "model_module_version": "1.5.0",
     "state": {
      "_model_module": "@jupyter-widgets/controls",
      "_model_module_version": "1.5.0",
      "_model_name": "DescriptionStyleModel",
      "_view_count": null,
      "_view_module": "@jupyter-widgets/base",
      "_view_module_version": "1.2.0",
      "_view_name": "StyleView",
      "description_width": ""
     }
    },
    "481e5df3dada4ed89b336f019c95df17": {
     "model_module": "@jupyter-widgets/base",
     "model_name": "LayoutModel",
     "model_module_version": "1.2.0",
     "state": {
      "_model_module": "@jupyter-widgets/base",
      "_model_module_version": "1.2.0",
      "_model_name": "LayoutModel",
      "_view_count": null,
      "_view_module": "@jupyter-widgets/base",
      "_view_module_version": "1.2.0",
      "_view_name": "LayoutView",
      "align_content": null,
      "align_items": null,
      "align_self": null,
      "border": null,
      "bottom": null,
      "display": null,
      "flex": null,
      "flex_flow": null,
      "grid_area": null,
      "grid_auto_columns": null,
      "grid_auto_flow": null,
      "grid_auto_rows": null,
      "grid_column": null,
      "grid_gap": null,
      "grid_row": null,
      "grid_template_areas": null,
      "grid_template_columns": null,
      "grid_template_rows": null,
      "height": null,
      "justify_content": null,
      "justify_items": null,
      "left": null,
      "margin": null,
      "max_height": null,
      "max_width": null,
      "min_height": null,
      "min_width": null,
      "object_fit": null,
      "object_position": null,
      "order": null,
      "overflow": null,
      "overflow_x": null,
      "overflow_y": null,
      "padding": null,
      "right": null,
      "top": null,
      "visibility": null,
      "width": null
     }
    },
    "f640cf5d4c204e5a848c11718dccfaa6": {
     "model_module": "@jupyter-widgets/controls",
     "model_name": "ProgressStyleModel",
     "model_module_version": "1.5.0",
     "state": {
      "_model_module": "@jupyter-widgets/controls",
      "_model_module_version": "1.5.0",
      "_model_name": "ProgressStyleModel",
      "_view_count": null,
      "_view_module": "@jupyter-widgets/base",
      "_view_module_version": "1.2.0",
      "_view_name": "StyleView",
      "bar_color": null,
      "description_width": ""
     }
    },
    "e4104ccaf9db4c6cb2c6befd9f2554e4": {
     "model_module": "@jupyter-widgets/base",
     "model_name": "LayoutModel",
     "model_module_version": "1.2.0",
     "state": {
      "_model_module": "@jupyter-widgets/base",
      "_model_module_version": "1.2.0",
      "_model_name": "LayoutModel",
      "_view_count": null,
      "_view_module": "@jupyter-widgets/base",
      "_view_module_version": "1.2.0",
      "_view_name": "LayoutView",
      "align_content": null,
      "align_items": null,
      "align_self": null,
      "border": null,
      "bottom": null,
      "display": null,
      "flex": null,
      "flex_flow": null,
      "grid_area": null,
      "grid_auto_columns": null,
      "grid_auto_flow": null,
      "grid_auto_rows": null,
      "grid_column": null,
      "grid_gap": null,
      "grid_row": null,
      "grid_template_areas": null,
      "grid_template_columns": null,
      "grid_template_rows": null,
      "height": null,
      "justify_content": null,
      "justify_items": null,
      "left": null,
      "margin": null,
      "max_height": null,
      "max_width": null,
      "min_height": null,
      "min_width": null,
      "object_fit": null,
      "object_position": null,
      "order": null,
      "overflow": null,
      "overflow_x": null,
      "overflow_y": null,
      "padding": null,
      "right": null,
      "top": null,
      "visibility": null,
      "width": null
     }
    },
    "4d85011377d6448eaf1806dfa8b4cc90": {
     "model_module": "@jupyter-widgets/controls",
     "model_name": "DescriptionStyleModel",
     "model_module_version": "1.5.0",
     "state": {
      "_model_module": "@jupyter-widgets/controls",
      "_model_module_version": "1.5.0",
      "_model_name": "DescriptionStyleModel",
      "_view_count": null,
      "_view_module": "@jupyter-widgets/base",
      "_view_module_version": "1.2.0",
      "_view_name": "StyleView",
      "description_width": ""
     }
    },
    "f79472ec94714345ae9a007b890d7108": {
     "model_module": "@jupyter-widgets/controls",
     "model_name": "HBoxModel",
     "model_module_version": "1.5.0",
     "state": {
      "_dom_classes": [],
      "_model_module": "@jupyter-widgets/controls",
      "_model_module_version": "1.5.0",
      "_model_name": "HBoxModel",
      "_view_count": null,
      "_view_module": "@jupyter-widgets/controls",
      "_view_module_version": "1.5.0",
      "_view_name": "HBoxView",
      "box_style": "",
      "children": [
       "IPY_MODEL_d5ea265ce9044124a17eac61ce40235a",
       "IPY_MODEL_a7270870ee904db8a05cf3be3a65711c",
       "IPY_MODEL_44570238501245659cae4f6dd4d76eab"
      ],
      "layout": "IPY_MODEL_f228e0ddb23846eaa92eee73cfb2a176"
     }
    },
    "d5ea265ce9044124a17eac61ce40235a": {
     "model_module": "@jupyter-widgets/controls",
     "model_name": "HTMLModel",
     "model_module_version": "1.5.0",
     "state": {
      "_dom_classes": [],
      "_model_module": "@jupyter-widgets/controls",
      "_model_module_version": "1.5.0",
      "_model_name": "HTMLModel",
      "_view_count": null,
      "_view_module": "@jupyter-widgets/controls",
      "_view_module_version": "1.5.0",
      "_view_name": "HTMLView",
      "description": "",
      "description_tooltip": null,
      "layout": "IPY_MODEL_5682d9f60ed14200932077c7e4d94398",
      "placeholder": "​",
      "style": "IPY_MODEL_c0c45dfbf6dd4da2b6fef93fc8fa3929",
      "value": "Train Epoch 128/128: 100%"
     }
    },
    "a7270870ee904db8a05cf3be3a65711c": {
     "model_module": "@jupyter-widgets/controls",
     "model_name": "FloatProgressModel",
     "model_module_version": "1.5.0",
     "state": {
      "_dom_classes": [],
      "_model_module": "@jupyter-widgets/controls",
      "_model_module_version": "1.5.0",
      "_model_name": "FloatProgressModel",
      "_view_count": null,
      "_view_module": "@jupyter-widgets/controls",
      "_view_module_version": "1.5.0",
      "_view_name": "ProgressView",
      "bar_style": "success",
      "description": "",
      "description_tooltip": null,
      "layout": "IPY_MODEL_8cafcffe95974a8780860f3f77518486",
      "max": 34,
      "min": 0,
      "orientation": "horizontal",
      "style": "IPY_MODEL_92d05ace3b984ed5b43436acb6614686",
      "value": 34
     }
    },
    "44570238501245659cae4f6dd4d76eab": {
     "model_module": "@jupyter-widgets/controls",
     "model_name": "HTMLModel",
     "model_module_version": "1.5.0",
     "state": {
      "_dom_classes": [],
      "_model_module": "@jupyter-widgets/controls",
      "_model_module_version": "1.5.0",
      "_model_name": "HTMLModel",
      "_view_count": null,
      "_view_module": "@jupyter-widgets/controls",
      "_view_module_version": "1.5.0",
      "_view_name": "HTMLView",
      "description": "",
      "description_tooltip": null,
      "layout": "IPY_MODEL_01516776ef7e4dde947deaebbd5b651f",
      "placeholder": "​",
      "style": "IPY_MODEL_36daad6608634bf6a949e1a7b42a8f7a",
      "value": " 34/34 [05:03&lt;00:00,  7.41s/ba, loss=2.3297]"
     }
    },
    "f228e0ddb23846eaa92eee73cfb2a176": {
     "model_module": "@jupyter-widgets/base",
     "model_name": "LayoutModel",
     "model_module_version": "1.2.0",
     "state": {
      "_model_module": "@jupyter-widgets/base",
      "_model_module_version": "1.2.0",
      "_model_name": "LayoutModel",
      "_view_count": null,
      "_view_module": "@jupyter-widgets/base",
      "_view_module_version": "1.2.0",
      "_view_name": "LayoutView",
      "align_content": null,
      "align_items": null,
      "align_self": null,
      "border": null,
      "bottom": null,
      "display": null,
      "flex": null,
      "flex_flow": null,
      "grid_area": null,
      "grid_auto_columns": null,
      "grid_auto_flow": null,
      "grid_auto_rows": null,
      "grid_column": null,
      "grid_gap": null,
      "grid_row": null,
      "grid_template_areas": null,
      "grid_template_columns": null,
      "grid_template_rows": null,
      "height": null,
      "justify_content": null,
      "justify_items": null,
      "left": null,
      "margin": null,
      "max_height": null,
      "max_width": null,
      "min_height": null,
      "min_width": null,
      "object_fit": null,
      "object_position": null,
      "order": null,
      "overflow": null,
      "overflow_x": null,
      "overflow_y": null,
      "padding": null,
      "right": null,
      "top": null,
      "visibility": null,
      "width": null
     }
    },
    "5682d9f60ed14200932077c7e4d94398": {
     "model_module": "@jupyter-widgets/base",
     "model_name": "LayoutModel",
     "model_module_version": "1.2.0",
     "state": {
      "_model_module": "@jupyter-widgets/base",
      "_model_module_version": "1.2.0",
      "_model_name": "LayoutModel",
      "_view_count": null,
      "_view_module": "@jupyter-widgets/base",
      "_view_module_version": "1.2.0",
      "_view_name": "LayoutView",
      "align_content": null,
      "align_items": null,
      "align_self": null,
      "border": null,
      "bottom": null,
      "display": null,
      "flex": null,
      "flex_flow": null,
      "grid_area": null,
      "grid_auto_columns": null,
      "grid_auto_flow": null,
      "grid_auto_rows": null,
      "grid_column": null,
      "grid_gap": null,
      "grid_row": null,
      "grid_template_areas": null,
      "grid_template_columns": null,
      "grid_template_rows": null,
      "height": null,
      "justify_content": null,
      "justify_items": null,
      "left": null,
      "margin": null,
      "max_height": null,
      "max_width": null,
      "min_height": null,
      "min_width": null,
      "object_fit": null,
      "object_position": null,
      "order": null,
      "overflow": null,
      "overflow_x": null,
      "overflow_y": null,
      "padding": null,
      "right": null,
      "top": null,
      "visibility": null,
      "width": null
     }
    },
    "c0c45dfbf6dd4da2b6fef93fc8fa3929": {
     "model_module": "@jupyter-widgets/controls",
     "model_name": "DescriptionStyleModel",
     "model_module_version": "1.5.0",
     "state": {
      "_model_module": "@jupyter-widgets/controls",
      "_model_module_version": "1.5.0",
      "_model_name": "DescriptionStyleModel",
      "_view_count": null,
      "_view_module": "@jupyter-widgets/base",
      "_view_module_version": "1.2.0",
      "_view_name": "StyleView",
      "description_width": ""
     }
    },
    "8cafcffe95974a8780860f3f77518486": {
     "model_module": "@jupyter-widgets/base",
     "model_name": "LayoutModel",
     "model_module_version": "1.2.0",
     "state": {
      "_model_module": "@jupyter-widgets/base",
      "_model_module_version": "1.2.0",
      "_model_name": "LayoutModel",
      "_view_count": null,
      "_view_module": "@jupyter-widgets/base",
      "_view_module_version": "1.2.0",
      "_view_name": "LayoutView",
      "align_content": null,
      "align_items": null,
      "align_self": null,
      "border": null,
      "bottom": null,
      "display": null,
      "flex": null,
      "flex_flow": null,
      "grid_area": null,
      "grid_auto_columns": null,
      "grid_auto_flow": null,
      "grid_auto_rows": null,
      "grid_column": null,
      "grid_gap": null,
      "grid_row": null,
      "grid_template_areas": null,
      "grid_template_columns": null,
      "grid_template_rows": null,
      "height": null,
      "justify_content": null,
      "justify_items": null,
      "left": null,
      "margin": null,
      "max_height": null,
      "max_width": null,
      "min_height": null,
      "min_width": null,
      "object_fit": null,
      "object_position": null,
      "order": null,
      "overflow": null,
      "overflow_x": null,
      "overflow_y": null,
      "padding": null,
      "right": null,
      "top": null,
      "visibility": null,
      "width": null
     }
    },
    "92d05ace3b984ed5b43436acb6614686": {
     "model_module": "@jupyter-widgets/controls",
     "model_name": "ProgressStyleModel",
     "model_module_version": "1.5.0",
     "state": {
      "_model_module": "@jupyter-widgets/controls",
      "_model_module_version": "1.5.0",
      "_model_name": "ProgressStyleModel",
      "_view_count": null,
      "_view_module": "@jupyter-widgets/base",
      "_view_module_version": "1.2.0",
      "_view_name": "StyleView",
      "bar_color": null,
      "description_width": ""
     }
    },
    "01516776ef7e4dde947deaebbd5b651f": {
     "model_module": "@jupyter-widgets/base",
     "model_name": "LayoutModel",
     "model_module_version": "1.2.0",
     "state": {
      "_model_module": "@jupyter-widgets/base",
      "_model_module_version": "1.2.0",
      "_model_name": "LayoutModel",
      "_view_count": null,
      "_view_module": "@jupyter-widgets/base",
      "_view_module_version": "1.2.0",
      "_view_name": "LayoutView",
      "align_content": null,
      "align_items": null,
      "align_self": null,
      "border": null,
      "bottom": null,
      "display": null,
      "flex": null,
      "flex_flow": null,
      "grid_area": null,
      "grid_auto_columns": null,
      "grid_auto_flow": null,
      "grid_auto_rows": null,
      "grid_column": null,
      "grid_gap": null,
      "grid_row": null,
      "grid_template_areas": null,
      "grid_template_columns": null,
      "grid_template_rows": null,
      "height": null,
      "justify_content": null,
      "justify_items": null,
      "left": null,
      "margin": null,
      "max_height": null,
      "max_width": null,
      "min_height": null,
      "min_width": null,
      "object_fit": null,
      "object_position": null,
      "order": null,
      "overflow": null,
      "overflow_x": null,
      "overflow_y": null,
      "padding": null,
      "right": null,
      "top": null,
      "visibility": null,
      "width": null
     }
    },
    "36daad6608634bf6a949e1a7b42a8f7a": {
     "model_module": "@jupyter-widgets/controls",
     "model_name": "DescriptionStyleModel",
     "model_module_version": "1.5.0",
     "state": {
      "_model_module": "@jupyter-widgets/controls",
      "_model_module_version": "1.5.0",
      "_model_name": "DescriptionStyleModel",
      "_view_count": null,
      "_view_module": "@jupyter-widgets/base",
      "_view_module_version": "1.2.0",
      "_view_name": "StyleView",
      "description_width": ""
     }
    }
   }
  }
 },
 "nbformat": 4,
 "nbformat_minor": 0
}