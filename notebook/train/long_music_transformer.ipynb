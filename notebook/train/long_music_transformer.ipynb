{
 "cells": [
  {
   "cell_type": "markdown",
   "source": [
    "# Train Music Transformer\n",
    "Since Fri. Feb. 25th, 2022\n",
    "\n",
    "Set up training in colab\n",
    "\n",
    "\n",
    "## Setup\n",
    "\n",
    "\n",
    "### Ipython\n",
    "\n"
   ],
   "metadata": {
    "collapsed": false
   }
  },
  {
   "cell_type": "code",
   "execution_count": 12,
   "outputs": [
    {
     "name": "stdout",
     "output_type": "stream",
     "text": [
      "The autoreload extension is already loaded. To reload it, use:\n",
      "  %reload_ext autoreload\n"
     ]
    }
   ],
   "source": [
    "%load_ext autoreload\n",
    "%autoreload 2\n",
    "\n"
   ],
   "metadata": {
    "collapsed": false,
    "pycharm": {
     "name": "#%%\n"
    }
   }
  },
  {
   "cell_type": "markdown",
   "source": [
    "### Colab\n",
    "\n"
   ],
   "metadata": {
    "collapsed": false
   }
  },
  {
   "cell_type": "code",
   "execution_count": 13,
   "outputs": [
    {
     "name": "stderr",
     "output_type": "stream",
     "text": [
      "ic| PATH_BASE: '/Users/stefanh/Documents/UMich/Research/Music with NLP'\n",
      "    DIR_PROJ: 'Symbolic-Music-Generation'\n",
      "    PKG_NM: 'musicnlp'\n"
     ]
    },
    {
     "data": {
      "text/plain": "('/Users/stefanh/Documents/UMich/Research/Music with NLP',\n 'Symbolic-Music-Generation',\n 'musicnlp')"
     },
     "execution_count": 13,
     "metadata": {},
     "output_type": "execute_result"
    }
   ],
   "source": [
    "import os\n",
    "import sys\n",
    "\n",
    "\n",
    "if 'google.colab' in sys.modules:\n",
    "    from google.colab import drive\n",
    "    drive.mount('/content/drive')\n",
    "\n",
    "    ! pip3 install sty icecream music21 transformers datasets\n",
    "\n",
    "    path = os.path.join('drive', 'My Drive', 'Research', 'Music with NLP', 'Symbolic-Music-Generation')\n",
    "    sys.path.append(path)\n",
    "    ! ls \"{path}\"\n",
    "\n",
    "\n",
    "    import time, os\n",
    "    os.environ['TZ'] = 'US/Eastern'\n",
    "    time.tzset()\n",
    "\n",
    "\n",
    "from icecream import ic\n",
    "\n",
    "from musicnlp.util import *\n",
    "\n",
    "ic(PATH_BASE, DIR_PROJ, PKG_NM)\n",
    "\n"
   ],
   "metadata": {
    "collapsed": false,
    "pycharm": {
     "name": "#%%\n"
    }
   }
  },
  {
   "cell_type": "markdown",
   "source": [
    "### code"
   ],
   "metadata": {
    "collapsed": false
   }
  },
  {
   "cell_type": "code",
   "execution_count": 14,
   "metadata": {
    "collapsed": true
   },
   "outputs": [],
   "source": [
    "from musicnlp.util import *\n",
    "from musicnlp.model import train\n",
    "\n",
    "\n",
    "seed = config('random-seed')\n",
    "\n"
   ]
  },
  {
   "cell_type": "markdown",
   "source": [
    "## Prep for training\n"
   ],
   "metadata": {
    "collapsed": false
   }
  },
  {
   "cell_type": "code",
   "execution_count": 15,
   "outputs": [
    {
     "name": "stderr",
     "output_type": "stream",
     "text": [
      "Loading cached processed dataset at /Users/stefanh/Documents/UMich/Research/Music with NLP/datasets/MNLP-Combined/hf_datasets/musicnlp music extraction, dnm=POP909, n=909, mode=melody, 2022-03-01 02-29-29/cache-ff7942304a725def.arrow\n",
      "Loading cached processed dataset at /Users/stefanh/Documents/UMich/Research/Music with NLP/datasets/MNLP-Combined/hf_datasets/musicnlp music extraction, dnm=POP909, n=909, mode=melody, 2022-03-01 02-29-29/cache-d41d6d0f7ce0165a.arrow\n",
      "Loading cached processed dataset at /Users/stefanh/Documents/UMich/Research/Music with NLP/datasets/MNLP-Combined/hf_datasets/musicnlp music extraction, dnm=POP909, n=909, mode=melody, 2022-03-01 02-29-29/cache-81263ce669207971.arrow\n",
      "Loading cached processed dataset at /Users/stefanh/Documents/UMich/Research/Music with NLP/datasets/MNLP-Combined/hf_datasets/musicnlp music extraction, dnm=POP909, n=909, mode=melody, 2022-03-01 02-29-29/cache-869d5199e6fde420.arrow\n",
      "Loading cached processed dataset at /Users/stefanh/Documents/UMich/Research/Music with NLP/datasets/MNLP-Combined/hf_datasets/musicnlp music extraction, dnm=POP909, n=909, mode=melody, 2022-03-01 02-29-29/cache-724d7c92b356bde1.arrow\n",
      "Loading cached processed dataset at /Users/stefanh/Documents/UMich/Research/Music with NLP/datasets/MNLP-Combined/hf_datasets/musicnlp music extraction, dnm=POP909, n=909, mode=melody, 2022-03-01 02-29-29/cache-683139250e89df9f.arrow\n",
      "Loading cached processed dataset at /Users/stefanh/Documents/UMich/Research/Music with NLP/datasets/MNLP-Combined/hf_datasets/musicnlp music extraction, dnm=POP909, n=909, mode=melody, 2022-03-01 02-29-29/cache-d093ceffb3742cc1.arrow\n",
      "Loading cached processed dataset at /Users/stefanh/Documents/UMich/Research/Music with NLP/datasets/MNLP-Combined/hf_datasets/musicnlp music extraction, dnm=POP909, n=909, mode=melody, 2022-03-01 02-29-29/cache-7c622f610dcf7865.arrow\n",
      "Loading cached shuffled indices for dataset at /Users/stefanh/Documents/UMich/Research/Music with NLP/datasets/MNLP-Combined/hf_datasets/musicnlp music extraction, dnm=POP909, n=909, mode=melody, 2022-03-01 02-29-29/cache-7e390780a9d52ae3.arrow\n",
      "ic| trainer.args.output_dir: ('/Users/stefanh/Documents/UMich/Research/Music with '\n",
      "                              'NLP/Symbolic-Music-Generation/models/reformer/2022-03-30_16-46-42')\n"
     ]
    },
    {
     "data": {
      "text/plain": "'/Users/stefanh/Documents/UMich/Research/Music with NLP/Symbolic-Music-Generation/models/reformer/2022-03-30_16-46-42'"
     },
     "execution_count": 15,
     "metadata": {},
     "output_type": "execute_result"
    }
   ],
   "source": [
    "fnm = 'musicnlp music extraction, dnm=POP909, n=909, mode=melody, 2022-03-01 02-29-29'\n",
    "\n",
    "md_nm = 'reformer'\n",
    "md_sz = 'debug'\n",
    "\n",
    "# n = 4\n",
    "n = None\n",
    "\n",
    "\n",
    "if md_nm != 'reformer':\n",
    "    import transformers\n",
    "    transformers.set_seed(seed)\n",
    "\n",
    "\n",
    "mdl, tokenizer, dset_tr, trainer = train.get_all_setup(\n",
    "    model_name=md_nm, model_size=md_sz, dataset_name=fnm, n_sample=n, dataset_seed=seed,\n",
    "    # model_config=model_config, train_args=train_args\n",
    ")\n",
    "ic(trainer.args.output_dir)\n",
    "\n"
   ],
   "metadata": {
    "collapsed": false,
    "pycharm": {
     "name": "#%%\n"
    }
   }
  },
  {
   "cell_type": "markdown",
   "source": [
    "## Train\n"
   ],
   "metadata": {
    "collapsed": false
   }
  },
  {
   "cell_type": "code",
   "execution_count": 16,
   "outputs": [
    {
     "name": "stdout",
     "output_type": "stream",
     "text": [
      "\u001B[38;2;0;186;142m2022-03-30 16:46:43\u001B[38;2;97;175;239m|\u001B[39m\u001B[49m\u001B[22m\u001B[23m\u001B[24m\u001B[25m\u001B[27m\u001B[28m\u001B[29m\u001B[38;2;198;120;221m[MyTrainer Training]\u001B[38;2;97;175;239m::\u001B[38;2;198;120;221mon_train_begin\u001B[38;2;97;175;239m::\u001B[38;2;198;120;221mtrain.py\u001B[38;2;97;175;239m:\u001B[38;2;198;120;221m128\u001B[38;2;97;175;239m, \u001B[39m\u001B[49m\u001B[22m\u001B[23m\u001B[24m\u001B[25m\u001B[27m\u001B[28m\u001B[29mINFO\u001B[39m\u001B[49m\u001B[22m\u001B[23m\u001B[24m\u001B[25m\u001B[27m\u001B[28m\u001B[29m\u001B[38;2;97;175;239m - \u001B[39m\u001B[49m\u001B[22m\u001B[23m\u001B[24m\u001B[25m\u001B[27m\u001B[28m\u001B[29mTraining started with model {\u001B[37m\u001B[39;49;00m\n",
      "\u001B[37m    \u001B[39;49;00m\u001B[94m\"hash_seed\"\u001B[39;49;00m:\u001B[37m \u001B[39;49;00m\u001B[34mnull\u001B[39;49;00m,\u001B[37m\u001B[39;49;00m\n",
      "\u001B[37m    \u001B[39;49;00m\u001B[94m\"vocab_size\"\u001B[39;49;00m:\u001B[37m \u001B[39;49;00m\u001B[34m390\u001B[39;49;00m,\u001B[37m\u001B[39;49;00m\n",
      "\u001B[37m    \u001B[39;49;00m\u001B[94m\"attention_head_size\"\u001B[39;49;00m:\u001B[37m \u001B[39;49;00m\u001B[34m64\u001B[39;49;00m,\u001B[37m\u001B[39;49;00m\n",
      "\u001B[37m    \u001B[39;49;00m\u001B[94m\"hidden_size\"\u001B[39;49;00m:\u001B[37m \u001B[39;49;00m\u001B[34m256\u001B[39;49;00m,\u001B[37m\u001B[39;49;00m\n",
      "\u001B[37m    \u001B[39;49;00m\u001B[94m\"num_attention_heads\"\u001B[39;49;00m:\u001B[37m \u001B[39;49;00m\u001B[34m12\u001B[39;49;00m,\u001B[37m\u001B[39;49;00m\n",
      "\u001B[37m    \u001B[39;49;00m\u001B[94m\"num_hashes\"\u001B[39;49;00m:\u001B[37m \u001B[39;49;00m\u001B[34m1\u001B[39;49;00m,\u001B[37m\u001B[39;49;00m\n",
      "\u001B[37m    \u001B[39;49;00m\u001B[94m\"num_hidden_layers\"\u001B[39;49;00m:\u001B[37m \u001B[39;49;00m\u001B[34m6\u001B[39;49;00m,\u001B[37m\u001B[39;49;00m\n",
      "\u001B[37m    \u001B[39;49;00m\u001B[94m\"num_buckets\"\u001B[39;49;00m:\u001B[37m \u001B[39;49;00m\u001B[34mnull\u001B[39;49;00m,\u001B[37m\u001B[39;49;00m\n",
      "\u001B[37m    \u001B[39;49;00m\u001B[94m\"lsh_attn_chunk_length\"\u001B[39;49;00m:\u001B[37m \u001B[39;49;00m\u001B[34m64\u001B[39;49;00m,\u001B[37m\u001B[39;49;00m\n",
      "\u001B[37m    \u001B[39;49;00m\u001B[94m\"local_attn_chunk_length\"\u001B[39;49;00m:\u001B[37m \u001B[39;49;00m\u001B[34m64\u001B[39;49;00m,\u001B[37m\u001B[39;49;00m\n",
      "\u001B[37m    \u001B[39;49;00m\u001B[94m\"lsh_num_chunks_after\"\u001B[39;49;00m:\u001B[37m \u001B[39;49;00m\u001B[34m0\u001B[39;49;00m,\u001B[37m\u001B[39;49;00m\n",
      "\u001B[37m    \u001B[39;49;00m\u001B[94m\"lsh_num_chunks_before\"\u001B[39;49;00m:\u001B[37m \u001B[39;49;00m\u001B[34m1\u001B[39;49;00m,\u001B[37m\u001B[39;49;00m\n",
      "\u001B[37m    \u001B[39;49;00m\u001B[94m\"local_num_chunks_after\"\u001B[39;49;00m:\u001B[37m \u001B[39;49;00m\u001B[34m0\u001B[39;49;00m,\u001B[37m\u001B[39;49;00m\n",
      "\u001B[37m    \u001B[39;49;00m\u001B[94m\"local_num_chunks_before\"\u001B[39;49;00m:\u001B[37m \u001B[39;49;00m\u001B[34m1\u001B[39;49;00m,\u001B[37m\u001B[39;49;00m\n",
      "\u001B[37m    \u001B[39;49;00m\u001B[94m\"hidden_act\"\u001B[39;49;00m:\u001B[37m \u001B[39;49;00m\u001B[33m\"relu\"\u001B[39;49;00m,\u001B[37m\u001B[39;49;00m\n",
      "\u001B[37m    \u001B[39;49;00m\u001B[94m\"feed_forward_size\"\u001B[39;49;00m:\u001B[37m \u001B[39;49;00m\u001B[34m512\u001B[39;49;00m,\u001B[37m\u001B[39;49;00m\n",
      "\u001B[37m    \u001B[39;49;00m\u001B[94m\"hidden_dropout_prob\"\u001B[39;49;00m:\u001B[37m \u001B[39;49;00m\u001B[34m0.05\u001B[39;49;00m,\u001B[37m\u001B[39;49;00m\n",
      "\u001B[37m    \u001B[39;49;00m\u001B[94m\"lsh_attention_probs_dropout_prob\"\u001B[39;49;00m:\u001B[37m \u001B[39;49;00m\u001B[34m0.0\u001B[39;49;00m,\u001B[37m\u001B[39;49;00m\n",
      "\u001B[37m    \u001B[39;49;00m\u001B[94m\"local_attention_probs_dropout_prob\"\u001B[39;49;00m:\u001B[37m \u001B[39;49;00m\u001B[34m0.05\u001B[39;49;00m,\u001B[37m\u001B[39;49;00m\n",
      "\u001B[37m    \u001B[39;49;00m\u001B[94m\"max_position_embeddings\"\u001B[39;49;00m:\u001B[37m \u001B[39;49;00m\u001B[34m1024\u001B[39;49;00m,\u001B[37m\u001B[39;49;00m\n",
      "\u001B[37m    \u001B[39;49;00m\u001B[94m\"initializer_range\"\u001B[39;49;00m:\u001B[37m \u001B[39;49;00m\u001B[34m0.02\u001B[39;49;00m,\u001B[37m\u001B[39;49;00m\n",
      "\u001B[37m    \u001B[39;49;00m\u001B[94m\"layer_norm_eps\"\u001B[39;49;00m:\u001B[37m \u001B[39;49;00m\u001B[34m1e-12\u001B[39;49;00m,\u001B[37m\u001B[39;49;00m\n",
      "\u001B[37m    \u001B[39;49;00m\u001B[94m\"axial_pos_embds\"\u001B[39;49;00m:\u001B[37m \u001B[39;49;00m\u001B[34mtrue\u001B[39;49;00m,\u001B[37m\u001B[39;49;00m\n",
      "\u001B[37m    \u001B[39;49;00m\u001B[94m\"axial_pos_shape\"\u001B[39;49;00m:\u001B[37m \u001B[39;49;00m[\u001B[37m\u001B[39;49;00m\n",
      "\u001B[37m        \u001B[39;49;00m\u001B[34m32\u001B[39;49;00m,\u001B[37m\u001B[39;49;00m\n",
      "\u001B[37m        \u001B[39;49;00m\u001B[34m32\u001B[39;49;00m\u001B[37m\u001B[39;49;00m\n",
      "\u001B[37m    \u001B[39;49;00m],\u001B[37m\u001B[39;49;00m\n",
      "\u001B[37m    \u001B[39;49;00m\u001B[94m\"axial_pos_embds_dim\"\u001B[39;49;00m:\u001B[37m \u001B[39;49;00m[\u001B[37m\u001B[39;49;00m\n",
      "\u001B[37m        \u001B[39;49;00m\u001B[34m64\u001B[39;49;00m,\u001B[37m\u001B[39;49;00m\n",
      "\u001B[37m        \u001B[39;49;00m\u001B[34m192\u001B[39;49;00m\u001B[37m\u001B[39;49;00m\n",
      "\u001B[37m    \u001B[39;49;00m],\u001B[37m\u001B[39;49;00m\n",
      "\u001B[37m    \u001B[39;49;00m\u001B[94m\"axial_norm_std\"\u001B[39;49;00m:\u001B[37m \u001B[39;49;00m\u001B[34m1.0\u001B[39;49;00m,\u001B[37m\u001B[39;49;00m\n",
      "\u001B[37m    \u001B[39;49;00m\u001B[94m\"chunk_size_lm_head\"\u001B[39;49;00m:\u001B[37m \u001B[39;49;00m\u001B[34m0\u001B[39;49;00m,\u001B[37m\u001B[39;49;00m\n",
      "\u001B[37m    \u001B[39;49;00m\u001B[94m\"attn_layers\"\u001B[39;49;00m:\u001B[37m \u001B[39;49;00m[\u001B[37m\u001B[39;49;00m\n",
      "\u001B[37m        \u001B[39;49;00m\u001B[33m\"local\"\u001B[39;49;00m,\u001B[37m\u001B[39;49;00m\n",
      "\u001B[37m        \u001B[39;49;00m\u001B[33m\"lsh\"\u001B[39;49;00m,\u001B[37m\u001B[39;49;00m\n",
      "\u001B[37m        \u001B[39;49;00m\u001B[33m\"local\"\u001B[39;49;00m,\u001B[37m\u001B[39;49;00m\n",
      "\u001B[37m        \u001B[39;49;00m\u001B[33m\"lsh\"\u001B[39;49;00m,\u001B[37m\u001B[39;49;00m\n",
      "\u001B[37m        \u001B[39;49;00m\u001B[33m\"local\"\u001B[39;49;00m,\u001B[37m\u001B[39;49;00m\n",
      "\u001B[37m        \u001B[39;49;00m\u001B[33m\"lsh\"\u001B[39;49;00m\u001B[37m\u001B[39;49;00m\n",
      "\u001B[37m    \u001B[39;49;00m],\u001B[37m\u001B[39;49;00m\n",
      "\u001B[37m    \u001B[39;49;00m\u001B[94m\"use_cache\"\u001B[39;49;00m:\u001B[37m \u001B[39;49;00m\u001B[34mtrue\u001B[39;49;00m,\u001B[37m\u001B[39;49;00m\n",
      "\u001B[37m    \u001B[39;49;00m\u001B[94m\"classifier_dropout\"\u001B[39;49;00m:\u001B[37m \u001B[39;49;00m\u001B[34mnull\u001B[39;49;00m,\u001B[37m\u001B[39;49;00m\n",
      "\u001B[37m    \u001B[39;49;00m\u001B[94m\"return_dict\"\u001B[39;49;00m:\u001B[37m \u001B[39;49;00m\u001B[34mtrue\u001B[39;49;00m,\u001B[37m\u001B[39;49;00m\n",
      "\u001B[37m    \u001B[39;49;00m\u001B[94m\"output_hidden_states\"\u001B[39;49;00m:\u001B[37m \u001B[39;49;00m\u001B[34mfalse\u001B[39;49;00m,\u001B[37m\u001B[39;49;00m\n",
      "\u001B[37m    \u001B[39;49;00m\u001B[94m\"output_attentions\"\u001B[39;49;00m:\u001B[37m \u001B[39;49;00m\u001B[34mfalse\u001B[39;49;00m,\u001B[37m\u001B[39;49;00m\n",
      "\u001B[37m    \u001B[39;49;00m\u001B[94m\"torchscript\"\u001B[39;49;00m:\u001B[37m \u001B[39;49;00m\u001B[34mfalse\u001B[39;49;00m,\u001B[37m\u001B[39;49;00m\n",
      "\u001B[37m    \u001B[39;49;00m\u001B[94m\"torch_dtype\"\u001B[39;49;00m:\u001B[37m \u001B[39;49;00m\u001B[34mnull\u001B[39;49;00m,\u001B[37m\u001B[39;49;00m\n",
      "\u001B[37m    \u001B[39;49;00m\u001B[94m\"use_bfloat16\"\u001B[39;49;00m:\u001B[37m \u001B[39;49;00m\u001B[34mfalse\u001B[39;49;00m,\u001B[37m\u001B[39;49;00m\n",
      "\u001B[37m    \u001B[39;49;00m\u001B[94m\"pruned_heads\"\u001B[39;49;00m:\u001B[37m \u001B[39;49;00m{},\u001B[37m\u001B[39;49;00m\n",
      "\u001B[37m    \u001B[39;49;00m\u001B[94m\"tie_word_embeddings\"\u001B[39;49;00m:\u001B[37m \u001B[39;49;00m\u001B[34mfalse\u001B[39;49;00m,\u001B[37m\u001B[39;49;00m\n",
      "\u001B[37m    \u001B[39;49;00m\u001B[94m\"is_encoder_decoder\"\u001B[39;49;00m:\u001B[37m \u001B[39;49;00m\u001B[34mfalse\u001B[39;49;00m,\u001B[37m\u001B[39;49;00m\n",
      "\u001B[37m    \u001B[39;49;00m\u001B[94m\"is_decoder\"\u001B[39;49;00m:\u001B[37m \u001B[39;49;00m\u001B[34mtrue\u001B[39;49;00m,\u001B[37m\u001B[39;49;00m\n",
      "\u001B[37m    \u001B[39;49;00m\u001B[94m\"cross_attention_hidden_size\"\u001B[39;49;00m:\u001B[37m \u001B[39;49;00m\u001B[34mnull\u001B[39;49;00m,\u001B[37m\u001B[39;49;00m\n",
      "\u001B[37m    \u001B[39;49;00m\u001B[94m\"add_cross_attention\"\u001B[39;49;00m:\u001B[37m \u001B[39;49;00m\u001B[34mfalse\u001B[39;49;00m,\u001B[37m\u001B[39;49;00m\n",
      "\u001B[37m    \u001B[39;49;00m\u001B[94m\"tie_encoder_decoder\"\u001B[39;49;00m:\u001B[37m \u001B[39;49;00m\u001B[34mfalse\u001B[39;49;00m,\u001B[37m\u001B[39;49;00m\n",
      "\u001B[37m    \u001B[39;49;00m\u001B[94m\"max_length\"\u001B[39;49;00m:\u001B[37m \u001B[39;49;00m\u001B[34m20\u001B[39;49;00m,\u001B[37m\u001B[39;49;00m\n",
      "\u001B[37m    \u001B[39;49;00m\u001B[94m\"min_length\"\u001B[39;49;00m:\u001B[37m \u001B[39;49;00m\u001B[34m0\u001B[39;49;00m,\u001B[37m\u001B[39;49;00m\n",
      "\u001B[37m    \u001B[39;49;00m\u001B[94m\"do_sample\"\u001B[39;49;00m:\u001B[37m \u001B[39;49;00m\u001B[34mfalse\u001B[39;49;00m,\u001B[37m\u001B[39;49;00m\n",
      "\u001B[37m    \u001B[39;49;00m\u001B[94m\"early_stopping\"\u001B[39;49;00m:\u001B[37m \u001B[39;49;00m\u001B[34mfalse\u001B[39;49;00m,\u001B[37m\u001B[39;49;00m\n",
      "\u001B[37m    \u001B[39;49;00m\u001B[94m\"num_beams\"\u001B[39;49;00m:\u001B[37m \u001B[39;49;00m\u001B[34m1\u001B[39;49;00m,\u001B[37m\u001B[39;49;00m\n",
      "\u001B[37m    \u001B[39;49;00m\u001B[94m\"num_beam_groups\"\u001B[39;49;00m:\u001B[37m \u001B[39;49;00m\u001B[34m1\u001B[39;49;00m,\u001B[37m\u001B[39;49;00m\n",
      "\u001B[37m    \u001B[39;49;00m\u001B[94m\"diversity_penalty\"\u001B[39;49;00m:\u001B[37m \u001B[39;49;00m\u001B[34m0.0\u001B[39;49;00m,\u001B[37m\u001B[39;49;00m\n",
      "\u001B[37m    \u001B[39;49;00m\u001B[94m\"temperature\"\u001B[39;49;00m:\u001B[37m \u001B[39;49;00m\u001B[34m1.0\u001B[39;49;00m,\u001B[37m\u001B[39;49;00m\n",
      "\u001B[37m    \u001B[39;49;00m\u001B[94m\"top_k\"\u001B[39;49;00m:\u001B[37m \u001B[39;49;00m\u001B[34m50\u001B[39;49;00m,\u001B[37m\u001B[39;49;00m\n",
      "\u001B[37m    \u001B[39;49;00m\u001B[94m\"top_p\"\u001B[39;49;00m:\u001B[37m \u001B[39;49;00m\u001B[34m1.0\u001B[39;49;00m,\u001B[37m\u001B[39;49;00m\n",
      "\u001B[37m    \u001B[39;49;00m\u001B[94m\"repetition_penalty\"\u001B[39;49;00m:\u001B[37m \u001B[39;49;00m\u001B[34m1.0\u001B[39;49;00m,\u001B[37m\u001B[39;49;00m\n",
      "\u001B[37m    \u001B[39;49;00m\u001B[94m\"length_penalty\"\u001B[39;49;00m:\u001B[37m \u001B[39;49;00m\u001B[34m1.0\u001B[39;49;00m,\u001B[37m\u001B[39;49;00m\n",
      "\u001B[37m    \u001B[39;49;00m\u001B[94m\"no_repeat_ngram_size\"\u001B[39;49;00m:\u001B[37m \u001B[39;49;00m\u001B[34m0\u001B[39;49;00m,\u001B[37m\u001B[39;49;00m\n",
      "\u001B[37m    \u001B[39;49;00m\u001B[94m\"encoder_no_repeat_ngram_size\"\u001B[39;49;00m:\u001B[37m \u001B[39;49;00m\u001B[34m0\u001B[39;49;00m,\u001B[37m\u001B[39;49;00m\n",
      "\u001B[37m    \u001B[39;49;00m\u001B[94m\"bad_words_ids\"\u001B[39;49;00m:\u001B[37m \u001B[39;49;00m\u001B[34mnull\u001B[39;49;00m,\u001B[37m\u001B[39;49;00m\n",
      "\u001B[37m    \u001B[39;49;00m\u001B[94m\"num_return_sequences\"\u001B[39;49;00m:\u001B[37m \u001B[39;49;00m\u001B[34m1\u001B[39;49;00m,\u001B[37m\u001B[39;49;00m\n",
      "\u001B[37m    \u001B[39;49;00m\u001B[94m\"chunk_size_feed_forward\"\u001B[39;49;00m:\u001B[37m \u001B[39;49;00m\u001B[34m0\u001B[39;49;00m,\u001B[37m\u001B[39;49;00m\n",
      "\u001B[37m    \u001B[39;49;00m\u001B[94m\"output_scores\"\u001B[39;49;00m:\u001B[37m \u001B[39;49;00m\u001B[34mfalse\u001B[39;49;00m,\u001B[37m\u001B[39;49;00m\n",
      "\u001B[37m    \u001B[39;49;00m\u001B[94m\"return_dict_in_generate\"\u001B[39;49;00m:\u001B[37m \u001B[39;49;00m\u001B[34mfalse\u001B[39;49;00m,\u001B[37m\u001B[39;49;00m\n",
      "\u001B[37m    \u001B[39;49;00m\u001B[94m\"forced_bos_token_id\"\u001B[39;49;00m:\u001B[37m \u001B[39;49;00m\u001B[34mnull\u001B[39;49;00m,\u001B[37m\u001B[39;49;00m\n",
      "\u001B[37m    \u001B[39;49;00m\u001B[94m\"forced_eos_token_id\"\u001B[39;49;00m:\u001B[37m \u001B[39;49;00m\u001B[34mnull\u001B[39;49;00m,\u001B[37m\u001B[39;49;00m\n",
      "\u001B[37m    \u001B[39;49;00m\u001B[94m\"remove_invalid_values\"\u001B[39;49;00m:\u001B[37m \u001B[39;49;00m\u001B[34mfalse\u001B[39;49;00m,\u001B[37m\u001B[39;49;00m\n",
      "\u001B[37m    \u001B[39;49;00m\u001B[94m\"architectures\"\u001B[39;49;00m:\u001B[37m \u001B[39;49;00m\u001B[34mnull\u001B[39;49;00m,\u001B[37m\u001B[39;49;00m\n",
      "\u001B[37m    \u001B[39;49;00m\u001B[94m\"finetuning_task\"\u001B[39;49;00m:\u001B[37m \u001B[39;49;00m\u001B[34mnull\u001B[39;49;00m,\u001B[37m\u001B[39;49;00m\n",
      "\u001B[37m    \u001B[39;49;00m\u001B[94m\"id2label\"\u001B[39;49;00m:\u001B[37m \u001B[39;49;00m{\u001B[37m\u001B[39;49;00m\n",
      "\u001B[37m        \u001B[39;49;00m\u001B[94m\"0\"\u001B[39;49;00m:\u001B[37m \u001B[39;49;00m\u001B[33m\"LABEL_0\"\u001B[39;49;00m,\u001B[37m\u001B[39;49;00m\n",
      "\u001B[37m        \u001B[39;49;00m\u001B[94m\"1\"\u001B[39;49;00m:\u001B[37m \u001B[39;49;00m\u001B[33m\"LABEL_1\"\u001B[39;49;00m\u001B[37m\u001B[39;49;00m\n",
      "\u001B[37m    \u001B[39;49;00m},\u001B[37m\u001B[39;49;00m\n",
      "\u001B[37m    \u001B[39;49;00m\u001B[94m\"label2id\"\u001B[39;49;00m:\u001B[37m \u001B[39;49;00m{\u001B[37m\u001B[39;49;00m\n",
      "\u001B[37m        \u001B[39;49;00m\u001B[94m\"LABEL_0\"\u001B[39;49;00m:\u001B[37m \u001B[39;49;00m\u001B[34m0\u001B[39;49;00m,\u001B[37m\u001B[39;49;00m\n",
      "\u001B[37m        \u001B[39;49;00m\u001B[94m\"LABEL_1\"\u001B[39;49;00m:\u001B[37m \u001B[39;49;00m\u001B[34m1\u001B[39;49;00m\u001B[37m\u001B[39;49;00m\n",
      "\u001B[37m    \u001B[39;49;00m},\u001B[37m\u001B[39;49;00m\n",
      "\u001B[37m    \u001B[39;49;00m\u001B[94m\"tokenizer_class\"\u001B[39;49;00m:\u001B[37m \u001B[39;49;00m\u001B[34mnull\u001B[39;49;00m,\u001B[37m\u001B[39;49;00m\n",
      "\u001B[37m    \u001B[39;49;00m\u001B[94m\"prefix\"\u001B[39;49;00m:\u001B[37m \u001B[39;49;00m\u001B[34mnull\u001B[39;49;00m,\u001B[37m\u001B[39;49;00m\n",
      "\u001B[37m    \u001B[39;49;00m\u001B[94m\"bos_token_id\"\u001B[39;49;00m:\u001B[37m \u001B[39;49;00m\u001B[34mnull\u001B[39;49;00m,\u001B[37m\u001B[39;49;00m\n",
      "\u001B[37m    \u001B[39;49;00m\u001B[94m\"pad_token_id\"\u001B[39;49;00m:\u001B[37m \u001B[39;49;00m\u001B[34m389\u001B[39;49;00m,\u001B[37m\u001B[39;49;00m\n",
      "\u001B[37m    \u001B[39;49;00m\u001B[94m\"eos_token_id\"\u001B[39;49;00m:\u001B[37m \u001B[39;49;00m\u001B[34m0\u001B[39;49;00m,\u001B[37m\u001B[39;49;00m\n",
      "\u001B[37m    \u001B[39;49;00m\u001B[94m\"sep_token_id\"\u001B[39;49;00m:\u001B[37m \u001B[39;49;00m\u001B[34mnull\u001B[39;49;00m,\u001B[37m\u001B[39;49;00m\n",
      "\u001B[37m    \u001B[39;49;00m\u001B[94m\"decoder_start_token_id\"\u001B[39;49;00m:\u001B[37m \u001B[39;49;00m\u001B[34mnull\u001B[39;49;00m,\u001B[37m\u001B[39;49;00m\n",
      "\u001B[37m    \u001B[39;49;00m\u001B[94m\"task_specific_params\"\u001B[39;49;00m:\u001B[37m \u001B[39;49;00m\u001B[34mnull\u001B[39;49;00m,\u001B[37m\u001B[39;49;00m\n",
      "\u001B[37m    \u001B[39;49;00m\u001B[94m\"problem_type\"\u001B[39;49;00m:\u001B[37m \u001B[39;49;00m\u001B[34mnull\u001B[39;49;00m,\u001B[37m\u001B[39;49;00m\n",
      "\u001B[37m    \u001B[39;49;00m\u001B[94m\"_name_or_path\"\u001B[39;49;00m:\u001B[37m \u001B[39;49;00m\u001B[33m\"\"\u001B[39;49;00m,\u001B[37m\u001B[39;49;00m\n",
      "\u001B[37m    \u001B[39;49;00m\u001B[94m\"transformers_version\"\u001B[39;49;00m:\u001B[37m \u001B[39;49;00m\u001B[33m\"4.16.2\"\u001B[39;49;00m,\u001B[37m\u001B[39;49;00m\n",
      "\u001B[37m    \u001B[39;49;00m\u001B[94m\"model_type\"\u001B[39;49;00m:\u001B[37m \u001B[39;49;00m\u001B[33m\"reformer\"\u001B[39;49;00m\u001B[37m\u001B[39;49;00m\n",
      "}\u001B[37m\u001B[39;49;00m\n",
      " on {\u001B[37m\u001B[39;49;00m\n",
      "\u001B[37m    \u001B[39;49;00m\u001B[94m\"#data\"\u001B[39;49;00m:\u001B[37m \u001B[39;49;00m\u001B[34m909\u001B[39;49;00m,\u001B[37m\u001B[39;49;00m\n",
      "\u001B[37m    \u001B[39;49;00m\u001B[94m\"model size\"\u001B[39;49;00m:\u001B[37m \u001B[39;49;00m\u001B[34m1024\u001B[39;49;00m,\u001B[37m\u001B[39;49;00m\n",
      "\u001B[37m    \u001B[39;49;00m\u001B[94m\"learning rate\"\u001B[39;49;00m:\u001B[37m \u001B[39;49;00m\u001B[34m0.0003\u001B[39;49;00m,\u001B[37m\u001B[39;49;00m\n",
      "\u001B[37m    \u001B[39;49;00m\u001B[94m\"batch shape\"\u001B[39;49;00m:\u001B[37m \u001B[39;49;00m[\u001B[37m\u001B[39;49;00m\n",
      "\u001B[37m        \u001B[39;49;00m\u001B[34m4\u001B[39;49;00m,\u001B[37m\u001B[39;49;00m\n",
      "\u001B[37m        \u001B[39;49;00m\u001B[34m1024\u001B[39;49;00m\u001B[37m\u001B[39;49;00m\n",
      "\u001B[37m    \u001B[39;49;00m],\u001B[37m\u001B[39;49;00m\n",
      "\u001B[37m    \u001B[39;49;00m\u001B[94m\"#epochs\"\u001B[39;49;00m:\u001B[37m \u001B[39;49;00m\u001B[34m32\u001B[39;49;00m,\u001B[37m\u001B[39;49;00m\n",
      "\u001B[37m    \u001B[39;49;00m\u001B[94m\"#steps\"\u001B[39;49;00m:\u001B[37m \u001B[39;49;00m\u001B[34m7264\u001B[39;49;00m\u001B[37m\u001B[39;49;00m\n",
      "}\u001B[37m\u001B[39;49;00m\n",
      " with training args {\u001B[37m\u001B[39;49;00m\n",
      "\u001B[37m    \u001B[39;49;00m\u001B[94m\"output_dir\"\u001B[39;49;00m:\u001B[37m \u001B[39;49;00m\u001B[33m\"/Users/stefanh/Documents/UMich/Research/Music with NLP/Symbolic-Music-Generation/models/reformer/2022-03-30_16-46-42\"\u001B[39;49;00m,\u001B[37m\u001B[39;49;00m\n",
      "\u001B[37m    \u001B[39;49;00m\u001B[94m\"overwrite_output_dir\"\u001B[39;49;00m:\u001B[37m \u001B[39;49;00m\u001B[34mfalse\u001B[39;49;00m,\u001B[37m\u001B[39;49;00m\n",
      "\u001B[37m    \u001B[39;49;00m\u001B[94m\"do_train\"\u001B[39;49;00m:\u001B[37m \u001B[39;49;00m\u001B[34mtrue\u001B[39;49;00m,\u001B[37m\u001B[39;49;00m\n",
      "\u001B[37m    \u001B[39;49;00m\u001B[94m\"do_eval\"\u001B[39;49;00m:\u001B[37m \u001B[39;49;00m\u001B[34mfalse\u001B[39;49;00m,\u001B[37m\u001B[39;49;00m\n",
      "\u001B[37m    \u001B[39;49;00m\u001B[94m\"do_predict\"\u001B[39;49;00m:\u001B[37m \u001B[39;49;00m\u001B[34mfalse\u001B[39;49;00m,\u001B[37m\u001B[39;49;00m\n",
      "\u001B[37m    \u001B[39;49;00m\u001B[94m\"evaluation_strategy\"\u001B[39;49;00m:\u001B[37m \u001B[39;49;00m\u001B[33m\"no\"\u001B[39;49;00m,\u001B[37m\u001B[39;49;00m\n",
      "\u001B[37m    \u001B[39;49;00m\u001B[94m\"prediction_loss_only\"\u001B[39;49;00m:\u001B[37m \u001B[39;49;00m\u001B[34mfalse\u001B[39;49;00m,\u001B[37m\u001B[39;49;00m\n",
      "\u001B[37m    \u001B[39;49;00m\u001B[94m\"per_device_train_batch_size\"\u001B[39;49;00m:\u001B[37m \u001B[39;49;00m\u001B[34m4\u001B[39;49;00m,\u001B[37m\u001B[39;49;00m\n",
      "\u001B[37m    \u001B[39;49;00m\u001B[94m\"per_device_eval_batch_size\"\u001B[39;49;00m:\u001B[37m \u001B[39;49;00m\u001B[34m8\u001B[39;49;00m,\u001B[37m\u001B[39;49;00m\n",
      "\u001B[37m    \u001B[39;49;00m\u001B[94m\"per_gpu_train_batch_size\"\u001B[39;49;00m:\u001B[37m \u001B[39;49;00m\u001B[34mnull\u001B[39;49;00m,\u001B[37m\u001B[39;49;00m\n",
      "\u001B[37m    \u001B[39;49;00m\u001B[94m\"per_gpu_eval_batch_size\"\u001B[39;49;00m:\u001B[37m \u001B[39;49;00m\u001B[34m4\u001B[39;49;00m,\u001B[37m\u001B[39;49;00m\n",
      "\u001B[37m    \u001B[39;49;00m\u001B[94m\"gradient_accumulation_steps\"\u001B[39;49;00m:\u001B[37m \u001B[39;49;00m\u001B[34m1\u001B[39;49;00m,\u001B[37m\u001B[39;49;00m\n",
      "\u001B[37m    \u001B[39;49;00m\u001B[94m\"eval_accumulation_steps\"\u001B[39;49;00m:\u001B[37m \u001B[39;49;00m\u001B[34mnull\u001B[39;49;00m,\u001B[37m\u001B[39;49;00m\n",
      "\u001B[37m    \u001B[39;49;00m\u001B[94m\"learning_rate\"\u001B[39;49;00m:\u001B[37m \u001B[39;49;00m\u001B[34m0.0003\u001B[39;49;00m,\u001B[37m\u001B[39;49;00m\n",
      "\u001B[37m    \u001B[39;49;00m\u001B[94m\"weight_decay\"\u001B[39;49;00m:\u001B[37m \u001B[39;49;00m\u001B[34m0\u001B[39;49;00m,\u001B[37m\u001B[39;49;00m\n",
      "\u001B[37m    \u001B[39;49;00m\u001B[94m\"adam_beta1\"\u001B[39;49;00m:\u001B[37m \u001B[39;49;00m\u001B[34m0.9\u001B[39;49;00m,\u001B[37m\u001B[39;49;00m\n",
      "\u001B[37m    \u001B[39;49;00m\u001B[94m\"adam_beta2\"\u001B[39;49;00m:\u001B[37m \u001B[39;49;00m\u001B[34m0.999\u001B[39;49;00m,\u001B[37m\u001B[39;49;00m\n",
      "\u001B[37m    \u001B[39;49;00m\u001B[94m\"adam_epsilon\"\u001B[39;49;00m:\u001B[37m \u001B[39;49;00m\u001B[34m1e-08\u001B[39;49;00m,\u001B[37m\u001B[39;49;00m\n",
      "\u001B[37m    \u001B[39;49;00m\u001B[94m\"max_grad_norm\"\u001B[39;49;00m:\u001B[37m \u001B[39;49;00m\u001B[34m1\u001B[39;49;00m,\u001B[37m\u001B[39;49;00m\n",
      "\u001B[37m    \u001B[39;49;00m\u001B[94m\"num_train_epochs\"\u001B[39;49;00m:\u001B[37m \u001B[39;49;00m\u001B[34m32\u001B[39;49;00m,\u001B[37m\u001B[39;49;00m\n",
      "\u001B[37m    \u001B[39;49;00m\u001B[94m\"max_steps\"\u001B[39;49;00m:\u001B[37m \u001B[39;49;00m\u001B[34m-1\u001B[39;49;00m,\u001B[37m\u001B[39;49;00m\n",
      "\u001B[37m    \u001B[39;49;00m\u001B[94m\"lr_scheduler_type\"\u001B[39;49;00m:\u001B[37m \u001B[39;49;00m\u001B[33m\"constant\"\u001B[39;49;00m,\u001B[37m\u001B[39;49;00m\n",
      "\u001B[37m    \u001B[39;49;00m\u001B[94m\"warmup_ratio\"\u001B[39;49;00m:\u001B[37m \u001B[39;49;00m\u001B[34m0.01\u001B[39;49;00m,\u001B[37m\u001B[39;49;00m\n",
      "\u001B[37m    \u001B[39;49;00m\u001B[94m\"warmup_steps\"\u001B[39;49;00m:\u001B[37m \u001B[39;49;00m\u001B[34m0\u001B[39;49;00m,\u001B[37m\u001B[39;49;00m\n",
      "\u001B[37m    \u001B[39;49;00m\u001B[94m\"log_level\"\u001B[39;49;00m:\u001B[37m \u001B[39;49;00m\u001B[34m30\u001B[39;49;00m,\u001B[37m\u001B[39;49;00m\n",
      "\u001B[37m    \u001B[39;49;00m\u001B[94m\"log_level_replica\"\u001B[39;49;00m:\u001B[37m \u001B[39;49;00m\u001B[34m-1\u001B[39;49;00m,\u001B[37m\u001B[39;49;00m\n",
      "\u001B[37m    \u001B[39;49;00m\u001B[94m\"log_on_each_node\"\u001B[39;49;00m:\u001B[37m \u001B[39;49;00m\u001B[34mtrue\u001B[39;49;00m,\u001B[37m\u001B[39;49;00m\n",
      "\u001B[37m    \u001B[39;49;00m\u001B[94m\"logging_dir\"\u001B[39;49;00m:\u001B[37m \u001B[39;49;00m\u001B[33m\"/Users/stefanh/Documents/UMich/Research/Music with NLP/Symbolic-Music-Generation/models/reformer/2022-03-30_16-46-42/runs/Mar30_16-46-42_Ma-Big-Mac\"\u001B[39;49;00m,\u001B[37m\u001B[39;49;00m\n",
      "\u001B[37m    \u001B[39;49;00m\u001B[94m\"logging_strategy\"\u001B[39;49;00m:\u001B[37m \u001B[39;49;00m\u001B[33m\"steps\"\u001B[39;49;00m,\u001B[37m\u001B[39;49;00m\n",
      "\u001B[37m    \u001B[39;49;00m\u001B[94m\"logging_first_step\"\u001B[39;49;00m:\u001B[37m \u001B[39;49;00m\u001B[34mfalse\u001B[39;49;00m,\u001B[37m\u001B[39;49;00m\n",
      "\u001B[37m    \u001B[39;49;00m\u001B[94m\"logging_steps\"\u001B[39;49;00m:\u001B[37m \u001B[39;49;00m\u001B[34m1\u001B[39;49;00m,\u001B[37m\u001B[39;49;00m\n",
      "\u001B[37m    \u001B[39;49;00m\u001B[94m\"logging_nan_inf_filter\"\u001B[39;49;00m:\u001B[37m \u001B[39;49;00m\u001B[34mtrue\u001B[39;49;00m,\u001B[37m\u001B[39;49;00m\n",
      "\u001B[37m    \u001B[39;49;00m\u001B[94m\"save_strategy\"\u001B[39;49;00m:\u001B[37m \u001B[39;49;00m\u001B[33m\"epoch\"\u001B[39;49;00m,\u001B[37m\u001B[39;49;00m\n",
      "\u001B[37m    \u001B[39;49;00m\u001B[94m\"save_steps\"\u001B[39;49;00m:\u001B[37m \u001B[39;49;00m\u001B[34m500\u001B[39;49;00m,\u001B[37m\u001B[39;49;00m\n",
      "\u001B[37m    \u001B[39;49;00m\u001B[94m\"save_total_limit\"\u001B[39;49;00m:\u001B[37m \u001B[39;49;00m\u001B[34mnull\u001B[39;49;00m,\u001B[37m\u001B[39;49;00m\n",
      "\u001B[37m    \u001B[39;49;00m\u001B[94m\"save_on_each_node\"\u001B[39;49;00m:\u001B[37m \u001B[39;49;00m\u001B[34mfalse\u001B[39;49;00m,\u001B[37m\u001B[39;49;00m\n",
      "\u001B[37m    \u001B[39;49;00m\u001B[94m\"no_cuda\"\u001B[39;49;00m:\u001B[37m \u001B[39;49;00m\u001B[34mfalse\u001B[39;49;00m,\u001B[37m\u001B[39;49;00m\n",
      "\u001B[37m    \u001B[39;49;00m\u001B[94m\"seed\"\u001B[39;49;00m:\u001B[37m \u001B[39;49;00m\u001B[34m42\u001B[39;49;00m,\u001B[37m\u001B[39;49;00m\n",
      "\u001B[37m    \u001B[39;49;00m\u001B[94m\"bf16\"\u001B[39;49;00m:\u001B[37m \u001B[39;49;00m\u001B[34mfalse\u001B[39;49;00m,\u001B[37m\u001B[39;49;00m\n",
      "\u001B[37m    \u001B[39;49;00m\u001B[94m\"fp16\"\u001B[39;49;00m:\u001B[37m \u001B[39;49;00m\u001B[34mfalse\u001B[39;49;00m,\u001B[37m\u001B[39;49;00m\n",
      "\u001B[37m    \u001B[39;49;00m\u001B[94m\"fp16_opt_level\"\u001B[39;49;00m:\u001B[37m \u001B[39;49;00m\u001B[33m\"O1\"\u001B[39;49;00m,\u001B[37m\u001B[39;49;00m\n",
      "\u001B[37m    \u001B[39;49;00m\u001B[94m\"half_precision_backend\"\u001B[39;49;00m:\u001B[37m \u001B[39;49;00m\u001B[33m\"auto\"\u001B[39;49;00m,\u001B[37m\u001B[39;49;00m\n",
      "\u001B[37m    \u001B[39;49;00m\u001B[94m\"bf16_full_eval\"\u001B[39;49;00m:\u001B[37m \u001B[39;49;00m\u001B[34mfalse\u001B[39;49;00m,\u001B[37m\u001B[39;49;00m\n",
      "\u001B[37m    \u001B[39;49;00m\u001B[94m\"fp16_full_eval\"\u001B[39;49;00m:\u001B[37m \u001B[39;49;00m\u001B[34mfalse\u001B[39;49;00m,\u001B[37m\u001B[39;49;00m\n",
      "\u001B[37m    \u001B[39;49;00m\u001B[94m\"tf32\"\u001B[39;49;00m:\u001B[37m \u001B[39;49;00m\u001B[34mnull\u001B[39;49;00m,\u001B[37m\u001B[39;49;00m\n",
      "\u001B[37m    \u001B[39;49;00m\u001B[94m\"local_rank\"\u001B[39;49;00m:\u001B[37m \u001B[39;49;00m\u001B[34m-1\u001B[39;49;00m,\u001B[37m\u001B[39;49;00m\n",
      "\u001B[37m    \u001B[39;49;00m\u001B[94m\"xpu_backend\"\u001B[39;49;00m:\u001B[37m \u001B[39;49;00m\u001B[34mnull\u001B[39;49;00m,\u001B[37m\u001B[39;49;00m\n",
      "\u001B[37m    \u001B[39;49;00m\u001B[94m\"tpu_num_cores\"\u001B[39;49;00m:\u001B[37m \u001B[39;49;00m\u001B[34mnull\u001B[39;49;00m,\u001B[37m\u001B[39;49;00m\n",
      "\u001B[37m    \u001B[39;49;00m\u001B[94m\"tpu_metrics_debug\"\u001B[39;49;00m:\u001B[37m \u001B[39;49;00m\u001B[34mfalse\u001B[39;49;00m,\u001B[37m\u001B[39;49;00m\n",
      "\u001B[37m    \u001B[39;49;00m\u001B[94m\"debug\"\u001B[39;49;00m:\u001B[37m \u001B[39;49;00m[],\u001B[37m\u001B[39;49;00m\n",
      "\u001B[37m    \u001B[39;49;00m\u001B[94m\"dataloader_drop_last\"\u001B[39;49;00m:\u001B[37m \u001B[39;49;00m\u001B[34mfalse\u001B[39;49;00m,\u001B[37m\u001B[39;49;00m\n",
      "\u001B[37m    \u001B[39;49;00m\u001B[94m\"eval_steps\"\u001B[39;49;00m:\u001B[37m \u001B[39;49;00m\u001B[34mnull\u001B[39;49;00m,\u001B[37m\u001B[39;49;00m\n",
      "\u001B[37m    \u001B[39;49;00m\u001B[94m\"dataloader_num_workers\"\u001B[39;49;00m:\u001B[37m \u001B[39;49;00m\u001B[34m0\u001B[39;49;00m,\u001B[37m\u001B[39;49;00m\n",
      "\u001B[37m    \u001B[39;49;00m\u001B[94m\"past_index\"\u001B[39;49;00m:\u001B[37m \u001B[39;49;00m\u001B[34m-1\u001B[39;49;00m,\u001B[37m\u001B[39;49;00m\n",
      "\u001B[37m    \u001B[39;49;00m\u001B[94m\"run_name\"\u001B[39;49;00m:\u001B[37m \u001B[39;49;00m\u001B[33m\"/Users/stefanh/Documents/UMich/Research/Music with NLP/Symbolic-Music-Generation/models/reformer/2022-03-30_16-46-42\"\u001B[39;49;00m,\u001B[37m\u001B[39;49;00m\n",
      "\u001B[37m    \u001B[39;49;00m\u001B[94m\"disable_tqdm\"\u001B[39;49;00m:\u001B[37m \u001B[39;49;00m\u001B[34mtrue\u001B[39;49;00m,\u001B[37m\u001B[39;49;00m\n",
      "\u001B[37m    \u001B[39;49;00m\u001B[94m\"remove_unused_columns\"\u001B[39;49;00m:\u001B[37m \u001B[39;49;00m\u001B[34mtrue\u001B[39;49;00m,\u001B[37m\u001B[39;49;00m\n",
      "\u001B[37m    \u001B[39;49;00m\u001B[94m\"label_names\"\u001B[39;49;00m:\u001B[37m \u001B[39;49;00m\u001B[34mnull\u001B[39;49;00m,\u001B[37m\u001B[39;49;00m\n",
      "\u001B[37m    \u001B[39;49;00m\u001B[94m\"load_best_model_at_end\"\u001B[39;49;00m:\u001B[37m \u001B[39;49;00m\u001B[34mfalse\u001B[39;49;00m,\u001B[37m\u001B[39;49;00m\n",
      "\u001B[37m    \u001B[39;49;00m\u001B[94m\"metric_for_best_model\"\u001B[39;49;00m:\u001B[37m \u001B[39;49;00m\u001B[34mnull\u001B[39;49;00m,\u001B[37m\u001B[39;49;00m\n",
      "\u001B[37m    \u001B[39;49;00m\u001B[94m\"greater_is_better\"\u001B[39;49;00m:\u001B[37m \u001B[39;49;00m\u001B[34mnull\u001B[39;49;00m,\u001B[37m\u001B[39;49;00m\n",
      "\u001B[37m    \u001B[39;49;00m\u001B[94m\"ignore_data_skip\"\u001B[39;49;00m:\u001B[37m \u001B[39;49;00m\u001B[34mfalse\u001B[39;49;00m,\u001B[37m\u001B[39;49;00m\n",
      "\u001B[37m    \u001B[39;49;00m\u001B[94m\"sharded_ddp\"\u001B[39;49;00m:\u001B[37m \u001B[39;49;00m[],\u001B[37m\u001B[39;49;00m\n",
      "\u001B[37m    \u001B[39;49;00m\u001B[94m\"deepspeed\"\u001B[39;49;00m:\u001B[37m \u001B[39;49;00m\u001B[34mnull\u001B[39;49;00m,\u001B[37m\u001B[39;49;00m\n",
      "\u001B[37m    \u001B[39;49;00m\u001B[94m\"label_smoothing_factor\"\u001B[39;49;00m:\u001B[37m \u001B[39;49;00m\u001B[34m0.0\u001B[39;49;00m,\u001B[37m\u001B[39;49;00m\n",
      "\u001B[37m    \u001B[39;49;00m\u001B[94m\"optim\"\u001B[39;49;00m:\u001B[37m \u001B[39;49;00m\u001B[33m\"adamw_torch\"\u001B[39;49;00m,\u001B[37m\u001B[39;49;00m\n",
      "\u001B[37m    \u001B[39;49;00m\u001B[94m\"adafactor\"\u001B[39;49;00m:\u001B[37m \u001B[39;49;00m\u001B[34mfalse\u001B[39;49;00m,\u001B[37m\u001B[39;49;00m\n",
      "\u001B[37m    \u001B[39;49;00m\u001B[94m\"group_by_length\"\u001B[39;49;00m:\u001B[37m \u001B[39;49;00m\u001B[34mfalse\u001B[39;49;00m,\u001B[37m\u001B[39;49;00m\n",
      "\u001B[37m    \u001B[39;49;00m\u001B[94m\"length_column_name\"\u001B[39;49;00m:\u001B[37m \u001B[39;49;00m\u001B[33m\"length\"\u001B[39;49;00m,\u001B[37m\u001B[39;49;00m\n",
      "\u001B[37m    \u001B[39;49;00m\u001B[94m\"report_to\"\u001B[39;49;00m:\u001B[37m \u001B[39;49;00m[],\u001B[37m\u001B[39;49;00m\n",
      "\u001B[37m    \u001B[39;49;00m\u001B[94m\"ddp_find_unused_parameters\"\u001B[39;49;00m:\u001B[37m \u001B[39;49;00m\u001B[34mnull\u001B[39;49;00m,\u001B[37m\u001B[39;49;00m\n",
      "\u001B[37m    \u001B[39;49;00m\u001B[94m\"ddp_bucket_cap_mb\"\u001B[39;49;00m:\u001B[37m \u001B[39;49;00m\u001B[34mnull\u001B[39;49;00m,\u001B[37m\u001B[39;49;00m\n",
      "\u001B[37m    \u001B[39;49;00m\u001B[94m\"dataloader_pin_memory\"\u001B[39;49;00m:\u001B[37m \u001B[39;49;00m\u001B[34mtrue\u001B[39;49;00m,\u001B[37m\u001B[39;49;00m\n",
      "\u001B[37m    \u001B[39;49;00m\u001B[94m\"skip_memory_metrics\"\u001B[39;49;00m:\u001B[37m \u001B[39;49;00m\u001B[34mtrue\u001B[39;49;00m,\u001B[37m\u001B[39;49;00m\n",
      "\u001B[37m    \u001B[39;49;00m\u001B[94m\"use_legacy_prediction_loop\"\u001B[39;49;00m:\u001B[37m \u001B[39;49;00m\u001B[34mfalse\u001B[39;49;00m,\u001B[37m\u001B[39;49;00m\n",
      "\u001B[37m    \u001B[39;49;00m\u001B[94m\"push_to_hub\"\u001B[39;49;00m:\u001B[37m \u001B[39;49;00m\u001B[34mfalse\u001B[39;49;00m,\u001B[37m\u001B[39;49;00m\n",
      "\u001B[37m    \u001B[39;49;00m\u001B[94m\"resume_from_checkpoint\"\u001B[39;49;00m:\u001B[37m \u001B[39;49;00m\u001B[34mnull\u001B[39;49;00m,\u001B[37m\u001B[39;49;00m\n",
      "\u001B[37m    \u001B[39;49;00m\u001B[94m\"hub_model_id\"\u001B[39;49;00m:\u001B[37m \u001B[39;49;00m\u001B[34mnull\u001B[39;49;00m,\u001B[37m\u001B[39;49;00m\n",
      "\u001B[37m    \u001B[39;49;00m\u001B[94m\"hub_strategy\"\u001B[39;49;00m:\u001B[37m \u001B[39;49;00m\u001B[33m\"every_save\"\u001B[39;49;00m,\u001B[37m\u001B[39;49;00m\n",
      "\u001B[37m    \u001B[39;49;00m\u001B[94m\"hub_token\"\u001B[39;49;00m:\u001B[37m \u001B[39;49;00m\u001B[33m\"<HUB_TOKEN>\"\u001B[39;49;00m,\u001B[37m\u001B[39;49;00m\n",
      "\u001B[37m    \u001B[39;49;00m\u001B[94m\"gradient_checkpointing\"\u001B[39;49;00m:\u001B[37m \u001B[39;49;00m\u001B[34mfalse\u001B[39;49;00m,\u001B[37m\u001B[39;49;00m\n",
      "\u001B[37m    \u001B[39;49;00m\u001B[94m\"fp16_backend\"\u001B[39;49;00m:\u001B[37m \u001B[39;49;00m\u001B[33m\"auto\"\u001B[39;49;00m,\u001B[37m\u001B[39;49;00m\n",
      "\u001B[37m    \u001B[39;49;00m\u001B[94m\"push_to_hub_model_id\"\u001B[39;49;00m:\u001B[37m \u001B[39;49;00m\u001B[34mnull\u001B[39;49;00m,\u001B[37m\u001B[39;49;00m\n",
      "\u001B[37m    \u001B[39;49;00m\u001B[94m\"push_to_hub_organization\"\u001B[39;49;00m:\u001B[37m \u001B[39;49;00m\u001B[34mnull\u001B[39;49;00m,\u001B[37m\u001B[39;49;00m\n",
      "\u001B[37m    \u001B[39;49;00m\u001B[94m\"push_to_hub_token\"\u001B[39;49;00m:\u001B[37m \u001B[39;49;00m\u001B[33m\"<PUSH_TO_HUB_TOKEN>\"\u001B[39;49;00m,\u001B[37m\u001B[39;49;00m\n",
      "\u001B[37m    \u001B[39;49;00m\u001B[94m\"_n_gpu\"\u001B[39;49;00m:\u001B[37m \u001B[39;49;00m\u001B[34m0\u001B[39;49;00m,\u001B[37m\u001B[39;49;00m\n",
      "\u001B[37m    \u001B[39;49;00m\u001B[94m\"mp_parameters\"\u001B[39;49;00m:\u001B[37m \u001B[39;49;00m\u001B[33m\"\"\u001B[39;49;00m\u001B[37m\u001B[39;49;00m\n",
      "}\u001B[37m\u001B[39;49;00m\n",
      "... \u001B[39m\u001B[49m\u001B[22m\u001B[23m\u001B[24m\u001B[25m\u001B[27m\u001B[28m\u001B[29m\n"
     ]
    },
    {
     "name": "stderr",
     "output_type": "stream",
     "text": [
      "config.num_buckets is not set. Setting config.num_buckets to 32...\n",
      "config.num_buckets is not set. Setting config.num_buckets to 32...\n",
      "config.num_buckets is not set. Setting config.num_buckets to 32...\n"
     ]
    },
    {
     "name": "stdout",
     "output_type": "stream",
     "text": [
      "\u001B[38;2;0;186;142m2022-03-30 16:46:51\u001B[38;2;97;175;239m|\u001B[39m\u001B[49m\u001B[22m\u001B[23m\u001B[24m\u001B[25m\u001B[27m\u001B[28m\u001B[29m\u001B[38;2;198;120;221m[MyTrainer Training]\u001B[38;2;97;175;239m::\u001B[38;2;198;120;221mon_log\u001B[38;2;97;175;239m::\u001B[38;2;198;120;221mtrain.py\u001B[38;2;97;175;239m:\u001B[38;2;198;120;221m181\u001B[38;2;97;175;239m, \u001B[39m\u001B[49m\u001B[22m\u001B[23m\u001B[24m\u001B[25m\u001B[27m\u001B[28m\u001B[29mINFO\u001B[39m\u001B[49m\u001B[22m\u001B[23m\u001B[24m\u001B[25m\u001B[27m\u001B[28m\u001B[29m\u001B[38;2;97;175;239m - \u001B[39m\u001B[49m\u001B[22m\u001B[23m\u001B[24m\u001B[25m\u001B[27m\u001B[28m\u001B[29mstep=\u001B[34m   1\u001B[39m\u001B[49m\u001B[0m, epoch=\u001B[34m 0.004\u001B[39m\u001B[49m\u001B[0m, train_loss=\u001B[34m 6.0753\u001B[39m\u001B[49m\u001B[0m, learning_rate=\u001B[34m3.00e-04\u001B[39m\u001B[49m\u001B[0m\u001B[39m\u001B[49m\u001B[22m\u001B[23m\u001B[24m\u001B[25m\u001B[27m\u001B[28m\u001B[29m\n",
      "\u001B[38;2;0;186;142m2022-03-30 16:46:58\u001B[38;2;97;175;239m|\u001B[39m\u001B[49m\u001B[22m\u001B[23m\u001B[24m\u001B[25m\u001B[27m\u001B[28m\u001B[29m\u001B[38;2;198;120;221m[MyTrainer Training]\u001B[38;2;97;175;239m::\u001B[38;2;198;120;221mon_log\u001B[38;2;97;175;239m::\u001B[38;2;198;120;221mtrain.py\u001B[38;2;97;175;239m:\u001B[38;2;198;120;221m181\u001B[38;2;97;175;239m, \u001B[39m\u001B[49m\u001B[22m\u001B[23m\u001B[24m\u001B[25m\u001B[27m\u001B[28m\u001B[29mINFO\u001B[39m\u001B[49m\u001B[22m\u001B[23m\u001B[24m\u001B[25m\u001B[27m\u001B[28m\u001B[29m\u001B[38;2;97;175;239m - \u001B[39m\u001B[49m\u001B[22m\u001B[23m\u001B[24m\u001B[25m\u001B[27m\u001B[28m\u001B[29mstep=\u001B[34m   2\u001B[39m\u001B[49m\u001B[0m, epoch=\u001B[34m 0.009\u001B[39m\u001B[49m\u001B[0m, train_loss=\u001B[34m 5.6117\u001B[39m\u001B[49m\u001B[0m, learning_rate=\u001B[34m3.00e-04\u001B[39m\u001B[49m\u001B[0m\u001B[39m\u001B[49m\u001B[22m\u001B[23m\u001B[24m\u001B[25m\u001B[27m\u001B[28m\u001B[29m\n",
      "\u001B[38;2;0;186;142m2022-03-30 16:47:06\u001B[38;2;97;175;239m|\u001B[39m\u001B[49m\u001B[22m\u001B[23m\u001B[24m\u001B[25m\u001B[27m\u001B[28m\u001B[29m\u001B[38;2;198;120;221m[MyTrainer Training]\u001B[38;2;97;175;239m::\u001B[38;2;198;120;221mon_log\u001B[38;2;97;175;239m::\u001B[38;2;198;120;221mtrain.py\u001B[38;2;97;175;239m:\u001B[38;2;198;120;221m181\u001B[38;2;97;175;239m, \u001B[39m\u001B[49m\u001B[22m\u001B[23m\u001B[24m\u001B[25m\u001B[27m\u001B[28m\u001B[29mINFO\u001B[39m\u001B[49m\u001B[22m\u001B[23m\u001B[24m\u001B[25m\u001B[27m\u001B[28m\u001B[29m\u001B[38;2;97;175;239m - \u001B[39m\u001B[49m\u001B[22m\u001B[23m\u001B[24m\u001B[25m\u001B[27m\u001B[28m\u001B[29mstep=\u001B[34m   3\u001B[39m\u001B[49m\u001B[0m, epoch=\u001B[34m 0.013\u001B[39m\u001B[49m\u001B[0m, train_loss=\u001B[34m 5.2994\u001B[39m\u001B[49m\u001B[0m, learning_rate=\u001B[34m3.00e-04\u001B[39m\u001B[49m\u001B[0m\u001B[39m\u001B[49m\u001B[22m\u001B[23m\u001B[24m\u001B[25m\u001B[27m\u001B[28m\u001B[29m\n"
     ]
    },
    {
     "ename": "KeyboardInterrupt",
     "evalue": "",
     "output_type": "error",
     "traceback": [
      "\u001B[0;31m---------------------------------------------------------------------------\u001B[0m",
      "\u001B[0;31mKeyboardInterrupt\u001B[0m                         Traceback (most recent call last)",
      "\u001B[0;32m/var/folders/76/fm8fgr4n1p78whqg7x_bd5480000gn/T/ipykernel_19986/1155184133.py\u001B[0m in \u001B[0;36m<module>\u001B[0;34m\u001B[0m\n\u001B[0;32m----> 1\u001B[0;31m \u001B[0mtrainer\u001B[0m\u001B[0;34m.\u001B[0m\u001B[0mtrain\u001B[0m\u001B[0;34m(\u001B[0m\u001B[0;34m)\u001B[0m\u001B[0;34m\u001B[0m\u001B[0;34m\u001B[0m\u001B[0m\n\u001B[0m\u001B[1;32m      2\u001B[0m \u001B[0mtrainer\u001B[0m\u001B[0;34m.\u001B[0m\u001B[0msave_model\u001B[0m\u001B[0;34m(\u001B[0m\u001B[0mtrainer\u001B[0m\u001B[0;34m.\u001B[0m\u001B[0margs\u001B[0m\u001B[0;34m.\u001B[0m\u001B[0moutput_dir\u001B[0m\u001B[0;34m)\u001B[0m\u001B[0;34m\u001B[0m\u001B[0;34m\u001B[0m\u001B[0m\n\u001B[1;32m      3\u001B[0m \u001B[0;34m\u001B[0m\u001B[0m\n",
      "\u001B[0;32m~/opt/anaconda3/envs/music-nlp/lib/python3.9/site-packages/transformers/trainer.py\u001B[0m in \u001B[0;36mtrain\u001B[0;34m(self, resume_from_checkpoint, trial, ignore_keys_for_eval, **kwargs)\u001B[0m\n\u001B[1;32m   1363\u001B[0m                         \u001B[0mtr_loss_step\u001B[0m \u001B[0;34m=\u001B[0m \u001B[0mself\u001B[0m\u001B[0;34m.\u001B[0m\u001B[0mtraining_step\u001B[0m\u001B[0;34m(\u001B[0m\u001B[0mmodel\u001B[0m\u001B[0;34m,\u001B[0m \u001B[0minputs\u001B[0m\u001B[0;34m)\u001B[0m\u001B[0;34m\u001B[0m\u001B[0;34m\u001B[0m\u001B[0m\n\u001B[1;32m   1364\u001B[0m                 \u001B[0;32melse\u001B[0m\u001B[0;34m:\u001B[0m\u001B[0;34m\u001B[0m\u001B[0;34m\u001B[0m\u001B[0m\n\u001B[0;32m-> 1365\u001B[0;31m                     \u001B[0mtr_loss_step\u001B[0m \u001B[0;34m=\u001B[0m \u001B[0mself\u001B[0m\u001B[0;34m.\u001B[0m\u001B[0mtraining_step\u001B[0m\u001B[0;34m(\u001B[0m\u001B[0mmodel\u001B[0m\u001B[0;34m,\u001B[0m \u001B[0minputs\u001B[0m\u001B[0;34m)\u001B[0m\u001B[0;34m\u001B[0m\u001B[0;34m\u001B[0m\u001B[0m\n\u001B[0m\u001B[1;32m   1366\u001B[0m \u001B[0;34m\u001B[0m\u001B[0m\n\u001B[1;32m   1367\u001B[0m                 if (\n",
      "\u001B[0;32m~/opt/anaconda3/envs/music-nlp/lib/python3.9/site-packages/transformers/trainer.py\u001B[0m in \u001B[0;36mtraining_step\u001B[0;34m(self, model, inputs)\u001B[0m\n\u001B[1;32m   1956\u001B[0m             \u001B[0mloss\u001B[0m \u001B[0;34m=\u001B[0m \u001B[0mself\u001B[0m\u001B[0;34m.\u001B[0m\u001B[0mdeepspeed\u001B[0m\u001B[0;34m.\u001B[0m\u001B[0mbackward\u001B[0m\u001B[0;34m(\u001B[0m\u001B[0mloss\u001B[0m\u001B[0;34m)\u001B[0m\u001B[0;34m\u001B[0m\u001B[0;34m\u001B[0m\u001B[0m\n\u001B[1;32m   1957\u001B[0m         \u001B[0;32melse\u001B[0m\u001B[0;34m:\u001B[0m\u001B[0;34m\u001B[0m\u001B[0;34m\u001B[0m\u001B[0m\n\u001B[0;32m-> 1958\u001B[0;31m             \u001B[0mloss\u001B[0m\u001B[0;34m.\u001B[0m\u001B[0mbackward\u001B[0m\u001B[0;34m(\u001B[0m\u001B[0;34m)\u001B[0m\u001B[0;34m\u001B[0m\u001B[0;34m\u001B[0m\u001B[0m\n\u001B[0m\u001B[1;32m   1959\u001B[0m \u001B[0;34m\u001B[0m\u001B[0m\n\u001B[1;32m   1960\u001B[0m         \u001B[0;32mreturn\u001B[0m \u001B[0mloss\u001B[0m\u001B[0;34m.\u001B[0m\u001B[0mdetach\u001B[0m\u001B[0;34m(\u001B[0m\u001B[0;34m)\u001B[0m\u001B[0;34m\u001B[0m\u001B[0;34m\u001B[0m\u001B[0m\n",
      "\u001B[0;32m~/opt/anaconda3/envs/music-nlp/lib/python3.9/site-packages/torch/_tensor.py\u001B[0m in \u001B[0;36mbackward\u001B[0;34m(self, gradient, retain_graph, create_graph, inputs)\u001B[0m\n\u001B[1;32m    305\u001B[0m                 \u001B[0mcreate_graph\u001B[0m\u001B[0;34m=\u001B[0m\u001B[0mcreate_graph\u001B[0m\u001B[0;34m,\u001B[0m\u001B[0;34m\u001B[0m\u001B[0;34m\u001B[0m\u001B[0m\n\u001B[1;32m    306\u001B[0m                 inputs=inputs)\n\u001B[0;32m--> 307\u001B[0;31m         \u001B[0mtorch\u001B[0m\u001B[0;34m.\u001B[0m\u001B[0mautograd\u001B[0m\u001B[0;34m.\u001B[0m\u001B[0mbackward\u001B[0m\u001B[0;34m(\u001B[0m\u001B[0mself\u001B[0m\u001B[0;34m,\u001B[0m \u001B[0mgradient\u001B[0m\u001B[0;34m,\u001B[0m \u001B[0mretain_graph\u001B[0m\u001B[0;34m,\u001B[0m \u001B[0mcreate_graph\u001B[0m\u001B[0;34m,\u001B[0m \u001B[0minputs\u001B[0m\u001B[0;34m=\u001B[0m\u001B[0minputs\u001B[0m\u001B[0;34m)\u001B[0m\u001B[0;34m\u001B[0m\u001B[0;34m\u001B[0m\u001B[0m\n\u001B[0m\u001B[1;32m    308\u001B[0m \u001B[0;34m\u001B[0m\u001B[0m\n\u001B[1;32m    309\u001B[0m     \u001B[0;32mdef\u001B[0m \u001B[0mregister_hook\u001B[0m\u001B[0;34m(\u001B[0m\u001B[0mself\u001B[0m\u001B[0;34m,\u001B[0m \u001B[0mhook\u001B[0m\u001B[0;34m)\u001B[0m\u001B[0;34m:\u001B[0m\u001B[0;34m\u001B[0m\u001B[0;34m\u001B[0m\u001B[0m\n",
      "\u001B[0;32m~/opt/anaconda3/envs/music-nlp/lib/python3.9/site-packages/torch/autograd/__init__.py\u001B[0m in \u001B[0;36mbackward\u001B[0;34m(tensors, grad_tensors, retain_graph, create_graph, grad_variables, inputs)\u001B[0m\n\u001B[1;32m    152\u001B[0m         \u001B[0mretain_graph\u001B[0m \u001B[0;34m=\u001B[0m \u001B[0mcreate_graph\u001B[0m\u001B[0;34m\u001B[0m\u001B[0;34m\u001B[0m\u001B[0m\n\u001B[1;32m    153\u001B[0m \u001B[0;34m\u001B[0m\u001B[0m\n\u001B[0;32m--> 154\u001B[0;31m     Variable._execution_engine.run_backward(\n\u001B[0m\u001B[1;32m    155\u001B[0m         \u001B[0mtensors\u001B[0m\u001B[0;34m,\u001B[0m \u001B[0mgrad_tensors_\u001B[0m\u001B[0;34m,\u001B[0m \u001B[0mretain_graph\u001B[0m\u001B[0;34m,\u001B[0m \u001B[0mcreate_graph\u001B[0m\u001B[0;34m,\u001B[0m \u001B[0minputs\u001B[0m\u001B[0;34m,\u001B[0m\u001B[0;34m\u001B[0m\u001B[0;34m\u001B[0m\u001B[0m\n\u001B[1;32m    156\u001B[0m         allow_unreachable=True, accumulate_grad=True)  # allow_unreachable flag\n",
      "\u001B[0;32m~/opt/anaconda3/envs/music-nlp/lib/python3.9/site-packages/torch/autograd/function.py\u001B[0m in \u001B[0;36mapply\u001B[0;34m(self, *args)\u001B[0m\n\u001B[1;32m    197\u001B[0m                                \"of them.\")\n\u001B[1;32m    198\u001B[0m         \u001B[0muser_fn\u001B[0m \u001B[0;34m=\u001B[0m \u001B[0mvjp_fn\u001B[0m \u001B[0;32mif\u001B[0m \u001B[0mvjp_fn\u001B[0m \u001B[0;32mis\u001B[0m \u001B[0;32mnot\u001B[0m \u001B[0mFunction\u001B[0m\u001B[0;34m.\u001B[0m\u001B[0mvjp\u001B[0m \u001B[0;32melse\u001B[0m \u001B[0mbackward_fn\u001B[0m\u001B[0;34m\u001B[0m\u001B[0;34m\u001B[0m\u001B[0m\n\u001B[0;32m--> 199\u001B[0;31m         \u001B[0;32mreturn\u001B[0m \u001B[0muser_fn\u001B[0m\u001B[0;34m(\u001B[0m\u001B[0mself\u001B[0m\u001B[0;34m,\u001B[0m \u001B[0;34m*\u001B[0m\u001B[0margs\u001B[0m\u001B[0;34m)\u001B[0m\u001B[0;34m\u001B[0m\u001B[0;34m\u001B[0m\u001B[0m\n\u001B[0m\u001B[1;32m    200\u001B[0m \u001B[0;34m\u001B[0m\u001B[0m\n\u001B[1;32m    201\u001B[0m     \u001B[0;32mdef\u001B[0m \u001B[0mapply_jvp\u001B[0m\u001B[0;34m(\u001B[0m\u001B[0mself\u001B[0m\u001B[0;34m,\u001B[0m \u001B[0;34m*\u001B[0m\u001B[0margs\u001B[0m\u001B[0;34m)\u001B[0m\u001B[0;34m:\u001B[0m\u001B[0;34m\u001B[0m\u001B[0;34m\u001B[0m\u001B[0m\n",
      "\u001B[0;32m~/opt/anaconda3/envs/music-nlp/lib/python3.9/site-packages/transformers/models/reformer/modeling_reformer.py\u001B[0m in \u001B[0;36mbackward\u001B[0;34m(***failed resolving arguments***)\u001B[0m\n\u001B[1;32m   1660\u001B[0m \u001B[0;34m\u001B[0m\u001B[0m\n\u001B[1;32m   1661\u001B[0m             \u001B[0;31m# backprop\u001B[0m\u001B[0;34m\u001B[0m\u001B[0;34m\u001B[0m\u001B[0m\n\u001B[0;32m-> 1662\u001B[0;31m             output = layer.backward_pass(\n\u001B[0m\u001B[1;32m   1663\u001B[0m                 \u001B[0mnext_attn_output\u001B[0m\u001B[0;34m=\u001B[0m\u001B[0moutput\u001B[0m\u001B[0;34m.\u001B[0m\u001B[0mattn_output\u001B[0m\u001B[0;34m,\u001B[0m\u001B[0;34m\u001B[0m\u001B[0;34m\u001B[0m\u001B[0m\n\u001B[1;32m   1664\u001B[0m                 \u001B[0mhidden_states\u001B[0m\u001B[0;34m=\u001B[0m\u001B[0moutput\u001B[0m\u001B[0;34m.\u001B[0m\u001B[0mhidden_states\u001B[0m\u001B[0;34m,\u001B[0m\u001B[0;34m\u001B[0m\u001B[0;34m\u001B[0m\u001B[0m\n",
      "\u001B[0;32m~/opt/anaconda3/envs/music-nlp/lib/python3.9/site-packages/transformers/models/reformer/modeling_reformer.py\u001B[0m in \u001B[0;36mbackward_pass\u001B[0;34m(self, next_attn_output, hidden_states, grad_attn_output, grad_hidden_states, attention_mask, head_mask, buckets)\u001B[0m\n\u001B[1;32m   1529\u001B[0m             \u001B[0;31m# X_2 = Y_2 - g(Y_1)\u001B[0m\u001B[0;34m\u001B[0m\u001B[0;34m\u001B[0m\u001B[0m\n\u001B[1;32m   1530\u001B[0m             \u001B[0mhidden_states\u001B[0m \u001B[0;34m=\u001B[0m \u001B[0mhidden_states\u001B[0m \u001B[0;34m-\u001B[0m \u001B[0mres_hidden_states\u001B[0m\u001B[0;34m\u001B[0m\u001B[0;34m\u001B[0m\u001B[0m\n\u001B[0;32m-> 1531\u001B[0;31m             \u001B[0;32mdel\u001B[0m \u001B[0mres_hidden_states\u001B[0m\u001B[0;34m\u001B[0m\u001B[0;34m\u001B[0m\u001B[0m\n\u001B[0m\u001B[1;32m   1532\u001B[0m \u001B[0;34m\u001B[0m\u001B[0m\n\u001B[1;32m   1533\u001B[0m             \u001B[0mgrad_attn_output\u001B[0m \u001B[0;34m=\u001B[0m \u001B[0mgrad_attn_output\u001B[0m \u001B[0;34m+\u001B[0m \u001B[0mnext_attn_output\u001B[0m\u001B[0;34m.\u001B[0m\u001B[0mgrad\u001B[0m\u001B[0;34m\u001B[0m\u001B[0;34m\u001B[0m\u001B[0m\n",
      "\u001B[0;31mKeyboardInterrupt\u001B[0m: "
     ]
    }
   ],
   "source": [
    "trainer.train()\n",
    "trainer.save_model(trainer.args.output_dir)\n",
    "\n"
   ],
   "metadata": {
    "collapsed": false,
    "pycharm": {
     "name": "#%%\n"
    }
   }
  }
 ],
 "metadata": {
  "kernelspec": {
   "display_name": "Python 3",
   "language": "python",
   "name": "python3"
  },
  "language_info": {
   "codemirror_mode": {
    "name": "ipython",
    "version": 2
   },
   "file_extension": ".py",
   "mimetype": "text/x-python",
   "name": "python",
   "nbconvert_exporter": "python",
   "pygments_lexer": "ipython2",
   "version": "2.7.6"
  }
 },
 "nbformat": 4,
 "nbformat_minor": 0
}