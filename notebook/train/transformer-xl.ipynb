{
 "cells": [
  {
   "cell_type": "markdown",
   "source": [
    "# Train Music Transformer\n",
    "Since Fri. May 13th, 2022\n",
    "\n",
    "Set up training in colab\n",
    "\n",
    "\n",
    "## Setup\n",
    "\n",
    "\n",
    "### Ipython\n",
    "\n"
   ],
   "metadata": {
    "collapsed": false,
    "id": "duaTgec47o0k",
    "pycharm": {
     "name": "#%% md\n"
    }
   }
  },
  {
   "cell_type": "code",
   "execution_count": 1,
   "outputs": [],
   "source": [
    "%load_ext autoreload\n",
    "%autoreload 2\n",
    "\n"
   ],
   "metadata": {
    "pycharm": {
     "name": "#%%\n"
    },
    "id": "UFt3o8uB7o0n",
    "executionInfo": {
     "status": "ok",
     "timestamp": 1650286518037,
     "user_tz": 240,
     "elapsed": 159,
     "user": {
      "displayName": "Stefan Heng",
      "userId": "11931699939643661721"
     }
    },
    "colab": {
     "base_uri": "https://localhost:8080/"
    },
    "outputId": "79ecd591-f426-43d3-9138-d5c3c281d80d"
   }
  },
  {
   "cell_type": "markdown",
   "source": [
    "### Colab\n",
    "\n"
   ],
   "metadata": {
    "collapsed": false,
    "id": "zL4q50817o0o",
    "pycharm": {
     "name": "#%% md\n"
    }
   }
  },
  {
   "cell_type": "code",
   "execution_count": 2,
   "outputs": [
    {
     "name": "stderr",
     "output_type": "stream",
     "text": [
      "ic| u.proj_dir: 'Symbolic-Music-Generation', u.pkg_nm: 'musicnlp'\n"
     ]
    },
    {
     "data": {
      "text/plain": "('Symbolic-Music-Generation', 'musicnlp')"
     },
     "execution_count": 2,
     "metadata": {},
     "output_type": "execute_result"
    }
   ],
   "source": [
    "import os\n",
    "import sys\n",
    "\n",
    "import torch\n",
    "\n",
    "\n",
    "if 'google.colab' in sys.modules:\n",
    "    from google.colab import drive\n",
    "    drive.mount('/content/drive')\n",
    "\n",
    "    ! pip3 install sty icecream music21 transformers datasets\n",
    "    ! pip3 install stefutils\n",
    "\n",
    "    path = os.path.join('drive', 'My Drive', 'Research', 'Music with NLP', 'Symbolic-Music-Generation')\n",
    "    sys.path.append(path)\n",
    "    ! ls \"{path}\"\n",
    "\n",
    "\n",
    "    import time, os\n",
    "    os.environ['TZ'] = 'US/Eastern'\n",
    "    time.tzset()\n",
    "\n",
    "    if torch.cuda.is_available():\n",
    "        %env PYTORCH_CUDA_ALLOC_CONF=max_split_size_mb:128\n",
    "\n",
    "if torch.cuda.is_available():\n",
    "    ! nvidia-smi\n",
    "\n",
    "\n",
    "from icecream import ic\n",
    "\n",
    "from musicnlp.util import *\n",
    "\n",
    "ic(u.proj_dir, u.pkg_nm)\n",
    "\n"
   ],
   "metadata": {
    "pycharm": {
     "name": "#%%\n"
    },
    "id": "5eDs7Grn7o0p",
    "colab": {
     "base_uri": "https://localhost:8080/"
    },
    "executionInfo": {
     "status": "ok",
     "timestamp": 1650286559365,
     "user_tz": 240,
     "elapsed": 41191,
     "user": {
      "displayName": "Stefan Heng",
      "userId": "11931699939643661721"
     }
    },
    "outputId": "16563cfe-2315-4cb2-da3e-fb7daec24b9d"
   }
  },
  {
   "cell_type": "markdown",
   "source": [
    "### code"
   ],
   "metadata": {
    "collapsed": false,
    "id": "UbrzCORh7o0q",
    "pycharm": {
     "name": "#%% md\n"
    }
   }
  },
  {
   "cell_type": "code",
   "execution_count": 3,
   "metadata": {
    "collapsed": true,
    "id": "_-JUzdbX7o0q",
    "executionInfo": {
     "status": "ok",
     "timestamp": 1650286559365,
     "user_tz": 240,
     "elapsed": 7,
     "user": {
      "displayName": "Stefan Heng",
      "userId": "11931699939643661721"
     }
    },
    "pycharm": {
     "name": "#%%\n"
    }
   },
   "outputs": [],
   "source": [
    "import transformers\n",
    "\n",
    "from musicnlp.trainer import train\n",
    "\n",
    "transformers.set_seed(sconfig('random-seed'))\n",
    "\n"
   ]
  },
  {
   "cell_type": "markdown",
   "source": [
    "## Prep for training\n"
   ],
   "metadata": {
    "collapsed": false,
    "id": "TlHnNRf77o0q",
    "pycharm": {
     "name": "#%% md\n"
    }
   }
  },
  {
   "cell_type": "code",
   "execution_count": 4,
   "outputs": [],
   "source": [
    "md_nm = 'transf-xl'\n",
    "# md_sz = 'debug'\n",
    "# md_sz = 'debug-large'\n",
    "md_sz = 'base'\n",
    "# n = 32\n",
    "n = None\n",
    "ic(md_sz, n)\n",
    "\n",
    "augment_key = False\n",
    "max_length = 512   # TODO: short length to test for now\n",
    "num_train_epochs = 4  # TODO\n",
    "\n",
    "pop = 'musicnlp music extraction, dnm=POP909, n=909, meta={mode=melody, prec=5, th=1}, 2022-05-20_14-52-04'\n",
    "mst = 'musicnlp music extraction, dnm=MAESTRO, n=1276, meta={mode=melody, prec=5, th=1}, 2022-05-20_14-52-28'\n",
    "lmd = 'musicnlp music extraction, dnm=LMD, n=176640, meta={mode=melody, prec=5, th=1}, 2022-05-27_15-23-20'\n",
    "dnms = [pop, mst, lmd]\n",
    "my_train_args = dict(\n",
    "    augment_key=augment_key,\n",
    "    save_epochs=2\n",
    ")\n",
    "train_args = dict()\n",
    "\n",
    "with_tqdm = True\n",
    "if with_tqdm:\n",
    "    my_train_args.update(dict(tqdm=True, logging_strategy='epoch'))\n",
    "if 'debug' not in md_sz:\n",
    "    train_args = dict(\n",
    "        per_device_train_batch_size=16,\n",
    "        num_train_epochs=num_train_epochs\n",
    "    )\n",
    "mdl, tokenizer, trainer = train.get_all_setup(\n",
    "    model_name=md_nm, model_size=md_sz, dataset_names=dnms, n_sample=n,\n",
    "    train_args=train_args, my_train_args=my_train_args\n",
    ")\n",
    "\n"
   ],
   "metadata": {
    "pycharm": {
     "name": "#%%\n"
    },
    "id": "cInOvMJ77o0r",
    "colab": {
     "base_uri": "https://localhost:8080/",
     "height": 49,
     "referenced_widgets": [
      "4eed0b4020114aa597ab84f095b2f5b0",
      "57a21725596f4581850134186657db83",
      "1716d570d1e04ef0b4a8f7feade5b1f6",
      "1b7f23e09ffb42e0bb9f4a6028a8f291",
      "c6ad781345f64e7bad9a0b3f11819f76",
      "d4b606dd065e47c0be72bbc0c4e3a10a",
      "312d2f3619b44c5babf0280b0da0587f",
      "5f68f7d0dd61455abb3bdfe2d066c38f",
      "7ca5c001961f43dca8d1cadbf4aae5f0",
      "8bbc18cd2e6d4c6f83b3070cb322278d",
      "d2a72e32c92a4dd0b946218720fc8982"
     ]
    },
    "executionInfo": {
     "status": "ok",
     "timestamp": 1650286577276,
     "user_tz": 240,
     "elapsed": 17916,
     "user": {
      "displayName": "Stefan Heng",
      "userId": "11931699939643661721"
     }
    },
    "outputId": "d0435e71-e05c-4de7-e925-97fa4679e044"
   }
  },
  {
   "cell_type": "markdown",
   "source": [
    "## Train\n"
   ],
   "metadata": {
    "collapsed": false,
    "id": "mlHy9l0t7o0s",
    "pycharm": {
     "name": "#%% md\n"
    }
   }
  },
  {
   "cell_type": "markdown",
   "source": [
    "Check log and tensorboard files written\n",
    "\n"
   ],
   "metadata": {
    "collapsed": false,
    "id": "mcYIibVI7o0t",
    "pycharm": {
     "name": "#%% md\n"
    }
   }
  },
  {
   "cell_type": "code",
   "execution_count": 5,
   "outputs": [
    {
     "name": "stdout",
     "output_type": "stream",
     "text": [
      "\u001B[38;2;0;186;142m2022-05-23 22:05:36\u001B[38;2;97;175;239m|\u001B[39m\u001B[49m\u001B[22m\u001B[23m\u001B[24m\u001B[25m\u001B[27m\u001B[28m\u001B[29m\u001B[38;2;198;120;221m[MyTransfoXLLMHeadModel Training]\u001B[38;2;97;175;239m::\u001B[38;2;198;120;221mon_train_begin\u001B[38;2;97;175;239m::\u001B[38;2;198;120;221mtrain_util_wrap.py\u001B[38;2;97;175;239m:\u001B[38;2;198;120;221m172\u001B[38;2;97;175;239m:\u001B[39m\u001B[49m\u001B[22m\u001B[23m\u001B[24m\u001B[25m\u001B[27m\u001B[28m\u001B[29mINFO\u001B[39m\u001B[49m\u001B[22m\u001B[23m\u001B[24m\u001B[25m\u001B[27m\u001B[28m\u001B[29m\u001B[38;2;97;175;239m: \u001B[39m\u001B[49m\u001B[22m\u001B[23m\u001B[24m\u001B[25m\u001B[27m\u001B[28m\u001B[29mTraining started with model \u001B[35m{\u001B[39m\u001B[49m\u001B[0mmodel name: \u001B[34mMyTransfoXLLMHeadModel\u001B[39m\u001B[49m\u001B[0m, max length: \u001B[34m128\u001B[39m\u001B[49m\u001B[0m, n_layer: \u001B[34m4\u001B[39m\u001B[49m\u001B[0m, hidden_size: \u001B[34m128\u001B[39m\u001B[49m\u001B[0m, ff_size: \u001B[34m512\u001B[39m\u001B[49m\u001B[0m, parameter_count: \u001B[34m917.2K\u001B[39m\u001B[49m\u001B[0m\u001B[35m}\u001B[39m\u001B[49m\u001B[0m, {\u001B[37m\u001B[39;49;00m\n",
      "\u001B[37m    \u001B[39;49;00m\u001B[94m\"vocab_size\"\u001B[39;49;00m:\u001B[37m \u001B[39;49;00m\u001B[34m462\u001B[39;49;00m,\u001B[37m\u001B[39;49;00m\n",
      "\u001B[37m    \u001B[39;49;00m\u001B[94m\"cutoffs\"\u001B[39;49;00m:\u001B[37m \u001B[39;49;00m[],\u001B[37m\u001B[39;49;00m\n",
      "\u001B[37m    \u001B[39;49;00m\u001B[94m\"tie_projs\"\u001B[39;49;00m:\u001B[37m \u001B[39;49;00m[\u001B[37m\u001B[39;49;00m\n",
      "\u001B[37m        \u001B[39;49;00m\u001B[34mfalse\u001B[39;49;00m\u001B[37m\u001B[39;49;00m\n",
      "\u001B[37m    \u001B[39;49;00m],\u001B[37m\u001B[39;49;00m\n",
      "\u001B[37m    \u001B[39;49;00m\u001B[94m\"d_model\"\u001B[39;49;00m:\u001B[37m \u001B[39;49;00m\u001B[34m128\u001B[39;49;00m,\u001B[37m\u001B[39;49;00m\n",
      "\u001B[37m    \u001B[39;49;00m\u001B[94m\"d_embed\"\u001B[39;49;00m:\u001B[37m \u001B[39;49;00m\u001B[34m128\u001B[39;49;00m,\u001B[37m\u001B[39;49;00m\n",
      "\u001B[37m    \u001B[39;49;00m\u001B[94m\"d_head\"\u001B[39;49;00m:\u001B[37m \u001B[39;49;00m\u001B[34m16\u001B[39;49;00m,\u001B[37m\u001B[39;49;00m\n",
      "\u001B[37m    \u001B[39;49;00m\u001B[94m\"d_inner\"\u001B[39;49;00m:\u001B[37m \u001B[39;49;00m\u001B[34m512\u001B[39;49;00m,\u001B[37m\u001B[39;49;00m\n",
      "\u001B[37m    \u001B[39;49;00m\u001B[94m\"div_val\"\u001B[39;49;00m:\u001B[37m \u001B[39;49;00m\u001B[34m1\u001B[39;49;00m,\u001B[37m\u001B[39;49;00m\n",
      "\u001B[37m    \u001B[39;49;00m\u001B[94m\"pre_lnorm\"\u001B[39;49;00m:\u001B[37m \u001B[39;49;00m\u001B[34mfalse\u001B[39;49;00m,\u001B[37m\u001B[39;49;00m\n",
      "\u001B[37m    \u001B[39;49;00m\u001B[94m\"n_layer\"\u001B[39;49;00m:\u001B[37m \u001B[39;49;00m\u001B[34m4\u001B[39;49;00m,\u001B[37m\u001B[39;49;00m\n",
      "\u001B[37m    \u001B[39;49;00m\u001B[94m\"n_head\"\u001B[39;49;00m:\u001B[37m \u001B[39;49;00m\u001B[34m8\u001B[39;49;00m,\u001B[37m\u001B[39;49;00m\n",
      "\u001B[37m    \u001B[39;49;00m\u001B[94m\"mem_len\"\u001B[39;49;00m:\u001B[37m \u001B[39;49;00m\u001B[34m64\u001B[39;49;00m,\u001B[37m\u001B[39;49;00m\n",
      "\u001B[37m    \u001B[39;49;00m\u001B[94m\"same_length\"\u001B[39;49;00m:\u001B[37m \u001B[39;49;00m\u001B[34mtrue\u001B[39;49;00m,\u001B[37m\u001B[39;49;00m\n",
      "\u001B[37m    \u001B[39;49;00m\u001B[94m\"attn_type\"\u001B[39;49;00m:\u001B[37m \u001B[39;49;00m\u001B[34m0\u001B[39;49;00m,\u001B[37m\u001B[39;49;00m\n",
      "\u001B[37m    \u001B[39;49;00m\u001B[94m\"clamp_len\"\u001B[39;49;00m:\u001B[37m \u001B[39;49;00m\u001B[34m1000\u001B[39;49;00m,\u001B[37m\u001B[39;49;00m\n",
      "\u001B[37m    \u001B[39;49;00m\u001B[94m\"sample_softmax\"\u001B[39;49;00m:\u001B[37m \u001B[39;49;00m\u001B[34m-1\u001B[39;49;00m,\u001B[37m\u001B[39;49;00m\n",
      "\u001B[37m    \u001B[39;49;00m\u001B[94m\"adaptive\"\u001B[39;49;00m:\u001B[37m \u001B[39;49;00m\u001B[34mtrue\u001B[39;49;00m,\u001B[37m\u001B[39;49;00m\n",
      "\u001B[37m    \u001B[39;49;00m\u001B[94m\"dropout\"\u001B[39;49;00m:\u001B[37m \u001B[39;49;00m\u001B[34m0.1\u001B[39;49;00m,\u001B[37m\u001B[39;49;00m\n",
      "\u001B[37m    \u001B[39;49;00m\u001B[94m\"dropatt\"\u001B[39;49;00m:\u001B[37m \u001B[39;49;00m\u001B[34m0.0\u001B[39;49;00m,\u001B[37m\u001B[39;49;00m\n",
      "\u001B[37m    \u001B[39;49;00m\u001B[94m\"untie_r\"\u001B[39;49;00m:\u001B[37m \u001B[39;49;00m\u001B[34mtrue\u001B[39;49;00m,\u001B[37m\u001B[39;49;00m\n",
      "\u001B[37m    \u001B[39;49;00m\u001B[94m\"init\"\u001B[39;49;00m:\u001B[37m \u001B[39;49;00m\u001B[33m\"normal\"\u001B[39;49;00m,\u001B[37m\u001B[39;49;00m\n",
      "\u001B[37m    \u001B[39;49;00m\u001B[94m\"init_range\"\u001B[39;49;00m:\u001B[37m \u001B[39;49;00m\u001B[34m0.01\u001B[39;49;00m,\u001B[37m\u001B[39;49;00m\n",
      "\u001B[37m    \u001B[39;49;00m\u001B[94m\"proj_init_std\"\u001B[39;49;00m:\u001B[37m \u001B[39;49;00m\u001B[34m0.01\u001B[39;49;00m,\u001B[37m\u001B[39;49;00m\n",
      "\u001B[37m    \u001B[39;49;00m\u001B[94m\"init_std\"\u001B[39;49;00m:\u001B[37m \u001B[39;49;00m\u001B[34m0.02\u001B[39;49;00m,\u001B[37m\u001B[39;49;00m\n",
      "\u001B[37m    \u001B[39;49;00m\u001B[94m\"layer_norm_epsilon\"\u001B[39;49;00m:\u001B[37m \u001B[39;49;00m\u001B[34m1e-05\u001B[39;49;00m,\u001B[37m\u001B[39;49;00m\n",
      "\u001B[37m    \u001B[39;49;00m\u001B[94m\"return_dict\"\u001B[39;49;00m:\u001B[37m \u001B[39;49;00m\u001B[34mtrue\u001B[39;49;00m,\u001B[37m\u001B[39;49;00m\n",
      "\u001B[37m    \u001B[39;49;00m\u001B[94m\"output_hidden_states\"\u001B[39;49;00m:\u001B[37m \u001B[39;49;00m\u001B[34mfalse\u001B[39;49;00m,\u001B[37m\u001B[39;49;00m\n",
      "\u001B[37m    \u001B[39;49;00m\u001B[94m\"output_attentions\"\u001B[39;49;00m:\u001B[37m \u001B[39;49;00m\u001B[34mfalse\u001B[39;49;00m,\u001B[37m\u001B[39;49;00m\n",
      "\u001B[37m    \u001B[39;49;00m\u001B[94m\"torchscript\"\u001B[39;49;00m:\u001B[37m \u001B[39;49;00m\u001B[34mfalse\u001B[39;49;00m,\u001B[37m\u001B[39;49;00m\n",
      "\u001B[37m    \u001B[39;49;00m\u001B[94m\"torch_dtype\"\u001B[39;49;00m:\u001B[37m \u001B[39;49;00m\u001B[34mnull\u001B[39;49;00m,\u001B[37m\u001B[39;49;00m\n",
      "\u001B[37m    \u001B[39;49;00m\u001B[94m\"use_bfloat16\"\u001B[39;49;00m:\u001B[37m \u001B[39;49;00m\u001B[34mfalse\u001B[39;49;00m,\u001B[37m\u001B[39;49;00m\n",
      "\u001B[37m    \u001B[39;49;00m\u001B[94m\"pruned_heads\"\u001B[39;49;00m:\u001B[37m \u001B[39;49;00m{},\u001B[37m\u001B[39;49;00m\n",
      "\u001B[37m    \u001B[39;49;00m\u001B[94m\"tie_word_embeddings\"\u001B[39;49;00m:\u001B[37m \u001B[39;49;00m\u001B[34mtrue\u001B[39;49;00m,\u001B[37m\u001B[39;49;00m\n",
      "\u001B[37m    \u001B[39;49;00m\u001B[94m\"is_encoder_decoder\"\u001B[39;49;00m:\u001B[37m \u001B[39;49;00m\u001B[34mfalse\u001B[39;49;00m,\u001B[37m\u001B[39;49;00m\n",
      "\u001B[37m    \u001B[39;49;00m\u001B[94m\"is_decoder\"\u001B[39;49;00m:\u001B[37m \u001B[39;49;00m\u001B[34mfalse\u001B[39;49;00m,\u001B[37m\u001B[39;49;00m\n",
      "\u001B[37m    \u001B[39;49;00m\u001B[94m\"cross_attention_hidden_size\"\u001B[39;49;00m:\u001B[37m \u001B[39;49;00m\u001B[34mnull\u001B[39;49;00m,\u001B[37m\u001B[39;49;00m\n",
      "\u001B[37m    \u001B[39;49;00m\u001B[94m\"add_cross_attention\"\u001B[39;49;00m:\u001B[37m \u001B[39;49;00m\u001B[34mfalse\u001B[39;49;00m,\u001B[37m\u001B[39;49;00m\n",
      "\u001B[37m    \u001B[39;49;00m\u001B[94m\"tie_encoder_decoder\"\u001B[39;49;00m:\u001B[37m \u001B[39;49;00m\u001B[34mfalse\u001B[39;49;00m,\u001B[37m\u001B[39;49;00m\n",
      "\u001B[37m    \u001B[39;49;00m\u001B[94m\"max_length\"\u001B[39;49;00m:\u001B[37m \u001B[39;49;00m\u001B[34m20\u001B[39;49;00m,\u001B[37m\u001B[39;49;00m\n",
      "\u001B[37m    \u001B[39;49;00m\u001B[94m\"min_length\"\u001B[39;49;00m:\u001B[37m \u001B[39;49;00m\u001B[34m0\u001B[39;49;00m,\u001B[37m\u001B[39;49;00m\n",
      "\u001B[37m    \u001B[39;49;00m\u001B[94m\"do_sample\"\u001B[39;49;00m:\u001B[37m \u001B[39;49;00m\u001B[34mfalse\u001B[39;49;00m,\u001B[37m\u001B[39;49;00m\n",
      "\u001B[37m    \u001B[39;49;00m\u001B[94m\"early_stopping\"\u001B[39;49;00m:\u001B[37m \u001B[39;49;00m\u001B[34mfalse\u001B[39;49;00m,\u001B[37m\u001B[39;49;00m\n",
      "\u001B[37m    \u001B[39;49;00m\u001B[94m\"num_beams\"\u001B[39;49;00m:\u001B[37m \u001B[39;49;00m\u001B[34m1\u001B[39;49;00m,\u001B[37m\u001B[39;49;00m\n",
      "\u001B[37m    \u001B[39;49;00m\u001B[94m\"num_beam_groups\"\u001B[39;49;00m:\u001B[37m \u001B[39;49;00m\u001B[34m1\u001B[39;49;00m,\u001B[37m\u001B[39;49;00m\n",
      "\u001B[37m    \u001B[39;49;00m\u001B[94m\"diversity_penalty\"\u001B[39;49;00m:\u001B[37m \u001B[39;49;00m\u001B[34m0.0\u001B[39;49;00m,\u001B[37m\u001B[39;49;00m\n",
      "\u001B[37m    \u001B[39;49;00m\u001B[94m\"temperature\"\u001B[39;49;00m:\u001B[37m \u001B[39;49;00m\u001B[34m1.0\u001B[39;49;00m,\u001B[37m\u001B[39;49;00m\n",
      "\u001B[37m    \u001B[39;49;00m\u001B[94m\"top_k\"\u001B[39;49;00m:\u001B[37m \u001B[39;49;00m\u001B[34m50\u001B[39;49;00m,\u001B[37m\u001B[39;49;00m\n",
      "\u001B[37m    \u001B[39;49;00m\u001B[94m\"top_p\"\u001B[39;49;00m:\u001B[37m \u001B[39;49;00m\u001B[34m1.0\u001B[39;49;00m,\u001B[37m\u001B[39;49;00m\n",
      "\u001B[37m    \u001B[39;49;00m\u001B[94m\"typical_p\"\u001B[39;49;00m:\u001B[37m \u001B[39;49;00m\u001B[34m1.0\u001B[39;49;00m,\u001B[37m\u001B[39;49;00m\n",
      "\u001B[37m    \u001B[39;49;00m\u001B[94m\"repetition_penalty\"\u001B[39;49;00m:\u001B[37m \u001B[39;49;00m\u001B[34m1.0\u001B[39;49;00m,\u001B[37m\u001B[39;49;00m\n",
      "\u001B[37m    \u001B[39;49;00m\u001B[94m\"length_penalty\"\u001B[39;49;00m:\u001B[37m \u001B[39;49;00m\u001B[34m1.0\u001B[39;49;00m,\u001B[37m\u001B[39;49;00m\n",
      "\u001B[37m    \u001B[39;49;00m\u001B[94m\"no_repeat_ngram_size\"\u001B[39;49;00m:\u001B[37m \u001B[39;49;00m\u001B[34m0\u001B[39;49;00m,\u001B[37m\u001B[39;49;00m\n",
      "\u001B[37m    \u001B[39;49;00m\u001B[94m\"encoder_no_repeat_ngram_size\"\u001B[39;49;00m:\u001B[37m \u001B[39;49;00m\u001B[34m0\u001B[39;49;00m,\u001B[37m\u001B[39;49;00m\n",
      "\u001B[37m    \u001B[39;49;00m\u001B[94m\"bad_words_ids\"\u001B[39;49;00m:\u001B[37m \u001B[39;49;00m\u001B[34mnull\u001B[39;49;00m,\u001B[37m\u001B[39;49;00m\n",
      "\u001B[37m    \u001B[39;49;00m\u001B[94m\"num_return_sequences\"\u001B[39;49;00m:\u001B[37m \u001B[39;49;00m\u001B[34m1\u001B[39;49;00m,\u001B[37m\u001B[39;49;00m\n",
      "\u001B[37m    \u001B[39;49;00m\u001B[94m\"chunk_size_feed_forward\"\u001B[39;49;00m:\u001B[37m \u001B[39;49;00m\u001B[34m0\u001B[39;49;00m,\u001B[37m\u001B[39;49;00m\n",
      "\u001B[37m    \u001B[39;49;00m\u001B[94m\"output_scores\"\u001B[39;49;00m:\u001B[37m \u001B[39;49;00m\u001B[34mfalse\u001B[39;49;00m,\u001B[37m\u001B[39;49;00m\n",
      "\u001B[37m    \u001B[39;49;00m\u001B[94m\"return_dict_in_generate\"\u001B[39;49;00m:\u001B[37m \u001B[39;49;00m\u001B[34mfalse\u001B[39;49;00m,\u001B[37m\u001B[39;49;00m\n",
      "\u001B[37m    \u001B[39;49;00m\u001B[94m\"forced_bos_token_id\"\u001B[39;49;00m:\u001B[37m \u001B[39;49;00m\u001B[34mnull\u001B[39;49;00m,\u001B[37m\u001B[39;49;00m\n",
      "\u001B[37m    \u001B[39;49;00m\u001B[94m\"forced_eos_token_id\"\u001B[39;49;00m:\u001B[37m \u001B[39;49;00m\u001B[34mnull\u001B[39;49;00m,\u001B[37m\u001B[39;49;00m\n",
      "\u001B[37m    \u001B[39;49;00m\u001B[94m\"remove_invalid_values\"\u001B[39;49;00m:\u001B[37m \u001B[39;49;00m\u001B[34mfalse\u001B[39;49;00m,\u001B[37m\u001B[39;49;00m\n",
      "\u001B[37m    \u001B[39;49;00m\u001B[94m\"exponential_decay_length_penalty\"\u001B[39;49;00m:\u001B[37m \u001B[39;49;00m\u001B[34mnull\u001B[39;49;00m,\u001B[37m\u001B[39;49;00m\n",
      "\u001B[37m    \u001B[39;49;00m\u001B[94m\"architectures\"\u001B[39;49;00m:\u001B[37m \u001B[39;49;00m\u001B[34mnull\u001B[39;49;00m,\u001B[37m\u001B[39;49;00m\n",
      "\u001B[37m    \u001B[39;49;00m\u001B[94m\"finetuning_task\"\u001B[39;49;00m:\u001B[37m \u001B[39;49;00m\u001B[34mnull\u001B[39;49;00m,\u001B[37m\u001B[39;49;00m\n",
      "\u001B[37m    \u001B[39;49;00m\u001B[94m\"id2label\"\u001B[39;49;00m:\u001B[37m \u001B[39;49;00m{\u001B[37m\u001B[39;49;00m\n",
      "\u001B[37m        \u001B[39;49;00m\u001B[94m\"0\"\u001B[39;49;00m:\u001B[37m \u001B[39;49;00m\u001B[33m\"LABEL_0\"\u001B[39;49;00m,\u001B[37m\u001B[39;49;00m\n",
      "\u001B[37m        \u001B[39;49;00m\u001B[94m\"1\"\u001B[39;49;00m:\u001B[37m \u001B[39;49;00m\u001B[33m\"LABEL_1\"\u001B[39;49;00m\u001B[37m\u001B[39;49;00m\n",
      "\u001B[37m    \u001B[39;49;00m},\u001B[37m\u001B[39;49;00m\n",
      "\u001B[37m    \u001B[39;49;00m\u001B[94m\"label2id\"\u001B[39;49;00m:\u001B[37m \u001B[39;49;00m{\u001B[37m\u001B[39;49;00m\n",
      "\u001B[37m        \u001B[39;49;00m\u001B[94m\"LABEL_0\"\u001B[39;49;00m:\u001B[37m \u001B[39;49;00m\u001B[34m0\u001B[39;49;00m,\u001B[37m\u001B[39;49;00m\n",
      "\u001B[37m        \u001B[39;49;00m\u001B[94m\"LABEL_1\"\u001B[39;49;00m:\u001B[37m \u001B[39;49;00m\u001B[34m1\u001B[39;49;00m\u001B[37m\u001B[39;49;00m\n",
      "\u001B[37m    \u001B[39;49;00m},\u001B[37m\u001B[39;49;00m\n",
      "\u001B[37m    \u001B[39;49;00m\u001B[94m\"tokenizer_class\"\u001B[39;49;00m:\u001B[37m \u001B[39;49;00m\u001B[34mnull\u001B[39;49;00m,\u001B[37m\u001B[39;49;00m\n",
      "\u001B[37m    \u001B[39;49;00m\u001B[94m\"prefix\"\u001B[39;49;00m:\u001B[37m \u001B[39;49;00m\u001B[34mnull\u001B[39;49;00m,\u001B[37m\u001B[39;49;00m\n",
      "\u001B[37m    \u001B[39;49;00m\u001B[94m\"bos_token_id\"\u001B[39;49;00m:\u001B[37m \u001B[39;49;00m\u001B[34mnull\u001B[39;49;00m,\u001B[37m\u001B[39;49;00m\n",
      "\u001B[37m    \u001B[39;49;00m\u001B[94m\"pad_token_id\"\u001B[39;49;00m:\u001B[37m \u001B[39;49;00m\u001B[34mnull\u001B[39;49;00m,\u001B[37m\u001B[39;49;00m\n",
      "\u001B[37m    \u001B[39;49;00m\u001B[94m\"eos_token_id\"\u001B[39;49;00m:\u001B[37m \u001B[39;49;00m\u001B[34m0\u001B[39;49;00m,\u001B[37m\u001B[39;49;00m\n",
      "\u001B[37m    \u001B[39;49;00m\u001B[94m\"sep_token_id\"\u001B[39;49;00m:\u001B[37m \u001B[39;49;00m\u001B[34mnull\u001B[39;49;00m,\u001B[37m\u001B[39;49;00m\n",
      "\u001B[37m    \u001B[39;49;00m\u001B[94m\"decoder_start_token_id\"\u001B[39;49;00m:\u001B[37m \u001B[39;49;00m\u001B[34mnull\u001B[39;49;00m,\u001B[37m\u001B[39;49;00m\n",
      "\u001B[37m    \u001B[39;49;00m\u001B[94m\"task_specific_params\"\u001B[39;49;00m:\u001B[37m \u001B[39;49;00m\u001B[34mnull\u001B[39;49;00m,\u001B[37m\u001B[39;49;00m\n",
      "\u001B[37m    \u001B[39;49;00m\u001B[94m\"problem_type\"\u001B[39;49;00m:\u001B[37m \u001B[39;49;00m\u001B[34mnull\u001B[39;49;00m,\u001B[37m\u001B[39;49;00m\n",
      "\u001B[37m    \u001B[39;49;00m\u001B[94m\"_name_or_path\"\u001B[39;49;00m:\u001B[37m \u001B[39;49;00m\u001B[33m\"\"\u001B[39;49;00m,\u001B[37m\u001B[39;49;00m\n",
      "\u001B[37m    \u001B[39;49;00m\u001B[94m\"transformers_version\"\u001B[39;49;00m:\u001B[37m \u001B[39;49;00m\u001B[33m\"4.19.2\"\u001B[39;49;00m,\u001B[37m\u001B[39;49;00m\n",
      "\u001B[37m    \u001B[39;49;00m\u001B[94m\"max_length_\"\u001B[39;49;00m:\u001B[37m \u001B[39;49;00m\u001B[34m128\u001B[39;49;00m,\u001B[37m\u001B[39;49;00m\n",
      "\u001B[37m    \u001B[39;49;00m\u001B[94m\"model_type\"\u001B[39;49;00m:\u001B[37m \u001B[39;49;00m\u001B[33m\"transfo-xl\"\u001B[39;49;00m\u001B[37m\u001B[39;49;00m\n",
      "}\u001B[37m\u001B[39;49;00m\n",
      " on \u001B[35m{\u001B[39m\u001B[49m\u001B[0m#data: \u001B[34m32\u001B[39m\u001B[49m\u001B[0m, batch shape: \u001B[34m(8, 128)\u001B[39m\u001B[49m\u001B[0m, #epochs: \u001B[34m16\u001B[39m\u001B[49m\u001B[0m, #steps: \u001B[34m64\u001B[39m\u001B[49m\u001B[0m, learning rate: \u001B[34m0.001\u001B[39m\u001B[49m\u001B[0m\u001B[35m}\u001B[39m\u001B[49m\u001B[0m with training args {\u001B[37m\u001B[39;49;00m\n",
      "\u001B[37m    \u001B[39;49;00m\u001B[94m\"output_dir\"\u001B[39;49;00m:\u001B[37m \u001B[39;49;00m\u001B[33m\"/Users/stefanhg/Documents/UMich/Research/Music with NLP/Symbolic-Music-Generation/models/transf-xl/2022-05-23_22-05-35\"\u001B[39;49;00m,\u001B[37m\u001B[39;49;00m\n",
      "\u001B[37m    \u001B[39;49;00m\u001B[94m\"overwrite_output_dir\"\u001B[39;49;00m:\u001B[37m \u001B[39;49;00m\u001B[34mfalse\u001B[39;49;00m,\u001B[37m\u001B[39;49;00m\n",
      "\u001B[37m    \u001B[39;49;00m\u001B[94m\"do_train\"\u001B[39;49;00m:\u001B[37m \u001B[39;49;00m\u001B[34mtrue\u001B[39;49;00m,\u001B[37m\u001B[39;49;00m\n",
      "\u001B[37m    \u001B[39;49;00m\u001B[94m\"do_eval\"\u001B[39;49;00m:\u001B[37m \u001B[39;49;00m\u001B[34mtrue\u001B[39;49;00m,\u001B[37m\u001B[39;49;00m\n",
      "\u001B[37m    \u001B[39;49;00m\u001B[94m\"do_predict\"\u001B[39;49;00m:\u001B[37m \u001B[39;49;00m\u001B[34mfalse\u001B[39;49;00m,\u001B[37m\u001B[39;49;00m\n",
      "\u001B[37m    \u001B[39;49;00m\u001B[94m\"evaluation_strategy\"\u001B[39;49;00m:\u001B[37m \u001B[39;49;00m\u001B[33m\"epoch\"\u001B[39;49;00m,\u001B[37m\u001B[39;49;00m\n",
      "\u001B[37m    \u001B[39;49;00m\u001B[94m\"prediction_loss_only\"\u001B[39;49;00m:\u001B[37m \u001B[39;49;00m\u001B[34mfalse\u001B[39;49;00m,\u001B[37m\u001B[39;49;00m\n",
      "\u001B[37m    \u001B[39;49;00m\u001B[94m\"per_device_train_batch_size\"\u001B[39;49;00m:\u001B[37m \u001B[39;49;00m\u001B[34m8\u001B[39;49;00m,\u001B[37m\u001B[39;49;00m\n",
      "\u001B[37m    \u001B[39;49;00m\u001B[94m\"per_device_eval_batch_size\"\u001B[39;49;00m:\u001B[37m \u001B[39;49;00m\u001B[34m8\u001B[39;49;00m,\u001B[37m\u001B[39;49;00m\n",
      "\u001B[37m    \u001B[39;49;00m\u001B[94m\"per_gpu_train_batch_size\"\u001B[39;49;00m:\u001B[37m \u001B[39;49;00m\u001B[34mnull\u001B[39;49;00m,\u001B[37m\u001B[39;49;00m\n",
      "\u001B[37m    \u001B[39;49;00m\u001B[94m\"per_gpu_eval_batch_size\"\u001B[39;49;00m:\u001B[37m \u001B[39;49;00m\u001B[34mnull\u001B[39;49;00m,\u001B[37m\u001B[39;49;00m\n",
      "\u001B[37m    \u001B[39;49;00m\u001B[94m\"gradient_accumulation_steps\"\u001B[39;49;00m:\u001B[37m \u001B[39;49;00m\u001B[34m1\u001B[39;49;00m,\u001B[37m\u001B[39;49;00m\n",
      "\u001B[37m    \u001B[39;49;00m\u001B[94m\"eval_accumulation_steps\"\u001B[39;49;00m:\u001B[37m \u001B[39;49;00m\u001B[34m1\u001B[39;49;00m,\u001B[37m\u001B[39;49;00m\n",
      "\u001B[37m    \u001B[39;49;00m\u001B[94m\"eval_delay\"\u001B[39;49;00m:\u001B[37m \u001B[39;49;00m\u001B[34m0\u001B[39;49;00m,\u001B[37m\u001B[39;49;00m\n",
      "\u001B[37m    \u001B[39;49;00m\u001B[94m\"learning_rate\"\u001B[39;49;00m:\u001B[37m \u001B[39;49;00m\u001B[34m0.001\u001B[39;49;00m,\u001B[37m\u001B[39;49;00m\n",
      "\u001B[37m    \u001B[39;49;00m\u001B[94m\"weight_decay\"\u001B[39;49;00m:\u001B[37m \u001B[39;49;00m\u001B[34m0\u001B[39;49;00m,\u001B[37m\u001B[39;49;00m\n",
      "\u001B[37m    \u001B[39;49;00m\u001B[94m\"adam_beta1\"\u001B[39;49;00m:\u001B[37m \u001B[39;49;00m\u001B[34m0.9\u001B[39;49;00m,\u001B[37m\u001B[39;49;00m\n",
      "\u001B[37m    \u001B[39;49;00m\u001B[94m\"adam_beta2\"\u001B[39;49;00m:\u001B[37m \u001B[39;49;00m\u001B[34m0.999\u001B[39;49;00m,\u001B[37m\u001B[39;49;00m\n",
      "\u001B[37m    \u001B[39;49;00m\u001B[94m\"adam_epsilon\"\u001B[39;49;00m:\u001B[37m \u001B[39;49;00m\u001B[34m1e-08\u001B[39;49;00m,\u001B[37m\u001B[39;49;00m\n",
      "\u001B[37m    \u001B[39;49;00m\u001B[94m\"max_grad_norm\"\u001B[39;49;00m:\u001B[37m \u001B[39;49;00m\u001B[34m1\u001B[39;49;00m,\u001B[37m\u001B[39;49;00m\n",
      "\u001B[37m    \u001B[39;49;00m\u001B[94m\"num_train_epochs\"\u001B[39;49;00m:\u001B[37m \u001B[39;49;00m\u001B[34m16\u001B[39;49;00m,\u001B[37m\u001B[39;49;00m\n",
      "\u001B[37m    \u001B[39;49;00m\u001B[94m\"max_steps\"\u001B[39;49;00m:\u001B[37m \u001B[39;49;00m\u001B[34m-1\u001B[39;49;00m,\u001B[37m\u001B[39;49;00m\n",
      "\u001B[37m    \u001B[39;49;00m\u001B[94m\"lr_scheduler_type\"\u001B[39;49;00m:\u001B[37m \u001B[39;49;00m\u001B[33m\"constant\"\u001B[39;49;00m,\u001B[37m\u001B[39;49;00m\n",
      "\u001B[37m    \u001B[39;49;00m\u001B[94m\"warmup_ratio\"\u001B[39;49;00m:\u001B[37m \u001B[39;49;00m\u001B[34m0.01\u001B[39;49;00m,\u001B[37m\u001B[39;49;00m\n",
      "\u001B[37m    \u001B[39;49;00m\u001B[94m\"warmup_steps\"\u001B[39;49;00m:\u001B[37m \u001B[39;49;00m\u001B[34m0\u001B[39;49;00m,\u001B[37m\u001B[39;49;00m\n",
      "\u001B[37m    \u001B[39;49;00m\u001B[94m\"log_level\"\u001B[39;49;00m:\u001B[37m \u001B[39;49;00m\u001B[34m30\u001B[39;49;00m,\u001B[37m\u001B[39;49;00m\n",
      "\u001B[37m    \u001B[39;49;00m\u001B[94m\"log_level_replica\"\u001B[39;49;00m:\u001B[37m \u001B[39;49;00m\u001B[34m-1\u001B[39;49;00m,\u001B[37m\u001B[39;49;00m\n",
      "\u001B[37m    \u001B[39;49;00m\u001B[94m\"log_on_each_node\"\u001B[39;49;00m:\u001B[37m \u001B[39;49;00m\u001B[34mtrue\u001B[39;49;00m,\u001B[37m\u001B[39;49;00m\n",
      "\u001B[37m    \u001B[39;49;00m\u001B[94m\"logging_dir\"\u001B[39;49;00m:\u001B[37m \u001B[39;49;00m\u001B[33m\"/Users/stefanhg/Documents/UMich/Research/Music with NLP/Symbolic-Music-Generation/models/transf-xl/2022-05-23_22-05-35/runs/May23_22-05-35_Ma-Mac\"\u001B[39;49;00m,\u001B[37m\u001B[39;49;00m\n",
      "\u001B[37m    \u001B[39;49;00m\u001B[94m\"logging_strategy\"\u001B[39;49;00m:\u001B[37m \u001B[39;49;00m\u001B[33m\"steps\"\u001B[39;49;00m,\u001B[37m\u001B[39;49;00m\n",
      "\u001B[37m    \u001B[39;49;00m\u001B[94m\"logging_first_step\"\u001B[39;49;00m:\u001B[37m \u001B[39;49;00m\u001B[34mfalse\u001B[39;49;00m,\u001B[37m\u001B[39;49;00m\n",
      "\u001B[37m    \u001B[39;49;00m\u001B[94m\"logging_steps\"\u001B[39;49;00m:\u001B[37m \u001B[39;49;00m\u001B[34m1\u001B[39;49;00m,\u001B[37m\u001B[39;49;00m\n",
      "\u001B[37m    \u001B[39;49;00m\u001B[94m\"logging_nan_inf_filter\"\u001B[39;49;00m:\u001B[37m \u001B[39;49;00m\u001B[34mtrue\u001B[39;49;00m,\u001B[37m\u001B[39;49;00m\n",
      "\u001B[37m    \u001B[39;49;00m\u001B[94m\"save_strategy\"\u001B[39;49;00m:\u001B[37m \u001B[39;49;00m\u001B[33m\"steps\"\u001B[39;49;00m,\u001B[37m\u001B[39;49;00m\n",
      "\u001B[37m    \u001B[39;49;00m\u001B[94m\"save_steps\"\u001B[39;49;00m:\u001B[37m \u001B[39;49;00m\u001B[34m8\u001B[39;49;00m,\u001B[37m\u001B[39;49;00m\n",
      "\u001B[37m    \u001B[39;49;00m\u001B[94m\"save_total_limit\"\u001B[39;49;00m:\u001B[37m \u001B[39;49;00m\u001B[34mnull\u001B[39;49;00m,\u001B[37m\u001B[39;49;00m\n",
      "\u001B[37m    \u001B[39;49;00m\u001B[94m\"save_on_each_node\"\u001B[39;49;00m:\u001B[37m \u001B[39;49;00m\u001B[34mfalse\u001B[39;49;00m,\u001B[37m\u001B[39;49;00m\n",
      "\u001B[37m    \u001B[39;49;00m\u001B[94m\"no_cuda\"\u001B[39;49;00m:\u001B[37m \u001B[39;49;00m\u001B[34mfalse\u001B[39;49;00m,\u001B[37m\u001B[39;49;00m\n",
      "\u001B[37m    \u001B[39;49;00m\u001B[94m\"seed\"\u001B[39;49;00m:\u001B[37m \u001B[39;49;00m\u001B[34m42\u001B[39;49;00m,\u001B[37m\u001B[39;49;00m\n",
      "\u001B[37m    \u001B[39;49;00m\u001B[94m\"data_seed\"\u001B[39;49;00m:\u001B[37m \u001B[39;49;00m\u001B[34mnull\u001B[39;49;00m,\u001B[37m\u001B[39;49;00m\n",
      "\u001B[37m    \u001B[39;49;00m\u001B[94m\"bf16\"\u001B[39;49;00m:\u001B[37m \u001B[39;49;00m\u001B[34mfalse\u001B[39;49;00m,\u001B[37m\u001B[39;49;00m\n",
      "\u001B[37m    \u001B[39;49;00m\u001B[94m\"fp16\"\u001B[39;49;00m:\u001B[37m \u001B[39;49;00m\u001B[34mfalse\u001B[39;49;00m,\u001B[37m\u001B[39;49;00m\n",
      "\u001B[37m    \u001B[39;49;00m\u001B[94m\"fp16_opt_level\"\u001B[39;49;00m:\u001B[37m \u001B[39;49;00m\u001B[33m\"O1\"\u001B[39;49;00m,\u001B[37m\u001B[39;49;00m\n",
      "\u001B[37m    \u001B[39;49;00m\u001B[94m\"half_precision_backend\"\u001B[39;49;00m:\u001B[37m \u001B[39;49;00m\u001B[33m\"auto\"\u001B[39;49;00m,\u001B[37m\u001B[39;49;00m\n",
      "\u001B[37m    \u001B[39;49;00m\u001B[94m\"bf16_full_eval\"\u001B[39;49;00m:\u001B[37m \u001B[39;49;00m\u001B[34mfalse\u001B[39;49;00m,\u001B[37m\u001B[39;49;00m\n",
      "\u001B[37m    \u001B[39;49;00m\u001B[94m\"fp16_full_eval\"\u001B[39;49;00m:\u001B[37m \u001B[39;49;00m\u001B[34mfalse\u001B[39;49;00m,\u001B[37m\u001B[39;49;00m\n",
      "\u001B[37m    \u001B[39;49;00m\u001B[94m\"tf32\"\u001B[39;49;00m:\u001B[37m \u001B[39;49;00m\u001B[34mnull\u001B[39;49;00m,\u001B[37m\u001B[39;49;00m\n",
      "\u001B[37m    \u001B[39;49;00m\u001B[94m\"local_rank\"\u001B[39;49;00m:\u001B[37m \u001B[39;49;00m\u001B[34m-1\u001B[39;49;00m,\u001B[37m\u001B[39;49;00m\n",
      "\u001B[37m    \u001B[39;49;00m\u001B[94m\"xpu_backend\"\u001B[39;49;00m:\u001B[37m \u001B[39;49;00m\u001B[34mnull\u001B[39;49;00m,\u001B[37m\u001B[39;49;00m\n",
      "\u001B[37m    \u001B[39;49;00m\u001B[94m\"tpu_num_cores\"\u001B[39;49;00m:\u001B[37m \u001B[39;49;00m\u001B[34mnull\u001B[39;49;00m,\u001B[37m\u001B[39;49;00m\n",
      "\u001B[37m    \u001B[39;49;00m\u001B[94m\"tpu_metrics_debug\"\u001B[39;49;00m:\u001B[37m \u001B[39;49;00m\u001B[34mfalse\u001B[39;49;00m,\u001B[37m\u001B[39;49;00m\n",
      "\u001B[37m    \u001B[39;49;00m\u001B[94m\"debug\"\u001B[39;49;00m:\u001B[37m \u001B[39;49;00m[],\u001B[37m\u001B[39;49;00m\n",
      "\u001B[37m    \u001B[39;49;00m\u001B[94m\"dataloader_drop_last\"\u001B[39;49;00m:\u001B[37m \u001B[39;49;00m\u001B[34mfalse\u001B[39;49;00m,\u001B[37m\u001B[39;49;00m\n",
      "\u001B[37m    \u001B[39;49;00m\u001B[94m\"eval_steps\"\u001B[39;49;00m:\u001B[37m \u001B[39;49;00m\u001B[34mnull\u001B[39;49;00m,\u001B[37m\u001B[39;49;00m\n",
      "\u001B[37m    \u001B[39;49;00m\u001B[94m\"dataloader_num_workers\"\u001B[39;49;00m:\u001B[37m \u001B[39;49;00m\u001B[34m0\u001B[39;49;00m,\u001B[37m\u001B[39;49;00m\n",
      "\u001B[37m    \u001B[39;49;00m\u001B[94m\"past_index\"\u001B[39;49;00m:\u001B[37m \u001B[39;49;00m\u001B[34m-1\u001B[39;49;00m,\u001B[37m\u001B[39;49;00m\n",
      "\u001B[37m    \u001B[39;49;00m\u001B[94m\"run_name\"\u001B[39;49;00m:\u001B[37m \u001B[39;49;00m\u001B[33m\"/Users/stefanhg/Documents/UMich/Research/Music with NLP/Symbolic-Music-Generation/models/transf-xl/2022-05-23_22-05-35\"\u001B[39;49;00m,\u001B[37m\u001B[39;49;00m\n",
      "\u001B[37m    \u001B[39;49;00m\u001B[94m\"disable_tqdm\"\u001B[39;49;00m:\u001B[37m \u001B[39;49;00m\u001B[34mtrue\u001B[39;49;00m,\u001B[37m\u001B[39;49;00m\n",
      "\u001B[37m    \u001B[39;49;00m\u001B[94m\"remove_unused_columns\"\u001B[39;49;00m:\u001B[37m \u001B[39;49;00m\u001B[34mtrue\u001B[39;49;00m,\u001B[37m\u001B[39;49;00m\n",
      "\u001B[37m    \u001B[39;49;00m\u001B[94m\"label_names\"\u001B[39;49;00m:\u001B[37m \u001B[39;49;00m\u001B[34mnull\u001B[39;49;00m,\u001B[37m\u001B[39;49;00m\n",
      "\u001B[37m    \u001B[39;49;00m\u001B[94m\"load_best_model_at_end\"\u001B[39;49;00m:\u001B[37m \u001B[39;49;00m\u001B[34mfalse\u001B[39;49;00m,\u001B[37m\u001B[39;49;00m\n",
      "\u001B[37m    \u001B[39;49;00m\u001B[94m\"metric_for_best_model\"\u001B[39;49;00m:\u001B[37m \u001B[39;49;00m\u001B[34mnull\u001B[39;49;00m,\u001B[37m\u001B[39;49;00m\n",
      "\u001B[37m    \u001B[39;49;00m\u001B[94m\"greater_is_better\"\u001B[39;49;00m:\u001B[37m \u001B[39;49;00m\u001B[34mnull\u001B[39;49;00m,\u001B[37m\u001B[39;49;00m\n",
      "\u001B[37m    \u001B[39;49;00m\u001B[94m\"ignore_data_skip\"\u001B[39;49;00m:\u001B[37m \u001B[39;49;00m\u001B[34mfalse\u001B[39;49;00m,\u001B[37m\u001B[39;49;00m\n",
      "\u001B[37m    \u001B[39;49;00m\u001B[94m\"sharded_ddp\"\u001B[39;49;00m:\u001B[37m \u001B[39;49;00m[],\u001B[37m\u001B[39;49;00m\n",
      "\u001B[37m    \u001B[39;49;00m\u001B[94m\"fsdp\"\u001B[39;49;00m:\u001B[37m \u001B[39;49;00m[],\u001B[37m\u001B[39;49;00m\n",
      "\u001B[37m    \u001B[39;49;00m\u001B[94m\"fsdp_min_num_params\"\u001B[39;49;00m:\u001B[37m \u001B[39;49;00m\u001B[34m0\u001B[39;49;00m,\u001B[37m\u001B[39;49;00m\n",
      "\u001B[37m    \u001B[39;49;00m\u001B[94m\"deepspeed\"\u001B[39;49;00m:\u001B[37m \u001B[39;49;00m\u001B[34mnull\u001B[39;49;00m,\u001B[37m\u001B[39;49;00m\n",
      "\u001B[37m    \u001B[39;49;00m\u001B[94m\"label_smoothing_factor\"\u001B[39;49;00m:\u001B[37m \u001B[39;49;00m\u001B[34m0.0\u001B[39;49;00m,\u001B[37m\u001B[39;49;00m\n",
      "\u001B[37m    \u001B[39;49;00m\u001B[94m\"optim\"\u001B[39;49;00m:\u001B[37m \u001B[39;49;00m\u001B[33m\"adamw_torch\"\u001B[39;49;00m,\u001B[37m\u001B[39;49;00m\n",
      "\u001B[37m    \u001B[39;49;00m\u001B[94m\"adafactor\"\u001B[39;49;00m:\u001B[37m \u001B[39;49;00m\u001B[34mfalse\u001B[39;49;00m,\u001B[37m\u001B[39;49;00m\n",
      "\u001B[37m    \u001B[39;49;00m\u001B[94m\"group_by_length\"\u001B[39;49;00m:\u001B[37m \u001B[39;49;00m\u001B[34mfalse\u001B[39;49;00m,\u001B[37m\u001B[39;49;00m\n",
      "\u001B[37m    \u001B[39;49;00m\u001B[94m\"length_column_name\"\u001B[39;49;00m:\u001B[37m \u001B[39;49;00m\u001B[33m\"length\"\u001B[39;49;00m,\u001B[37m\u001B[39;49;00m\n",
      "\u001B[37m    \u001B[39;49;00m\u001B[94m\"report_to\"\u001B[39;49;00m:\u001B[37m \u001B[39;49;00m[],\u001B[37m\u001B[39;49;00m\n",
      "\u001B[37m    \u001B[39;49;00m\u001B[94m\"ddp_find_unused_parameters\"\u001B[39;49;00m:\u001B[37m \u001B[39;49;00m\u001B[34mnull\u001B[39;49;00m,\u001B[37m\u001B[39;49;00m\n",
      "\u001B[37m    \u001B[39;49;00m\u001B[94m\"ddp_bucket_cap_mb\"\u001B[39;49;00m:\u001B[37m \u001B[39;49;00m\u001B[34mnull\u001B[39;49;00m,\u001B[37m\u001B[39;49;00m\n",
      "\u001B[37m    \u001B[39;49;00m\u001B[94m\"dataloader_pin_memory\"\u001B[39;49;00m:\u001B[37m \u001B[39;49;00m\u001B[34mtrue\u001B[39;49;00m,\u001B[37m\u001B[39;49;00m\n",
      "\u001B[37m    \u001B[39;49;00m\u001B[94m\"skip_memory_metrics\"\u001B[39;49;00m:\u001B[37m \u001B[39;49;00m\u001B[34mtrue\u001B[39;49;00m,\u001B[37m\u001B[39;49;00m\n",
      "\u001B[37m    \u001B[39;49;00m\u001B[94m\"use_legacy_prediction_loop\"\u001B[39;49;00m:\u001B[37m \u001B[39;49;00m\u001B[34mfalse\u001B[39;49;00m,\u001B[37m\u001B[39;49;00m\n",
      "\u001B[37m    \u001B[39;49;00m\u001B[94m\"push_to_hub\"\u001B[39;49;00m:\u001B[37m \u001B[39;49;00m\u001B[34mfalse\u001B[39;49;00m,\u001B[37m\u001B[39;49;00m\n",
      "\u001B[37m    \u001B[39;49;00m\u001B[94m\"resume_from_checkpoint\"\u001B[39;49;00m:\u001B[37m \u001B[39;49;00m\u001B[34mnull\u001B[39;49;00m,\u001B[37m\u001B[39;49;00m\n",
      "\u001B[37m    \u001B[39;49;00m\u001B[94m\"hub_model_id\"\u001B[39;49;00m:\u001B[37m \u001B[39;49;00m\u001B[34mnull\u001B[39;49;00m,\u001B[37m\u001B[39;49;00m\n",
      "\u001B[37m    \u001B[39;49;00m\u001B[94m\"hub_strategy\"\u001B[39;49;00m:\u001B[37m \u001B[39;49;00m\u001B[33m\"every_save\"\u001B[39;49;00m,\u001B[37m\u001B[39;49;00m\n",
      "\u001B[37m    \u001B[39;49;00m\u001B[94m\"hub_token\"\u001B[39;49;00m:\u001B[37m \u001B[39;49;00m\u001B[33m\"<HUB_TOKEN>\"\u001B[39;49;00m,\u001B[37m\u001B[39;49;00m\n",
      "\u001B[37m    \u001B[39;49;00m\u001B[94m\"hub_private_repo\"\u001B[39;49;00m:\u001B[37m \u001B[39;49;00m\u001B[34mfalse\u001B[39;49;00m,\u001B[37m\u001B[39;49;00m\n",
      "\u001B[37m    \u001B[39;49;00m\u001B[94m\"gradient_checkpointing\"\u001B[39;49;00m:\u001B[37m \u001B[39;49;00m\u001B[34mfalse\u001B[39;49;00m,\u001B[37m\u001B[39;49;00m\n",
      "\u001B[37m    \u001B[39;49;00m\u001B[94m\"include_inputs_for_metrics\"\u001B[39;49;00m:\u001B[37m \u001B[39;49;00m\u001B[34mfalse\u001B[39;49;00m,\u001B[37m\u001B[39;49;00m\n",
      "\u001B[37m    \u001B[39;49;00m\u001B[94m\"fp16_backend\"\u001B[39;49;00m:\u001B[37m \u001B[39;49;00m\u001B[33m\"auto\"\u001B[39;49;00m,\u001B[37m\u001B[39;49;00m\n",
      "\u001B[37m    \u001B[39;49;00m\u001B[94m\"push_to_hub_model_id\"\u001B[39;49;00m:\u001B[37m \u001B[39;49;00m\u001B[34mnull\u001B[39;49;00m,\u001B[37m\u001B[39;49;00m\n",
      "\u001B[37m    \u001B[39;49;00m\u001B[94m\"push_to_hub_organization\"\u001B[39;49;00m:\u001B[37m \u001B[39;49;00m\u001B[34mnull\u001B[39;49;00m,\u001B[37m\u001B[39;49;00m\n",
      "\u001B[37m    \u001B[39;49;00m\u001B[94m\"push_to_hub_token\"\u001B[39;49;00m:\u001B[37m \u001B[39;49;00m\u001B[33m\"<PUSH_TO_HUB_TOKEN>\"\u001B[39;49;00m,\u001B[37m\u001B[39;49;00m\n",
      "\u001B[37m    \u001B[39;49;00m\u001B[94m\"_n_gpu\"\u001B[39;49;00m:\u001B[37m \u001B[39;49;00m\u001B[34m0\u001B[39;49;00m,\u001B[37m\u001B[39;49;00m\n",
      "\u001B[37m    \u001B[39;49;00m\u001B[94m\"mp_parameters\"\u001B[39;49;00m:\u001B[37m \u001B[39;49;00m\u001B[33m\"\"\u001B[39;49;00m,\u001B[37m\u001B[39;49;00m\n",
      "\u001B[37m    \u001B[39;49;00m\u001B[94m\"auto_find_batch_size\"\u001B[39;49;00m:\u001B[37m \u001B[39;49;00m\u001B[34mfalse\u001B[39;49;00m,\u001B[37m\u001B[39;49;00m\n",
      "\u001B[37m    \u001B[39;49;00m\u001B[94m\"full_determinism\"\u001B[39;49;00m:\u001B[37m \u001B[39;49;00m\u001B[34mfalse\u001B[39;49;00m\u001B[37m\u001B[39;49;00m\n",
      "}\u001B[37m\u001B[39;49;00m\n",
      " and my training args \u001B[35m{\u001B[39m\u001B[49m\u001B[0mlogging_strategy: \u001B[34mepoch\u001B[39m\u001B[49m\u001B[0m, tqdm: \u001B[34mFalse\u001B[39m\u001B[49m\u001B[0m, augment_key: \u001B[34mFalse\u001B[39m\u001B[49m\u001B[0m, save_epochs: \u001B[34m2\u001B[39m\u001B[49m\u001B[0m, steps_per_epoch: \u001B[34m4\u001B[39m\u001B[49m\u001B[0m, logging_steps: \u001B[34m4\u001B[39m\u001B[49m\u001B[0m\u001B[35m}\u001B[39m\u001B[49m\u001B[0m... \u001B[39m\u001B[49m\u001B[22m\u001B[23m\u001B[24m\u001B[25m\u001B[27m\u001B[28m\u001B[29m\n",
      "\u001B[38;2;0;186;142m2022-05-23 22:05:38\u001B[38;2;97;175;239m|\u001B[39m\u001B[49m\u001B[22m\u001B[23m\u001B[24m\u001B[25m\u001B[27m\u001B[28m\u001B[29m\u001B[38;2;198;120;221m[MyTransfoXLLMHeadModel Training]\u001B[38;2;97;175;239m::\u001B[38;2;198;120;221m_log\u001B[38;2;97;175;239m::\u001B[38;2;198;120;221mtrain_util_wrap.py\u001B[38;2;97;175;239m:\u001B[38;2;198;120;221m240\u001B[38;2;97;175;239m:\u001B[39m\u001B[49m\u001B[22m\u001B[23m\u001B[24m\u001B[25m\u001B[27m\u001B[28m\u001B[29mINFO\u001B[39m\u001B[49m\u001B[22m\u001B[23m\u001B[24m\u001B[25m\u001B[27m\u001B[28m\u001B[29m\u001B[38;2;97;175;239m: \u001B[39m\u001B[49m\u001B[22m\u001B[23m\u001B[24m\u001B[25m\u001B[27m\u001B[28m\u001B[29m\u001B[35m{\u001B[39m\u001B[49m\u001B[0mstep: \u001B[34m 4/64\u001B[39m\u001B[49m\u001B[0m, epoch: \u001B[34m 1.000/16\u001B[39m\u001B[49m\u001B[0m, train/learning_rate: \u001B[34m1.000e-03\u001B[39m\u001B[49m\u001B[0m, train/loss: \u001B[34m5.3094\u001B[39m\u001B[49m\u001B[0m, train/ntp_acc: \u001B[34m 0.59\u001B[39m\u001B[49m\u001B[0m, train/ikr: \u001B[34m87.67\u001B[39m\u001B[49m\u001B[0m\u001B[35m}\u001B[39m\u001B[49m\u001B[0m\u001B[39m\u001B[49m\u001B[22m\u001B[23m\u001B[24m\u001B[25m\u001B[27m\u001B[28m\u001B[29m\n",
      "\u001B[38;2;0;186;142m2022-05-23 22:05:38\u001B[38;2;97;175;239m|\u001B[39m\u001B[49m\u001B[22m\u001B[23m\u001B[24m\u001B[25m\u001B[27m\u001B[28m\u001B[29m\u001B[38;2;198;120;221m[MyTransfoXLLMHeadModel Training]\u001B[38;2;97;175;239m::\u001B[38;2;198;120;221m_log\u001B[38;2;97;175;239m::\u001B[38;2;198;120;221mtrain_util_wrap.py\u001B[38;2;97;175;239m:\u001B[38;2;198;120;221m240\u001B[38;2;97;175;239m:\u001B[39m\u001B[49m\u001B[22m\u001B[23m\u001B[24m\u001B[25m\u001B[27m\u001B[28m\u001B[29mINFO\u001B[39m\u001B[49m\u001B[22m\u001B[23m\u001B[24m\u001B[25m\u001B[27m\u001B[28m\u001B[29m\u001B[38;2;97;175;239m: \u001B[39m\u001B[49m\u001B[22m\u001B[23m\u001B[24m\u001B[25m\u001B[27m\u001B[28m\u001B[29m\u001B[35m{\u001B[39m\u001B[49m\u001B[0mstep: \u001B[34m 4/64\u001B[39m\u001B[49m\u001B[0m, epoch: \u001B[34m 1/16\u001B[39m\u001B[49m\u001B[0m, eval/loss: \u001B[34m5.0945\u001B[39m\u001B[49m\u001B[0m, eval/ntp_acc: \u001B[34m 9.65\u001B[39m\u001B[49m\u001B[0m, eval/ikr: \u001B[34m86.06\u001B[39m\u001B[49m\u001B[0m\u001B[35m}\u001B[39m\u001B[49m\u001B[0m\u001B[39m\u001B[49m\u001B[22m\u001B[23m\u001B[24m\u001B[25m\u001B[27m\u001B[28m\u001B[29m\n",
      "\u001B[38;2;0;186;142m2022-05-23 22:05:40\u001B[38;2;97;175;239m|\u001B[39m\u001B[49m\u001B[22m\u001B[23m\u001B[24m\u001B[25m\u001B[27m\u001B[28m\u001B[29m\u001B[38;2;198;120;221m[MyTransfoXLLMHeadModel Training]\u001B[38;2;97;175;239m::\u001B[38;2;198;120;221m_log\u001B[38;2;97;175;239m::\u001B[38;2;198;120;221mtrain_util_wrap.py\u001B[38;2;97;175;239m:\u001B[38;2;198;120;221m240\u001B[38;2;97;175;239m:\u001B[39m\u001B[49m\u001B[22m\u001B[23m\u001B[24m\u001B[25m\u001B[27m\u001B[28m\u001B[29mINFO\u001B[39m\u001B[49m\u001B[22m\u001B[23m\u001B[24m\u001B[25m\u001B[27m\u001B[28m\u001B[29m\u001B[38;2;97;175;239m: \u001B[39m\u001B[49m\u001B[22m\u001B[23m\u001B[24m\u001B[25m\u001B[27m\u001B[28m\u001B[29m\u001B[35m{\u001B[39m\u001B[49m\u001B[0mstep: \u001B[34m 8/64\u001B[39m\u001B[49m\u001B[0m, epoch: \u001B[34m 2.000/16\u001B[39m\u001B[49m\u001B[0m, train/learning_rate: \u001B[34m1.000e-03\u001B[39m\u001B[49m\u001B[0m, train/loss: \u001B[34m4.4034\u001B[39m\u001B[49m\u001B[0m, train/ntp_acc: \u001B[34m20.18\u001B[39m\u001B[49m\u001B[0m, train/ikr: \u001B[34m  0.00\u001B[39m\u001B[49m\u001B[0m\u001B[35m}\u001B[39m\u001B[49m\u001B[0m\u001B[39m\u001B[49m\u001B[22m\u001B[23m\u001B[24m\u001B[25m\u001B[27m\u001B[28m\u001B[29m\n",
      "\u001B[38;2;0;186;142m2022-05-23 22:05:41\u001B[38;2;97;175;239m|\u001B[39m\u001B[49m\u001B[22m\u001B[23m\u001B[24m\u001B[25m\u001B[27m\u001B[28m\u001B[29m\u001B[38;2;198;120;221m[MyTransfoXLLMHeadModel Training]\u001B[38;2;97;175;239m::\u001B[38;2;198;120;221m_log\u001B[38;2;97;175;239m::\u001B[38;2;198;120;221mtrain_util_wrap.py\u001B[38;2;97;175;239m:\u001B[38;2;198;120;221m240\u001B[38;2;97;175;239m:\u001B[39m\u001B[49m\u001B[22m\u001B[23m\u001B[24m\u001B[25m\u001B[27m\u001B[28m\u001B[29mINFO\u001B[39m\u001B[49m\u001B[22m\u001B[23m\u001B[24m\u001B[25m\u001B[27m\u001B[28m\u001B[29m\u001B[38;2;97;175;239m: \u001B[39m\u001B[49m\u001B[22m\u001B[23m\u001B[24m\u001B[25m\u001B[27m\u001B[28m\u001B[29m\u001B[35m{\u001B[39m\u001B[49m\u001B[0mstep: \u001B[34m 8/64\u001B[39m\u001B[49m\u001B[0m, epoch: \u001B[34m 2/16\u001B[39m\u001B[49m\u001B[0m, eval/loss: \u001B[34m4.4265\u001B[39m\u001B[49m\u001B[0m, eval/ntp_acc: \u001B[34m13.88\u001B[39m\u001B[49m\u001B[0m, eval/ikr: \u001B[34m  0.00\u001B[39m\u001B[49m\u001B[0m\u001B[35m}\u001B[39m\u001B[49m\u001B[0m\u001B[39m\u001B[49m\u001B[22m\u001B[23m\u001B[24m\u001B[25m\u001B[27m\u001B[28m\u001B[29m\n",
      "\u001B[38;2;0;186;142m2022-05-23 22:05:43\u001B[38;2;97;175;239m|\u001B[39m\u001B[49m\u001B[22m\u001B[23m\u001B[24m\u001B[25m\u001B[27m\u001B[28m\u001B[29m\u001B[38;2;198;120;221m[MyTransfoXLLMHeadModel Training]\u001B[38;2;97;175;239m::\u001B[38;2;198;120;221m_log\u001B[38;2;97;175;239m::\u001B[38;2;198;120;221mtrain_util_wrap.py\u001B[38;2;97;175;239m:\u001B[38;2;198;120;221m240\u001B[38;2;97;175;239m:\u001B[39m\u001B[49m\u001B[22m\u001B[23m\u001B[24m\u001B[25m\u001B[27m\u001B[28m\u001B[29mINFO\u001B[39m\u001B[49m\u001B[22m\u001B[23m\u001B[24m\u001B[25m\u001B[27m\u001B[28m\u001B[29m\u001B[38;2;97;175;239m: \u001B[39m\u001B[49m\u001B[22m\u001B[23m\u001B[24m\u001B[25m\u001B[27m\u001B[28m\u001B[29m\u001B[35m{\u001B[39m\u001B[49m\u001B[0mstep: \u001B[34m12/64\u001B[39m\u001B[49m\u001B[0m, epoch: \u001B[34m 3.000/16\u001B[39m\u001B[49m\u001B[0m, train/learning_rate: \u001B[34m1.000e-03\u001B[39m\u001B[49m\u001B[0m, train/loss: \u001B[34m3.9629\u001B[39m\u001B[49m\u001B[0m, train/ntp_acc: \u001B[34m17.81\u001B[39m\u001B[49m\u001B[0m, train/ikr: \u001B[34m  0.00\u001B[39m\u001B[49m\u001B[0m\u001B[35m}\u001B[39m\u001B[49m\u001B[0m\u001B[39m\u001B[49m\u001B[22m\u001B[23m\u001B[24m\u001B[25m\u001B[27m\u001B[28m\u001B[29m\n",
      "\u001B[38;2;0;186;142m2022-05-23 22:05:44\u001B[38;2;97;175;239m|\u001B[39m\u001B[49m\u001B[22m\u001B[23m\u001B[24m\u001B[25m\u001B[27m\u001B[28m\u001B[29m\u001B[38;2;198;120;221m[MyTransfoXLLMHeadModel Training]\u001B[38;2;97;175;239m::\u001B[38;2;198;120;221m_log\u001B[38;2;97;175;239m::\u001B[38;2;198;120;221mtrain_util_wrap.py\u001B[38;2;97;175;239m:\u001B[38;2;198;120;221m240\u001B[38;2;97;175;239m:\u001B[39m\u001B[49m\u001B[22m\u001B[23m\u001B[24m\u001B[25m\u001B[27m\u001B[28m\u001B[29mINFO\u001B[39m\u001B[49m\u001B[22m\u001B[23m\u001B[24m\u001B[25m\u001B[27m\u001B[28m\u001B[29m\u001B[38;2;97;175;239m: \u001B[39m\u001B[49m\u001B[22m\u001B[23m\u001B[24m\u001B[25m\u001B[27m\u001B[28m\u001B[29m\u001B[35m{\u001B[39m\u001B[49m\u001B[0mstep: \u001B[34m12/64\u001B[39m\u001B[49m\u001B[0m, epoch: \u001B[34m 3/16\u001B[39m\u001B[49m\u001B[0m, eval/loss: \u001B[34m3.9813\u001B[39m\u001B[49m\u001B[0m, eval/ntp_acc: \u001B[34m13.83\u001B[39m\u001B[49m\u001B[0m, eval/ikr: \u001B[34m  0.00\u001B[39m\u001B[49m\u001B[0m\u001B[35m}\u001B[39m\u001B[49m\u001B[0m\u001B[39m\u001B[49m\u001B[22m\u001B[23m\u001B[24m\u001B[25m\u001B[27m\u001B[28m\u001B[29m\n",
      "\u001B[38;2;0;186;142m2022-05-23 22:05:46\u001B[38;2;97;175;239m|\u001B[39m\u001B[49m\u001B[22m\u001B[23m\u001B[24m\u001B[25m\u001B[27m\u001B[28m\u001B[29m\u001B[38;2;198;120;221m[MyTransfoXLLMHeadModel Training]\u001B[38;2;97;175;239m::\u001B[38;2;198;120;221m_log\u001B[38;2;97;175;239m::\u001B[38;2;198;120;221mtrain_util_wrap.py\u001B[38;2;97;175;239m:\u001B[38;2;198;120;221m240\u001B[38;2;97;175;239m:\u001B[39m\u001B[49m\u001B[22m\u001B[23m\u001B[24m\u001B[25m\u001B[27m\u001B[28m\u001B[29mINFO\u001B[39m\u001B[49m\u001B[22m\u001B[23m\u001B[24m\u001B[25m\u001B[27m\u001B[28m\u001B[29m\u001B[38;2;97;175;239m: \u001B[39m\u001B[49m\u001B[22m\u001B[23m\u001B[24m\u001B[25m\u001B[27m\u001B[28m\u001B[29m\u001B[35m{\u001B[39m\u001B[49m\u001B[0mstep: \u001B[34m16/64\u001B[39m\u001B[49m\u001B[0m, epoch: \u001B[34m 4.000/16\u001B[39m\u001B[49m\u001B[0m, train/learning_rate: \u001B[34m1.000e-03\u001B[39m\u001B[49m\u001B[0m, train/loss: \u001B[34m3.5027\u001B[39m\u001B[49m\u001B[0m, train/ntp_acc: \u001B[34m19.98\u001B[39m\u001B[49m\u001B[0m, train/ikr: \u001B[34m  0.00\u001B[39m\u001B[49m\u001B[0m\u001B[35m}\u001B[39m\u001B[49m\u001B[0m\u001B[39m\u001B[49m\u001B[22m\u001B[23m\u001B[24m\u001B[25m\u001B[27m\u001B[28m\u001B[29m\n",
      "\u001B[38;2;0;186;142m2022-05-23 22:05:47\u001B[38;2;97;175;239m|\u001B[39m\u001B[49m\u001B[22m\u001B[23m\u001B[24m\u001B[25m\u001B[27m\u001B[28m\u001B[29m\u001B[38;2;198;120;221m[MyTransfoXLLMHeadModel Training]\u001B[38;2;97;175;239m::\u001B[38;2;198;120;221m_log\u001B[38;2;97;175;239m::\u001B[38;2;198;120;221mtrain_util_wrap.py\u001B[38;2;97;175;239m:\u001B[38;2;198;120;221m240\u001B[38;2;97;175;239m:\u001B[39m\u001B[49m\u001B[22m\u001B[23m\u001B[24m\u001B[25m\u001B[27m\u001B[28m\u001B[29mINFO\u001B[39m\u001B[49m\u001B[22m\u001B[23m\u001B[24m\u001B[25m\u001B[27m\u001B[28m\u001B[29m\u001B[38;2;97;175;239m: \u001B[39m\u001B[49m\u001B[22m\u001B[23m\u001B[24m\u001B[25m\u001B[27m\u001B[28m\u001B[29m\u001B[35m{\u001B[39m\u001B[49m\u001B[0mstep: \u001B[34m16/64\u001B[39m\u001B[49m\u001B[0m, epoch: \u001B[34m 4/16\u001B[39m\u001B[49m\u001B[0m, eval/loss: \u001B[34m3.6817\u001B[39m\u001B[49m\u001B[0m, eval/ntp_acc: \u001B[34m 14.1\u001B[39m\u001B[49m\u001B[0m, eval/ikr: \u001B[34m  0.00\u001B[39m\u001B[49m\u001B[0m\u001B[35m}\u001B[39m\u001B[49m\u001B[0m\u001B[39m\u001B[49m\u001B[22m\u001B[23m\u001B[24m\u001B[25m\u001B[27m\u001B[28m\u001B[29m\n",
      "\u001B[38;2;0;186;142m2022-05-23 22:05:49\u001B[38;2;97;175;239m|\u001B[39m\u001B[49m\u001B[22m\u001B[23m\u001B[24m\u001B[25m\u001B[27m\u001B[28m\u001B[29m\u001B[38;2;198;120;221m[MyTransfoXLLMHeadModel Training]\u001B[38;2;97;175;239m::\u001B[38;2;198;120;221m_log\u001B[38;2;97;175;239m::\u001B[38;2;198;120;221mtrain_util_wrap.py\u001B[38;2;97;175;239m:\u001B[38;2;198;120;221m240\u001B[38;2;97;175;239m:\u001B[39m\u001B[49m\u001B[22m\u001B[23m\u001B[24m\u001B[25m\u001B[27m\u001B[28m\u001B[29mINFO\u001B[39m\u001B[49m\u001B[22m\u001B[23m\u001B[24m\u001B[25m\u001B[27m\u001B[28m\u001B[29m\u001B[38;2;97;175;239m: \u001B[39m\u001B[49m\u001B[22m\u001B[23m\u001B[24m\u001B[25m\u001B[27m\u001B[28m\u001B[29m\u001B[35m{\u001B[39m\u001B[49m\u001B[0mstep: \u001B[34m20/64\u001B[39m\u001B[49m\u001B[0m, epoch: \u001B[34m 5.000/16\u001B[39m\u001B[49m\u001B[0m, train/learning_rate: \u001B[34m1.000e-03\u001B[39m\u001B[49m\u001B[0m, train/loss: \u001B[34m3.4272\u001B[39m\u001B[49m\u001B[0m, train/ntp_acc: \u001B[34m18.01\u001B[39m\u001B[49m\u001B[0m, train/ikr: \u001B[34m  0.00\u001B[39m\u001B[49m\u001B[0m\u001B[35m}\u001B[39m\u001B[49m\u001B[0m\u001B[39m\u001B[49m\u001B[22m\u001B[23m\u001B[24m\u001B[25m\u001B[27m\u001B[28m\u001B[29m\n",
      "\u001B[38;2;0;186;142m2022-05-23 22:05:50\u001B[38;2;97;175;239m|\u001B[39m\u001B[49m\u001B[22m\u001B[23m\u001B[24m\u001B[25m\u001B[27m\u001B[28m\u001B[29m\u001B[38;2;198;120;221m[MyTransfoXLLMHeadModel Training]\u001B[38;2;97;175;239m::\u001B[38;2;198;120;221m_log\u001B[38;2;97;175;239m::\u001B[38;2;198;120;221mtrain_util_wrap.py\u001B[38;2;97;175;239m:\u001B[38;2;198;120;221m240\u001B[38;2;97;175;239m:\u001B[39m\u001B[49m\u001B[22m\u001B[23m\u001B[24m\u001B[25m\u001B[27m\u001B[28m\u001B[29mINFO\u001B[39m\u001B[49m\u001B[22m\u001B[23m\u001B[24m\u001B[25m\u001B[27m\u001B[28m\u001B[29m\u001B[38;2;97;175;239m: \u001B[39m\u001B[49m\u001B[22m\u001B[23m\u001B[24m\u001B[25m\u001B[27m\u001B[28m\u001B[29m\u001B[35m{\u001B[39m\u001B[49m\u001B[0mstep: \u001B[34m20/64\u001B[39m\u001B[49m\u001B[0m, epoch: \u001B[34m 5/16\u001B[39m\u001B[49m\u001B[0m, eval/loss: \u001B[34m3.5305\u001B[39m\u001B[49m\u001B[0m, eval/ntp_acc: \u001B[34m14.12\u001B[39m\u001B[49m\u001B[0m, eval/ikr: \u001B[34m  0.00\u001B[39m\u001B[49m\u001B[0m\u001B[35m}\u001B[39m\u001B[49m\u001B[0m\u001B[39m\u001B[49m\u001B[22m\u001B[23m\u001B[24m\u001B[25m\u001B[27m\u001B[28m\u001B[29m\n",
      "\u001B[38;2;0;186;142m2022-05-23 22:05:52\u001B[38;2;97;175;239m|\u001B[39m\u001B[49m\u001B[22m\u001B[23m\u001B[24m\u001B[25m\u001B[27m\u001B[28m\u001B[29m\u001B[38;2;198;120;221m[MyTransfoXLLMHeadModel Training]\u001B[38;2;97;175;239m::\u001B[38;2;198;120;221m_log\u001B[38;2;97;175;239m::\u001B[38;2;198;120;221mtrain_util_wrap.py\u001B[38;2;97;175;239m:\u001B[38;2;198;120;221m240\u001B[38;2;97;175;239m:\u001B[39m\u001B[49m\u001B[22m\u001B[23m\u001B[24m\u001B[25m\u001B[27m\u001B[28m\u001B[29mINFO\u001B[39m\u001B[49m\u001B[22m\u001B[23m\u001B[24m\u001B[25m\u001B[27m\u001B[28m\u001B[29m\u001B[38;2;97;175;239m: \u001B[39m\u001B[49m\u001B[22m\u001B[23m\u001B[24m\u001B[25m\u001B[27m\u001B[28m\u001B[29m\u001B[35m{\u001B[39m\u001B[49m\u001B[0mstep: \u001B[34m24/64\u001B[39m\u001B[49m\u001B[0m, epoch: \u001B[34m 6.000/16\u001B[39m\u001B[49m\u001B[0m, train/learning_rate: \u001B[34m1.000e-03\u001B[39m\u001B[49m\u001B[0m, train/loss: \u001B[34m3.1749\u001B[39m\u001B[49m\u001B[0m, train/ntp_acc: \u001B[34m19.98\u001B[39m\u001B[49m\u001B[0m, train/ikr: \u001B[34m  0.00\u001B[39m\u001B[49m\u001B[0m\u001B[35m}\u001B[39m\u001B[49m\u001B[0m\u001B[39m\u001B[49m\u001B[22m\u001B[23m\u001B[24m\u001B[25m\u001B[27m\u001B[28m\u001B[29m\n",
      "\u001B[38;2;0;186;142m2022-05-23 22:05:53\u001B[38;2;97;175;239m|\u001B[39m\u001B[49m\u001B[22m\u001B[23m\u001B[24m\u001B[25m\u001B[27m\u001B[28m\u001B[29m\u001B[38;2;198;120;221m[MyTransfoXLLMHeadModel Training]\u001B[38;2;97;175;239m::\u001B[38;2;198;120;221m_log\u001B[38;2;97;175;239m::\u001B[38;2;198;120;221mtrain_util_wrap.py\u001B[38;2;97;175;239m:\u001B[38;2;198;120;221m240\u001B[38;2;97;175;239m:\u001B[39m\u001B[49m\u001B[22m\u001B[23m\u001B[24m\u001B[25m\u001B[27m\u001B[28m\u001B[29mINFO\u001B[39m\u001B[49m\u001B[22m\u001B[23m\u001B[24m\u001B[25m\u001B[27m\u001B[28m\u001B[29m\u001B[38;2;97;175;239m: \u001B[39m\u001B[49m\u001B[22m\u001B[23m\u001B[24m\u001B[25m\u001B[27m\u001B[28m\u001B[29m\u001B[35m{\u001B[39m\u001B[49m\u001B[0mstep: \u001B[34m24/64\u001B[39m\u001B[49m\u001B[0m, epoch: \u001B[34m 6/16\u001B[39m\u001B[49m\u001B[0m, eval/loss: \u001B[34m3.4909\u001B[39m\u001B[49m\u001B[0m, eval/ntp_acc: \u001B[34m14.32\u001B[39m\u001B[49m\u001B[0m, eval/ikr: \u001B[34m  0.00\u001B[39m\u001B[49m\u001B[0m\u001B[35m}\u001B[39m\u001B[49m\u001B[0m\u001B[39m\u001B[49m\u001B[22m\u001B[23m\u001B[24m\u001B[25m\u001B[27m\u001B[28m\u001B[29m\n",
      "\u001B[38;2;0;186;142m2022-05-23 22:05:55\u001B[38;2;97;175;239m|\u001B[39m\u001B[49m\u001B[22m\u001B[23m\u001B[24m\u001B[25m\u001B[27m\u001B[28m\u001B[29m\u001B[38;2;198;120;221m[MyTransfoXLLMHeadModel Training]\u001B[38;2;97;175;239m::\u001B[38;2;198;120;221m_log\u001B[38;2;97;175;239m::\u001B[38;2;198;120;221mtrain_util_wrap.py\u001B[38;2;97;175;239m:\u001B[38;2;198;120;221m240\u001B[38;2;97;175;239m:\u001B[39m\u001B[49m\u001B[22m\u001B[23m\u001B[24m\u001B[25m\u001B[27m\u001B[28m\u001B[29mINFO\u001B[39m\u001B[49m\u001B[22m\u001B[23m\u001B[24m\u001B[25m\u001B[27m\u001B[28m\u001B[29m\u001B[38;2;97;175;239m: \u001B[39m\u001B[49m\u001B[22m\u001B[23m\u001B[24m\u001B[25m\u001B[27m\u001B[28m\u001B[29m\u001B[35m{\u001B[39m\u001B[49m\u001B[0mstep: \u001B[34m28/64\u001B[39m\u001B[49m\u001B[0m, epoch: \u001B[34m 7.000/16\u001B[39m\u001B[49m\u001B[0m, train/learning_rate: \u001B[34m1.000e-03\u001B[39m\u001B[49m\u001B[0m, train/loss: \u001B[34m3.2067\u001B[39m\u001B[49m\u001B[0m, train/ntp_acc: \u001B[34m19.59\u001B[39m\u001B[49m\u001B[0m, train/ikr: \u001B[34m  0.00\u001B[39m\u001B[49m\u001B[0m\u001B[35m}\u001B[39m\u001B[49m\u001B[0m\u001B[39m\u001B[49m\u001B[22m\u001B[23m\u001B[24m\u001B[25m\u001B[27m\u001B[28m\u001B[29m\n",
      "\u001B[38;2;0;186;142m2022-05-23 22:05:56\u001B[38;2;97;175;239m|\u001B[39m\u001B[49m\u001B[22m\u001B[23m\u001B[24m\u001B[25m\u001B[27m\u001B[28m\u001B[29m\u001B[38;2;198;120;221m[MyTransfoXLLMHeadModel Training]\u001B[38;2;97;175;239m::\u001B[38;2;198;120;221m_log\u001B[38;2;97;175;239m::\u001B[38;2;198;120;221mtrain_util_wrap.py\u001B[38;2;97;175;239m:\u001B[38;2;198;120;221m240\u001B[38;2;97;175;239m:\u001B[39m\u001B[49m\u001B[22m\u001B[23m\u001B[24m\u001B[25m\u001B[27m\u001B[28m\u001B[29mINFO\u001B[39m\u001B[49m\u001B[22m\u001B[23m\u001B[24m\u001B[25m\u001B[27m\u001B[28m\u001B[29m\u001B[38;2;97;175;239m: \u001B[39m\u001B[49m\u001B[22m\u001B[23m\u001B[24m\u001B[25m\u001B[27m\u001B[28m\u001B[29m\u001B[35m{\u001B[39m\u001B[49m\u001B[0mstep: \u001B[34m28/64\u001B[39m\u001B[49m\u001B[0m, epoch: \u001B[34m 7/16\u001B[39m\u001B[49m\u001B[0m, eval/loss: \u001B[34m3.4969\u001B[39m\u001B[49m\u001B[0m, eval/ntp_acc: \u001B[34m14.37\u001B[39m\u001B[49m\u001B[0m, eval/ikr: \u001B[34m  0.00\u001B[39m\u001B[49m\u001B[0m\u001B[35m}\u001B[39m\u001B[49m\u001B[0m\u001B[39m\u001B[49m\u001B[22m\u001B[23m\u001B[24m\u001B[25m\u001B[27m\u001B[28m\u001B[29m\n",
      "\u001B[38;2;0;186;142m2022-05-23 22:05:58\u001B[38;2;97;175;239m|\u001B[39m\u001B[49m\u001B[22m\u001B[23m\u001B[24m\u001B[25m\u001B[27m\u001B[28m\u001B[29m\u001B[38;2;198;120;221m[MyTransfoXLLMHeadModel Training]\u001B[38;2;97;175;239m::\u001B[38;2;198;120;221m_log\u001B[38;2;97;175;239m::\u001B[38;2;198;120;221mtrain_util_wrap.py\u001B[38;2;97;175;239m:\u001B[38;2;198;120;221m240\u001B[38;2;97;175;239m:\u001B[39m\u001B[49m\u001B[22m\u001B[23m\u001B[24m\u001B[25m\u001B[27m\u001B[28m\u001B[29mINFO\u001B[39m\u001B[49m\u001B[22m\u001B[23m\u001B[24m\u001B[25m\u001B[27m\u001B[28m\u001B[29m\u001B[38;2;97;175;239m: \u001B[39m\u001B[49m\u001B[22m\u001B[23m\u001B[24m\u001B[25m\u001B[27m\u001B[28m\u001B[29m\u001B[35m{\u001B[39m\u001B[49m\u001B[0mstep: \u001B[34m32/64\u001B[39m\u001B[49m\u001B[0m, epoch: \u001B[34m 8.000/16\u001B[39m\u001B[49m\u001B[0m, train/learning_rate: \u001B[34m1.000e-03\u001B[39m\u001B[49m\u001B[0m, train/loss: \u001B[34m3.1975\u001B[39m\u001B[49m\u001B[0m, train/ntp_acc: \u001B[34m 18.7\u001B[39m\u001B[49m\u001B[0m, train/ikr: \u001B[34m  0.00\u001B[39m\u001B[49m\u001B[0m\u001B[35m}\u001B[39m\u001B[49m\u001B[0m\u001B[39m\u001B[49m\u001B[22m\u001B[23m\u001B[24m\u001B[25m\u001B[27m\u001B[28m\u001B[29m\n",
      "\u001B[38;2;0;186;142m2022-05-23 22:05:59\u001B[38;2;97;175;239m|\u001B[39m\u001B[49m\u001B[22m\u001B[23m\u001B[24m\u001B[25m\u001B[27m\u001B[28m\u001B[29m\u001B[38;2;198;120;221m[MyTransfoXLLMHeadModel Training]\u001B[38;2;97;175;239m::\u001B[38;2;198;120;221m_log\u001B[38;2;97;175;239m::\u001B[38;2;198;120;221mtrain_util_wrap.py\u001B[38;2;97;175;239m:\u001B[38;2;198;120;221m240\u001B[38;2;97;175;239m:\u001B[39m\u001B[49m\u001B[22m\u001B[23m\u001B[24m\u001B[25m\u001B[27m\u001B[28m\u001B[29mINFO\u001B[39m\u001B[49m\u001B[22m\u001B[23m\u001B[24m\u001B[25m\u001B[27m\u001B[28m\u001B[29m\u001B[38;2;97;175;239m: \u001B[39m\u001B[49m\u001B[22m\u001B[23m\u001B[24m\u001B[25m\u001B[27m\u001B[28m\u001B[29m\u001B[35m{\u001B[39m\u001B[49m\u001B[0mstep: \u001B[34m32/64\u001B[39m\u001B[49m\u001B[0m, epoch: \u001B[34m 8/16\u001B[39m\u001B[49m\u001B[0m, eval/loss: \u001B[34m3.472\u001B[39m\u001B[49m\u001B[0m, eval/ntp_acc: \u001B[34m14.49\u001B[39m\u001B[49m\u001B[0m, eval/ikr: \u001B[34m  0.00\u001B[39m\u001B[49m\u001B[0m\u001B[35m}\u001B[39m\u001B[49m\u001B[0m\u001B[39m\u001B[49m\u001B[22m\u001B[23m\u001B[24m\u001B[25m\u001B[27m\u001B[28m\u001B[29m\n",
      "\u001B[38;2;0;186;142m2022-05-23 22:06:01\u001B[38;2;97;175;239m|\u001B[39m\u001B[49m\u001B[22m\u001B[23m\u001B[24m\u001B[25m\u001B[27m\u001B[28m\u001B[29m\u001B[38;2;198;120;221m[MyTransfoXLLMHeadModel Training]\u001B[38;2;97;175;239m::\u001B[38;2;198;120;221m_log\u001B[38;2;97;175;239m::\u001B[38;2;198;120;221mtrain_util_wrap.py\u001B[38;2;97;175;239m:\u001B[38;2;198;120;221m240\u001B[38;2;97;175;239m:\u001B[39m\u001B[49m\u001B[22m\u001B[23m\u001B[24m\u001B[25m\u001B[27m\u001B[28m\u001B[29mINFO\u001B[39m\u001B[49m\u001B[22m\u001B[23m\u001B[24m\u001B[25m\u001B[27m\u001B[28m\u001B[29m\u001B[38;2;97;175;239m: \u001B[39m\u001B[49m\u001B[22m\u001B[23m\u001B[24m\u001B[25m\u001B[27m\u001B[28m\u001B[29m\u001B[35m{\u001B[39m\u001B[49m\u001B[0mstep: \u001B[34m36/64\u001B[39m\u001B[49m\u001B[0m, epoch: \u001B[34m 9.000/16\u001B[39m\u001B[49m\u001B[0m, train/learning_rate: \u001B[34m1.000e-03\u001B[39m\u001B[49m\u001B[0m, train/loss: \u001B[34m3.3207\u001B[39m\u001B[49m\u001B[0m, train/ntp_acc: \u001B[34m17.03\u001B[39m\u001B[49m\u001B[0m, train/ikr: \u001B[34m  0.00\u001B[39m\u001B[49m\u001B[0m\u001B[35m}\u001B[39m\u001B[49m\u001B[0m\u001B[39m\u001B[49m\u001B[22m\u001B[23m\u001B[24m\u001B[25m\u001B[27m\u001B[28m\u001B[29m\n",
      "\u001B[38;2;0;186;142m2022-05-23 22:06:01\u001B[38;2;97;175;239m|\u001B[39m\u001B[49m\u001B[22m\u001B[23m\u001B[24m\u001B[25m\u001B[27m\u001B[28m\u001B[29m\u001B[38;2;198;120;221m[MyTransfoXLLMHeadModel Training]\u001B[38;2;97;175;239m::\u001B[38;2;198;120;221m_log\u001B[38;2;97;175;239m::\u001B[38;2;198;120;221mtrain_util_wrap.py\u001B[38;2;97;175;239m:\u001B[38;2;198;120;221m240\u001B[38;2;97;175;239m:\u001B[39m\u001B[49m\u001B[22m\u001B[23m\u001B[24m\u001B[25m\u001B[27m\u001B[28m\u001B[29mINFO\u001B[39m\u001B[49m\u001B[22m\u001B[23m\u001B[24m\u001B[25m\u001B[27m\u001B[28m\u001B[29m\u001B[38;2;97;175;239m: \u001B[39m\u001B[49m\u001B[22m\u001B[23m\u001B[24m\u001B[25m\u001B[27m\u001B[28m\u001B[29m\u001B[35m{\u001B[39m\u001B[49m\u001B[0mstep: \u001B[34m36/64\u001B[39m\u001B[49m\u001B[0m, epoch: \u001B[34m 9/16\u001B[39m\u001B[49m\u001B[0m, eval/loss: \u001B[34m3.4441\u001B[39m\u001B[49m\u001B[0m, eval/ntp_acc: \u001B[34m14.49\u001B[39m\u001B[49m\u001B[0m, eval/ikr: \u001B[34m  0.00\u001B[39m\u001B[49m\u001B[0m\u001B[35m}\u001B[39m\u001B[49m\u001B[0m\u001B[39m\u001B[49m\u001B[22m\u001B[23m\u001B[24m\u001B[25m\u001B[27m\u001B[28m\u001B[29m\n",
      "\u001B[38;2;0;186;142m2022-05-23 22:06:04\u001B[38;2;97;175;239m|\u001B[39m\u001B[49m\u001B[22m\u001B[23m\u001B[24m\u001B[25m\u001B[27m\u001B[28m\u001B[29m\u001B[38;2;198;120;221m[MyTransfoXLLMHeadModel Training]\u001B[38;2;97;175;239m::\u001B[38;2;198;120;221m_log\u001B[38;2;97;175;239m::\u001B[38;2;198;120;221mtrain_util_wrap.py\u001B[38;2;97;175;239m:\u001B[38;2;198;120;221m240\u001B[38;2;97;175;239m:\u001B[39m\u001B[49m\u001B[22m\u001B[23m\u001B[24m\u001B[25m\u001B[27m\u001B[28m\u001B[29mINFO\u001B[39m\u001B[49m\u001B[22m\u001B[23m\u001B[24m\u001B[25m\u001B[27m\u001B[28m\u001B[29m\u001B[38;2;97;175;239m: \u001B[39m\u001B[49m\u001B[22m\u001B[23m\u001B[24m\u001B[25m\u001B[27m\u001B[28m\u001B[29m\u001B[35m{\u001B[39m\u001B[49m\u001B[0mstep: \u001B[34m40/64\u001B[39m\u001B[49m\u001B[0m, epoch: \u001B[34m10.000/16\u001B[39m\u001B[49m\u001B[0m, train/learning_rate: \u001B[34m1.000e-03\u001B[39m\u001B[49m\u001B[0m, train/loss: \u001B[34m3.0375\u001B[39m\u001B[49m\u001B[0m, train/ntp_acc: \u001B[34m20.47\u001B[39m\u001B[49m\u001B[0m, train/ikr: \u001B[34m  0.00\u001B[39m\u001B[49m\u001B[0m\u001B[35m}\u001B[39m\u001B[49m\u001B[0m\u001B[39m\u001B[49m\u001B[22m\u001B[23m\u001B[24m\u001B[25m\u001B[27m\u001B[28m\u001B[29m\n",
      "\u001B[38;2;0;186;142m2022-05-23 22:06:04\u001B[38;2;97;175;239m|\u001B[39m\u001B[49m\u001B[22m\u001B[23m\u001B[24m\u001B[25m\u001B[27m\u001B[28m\u001B[29m\u001B[38;2;198;120;221m[MyTransfoXLLMHeadModel Training]\u001B[38;2;97;175;239m::\u001B[38;2;198;120;221m_log\u001B[38;2;97;175;239m::\u001B[38;2;198;120;221mtrain_util_wrap.py\u001B[38;2;97;175;239m:\u001B[38;2;198;120;221m240\u001B[38;2;97;175;239m:\u001B[39m\u001B[49m\u001B[22m\u001B[23m\u001B[24m\u001B[25m\u001B[27m\u001B[28m\u001B[29mINFO\u001B[39m\u001B[49m\u001B[22m\u001B[23m\u001B[24m\u001B[25m\u001B[27m\u001B[28m\u001B[29m\u001B[38;2;97;175;239m: \u001B[39m\u001B[49m\u001B[22m\u001B[23m\u001B[24m\u001B[25m\u001B[27m\u001B[28m\u001B[29m\u001B[35m{\u001B[39m\u001B[49m\u001B[0mstep: \u001B[34m40/64\u001B[39m\u001B[49m\u001B[0m, epoch: \u001B[34m10/16\u001B[39m\u001B[49m\u001B[0m, eval/loss: \u001B[34m3.4306\u001B[39m\u001B[49m\u001B[0m, eval/ntp_acc: \u001B[34m14.49\u001B[39m\u001B[49m\u001B[0m, eval/ikr: \u001B[34m  0.00\u001B[39m\u001B[49m\u001B[0m\u001B[35m}\u001B[39m\u001B[49m\u001B[0m\u001B[39m\u001B[49m\u001B[22m\u001B[23m\u001B[24m\u001B[25m\u001B[27m\u001B[28m\u001B[29m\n",
      "\u001B[38;2;0;186;142m2022-05-23 22:06:07\u001B[38;2;97;175;239m|\u001B[39m\u001B[49m\u001B[22m\u001B[23m\u001B[24m\u001B[25m\u001B[27m\u001B[28m\u001B[29m\u001B[38;2;198;120;221m[MyTransfoXLLMHeadModel Training]\u001B[38;2;97;175;239m::\u001B[38;2;198;120;221m_log\u001B[38;2;97;175;239m::\u001B[38;2;198;120;221mtrain_util_wrap.py\u001B[38;2;97;175;239m:\u001B[38;2;198;120;221m240\u001B[38;2;97;175;239m:\u001B[39m\u001B[49m\u001B[22m\u001B[23m\u001B[24m\u001B[25m\u001B[27m\u001B[28m\u001B[29mINFO\u001B[39m\u001B[49m\u001B[22m\u001B[23m\u001B[24m\u001B[25m\u001B[27m\u001B[28m\u001B[29m\u001B[38;2;97;175;239m: \u001B[39m\u001B[49m\u001B[22m\u001B[23m\u001B[24m\u001B[25m\u001B[27m\u001B[28m\u001B[29m\u001B[35m{\u001B[39m\u001B[49m\u001B[0mstep: \u001B[34m44/64\u001B[39m\u001B[49m\u001B[0m, epoch: \u001B[34m11.000/16\u001B[39m\u001B[49m\u001B[0m, train/learning_rate: \u001B[34m1.000e-03\u001B[39m\u001B[49m\u001B[0m, train/loss: \u001B[34m3.0653\u001B[39m\u001B[49m\u001B[0m, train/ntp_acc: \u001B[34m20.18\u001B[39m\u001B[49m\u001B[0m, train/ikr: \u001B[34m  0.00\u001B[39m\u001B[49m\u001B[0m\u001B[35m}\u001B[39m\u001B[49m\u001B[0m\u001B[39m\u001B[49m\u001B[22m\u001B[23m\u001B[24m\u001B[25m\u001B[27m\u001B[28m\u001B[29m\n",
      "\u001B[38;2;0;186;142m2022-05-23 22:06:07\u001B[38;2;97;175;239m|\u001B[39m\u001B[49m\u001B[22m\u001B[23m\u001B[24m\u001B[25m\u001B[27m\u001B[28m\u001B[29m\u001B[38;2;198;120;221m[MyTransfoXLLMHeadModel Training]\u001B[38;2;97;175;239m::\u001B[38;2;198;120;221m_log\u001B[38;2;97;175;239m::\u001B[38;2;198;120;221mtrain_util_wrap.py\u001B[38;2;97;175;239m:\u001B[38;2;198;120;221m240\u001B[38;2;97;175;239m:\u001B[39m\u001B[49m\u001B[22m\u001B[23m\u001B[24m\u001B[25m\u001B[27m\u001B[28m\u001B[29mINFO\u001B[39m\u001B[49m\u001B[22m\u001B[23m\u001B[24m\u001B[25m\u001B[27m\u001B[28m\u001B[29m\u001B[38;2;97;175;239m: \u001B[39m\u001B[49m\u001B[22m\u001B[23m\u001B[24m\u001B[25m\u001B[27m\u001B[28m\u001B[29m\u001B[35m{\u001B[39m\u001B[49m\u001B[0mstep: \u001B[34m44/64\u001B[39m\u001B[49m\u001B[0m, epoch: \u001B[34m11/16\u001B[39m\u001B[49m\u001B[0m, eval/loss: \u001B[34m3.431\u001B[39m\u001B[49m\u001B[0m, eval/ntp_acc: \u001B[34m14.49\u001B[39m\u001B[49m\u001B[0m, eval/ikr: \u001B[34m  0.00\u001B[39m\u001B[49m\u001B[0m\u001B[35m}\u001B[39m\u001B[49m\u001B[0m\u001B[39m\u001B[49m\u001B[22m\u001B[23m\u001B[24m\u001B[25m\u001B[27m\u001B[28m\u001B[29m\n",
      "\u001B[38;2;0;186;142m2022-05-23 22:06:09\u001B[38;2;97;175;239m|\u001B[39m\u001B[49m\u001B[22m\u001B[23m\u001B[24m\u001B[25m\u001B[27m\u001B[28m\u001B[29m\u001B[38;2;198;120;221m[MyTransfoXLLMHeadModel Training]\u001B[38;2;97;175;239m::\u001B[38;2;198;120;221m_log\u001B[38;2;97;175;239m::\u001B[38;2;198;120;221mtrain_util_wrap.py\u001B[38;2;97;175;239m:\u001B[38;2;198;120;221m240\u001B[38;2;97;175;239m:\u001B[39m\u001B[49m\u001B[22m\u001B[23m\u001B[24m\u001B[25m\u001B[27m\u001B[28m\u001B[29mINFO\u001B[39m\u001B[49m\u001B[22m\u001B[23m\u001B[24m\u001B[25m\u001B[27m\u001B[28m\u001B[29m\u001B[38;2;97;175;239m: \u001B[39m\u001B[49m\u001B[22m\u001B[23m\u001B[24m\u001B[25m\u001B[27m\u001B[28m\u001B[29m\u001B[35m{\u001B[39m\u001B[49m\u001B[0mstep: \u001B[34m48/64\u001B[39m\u001B[49m\u001B[0m, epoch: \u001B[34m12.000/16\u001B[39m\u001B[49m\u001B[0m, train/learning_rate: \u001B[34m1.000e-03\u001B[39m\u001B[49m\u001B[0m, train/loss: \u001B[34m3.2144\u001B[39m\u001B[49m\u001B[0m, train/ntp_acc: \u001B[34m20.28\u001B[39m\u001B[49m\u001B[0m, train/ikr: \u001B[34m 9.66\u001B[39m\u001B[49m\u001B[0m\u001B[35m}\u001B[39m\u001B[49m\u001B[0m\u001B[39m\u001B[49m\u001B[22m\u001B[23m\u001B[24m\u001B[25m\u001B[27m\u001B[28m\u001B[29m\n",
      "\u001B[38;2;0;186;142m2022-05-23 22:06:10\u001B[38;2;97;175;239m|\u001B[39m\u001B[49m\u001B[22m\u001B[23m\u001B[24m\u001B[25m\u001B[27m\u001B[28m\u001B[29m\u001B[38;2;198;120;221m[MyTransfoXLLMHeadModel Training]\u001B[38;2;97;175;239m::\u001B[38;2;198;120;221m_log\u001B[38;2;97;175;239m::\u001B[38;2;198;120;221mtrain_util_wrap.py\u001B[38;2;97;175;239m:\u001B[38;2;198;120;221m240\u001B[38;2;97;175;239m:\u001B[39m\u001B[49m\u001B[22m\u001B[23m\u001B[24m\u001B[25m\u001B[27m\u001B[28m\u001B[29mINFO\u001B[39m\u001B[49m\u001B[22m\u001B[23m\u001B[24m\u001B[25m\u001B[27m\u001B[28m\u001B[29m\u001B[38;2;97;175;239m: \u001B[39m\u001B[49m\u001B[22m\u001B[23m\u001B[24m\u001B[25m\u001B[27m\u001B[28m\u001B[29m\u001B[35m{\u001B[39m\u001B[49m\u001B[0mstep: \u001B[34m48/64\u001B[39m\u001B[49m\u001B[0m, epoch: \u001B[34m12/16\u001B[39m\u001B[49m\u001B[0m, eval/loss: \u001B[34m3.4144\u001B[39m\u001B[49m\u001B[0m, eval/ntp_acc: \u001B[34m19.49\u001B[39m\u001B[49m\u001B[0m, eval/ikr: \u001B[34m  0.00\u001B[39m\u001B[49m\u001B[0m\u001B[35m}\u001B[39m\u001B[49m\u001B[0m\u001B[39m\u001B[49m\u001B[22m\u001B[23m\u001B[24m\u001B[25m\u001B[27m\u001B[28m\u001B[29m\n",
      "\u001B[38;2;0;186;142m2022-05-23 22:06:12\u001B[38;2;97;175;239m|\u001B[39m\u001B[49m\u001B[22m\u001B[23m\u001B[24m\u001B[25m\u001B[27m\u001B[28m\u001B[29m\u001B[38;2;198;120;221m[MyTransfoXLLMHeadModel Training]\u001B[38;2;97;175;239m::\u001B[38;2;198;120;221m_log\u001B[38;2;97;175;239m::\u001B[38;2;198;120;221mtrain_util_wrap.py\u001B[38;2;97;175;239m:\u001B[38;2;198;120;221m240\u001B[38;2;97;175;239m:\u001B[39m\u001B[49m\u001B[22m\u001B[23m\u001B[24m\u001B[25m\u001B[27m\u001B[28m\u001B[29mINFO\u001B[39m\u001B[49m\u001B[22m\u001B[23m\u001B[24m\u001B[25m\u001B[27m\u001B[28m\u001B[29m\u001B[38;2;97;175;239m: \u001B[39m\u001B[49m\u001B[22m\u001B[23m\u001B[24m\u001B[25m\u001B[27m\u001B[28m\u001B[29m\u001B[35m{\u001B[39m\u001B[49m\u001B[0mstep: \u001B[34m52/64\u001B[39m\u001B[49m\u001B[0m, epoch: \u001B[34m13.000/16\u001B[39m\u001B[49m\u001B[0m, train/learning_rate: \u001B[34m1.000e-03\u001B[39m\u001B[49m\u001B[0m, train/loss: \u001B[34m3.0512\u001B[39m\u001B[49m\u001B[0m, train/ntp_acc: \u001B[34m23.52\u001B[39m\u001B[49m\u001B[0m, train/ikr: \u001B[34m  0.00\u001B[39m\u001B[49m\u001B[0m\u001B[35m}\u001B[39m\u001B[49m\u001B[0m\u001B[39m\u001B[49m\u001B[22m\u001B[23m\u001B[24m\u001B[25m\u001B[27m\u001B[28m\u001B[29m\n",
      "\u001B[38;2;0;186;142m2022-05-23 22:06:13\u001B[38;2;97;175;239m|\u001B[39m\u001B[49m\u001B[22m\u001B[23m\u001B[24m\u001B[25m\u001B[27m\u001B[28m\u001B[29m\u001B[38;2;198;120;221m[MyTransfoXLLMHeadModel Training]\u001B[38;2;97;175;239m::\u001B[38;2;198;120;221m_log\u001B[38;2;97;175;239m::\u001B[38;2;198;120;221mtrain_util_wrap.py\u001B[38;2;97;175;239m:\u001B[38;2;198;120;221m240\u001B[38;2;97;175;239m:\u001B[39m\u001B[49m\u001B[22m\u001B[23m\u001B[24m\u001B[25m\u001B[27m\u001B[28m\u001B[29mINFO\u001B[39m\u001B[49m\u001B[22m\u001B[23m\u001B[24m\u001B[25m\u001B[27m\u001B[28m\u001B[29m\u001B[38;2;97;175;239m: \u001B[39m\u001B[49m\u001B[22m\u001B[23m\u001B[24m\u001B[25m\u001B[27m\u001B[28m\u001B[29m\u001B[35m{\u001B[39m\u001B[49m\u001B[0mstep: \u001B[34m52/64\u001B[39m\u001B[49m\u001B[0m, epoch: \u001B[34m13/16\u001B[39m\u001B[49m\u001B[0m, eval/loss: \u001B[34m3.4516\u001B[39m\u001B[49m\u001B[0m, eval/ntp_acc: \u001B[34m18.75\u001B[39m\u001B[49m\u001B[0m, eval/ikr: \u001B[34m  0.00\u001B[39m\u001B[49m\u001B[0m\u001B[35m}\u001B[39m\u001B[49m\u001B[0m\u001B[39m\u001B[49m\u001B[22m\u001B[23m\u001B[24m\u001B[25m\u001B[27m\u001B[28m\u001B[29m\n",
      "\u001B[38;2;0;186;142m2022-05-23 22:06:15\u001B[38;2;97;175;239m|\u001B[39m\u001B[49m\u001B[22m\u001B[23m\u001B[24m\u001B[25m\u001B[27m\u001B[28m\u001B[29m\u001B[38;2;198;120;221m[MyTransfoXLLMHeadModel Training]\u001B[38;2;97;175;239m::\u001B[38;2;198;120;221m_log\u001B[38;2;97;175;239m::\u001B[38;2;198;120;221mtrain_util_wrap.py\u001B[38;2;97;175;239m:\u001B[38;2;198;120;221m240\u001B[38;2;97;175;239m:\u001B[39m\u001B[49m\u001B[22m\u001B[23m\u001B[24m\u001B[25m\u001B[27m\u001B[28m\u001B[29mINFO\u001B[39m\u001B[49m\u001B[22m\u001B[23m\u001B[24m\u001B[25m\u001B[27m\u001B[28m\u001B[29m\u001B[38;2;97;175;239m: \u001B[39m\u001B[49m\u001B[22m\u001B[23m\u001B[24m\u001B[25m\u001B[27m\u001B[28m\u001B[29m\u001B[35m{\u001B[39m\u001B[49m\u001B[0mstep: \u001B[34m56/64\u001B[39m\u001B[49m\u001B[0m, epoch: \u001B[34m14.000/16\u001B[39m\u001B[49m\u001B[0m, train/learning_rate: \u001B[34m1.000e-03\u001B[39m\u001B[49m\u001B[0m, train/loss: \u001B[34m3.0784\u001B[39m\u001B[49m\u001B[0m, train/ntp_acc: \u001B[34m26.48\u001B[39m\u001B[49m\u001B[0m, train/ikr: \u001B[34m  0.00\u001B[39m\u001B[49m\u001B[0m\u001B[35m}\u001B[39m\u001B[49m\u001B[0m\u001B[39m\u001B[49m\u001B[22m\u001B[23m\u001B[24m\u001B[25m\u001B[27m\u001B[28m\u001B[29m\n",
      "\u001B[38;2;0;186;142m2022-05-23 22:06:16\u001B[38;2;97;175;239m|\u001B[39m\u001B[49m\u001B[22m\u001B[23m\u001B[24m\u001B[25m\u001B[27m\u001B[28m\u001B[29m\u001B[38;2;198;120;221m[MyTransfoXLLMHeadModel Training]\u001B[38;2;97;175;239m::\u001B[38;2;198;120;221m_log\u001B[38;2;97;175;239m::\u001B[38;2;198;120;221mtrain_util_wrap.py\u001B[38;2;97;175;239m:\u001B[38;2;198;120;221m240\u001B[38;2;97;175;239m:\u001B[39m\u001B[49m\u001B[22m\u001B[23m\u001B[24m\u001B[25m\u001B[27m\u001B[28m\u001B[29mINFO\u001B[39m\u001B[49m\u001B[22m\u001B[23m\u001B[24m\u001B[25m\u001B[27m\u001B[28m\u001B[29m\u001B[38;2;97;175;239m: \u001B[39m\u001B[49m\u001B[22m\u001B[23m\u001B[24m\u001B[25m\u001B[27m\u001B[28m\u001B[29m\u001B[35m{\u001B[39m\u001B[49m\u001B[0mstep: \u001B[34m56/64\u001B[39m\u001B[49m\u001B[0m, epoch: \u001B[34m14/16\u001B[39m\u001B[49m\u001B[0m, eval/loss: \u001B[34m3.3616\u001B[39m\u001B[49m\u001B[0m, eval/ntp_acc: \u001B[34m22.59\u001B[39m\u001B[49m\u001B[0m, eval/ikr: \u001B[34m  0.00\u001B[39m\u001B[49m\u001B[0m\u001B[35m}\u001B[39m\u001B[49m\u001B[0m\u001B[39m\u001B[49m\u001B[22m\u001B[23m\u001B[24m\u001B[25m\u001B[27m\u001B[28m\u001B[29m\n",
      "\u001B[38;2;0;186;142m2022-05-23 22:06:18\u001B[38;2;97;175;239m|\u001B[39m\u001B[49m\u001B[22m\u001B[23m\u001B[24m\u001B[25m\u001B[27m\u001B[28m\u001B[29m\u001B[38;2;198;120;221m[MyTransfoXLLMHeadModel Training]\u001B[38;2;97;175;239m::\u001B[38;2;198;120;221m_log\u001B[38;2;97;175;239m::\u001B[38;2;198;120;221mtrain_util_wrap.py\u001B[38;2;97;175;239m:\u001B[38;2;198;120;221m240\u001B[38;2;97;175;239m:\u001B[39m\u001B[49m\u001B[22m\u001B[23m\u001B[24m\u001B[25m\u001B[27m\u001B[28m\u001B[29mINFO\u001B[39m\u001B[49m\u001B[22m\u001B[23m\u001B[24m\u001B[25m\u001B[27m\u001B[28m\u001B[29m\u001B[38;2;97;175;239m: \u001B[39m\u001B[49m\u001B[22m\u001B[23m\u001B[24m\u001B[25m\u001B[27m\u001B[28m\u001B[29m\u001B[35m{\u001B[39m\u001B[49m\u001B[0mstep: \u001B[34m60/64\u001B[39m\u001B[49m\u001B[0m, epoch: \u001B[34m15.000/16\u001B[39m\u001B[49m\u001B[0m, train/learning_rate: \u001B[34m1.000e-03\u001B[39m\u001B[49m\u001B[0m, train/loss: \u001B[34m2.8261\u001B[39m\u001B[49m\u001B[0m, train/ntp_acc: \u001B[34m33.27\u001B[39m\u001B[49m\u001B[0m, train/ikr: \u001B[34m  0.00\u001B[39m\u001B[49m\u001B[0m\u001B[35m}\u001B[39m\u001B[49m\u001B[0m\u001B[39m\u001B[49m\u001B[22m\u001B[23m\u001B[24m\u001B[25m\u001B[27m\u001B[28m\u001B[29m\n",
      "\u001B[38;2;0;186;142m2022-05-23 22:06:19\u001B[38;2;97;175;239m|\u001B[39m\u001B[49m\u001B[22m\u001B[23m\u001B[24m\u001B[25m\u001B[27m\u001B[28m\u001B[29m\u001B[38;2;198;120;221m[MyTransfoXLLMHeadModel Training]\u001B[38;2;97;175;239m::\u001B[38;2;198;120;221m_log\u001B[38;2;97;175;239m::\u001B[38;2;198;120;221mtrain_util_wrap.py\u001B[38;2;97;175;239m:\u001B[38;2;198;120;221m240\u001B[38;2;97;175;239m:\u001B[39m\u001B[49m\u001B[22m\u001B[23m\u001B[24m\u001B[25m\u001B[27m\u001B[28m\u001B[29mINFO\u001B[39m\u001B[49m\u001B[22m\u001B[23m\u001B[24m\u001B[25m\u001B[27m\u001B[28m\u001B[29m\u001B[38;2;97;175;239m: \u001B[39m\u001B[49m\u001B[22m\u001B[23m\u001B[24m\u001B[25m\u001B[27m\u001B[28m\u001B[29m\u001B[35m{\u001B[39m\u001B[49m\u001B[0mstep: \u001B[34m60/64\u001B[39m\u001B[49m\u001B[0m, epoch: \u001B[34m15/16\u001B[39m\u001B[49m\u001B[0m, eval/loss: \u001B[34m3.2925\u001B[39m\u001B[49m\u001B[0m, eval/ntp_acc: \u001B[34m24.36\u001B[39m\u001B[49m\u001B[0m, eval/ikr: \u001B[34m15.72\u001B[39m\u001B[49m\u001B[0m\u001B[35m}\u001B[39m\u001B[49m\u001B[0m\u001B[39m\u001B[49m\u001B[22m\u001B[23m\u001B[24m\u001B[25m\u001B[27m\u001B[28m\u001B[29m\n",
      "\u001B[38;2;0;186;142m2022-05-23 22:06:21\u001B[38;2;97;175;239m|\u001B[39m\u001B[49m\u001B[22m\u001B[23m\u001B[24m\u001B[25m\u001B[27m\u001B[28m\u001B[29m\u001B[38;2;198;120;221m[MyTransfoXLLMHeadModel Training]\u001B[38;2;97;175;239m::\u001B[38;2;198;120;221m_log\u001B[38;2;97;175;239m::\u001B[38;2;198;120;221mtrain_util_wrap.py\u001B[38;2;97;175;239m:\u001B[38;2;198;120;221m240\u001B[38;2;97;175;239m:\u001B[39m\u001B[49m\u001B[22m\u001B[23m\u001B[24m\u001B[25m\u001B[27m\u001B[28m\u001B[29mINFO\u001B[39m\u001B[49m\u001B[22m\u001B[23m\u001B[24m\u001B[25m\u001B[27m\u001B[28m\u001B[29m\u001B[38;2;97;175;239m: \u001B[39m\u001B[49m\u001B[22m\u001B[23m\u001B[24m\u001B[25m\u001B[27m\u001B[28m\u001B[29m\u001B[35m{\u001B[39m\u001B[49m\u001B[0mstep: \u001B[34m64/64\u001B[39m\u001B[49m\u001B[0m, epoch: \u001B[34m16.000/16\u001B[39m\u001B[49m\u001B[0m, train/learning_rate: \u001B[34m1.000e-03\u001B[39m\u001B[49m\u001B[0m, train/loss: \u001B[34m2.7736\u001B[39m\u001B[49m\u001B[0m, train/ntp_acc: \u001B[34m32.28\u001B[39m\u001B[49m\u001B[0m, train/ikr: \u001B[34m32.82\u001B[39m\u001B[49m\u001B[0m\u001B[35m}\u001B[39m\u001B[49m\u001B[0m\u001B[39m\u001B[49m\u001B[22m\u001B[23m\u001B[24m\u001B[25m\u001B[27m\u001B[28m\u001B[29m\n",
      "\u001B[38;2;0;186;142m2022-05-23 22:06:22\u001B[38;2;97;175;239m|\u001B[39m\u001B[49m\u001B[22m\u001B[23m\u001B[24m\u001B[25m\u001B[27m\u001B[28m\u001B[29m\u001B[38;2;198;120;221m[MyTransfoXLLMHeadModel Training]\u001B[38;2;97;175;239m::\u001B[38;2;198;120;221m_log\u001B[38;2;97;175;239m::\u001B[38;2;198;120;221mtrain_util_wrap.py\u001B[38;2;97;175;239m:\u001B[38;2;198;120;221m240\u001B[38;2;97;175;239m:\u001B[39m\u001B[49m\u001B[22m\u001B[23m\u001B[24m\u001B[25m\u001B[27m\u001B[28m\u001B[29mINFO\u001B[39m\u001B[49m\u001B[22m\u001B[23m\u001B[24m\u001B[25m\u001B[27m\u001B[28m\u001B[29m\u001B[38;2;97;175;239m: \u001B[39m\u001B[49m\u001B[22m\u001B[23m\u001B[24m\u001B[25m\u001B[27m\u001B[28m\u001B[29m\u001B[35m{\u001B[39m\u001B[49m\u001B[0mstep: \u001B[34m64/64\u001B[39m\u001B[49m\u001B[0m, epoch: \u001B[34m16/16\u001B[39m\u001B[49m\u001B[0m, eval/loss: \u001B[34m3.0915\u001B[39m\u001B[49m\u001B[0m, eval/ntp_acc: \u001B[34m25.47\u001B[39m\u001B[49m\u001B[0m, eval/ikr: \u001B[34m41.81\u001B[39m\u001B[49m\u001B[0m\u001B[35m}\u001B[39m\u001B[49m\u001B[0m\u001B[39m\u001B[49m\u001B[22m\u001B[23m\u001B[24m\u001B[25m\u001B[27m\u001B[28m\u001B[29m\n",
      "\u001B[38;2;0;186;142m2022-05-23 22:06:22\u001B[38;2;97;175;239m|\u001B[39m\u001B[49m\u001B[22m\u001B[23m\u001B[24m\u001B[25m\u001B[27m\u001B[28m\u001B[29m\u001B[38;2;198;120;221m[MyTransfoXLLMHeadModel Training]\u001B[38;2;97;175;239m::\u001B[38;2;198;120;221mon_log\u001B[38;2;97;175;239m::\u001B[38;2;198;120;221mtrain_util_wrap.py\u001B[38;2;97;175;239m:\u001B[38;2;198;120;221m298\u001B[38;2;97;175;239m:\u001B[39m\u001B[49m\u001B[22m\u001B[23m\u001B[24m\u001B[25m\u001B[27m\u001B[28m\u001B[29mINFO\u001B[39m\u001B[49m\u001B[22m\u001B[23m\u001B[24m\u001B[25m\u001B[27m\u001B[28m\u001B[29m\u001B[38;2;97;175;239m: \u001B[39m\u001B[49m\u001B[22m\u001B[23m\u001B[24m\u001B[25m\u001B[27m\u001B[28m\u001B[29m\u001B[35m{\u001B[39m\u001B[49m\u001B[0mtrain_runtime: \u001B[34m46.1759\u001B[39m\u001B[49m\u001B[0m, train_samples_per_second: \u001B[34m11.088\u001B[39m\u001B[49m\u001B[0m, train_steps_per_second: \u001B[34m1.386\u001B[39m\u001B[49m\u001B[0m, total_flos: \u001B[34m337403707392.0\u001B[39m\u001B[49m\u001B[0m, train_loss: \u001B[34m3.4871722497045994\u001B[39m\u001B[49m\u001B[0m, epoch: \u001B[34m16.0\u001B[39m\u001B[49m\u001B[0m\u001B[35m}\u001B[39m\u001B[49m\u001B[0m\u001B[39m\u001B[49m\u001B[22m\u001B[23m\u001B[24m\u001B[25m\u001B[27m\u001B[28m\u001B[29m\n",
      "\u001B[38;2;0;186;142m2022-05-23 22:06:22\u001B[38;2;97;175;239m|\u001B[39m\u001B[49m\u001B[22m\u001B[23m\u001B[24m\u001B[25m\u001B[27m\u001B[28m\u001B[29m\u001B[38;2;198;120;221m[MyTransfoXLLMHeadModel Training]\u001B[38;2;97;175;239m::\u001B[38;2;198;120;221mon_train_end\u001B[38;2;97;175;239m::\u001B[38;2;198;120;221mtrain_util_wrap.py\u001B[38;2;97;175;239m:\u001B[38;2;198;120;221m183\u001B[38;2;97;175;239m:\u001B[39m\u001B[49m\u001B[22m\u001B[23m\u001B[24m\u001B[25m\u001B[27m\u001B[28m\u001B[29mINFO\u001B[39m\u001B[49m\u001B[22m\u001B[23m\u001B[24m\u001B[25m\u001B[27m\u001B[28m\u001B[29m\u001B[38;2;97;175;239m: \u001B[39m\u001B[49m\u001B[22m\u001B[23m\u001B[24m\u001B[25m\u001B[27m\u001B[28m\u001B[29mTraining completed in \u001B[34m46s\u001B[39m\u001B[49m\u001B[0m \u001B[39m\u001B[49m\u001B[22m\u001B[23m\u001B[24m\u001B[25m\u001B[27m\u001B[28m\u001B[29m\n"
     ]
    }
   ],
   "source": [
    "ignore_keys_for_eval = ['losses', 'mems', 'hidden_states', 'attentions']\n",
    "trainer.train(ignore_keys_for_eval=ignore_keys_for_eval)\n",
    "trainer.save_model(os.path.join(trainer.args.output_dir, 'trained'))\n",
    "\n"
   ],
   "metadata": {
    "pycharm": {
     "name": "#%%\n"
    },
    "id": "tdpJdOnX7o0s",
    "colab": {
     "base_uri": "https://localhost:8080/"
    },
    "outputId": "2d702fca-3ff6-4f20-8a38-e0363f1ff64d"
   }
  },
  {
   "cell_type": "markdown",
   "source": [
    "## Sanity check\n",
    "\n"
   ],
   "metadata": {
    "collapsed": false,
    "pycharm": {
     "name": "#%% md\n"
    }
   }
  },
  {
   "cell_type": "code",
   "execution_count": 6,
   "outputs": [
    {
     "name": "stderr",
     "output_type": "stream",
     "text": [
      "ic| trainer.args.output_dir: ('/Users/stefanhg/Documents/UMich/Research/Music with '\n",
      "                              'NLP/Symbolic-Music-Generation/models/transf-xl/2022-05-23_22-05-35')\n",
      "ic| os.listdir(trainer.args.output_dir): ['md={nm=MyTransfoXLLMHeadModel, l=128, n_l=4, hd_sz=128, ff_sz=512, '\n",
      "                                          'n_param=917.2K}, n=32, a=0.001, bsz=8, n_ep=16.log',\n",
      "                                          'checkpoint-8',\n",
      "                                          'tb - md={nm=MyTransfoXLLMHeadModel, l=128, n_l=4, hd_sz=128, ff_sz=512, '\n",
      "                                          'n_param=917.2K}, n=32, a=0.001, bsz=8, n_ep=16',\n",
      "                                          'checkpoint-16',\n",
      "                                          'checkpoint-56',\n",
      "                                          'trained',\n",
      "                                          'checkpoint-32',\n",
      "                                          'checkpoint-40',\n",
      "                                          'checkpoint-24',\n",
      "                                          'checkpoint-48',\n",
      "                                          'checkpoint-64']\n"
     ]
    },
    {
     "data": {
      "text/plain": "['md={nm=MyTransfoXLLMHeadModel, l=128, n_l=4, hd_sz=128, ff_sz=512, n_param=917.2K}, n=32, a=0.001, bsz=8, n_ep=16.log',\n 'checkpoint-8',\n 'tb - md={nm=MyTransfoXLLMHeadModel, l=128, n_l=4, hd_sz=128, ff_sz=512, n_param=917.2K}, n=32, a=0.001, bsz=8, n_ep=16',\n 'checkpoint-16',\n 'checkpoint-56',\n 'trained',\n 'checkpoint-32',\n 'checkpoint-40',\n 'checkpoint-24',\n 'checkpoint-48',\n 'checkpoint-64']"
     },
     "execution_count": 6,
     "metadata": {},
     "output_type": "execute_result"
    }
   ],
   "source": [
    "ic(trainer.args.output_dir)\n",
    "ic(os.listdir(trainer.args.output_dir))\n",
    "\n"
   ],
   "metadata": {
    "pycharm": {
     "name": "#%%\n"
    },
    "id": "rHEcyIaC7o0t"
   }
  }
 ],
 "metadata": {
  "kernelspec": {
   "display_name": "Python 3",
   "language": "python",
   "name": "python3"
  },
  "language_info": {
   "codemirror_mode": {
    "name": "ipython",
    "version": 2
   },
   "file_extension": ".py",
   "mimetype": "text/x-python",
   "name": "python",
   "nbconvert_exporter": "python",
   "pygments_lexer": "ipython2",
   "version": "2.7.6"
  },
  "colab": {
   "name": "long_music_transformer.ipynb",
   "provenance": [],
   "collapsed_sections": []
  },
  "accelerator": "GPU",
  "widgets": {
   "application/vnd.jupyter.widget-state+json": {
    "4eed0b4020114aa597ab84f095b2f5b0": {
     "model_module": "@jupyter-widgets/controls",
     "model_name": "HBoxModel",
     "model_module_version": "1.5.0",
     "state": {
      "_dom_classes": [],
      "_model_module": "@jupyter-widgets/controls",
      "_model_module_version": "1.5.0",
      "_model_name": "HBoxModel",
      "_view_count": null,
      "_view_module": "@jupyter-widgets/controls",
      "_view_module_version": "1.5.0",
      "_view_name": "HBoxView",
      "box_style": "",
      "children": [
       "IPY_MODEL_57a21725596f4581850134186657db83",
       "IPY_MODEL_1716d570d1e04ef0b4a8f7feade5b1f6",
       "IPY_MODEL_1b7f23e09ffb42e0bb9f4a6028a8f291"
      ],
      "layout": "IPY_MODEL_c6ad781345f64e7bad9a0b3f11819f76"
     }
    },
    "57a21725596f4581850134186657db83": {
     "model_module": "@jupyter-widgets/controls",
     "model_name": "HTMLModel",
     "model_module_version": "1.5.0",
     "state": {
      "_dom_classes": [],
      "_model_module": "@jupyter-widgets/controls",
      "_model_module_version": "1.5.0",
      "_model_name": "HTMLModel",
      "_view_count": null,
      "_view_module": "@jupyter-widgets/controls",
      "_view_module_version": "1.5.0",
      "_view_name": "HTMLView",
      "description": "",
      "description_tooltip": null,
      "layout": "IPY_MODEL_d4b606dd065e47c0be72bbc0c4e3a10a",
      "placeholder": "​",
      "style": "IPY_MODEL_312d2f3619b44c5babf0280b0da0587f",
      "value": "Downloading builder script: "
     }
    },
    "1716d570d1e04ef0b4a8f7feade5b1f6": {
     "model_module": "@jupyter-widgets/controls",
     "model_name": "FloatProgressModel",
     "model_module_version": "1.5.0",
     "state": {
      "_dom_classes": [],
      "_model_module": "@jupyter-widgets/controls",
      "_model_module_version": "1.5.0",
      "_model_name": "FloatProgressModel",
      "_view_count": null,
      "_view_module": "@jupyter-widgets/controls",
      "_view_module_version": "1.5.0",
      "_view_name": "ProgressView",
      "bar_style": "success",
      "description": "",
      "description_tooltip": null,
      "layout": "IPY_MODEL_5f68f7d0dd61455abb3bdfe2d066c38f",
      "max": 1411,
      "min": 0,
      "orientation": "horizontal",
      "style": "IPY_MODEL_7ca5c001961f43dca8d1cadbf4aae5f0",
      "value": 1411
     }
    },
    "1b7f23e09ffb42e0bb9f4a6028a8f291": {
     "model_module": "@jupyter-widgets/controls",
     "model_name": "HTMLModel",
     "model_module_version": "1.5.0",
     "state": {
      "_dom_classes": [],
      "_model_module": "@jupyter-widgets/controls",
      "_model_module_version": "1.5.0",
      "_model_name": "HTMLModel",
      "_view_count": null,
      "_view_module": "@jupyter-widgets/controls",
      "_view_module_version": "1.5.0",
      "_view_name": "HTMLView",
      "description": "",
      "description_tooltip": null,
      "layout": "IPY_MODEL_8bbc18cd2e6d4c6f83b3070cb322278d",
      "placeholder": "​",
      "style": "IPY_MODEL_d2a72e32c92a4dd0b946218720fc8982",
      "value": " 3.19k/? [00:00&lt;00:00, 102kB/s]"
     }
    },
    "c6ad781345f64e7bad9a0b3f11819f76": {
     "model_module": "@jupyter-widgets/base",
     "model_name": "LayoutModel",
     "model_module_version": "1.2.0",
     "state": {
      "_model_module": "@jupyter-widgets/base",
      "_model_module_version": "1.2.0",
      "_model_name": "LayoutModel",
      "_view_count": null,
      "_view_module": "@jupyter-widgets/base",
      "_view_module_version": "1.2.0",
      "_view_name": "LayoutView",
      "align_content": null,
      "align_items": null,
      "align_self": null,
      "border": null,
      "bottom": null,
      "display": null,
      "flex": null,
      "flex_flow": null,
      "grid_area": null,
      "grid_auto_columns": null,
      "grid_auto_flow": null,
      "grid_auto_rows": null,
      "grid_column": null,
      "grid_gap": null,
      "grid_row": null,
      "grid_template_areas": null,
      "grid_template_columns": null,
      "grid_template_rows": null,
      "height": null,
      "justify_content": null,
      "justify_items": null,
      "left": null,
      "margin": null,
      "max_height": null,
      "max_width": null,
      "min_height": null,
      "min_width": null,
      "object_fit": null,
      "object_position": null,
      "order": null,
      "overflow": null,
      "overflow_x": null,
      "overflow_y": null,
      "padding": null,
      "right": null,
      "top": null,
      "visibility": null,
      "width": null
     }
    },
    "d4b606dd065e47c0be72bbc0c4e3a10a": {
     "model_module": "@jupyter-widgets/base",
     "model_name": "LayoutModel",
     "model_module_version": "1.2.0",
     "state": {
      "_model_module": "@jupyter-widgets/base",
      "_model_module_version": "1.2.0",
      "_model_name": "LayoutModel",
      "_view_count": null,
      "_view_module": "@jupyter-widgets/base",
      "_view_module_version": "1.2.0",
      "_view_name": "LayoutView",
      "align_content": null,
      "align_items": null,
      "align_self": null,
      "border": null,
      "bottom": null,
      "display": null,
      "flex": null,
      "flex_flow": null,
      "grid_area": null,
      "grid_auto_columns": null,
      "grid_auto_flow": null,
      "grid_auto_rows": null,
      "grid_column": null,
      "grid_gap": null,
      "grid_row": null,
      "grid_template_areas": null,
      "grid_template_columns": null,
      "grid_template_rows": null,
      "height": null,
      "justify_content": null,
      "justify_items": null,
      "left": null,
      "margin": null,
      "max_height": null,
      "max_width": null,
      "min_height": null,
      "min_width": null,
      "object_fit": null,
      "object_position": null,
      "order": null,
      "overflow": null,
      "overflow_x": null,
      "overflow_y": null,
      "padding": null,
      "right": null,
      "top": null,
      "visibility": null,
      "width": null
     }
    },
    "312d2f3619b44c5babf0280b0da0587f": {
     "model_module": "@jupyter-widgets/controls",
     "model_name": "DescriptionStyleModel",
     "model_module_version": "1.5.0",
     "state": {
      "_model_module": "@jupyter-widgets/controls",
      "_model_module_version": "1.5.0",
      "_model_name": "DescriptionStyleModel",
      "_view_count": null,
      "_view_module": "@jupyter-widgets/base",
      "_view_module_version": "1.2.0",
      "_view_name": "StyleView",
      "description_width": ""
     }
    },
    "5f68f7d0dd61455abb3bdfe2d066c38f": {
     "model_module": "@jupyter-widgets/base",
     "model_name": "LayoutModel",
     "model_module_version": "1.2.0",
     "state": {
      "_model_module": "@jupyter-widgets/base",
      "_model_module_version": "1.2.0",
      "_model_name": "LayoutModel",
      "_view_count": null,
      "_view_module": "@jupyter-widgets/base",
      "_view_module_version": "1.2.0",
      "_view_name": "LayoutView",
      "align_content": null,
      "align_items": null,
      "align_self": null,
      "border": null,
      "bottom": null,
      "display": null,
      "flex": null,
      "flex_flow": null,
      "grid_area": null,
      "grid_auto_columns": null,
      "grid_auto_flow": null,
      "grid_auto_rows": null,
      "grid_column": null,
      "grid_gap": null,
      "grid_row": null,
      "grid_template_areas": null,
      "grid_template_columns": null,
      "grid_template_rows": null,
      "height": null,
      "justify_content": null,
      "justify_items": null,
      "left": null,
      "margin": null,
      "max_height": null,
      "max_width": null,
      "min_height": null,
      "min_width": null,
      "object_fit": null,
      "object_position": null,
      "order": null,
      "overflow": null,
      "overflow_x": null,
      "overflow_y": null,
      "padding": null,
      "right": null,
      "top": null,
      "visibility": null,
      "width": null
     }
    },
    "7ca5c001961f43dca8d1cadbf4aae5f0": {
     "model_module": "@jupyter-widgets/controls",
     "model_name": "ProgressStyleModel",
     "model_module_version": "1.5.0",
     "state": {
      "_model_module": "@jupyter-widgets/controls",
      "_model_module_version": "1.5.0",
      "_model_name": "ProgressStyleModel",
      "_view_count": null,
      "_view_module": "@jupyter-widgets/base",
      "_view_module_version": "1.2.0",
      "_view_name": "StyleView",
      "bar_color": null,
      "description_width": ""
     }
    },
    "8bbc18cd2e6d4c6f83b3070cb322278d": {
     "model_module": "@jupyter-widgets/base",
     "model_name": "LayoutModel",
     "model_module_version": "1.2.0",
     "state": {
      "_model_module": "@jupyter-widgets/base",
      "_model_module_version": "1.2.0",
      "_model_name": "LayoutModel",
      "_view_count": null,
      "_view_module": "@jupyter-widgets/base",
      "_view_module_version": "1.2.0",
      "_view_name": "LayoutView",
      "align_content": null,
      "align_items": null,
      "align_self": null,
      "border": null,
      "bottom": null,
      "display": null,
      "flex": null,
      "flex_flow": null,
      "grid_area": null,
      "grid_auto_columns": null,
      "grid_auto_flow": null,
      "grid_auto_rows": null,
      "grid_column": null,
      "grid_gap": null,
      "grid_row": null,
      "grid_template_areas": null,
      "grid_template_columns": null,
      "grid_template_rows": null,
      "height": null,
      "justify_content": null,
      "justify_items": null,
      "left": null,
      "margin": null,
      "max_height": null,
      "max_width": null,
      "min_height": null,
      "min_width": null,
      "object_fit": null,
      "object_position": null,
      "order": null,
      "overflow": null,
      "overflow_x": null,
      "overflow_y": null,
      "padding": null,
      "right": null,
      "top": null,
      "visibility": null,
      "width": null
     }
    },
    "d2a72e32c92a4dd0b946218720fc8982": {
     "model_module": "@jupyter-widgets/controls",
     "model_name": "DescriptionStyleModel",
     "model_module_version": "1.5.0",
     "state": {
      "_model_module": "@jupyter-widgets/controls",
      "_model_module_version": "1.5.0",
      "_model_name": "DescriptionStyleModel",
      "_view_count": null,
      "_view_module": "@jupyter-widgets/base",
      "_view_module_version": "1.2.0",
      "_view_name": "StyleView",
      "description_width": ""
     }
    }
   }
  }
 },
 "nbformat": 4,
 "nbformat_minor": 0
}