{
 "cells": [
  {
   "cell_type": "markdown",
   "source": [
    "# Train Music Transformer\n",
    "Since Fri. May 13th, 2022\n",
    "\n",
    "Set up training in colab\n",
    "\n",
    "\n",
    "## Setup\n",
    "\n",
    "\n",
    "### Ipython\n",
    "\n"
   ],
   "metadata": {
    "collapsed": false,
    "id": "duaTgec47o0k",
    "pycharm": {
     "name": "#%% md\n"
    }
   }
  },
  {
   "cell_type": "code",
   "execution_count": 3,
   "outputs": [
    {
     "output_type": "stream",
     "name": "stdout",
     "text": [
      "The autoreload extension is already loaded. To reload it, use:\n",
      "  %reload_ext autoreload\n"
     ]
    }
   ],
   "source": [
    "%load_ext autoreload\n",
    "%autoreload 2\n",
    "\n"
   ],
   "metadata": {
    "pycharm": {
     "name": "#%%\n"
    },
    "id": "UFt3o8uB7o0n",
    "executionInfo": {
     "status": "ok",
     "timestamp": 1650286518037,
     "user_tz": 240,
     "elapsed": 159,
     "user": {
      "displayName": "Stefan Heng",
      "userId": "11931699939643661721"
     }
    },
    "colab": {
     "base_uri": "https://localhost:8080/"
    },
    "outputId": "79ecd591-f426-43d3-9138-d5c3c281d80d"
   }
  },
  {
   "cell_type": "markdown",
   "source": [
    "### Colab\n",
    "\n"
   ],
   "metadata": {
    "collapsed": false,
    "id": "zL4q50817o0o",
    "pycharm": {
     "name": "#%% md\n"
    }
   }
  },
  {
   "cell_type": "code",
   "execution_count": 4,
   "outputs": [
    {
     "output_type": "stream",
     "name": "stdout",
     "text": [
      "Mounted at /content/drive\n",
      "Collecting sty\n",
      "  Downloading sty-1.0.4-py3-none-any.whl (11 kB)\n",
      "Collecting icecream\n",
      "  Downloading icecream-2.1.2-py2.py3-none-any.whl (8.3 kB)\n",
      "Requirement already satisfied: music21 in /usr/local/lib/python3.7/dist-packages (5.5.0)\n",
      "Collecting transformers\n",
      "  Downloading transformers-4.18.0-py3-none-any.whl (4.0 MB)\n",
      "\u001B[K     |████████████████████████████████| 4.0 MB 5.5 MB/s \n",
      "\u001B[?25hCollecting datasets\n",
      "  Downloading datasets-2.1.0-py3-none-any.whl (325 kB)\n",
      "\u001B[K     |████████████████████████████████| 325 kB 73.4 MB/s \n",
      "\u001B[?25hRequirement already satisfied: pygments>=2.2.0 in /usr/local/lib/python3.7/dist-packages (from icecream) (2.6.1)\n",
      "Collecting executing>=0.3.1\n",
      "  Downloading executing-0.8.3-py2.py3-none-any.whl (16 kB)\n",
      "Collecting colorama>=0.3.9\n",
      "  Downloading colorama-0.4.4-py2.py3-none-any.whl (16 kB)\n",
      "Collecting asttokens>=2.0.1\n",
      "  Downloading asttokens-2.0.5-py2.py3-none-any.whl (20 kB)\n",
      "Requirement already satisfied: six in /usr/local/lib/python3.7/dist-packages (from asttokens>=2.0.1->icecream) (1.15.0)\n",
      "Collecting sacremoses\n",
      "  Downloading sacremoses-0.0.49-py3-none-any.whl (895 kB)\n",
      "\u001B[K     |████████████████████████████████| 895 kB 56.6 MB/s \n",
      "\u001B[?25hRequirement already satisfied: importlib-metadata in /usr/local/lib/python3.7/dist-packages (from transformers) (4.11.3)\n",
      "Collecting tokenizers!=0.11.3,<0.13,>=0.11.1\n",
      "  Downloading tokenizers-0.12.1-cp37-cp37m-manylinux_2_12_x86_64.manylinux2010_x86_64.whl (6.6 MB)\n",
      "\u001B[K     |████████████████████████████████| 6.6 MB 55.5 MB/s \n",
      "\u001B[?25hCollecting huggingface-hub<1.0,>=0.1.0\n",
      "  Downloading huggingface_hub-0.5.1-py3-none-any.whl (77 kB)\n",
      "\u001B[K     |████████████████████████████████| 77 kB 9.0 MB/s \n",
      "\u001B[?25hRequirement already satisfied: packaging>=20.0 in /usr/local/lib/python3.7/dist-packages (from transformers) (21.3)\n",
      "Requirement already satisfied: requests in /usr/local/lib/python3.7/dist-packages (from transformers) (2.23.0)\n",
      "Requirement already satisfied: tqdm>=4.27 in /usr/local/lib/python3.7/dist-packages (from transformers) (4.64.0)\n",
      "Requirement already satisfied: regex!=2019.12.17 in /usr/local/lib/python3.7/dist-packages (from transformers) (2019.12.20)\n",
      "Requirement already satisfied: filelock in /usr/local/lib/python3.7/dist-packages (from transformers) (3.6.0)\n",
      "Collecting pyyaml>=5.1\n",
      "  Downloading PyYAML-6.0-cp37-cp37m-manylinux_2_5_x86_64.manylinux1_x86_64.manylinux_2_12_x86_64.manylinux2010_x86_64.whl (596 kB)\n",
      "\u001B[K     |████████████████████████████████| 596 kB 68.4 MB/s \n",
      "\u001B[?25hRequirement already satisfied: numpy>=1.17 in /usr/local/lib/python3.7/dist-packages (from transformers) (1.21.5)\n",
      "Requirement already satisfied: typing-extensions>=3.7.4.3 in /usr/local/lib/python3.7/dist-packages (from huggingface-hub<1.0,>=0.1.0->transformers) (4.1.1)\n",
      "Requirement already satisfied: pyparsing!=3.0.5,>=2.0.2 in /usr/local/lib/python3.7/dist-packages (from packaging>=20.0->transformers) (3.0.8)\n",
      "Collecting fsspec[http]>=2021.05.0\n",
      "  Downloading fsspec-2022.3.0-py3-none-any.whl (136 kB)\n",
      "\u001B[K     |████████████████████████████████| 136 kB 77.3 MB/s \n",
      "\u001B[?25hCollecting aiohttp\n",
      "  Downloading aiohttp-3.8.1-cp37-cp37m-manylinux_2_5_x86_64.manylinux1_x86_64.manylinux_2_12_x86_64.manylinux2010_x86_64.whl (1.1 MB)\n",
      "\u001B[K     |████████████████████████████████| 1.1 MB 41.0 MB/s \n",
      "\u001B[?25hRequirement already satisfied: multiprocess in /usr/local/lib/python3.7/dist-packages (from datasets) (0.70.12.2)\n",
      "Requirement already satisfied: dill in /usr/local/lib/python3.7/dist-packages (from datasets) (0.3.4)\n",
      "Requirement already satisfied: pyarrow>=5.0.0 in /usr/local/lib/python3.7/dist-packages (from datasets) (6.0.1)\n",
      "Collecting responses<0.19\n",
      "  Downloading responses-0.18.0-py3-none-any.whl (38 kB)\n",
      "Collecting xxhash\n",
      "  Downloading xxhash-3.0.0-cp37-cp37m-manylinux_2_17_x86_64.manylinux2014_x86_64.whl (212 kB)\n",
      "\u001B[K     |████████████████████████████████| 212 kB 75.0 MB/s \n",
      "\u001B[?25hRequirement already satisfied: pandas in /usr/local/lib/python3.7/dist-packages (from datasets) (1.3.5)\n",
      "Requirement already satisfied: idna<3,>=2.5 in /usr/local/lib/python3.7/dist-packages (from requests->transformers) (2.10)\n",
      "Requirement already satisfied: urllib3!=1.25.0,!=1.25.1,<1.26,>=1.21.1 in /usr/local/lib/python3.7/dist-packages (from requests->transformers) (1.24.3)\n",
      "Requirement already satisfied: certifi>=2017.4.17 in /usr/local/lib/python3.7/dist-packages (from requests->transformers) (2021.10.8)\n",
      "Requirement already satisfied: chardet<4,>=3.0.2 in /usr/local/lib/python3.7/dist-packages (from requests->transformers) (3.0.4)\n",
      "Collecting urllib3!=1.25.0,!=1.25.1,<1.26,>=1.21.1\n",
      "  Downloading urllib3-1.25.11-py2.py3-none-any.whl (127 kB)\n",
      "\u001B[K     |████████████████████████████████| 127 kB 73.5 MB/s \n",
      "\u001B[?25hRequirement already satisfied: charset-normalizer<3.0,>=2.0 in /usr/local/lib/python3.7/dist-packages (from aiohttp->datasets) (2.0.12)\n",
      "Collecting yarl<2.0,>=1.0\n",
      "  Downloading yarl-1.7.2-cp37-cp37m-manylinux_2_5_x86_64.manylinux1_x86_64.manylinux_2_12_x86_64.manylinux2010_x86_64.whl (271 kB)\n",
      "\u001B[K     |████████████████████████████████| 271 kB 73.0 MB/s \n",
      "\u001B[?25hCollecting frozenlist>=1.1.1\n",
      "  Downloading frozenlist-1.3.0-cp37-cp37m-manylinux_2_5_x86_64.manylinux1_x86_64.manylinux_2_17_x86_64.manylinux2014_x86_64.whl (144 kB)\n",
      "\u001B[K     |████████████████████████████████| 144 kB 72.2 MB/s \n",
      "\u001B[?25hCollecting multidict<7.0,>=4.5\n",
      "  Downloading multidict-6.0.2-cp37-cp37m-manylinux_2_17_x86_64.manylinux2014_x86_64.whl (94 kB)\n",
      "\u001B[K     |████████████████████████████████| 94 kB 4.3 MB/s \n",
      "\u001B[?25hCollecting aiosignal>=1.1.2\n",
      "  Downloading aiosignal-1.2.0-py3-none-any.whl (8.2 kB)\n",
      "Requirement already satisfied: attrs>=17.3.0 in /usr/local/lib/python3.7/dist-packages (from aiohttp->datasets) (21.4.0)\n",
      "Collecting asynctest==0.13.0\n",
      "  Downloading asynctest-0.13.0-py3-none-any.whl (26 kB)\n",
      "Collecting async-timeout<5.0,>=4.0.0a3\n",
      "  Downloading async_timeout-4.0.2-py3-none-any.whl (5.8 kB)\n",
      "Requirement already satisfied: zipp>=0.5 in /usr/local/lib/python3.7/dist-packages (from importlib-metadata->transformers) (3.8.0)\n",
      "Requirement already satisfied: pytz>=2017.3 in /usr/local/lib/python3.7/dist-packages (from pandas->datasets) (2018.9)\n",
      "Requirement already satisfied: python-dateutil>=2.7.3 in /usr/local/lib/python3.7/dist-packages (from pandas->datasets) (2.8.2)\n",
      "Requirement already satisfied: click in /usr/local/lib/python3.7/dist-packages (from sacremoses->transformers) (7.1.2)\n",
      "Requirement already satisfied: joblib in /usr/local/lib/python3.7/dist-packages (from sacremoses->transformers) (1.1.0)\n",
      "Installing collected packages: multidict, frozenlist, yarl, urllib3, asynctest, async-timeout, aiosignal, pyyaml, fsspec, aiohttp, xxhash, tokenizers, sacremoses, responses, huggingface-hub, executing, colorama, asttokens, transformers, sty, icecream, datasets\n",
      "  Attempting uninstall: urllib3\n",
      "    Found existing installation: urllib3 1.24.3\n",
      "    Uninstalling urllib3-1.24.3:\n",
      "      Successfully uninstalled urllib3-1.24.3\n",
      "  Attempting uninstall: pyyaml\n",
      "    Found existing installation: PyYAML 3.13\n",
      "    Uninstalling PyYAML-3.13:\n",
      "      Successfully uninstalled PyYAML-3.13\n",
      "\u001B[31mERROR: pip's dependency resolver does not currently take into account all the packages that are installed. This behaviour is the source of the following dependency conflicts.\n",
      "datascience 0.10.6 requires folium==0.2.1, but you have folium 0.8.3 which is incompatible.\u001B[0m\n",
      "Successfully installed aiohttp-3.8.1 aiosignal-1.2.0 asttokens-2.0.5 async-timeout-4.0.2 asynctest-0.13.0 colorama-0.4.4 datasets-2.1.0 executing-0.8.3 frozenlist-1.3.0 fsspec-2022.3.0 huggingface-hub-0.5.1 icecream-2.1.2 multidict-6.0.2 pyyaml-6.0 responses-0.18.0 sacremoses-0.0.49 sty-1.0.4 tokenizers-0.12.1 transformers-4.18.0 urllib3-1.25.11 xxhash-3.0.0 yarl-1.7.2\n",
      "models\tmusicnlp  notebook\n",
      "env: PYTORCH_CUDA_ALLOC_CONF=max_split_size_mb:128\n",
      "Mon Apr 18 08:55:44 2022       \n",
      "+-----------------------------------------------------------------------------+\n",
      "| NVIDIA-SMI 460.32.03    Driver Version: 460.32.03    CUDA Version: 11.2     |\n",
      "|-------------------------------+----------------------+----------------------+\n",
      "| GPU  Name        Persistence-M| Bus-Id        Disp.A | Volatile Uncorr. ECC |\n",
      "| Fan  Temp  Perf  Pwr:Usage/Cap|         Memory-Usage | GPU-Util  Compute M. |\n",
      "|                               |                      |               MIG M. |\n",
      "|===============================+======================+======================|\n",
      "|   0  Tesla P100-PCIE...  Off  | 00000000:00:04.0 Off |                    0 |\n",
      "| N/A   38C    P0    27W / 250W |      2MiB / 16280MiB |      0%      Default |\n",
      "|                               |                      |                  N/A |\n",
      "+-------------------------------+----------------------+----------------------+\n",
      "                                                                               \n",
      "+-----------------------------------------------------------------------------+\n",
      "| Processes:                                                                  |\n",
      "|  GPU   GI   CI        PID   Type   Process name                  GPU Memory |\n",
      "|        ID   ID                                                   Usage      |\n",
      "|=============================================================================|\n",
      "|  No running processes found                                                 |\n",
      "+-----------------------------------------------------------------------------+\n"
     ]
    },
    {
     "output_type": "stream",
     "name": "stderr",
     "text": [
      "ic| PATH_BASE: 'drive/My Drive/Research/Music with NLP'\n",
      "    DIR_PROJ: 'Symbolic-Music-Generation'\n",
      "    PKG_NM: 'musicnlp'\n"
     ]
    },
    {
     "output_type": "execute_result",
     "data": {
      "text/plain": [
       "('drive/My Drive/Research/Music with NLP',\n",
       " 'Symbolic-Music-Generation',\n",
       " 'musicnlp')"
      ]
     },
     "metadata": {},
     "execution_count": 4
    }
   ],
   "source": [
    "import os\n",
    "import sys\n",
    "\n",
    "import torch\n",
    "\n",
    "\n",
    "if 'google.colab' in sys.modules:\n",
    "    from google.colab import drive\n",
    "    drive.mount('/content/drive')\n",
    "\n",
    "    ! pip3 install sty icecream music21 transformers datasets\n",
    "\n",
    "    path = os.path.join('drive', 'My Drive', 'Research', 'Music with NLP', 'Symbolic-Music-Generation')\n",
    "    sys.path.append(path)\n",
    "    ! ls \"{path}\"\n",
    "\n",
    "\n",
    "    import time, os\n",
    "    os.environ['TZ'] = 'US/Eastern'\n",
    "    time.tzset()\n",
    "\n",
    "    if torch.cuda.is_available():\n",
    "        %env PYTORCH_CUDA_ALLOC_CONF=max_split_size_mb:128\n",
    "\n",
    "if torch.cuda.is_available():\n",
    "    ! nvidia-smi\n",
    "\n",
    "\n",
    "from icecream import ic\n",
    "\n",
    "from musicnlp.util import *\n",
    "\n",
    "ic(u.proj_dir, u.pkg_nm)\n",
    "\n"
   ],
   "metadata": {
    "pycharm": {
     "name": "#%%\n"
    },
    "id": "5eDs7Grn7o0p",
    "colab": {
     "base_uri": "https://localhost:8080/"
    },
    "executionInfo": {
     "status": "ok",
     "timestamp": 1650286559365,
     "user_tz": 240,
     "elapsed": 41191,
     "user": {
      "displayName": "Stefan Heng",
      "userId": "11931699939643661721"
     }
    },
    "outputId": "16563cfe-2315-4cb2-da3e-fb7daec24b9d"
   }
  },
  {
   "cell_type": "markdown",
   "source": [
    "### code"
   ],
   "metadata": {
    "collapsed": false,
    "id": "UbrzCORh7o0q",
    "pycharm": {
     "name": "#%% md\n"
    }
   }
  },
  {
   "cell_type": "code",
   "execution_count": 5,
   "metadata": {
    "collapsed": true,
    "id": "_-JUzdbX7o0q",
    "executionInfo": {
     "status": "ok",
     "timestamp": 1650286559365,
     "user_tz": 240,
     "elapsed": 7,
     "user": {
      "displayName": "Stefan Heng",
      "userId": "11931699939643661721"
     }
    },
    "pycharm": {
     "name": "#%%\n"
    }
   },
   "outputs": [],
   "source": [
    "import transformers\n",
    "\n",
    "from musicnlp.trainer import train\n",
    "\n",
    "transformers.set_seed(sconfig('random-seed'))\n",
    "\n"
   ]
  },
  {
   "cell_type": "markdown",
   "source": [
    "## Prep for training\n"
   ],
   "metadata": {
    "collapsed": false,
    "id": "TlHnNRf77o0q",
    "pycharm": {
     "name": "#%% md\n"
    }
   }
  },
  {
   "cell_type": "code",
   "execution_count": 6,
   "outputs": [
    {
     "output_type": "display_data",
     "data": {
      "text/plain": [
       "Downloading builder script:   0%|          | 0.00/1.41k [00:00<?, ?B/s]"
      ],
      "application/vnd.jupyter.widget-view+json": {
       "version_major": 2,
       "version_minor": 0,
       "model_id": "4eed0b4020114aa597ab84f095b2f5b0"
      }
     },
     "metadata": {}
    }
   ],
   "source": [
    "md_nm = 'transf-xl'\n",
    "# md_sz = 'debug'\n",
    "# md_sz = 'tiny'\n",
    "md_sz = 'base'\n",
    "\n",
    "\n",
    "augment_key = False\n",
    "dnm_909 = 'musicnlp music extraction, dnm=POP909, n=909, ' \\\n",
    "          'meta={mode=melody, prec=5, th=1}, 2022-04-16_20-28-47'\n",
    "dnm_lmd = 'musicnlp music extraction, dnm=LMD-cleaned-subset, n=10269, ' \\\n",
    "          'meta={mode=melody, prec=5, th=1}, 2022-04-17_11-52-15'\n",
    "# dnms = [dnm_909, dnm_lmd]\n",
    "dnms = [dnm_909]\n",
    "\n",
    "\n",
    "if md_sz == 'debug':\n",
    "    n = 32\n",
    "    train_args = dict(\n",
    "        per_device_train_batch_size=4,\n",
    "        # save_strategy='no',\n",
    "        save_strategy='epoch',\n",
    "        num_train_epochs=64,\n",
    "    )\n",
    "    my_train_args = dict(\n",
    "        logging_strategy='epoch',\n",
    "        save_epochs=16,\n",
    "        tqdm='train-only',\n",
    "        augment_key=augment_key\n",
    "    )\n",
    "elif md_sz == 'tiny':\n",
    "    n = 64\n",
    "    train_args = dict(\n",
    "        per_device_train_batch_size=32,\n",
    "        save_strategy='epoch',\n",
    "        num_train_epochs=64,\n",
    "    )\n",
    "    my_train_args = dict(\n",
    "        save_epochs=16,\n",
    "        tqdm='train-only',\n",
    "        augment_key=augment_key\n",
    ")\n",
    "else:\n",
    "    n = None\n",
    "    train_args = dict(\n",
    "        num_train_epochs=64,\n",
    "        per_device_train_batch_size=32,\n",
    "    )\n",
    "    my_train_args = dict(\n",
    "        fp16=torch.cuda.is_available(),\n",
    "        logging_strategy='epoch',\n",
    "        save_epochs=2,\n",
    "        tqdm='train-only',\n",
    "        augment_key=augment_key\n",
    "    )\n",
    "\n",
    "mdl, tokenizer, trainer = train.get_all_setup(\n",
    "    model_name=md_nm, model_size=md_sz, dataset_names=dnms, n_sample=n,\n",
    "    train_args=train_args, my_train_args=my_train_args\n",
    ")\n",
    "\n"
   ],
   "metadata": {
    "pycharm": {
     "name": "#%%\n"
    },
    "id": "cInOvMJ77o0r",
    "colab": {
     "base_uri": "https://localhost:8080/",
     "height": 49,
     "referenced_widgets": [
      "4eed0b4020114aa597ab84f095b2f5b0",
      "57a21725596f4581850134186657db83",
      "1716d570d1e04ef0b4a8f7feade5b1f6",
      "1b7f23e09ffb42e0bb9f4a6028a8f291",
      "c6ad781345f64e7bad9a0b3f11819f76",
      "d4b606dd065e47c0be72bbc0c4e3a10a",
      "312d2f3619b44c5babf0280b0da0587f",
      "5f68f7d0dd61455abb3bdfe2d066c38f",
      "7ca5c001961f43dca8d1cadbf4aae5f0",
      "8bbc18cd2e6d4c6f83b3070cb322278d",
      "d2a72e32c92a4dd0b946218720fc8982"
     ]
    },
    "executionInfo": {
     "status": "ok",
     "timestamp": 1650286577276,
     "user_tz": 240,
     "elapsed": 17916,
     "user": {
      "displayName": "Stefan Heng",
      "userId": "11931699939643661721"
     }
    },
    "outputId": "d0435e71-e05c-4de7-e925-97fa4679e044"
   }
  },
  {
   "cell_type": "markdown",
   "source": [
    "## Train\n"
   ],
   "metadata": {
    "collapsed": false,
    "id": "mlHy9l0t7o0s",
    "pycharm": {
     "name": "#%% md\n"
    }
   }
  },
  {
   "cell_type": "markdown",
   "source": [
    "Check log and tensorboard files written\n",
    "\n"
   ],
   "metadata": {
    "collapsed": false,
    "id": "mcYIibVI7o0t",
    "pycharm": {
     "name": "#%% md\n"
    }
   }
  },
  {
   "cell_type": "code",
   "execution_count": null,
   "outputs": [
    {
     "output_type": "stream",
     "name": "stdout",
     "text": [
      "\u001B[38;2;0;186;142m2022-04-18 08:56:30\u001B[38;2;97;175;239m|\u001B[39m\u001B[49m\u001B[22m\u001B[23m\u001B[24m\u001B[25m\u001B[27m\u001B[28m\u001B[29m\u001B[38;2;198;120;221m[ReformerModelWithLMHead Training]\u001B[38;2;97;175;239m::\u001B[38;2;198;120;221mon_train_begin\u001B[38;2;97;175;239m::\u001B[38;2;198;120;221mtrain.py\u001B[38;2;97;175;239m:\u001B[38;2;198;120;221m275\u001B[38;2;97;175;239m, \u001B[39m\u001B[49m\u001B[22m\u001B[23m\u001B[24m\u001B[25m\u001B[27m\u001B[28m\u001B[29mINFO\u001B[39m\u001B[49m\u001B[22m\u001B[23m\u001B[24m\u001B[25m\u001B[27m\u001B[28m\u001B[29m\u001B[38;2;97;175;239m - \u001B[39m\u001B[49m\u001B[22m\u001B[23m\u001B[24m\u001B[25m\u001B[27m\u001B[28m\u001B[29mTraining started with model \u001B[35m{\u001B[39m\u001B[49m\u001B[0mmodel name: \u001B[34mReformerModelWithLMHead\u001B[39m\u001B[49m\u001B[0m, max length: \u001B[34m2048\u001B[39m\u001B[49m\u001B[0m, axial_pos_shape: \u001B[34m(32, 64)\u001B[39m\u001B[49m\u001B[0m, n_layer: \u001B[34m12\u001B[39m\u001B[49m\u001B[0m, hidden_size: \u001B[34m768\u001B[39m\u001B[49m\u001B[0m, ff_size: \u001B[34m3072\u001B[39m\u001B[49m\u001B[0m, attention_shape: \u001B[34m12x64\u001B[39m\u001B[49m\u001B[0m, parameter_count: \u001B[34m39.9M\u001B[39m\u001B[49m\u001B[0m\u001B[35m}\u001B[39m\u001B[49m\u001B[0m, {\n",
      "    \u001B[94m\"hash_seed\"\u001B[39;49;00m: \u001B[34mnull\u001B[39;49;00m,\n",
      "    \u001B[94m\"vocab_size\"\u001B[39;49;00m: \u001B[34m462\u001B[39;49;00m,\n",
      "    \u001B[94m\"attention_head_size\"\u001B[39;49;00m: \u001B[34m64\u001B[39;49;00m,\n",
      "    \u001B[94m\"hidden_size\"\u001B[39;49;00m: \u001B[34m768\u001B[39;49;00m,\n",
      "    \u001B[94m\"num_attention_heads\"\u001B[39;49;00m: \u001B[34m12\u001B[39;49;00m,\n",
      "    \u001B[94m\"num_hashes\"\u001B[39;49;00m: \u001B[34m2\u001B[39;49;00m,\n",
      "    \u001B[94m\"num_hidden_layers\"\u001B[39;49;00m: \u001B[34m6\u001B[39;49;00m,\n",
      "    \u001B[94m\"num_buckets\"\u001B[39;49;00m: \u001B[34mnull\u001B[39;49;00m,\n",
      "    \u001B[94m\"lsh_attn_chunk_length\"\u001B[39;49;00m: \u001B[34m64\u001B[39;49;00m,\n",
      "    \u001B[94m\"local_attn_chunk_length\"\u001B[39;49;00m: \u001B[34m64\u001B[39;49;00m,\n",
      "    \u001B[94m\"lsh_num_chunks_after\"\u001B[39;49;00m: \u001B[34m0\u001B[39;49;00m,\n",
      "    \u001B[94m\"lsh_num_chunks_before\"\u001B[39;49;00m: \u001B[34m1\u001B[39;49;00m,\n",
      "    \u001B[94m\"local_num_chunks_after\"\u001B[39;49;00m: \u001B[34m0\u001B[39;49;00m,\n",
      "    \u001B[94m\"local_num_chunks_before\"\u001B[39;49;00m: \u001B[34m1\u001B[39;49;00m,\n",
      "    \u001B[94m\"hidden_act\"\u001B[39;49;00m: \u001B[33m\"relu\"\u001B[39;49;00m,\n",
      "    \u001B[94m\"feed_forward_size\"\u001B[39;49;00m: \u001B[34m3072\u001B[39;49;00m,\n",
      "    \u001B[94m\"hidden_dropout_prob\"\u001B[39;49;00m: \u001B[34m0.05\u001B[39;49;00m,\n",
      "    \u001B[94m\"lsh_attention_probs_dropout_prob\"\u001B[39;49;00m: \u001B[34m0.0\u001B[39;49;00m,\n",
      "    \u001B[94m\"local_attention_probs_dropout_prob\"\u001B[39;49;00m: \u001B[34m0.05\u001B[39;49;00m,\n",
      "    \u001B[94m\"max_position_embeddings\"\u001B[39;49;00m: \u001B[34m2048\u001B[39;49;00m,\n",
      "    \u001B[94m\"initializer_range\"\u001B[39;49;00m: \u001B[34m0.02\u001B[39;49;00m,\n",
      "    \u001B[94m\"layer_norm_eps\"\u001B[39;49;00m: \u001B[34m1e-12\u001B[39;49;00m,\n",
      "    \u001B[94m\"axial_pos_embds\"\u001B[39;49;00m: \u001B[34mtrue\u001B[39;49;00m,\n",
      "    \u001B[94m\"axial_pos_shape\"\u001B[39;49;00m: [\n",
      "        \u001B[34m32\u001B[39;49;00m,\n",
      "        \u001B[34m64\u001B[39;49;00m\n",
      "    ],\n",
      "    \u001B[94m\"axial_pos_embds_dim\"\u001B[39;49;00m: [\n",
      "        \u001B[34m192\u001B[39;49;00m,\n",
      "        \u001B[34m576\u001B[39;49;00m\n",
      "    ],\n",
      "    \u001B[94m\"axial_norm_std\"\u001B[39;49;00m: \u001B[34m1.0\u001B[39;49;00m,\n",
      "    \u001B[94m\"chunk_size_lm_head\"\u001B[39;49;00m: \u001B[34m0\u001B[39;49;00m,\n",
      "    \u001B[94m\"attn_layers\"\u001B[39;49;00m: [\n",
      "        \u001B[33m\"local\"\u001B[39;49;00m,\n",
      "        \u001B[33m\"lsh\"\u001B[39;49;00m,\n",
      "        \u001B[33m\"local\"\u001B[39;49;00m,\n",
      "        \u001B[33m\"lsh\"\u001B[39;49;00m,\n",
      "        \u001B[33m\"local\"\u001B[39;49;00m,\n",
      "        \u001B[33m\"lsh\"\u001B[39;49;00m,\n",
      "        \u001B[33m\"local\"\u001B[39;49;00m,\n",
      "        \u001B[33m\"lsh\"\u001B[39;49;00m,\n",
      "        \u001B[33m\"local\"\u001B[39;49;00m,\n",
      "        \u001B[33m\"lsh\"\u001B[39;49;00m,\n",
      "        \u001B[33m\"local\"\u001B[39;49;00m,\n",
      "        \u001B[33m\"lsh\"\u001B[39;49;00m\n",
      "    ],\n",
      "    \u001B[94m\"use_cache\"\u001B[39;49;00m: \u001B[34mtrue\u001B[39;49;00m,\n",
      "    \u001B[94m\"classifier_dropout\"\u001B[39;49;00m: \u001B[34mnull\u001B[39;49;00m,\n",
      "    \u001B[94m\"return_dict\"\u001B[39;49;00m: \u001B[34mtrue\u001B[39;49;00m,\n",
      "    \u001B[94m\"output_hidden_states\"\u001B[39;49;00m: \u001B[34mfalse\u001B[39;49;00m,\n",
      "    \u001B[94m\"output_attentions\"\u001B[39;49;00m: \u001B[34mfalse\u001B[39;49;00m,\n",
      "    \u001B[94m\"torchscript\"\u001B[39;49;00m: \u001B[34mfalse\u001B[39;49;00m,\n",
      "    \u001B[94m\"torch_dtype\"\u001B[39;49;00m: \u001B[34mnull\u001B[39;49;00m,\n",
      "    \u001B[94m\"use_bfloat16\"\u001B[39;49;00m: \u001B[34mfalse\u001B[39;49;00m,\n",
      "    \u001B[94m\"pruned_heads\"\u001B[39;49;00m: {},\n",
      "    \u001B[94m\"tie_word_embeddings\"\u001B[39;49;00m: \u001B[34mfalse\u001B[39;49;00m,\n",
      "    \u001B[94m\"is_encoder_decoder\"\u001B[39;49;00m: \u001B[34mfalse\u001B[39;49;00m,\n",
      "    \u001B[94m\"is_decoder\"\u001B[39;49;00m: \u001B[34mtrue\u001B[39;49;00m,\n",
      "    \u001B[94m\"cross_attention_hidden_size\"\u001B[39;49;00m: \u001B[34mnull\u001B[39;49;00m,\n",
      "    \u001B[94m\"add_cross_attention\"\u001B[39;49;00m: \u001B[34mfalse\u001B[39;49;00m,\n",
      "    \u001B[94m\"tie_encoder_decoder\"\u001B[39;49;00m: \u001B[34mfalse\u001B[39;49;00m,\n",
      "    \u001B[94m\"max_length\"\u001B[39;49;00m: \u001B[34m20\u001B[39;49;00m,\n",
      "    \u001B[94m\"min_length\"\u001B[39;49;00m: \u001B[34m0\u001B[39;49;00m,\n",
      "    \u001B[94m\"do_sample\"\u001B[39;49;00m: \u001B[34mfalse\u001B[39;49;00m,\n",
      "    \u001B[94m\"early_stopping\"\u001B[39;49;00m: \u001B[34mfalse\u001B[39;49;00m,\n",
      "    \u001B[94m\"num_beams\"\u001B[39;49;00m: \u001B[34m1\u001B[39;49;00m,\n",
      "    \u001B[94m\"num_beam_groups\"\u001B[39;49;00m: \u001B[34m1\u001B[39;49;00m,\n",
      "    \u001B[94m\"diversity_penalty\"\u001B[39;49;00m: \u001B[34m0.0\u001B[39;49;00m,\n",
      "    \u001B[94m\"temperature\"\u001B[39;49;00m: \u001B[34m1.0\u001B[39;49;00m,\n",
      "    \u001B[94m\"top_k\"\u001B[39;49;00m: \u001B[34m50\u001B[39;49;00m,\n",
      "    \u001B[94m\"top_p\"\u001B[39;49;00m: \u001B[34m1.0\u001B[39;49;00m,\n",
      "    \u001B[94m\"typical_p\"\u001B[39;49;00m: \u001B[34m1.0\u001B[39;49;00m,\n",
      "    \u001B[94m\"repetition_penalty\"\u001B[39;49;00m: \u001B[34m1.0\u001B[39;49;00m,\n",
      "    \u001B[94m\"length_penalty\"\u001B[39;49;00m: \u001B[34m1.0\u001B[39;49;00m,\n",
      "    \u001B[94m\"no_repeat_ngram_size\"\u001B[39;49;00m: \u001B[34m0\u001B[39;49;00m,\n",
      "    \u001B[94m\"encoder_no_repeat_ngram_size\"\u001B[39;49;00m: \u001B[34m0\u001B[39;49;00m,\n",
      "    \u001B[94m\"bad_words_ids\"\u001B[39;49;00m: \u001B[34mnull\u001B[39;49;00m,\n",
      "    \u001B[94m\"num_return_sequences\"\u001B[39;49;00m: \u001B[34m1\u001B[39;49;00m,\n",
      "    \u001B[94m\"chunk_size_feed_forward\"\u001B[39;49;00m: \u001B[34m0\u001B[39;49;00m,\n",
      "    \u001B[94m\"output_scores\"\u001B[39;49;00m: \u001B[34mfalse\u001B[39;49;00m,\n",
      "    \u001B[94m\"return_dict_in_generate\"\u001B[39;49;00m: \u001B[34mfalse\u001B[39;49;00m,\n",
      "    \u001B[94m\"forced_bos_token_id\"\u001B[39;49;00m: \u001B[34mnull\u001B[39;49;00m,\n",
      "    \u001B[94m\"forced_eos_token_id\"\u001B[39;49;00m: \u001B[34mnull\u001B[39;49;00m,\n",
      "    \u001B[94m\"remove_invalid_values\"\u001B[39;49;00m: \u001B[34mfalse\u001B[39;49;00m,\n",
      "    \u001B[94m\"exponential_decay_length_penalty\"\u001B[39;49;00m: \u001B[34mnull\u001B[39;49;00m,\n",
      "    \u001B[94m\"architectures\"\u001B[39;49;00m: \u001B[34mnull\u001B[39;49;00m,\n",
      "    \u001B[94m\"finetuning_task\"\u001B[39;49;00m: \u001B[34mnull\u001B[39;49;00m,\n",
      "    \u001B[94m\"id2label\"\u001B[39;49;00m: {\n",
      "        \u001B[94m\"0\"\u001B[39;49;00m: \u001B[33m\"LABEL_0\"\u001B[39;49;00m,\n",
      "        \u001B[94m\"1\"\u001B[39;49;00m: \u001B[33m\"LABEL_1\"\u001B[39;49;00m\n",
      "    },\n",
      "    \u001B[94m\"label2id\"\u001B[39;49;00m: {\n",
      "        \u001B[94m\"LABEL_0\"\u001B[39;49;00m: \u001B[34m0\u001B[39;49;00m,\n",
      "        \u001B[94m\"LABEL_1\"\u001B[39;49;00m: \u001B[34m1\u001B[39;49;00m\n",
      "    },\n",
      "    \u001B[94m\"tokenizer_class\"\u001B[39;49;00m: \u001B[34mnull\u001B[39;49;00m,\n",
      "    \u001B[94m\"prefix\"\u001B[39;49;00m: \u001B[34mnull\u001B[39;49;00m,\n",
      "    \u001B[94m\"bos_token_id\"\u001B[39;49;00m: \u001B[34mnull\u001B[39;49;00m,\n",
      "    \u001B[94m\"pad_token_id\"\u001B[39;49;00m: \u001B[34m4\u001B[39;49;00m,\n",
      "    \u001B[94m\"eos_token_id\"\u001B[39;49;00m: \u001B[34m0\u001B[39;49;00m,\n",
      "    \u001B[94m\"sep_token_id\"\u001B[39;49;00m: \u001B[34mnull\u001B[39;49;00m,\n",
      "    \u001B[94m\"decoder_start_token_id\"\u001B[39;49;00m: \u001B[34mnull\u001B[39;49;00m,\n",
      "    \u001B[94m\"task_specific_params\"\u001B[39;49;00m: \u001B[34mnull\u001B[39;49;00m,\n",
      "    \u001B[94m\"problem_type\"\u001B[39;49;00m: \u001B[34mnull\u001B[39;49;00m,\n",
      "    \u001B[94m\"_name_or_path\"\u001B[39;49;00m: \u001B[33m\"\"\u001B[39;49;00m,\n",
      "    \u001B[94m\"transformers_version\"\u001B[39;49;00m: \u001B[33m\"4.18.0\"\u001B[39;49;00m,\n",
      "    \u001B[94m\"model_type\"\u001B[39;49;00m: \u001B[33m\"reformer\"\u001B[39;49;00m\n",
      "}\n",
      " on \u001B[35m{\u001B[39m\u001B[49m\u001B[0m#data: \u001B[34m10953\u001B[39m\u001B[49m\u001B[0m, batch shape: \u001B[34m(32, 2048)\u001B[39m\u001B[49m\u001B[0m, #epochs: \u001B[34m64\u001B[39m\u001B[49m\u001B[0m, #steps: \u001B[34m21952\u001B[39m\u001B[49m\u001B[0m, learning rate: \u001B[34m0.0003\u001B[39m\u001B[49m\u001B[0m\u001B[35m}\u001B[39m\u001B[49m\u001B[0m with training args {\n",
      "    \u001B[94m\"output_dir\"\u001B[39;49;00m: \u001B[33m\"drive/My Drive/Research/Music with NLP/Symbolic-Music-Generation/models/reformer/2022-04-18_08-56-05\"\u001B[39;49;00m,\n",
      "    \u001B[94m\"overwrite_output_dir\"\u001B[39;49;00m: \u001B[34mfalse\u001B[39;49;00m,\n",
      "    \u001B[94m\"do_train\"\u001B[39;49;00m: \u001B[34mtrue\u001B[39;49;00m,\n",
      "    \u001B[94m\"do_eval\"\u001B[39;49;00m: \u001B[34mtrue\u001B[39;49;00m,\n",
      "    \u001B[94m\"do_predict\"\u001B[39;49;00m: \u001B[34mfalse\u001B[39;49;00m,\n",
      "    \u001B[94m\"evaluation_strategy\"\u001B[39;49;00m: \u001B[33m\"epoch\"\u001B[39;49;00m,\n",
      "    \u001B[94m\"prediction_loss_only\"\u001B[39;49;00m: \u001B[34mfalse\u001B[39;49;00m,\n",
      "    \u001B[94m\"per_device_train_batch_size\"\u001B[39;49;00m: \u001B[34m32\u001B[39;49;00m,\n",
      "    \u001B[94m\"per_device_eval_batch_size\"\u001B[39;49;00m: \u001B[34m32\u001B[39;49;00m,\n",
      "    \u001B[94m\"per_gpu_train_batch_size\"\u001B[39;49;00m: \u001B[34mnull\u001B[39;49;00m,\n",
      "    \u001B[94m\"per_gpu_eval_batch_size\"\u001B[39;49;00m: \u001B[34mnull\u001B[39;49;00m,\n",
      "    \u001B[94m\"gradient_accumulation_steps\"\u001B[39;49;00m: \u001B[34m1\u001B[39;49;00m,\n",
      "    \u001B[94m\"eval_accumulation_steps\"\u001B[39;49;00m: \u001B[34m1\u001B[39;49;00m,\n",
      "    \u001B[94m\"eval_delay\"\u001B[39;49;00m: \u001B[34m0\u001B[39;49;00m,\n",
      "    \u001B[94m\"learning_rate\"\u001B[39;49;00m: \u001B[34m0.0003\u001B[39;49;00m,\n",
      "    \u001B[94m\"weight_decay\"\u001B[39;49;00m: \u001B[34m0.01\u001B[39;49;00m,\n",
      "    \u001B[94m\"adam_beta1\"\u001B[39;49;00m: \u001B[34m0.9\u001B[39;49;00m,\n",
      "    \u001B[94m\"adam_beta2\"\u001B[39;49;00m: \u001B[34m0.999\u001B[39;49;00m,\n",
      "    \u001B[94m\"adam_epsilon\"\u001B[39;49;00m: \u001B[34m1e-08\u001B[39;49;00m,\n",
      "    \u001B[94m\"max_grad_norm\"\u001B[39;49;00m: \u001B[34m1\u001B[39;49;00m,\n",
      "    \u001B[94m\"num_train_epochs\"\u001B[39;49;00m: \u001B[34m64\u001B[39;49;00m,\n",
      "    \u001B[94m\"max_steps\"\u001B[39;49;00m: \u001B[34m-1\u001B[39;49;00m,\n",
      "    \u001B[94m\"lr_scheduler_type\"\u001B[39;49;00m: \u001B[33m\"cosine\"\u001B[39;49;00m,\n",
      "    \u001B[94m\"warmup_ratio\"\u001B[39;49;00m: \u001B[34m0.1\u001B[39;49;00m,\n",
      "    \u001B[94m\"warmup_steps\"\u001B[39;49;00m: \u001B[34m0\u001B[39;49;00m,\n",
      "    \u001B[94m\"log_level\"\u001B[39;49;00m: \u001B[34m30\u001B[39;49;00m,\n",
      "    \u001B[94m\"log_level_replica\"\u001B[39;49;00m: \u001B[34m-1\u001B[39;49;00m,\n",
      "    \u001B[94m\"log_on_each_node\"\u001B[39;49;00m: \u001B[34mtrue\u001B[39;49;00m,\n",
      "    \u001B[94m\"logging_dir\"\u001B[39;49;00m: \u001B[33m\"drive/My Drive/Research/Music with NLP/Symbolic-Music-Generation/models/reformer/2022-04-18_08-56-05/runs/Apr18_08-56-05_c65987901886\"\u001B[39;49;00m,\n",
      "    \u001B[94m\"logging_strategy\"\u001B[39;49;00m: \u001B[33m\"steps\"\u001B[39;49;00m,\n",
      "    \u001B[94m\"logging_first_step\"\u001B[39;49;00m: \u001B[34mfalse\u001B[39;49;00m,\n",
      "    \u001B[94m\"logging_steps\"\u001B[39;49;00m: \u001B[34m1\u001B[39;49;00m,\n",
      "    \u001B[94m\"logging_nan_inf_filter\"\u001B[39;49;00m: \u001B[34mtrue\u001B[39;49;00m,\n",
      "    \u001B[94m\"save_strategy\"\u001B[39;49;00m: \u001B[33m\"steps\"\u001B[39;49;00m,\n",
      "    \u001B[94m\"save_steps\"\u001B[39;49;00m: \u001B[34m686\u001B[39;49;00m,\n",
      "    \u001B[94m\"save_total_limit\"\u001B[39;49;00m: \u001B[34mnull\u001B[39;49;00m,\n",
      "    \u001B[94m\"save_on_each_node\"\u001B[39;49;00m: \u001B[34mfalse\u001B[39;49;00m,\n",
      "    \u001B[94m\"no_cuda\"\u001B[39;49;00m: \u001B[34mfalse\u001B[39;49;00m,\n",
      "    \u001B[94m\"seed\"\u001B[39;49;00m: \u001B[34m42\u001B[39;49;00m,\n",
      "    \u001B[94m\"data_seed\"\u001B[39;49;00m: \u001B[34mnull\u001B[39;49;00m,\n",
      "    \u001B[94m\"bf16\"\u001B[39;49;00m: \u001B[34mfalse\u001B[39;49;00m,\n",
      "    \u001B[94m\"fp16\"\u001B[39;49;00m: \u001B[34mtrue\u001B[39;49;00m,\n",
      "    \u001B[94m\"fp16_opt_level\"\u001B[39;49;00m: \u001B[33m\"O1\"\u001B[39;49;00m,\n",
      "    \u001B[94m\"half_precision_backend\"\u001B[39;49;00m: \u001B[33m\"amp\"\u001B[39;49;00m,\n",
      "    \u001B[94m\"bf16_full_eval\"\u001B[39;49;00m: \u001B[34mfalse\u001B[39;49;00m,\n",
      "    \u001B[94m\"fp16_full_eval\"\u001B[39;49;00m: \u001B[34mfalse\u001B[39;49;00m,\n",
      "    \u001B[94m\"tf32\"\u001B[39;49;00m: \u001B[34mnull\u001B[39;49;00m,\n",
      "    \u001B[94m\"local_rank\"\u001B[39;49;00m: \u001B[34m-1\u001B[39;49;00m,\n",
      "    \u001B[94m\"xpu_backend\"\u001B[39;49;00m: \u001B[34mnull\u001B[39;49;00m,\n",
      "    \u001B[94m\"tpu_num_cores\"\u001B[39;49;00m: \u001B[34mnull\u001B[39;49;00m,\n",
      "    \u001B[94m\"tpu_metrics_debug\"\u001B[39;49;00m: \u001B[34mfalse\u001B[39;49;00m,\n",
      "    \u001B[94m\"debug\"\u001B[39;49;00m: [],\n",
      "    \u001B[94m\"dataloader_drop_last\"\u001B[39;49;00m: \u001B[34mfalse\u001B[39;49;00m,\n",
      "    \u001B[94m\"eval_steps\"\u001B[39;49;00m: \u001B[34mnull\u001B[39;49;00m,\n",
      "    \u001B[94m\"dataloader_num_workers\"\u001B[39;49;00m: \u001B[34m0\u001B[39;49;00m,\n",
      "    \u001B[94m\"past_index\"\u001B[39;49;00m: \u001B[34m-1\u001B[39;49;00m,\n",
      "    \u001B[94m\"run_name\"\u001B[39;49;00m: \u001B[33m\"drive/My Drive/Research/Music with NLP/Symbolic-Music-Generation/models/reformer/2022-04-18_08-56-05\"\u001B[39;49;00m,\n",
      "    \u001B[94m\"disable_tqdm\"\u001B[39;49;00m: \u001B[34mtrue\u001B[39;49;00m,\n",
      "    \u001B[94m\"remove_unused_columns\"\u001B[39;49;00m: \u001B[34mtrue\u001B[39;49;00m,\n",
      "    \u001B[94m\"label_names\"\u001B[39;49;00m: \u001B[34mnull\u001B[39;49;00m,\n",
      "    \u001B[94m\"load_best_model_at_end\"\u001B[39;49;00m: \u001B[34mfalse\u001B[39;49;00m,\n",
      "    \u001B[94m\"metric_for_best_model\"\u001B[39;49;00m: \u001B[34mnull\u001B[39;49;00m,\n",
      "    \u001B[94m\"greater_is_better\"\u001B[39;49;00m: \u001B[34mnull\u001B[39;49;00m,\n",
      "    \u001B[94m\"ignore_data_skip\"\u001B[39;49;00m: \u001B[34mfalse\u001B[39;49;00m,\n",
      "    \u001B[94m\"sharded_ddp\"\u001B[39;49;00m: [],\n",
      "    \u001B[94m\"deepspeed\"\u001B[39;49;00m: \u001B[34mnull\u001B[39;49;00m,\n",
      "    \u001B[94m\"label_smoothing_factor\"\u001B[39;49;00m: \u001B[34m0.0\u001B[39;49;00m,\n",
      "    \u001B[94m\"optim\"\u001B[39;49;00m: \u001B[33m\"adamw_torch\"\u001B[39;49;00m,\n",
      "    \u001B[94m\"adafactor\"\u001B[39;49;00m: \u001B[34mfalse\u001B[39;49;00m,\n",
      "    \u001B[94m\"group_by_length\"\u001B[39;49;00m: \u001B[34mfalse\u001B[39;49;00m,\n",
      "    \u001B[94m\"length_column_name\"\u001B[39;49;00m: \u001B[33m\"length\"\u001B[39;49;00m,\n",
      "    \u001B[94m\"report_to\"\u001B[39;49;00m: [],\n",
      "    \u001B[94m\"ddp_find_unused_parameters\"\u001B[39;49;00m: \u001B[34mnull\u001B[39;49;00m,\n",
      "    \u001B[94m\"ddp_bucket_cap_mb\"\u001B[39;49;00m: \u001B[34mnull\u001B[39;49;00m,\n",
      "    \u001B[94m\"dataloader_pin_memory\"\u001B[39;49;00m: \u001B[34mtrue\u001B[39;49;00m,\n",
      "    \u001B[94m\"skip_memory_metrics\"\u001B[39;49;00m: \u001B[34mtrue\u001B[39;49;00m,\n",
      "    \u001B[94m\"use_legacy_prediction_loop\"\u001B[39;49;00m: \u001B[34mfalse\u001B[39;49;00m,\n",
      "    \u001B[94m\"push_to_hub\"\u001B[39;49;00m: \u001B[34mfalse\u001B[39;49;00m,\n",
      "    \u001B[94m\"resume_from_checkpoint\"\u001B[39;49;00m: \u001B[34mnull\u001B[39;49;00m,\n",
      "    \u001B[94m\"hub_model_id\"\u001B[39;49;00m: \u001B[34mnull\u001B[39;49;00m,\n",
      "    \u001B[94m\"hub_strategy\"\u001B[39;49;00m: \u001B[33m\"every_save\"\u001B[39;49;00m,\n",
      "    \u001B[94m\"hub_token\"\u001B[39;49;00m: \u001B[33m\"<HUB_TOKEN>\"\u001B[39;49;00m,\n",
      "    \u001B[94m\"gradient_checkpointing\"\u001B[39;49;00m: \u001B[34mfalse\u001B[39;49;00m,\n",
      "    \u001B[94m\"fp16_backend\"\u001B[39;49;00m: \u001B[33m\"auto\"\u001B[39;49;00m,\n",
      "    \u001B[94m\"push_to_hub_model_id\"\u001B[39;49;00m: \u001B[34mnull\u001B[39;49;00m,\n",
      "    \u001B[94m\"push_to_hub_organization\"\u001B[39;49;00m: \u001B[34mnull\u001B[39;49;00m,\n",
      "    \u001B[94m\"push_to_hub_token\"\u001B[39;49;00m: \u001B[33m\"<PUSH_TO_HUB_TOKEN>\"\u001B[39;49;00m,\n",
      "    \u001B[94m\"_n_gpu\"\u001B[39;49;00m: \u001B[34m1\u001B[39;49;00m,\n",
      "    \u001B[94m\"mp_parameters\"\u001B[39;49;00m: \u001B[33m\"\"\u001B[39;49;00m\n",
      "}\n",
      " and my training args \u001B[35m{\u001B[39m\u001B[49m\u001B[0mlogging_strategy: \u001B[34mepoch\u001B[39m\u001B[49m\u001B[0m, tqdm: \u001B[34mtrain-only\u001B[39m\u001B[49m\u001B[0m, augment_key: \u001B[34mTrue\u001B[39m\u001B[49m\u001B[0m, fp16: \u001B[34mTrue\u001B[39m\u001B[49m\u001B[0m, save_epochs: \u001B[34m2\u001B[39m\u001B[49m\u001B[0m, steps_per_epoch: \u001B[34m343\u001B[39m\u001B[49m\u001B[0m, logging_steps: \u001B[34m343\u001B[39m\u001B[49m\u001B[0m\u001B[35m}\u001B[39m\u001B[49m\u001B[0m... \u001B[39m\u001B[49m\u001B[22m\u001B[23m\u001B[24m\u001B[25m\u001B[27m\u001B[28m\u001B[29m\n"
     ]
    },
    {
     "output_type": "stream",
     "name": "stderr",
     "text": [
      "\rEpoch 11/64:   0%|          | 0/343 [00:00<?, ?it/s]config.num_buckets is not set. Setting config.num_buckets to 64...\n",
      "config.num_buckets is not set. Setting config.num_buckets to 64...\n",
      "config.num_buckets is not set. Setting config.num_buckets to 64...\n",
      "Epoch 11/64: 100%|██████████| 343/343 [38:50<00:00,  5.32s/it]"
     ]
    },
    {
     "output_type": "stream",
     "name": "stdout",
     "text": [
      "\u001B[38;2;0;186;142m2022-04-18 09:35:32\u001B[38;2;97;175;239m|\u001B[39m\u001B[49m\u001B[22m\u001B[23m\u001B[24m\u001B[25m\u001B[27m\u001B[28m\u001B[29m\u001B[38;2;198;120;221m[ReformerModelWithLMHead Training]\u001B[38;2;97;175;239m::\u001B[38;2;198;120;221m_log\u001B[38;2;97;175;239m::\u001B[38;2;198;120;221mtrain.py\u001B[38;2;97;175;239m:\u001B[38;2;198;120;221m343\u001B[38;2;97;175;239m, \u001B[39m\u001B[49m\u001B[22m\u001B[23m\u001B[24m\u001B[25m\u001B[27m\u001B[28m\u001B[29mINFO\u001B[39m\u001B[49m\u001B[22m\u001B[23m\u001B[24m\u001B[25m\u001B[27m\u001B[28m\u001B[29m\u001B[38;2;97;175;239m - \u001B[39m\u001B[49m\u001B[22m\u001B[23m\u001B[24m\u001B[25m\u001B[27m\u001B[28m\u001B[29m\u001B[35m{\u001B[39m\u001B[49m\u001B[0mstep: \u001B[34m 3773/21952\u001B[39m\u001B[49m\u001B[0m, epoch: \u001B[34m11.000/64\u001B[39m\u001B[49m\u001B[0m, train/learning_rate: \u001B[34m2.953e-04\u001B[39m\u001B[49m\u001B[0m, train/loss: \u001B[34m1.5178\u001B[39m\u001B[49m\u001B[0m, train/ntp_acc: \u001B[34m55.19\u001B[39m\u001B[49m\u001B[0m, train/ikr: \u001B[34m69.73\u001B[39m\u001B[49m\u001B[0m\u001B[35m}\u001B[39m\u001B[49m\u001B[0m\u001B[39m\u001B[49m\u001B[22m\u001B[23m\u001B[24m\u001B[25m\u001B[27m\u001B[28m\u001B[29m\n"
     ]
    },
    {
     "output_type": "stream",
     "name": "stderr",
     "text": [
      "\rEpoch 11/64: 100%|██████████| 343/343 [38:50<00:00,  6.79s/it]\n"
     ]
    },
    {
     "output_type": "stream",
     "name": "stdout",
     "text": [
      "\u001B[38;2;0;186;142m2022-04-18 09:35:58\u001B[38;2;97;175;239m|\u001B[39m\u001B[49m\u001B[22m\u001B[23m\u001B[24m\u001B[25m\u001B[27m\u001B[28m\u001B[29m\u001B[38;2;198;120;221m[ReformerModelWithLMHead Training]\u001B[38;2;97;175;239m::\u001B[38;2;198;120;221m_log\u001B[38;2;97;175;239m::\u001B[38;2;198;120;221mtrain.py\u001B[38;2;97;175;239m:\u001B[38;2;198;120;221m343\u001B[38;2;97;175;239m, \u001B[39m\u001B[49m\u001B[22m\u001B[23m\u001B[24m\u001B[25m\u001B[27m\u001B[28m\u001B[29mINFO\u001B[39m\u001B[49m\u001B[22m\u001B[23m\u001B[24m\u001B[25m\u001B[27m\u001B[28m\u001B[29m\u001B[38;2;97;175;239m - \u001B[39m\u001B[49m\u001B[22m\u001B[23m\u001B[24m\u001B[25m\u001B[27m\u001B[28m\u001B[29m\u001B[35m{\u001B[39m\u001B[49m\u001B[0mstep: \u001B[34m 3773/21952\u001B[39m\u001B[49m\u001B[0m, epoch: \u001B[34m11/64\u001B[39m\u001B[49m\u001B[0m, eval/loss: \u001B[34m1.3271\u001B[39m\u001B[49m\u001B[0m, eval/ntp_acc: \u001B[34m60.95\u001B[39m\u001B[49m\u001B[0m, eval/ikr: \u001B[34m82.95\u001B[39m\u001B[49m\u001B[0m\u001B[35m}\u001B[39m\u001B[49m\u001B[0m\u001B[39m\u001B[49m\u001B[22m\u001B[23m\u001B[24m\u001B[25m\u001B[27m\u001B[28m\u001B[29m\n"
     ]
    },
    {
     "output_type": "stream",
     "name": "stderr",
     "text": [
      "Epoch 12/64: 100%|██████████| 343/343 [40:07<00:00,  5.53s/it]"
     ]
    },
    {
     "output_type": "stream",
     "name": "stdout",
     "text": [
      "\u001B[38;2;0;186;142m2022-04-18 10:16:06\u001B[38;2;97;175;239m|\u001B[39m\u001B[49m\u001B[22m\u001B[23m\u001B[24m\u001B[25m\u001B[27m\u001B[28m\u001B[29m\u001B[38;2;198;120;221m[ReformerModelWithLMHead Training]\u001B[38;2;97;175;239m::\u001B[38;2;198;120;221m_log\u001B[38;2;97;175;239m::\u001B[38;2;198;120;221mtrain.py\u001B[38;2;97;175;239m:\u001B[38;2;198;120;221m343\u001B[38;2;97;175;239m, \u001B[39m\u001B[49m\u001B[22m\u001B[23m\u001B[24m\u001B[25m\u001B[27m\u001B[28m\u001B[29mINFO\u001B[39m\u001B[49m\u001B[22m\u001B[23m\u001B[24m\u001B[25m\u001B[27m\u001B[28m\u001B[29m\u001B[38;2;97;175;239m - \u001B[39m\u001B[49m\u001B[22m\u001B[23m\u001B[24m\u001B[25m\u001B[27m\u001B[28m\u001B[29m\u001B[35m{\u001B[39m\u001B[49m\u001B[0mstep: \u001B[34m 4116/21952\u001B[39m\u001B[49m\u001B[0m, epoch: \u001B[34m12.000/64\u001B[39m\u001B[49m\u001B[0m, train/learning_rate: \u001B[34m2.931e-04\u001B[39m\u001B[49m\u001B[0m, train/loss: \u001B[34m1.6636\u001B[39m\u001B[49m\u001B[0m, train/ntp_acc: \u001B[34m50.39\u001B[39m\u001B[49m\u001B[0m, train/ikr: \u001B[34m86.93\u001B[39m\u001B[49m\u001B[0m\u001B[35m}\u001B[39m\u001B[49m\u001B[0m\u001B[39m\u001B[49m\u001B[22m\u001B[23m\u001B[24m\u001B[25m\u001B[27m\u001B[28m\u001B[29m\n"
     ]
    },
    {
     "output_type": "stream",
     "name": "stderr",
     "text": [
      "\rEpoch 12/64: 100%|██████████| 343/343 [40:09<00:00,  7.02s/it]\n"
     ]
    },
    {
     "output_type": "stream",
     "name": "stdout",
     "text": [
      "\u001B[38;2;0;186;142m2022-04-18 10:16:35\u001B[38;2;97;175;239m|\u001B[39m\u001B[49m\u001B[22m\u001B[23m\u001B[24m\u001B[25m\u001B[27m\u001B[28m\u001B[29m\u001B[38;2;198;120;221m[ReformerModelWithLMHead Training]\u001B[38;2;97;175;239m::\u001B[38;2;198;120;221m_log\u001B[38;2;97;175;239m::\u001B[38;2;198;120;221mtrain.py\u001B[38;2;97;175;239m:\u001B[38;2;198;120;221m343\u001B[38;2;97;175;239m, \u001B[39m\u001B[49m\u001B[22m\u001B[23m\u001B[24m\u001B[25m\u001B[27m\u001B[28m\u001B[29mINFO\u001B[39m\u001B[49m\u001B[22m\u001B[23m\u001B[24m\u001B[25m\u001B[27m\u001B[28m\u001B[29m\u001B[38;2;97;175;239m - \u001B[39m\u001B[49m\u001B[22m\u001B[23m\u001B[24m\u001B[25m\u001B[27m\u001B[28m\u001B[29m\u001B[35m{\u001B[39m\u001B[49m\u001B[0mstep: \u001B[34m 4116/21952\u001B[39m\u001B[49m\u001B[0m, epoch: \u001B[34m12/64\u001B[39m\u001B[49m\u001B[0m, eval/loss: \u001B[34m1.281\u001B[39m\u001B[49m\u001B[0m, eval/ntp_acc: \u001B[34m62.38\u001B[39m\u001B[49m\u001B[0m, eval/ikr: \u001B[34m83.86\u001B[39m\u001B[49m\u001B[0m\u001B[35m}\u001B[39m\u001B[49m\u001B[0m\u001B[39m\u001B[49m\u001B[22m\u001B[23m\u001B[24m\u001B[25m\u001B[27m\u001B[28m\u001B[29m\n"
     ]
    },
    {
     "output_type": "stream",
     "name": "stderr",
     "text": [
      "Epoch 13/64: 100%|██████████| 343/343 [40:14<00:00,  5.53s/it]"
     ]
    },
    {
     "output_type": "stream",
     "name": "stdout",
     "text": [
      "\u001B[38;2;0;186;142m2022-04-18 10:56:49\u001B[38;2;97;175;239m|\u001B[39m\u001B[49m\u001B[22m\u001B[23m\u001B[24m\u001B[25m\u001B[27m\u001B[28m\u001B[29m\u001B[38;2;198;120;221m[ReformerModelWithLMHead Training]\u001B[38;2;97;175;239m::\u001B[38;2;198;120;221m_log\u001B[38;2;97;175;239m::\u001B[38;2;198;120;221mtrain.py\u001B[38;2;97;175;239m:\u001B[38;2;198;120;221m343\u001B[38;2;97;175;239m, \u001B[39m\u001B[49m\u001B[22m\u001B[23m\u001B[24m\u001B[25m\u001B[27m\u001B[28m\u001B[29mINFO\u001B[39m\u001B[49m\u001B[22m\u001B[23m\u001B[24m\u001B[25m\u001B[27m\u001B[28m\u001B[29m\u001B[38;2;97;175;239m - \u001B[39m\u001B[49m\u001B[22m\u001B[23m\u001B[24m\u001B[25m\u001B[27m\u001B[28m\u001B[29m\u001B[35m{\u001B[39m\u001B[49m\u001B[0mstep: \u001B[34m 4459/21952\u001B[39m\u001B[49m\u001B[0m, epoch: \u001B[34m13.000/64\u001B[39m\u001B[49m\u001B[0m, train/learning_rate: \u001B[34m2.904e-04\u001B[39m\u001B[49m\u001B[0m, train/loss: \u001B[34m1.4817\u001B[39m\u001B[49m\u001B[0m, train/ntp_acc: \u001B[34m55.91\u001B[39m\u001B[49m\u001B[0m, train/ikr: \u001B[34m84.02\u001B[39m\u001B[49m\u001B[0m\u001B[35m}\u001B[39m\u001B[49m\u001B[0m\u001B[39m\u001B[49m\u001B[22m\u001B[23m\u001B[24m\u001B[25m\u001B[27m\u001B[28m\u001B[29m\n"
     ]
    },
    {
     "output_type": "stream",
     "name": "stderr",
     "text": [
      "\rEpoch 13/64: 100%|██████████| 343/343 [40:14<00:00,  7.04s/it]\n"
     ]
    },
    {
     "output_type": "stream",
     "name": "stdout",
     "text": [
      "\u001B[38;2;0;186;142m2022-04-18 10:57:15\u001B[38;2;97;175;239m|\u001B[39m\u001B[49m\u001B[22m\u001B[23m\u001B[24m\u001B[25m\u001B[27m\u001B[28m\u001B[29m\u001B[38;2;198;120;221m[ReformerModelWithLMHead Training]\u001B[38;2;97;175;239m::\u001B[38;2;198;120;221m_log\u001B[38;2;97;175;239m::\u001B[38;2;198;120;221mtrain.py\u001B[38;2;97;175;239m:\u001B[38;2;198;120;221m343\u001B[38;2;97;175;239m, \u001B[39m\u001B[49m\u001B[22m\u001B[23m\u001B[24m\u001B[25m\u001B[27m\u001B[28m\u001B[29mINFO\u001B[39m\u001B[49m\u001B[22m\u001B[23m\u001B[24m\u001B[25m\u001B[27m\u001B[28m\u001B[29m\u001B[38;2;97;175;239m - \u001B[39m\u001B[49m\u001B[22m\u001B[23m\u001B[24m\u001B[25m\u001B[27m\u001B[28m\u001B[29m\u001B[35m{\u001B[39m\u001B[49m\u001B[0mstep: \u001B[34m 4459/21952\u001B[39m\u001B[49m\u001B[0m, epoch: \u001B[34m13/64\u001B[39m\u001B[49m\u001B[0m, eval/loss: \u001B[34m1.2205\u001B[39m\u001B[49m\u001B[0m, eval/ntp_acc: \u001B[34m64.25\u001B[39m\u001B[49m\u001B[0m, eval/ikr: \u001B[34m83.58\u001B[39m\u001B[49m\u001B[0m\u001B[35m}\u001B[39m\u001B[49m\u001B[0m\u001B[39m\u001B[49m\u001B[22m\u001B[23m\u001B[24m\u001B[25m\u001B[27m\u001B[28m\u001B[29m\n"
     ]
    },
    {
     "output_type": "stream",
     "name": "stderr",
     "text": [
      "Epoch 14/64: 100%|██████████| 343/343 [40:13<00:00,  5.52s/it]"
     ]
    },
    {
     "output_type": "stream",
     "name": "stdout",
     "text": [
      "\u001B[38;2;0;186;142m2022-04-18 11:37:29\u001B[38;2;97;175;239m|\u001B[39m\u001B[49m\u001B[22m\u001B[23m\u001B[24m\u001B[25m\u001B[27m\u001B[28m\u001B[29m\u001B[38;2;198;120;221m[ReformerModelWithLMHead Training]\u001B[38;2;97;175;239m::\u001B[38;2;198;120;221m_log\u001B[38;2;97;175;239m::\u001B[38;2;198;120;221mtrain.py\u001B[38;2;97;175;239m:\u001B[38;2;198;120;221m343\u001B[38;2;97;175;239m, \u001B[39m\u001B[49m\u001B[22m\u001B[23m\u001B[24m\u001B[25m\u001B[27m\u001B[28m\u001B[29mINFO\u001B[39m\u001B[49m\u001B[22m\u001B[23m\u001B[24m\u001B[25m\u001B[27m\u001B[28m\u001B[29m\u001B[38;2;97;175;239m - \u001B[39m\u001B[49m\u001B[22m\u001B[23m\u001B[24m\u001B[25m\u001B[27m\u001B[28m\u001B[29m\u001B[35m{\u001B[39m\u001B[49m\u001B[0mstep: \u001B[34m 4802/21952\u001B[39m\u001B[49m\u001B[0m, epoch: \u001B[34m14.000/64\u001B[39m\u001B[49m\u001B[0m, train/learning_rate: \u001B[34m2.873e-04\u001B[39m\u001B[49m\u001B[0m, train/loss: \u001B[34m1.3332\u001B[39m\u001B[49m\u001B[0m, train/ntp_acc: \u001B[34m60.36\u001B[39m\u001B[49m\u001B[0m, train/ikr: \u001B[34m87.61\u001B[39m\u001B[49m\u001B[0m\u001B[35m}\u001B[39m\u001B[49m\u001B[0m\u001B[39m\u001B[49m\u001B[22m\u001B[23m\u001B[24m\u001B[25m\u001B[27m\u001B[28m\u001B[29m\n"
     ]
    },
    {
     "output_type": "stream",
     "name": "stderr",
     "text": [
      "\rEpoch 14/64: 100%|██████████| 343/343 [40:16<00:00,  7.04s/it]\n"
     ]
    },
    {
     "output_type": "stream",
     "name": "stdout",
     "text": [
      "\u001B[38;2;0;186;142m2022-04-18 11:37:58\u001B[38;2;97;175;239m|\u001B[39m\u001B[49m\u001B[22m\u001B[23m\u001B[24m\u001B[25m\u001B[27m\u001B[28m\u001B[29m\u001B[38;2;198;120;221m[ReformerModelWithLMHead Training]\u001B[38;2;97;175;239m::\u001B[38;2;198;120;221m_log\u001B[38;2;97;175;239m::\u001B[38;2;198;120;221mtrain.py\u001B[38;2;97;175;239m:\u001B[38;2;198;120;221m343\u001B[38;2;97;175;239m, \u001B[39m\u001B[49m\u001B[22m\u001B[23m\u001B[24m\u001B[25m\u001B[27m\u001B[28m\u001B[29mINFO\u001B[39m\u001B[49m\u001B[22m\u001B[23m\u001B[24m\u001B[25m\u001B[27m\u001B[28m\u001B[29m\u001B[38;2;97;175;239m - \u001B[39m\u001B[49m\u001B[22m\u001B[23m\u001B[24m\u001B[25m\u001B[27m\u001B[28m\u001B[29m\u001B[35m{\u001B[39m\u001B[49m\u001B[0mstep: \u001B[34m 4802/21952\u001B[39m\u001B[49m\u001B[0m, epoch: \u001B[34m14/64\u001B[39m\u001B[49m\u001B[0m, eval/loss: \u001B[34m1.1977\u001B[39m\u001B[49m\u001B[0m, eval/ntp_acc: \u001B[34m65.39\u001B[39m\u001B[49m\u001B[0m, eval/ikr: \u001B[34m82.96\u001B[39m\u001B[49m\u001B[0m\u001B[35m}\u001B[39m\u001B[49m\u001B[0m\u001B[39m\u001B[49m\u001B[22m\u001B[23m\u001B[24m\u001B[25m\u001B[27m\u001B[28m\u001B[29m\n"
     ]
    },
    {
     "output_type": "stream",
     "name": "stderr",
     "text": [
      "Epoch 15/64: 100%|██████████| 343/343 [40:17<00:00,  5.52s/it]"
     ]
    },
    {
     "output_type": "stream",
     "name": "stdout",
     "text": [
      "\u001B[38;2;0;186;142m2022-04-18 12:18:16\u001B[38;2;97;175;239m|\u001B[39m\u001B[49m\u001B[22m\u001B[23m\u001B[24m\u001B[25m\u001B[27m\u001B[28m\u001B[29m\u001B[38;2;198;120;221m[ReformerModelWithLMHead Training]\u001B[38;2;97;175;239m::\u001B[38;2;198;120;221m_log\u001B[38;2;97;175;239m::\u001B[38;2;198;120;221mtrain.py\u001B[38;2;97;175;239m:\u001B[38;2;198;120;221m343\u001B[38;2;97;175;239m, \u001B[39m\u001B[49m\u001B[22m\u001B[23m\u001B[24m\u001B[25m\u001B[27m\u001B[28m\u001B[29mINFO\u001B[39m\u001B[49m\u001B[22m\u001B[23m\u001B[24m\u001B[25m\u001B[27m\u001B[28m\u001B[29m\u001B[38;2;97;175;239m - \u001B[39m\u001B[49m\u001B[22m\u001B[23m\u001B[24m\u001B[25m\u001B[27m\u001B[28m\u001B[29m\u001B[35m{\u001B[39m\u001B[49m\u001B[0mstep: \u001B[34m 5145/21952\u001B[39m\u001B[49m\u001B[0m, epoch: \u001B[34m15.000/64\u001B[39m\u001B[49m\u001B[0m, train/learning_rate: \u001B[34m2.838e-04\u001B[39m\u001B[49m\u001B[0m, train/loss: \u001B[34m1.0233\u001B[39m\u001B[49m\u001B[0m, train/ntp_acc: \u001B[34m69.06\u001B[39m\u001B[49m\u001B[0m, train/ikr: \u001B[34m73.79\u001B[39m\u001B[49m\u001B[0m\u001B[35m}\u001B[39m\u001B[49m\u001B[0m\u001B[39m\u001B[49m\u001B[22m\u001B[23m\u001B[24m\u001B[25m\u001B[27m\u001B[28m\u001B[29m\n"
     ]
    },
    {
     "output_type": "stream",
     "name": "stderr",
     "text": [
      "\rEpoch 15/64: 100%|██████████| 343/343 [40:17<00:00,  7.05s/it]\n"
     ]
    },
    {
     "output_type": "stream",
     "name": "stdout",
     "text": [
      "\u001B[38;2;0;186;142m2022-04-18 12:18:41\u001B[38;2;97;175;239m|\u001B[39m\u001B[49m\u001B[22m\u001B[23m\u001B[24m\u001B[25m\u001B[27m\u001B[28m\u001B[29m\u001B[38;2;198;120;221m[ReformerModelWithLMHead Training]\u001B[38;2;97;175;239m::\u001B[38;2;198;120;221m_log\u001B[38;2;97;175;239m::\u001B[38;2;198;120;221mtrain.py\u001B[38;2;97;175;239m:\u001B[38;2;198;120;221m343\u001B[38;2;97;175;239m, \u001B[39m\u001B[49m\u001B[22m\u001B[23m\u001B[24m\u001B[25m\u001B[27m\u001B[28m\u001B[29mINFO\u001B[39m\u001B[49m\u001B[22m\u001B[23m\u001B[24m\u001B[25m\u001B[27m\u001B[28m\u001B[29m\u001B[38;2;97;175;239m - \u001B[39m\u001B[49m\u001B[22m\u001B[23m\u001B[24m\u001B[25m\u001B[27m\u001B[28m\u001B[29m\u001B[35m{\u001B[39m\u001B[49m\u001B[0mstep: \u001B[34m 5145/21952\u001B[39m\u001B[49m\u001B[0m, epoch: \u001B[34m15/64\u001B[39m\u001B[49m\u001B[0m, eval/loss: \u001B[34m1.1572\u001B[39m\u001B[49m\u001B[0m, eval/ntp_acc: \u001B[34m66.53\u001B[39m\u001B[49m\u001B[0m, eval/ikr: \u001B[34m83.35\u001B[39m\u001B[49m\u001B[0m\u001B[35m}\u001B[39m\u001B[49m\u001B[0m\u001B[39m\u001B[49m\u001B[22m\u001B[23m\u001B[24m\u001B[25m\u001B[27m\u001B[28m\u001B[29m\n"
     ]
    },
    {
     "output_type": "stream",
     "name": "stderr",
     "text": [
      "Epoch 16/64: 100%|██████████| 343/343 [40:23<00:00,  5.52s/it]"
     ]
    },
    {
     "output_type": "stream",
     "name": "stdout",
     "text": [
      "\u001B[38;2;0;186;142m2022-04-18 12:59:05\u001B[38;2;97;175;239m|\u001B[39m\u001B[49m\u001B[22m\u001B[23m\u001B[24m\u001B[25m\u001B[27m\u001B[28m\u001B[29m\u001B[38;2;198;120;221m[ReformerModelWithLMHead Training]\u001B[38;2;97;175;239m::\u001B[38;2;198;120;221m_log\u001B[38;2;97;175;239m::\u001B[38;2;198;120;221mtrain.py\u001B[38;2;97;175;239m:\u001B[38;2;198;120;221m343\u001B[38;2;97;175;239m, \u001B[39m\u001B[49m\u001B[22m\u001B[23m\u001B[24m\u001B[25m\u001B[27m\u001B[28m\u001B[29mINFO\u001B[39m\u001B[49m\u001B[22m\u001B[23m\u001B[24m\u001B[25m\u001B[27m\u001B[28m\u001B[29m\u001B[38;2;97;175;239m - \u001B[39m\u001B[49m\u001B[22m\u001B[23m\u001B[24m\u001B[25m\u001B[27m\u001B[28m\u001B[29m\u001B[35m{\u001B[39m\u001B[49m\u001B[0mstep: \u001B[34m 5488/21952\u001B[39m\u001B[49m\u001B[0m, epoch: \u001B[34m16.000/64\u001B[39m\u001B[49m\u001B[0m, train/learning_rate: \u001B[34m2.799e-04\u001B[39m\u001B[49m\u001B[0m, train/loss: \u001B[34m1.1812\u001B[39m\u001B[49m\u001B[0m, train/ntp_acc: \u001B[34m65.38\u001B[39m\u001B[49m\u001B[0m, train/ikr: \u001B[34m90.24\u001B[39m\u001B[49m\u001B[0m\u001B[35m}\u001B[39m\u001B[49m\u001B[0m\u001B[39m\u001B[49m\u001B[22m\u001B[23m\u001B[24m\u001B[25m\u001B[27m\u001B[28m\u001B[29m\n"
     ]
    },
    {
     "output_type": "stream",
     "name": "stderr",
     "text": [
      "\rEpoch 16/64: 100%|██████████| 343/343 [40:26<00:00,  7.07s/it]\n"
     ]
    },
    {
     "output_type": "stream",
     "name": "stdout",
     "text": [
      "\u001B[38;2;0;186;142m2022-04-18 12:59:34\u001B[38;2;97;175;239m|\u001B[39m\u001B[49m\u001B[22m\u001B[23m\u001B[24m\u001B[25m\u001B[27m\u001B[28m\u001B[29m\u001B[38;2;198;120;221m[ReformerModelWithLMHead Training]\u001B[38;2;97;175;239m::\u001B[38;2;198;120;221m_log\u001B[38;2;97;175;239m::\u001B[38;2;198;120;221mtrain.py\u001B[38;2;97;175;239m:\u001B[38;2;198;120;221m343\u001B[38;2;97;175;239m, \u001B[39m\u001B[49m\u001B[22m\u001B[23m\u001B[24m\u001B[25m\u001B[27m\u001B[28m\u001B[29mINFO\u001B[39m\u001B[49m\u001B[22m\u001B[23m\u001B[24m\u001B[25m\u001B[27m\u001B[28m\u001B[29m\u001B[38;2;97;175;239m - \u001B[39m\u001B[49m\u001B[22m\u001B[23m\u001B[24m\u001B[25m\u001B[27m\u001B[28m\u001B[29m\u001B[35m{\u001B[39m\u001B[49m\u001B[0mstep: \u001B[34m 5488/21952\u001B[39m\u001B[49m\u001B[0m, epoch: \u001B[34m16/64\u001B[39m\u001B[49m\u001B[0m, eval/loss: \u001B[34m1.1368\u001B[39m\u001B[49m\u001B[0m, eval/ntp_acc: \u001B[34m67.12\u001B[39m\u001B[49m\u001B[0m, eval/ikr: \u001B[34m83.76\u001B[39m\u001B[49m\u001B[0m\u001B[35m}\u001B[39m\u001B[49m\u001B[0m\u001B[39m\u001B[49m\u001B[22m\u001B[23m\u001B[24m\u001B[25m\u001B[27m\u001B[28m\u001B[29m\n"
     ]
    },
    {
     "output_type": "stream",
     "name": "stderr",
     "text": [
      "Epoch 17/64: 100%|██████████| 343/343 [40:21<00:00,  5.46s/it]"
     ]
    },
    {
     "output_type": "stream",
     "name": "stdout",
     "text": [
      "\u001B[38;2;0;186;142m2022-04-18 13:39:56\u001B[38;2;97;175;239m|\u001B[39m\u001B[49m\u001B[22m\u001B[23m\u001B[24m\u001B[25m\u001B[27m\u001B[28m\u001B[29m\u001B[38;2;198;120;221m[ReformerModelWithLMHead Training]\u001B[38;2;97;175;239m::\u001B[38;2;198;120;221m_log\u001B[38;2;97;175;239m::\u001B[38;2;198;120;221mtrain.py\u001B[38;2;97;175;239m:\u001B[38;2;198;120;221m343\u001B[38;2;97;175;239m, \u001B[39m\u001B[49m\u001B[22m\u001B[23m\u001B[24m\u001B[25m\u001B[27m\u001B[28m\u001B[29mINFO\u001B[39m\u001B[49m\u001B[22m\u001B[23m\u001B[24m\u001B[25m\u001B[27m\u001B[28m\u001B[29m\u001B[38;2;97;175;239m - \u001B[39m\u001B[49m\u001B[22m\u001B[23m\u001B[24m\u001B[25m\u001B[27m\u001B[28m\u001B[29m\u001B[35m{\u001B[39m\u001B[49m\u001B[0mstep: \u001B[34m 5831/21952\u001B[39m\u001B[49m\u001B[0m, epoch: \u001B[34m17.000/64\u001B[39m\u001B[49m\u001B[0m, train/learning_rate: \u001B[34m2.756e-04\u001B[39m\u001B[49m\u001B[0m, train/loss: \u001B[34m0.7849\u001B[39m\u001B[49m\u001B[0m, train/ntp_acc: \u001B[34m76.72\u001B[39m\u001B[49m\u001B[0m, train/ikr: \u001B[34m84.82\u001B[39m\u001B[49m\u001B[0m\u001B[35m}\u001B[39m\u001B[49m\u001B[0m\u001B[39m\u001B[49m\u001B[22m\u001B[23m\u001B[24m\u001B[25m\u001B[27m\u001B[28m\u001B[29m\n"
     ]
    },
    {
     "output_type": "stream",
     "name": "stderr",
     "text": [
      "\rEpoch 17/64: 100%|██████████| 343/343 [40:21<00:00,  7.06s/it]\n"
     ]
    },
    {
     "output_type": "stream",
     "name": "stdout",
     "text": [
      "\u001B[38;2;0;186;142m2022-04-18 13:40:22\u001B[38;2;97;175;239m|\u001B[39m\u001B[49m\u001B[22m\u001B[23m\u001B[24m\u001B[25m\u001B[27m\u001B[28m\u001B[29m\u001B[38;2;198;120;221m[ReformerModelWithLMHead Training]\u001B[38;2;97;175;239m::\u001B[38;2;198;120;221m_log\u001B[38;2;97;175;239m::\u001B[38;2;198;120;221mtrain.py\u001B[38;2;97;175;239m:\u001B[38;2;198;120;221m343\u001B[38;2;97;175;239m, \u001B[39m\u001B[49m\u001B[22m\u001B[23m\u001B[24m\u001B[25m\u001B[27m\u001B[28m\u001B[29mINFO\u001B[39m\u001B[49m\u001B[22m\u001B[23m\u001B[24m\u001B[25m\u001B[27m\u001B[28m\u001B[29m\u001B[38;2;97;175;239m - \u001B[39m\u001B[49m\u001B[22m\u001B[23m\u001B[24m\u001B[25m\u001B[27m\u001B[28m\u001B[29m\u001B[35m{\u001B[39m\u001B[49m\u001B[0mstep: \u001B[34m 5831/21952\u001B[39m\u001B[49m\u001B[0m, epoch: \u001B[34m17/64\u001B[39m\u001B[49m\u001B[0m, eval/loss: \u001B[34m1.1301\u001B[39m\u001B[49m\u001B[0m, eval/ntp_acc: \u001B[34m67.41\u001B[39m\u001B[49m\u001B[0m, eval/ikr: \u001B[34m81.79\u001B[39m\u001B[49m\u001B[0m\u001B[35m}\u001B[39m\u001B[49m\u001B[0m\u001B[39m\u001B[49m\u001B[22m\u001B[23m\u001B[24m\u001B[25m\u001B[27m\u001B[28m\u001B[29m\n"
     ]
    },
    {
     "output_type": "stream",
     "name": "stderr",
     "text": [
      "Epoch 18/64: 100%|██████████| 343/343 [40:20<00:00,  5.53s/it]"
     ]
    },
    {
     "output_type": "stream",
     "name": "stdout",
     "text": [
      "\u001B[38;2;0;186;142m2022-04-18 14:20:43\u001B[38;2;97;175;239m|\u001B[39m\u001B[49m\u001B[22m\u001B[23m\u001B[24m\u001B[25m\u001B[27m\u001B[28m\u001B[29m\u001B[38;2;198;120;221m[ReformerModelWithLMHead Training]\u001B[38;2;97;175;239m::\u001B[38;2;198;120;221m_log\u001B[38;2;97;175;239m::\u001B[38;2;198;120;221mtrain.py\u001B[38;2;97;175;239m:\u001B[38;2;198;120;221m343\u001B[38;2;97;175;239m, \u001B[39m\u001B[49m\u001B[22m\u001B[23m\u001B[24m\u001B[25m\u001B[27m\u001B[28m\u001B[29mINFO\u001B[39m\u001B[49m\u001B[22m\u001B[23m\u001B[24m\u001B[25m\u001B[27m\u001B[28m\u001B[29m\u001B[38;2;97;175;239m - \u001B[39m\u001B[49m\u001B[22m\u001B[23m\u001B[24m\u001B[25m\u001B[27m\u001B[28m\u001B[29m\u001B[35m{\u001B[39m\u001B[49m\u001B[0mstep: \u001B[34m 6174/21952\u001B[39m\u001B[49m\u001B[0m, epoch: \u001B[34m18.000/64\u001B[39m\u001B[49m\u001B[0m, train/learning_rate: \u001B[34m2.710e-04\u001B[39m\u001B[49m\u001B[0m, train/loss: \u001B[34m1.3089\u001B[39m\u001B[49m\u001B[0m, train/ntp_acc: \u001B[34m60.67\u001B[39m\u001B[49m\u001B[0m, train/ikr: \u001B[34m86.83\u001B[39m\u001B[49m\u001B[0m\u001B[35m}\u001B[39m\u001B[49m\u001B[0m\u001B[39m\u001B[49m\u001B[22m\u001B[23m\u001B[24m\u001B[25m\u001B[27m\u001B[28m\u001B[29m\n"
     ]
    },
    {
     "output_type": "stream",
     "name": "stderr",
     "text": [
      "\rEpoch 18/64: 100%|██████████| 343/343 [40:23<00:00,  7.07s/it]\n"
     ]
    },
    {
     "output_type": "stream",
     "name": "stdout",
     "text": [
      "\u001B[38;2;0;186;142m2022-04-18 14:21:13\u001B[38;2;97;175;239m|\u001B[39m\u001B[49m\u001B[22m\u001B[23m\u001B[24m\u001B[25m\u001B[27m\u001B[28m\u001B[29m\u001B[38;2;198;120;221m[ReformerModelWithLMHead Training]\u001B[38;2;97;175;239m::\u001B[38;2;198;120;221m_log\u001B[38;2;97;175;239m::\u001B[38;2;198;120;221mtrain.py\u001B[38;2;97;175;239m:\u001B[38;2;198;120;221m343\u001B[38;2;97;175;239m, \u001B[39m\u001B[49m\u001B[22m\u001B[23m\u001B[24m\u001B[25m\u001B[27m\u001B[28m\u001B[29mINFO\u001B[39m\u001B[49m\u001B[22m\u001B[23m\u001B[24m\u001B[25m\u001B[27m\u001B[28m\u001B[29m\u001B[38;2;97;175;239m - \u001B[39m\u001B[49m\u001B[22m\u001B[23m\u001B[24m\u001B[25m\u001B[27m\u001B[28m\u001B[29m\u001B[35m{\u001B[39m\u001B[49m\u001B[0mstep: \u001B[34m 6174/21952\u001B[39m\u001B[49m\u001B[0m, epoch: \u001B[34m18/64\u001B[39m\u001B[49m\u001B[0m, eval/loss: \u001B[34m1.1163\u001B[39m\u001B[49m\u001B[0m, eval/ntp_acc: \u001B[34m67.43\u001B[39m\u001B[49m\u001B[0m, eval/ikr: \u001B[34m82.54\u001B[39m\u001B[49m\u001B[0m\u001B[35m}\u001B[39m\u001B[49m\u001B[0m\u001B[39m\u001B[49m\u001B[22m\u001B[23m\u001B[24m\u001B[25m\u001B[27m\u001B[28m\u001B[29m\n"
     ]
    },
    {
     "output_type": "stream",
     "name": "stderr",
     "text": [
      "Epoch 19/64:  36%|███▌      | 123/343 [14:28<25:52,  7.06s/it]"
     ]
    }
   ],
   "source": [
    "# trainer.train()\n",
    "checkpoint_path = os.path.join(PATH_BASE, DIR_PROJ, DIR_MDL, 'reformer', '2022-04-17_22-53-41', 'checkpoint-3430')\n",
    "trainer.train(checkpoint_path)\n",
    "\n",
    "trainer.save_model(os.path.join(trainer.args.output_dir, 'trained'))\n"
   ],
   "metadata": {
    "pycharm": {
     "name": "#%%\n"
    },
    "id": "tdpJdOnX7o0s",
    "colab": {
     "base_uri": "https://localhost:8080/"
    },
    "outputId": "2d702fca-3ff6-4f20-8a38-e0363f1ff64d"
   }
  },
  {
   "cell_type": "code",
   "execution_count": null,
   "outputs": [],
   "source": [
    "ic(trainer.args.output_dir)\n",
    "ic(os.listdir(trainer.args.output_dir))\n",
    "\n"
   ],
   "metadata": {
    "pycharm": {
     "name": "#%%\n"
    },
    "id": "rHEcyIaC7o0t"
   }
  }
 ],
 "metadata": {
  "kernelspec": {
   "display_name": "Python 3",
   "language": "python",
   "name": "python3"
  },
  "language_info": {
   "codemirror_mode": {
    "name": "ipython",
    "version": 2
   },
   "file_extension": ".py",
   "mimetype": "text/x-python",
   "name": "python",
   "nbconvert_exporter": "python",
   "pygments_lexer": "ipython2",
   "version": "2.7.6"
  },
  "colab": {
   "name": "long_music_transformer.ipynb",
   "provenance": [],
   "collapsed_sections": []
  },
  "accelerator": "GPU",
  "widgets": {
   "application/vnd.jupyter.widget-state+json": {
    "4eed0b4020114aa597ab84f095b2f5b0": {
     "model_module": "@jupyter-widgets/controls",
     "model_name": "HBoxModel",
     "model_module_version": "1.5.0",
     "state": {
      "_dom_classes": [],
      "_model_module": "@jupyter-widgets/controls",
      "_model_module_version": "1.5.0",
      "_model_name": "HBoxModel",
      "_view_count": null,
      "_view_module": "@jupyter-widgets/controls",
      "_view_module_version": "1.5.0",
      "_view_name": "HBoxView",
      "box_style": "",
      "children": [
       "IPY_MODEL_57a21725596f4581850134186657db83",
       "IPY_MODEL_1716d570d1e04ef0b4a8f7feade5b1f6",
       "IPY_MODEL_1b7f23e09ffb42e0bb9f4a6028a8f291"
      ],
      "layout": "IPY_MODEL_c6ad781345f64e7bad9a0b3f11819f76"
     }
    },
    "57a21725596f4581850134186657db83": {
     "model_module": "@jupyter-widgets/controls",
     "model_name": "HTMLModel",
     "model_module_version": "1.5.0",
     "state": {
      "_dom_classes": [],
      "_model_module": "@jupyter-widgets/controls",
      "_model_module_version": "1.5.0",
      "_model_name": "HTMLModel",
      "_view_count": null,
      "_view_module": "@jupyter-widgets/controls",
      "_view_module_version": "1.5.0",
      "_view_name": "HTMLView",
      "description": "",
      "description_tooltip": null,
      "layout": "IPY_MODEL_d4b606dd065e47c0be72bbc0c4e3a10a",
      "placeholder": "​",
      "style": "IPY_MODEL_312d2f3619b44c5babf0280b0da0587f",
      "value": "Downloading builder script: "
     }
    },
    "1716d570d1e04ef0b4a8f7feade5b1f6": {
     "model_module": "@jupyter-widgets/controls",
     "model_name": "FloatProgressModel",
     "model_module_version": "1.5.0",
     "state": {
      "_dom_classes": [],
      "_model_module": "@jupyter-widgets/controls",
      "_model_module_version": "1.5.0",
      "_model_name": "FloatProgressModel",
      "_view_count": null,
      "_view_module": "@jupyter-widgets/controls",
      "_view_module_version": "1.5.0",
      "_view_name": "ProgressView",
      "bar_style": "success",
      "description": "",
      "description_tooltip": null,
      "layout": "IPY_MODEL_5f68f7d0dd61455abb3bdfe2d066c38f",
      "max": 1411,
      "min": 0,
      "orientation": "horizontal",
      "style": "IPY_MODEL_7ca5c001961f43dca8d1cadbf4aae5f0",
      "value": 1411
     }
    },
    "1b7f23e09ffb42e0bb9f4a6028a8f291": {
     "model_module": "@jupyter-widgets/controls",
     "model_name": "HTMLModel",
     "model_module_version": "1.5.0",
     "state": {
      "_dom_classes": [],
      "_model_module": "@jupyter-widgets/controls",
      "_model_module_version": "1.5.0",
      "_model_name": "HTMLModel",
      "_view_count": null,
      "_view_module": "@jupyter-widgets/controls",
      "_view_module_version": "1.5.0",
      "_view_name": "HTMLView",
      "description": "",
      "description_tooltip": null,
      "layout": "IPY_MODEL_8bbc18cd2e6d4c6f83b3070cb322278d",
      "placeholder": "​",
      "style": "IPY_MODEL_d2a72e32c92a4dd0b946218720fc8982",
      "value": " 3.19k/? [00:00&lt;00:00, 102kB/s]"
     }
    },
    "c6ad781345f64e7bad9a0b3f11819f76": {
     "model_module": "@jupyter-widgets/base",
     "model_name": "LayoutModel",
     "model_module_version": "1.2.0",
     "state": {
      "_model_module": "@jupyter-widgets/base",
      "_model_module_version": "1.2.0",
      "_model_name": "LayoutModel",
      "_view_count": null,
      "_view_module": "@jupyter-widgets/base",
      "_view_module_version": "1.2.0",
      "_view_name": "LayoutView",
      "align_content": null,
      "align_items": null,
      "align_self": null,
      "border": null,
      "bottom": null,
      "display": null,
      "flex": null,
      "flex_flow": null,
      "grid_area": null,
      "grid_auto_columns": null,
      "grid_auto_flow": null,
      "grid_auto_rows": null,
      "grid_column": null,
      "grid_gap": null,
      "grid_row": null,
      "grid_template_areas": null,
      "grid_template_columns": null,
      "grid_template_rows": null,
      "height": null,
      "justify_content": null,
      "justify_items": null,
      "left": null,
      "margin": null,
      "max_height": null,
      "max_width": null,
      "min_height": null,
      "min_width": null,
      "object_fit": null,
      "object_position": null,
      "order": null,
      "overflow": null,
      "overflow_x": null,
      "overflow_y": null,
      "padding": null,
      "right": null,
      "top": null,
      "visibility": null,
      "width": null
     }
    },
    "d4b606dd065e47c0be72bbc0c4e3a10a": {
     "model_module": "@jupyter-widgets/base",
     "model_name": "LayoutModel",
     "model_module_version": "1.2.0",
     "state": {
      "_model_module": "@jupyter-widgets/base",
      "_model_module_version": "1.2.0",
      "_model_name": "LayoutModel",
      "_view_count": null,
      "_view_module": "@jupyter-widgets/base",
      "_view_module_version": "1.2.0",
      "_view_name": "LayoutView",
      "align_content": null,
      "align_items": null,
      "align_self": null,
      "border": null,
      "bottom": null,
      "display": null,
      "flex": null,
      "flex_flow": null,
      "grid_area": null,
      "grid_auto_columns": null,
      "grid_auto_flow": null,
      "grid_auto_rows": null,
      "grid_column": null,
      "grid_gap": null,
      "grid_row": null,
      "grid_template_areas": null,
      "grid_template_columns": null,
      "grid_template_rows": null,
      "height": null,
      "justify_content": null,
      "justify_items": null,
      "left": null,
      "margin": null,
      "max_height": null,
      "max_width": null,
      "min_height": null,
      "min_width": null,
      "object_fit": null,
      "object_position": null,
      "order": null,
      "overflow": null,
      "overflow_x": null,
      "overflow_y": null,
      "padding": null,
      "right": null,
      "top": null,
      "visibility": null,
      "width": null
     }
    },
    "312d2f3619b44c5babf0280b0da0587f": {
     "model_module": "@jupyter-widgets/controls",
     "model_name": "DescriptionStyleModel",
     "model_module_version": "1.5.0",
     "state": {
      "_model_module": "@jupyter-widgets/controls",
      "_model_module_version": "1.5.0",
      "_model_name": "DescriptionStyleModel",
      "_view_count": null,
      "_view_module": "@jupyter-widgets/base",
      "_view_module_version": "1.2.0",
      "_view_name": "StyleView",
      "description_width": ""
     }
    },
    "5f68f7d0dd61455abb3bdfe2d066c38f": {
     "model_module": "@jupyter-widgets/base",
     "model_name": "LayoutModel",
     "model_module_version": "1.2.0",
     "state": {
      "_model_module": "@jupyter-widgets/base",
      "_model_module_version": "1.2.0",
      "_model_name": "LayoutModel",
      "_view_count": null,
      "_view_module": "@jupyter-widgets/base",
      "_view_module_version": "1.2.0",
      "_view_name": "LayoutView",
      "align_content": null,
      "align_items": null,
      "align_self": null,
      "border": null,
      "bottom": null,
      "display": null,
      "flex": null,
      "flex_flow": null,
      "grid_area": null,
      "grid_auto_columns": null,
      "grid_auto_flow": null,
      "grid_auto_rows": null,
      "grid_column": null,
      "grid_gap": null,
      "grid_row": null,
      "grid_template_areas": null,
      "grid_template_columns": null,
      "grid_template_rows": null,
      "height": null,
      "justify_content": null,
      "justify_items": null,
      "left": null,
      "margin": null,
      "max_height": null,
      "max_width": null,
      "min_height": null,
      "min_width": null,
      "object_fit": null,
      "object_position": null,
      "order": null,
      "overflow": null,
      "overflow_x": null,
      "overflow_y": null,
      "padding": null,
      "right": null,
      "top": null,
      "visibility": null,
      "width": null
     }
    },
    "7ca5c001961f43dca8d1cadbf4aae5f0": {
     "model_module": "@jupyter-widgets/controls",
     "model_name": "ProgressStyleModel",
     "model_module_version": "1.5.0",
     "state": {
      "_model_module": "@jupyter-widgets/controls",
      "_model_module_version": "1.5.0",
      "_model_name": "ProgressStyleModel",
      "_view_count": null,
      "_view_module": "@jupyter-widgets/base",
      "_view_module_version": "1.2.0",
      "_view_name": "StyleView",
      "bar_color": null,
      "description_width": ""
     }
    },
    "8bbc18cd2e6d4c6f83b3070cb322278d": {
     "model_module": "@jupyter-widgets/base",
     "model_name": "LayoutModel",
     "model_module_version": "1.2.0",
     "state": {
      "_model_module": "@jupyter-widgets/base",
      "_model_module_version": "1.2.0",
      "_model_name": "LayoutModel",
      "_view_count": null,
      "_view_module": "@jupyter-widgets/base",
      "_view_module_version": "1.2.0",
      "_view_name": "LayoutView",
      "align_content": null,
      "align_items": null,
      "align_self": null,
      "border": null,
      "bottom": null,
      "display": null,
      "flex": null,
      "flex_flow": null,
      "grid_area": null,
      "grid_auto_columns": null,
      "grid_auto_flow": null,
      "grid_auto_rows": null,
      "grid_column": null,
      "grid_gap": null,
      "grid_row": null,
      "grid_template_areas": null,
      "grid_template_columns": null,
      "grid_template_rows": null,
      "height": null,
      "justify_content": null,
      "justify_items": null,
      "left": null,
      "margin": null,
      "max_height": null,
      "max_width": null,
      "min_height": null,
      "min_width": null,
      "object_fit": null,
      "object_position": null,
      "order": null,
      "overflow": null,
      "overflow_x": null,
      "overflow_y": null,
      "padding": null,
      "right": null,
      "top": null,
      "visibility": null,
      "width": null
     }
    },
    "d2a72e32c92a4dd0b946218720fc8982": {
     "model_module": "@jupyter-widgets/controls",
     "model_name": "DescriptionStyleModel",
     "model_module_version": "1.5.0",
     "state": {
      "_model_module": "@jupyter-widgets/controls",
      "_model_module_version": "1.5.0",
      "_model_name": "DescriptionStyleModel",
      "_view_count": null,
      "_view_module": "@jupyter-widgets/base",
      "_view_module_version": "1.2.0",
      "_view_name": "StyleView",
      "description_width": ""
     }
    }
   }
  }
 },
 "nbformat": 4,
 "nbformat_minor": 0
}