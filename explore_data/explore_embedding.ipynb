{
 "cells": [
  {
   "cell_type": "markdown",
   "source": [
    "# Explore Chord Embedding\n",
    "Stefan/Yuzhao Heng\n",
    "Since Wed. Oct. 20th, 2021\n",
    "\n",
    "\n",
    "## Setup\n",
    "\n"
   ],
   "metadata": {
    "collapsed": false
   }
  },
  {
   "cell_type": "code",
   "execution_count": 1,
   "outputs": [
    {
     "name": "stdout",
     "output_type": "stream",
     "text": [
      "Music with NLP.md\r\n",
      "\u001B[1m\u001B[36mPapers\u001B[m\u001B[m\r\n",
      "Symbolic Music Generation with Diffusion Models.pdf\r\n",
      "\u001B[1m\u001B[36mSymbolic-Music-Generation\u001B[m\u001B[m\r\n",
      "\u001B[1m\u001B[36mdata\u001B[m\u001B[m\r\n",
      "fly-me-to-the-moon music sheet.pdf\r\n",
      "\u001B[1m\u001B[36mvenv\u001B[m\u001B[m\r\n"
     ]
    }
   ],
   "source": [
    "import os\n",
    "import pickle\n",
    "from icecream import ic\n",
    "\n",
    "os.chdir('../..')\n",
    "!ls\n",
    "\n",
    "def read_pickle(fnm):\n",
    "    objects = []\n",
    "    with (open(fnm, 'rb')) as f:\n",
    "        while True:\n",
    "            try:\n",
    "                objects.append(pickle.load(f))\n",
    "            except EOFError:\n",
    "                break\n",
    "    return objects\n"
   ],
   "metadata": {
    "collapsed": false,
    "pycharm": {
     "name": "#%%\n"
    }
   }
  },
  {
   "cell_type": "markdown",
   "source": [
    "## Previous Embedding\n",
    "Check the prior embedding from Allie Lahnala\n",
    "\n",
    "**Chord Embeddings: Analyzing What They Capture and Their Role for Next Chord Prediction and Artist Attribute Prediction**.\n",
    "Allison Lahnala, Gauri Kambhatla, Jiajun Peng, Matthew Whitehead, Gillian Minnehan, Eric Guldan, Jonathan K. Kummerfeld, Anıl Çamcı, Rada Mihalcea.\n",
    "*International Conference on Computational Intelligence in Music, Sound, Art and Design*, 2021.\n",
    "\n"
   ],
   "metadata": {
    "collapsed": false
   }
  },
  {
   "cell_type": "code",
   "execution_count": 2,
   "metadata": {
    "collapsed": true
   },
   "outputs": [
    {
     "name": "stderr",
     "output_type": "stream",
     "text": [
      "ic| len(p): 87481\n",
      "ic| p[0]: {'chord_changes': '🚫 A G/B C F/A C Cmaj7 C Am Asus2 Am G Gsus4 G F/A C Cmaj7 C '\n",
      "                            'Am Asus2 Am G Gsus4 G F/A G F/A G F/A C Gsus4 B G/B F/A C '\n",
      "                            'Gsus4 G/B F/A C Cmaj7 C Am Asus2 Am G Gsus4 G F/A C Cmaj7 C '\n",
      "                            'Am Asus2 Am G Gsus4 G F/A G F/A G F/A C Cmaj7 Gsus4 B G/B '\n",
      "                            'F/A C Gsus4 G/B F/A G/B C F/A G/B C F/A G/B C F/A G/B C F/A '\n",
      "                            'C Cmaj7 C Gsus4 B G/B F/A Am Asus2 Am Gsus4 G F/A G F/A G '\n",
      "                            'F/A G F/A G F/A C Cmaj7 C Gsus4 B G/B F/A G/B C F/A Ab Db '\n",
      "                            'Gb Bb Ab Db Gb Bb Db Bb Ab Db Bb Ab Gb Ab Gb Ab Gb Db Ab Db '\n",
      "                            'Ab Db Bb Ab Gb Db Bb Ab Gb Ab Gb Ab Db Ab Db Ab Gb Db Ab Gb '\n",
      "                            'Db Ab Gb Ab Gb Ab Gb Ab Gb Ab Gb Db Ab Db Ab Db Ab Db Ab Db '\n",
      "                            'Gb A G/B C F/A C Cmaj7 C Am Asus2 Am G Gsus4 G F/A C Cmaj7 '\n",
      "                            'C Am Asus2 Am G Gsus4 G F/A G F/A G F/A C Gsus4 B G/B F/A C '\n",
      "                            'Gsus4 G/B F/A C Cmaj7 C Am Asus2 Am G Gsus4 G F/A C Cmaj7 C '\n",
      "                            'Am Asus2 Am G Gsus4 G F/A G F/A G F/A C Cmaj7 Gsus4 B G/B '\n",
      "                            'F/A C Gsus4 G/B F/A G/B C F/A G/B C F/A G/B C F/A G/B C F/A '\n",
      "                            'C Cmaj7 C Gsus4 B G/B F/A Am Asus2 Am Gsus4 G F/A G F/A G '\n",
      "                            'F/A G F/A G F/A C Cmaj7 C Gsus4 B G/B F/A G/B C F/A',\n",
      "           'chords': '🚫 🚫 🚫 🚫 🚫 A A A A A A G/B C F/A F/A F/A C Cmaj7 C C Am Asus2 Am Am '\n",
      "                     'G G Gsus4 G F/A C Cmaj7 C C Am Asus2 Am Am G Gsus4 Gsus4 G F/A G G '\n",
      "                     'G G G F/A F/A F/A F/A G G F/A F/A F/A F/A C C C C Gsus4 B G/B F/A '\n",
      "                     'C C C C Gsus4 Gsus4 G/B F/A C Cmaj7 C Am Asus2 Am Am G Gsus4 Gsus4 '\n",
      "                     'G F/A C Cmaj7 C Am Asus2 Am Am G Gsus4 G F/A G G G G F/A F/A F/A '\n",
      "                     'F/A G F/A F/A F/A C C Cmaj7 Cmaj7 Gsus4 B G/B F/A C C C C Gsus4 '\n",
      "                     'Gsus4 G/B F/A G/B C F/A F/A F/A F/A F/A F/A G/B C F/A F/A F/A F/A '\n",
      "                     'F/A F/A G/B C F/A F/A F/A F/A F/A F/A F/A G/B C F/A F/A F/A C '\n",
      "                     'Cmaj7 C Gsus4 B G/B F/A F/A F/A F/A F/A F/A F/A Am Asus2 Am Gsus4 '\n",
      "                     'G F/A F/A F/A F/A F/A G G G G G F/A F/A F/A F/A F/A G G F/A F/A '\n",
      "                     'F/A F/A F/A G G G G F/A F/A F/A F/A F/A F/A G G G G F/A F/A F/A '\n",
      "                     'F/A F/A F/A F/A C Cmaj7 C C Gsus4 B G/B F/A F/A G/B G/B G/B C F/A '\n",
      "                     'Ab Db Gb Bb Ab Db Gb Bb Bb Bb Bb Bb Bb Bb Db Db Db Db Bb Bb Bb Ab '\n",
      "                     'Ab Ab Ab Ab Ab Db Db Db Db Bb Bb Bb Ab Ab Ab Ab Ab Ab Gb Ab Ab Ab '\n",
      "                     'Ab Ab Gb Gb Gb Gb Gb Ab Ab Ab Ab Gb Gb Gb Db Db Ab Ab Ab Ab Db Db '\n",
      "                     'Ab Ab Db Db Db Bb Bb Bb Ab Ab Ab Ab Ab Gb Db Db Db Bb Bb Bb Ab Ab '\n",
      "                     'Ab Gb Ab Ab Ab Ab Gb Gb Gb Gb Gb Ab Ab Ab Ab Ab Db Db Ab Ab Ab Ab '\n",
      "                     'Db Db Ab Ab Gb Gb Gb Gb Gb Gb Gb Gb Gb Gb Gb Gb Gb Gb Gb Gb Gb Gb '\n",
      "                     'Gb Gb Gb Db Ab Gb Gb Gb Db Ab Gb Gb Gb Ab Ab Ab Ab Ab Gb Gb Gb Gb '\n",
      "                     'Gb Ab Ab Ab Ab Gb Gb Gb Gb Ab Ab Ab Ab Gb Gb Gb Gb Gb Ab Ab Ab Ab '\n",
      "                     'Ab Gb Gb Gb Gb Db Db Ab Ab Ab Ab Db Db Ab Ab Ab Ab Db Db Ab Ab Ab '\n",
      "                     'Ab Db Db Ab Ab Ab Ab Ab Ab Db Gb Gb Gb Gb Gb Gb A A A A A A G/B C '\n",
      "                     'F/A F/A F/A C Cmaj7 C C Am Asus2 Am Am G G Gsus4 G F/A C Cmaj7 C C '\n",
      "                     'Am Asus2 Am Am G Gsus4 Gsus4 G F/A G G G G G F/A F/A F/A F/A G G '\n",
      "                     'F/A F/A F/A F/A C C C C Gsus4 B G/B F/A C C C C Gsus4 Gsus4 G/B '\n",
      "                     'F/A C Cmaj7 C Am Asus2 Am Am G Gsus4 Gsus4 G F/A C Cmaj7 C Am '\n",
      "                     'Asus2 Am Am G Gsus4 G F/A G G G G F/A F/A F/A F/A G F/A F/A F/A C '\n",
      "                     'C Cmaj7 Cmaj7 Gsus4 B G/B F/A C C C C Gsus4 Gsus4 G/B F/A G/B C '\n",
      "                     'F/A F/A F/A F/A F/A F/A G/B C F/A F/A F/A F/A F/A F/A G/B C F/A '\n",
      "                     'F/A F/A F/A F/A G/B C F/A F/A F/A C Cmaj7 C Gsus4 B G/B F/A F/A '\n",
      "                     'F/A F/A F/A F/A F/A Am Asus2 Am Gsus4 G F/A F/A F/A F/A F/A G G G '\n",
      "                     'G G F/A F/A F/A F/A F/A G G F/A F/A F/A F/A F/A G G G G F/A F/A '\n",
      "                     'F/A F/A F/A F/A G G G G F/A F/A F/A F/A F/A F/A F/A C Cmaj7 C C '\n",
      "                     'Gsus4 B G/B F/A F/A G/B G/B G/B C F/A',\n",
      "           'filename': '/local2/alcllahn/data_sets/ult-guitar/full-basic/bChordsdata_song_13052.json',\n",
      "           'lyrics': \"between the c and f/a chords. i don't hear it in the song but i \"\n",
      "                     \"also hey, you've got a lot of nerve to show your face 'round here. \"\n",
      "                     \"hey you've got a lot of nerve to dredge up all my fears. well i \"\n",
      "                     'wish i could shake some sense into you, and walk out the door... '\n",
      "                     'but your skin... is like... 🎵 🎵 porcelain... yeah your skin... is '\n",
      "                     'like... 🎵 🎵 porcelain... just the other day i felt i had you by a '\n",
      "                     'string. just the other day i felt we could be every thing. but now '\n",
      "                     \"when i see you you're somebody else, with somebody's eyes... and \"\n",
      "                     'your skin... is like... 🎵 🎵 porcelin... yeah your skin... is '\n",
      "                     \"like... 🎵 🎵 porcelain... ..... ... .........i don't know what im \"\n",
      "                     \"sayin. ..... ... .........i don't know if you're there. ..... ... \"\n",
      "                     '.........in the words, you are fading. (lyrics?) ..... ... '\n",
      "                     '.........do you even care eeeeee eeeeee eee... .. ..... ... 🎵 🎵 🎵 '\n",
      "                     '🎵 🎵 🎵 oooo hh.... .... ........ .. ahhhhhhhhh.... 🎵 🎵 🎵 🎵 well i '\n",
      "                     'wish i could kill you, and savor the sight get into my car, and '\n",
      "                     'drive into the night then lie as i scream to the heavens above '\n",
      "                     'that i was the last one you ever loved! yeah your skin... is '\n",
      "                     'like... 🎵 🎵 porcelain... (x4) yeah....... 🎵 🎵 🎵 🎵 e:--4---- 4---- '\n",
      "                     \"2---- 1-- eb:--0---- 2---- 3---- 2-- 🎵 🎵 🎵 🎵 🎵 🎵 hey, you've got a \"\n",
      "                     \"lot of nerve to show your face 'round here hey, you've got a lot \"\n",
      "                     'of nerve to dredge up all my fears 🎵 well i wish i could shake '\n",
      "                     'some sense into you and walk out the door but your skin is like '\n",
      "                     'porcelain yeah your skin is like porcelain just the other day i '\n",
      "                     'felt i had you by the strings just the other day i felt we could '\n",
      "                     \"be everything but now when i see you, you're somebody else with \"\n",
      "                     \"somebody's eyes and your skin is like porcelain yeah your skin is \"\n",
      "                     \"like porcelain i don't know what i'm sayin' i don't know if you're \"\n",
      "                     \"there in the words you are fadin' do you even care___ ___ _? 🎵 🎵 \"\n",
      "                     'ooo ooo oh 🎵 🎵 well i wish i could kill you, savor the sight get '\n",
      "                     'into my car, drive into the night then lie as i scream to the '\n",
      "                     'heavens above that i was the last one you ever loved_____ (skin is '\n",
      "                     'like) porcelain yeah your skin is like porcelain yeah your skin is '\n",
      "                     'like porcelain yeah your skin is like porcelain yeah___ 🎵 🎵 🎵 🎵 🎵 '\n",
      "                     \"between the c and f/a chords. i don't hear it in the song but i \"\n",
      "                     \"also hey, you've got a lot of nerve to show your face 'round here. \"\n",
      "                     \"hey you've got a lot of nerve to dredge up all my fears. well i \"\n",
      "                     'wish i could shake some sense into you, and walk out the door... '\n",
      "                     'but your skin... is like... 🎵 🎵 porcelain... yeah your skin... is '\n",
      "                     'like... 🎵 🎵 porcelain... just the other day i felt i had you by a '\n",
      "                     'string. just the other day i felt we could be every thing. but now '\n",
      "                     \"when i see you you're somebody else, with somebody's eyes... and \"\n",
      "                     'your skin... is like... 🎵 🎵 porcelin... yeah your skin... is '\n",
      "                     \"like... 🎵 🎵 porcelain... ..... ... .........i don't know what im \"\n",
      "                     \"sayin. ..... ... .........i don't know if you're there. ..... ... \"\n",
      "                     '.........otherwords, you are fading. (lyrics?) ..... ... '\n",
      "                     '.........do you even care eeeeee eeeeee eee... .. ..... ... 🎵 🎵 🎵 '\n",
      "                     '🎵 🎵 🎵 oooo hh.... .... ........ .. ahhhhhhhhh.... 🎵 🎵 🎵 🎵 well i '\n",
      "                     'wish i could kill you, and savor the sight get into my car, and '\n",
      "                     'drive into the night then lie as i scream to the heavens above '\n",
      "                     'that i was the last one you ever loved! yeah your skin... is '\n",
      "                     'like... 🎵 🎵 porcelain... (x4) yeah....... 🎵 🎵 🎵 🎵'}\n"
     ]
    },
    {
     "data": {
      "text/plain": "{'filename': '/local2/alcllahn/data_sets/ult-guitar/full-basic/bChordsdata_song_13052.json',\n 'chords': '🚫 🚫 🚫 🚫 🚫 A A A A A A G/B C F/A F/A F/A C Cmaj7 C C Am Asus2 Am Am G G Gsus4 G F/A C Cmaj7 C C Am Asus2 Am Am G Gsus4 Gsus4 G F/A G G G G G F/A F/A F/A F/A G G F/A F/A F/A F/A C C C C Gsus4 B G/B F/A C C C C Gsus4 Gsus4 G/B F/A C Cmaj7 C Am Asus2 Am Am G Gsus4 Gsus4 G F/A C Cmaj7 C Am Asus2 Am Am G Gsus4 G F/A G G G G F/A F/A F/A F/A G F/A F/A F/A C C Cmaj7 Cmaj7 Gsus4 B G/B F/A C C C C Gsus4 Gsus4 G/B F/A G/B C F/A F/A F/A F/A F/A F/A G/B C F/A F/A F/A F/A F/A F/A G/B C F/A F/A F/A F/A F/A F/A F/A G/B C F/A F/A F/A C Cmaj7 C Gsus4 B G/B F/A F/A F/A F/A F/A F/A F/A Am Asus2 Am Gsus4 G F/A F/A F/A F/A F/A G G G G G F/A F/A F/A F/A F/A G G F/A F/A F/A F/A F/A G G G G F/A F/A F/A F/A F/A F/A G G G G F/A F/A F/A F/A F/A F/A F/A C Cmaj7 C C Gsus4 B G/B F/A F/A G/B G/B G/B C F/A Ab Db Gb Bb Ab Db Gb Bb Bb Bb Bb Bb Bb Bb Db Db Db Db Bb Bb Bb Ab Ab Ab Ab Ab Ab Db Db Db Db Bb Bb Bb Ab Ab Ab Ab Ab Ab Gb Ab Ab Ab Ab Ab Gb Gb Gb Gb Gb Ab Ab Ab Ab Gb Gb Gb Db Db Ab Ab Ab Ab Db Db Ab Ab Db Db Db Bb Bb Bb Ab Ab Ab Ab Ab Gb Db Db Db Bb Bb Bb Ab Ab Ab Gb Ab Ab Ab Ab Gb Gb Gb Gb Gb Ab Ab Ab Ab Ab Db Db Ab Ab Ab Ab Db Db Ab Ab Gb Gb Gb Gb Gb Gb Gb Gb Gb Gb Gb Gb Gb Gb Gb Gb Gb Gb Gb Gb Gb Db Ab Gb Gb Gb Db Ab Gb Gb Gb Ab Ab Ab Ab Ab Gb Gb Gb Gb Gb Ab Ab Ab Ab Gb Gb Gb Gb Ab Ab Ab Ab Gb Gb Gb Gb Gb Ab Ab Ab Ab Ab Gb Gb Gb Gb Db Db Ab Ab Ab Ab Db Db Ab Ab Ab Ab Db Db Ab Ab Ab Ab Db Db Ab Ab Ab Ab Ab Ab Db Gb Gb Gb Gb Gb Gb A A A A A A G/B C F/A F/A F/A C Cmaj7 C C Am Asus2 Am Am G G Gsus4 G F/A C Cmaj7 C C Am Asus2 Am Am G Gsus4 Gsus4 G F/A G G G G G F/A F/A F/A F/A G G F/A F/A F/A F/A C C C C Gsus4 B G/B F/A C C C C Gsus4 Gsus4 G/B F/A C Cmaj7 C Am Asus2 Am Am G Gsus4 Gsus4 G F/A C Cmaj7 C Am Asus2 Am Am G Gsus4 G F/A G G G G F/A F/A F/A F/A G F/A F/A F/A C C Cmaj7 Cmaj7 Gsus4 B G/B F/A C C C C Gsus4 Gsus4 G/B F/A G/B C F/A F/A F/A F/A F/A F/A G/B C F/A F/A F/A F/A F/A F/A G/B C F/A F/A F/A F/A F/A G/B C F/A F/A F/A C Cmaj7 C Gsus4 B G/B F/A F/A F/A F/A F/A F/A F/A Am Asus2 Am Gsus4 G F/A F/A F/A F/A F/A G G G G G F/A F/A F/A F/A F/A G G F/A F/A F/A F/A F/A G G G G F/A F/A F/A F/A F/A F/A G G G G F/A F/A F/A F/A F/A F/A F/A C Cmaj7 C C Gsus4 B G/B F/A F/A G/B G/B G/B C F/A',\n 'chord_changes': '🚫 A G/B C F/A C Cmaj7 C Am Asus2 Am G Gsus4 G F/A C Cmaj7 C Am Asus2 Am G Gsus4 G F/A G F/A G F/A C Gsus4 B G/B F/A C Gsus4 G/B F/A C Cmaj7 C Am Asus2 Am G Gsus4 G F/A C Cmaj7 C Am Asus2 Am G Gsus4 G F/A G F/A G F/A C Cmaj7 Gsus4 B G/B F/A C Gsus4 G/B F/A G/B C F/A G/B C F/A G/B C F/A G/B C F/A C Cmaj7 C Gsus4 B G/B F/A Am Asus2 Am Gsus4 G F/A G F/A G F/A G F/A G F/A C Cmaj7 C Gsus4 B G/B F/A G/B C F/A Ab Db Gb Bb Ab Db Gb Bb Db Bb Ab Db Bb Ab Gb Ab Gb Ab Gb Db Ab Db Ab Db Bb Ab Gb Db Bb Ab Gb Ab Gb Ab Db Ab Db Ab Gb Db Ab Gb Db Ab Gb Ab Gb Ab Gb Ab Gb Ab Gb Db Ab Db Ab Db Ab Db Ab Db Gb A G/B C F/A C Cmaj7 C Am Asus2 Am G Gsus4 G F/A C Cmaj7 C Am Asus2 Am G Gsus4 G F/A G F/A G F/A C Gsus4 B G/B F/A C Gsus4 G/B F/A C Cmaj7 C Am Asus2 Am G Gsus4 G F/A C Cmaj7 C Am Asus2 Am G Gsus4 G F/A G F/A G F/A C Cmaj7 Gsus4 B G/B F/A C Gsus4 G/B F/A G/B C F/A G/B C F/A G/B C F/A G/B C F/A C Cmaj7 C Gsus4 B G/B F/A Am Asus2 Am Gsus4 G F/A G F/A G F/A G F/A G F/A C Cmaj7 C Gsus4 B G/B F/A G/B C F/A',\n 'lyrics': \"between the c and f/a chords. i don't hear it in the song but i also hey, you've got a lot of nerve to show your face 'round here. hey you've got a lot of nerve to dredge up all my fears. well i wish i could shake some sense into you, and walk out the door... but your skin... is like... 🎵 🎵 porcelain... yeah your skin... is like... 🎵 🎵 porcelain... just the other day i felt i had you by a string. just the other day i felt we could be every thing. but now when i see you you're somebody else, with somebody's eyes... and your skin... is like... 🎵 🎵 porcelin... yeah your skin... is like... 🎵 🎵 porcelain... ..... ... .........i don't know what im sayin. ..... ... .........i don't know if you're there. ..... ... .........in the words, you are fading. (lyrics?) ..... ... .........do you even care eeeeee eeeeee eee... .. ..... ... 🎵 🎵 🎵 🎵 🎵 🎵 oooo hh.... .... ........ .. ahhhhhhhhh.... 🎵 🎵 🎵 🎵 well i wish i could kill you, and savor the sight get into my car, and drive into the night then lie as i scream to the heavens above that i was the last one you ever loved! yeah your skin... is like... 🎵 🎵 porcelain... (x4) yeah....... 🎵 🎵 🎵 🎵 e:--4---- 4---- 2---- 1-- eb:--0---- 2---- 3---- 2-- 🎵 🎵 🎵 🎵 🎵 🎵 hey, you've got a lot of nerve to show your face 'round here hey, you've got a lot of nerve to dredge up all my fears 🎵 well i wish i could shake some sense into you and walk out the door but your skin is like porcelain yeah your skin is like porcelain just the other day i felt i had you by the strings just the other day i felt we could be everything but now when i see you, you're somebody else with somebody's eyes and your skin is like porcelain yeah your skin is like porcelain i don't know what i'm sayin' i don't know if you're there in the words you are fadin' do you even care___ ___ _? 🎵 🎵 ooo ooo oh 🎵 🎵 well i wish i could kill you, savor the sight get into my car, drive into the night then lie as i scream to the heavens above that i was the last one you ever loved_____ (skin is like) porcelain yeah your skin is like porcelain yeah your skin is like porcelain yeah your skin is like porcelain yeah___ 🎵 🎵 🎵 🎵 🎵 between the c and f/a chords. i don't hear it in the song but i also hey, you've got a lot of nerve to show your face 'round here. hey you've got a lot of nerve to dredge up all my fears. well i wish i could shake some sense into you, and walk out the door... but your skin... is like... 🎵 🎵 porcelain... yeah your skin... is like... 🎵 🎵 porcelain... just the other day i felt i had you by a string. just the other day i felt we could be every thing. but now when i see you you're somebody else, with somebody's eyes... and your skin... is like... 🎵 🎵 porcelin... yeah your skin... is like... 🎵 🎵 porcelain... ..... ... .........i don't know what im sayin. ..... ... .........i don't know if you're there. ..... ... .........otherwords, you are fading. (lyrics?) ..... ... .........do you even care eeeeee eeeeee eee... .. ..... ... 🎵 🎵 🎵 🎵 🎵 🎵 oooo hh.... .... ........ .. ahhhhhhhhh.... 🎵 🎵 🎵 🎵 well i wish i could kill you, and savor the sight get into my car, and drive into the night then lie as i scream to the heavens above that i was the last one you ever loved! yeah your skin... is like... 🎵 🎵 porcelain... (x4) yeah....... 🎵 🎵 🎵 🎵\"}"
     },
     "execution_count": 2,
     "metadata": {},
     "output_type": "execute_result"
    }
   ],
   "source": [
    "# f = open('data/full_song_objects.pickle', 'r')\n",
    "# ic(f)\n",
    "# ic(pickle.load(f))\n",
    "\n",
    "p = read_pickle('data/full_song_objects.pickle')[0]\n",
    "ic(len(p))\n",
    "ic(p[0])\n"
   ]
  }
 ],
 "metadata": {
  "kernelspec": {
   "display_name": "Python 3",
   "language": "python",
   "name": "python3"
  },
  "language_info": {
   "codemirror_mode": {
    "name": "ipython",
    "version": 2
   },
   "file_extension": ".py",
   "mimetype": "text/x-python",
   "name": "python",
   "nbconvert_exporter": "python",
   "pygments_lexer": "ipython2",
   "version": "2.7.6"
  }
 },
 "nbformat": 4,
 "nbformat_minor": 0
}