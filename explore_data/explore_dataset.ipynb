{
 "cells": [
  {
   "cell_type": "markdown",
   "source": [
    "# Explore datasets\n",
    "Since Tues. Nov. 9th, 2021\n",
    "\n",
    "\n",
    "## Setup\n",
    "\n"
   ],
   "metadata": {
    "collapsed": false
   }
  },
  {
   "cell_type": "code",
   "execution_count": 1,
   "outputs": [],
   "source": [
    "import os\n",
    "import glob\n",
    "\n",
    "from icecream import ic\n",
    "\n",
    "from util import *\n",
    "\n",
    "\n",
    "# os.chdir('../../datasets')\n",
    "\n"
   ],
   "metadata": {
    "collapsed": false,
    "pycharm": {
     "name": "#%%\n"
    }
   }
  },
  {
   "cell_type": "markdown",
   "source": [
    "## The Lakh MIDI Dataset\n",
    "\n"
   ],
   "metadata": {
    "collapsed": false
   }
  },
  {
   "cell_type": "code",
   "execution_count": 5,
   "metadata": {
    "collapsed": true
   },
   "outputs": [
    {
     "name": "stderr",
     "output_type": "stream",
     "text": [
      "ic| dset_dir: 'Lakh-MIDI-Dataset/LMD-Matched'\n",
      "ic| fmt: ('/Users/stefanh/Documents/UMich/Research/Music with '\n",
      "          'NLP/datasets/Lakh-MIDI-Dataset/LMD-Matched/**/*.mid')\n",
      "ic| midis[:5]: ['/Users/stefanh/Documents/UMich/Research/Music with '\n",
      "                'NLP/datasets/Lakh-MIDI-Dataset/LMD-Matched/A/A/A/TRAAAGR128F425B14B/1d9d16a9da90c090809c153754823c2b.mid',\n",
      "                '/Users/stefanh/Documents/UMich/Research/Music with '\n",
      "                'NLP/datasets/Lakh-MIDI-Dataset/LMD-Matched/A/A/A/TRAAAGR128F425B14B/5dd29e99ed7bd3cc0c5177a6e9de22ea.mid',\n",
      "                '/Users/stefanh/Documents/UMich/Research/Music with '\n",
      "                'NLP/datasets/Lakh-MIDI-Dataset/LMD-Matched/A/A/A/TRAAAGR128F425B14B/b97c529ab9ef783a849b896816001748.mid',\n",
      "                '/Users/stefanh/Documents/UMich/Research/Music with '\n",
      "                'NLP/datasets/Lakh-MIDI-Dataset/LMD-Matched/A/A/A/TRAAAGR128F425B14B/dac3cdd0db6341d8dc14641e44ed0d44.mid',\n",
      "                '/Users/stefanh/Documents/UMich/Research/Music with '\n",
      "                'NLP/datasets/Lakh-MIDI-Dataset/LMD-Matched/A/A/A/TRAAAZF12903CCCF6B/05f21994c71a5f881e64f45c8d706165.mid']\n",
      "    len(midis): 116189\n"
     ]
    },
    {
     "data": {
      "text/plain": "(['/Users/stefanh/Documents/UMich/Research/Music with NLP/datasets/Lakh-MIDI-Dataset/LMD-Matched/A/A/A/TRAAAGR128F425B14B/1d9d16a9da90c090809c153754823c2b.mid',\n  '/Users/stefanh/Documents/UMich/Research/Music with NLP/datasets/Lakh-MIDI-Dataset/LMD-Matched/A/A/A/TRAAAGR128F425B14B/5dd29e99ed7bd3cc0c5177a6e9de22ea.mid',\n  '/Users/stefanh/Documents/UMich/Research/Music with NLP/datasets/Lakh-MIDI-Dataset/LMD-Matched/A/A/A/TRAAAGR128F425B14B/b97c529ab9ef783a849b896816001748.mid',\n  '/Users/stefanh/Documents/UMich/Research/Music with NLP/datasets/Lakh-MIDI-Dataset/LMD-Matched/A/A/A/TRAAAGR128F425B14B/dac3cdd0db6341d8dc14641e44ed0d44.mid',\n  '/Users/stefanh/Documents/UMich/Research/Music with NLP/datasets/Lakh-MIDI-Dataset/LMD-Matched/A/A/A/TRAAAZF12903CCCF6B/05f21994c71a5f881e64f45c8d706165.mid'],\n 116189)"
     },
     "execution_count": 5,
     "metadata": {},
     "output_type": "execute_result"
    }
   ],
   "source": [
    "dset_dir = config('datasets.LMD_matched.dir_nm')\n",
    "ic(dset_dir)\n",
    "\n",
    "midis = sorted(glob.iglob(f'{PATH_BASE}/{DIR_DSET}/{dset_dir}/**/*.mid', recursive=True))\n",
    "ic(midis[:5], len(midis))\n"
   ]
  }
 ],
 "metadata": {
  "kernelspec": {
   "display_name": "Python 3",
   "language": "python",
   "name": "python3"
  },
  "language_info": {
   "codemirror_mode": {
    "name": "ipython",
    "version": 2
   },
   "file_extension": ".py",
   "mimetype": "text/x-python",
   "name": "python",
   "nbconvert_exporter": "python",
   "pygments_lexer": "ipython2",
   "version": "2.7.6"
  }
 },
 "nbformat": 4,
 "nbformat_minor": 0
}